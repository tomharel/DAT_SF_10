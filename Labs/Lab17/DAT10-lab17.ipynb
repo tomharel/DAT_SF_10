{
 "metadata": {
  "name": "",
  "signature": "sha256:d1350d2e8d9880e454f46b5eba8df25a5545b9f075bb42f542e1188cb283e32b"
 },
 "nbformat": 3,
 "nbformat_minor": 0,
 "worksheets": [
  {
   "cells": [
    {
     "cell_type": "markdown",
     "metadata": {},
     "source": [
      "# GA Data Science 10 (DAT10) - Lab 17\n",
      "## IPython Parallel for Machine Learning\n",
      "\n",
      "\n",
      "Francesco Mosconi\n",
      "\n",
      "Chief Data Officer @ [Spire Inc.](www.spire.io)\n",
      "\n",
      "\n",
      "\n",
      "Thanks to [Olivier Grisel Parallel ML Tutorial](https://github.com/ogrisel/parallel_ml_tutorial)"
     ]
    },
    {
     "cell_type": "code",
     "collapsed": false,
     "input": [
      "%matplotlib inline\n",
      "import matplotlib.pyplot as plt\n",
      "import numpy as np\n",
      "\n",
      "# Some nice default configuration for plots\n",
      "plt.rcParams['figure.figsize'] = 10, 7.5\n",
      "plt.rcParams['axes.grid'] = True\n",
      "plt.gray()"
     ],
     "language": "python",
     "metadata": {
      "slideshow": {
       "slide_type": "slide"
      }
     },
     "outputs": [
      {
       "metadata": {},
       "output_type": "display_data",
       "text": [
        "<matplotlib.figure.Figure at 0x10661b510>"
       ]
      }
     ],
     "prompt_number": 2
    },
    {
     "cell_type": "heading",
     "level": 1,
     "metadata": {},
     "source": [
      "Distributed Model Selection and Assessment"
     ]
    },
    {
     "cell_type": "markdown",
     "metadata": {},
     "source": [
      "Outline of the session:\n",
      "\n",
      "- Introduction to **IPython.parallel**\n",
      "- Sharing Data Between Processes with **Memory Mapping**\n",
      "- Assigning tasks with **Joblib**\n",
      "- **Parallel Grid Search** and Model Selection"
     ]
    },
    {
     "cell_type": "heading",
     "level": 2,
     "metadata": {},
     "source": [
      "Motivation"
     ]
    },
    {
     "cell_type": "markdown",
     "metadata": {},
     "source": [
      "When doing model evaluations and parameters tuning, many models must be trained independently on the same data. This is an embarrassingly parallel problem but having a copy of the dataset in memory for each process is waste of RAM:\n",
      "\n",
      "<img src=\"./assets/grid_search_parameters.png\" style=\"display:inline; width: 49%\" />\n",
      "<img src=\"./assets/grid_search_cv_splits.png\" style=\"display:inline; width: 49%\" />\n",
      "\n",
      "When doing 3 folds cross validation on a 9 parameters grid, a naive implementation could read the data from the disk and load it in memory 27 times. If this happens concurrently (e.g. on a compute node with 32 cores) the RAM might blow up hence breaking the potential linear speed up."
     ]
    },
    {
     "cell_type": "heading",
     "level": 2,
     "metadata": {},
     "source": [
      "IPython.parallel, a Primer"
     ]
    },
    {
     "cell_type": "markdown",
     "metadata": {},
     "source": [
      "This section gives a primer on some tools best utilizing computational resources when doing predictive modeling in the Python / NumPy ecosystem namely:\n",
      "\n",
      "- optimal usage of available CPUs and cluster nodes with **`IPython.parallel`**\n",
      "\n",
      "- optimal memory re-use using shared memory between Python processes using **`numpy.memmap`** and **`joblib`**\n",
      "\n",
      "### What is so great about `IPython.parallel`:\n",
      "\n",
      "- Single node multi-CPUs\n",
      "- Multiple node multi-CPUs\n",
      "- Interactive In-memory computing\n",
      "- IPython notebook integration with `%px` and `%%px` magics\n",
      "- Possibility to interactively connect to individual computing processes to launch interactive debugger (`#priceless`)\n",
      "\n",
      "### Let's get started:\n",
      "\n",
      "Let start an IPython cluster using the `ipcluster` common (usually run from your operating system console). To make sure that we are not running several clusters on the same host, let's try to shut down any running IPython cluster first:"
     ]
    },
    {
     "cell_type": "code",
     "collapsed": false,
     "input": [
      "!ipcluster stop"
     ],
     "language": "python",
     "metadata": {},
     "outputs": [
      {
       "output_type": "stream",
       "stream": "stdout",
       "text": [
        "2014-12-01 18:55:18.242 [IPClusterStop] Using existing profile dir: u'/Users/Craig_Sakuma/.ipython/profile_default'\r\n",
        "2014-12-01 18:55:18.270 [IPClusterStop] Stopping cluster [pid=6810] with [signal=2]\r\n"
       ]
      }
     ],
     "prompt_number": 5
    },
    {
     "cell_type": "code",
     "collapsed": false,
     "input": [
      "!ipcluster start -n=2 --daemon"
     ],
     "language": "python",
     "metadata": {},
     "outputs": [
      {
       "output_type": "stream",
       "stream": "stdout",
       "text": [
        "2014-12-01 18:55:25.581 [IPClusterStart] Using existing profile dir: u'/Users/Craig_Sakuma/.ipython/profile_default'\r\n"
       ]
      }
     ],
     "prompt_number": 6
    },
    {
     "cell_type": "markdown",
     "metadata": {},
     "source": [
      "Go to the \"Cluster\" tab of the notebook and **start a local cluster with 2 engines**. Then come back here. We should now be able to use our cluster from our notebook session (or any other Python process running on localhost):"
     ]
    },
    {
     "cell_type": "code",
     "collapsed": false,
     "input": [
      "from IPython.parallel import Client\n",
      "client = Client()"
     ],
     "language": "python",
     "metadata": {},
     "outputs": [],
     "prompt_number": 7
    },
    {
     "cell_type": "code",
     "collapsed": false,
     "input": [
      "len(client)"
     ],
     "language": "python",
     "metadata": {},
     "outputs": [
      {
       "metadata": {},
       "output_type": "pyout",
       "prompt_number": 9,
       "text": [
        "2"
       ]
      }
     ],
     "prompt_number": 9
    },
    {
     "cell_type": "markdown",
     "metadata": {},
     "source": [
      "#### The %px and %%px magics\n",
      "\n",
      "All the engines of the client can be accessed imperatively using the `%px` and `%%px` IPython cell magics:"
     ]
    },
    {
     "cell_type": "markdown",
     "metadata": {},
     "source": [
      "The %px magic executes a single Python command on the engines specified by the targets attribute of the DirectView instance.\n",
      "\n",
      "%%px can be used as a Cell Magic"
     ]
    },
    {
     "cell_type": "code",
     "collapsed": false,
     "input": [
      "%%px\n",
      "\n",
      "import os\n",
      "import socket\n",
      "\n",
      "print(\"This is running in process with pid {0} on host '{1}'.\".format(\n",
      "      os.getpid(), socket.gethostname()))"
     ],
     "language": "python",
     "metadata": {},
     "outputs": [
      {
       "output_type": "stream",
       "stream": "stdout",
       "text": [
        "[stdout:0] This is running in process with pid 6842 on host 'Craigs-MacBook-Air.local'.\n",
        "[stdout:1] This is running in process with pid 6843 on host 'Craigs-MacBook-Air.local'.\n"
       ]
      }
     ],
     "prompt_number": 10
    },
    {
     "cell_type": "markdown",
     "metadata": {},
     "source": [
      "The content of the `__main__` namespace can also be read and written via the `%px` magic:"
     ]
    },
    {
     "cell_type": "code",
     "collapsed": false,
     "input": [
      "%px a = 1"
     ],
     "language": "python",
     "metadata": {},
     "outputs": [],
     "prompt_number": 11
    },
    {
     "cell_type": "code",
     "collapsed": false,
     "input": [
      "%px print(a)"
     ],
     "language": "python",
     "metadata": {},
     "outputs": [
      {
       "output_type": "stream",
       "stream": "stdout",
       "text": [
        "[stdout:0] 1\n",
        "[stdout:1] 1\n"
       ]
      }
     ],
     "prompt_number": 12
    },
    {
     "cell_type": "code",
     "collapsed": false,
     "input": [
      "a =2\n",
      "print(a)"
     ],
     "language": "python",
     "metadata": {},
     "outputs": [
      {
       "output_type": "stream",
       "stream": "stdout",
       "text": [
        "2\n"
       ]
      }
     ],
     "prompt_number": 13
    },
    {
     "cell_type": "code",
     "collapsed": false,
     "input": [
      "%px print(a)"
     ],
     "language": "python",
     "metadata": {},
     "outputs": [
      {
       "output_type": "stream",
       "stream": "stdout",
       "text": [
        "[stdout:0] 1\n",
        "[stdout:1] 1\n"
       ]
      }
     ],
     "prompt_number": 14
    },
    {
     "cell_type": "code",
     "collapsed": false,
     "input": [
      "%%px\n",
      "\n",
      "a *= 2\n",
      "print(a)"
     ],
     "language": "python",
     "metadata": {},
     "outputs": [
      {
       "output_type": "stream",
       "stream": "stdout",
       "text": [
        "[stdout:0] 2\n",
        "[stdout:1] 2\n"
       ]
      }
     ],
     "prompt_number": 15
    },
    {
     "cell_type": "markdown",
     "metadata": {},
     "source": [
      "It is possible to restrict the `%px` and `%%px` magic instructions to specific engines:"
     ]
    },
    {
     "cell_type": "code",
     "collapsed": false,
     "input": [
      "%%px --targets=-1\n",
      "a *= 2\n",
      "print(a)"
     ],
     "language": "python",
     "metadata": {},
     "outputs": [
      {
       "output_type": "stream",
       "stream": "stdout",
       "text": [
        "4\n"
       ]
      }
     ],
     "prompt_number": 16
    },
    {
     "cell_type": "code",
     "collapsed": false,
     "input": [
      "%px print(a)"
     ],
     "language": "python",
     "metadata": {},
     "outputs": [
      {
       "output_type": "stream",
       "stream": "stdout",
       "text": [
        "[stdout:0] 2\n",
        "[stdout:1] 4\n"
       ]
      }
     ],
     "prompt_number": 17
    },
    {
     "cell_type": "markdown",
     "metadata": {},
     "source": [
      "#### The DirectView objects\n",
      "\n",
      "Cell magics are very nice to work interactively from the notebook but it's also possible to replicate their behavior programmatically with more flexibility with a `DirectView` instance. A `DirectView` can be created by slicing the client object:"
     ]
    },
    {
     "cell_type": "code",
     "collapsed": false,
     "input": [
      "all_engines = client[:]\n",
      "all_engines"
     ],
     "language": "python",
     "metadata": {},
     "outputs": [
      {
       "metadata": {},
       "output_type": "pyout",
       "prompt_number": 18,
       "text": [
        "<DirectView [0, 1]>"
       ]
      }
     ],
     "prompt_number": 18
    },
    {
     "cell_type": "markdown",
     "metadata": {},
     "source": [
      "The namespace of the `__main__` module of each running python engine can be accessed in read and write mode as a python dictionary:"
     ]
    },
    {
     "cell_type": "code",
     "collapsed": false,
     "input": [
      "all_engines['a'] = 1"
     ],
     "language": "python",
     "metadata": {},
     "outputs": [],
     "prompt_number": 19
    },
    {
     "cell_type": "code",
     "collapsed": false,
     "input": [
      "all_engines['a']"
     ],
     "language": "python",
     "metadata": {},
     "outputs": [
      {
       "metadata": {},
       "output_type": "pyout",
       "prompt_number": 20,
       "text": [
        "[1, 1]"
       ]
      }
     ],
     "prompt_number": 20
    },
    {
     "cell_type": "markdown",
     "metadata": {},
     "source": [
      "Direct views can also execute the same code in parallel on each engine of the view:"
     ]
    },
    {
     "cell_type": "code",
     "collapsed": false,
     "input": [
      "def my_sum(a, b):\n",
      "    return a + b\n",
      "\n",
      "my_sum_apply_results = all_engines.apply(my_sum, 11, 31)\n",
      "my_sum_apply_results"
     ],
     "language": "python",
     "metadata": {},
     "outputs": [
      {
       "metadata": {},
       "output_type": "pyout",
       "prompt_number": 21,
       "text": [
        "<AsyncResult: my_sum>"
       ]
      }
     ],
     "prompt_number": 21
    },
    {
     "cell_type": "markdown",
     "metadata": {},
     "source": [
      "The ouput of the `apply` method is an asynchronous handle returned immediately without waiting for the end of the computation. To block until the results are ready use:"
     ]
    },
    {
     "cell_type": "code",
     "collapsed": false,
     "input": [
      "my_sum_apply_results.get()"
     ],
     "language": "python",
     "metadata": {},
     "outputs": [
      {
       "metadata": {},
       "output_type": "pyout",
       "prompt_number": 22,
       "text": [
        "[42, 42]"
       ]
      }
     ],
     "prompt_number": 22
    },
    {
     "cell_type": "markdown",
     "metadata": {},
     "source": [
      "Here is a more useful example to fetch the network hostname of each engine in the cluster. Let's study it in more details:"
     ]
    },
    {
     "cell_type": "code",
     "collapsed": false,
     "input": [
      "def hostname():\n",
      "    \"\"\"Return the name of the host where the function is being called\"\"\"\n",
      "    import socket\n",
      "    return socket.gethostname()\n",
      "\n",
      "hostname_apply_result = all_engines.apply(hostname)"
     ],
     "language": "python",
     "metadata": {},
     "outputs": [],
     "prompt_number": 23
    },
    {
     "cell_type": "markdown",
     "metadata": {},
     "source": [
      "When doing the above, the `hostname` function is first defined locally (the client python process). The `DirectView.apply` method introspects it, serializes its name and bytecode and ships it to each engine of the cluster where it is reconstructed as local function on each engine. This function is then called on each engine of the view with the optionally provided arguments.\n",
      "\n",
      "In return, the client gets a python object that serves as an handle to asynchronously fetch the list of the results of the calls:"
     ]
    },
    {
     "cell_type": "code",
     "collapsed": false,
     "input": [
      "hostname_apply_result"
     ],
     "language": "python",
     "metadata": {},
     "outputs": [
      {
       "metadata": {},
       "output_type": "pyout",
       "prompt_number": 24,
       "text": [
        "<AsyncResult: finished>"
       ]
      }
     ],
     "prompt_number": 24
    },
    {
     "cell_type": "code",
     "collapsed": false,
     "input": [
      "hostname_apply_result.get()"
     ],
     "language": "python",
     "metadata": {},
     "outputs": [
      {
       "metadata": {},
       "output_type": "pyout",
       "prompt_number": 25,
       "text": [
        "['Craigs-MacBook-Air.local', 'Craigs-MacBook-Air.local']"
       ]
      }
     ],
     "prompt_number": 25
    },
    {
     "cell_type": "markdown",
     "metadata": {},
     "source": [
      "It is also possible to key the results explicitly with the engine ids with the `AsyncResult.get_dict` method. This is a very simple idiom to fetch metadata on the runtime environment of each engine of the direct view:"
     ]
    },
    {
     "cell_type": "code",
     "collapsed": false,
     "input": [
      "hostnames = hostname_apply_result.get_dict()\n",
      "hostnames"
     ],
     "language": "python",
     "metadata": {},
     "outputs": [
      {
       "metadata": {},
       "output_type": "pyout",
       "prompt_number": 26,
       "text": [
        "{0: 'Craigs-MacBook-Air.local', 1: 'Craigs-MacBook-Air.local'}"
       ]
      }
     ],
     "prompt_number": 26
    },
    {
     "cell_type": "markdown",
     "metadata": {},
     "source": [
      "It can be handy to invert this mapping to find one engine id per host in the cluster so as to execute host specific operation:"
     ]
    },
    {
     "cell_type": "code",
     "collapsed": false,
     "input": [
      "one_engine_by_host = dict((hostname, engine_id) for engine_id, hostname\n",
      "                      in hostnames.items())\n",
      "one_engine_by_host"
     ],
     "language": "python",
     "metadata": {},
     "outputs": [
      {
       "metadata": {},
       "output_type": "pyout",
       "prompt_number": 27,
       "text": [
        "{'Craigs-MacBook-Air.local': 1}"
       ]
      }
     ],
     "prompt_number": 27
    },
    {
     "cell_type": "code",
     "collapsed": false,
     "input": [
      "one_engine_per_host_view = client[one_engine_by_host.values()]\n",
      "one_engine_per_host_view"
     ],
     "language": "python",
     "metadata": {},
     "outputs": [
      {
       "metadata": {},
       "output_type": "pyout",
       "prompt_number": 28,
       "text": [
        "<DirectView [1]>"
       ]
      }
     ],
     "prompt_number": 28
    },
    {
     "cell_type": "markdown",
     "metadata": {},
     "source": [
      "**Trick:** you can even use those engines ids to execute shell commands in parallel on each host of the cluster:"
     ]
    },
    {
     "cell_type": "code",
     "collapsed": false,
     "input": [
      "one_engine_by_host.values()"
     ],
     "language": "python",
     "metadata": {},
     "outputs": [
      {
       "metadata": {},
       "output_type": "pyout",
       "prompt_number": 29,
       "text": [
        "[1]"
       ]
      }
     ],
     "prompt_number": 29
    },
    {
     "cell_type": "code",
     "collapsed": false,
     "input": [
      "%%px --targets=[1]\n",
      "\n",
      "!pip install flask"
     ],
     "language": "python",
     "metadata": {},
     "outputs": [
      {
       "output_type": "stream",
       "stream": "stdout",
       "text": [
        "[stdout:1] \n",
        "Requirement already satisfied (use --upgrade to upgrade): flask in /Users/Craig_Sakuma/anaconda/lib/python2.7/site-packages\r\n",
        "Cleaning up...\r\n"
       ]
      }
     ],
     "prompt_number": 30
    },
    {
     "cell_type": "markdown",
     "metadata": {},
     "source": [
      "#### Note on Importing Modules on Remote Engines\n",
      "\n",
      "In the previous example we put the `import socket` statement inside the body of the `hostname` function to make sure to make sure that is is available when the rest of the function is executed in the python processes of the remote engines.\n",
      "\n",
      "Alternatively it is possible to import the required modules ahead of time on all the engines of a directview using a context manager / with syntax:"
     ]
    },
    {
     "cell_type": "code",
     "collapsed": false,
     "input": [
      "with all_engines.sync_imports():\n",
      "    import numpy"
     ],
     "language": "python",
     "metadata": {},
     "outputs": [
      {
       "output_type": "stream",
       "stream": "stdout",
       "text": [
        "importing numpy on engine(s)\n"
       ]
      }
     ],
     "prompt_number": 31
    },
    {
     "cell_type": "markdown",
     "metadata": {},
     "source": [
      "However this method does **not** support alternative import syntaxes:\n",
      "    \n",
      "    >>> import numpy as np\n",
      "    >>> from numpy import linalg"
     ]
    },
    {
     "cell_type": "markdown",
     "metadata": {},
     "source": [
      "Hence the method of importing in the body of the \"applied\" functions is more flexible. Additionally, this does not pollute the `__main__` namespace of the engines as it only impact the local namespace of the function itself."
     ]
    },
    {
     "cell_type": "markdown",
     "metadata": {},
     "source": [
      "**Exercise**:\n",
      "\n",
      "- Write a function that returns the memory usage of each engine process in the cluster.\n",
      "- Allocate a largish numpy array of zeros of known size (e.g. 100MB) on each engine of the cluster.\n",
      "\n",
      "Hints:\n",
      "\n",
      "Use the `psutil` module to collect the runtime info on a specific process or host. For instance to fetch the memory usage of the currently running process in MB:\n",
      "\n",
      "    >>> import os\n",
      "    >>> import psutil\n",
      "    >>> psutil.Process(os.getpid()).get_memory_info().rss / 1e6\n",
      "\n",
      "To allocate a numpy array with 1000 zeros stored as 64bit floats you can use:\n",
      "\n",
      "    >>> import numpy as np\n",
      "    >>> z = np.zeros(1000, dtype=np.float64)\n",
      "\n",
      "The size in bytes of such a numpy array can then be fetched with ``z.nbytes``:\n",
      "    \n",
      "    >>> z.nbytes / 1e6\n",
      "    0.008"
     ]
    },
    {
     "cell_type": "code",
     "collapsed": false,
     "input": [
      "def get_engines_memory(client):\n",
      "    def memory_mb():\n",
      "        import os, psutil\n",
      "        return psutil.Process(os.getpid()).get_memory_info().rss / 1e6\n",
      "    \n",
      "    return client[:].apply(memory_mb).get_dict()"
     ],
     "language": "python",
     "metadata": {},
     "outputs": [],
     "prompt_number": 32
    },
    {
     "cell_type": "code",
     "collapsed": false,
     "input": [
      "get_engines_memory(client)"
     ],
     "language": "python",
     "metadata": {},
     "outputs": [
      {
       "metadata": {},
       "output_type": "pyout",
       "prompt_number": 33,
       "text": [
        "{0: 38.719488, 1: 38.760448}"
       ]
      }
     ],
     "prompt_number": 33
    },
    {
     "cell_type": "code",
     "collapsed": false,
     "input": [
      "sum(get_engines_memory(client).values())"
     ],
     "language": "python",
     "metadata": {},
     "outputs": [
      {
       "metadata": {},
       "output_type": "pyout",
       "prompt_number": 34,
       "text": [
        "77.484032"
       ]
      }
     ],
     "prompt_number": 34
    },
    {
     "cell_type": "code",
     "collapsed": false,
     "input": [
      "%%px\n",
      "import numpy as np\n",
      "z = np.zeros(int(1e7), dtype=np.float64)\n",
      "print(\"Allocated {0}MB on engine.\".format(z.nbytes / 1e6))"
     ],
     "language": "python",
     "metadata": {},
     "outputs": [
      {
       "output_type": "stream",
       "stream": "stdout",
       "text": [
        "[stdout:0] Allocated 80.0MB on engine.\n",
        "[stdout:1] Allocated 80.0MB on engine.\n"
       ]
      }
     ],
     "prompt_number": 35
    },
    {
     "cell_type": "code",
     "collapsed": false,
     "input": [
      "get_engines_memory(client)"
     ],
     "language": "python",
     "metadata": {},
     "outputs": [
      {
       "metadata": {},
       "output_type": "pyout",
       "prompt_number": 36,
       "text": [
        "{0: 38.752256, 1: 38.797312}"
       ]
      }
     ],
     "prompt_number": 36
    },
    {
     "cell_type": "heading",
     "level": 4,
     "metadata": {},
     "source": [
      "Load Balanced View"
     ]
    },
    {
     "cell_type": "markdown",
     "metadata": {},
     "source": [
      "`LoadBalancedView` is an alternative to the `DirectView` to run one function call at a time on a free engine."
     ]
    },
    {
     "cell_type": "code",
     "collapsed": false,
     "input": [
      "lv = client.load_balanced_view()"
     ],
     "language": "python",
     "metadata": {},
     "outputs": [],
     "prompt_number": 37
    },
    {
     "cell_type": "code",
     "collapsed": false,
     "input": [
      "def slow_square(x):\n",
      "    import time\n",
      "    time.sleep(5)\n",
      "    return x ** 2"
     ],
     "language": "python",
     "metadata": {},
     "outputs": [],
     "prompt_number": 38
    },
    {
     "cell_type": "code",
     "collapsed": false,
     "input": [
      "result = lv.apply(slow_square, 4)\n",
      "result1 = lv.apply(slow_square, 3)\n",
      "result2 = lv.apply(slow_square, 2)"
     ],
     "language": "python",
     "metadata": {},
     "outputs": [],
     "prompt_number": 39
    },
    {
     "cell_type": "code",
     "collapsed": false,
     "input": [
      "print result\n",
      "print result1\n",
      "print result2"
     ],
     "language": "python",
     "metadata": {},
     "outputs": [
      {
       "output_type": "stream",
       "stream": "stdout",
       "text": [
        "<AsyncResult: slow_square>\n",
        "<AsyncResult: slow_square>\n",
        "<AsyncResult: slow_square>\n"
       ]
      }
     ],
     "prompt_number": 40
    },
    {
     "cell_type": "code",
     "collapsed": false,
     "input": [
      "print result.ready()\n",
      "print result1.ready()\n",
      "print result2.ready()"
     ],
     "language": "python",
     "metadata": {},
     "outputs": [
      {
       "output_type": "stream",
       "stream": "stdout",
       "text": [
        "False\n",
        "False\n",
        "False\n"
       ]
      }
     ],
     "prompt_number": 41
    },
    {
     "cell_type": "code",
     "collapsed": false,
     "input": [
      "print result.get()  # blocking call\n",
      "print result1.get()\n",
      "print result2.get()"
     ],
     "language": "python",
     "metadata": {},
     "outputs": [
      {
       "output_type": "stream",
       "stream": "stdout",
       "text": [
        "16\n",
        "9\n",
        "4"
       ]
      },
      {
       "output_type": "stream",
       "stream": "stdout",
       "text": [
        "\n"
       ]
      }
     ],
     "prompt_number": 42
    },
    {
     "cell_type": "markdown",
     "metadata": {},
     "source": [
      "It is possible to spread some tasks among the engines of the LB view by passing a callable and an iterable of task arguments to the `LoadBalancedView.map` method:"
     ]
    },
    {
     "cell_type": "code",
     "collapsed": false,
     "input": [
      "results = lv.map(slow_square, [0, 1, 2, 3])\n",
      "results"
     ],
     "language": "python",
     "metadata": {},
     "outputs": [
      {
       "metadata": {},
       "output_type": "pyout",
       "prompt_number": 43,
       "text": [
        "<AsyncMapResult: slow_square>"
       ]
      }
     ],
     "prompt_number": 43
    },
    {
     "cell_type": "code",
     "collapsed": false,
     "input": [
      "results.ready()"
     ],
     "language": "python",
     "metadata": {},
     "outputs": [
      {
       "metadata": {},
       "output_type": "pyout",
       "prompt_number": 44,
       "text": [
        "False"
       ]
      }
     ],
     "prompt_number": 44
    },
    {
     "cell_type": "code",
     "collapsed": false,
     "input": [
      "results.progress"
     ],
     "language": "python",
     "metadata": {},
     "outputs": [
      {
       "metadata": {},
       "output_type": "pyout",
       "prompt_number": 45,
       "text": [
        "0"
       ]
      }
     ],
     "prompt_number": 45
    },
    {
     "cell_type": "code",
     "collapsed": false,
     "input": [
      "# results.abort()"
     ],
     "language": "python",
     "metadata": {},
     "outputs": [],
     "prompt_number": 46
    },
    {
     "cell_type": "code",
     "collapsed": false,
     "input": [
      "# Iteration on AsyncMapResult is blocking\n",
      "for r in results:\n",
      "    print(r)"
     ],
     "language": "python",
     "metadata": {},
     "outputs": [
      {
       "output_type": "stream",
       "stream": "stdout",
       "text": [
        "0\n",
        "1\n",
        "4"
       ]
      },
      {
       "output_type": "stream",
       "stream": "stdout",
       "text": [
        "\n",
        "9\n"
       ]
      }
     ],
     "prompt_number": 47
    },
    {
     "cell_type": "markdown",
     "metadata": {},
     "source": [
      "The load balanced view will be used in the following to schedule work on the cluster while being able to monitor progress and occasionally add new computing nodes to the cluster while computing to speed up the processing when using EC2 and StarCluster (see later)."
     ]
    },
    {
     "cell_type": "heading",
     "level": 2,
     "metadata": {},
     "source": [
      "Sharing Read-only Data between Processes on the Same Host with Memmapping"
     ]
    },
    {
     "cell_type": "markdown",
     "metadata": {},
     "source": [
      "Let's **restart the cluster** to kill the existing python processes and restart with a new client instances to be able to monitor the memory usage in details:"
     ]
    },
    {
     "cell_type": "code",
     "collapsed": false,
     "input": [
      "!ipcluster stop"
     ],
     "language": "python",
     "metadata": {},
     "outputs": [
      {
       "output_type": "stream",
       "stream": "stdout",
       "text": [
        "2014-05-07 20:58:08.950 [IPClusterStop] Using existing profile dir: u'/Users/francescomosconi/.ipython/profile_default'\r\n",
        "2014-05-07 20:58:08.951 [IPClusterStop] CRITICAL | Could not read pid file, cluster is probably not running.\r\n"
       ]
      }
     ],
     "prompt_number": 83
    },
    {
     "cell_type": "code",
     "collapsed": false,
     "input": [
      "!ipcluster start -n=2 --daemon"
     ],
     "language": "python",
     "metadata": {},
     "outputs": [
      {
       "output_type": "stream",
       "stream": "stdout",
       "text": [
        "2014-05-07 20:58:11.757 [IPClusterStart] Using existing profile dir: u'/Users/francescomosconi/.ipython/profile_default'\r\n"
       ]
      }
     ],
     "prompt_number": 84
    },
    {
     "cell_type": "code",
     "collapsed": false,
     "input": [
      "from IPython.parallel import Client\n",
      "client = Client()"
     ],
     "language": "python",
     "metadata": {},
     "outputs": [],
     "prompt_number": 85
    },
    {
     "cell_type": "code",
     "collapsed": false,
     "input": [
      "len(client)"
     ],
     "language": "python",
     "metadata": {},
     "outputs": [
      {
       "metadata": {},
       "output_type": "pyout",
       "prompt_number": 88,
       "text": [
        "2"
       ]
      }
     ],
     "prompt_number": 88
    },
    {
     "cell_type": "markdown",
     "metadata": {},
     "source": [
      "The numpy package makes it possible to memory map large contiguous chunks of binary files as shared memory for all the Python processes running on a given host:"
     ]
    },
    {
     "cell_type": "code",
     "collapsed": false,
     "input": [
      "%px import numpy as np"
     ],
     "language": "python",
     "metadata": {},
     "outputs": [],
     "prompt_number": 89
    },
    {
     "cell_type": "markdown",
     "metadata": {},
     "source": [
      "Creating a `numpy.memmap` instance with the `w+` mode creates a file on the filesystem and zeros its content. Let's do it from the first engine process or our current IPython cluster:"
     ]
    },
    {
     "cell_type": "code",
     "collapsed": false,
     "input": [
      "%%px --targets=-1\n",
      "\n",
      "# Cleanup any existing file from past session (necessary for windows)\n",
      "import os\n",
      "if os.path.exists('small.mmap'):\n",
      "    os.unlink('small.mmap')\n",
      "\n",
      "mm_w = np.memmap('small.mmap', shape=10, dtype=np.float32, mode='w+')\n",
      "print(mm_w)"
     ],
     "language": "python",
     "metadata": {},
     "outputs": [
      {
       "output_type": "stream",
       "stream": "stdout",
       "text": [
        "[ 0.  0.  0.  0.  0.  0.  0.  0.  0.  0.]\n"
       ]
      }
     ],
     "prompt_number": 90
    },
    {
     "cell_type": "code",
     "collapsed": false,
     "input": [
      "!ls *.mmap"
     ],
     "language": "python",
     "metadata": {},
     "outputs": [
      {
       "output_type": "stream",
       "stream": "stdout",
       "text": [
        "big.mmap   small.mmap\r\n"
       ]
      }
     ],
     "prompt_number": 93
    },
    {
     "cell_type": "markdown",
     "metadata": {},
     "source": [
      "Assuming the notebook process was launched with:\n",
      "    \n",
      "    cd solutions\n",
      "    ipython notebook\n",
      "    \n",
      "or:\n",
      "    \n",
      "    cd notebooks\n",
      "    ipython notebook\n",
      "\n",
      "and the cluster was launched from the ipython notebook UI, the engines will have a the same  current working directory as the notebook process, hence we can find the `small.mmap` file the current folder:"
     ]
    },
    {
     "cell_type": "code",
     "collapsed": false,
     "input": [
      "!ls -lh small.mmap"
     ],
     "language": "python",
     "metadata": {},
     "outputs": [
      {
       "output_type": "stream",
       "stream": "stdout",
       "text": [
        "-rw-r--r--  1 francescomosconi  wheel    40B May  7 20:58 small.mmap\r\n"
       ]
      }
     ],
     "prompt_number": 94
    },
    {
     "cell_type": "markdown",
     "metadata": {},
     "source": [
      "This binary file can then be mapped as a new numpy array by all the engines having access to the same filesystem. The `mode='r+'` opens this shared memory area in read write mode:"
     ]
    },
    {
     "cell_type": "code",
     "collapsed": false,
     "input": [
      "%%px\n",
      "\n",
      "mm_r = np.memmap('small.mmap', dtype=np.float32, mode='r+')\n",
      "print(mm_r)"
     ],
     "language": "python",
     "metadata": {},
     "outputs": [
      {
       "output_type": "stream",
       "stream": "stdout",
       "text": [
        "[stdout:0] [ 0.  0.  0.  0.  0.  0.  0.  0.  0.  0.]\n",
        "[stdout:1] [ 0.  0.  0.  0.  0.  0.  0.  0.  0.  0.]\n"
       ]
      }
     ],
     "prompt_number": 95
    },
    {
     "cell_type": "code",
     "collapsed": false,
     "input": [
      "%%px --targets=-1\n",
      "\n",
      "mm_w[0] = 42\n",
      "print(mm_w)\n",
      "print(mm_r)"
     ],
     "language": "python",
     "metadata": {},
     "outputs": [
      {
       "output_type": "stream",
       "stream": "stdout",
       "text": [
        "[ 42.   0.   0.   0.   0.   0.   0.   0.   0.   0.]\n",
        "[ 42.   0.   0.   0.   0.   0.   0.   0.   0.   0.]\n"
       ]
      }
     ],
     "prompt_number": 96
    },
    {
     "cell_type": "code",
     "collapsed": false,
     "input": [
      "%px print(mm_r)"
     ],
     "language": "python",
     "metadata": {},
     "outputs": [
      {
       "output_type": "stream",
       "stream": "stdout",
       "text": [
        "[stdout:0] [ 42.   0.   0.   0.   0.   0.   0.   0.   0.   0.]\n",
        "[stdout:1] [ 42.   0.   0.   0.   0.   0.   0.   0.   0.   0.]\n"
       ]
      }
     ],
     "prompt_number": 97
    },
    {
     "cell_type": "markdown",
     "metadata": {},
     "source": [
      "Memory mapped arrays created with `mode='r+'` can be modified and the modifications are shared with all the engines:"
     ]
    },
    {
     "cell_type": "code",
     "collapsed": false,
     "input": [
      "%%px --targets=1\n",
      "\n",
      "mm_r[1] = 43"
     ],
     "language": "python",
     "metadata": {},
     "outputs": [],
     "prompt_number": 98
    },
    {
     "cell_type": "code",
     "collapsed": false,
     "input": [
      "%%px\n",
      "print(mm_r)"
     ],
     "language": "python",
     "metadata": {},
     "outputs": [
      {
       "output_type": "stream",
       "stream": "stdout",
       "text": [
        "[stdout:0] [ 42.  43.   0.   0.   0.   0.   0.   0.   0.   0.]\n",
        "[stdout:1] [ 42.  43.   0.   0.   0.   0.   0.   0.   0.   0.]\n"
       ]
      }
     ],
     "prompt_number": 99
    },
    {
     "cell_type": "markdown",
     "metadata": {},
     "source": [
      "Be careful those, there is no builtin read nor write lock available on this such datastructures so it's better to avoid concurrent read & write operations on the same array segments unless there engine operations are made to cooperate with some synchronization or scheduling orchestrator."
     ]
    },
    {
     "cell_type": "markdown",
     "metadata": {},
     "source": [
      "Memmap arrays generally behave very much like regular in-memory numpy arrays:"
     ]
    },
    {
     "cell_type": "code",
     "collapsed": false,
     "input": [
      "%%px\n",
      "print(\"sum={0:.3}, mean={1:.3}, std={2:.3}\".format(\n",
      "    mm_r.sum(), np.mean(mm_r), np.std(mm_r)))"
     ],
     "language": "python",
     "metadata": {},
     "outputs": [
      {
       "output_type": "stream",
       "stream": "stdout",
       "text": [
        "[stdout:0] sum=85., mean=8.5, std=17.0\n",
        "[stdout:1] sum=85., mean=8.5, std=17.0\n"
       ]
      }
     ],
     "prompt_number": 100
    },
    {
     "cell_type": "markdown",
     "metadata": {},
     "source": [
      "Before allocating more data in memory on the cluster let us define a couple of utility functions from the previous exercise (and more) to monitor what is used by which engine and what is still free on the cluster as a whole:"
     ]
    },
    {
     "cell_type": "code",
     "collapsed": false,
     "input": [
      "def get_engines_memory(client):\n",
      "    \"\"\"Gather the memory allocated by each engine in MB\"\"\"\n",
      "    def memory_mb():\n",
      "        import os\n",
      "        import psutil\n",
      "        return psutil.Process(os.getpid()).get_memory_info().rss / 1e6\n",
      "    \n",
      "    return client[:].apply(memory_mb).get_dict()\n",
      "\n",
      "def get_host_free_memory(client):\n",
      "    \"\"\"Free memory on each host of the cluster in MB.\"\"\"\n",
      "    all_engines = client[:]\n",
      "    def hostname():\n",
      "        import socket\n",
      "        return socket.gethostname()\n",
      "    \n",
      "    hostnames = all_engines.apply(hostname).get_dict()\n",
      "    one_engine_per_host = dict((hostname, engine_id)\n",
      "                               for engine_id, hostname\n",
      "                               in hostnames.items())\n",
      "\n",
      "    def host_free_memory():\n",
      "        import psutil\n",
      "        return psutil.virtual_memory().free / 1e6\n",
      "    \n",
      "    \n",
      "    host_mem = client[one_engine_per_host.values()].apply(\n",
      "        host_free_memory).get_dict()\n",
      "    \n",
      "    return dict((hostnames[eid], m) for eid, m in host_mem.items())"
     ],
     "language": "python",
     "metadata": {},
     "outputs": [],
     "prompt_number": 101
    },
    {
     "cell_type": "code",
     "collapsed": false,
     "input": [
      "get_engines_memory(client)"
     ],
     "language": "python",
     "metadata": {},
     "outputs": [
      {
       "metadata": {},
       "output_type": "pyout",
       "prompt_number": 102,
       "text": [
        "{0: 38.150144, 1: 38.326272}"
       ]
      }
     ],
     "prompt_number": 102
    },
    {
     "cell_type": "code",
     "collapsed": false,
     "input": [
      "get_host_free_memory(client)"
     ],
     "language": "python",
     "metadata": {},
     "outputs": [
      {
       "metadata": {},
       "output_type": "pyout",
       "prompt_number": 104,
       "text": [
        "{'wizjis': 1283.227648}"
       ]
      }
     ],
     "prompt_number": 104
    },
    {
     "cell_type": "markdown",
     "metadata": {},
     "source": [
      "Let's allocate a 80MB memmap array in the first engine and load it in readwrite mode in all the engines:"
     ]
    },
    {
     "cell_type": "code",
     "collapsed": false,
     "input": [
      "%%px --targets=-1\n",
      "\n",
      "# Cleanup any existing file from past session (necessary for windows)\n",
      "import os\n",
      "if os.path.exists('big.mmap'):\n",
      "    os.unlink('big.mmap')\n",
      "\n",
      "np.memmap('big.mmap', shape=10 * int(1e6), dtype=np.float64, mode='w+')"
     ],
     "language": "python",
     "metadata": {},
     "outputs": [
      {
       "metadata": {},
       "output_type": "display_data",
       "text": [
        "\u001b[0;31mOut[1:9]: \u001b[0mmemmap([ 0.,  0.,  0., ...,  0.,  0.,  0.])"
       ]
      }
     ],
     "prompt_number": 105
    },
    {
     "cell_type": "code",
     "collapsed": false,
     "input": [
      "ls -lh big.mmap"
     ],
     "language": "python",
     "metadata": {},
     "outputs": [
      {
       "output_type": "stream",
       "stream": "stdout",
       "text": [
        "-rw-r--r--  1 francescomosconi  wheel    76M May  7 21:16 big.mmap\r\n"
       ]
      }
     ],
     "prompt_number": 106
    },
    {
     "cell_type": "code",
     "collapsed": false,
     "input": [
      "get_host_free_memory(client)"
     ],
     "language": "python",
     "metadata": {},
     "outputs": [
      {
       "metadata": {},
       "output_type": "pyout",
       "prompt_number": 107,
       "text": [
        "{'wizjis': 1431.83872}"
       ]
      }
     ],
     "prompt_number": 107
    },
    {
     "cell_type": "markdown",
     "metadata": {},
     "source": [
      "No significant memory was used in this operation as we just asked the OS to allocate the buffer on the hard drive and just maitain a virtual memory area as a cheap reference to this buffer.\n",
      "\n",
      "Let's open new references to the same buffer from all the engines at once:"
     ]
    },
    {
     "cell_type": "code",
     "collapsed": false,
     "input": [
      "%px %time big_mmap = np.memmap('big.mmap', dtype=np.float64, mode='r+')"
     ],
     "language": "python",
     "metadata": {},
     "outputs": [
      {
       "output_type": "stream",
       "stream": "stdout",
       "text": [
        "[stdout:0] \n",
        "CPU times: user 126 \u00b5s, sys: 124 \u00b5s, total: 250 \u00b5s\n",
        "Wall time: 1.68 ms\n",
        "[stdout:1] \n",
        "CPU times: user 152 \u00b5s, sys: 446 \u00b5s, total: 598 \u00b5s\n",
        "Wall time: 3.4 ms\n"
       ]
      }
     ],
     "prompt_number": 108
    },
    {
     "cell_type": "code",
     "collapsed": false,
     "input": [
      "%px big_mmap"
     ],
     "language": "python",
     "metadata": {},
     "outputs": [
      {
       "metadata": {},
       "output_type": "display_data",
       "text": [
        "\u001b[0;31mOut[0:7]: \u001b[0mmemmap([ 0.,  0.,  0., ...,  0.,  0.,  0.])"
       ]
      },
      {
       "metadata": {},
       "output_type": "display_data",
       "text": [
        "\u001b[0;31mOut[1:11]: \u001b[0mmemmap([ 0.,  0.,  0., ...,  0.,  0.,  0.])"
       ]
      }
     ],
     "prompt_number": 109
    },
    {
     "cell_type": "code",
     "collapsed": false,
     "input": [
      "get_host_free_memory(client)"
     ],
     "language": "python",
     "metadata": {},
     "outputs": [
      {
       "metadata": {},
       "output_type": "pyout",
       "prompt_number": 110,
       "text": [
        "{'wizjis': 1392.795648}"
       ]
      }
     ],
     "prompt_number": 110
    },
    {
     "cell_type": "markdown",
     "metadata": {},
     "source": [
      "No physical memory was allocated in the operation as it just took a couple of ms to do so. This is also confirmed by the engines process stats:"
     ]
    },
    {
     "cell_type": "code",
     "collapsed": false,
     "input": [
      "get_engines_memory(client)"
     ],
     "language": "python",
     "metadata": {},
     "outputs": [
      {
       "metadata": {},
       "output_type": "pyout",
       "prompt_number": 111,
       "text": [
        "{0: 38.252544, 1: 38.469632}"
       ]
      }
     ],
     "prompt_number": 111
    },
    {
     "cell_type": "markdown",
     "metadata": {},
     "source": [
      "Let's trigger an actual load of the data from the drive into the in-memory disk cache of the OS, this can take some time depending on the speed of the hard drive (on the order of 100MB/s to 300MB/s hence 3s to 8s for this dataset):"
     ]
    },
    {
     "cell_type": "code",
     "collapsed": false,
     "input": [
      "%%px --targets=-1\n",
      "\n",
      "%time np.sum(big_mmap)"
     ],
     "language": "python",
     "metadata": {},
     "outputs": []
    },
    {
     "cell_type": "code",
     "collapsed": false,
     "input": [
      "get_engines_memory(client)"
     ],
     "language": "python",
     "metadata": {},
     "outputs": []
    },
    {
     "cell_type": "code",
     "collapsed": false,
     "input": [
      "get_host_free_memory(client)"
     ],
     "language": "python",
     "metadata": {},
     "outputs": []
    },
    {
     "cell_type": "markdown",
     "metadata": {},
     "source": [
      "We can see that the first engine has now access to the data in memory and the free memory on the host has decreased by the same amount.\n",
      "\n",
      "We can now access this data from all the engines at once much faster as the disk will no longer be used: the shared memory buffer will instead accessed directly by all the engines:"
     ]
    },
    {
     "cell_type": "code",
     "collapsed": false,
     "input": [
      "%px %time np.sum(big_mmap)"
     ],
     "language": "python",
     "metadata": {},
     "outputs": []
    },
    {
     "cell_type": "code",
     "collapsed": false,
     "input": [
      "get_engines_memory(client)"
     ],
     "language": "python",
     "metadata": {},
     "outputs": []
    },
    {
     "cell_type": "code",
     "collapsed": false,
     "input": [
      "get_host_free_memory(client)"
     ],
     "language": "python",
     "metadata": {},
     "outputs": []
    },
    {
     "cell_type": "markdown",
     "metadata": {},
     "source": [
      "So it seems that the engines have loaded a whole copy of the data but this actually not the case as the total amount of free memory was not impacted by the parallel access to the shared buffer. Furthermore, once the data has been preloaded from the hard drive using one process, all the of the other processes on the same host can access it almost instantly saving a lot of IO wait.\n",
      "\n",
      "This strategy makes it very interesting to load the readonly datasets of machine learning problems, especially when the same data is reused over and over by concurrent processes as can be the case when doing learning curves analysis or grid search."
     ]
    },
    {
     "cell_type": "heading",
     "level": 2,
     "metadata": {},
     "source": [
      "Memmaping Nested Numpy-based Data Structures with Joblib"
     ]
    },
    {
     "cell_type": "markdown",
     "metadata": {},
     "source": [
      "joblib is a utility library included in the sklearn package. Among other things it provides tools to serialize objects that comprise large numpy arrays and reload them as memmap backed datastructures.\n",
      "\n",
      "To demonstrate it, let's create an arbitrary python datastructure involving numpy arrays:"
     ]
    },
    {
     "cell_type": "code",
     "collapsed": false,
     "input": [
      "import numpy as np\n",
      "\n",
      "class MyDataStructure(object):\n",
      "    \n",
      "    def __init__(self, shape):\n",
      "        self.float_zeros = np.zeros(shape, dtype=np.float32)\n",
      "        self.integer_ones = np.ones(shape, dtype=np.int64)\n",
      "        \n",
      "data_structure = MyDataStructure((3, 4))\n",
      "data_structure.float_zeros, data_structure.integer_ones"
     ],
     "language": "python",
     "metadata": {},
     "outputs": [
      {
       "metadata": {},
       "output_type": "pyout",
       "prompt_number": 112,
       "text": [
        "(array([[ 0.,  0.,  0.,  0.],\n",
        "       [ 0.,  0.,  0.,  0.],\n",
        "       [ 0.,  0.,  0.,  0.]], dtype=float32),\n",
        " array([[1, 1, 1, 1],\n",
        "       [1, 1, 1, 1],\n",
        "       [1, 1, 1, 1]]))"
       ]
      }
     ],
     "prompt_number": 112
    },
    {
     "cell_type": "markdown",
     "metadata": {},
     "source": [
      "We can now persist this datastructure to disk:"
     ]
    },
    {
     "cell_type": "code",
     "collapsed": false,
     "input": [
      "from sklearn.externals import joblib\n",
      "\n",
      "joblib.dump(data_structure, 'data_structure.pkl')"
     ],
     "language": "python",
     "metadata": {},
     "outputs": [
      {
       "metadata": {},
       "output_type": "pyout",
       "prompt_number": 113,
       "text": [
        "['data_structure.pkl',\n",
        " 'data_structure.pkl_01.npy',\n",
        " 'data_structure.pkl_02.npy']"
       ]
      }
     ],
     "prompt_number": 113
    },
    {
     "cell_type": "code",
     "collapsed": false,
     "input": [
      "!ls -l data_structure*"
     ],
     "language": "python",
     "metadata": {},
     "outputs": [
      {
       "output_type": "stream",
       "stream": "stdout",
       "text": [
        "-rw-r--r--  1 francescomosconi  wheel  255 May  7 21:18 data_structure.pkl\r\n",
        "-rw-r--r--  1 francescomosconi  wheel  128 May  7 21:18 data_structure.pkl_01.npy\r\n",
        "-rw-r--r--  1 francescomosconi  wheel  176 May  7 21:18 data_structure.pkl_02.npy\r\n"
       ]
      }
     ],
     "prompt_number": 114
    },
    {
     "cell_type": "markdown",
     "metadata": {},
     "source": [
      "A memmapped copy of this datastructure can then be loaded:"
     ]
    },
    {
     "cell_type": "code",
     "collapsed": false,
     "input": [
      "memmaped_data_structure = joblib.load('data_structure.pkl', mmap_mode='r+')\n",
      "memmaped_data_structure.float_zeros, memmaped_data_structure.integer_ones"
     ],
     "language": "python",
     "metadata": {},
     "outputs": [
      {
       "metadata": {},
       "output_type": "pyout",
       "prompt_number": 115,
       "text": [
        "(memmap([[ 0.,  0.,  0.,  0.],\n",
        "       [ 0.,  0.,  0.,  0.],\n",
        "       [ 0.,  0.,  0.,  0.]], dtype=float32),\n",
        " memmap([[1, 1, 1, 1],\n",
        "       [1, 1, 1, 1],\n",
        "       [1, 1, 1, 1]]))"
       ]
      }
     ],
     "prompt_number": 115
    },
    {
     "cell_type": "heading",
     "level": 2,
     "metadata": {},
     "source": [
      "Memmaping CV Splits for Multiprocess Dataset Sharing"
     ]
    },
    {
     "cell_type": "markdown",
     "metadata": {},
     "source": [
      "We can leverage the previous tools to build a utility function that extracts Cross Validation splits ahead of time to persist them on the hard drive in a format suitable for memmaping by IPython engine processes."
     ]
    },
    {
     "cell_type": "code",
     "collapsed": false,
     "input": [
      "from sklearn.externals import joblib\n",
      "from sklearn.cross_validation import ShuffleSplit\n",
      "import os\n",
      "\n",
      "def persist_cv_splits(X, y, n_cv_iter=5, name='data',\n",
      "    suffix=\"_cv_%03d.pkl\", test_size=0.25, random_state=None):\n",
      "    \"\"\"Materialize randomized train test splits of a dataset.\"\"\"\n",
      "\n",
      "    cv = ShuffleSplit(X.shape[0], n_iter=n_cv_iter,\n",
      "        test_size=test_size, random_state=random_state)\n",
      "    cv_split_filenames = []\n",
      "    \n",
      "    for i, (train, test) in enumerate(cv):\n",
      "        cv_fold = (X[train], y[train], X[test], y[test])\n",
      "        cv_split_filename = name + suffix % i\n",
      "        cv_split_filename = os.path.abspath(cv_split_filename)\n",
      "        joblib.dump(cv_fold, cv_split_filename)\n",
      "        cv_split_filenames.append(cv_split_filename)\n",
      "    \n",
      "    return cv_split_filenames"
     ],
     "language": "python",
     "metadata": {},
     "outputs": [],
     "prompt_number": 116
    },
    {
     "cell_type": "markdown",
     "metadata": {},
     "source": [
      "Let's try it on the digits dataset, we can run this from the :"
     ]
    },
    {
     "cell_type": "code",
     "collapsed": false,
     "input": [
      "from sklearn.datasets import load_digits\n",
      "\n",
      "digits = load_digits()\n",
      "digits_split_filenames = persist_cv_splits(digits.data, digits.target,\n",
      "    name='digits', random_state=42)\n",
      "digits_split_filenames"
     ],
     "language": "python",
     "metadata": {},
     "outputs": [
      {
       "metadata": {},
       "output_type": "pyout",
       "prompt_number": 117,
       "text": [
        "['/Users/francescomosconi/Documents/General Assembly/DataScienceClassSpring2014/DAT_SF_5/18_Parallel_Computing/Lab/digits_cv_000.pkl',\n",
        " '/Users/francescomosconi/Documents/General Assembly/DataScienceClassSpring2014/DAT_SF_5/18_Parallel_Computing/Lab/digits_cv_001.pkl',\n",
        " '/Users/francescomosconi/Documents/General Assembly/DataScienceClassSpring2014/DAT_SF_5/18_Parallel_Computing/Lab/digits_cv_002.pkl',\n",
        " '/Users/francescomosconi/Documents/General Assembly/DataScienceClassSpring2014/DAT_SF_5/18_Parallel_Computing/Lab/digits_cv_003.pkl',\n",
        " '/Users/francescomosconi/Documents/General Assembly/DataScienceClassSpring2014/DAT_SF_5/18_Parallel_Computing/Lab/digits_cv_004.pkl']"
       ]
      }
     ],
     "prompt_number": 117
    },
    {
     "cell_type": "code",
     "collapsed": false,
     "input": [
      "ls -lh digits*"
     ],
     "language": "python",
     "metadata": {},
     "outputs": [
      {
       "output_type": "stream",
       "stream": "stdout",
       "text": [
        "ls: digits*: No such file or directory\r\n"
       ]
      }
     ],
     "prompt_number": 1
    },
    {
     "cell_type": "markdown",
     "metadata": {},
     "source": [
      "Each of the persisted CV splits can then be loaded back again using memmaping:"
     ]
    },
    {
     "cell_type": "code",
     "collapsed": false,
     "input": [
      "X_train, y_train, X_test, y_test = joblib.load(\n",
      "    'digits_cv_002.pkl',  mmap_mode='r+')"
     ],
     "language": "python",
     "metadata": {},
     "outputs": [],
     "prompt_number": 119
    },
    {
     "cell_type": "code",
     "collapsed": false,
     "input": [
      "X_train"
     ],
     "language": "python",
     "metadata": {},
     "outputs": [
      {
       "metadata": {},
       "output_type": "pyout",
       "prompt_number": 120,
       "text": [
        "memmap([[  0.,   1.,  13., ...,   1.,   0.,   0.],\n",
        "       [  0.,   0.,   7., ...,   9.,   0.,   0.],\n",
        "       [  0.,   0.,   0., ...,  13.,   1.,   0.],\n",
        "       ..., \n",
        "       [  0.,   0.,   4., ...,  16.,   1.,   0.],\n",
        "       [  0.,   0.,   2., ...,  15.,   8.,   0.],\n",
        "       [  0.,   0.,   0., ...,   3.,   0.,   0.]])"
       ]
      }
     ],
     "prompt_number": 120
    },
    {
     "cell_type": "code",
     "collapsed": false,
     "input": [
      "y_train"
     ],
     "language": "python",
     "metadata": {},
     "outputs": [
      {
       "metadata": {},
       "output_type": "pyout",
       "prompt_number": 121,
       "text": [
        "memmap([5, 3, 1, ..., 8, 6, 4])"
       ]
      }
     ],
     "prompt_number": 121
    },
    {
     "cell_type": "heading",
     "level": 2,
     "metadata": {},
     "source": [
      "Parallel Model Selection and Grid Search"
     ]
    },
    {
     "cell_type": "markdown",
     "metadata": {},
     "source": [
      "Let's leverage IPython.parallel and the Memory Mapping features of joblib to write a custom grid search utility that runs on cluster in a memory efficient manner.\n",
      "\n",
      "Assume that we want to reproduce the grid search from the previous session:"
     ]
    },
    {
     "cell_type": "code",
     "collapsed": false,
     "input": [
      "import numpy as np\n",
      "\n",
      "svc_params = {\n",
      "    'C': np.logspace(-1, 2, 4),\n",
      "    'gamma': np.logspace(-4, 0, 5),\n",
      "}\n",
      "print(svc_params)"
     ],
     "language": "python",
     "metadata": {},
     "outputs": [
      {
       "output_type": "stream",
       "stream": "stdout",
       "text": [
        "{'C': array([   0.1,    1. ,   10. ,  100. ]), 'gamma': array([  1.00000000e-04,   1.00000000e-03,   1.00000000e-02,\n",
        "         1.00000000e-01,   1.00000000e+00])}\n"
       ]
      }
     ],
     "prompt_number": 122
    },
    {
     "cell_type": "markdown",
     "metadata": {},
     "source": [
      "`GridSearchCV` internally uses the following `ParameterGrid` utility iterator class to build the possible combinations of parameters:"
     ]
    },
    {
     "cell_type": "code",
     "collapsed": false,
     "input": [
      "from sklearn.grid_search import ParameterGrid\n",
      "\n",
      "list(ParameterGrid(svc_params))"
     ],
     "language": "python",
     "metadata": {},
     "outputs": [
      {
       "metadata": {},
       "output_type": "pyout",
       "prompt_number": 123,
       "text": [
        "[{'C': 0.10000000000000001, 'gamma': 0.0001},\n",
        " {'C': 0.10000000000000001, 'gamma': 0.001},\n",
        " {'C': 0.10000000000000001, 'gamma': 0.01},\n",
        " {'C': 0.10000000000000001, 'gamma': 0.10000000000000001},\n",
        " {'C': 0.10000000000000001, 'gamma': 1.0},\n",
        " {'C': 1.0, 'gamma': 0.0001},\n",
        " {'C': 1.0, 'gamma': 0.001},\n",
        " {'C': 1.0, 'gamma': 0.01},\n",
        " {'C': 1.0, 'gamma': 0.10000000000000001},\n",
        " {'C': 1.0, 'gamma': 1.0},\n",
        " {'C': 10.0, 'gamma': 0.0001},\n",
        " {'C': 10.0, 'gamma': 0.001},\n",
        " {'C': 10.0, 'gamma': 0.01},\n",
        " {'C': 10.0, 'gamma': 0.10000000000000001},\n",
        " {'C': 10.0, 'gamma': 1.0},\n",
        " {'C': 100.0, 'gamma': 0.0001},\n",
        " {'C': 100.0, 'gamma': 0.001},\n",
        " {'C': 100.0, 'gamma': 0.01},\n",
        " {'C': 100.0, 'gamma': 0.10000000000000001},\n",
        " {'C': 100.0, 'gamma': 1.0}]"
       ]
      }
     ],
     "prompt_number": 123
    },
    {
     "cell_type": "markdown",
     "metadata": {},
     "source": [
      "Let's write a function to load the data from a CV split file and compute the validation score for a given parameter set and model:"
     ]
    },
    {
     "cell_type": "code",
     "collapsed": false,
     "input": [
      "def compute_evaluation(cv_split_filename, model, params):\n",
      "    \"\"\"Function executed by a worker to evaluate a model on a CV split\"\"\"\n",
      "    # All module imports should be executed in the worker namespace\n",
      "    from sklearn.externals import joblib\n",
      "\n",
      "    X_train, y_train, X_validation, y_validation = joblib.load(\n",
      "        cv_split_filename, mmap_mode='c')\n",
      "    \n",
      "    model.set_params(**params)\n",
      "    model.fit(X_train, y_train)\n",
      "    validation_score = model.score(X_validation, y_validation)\n",
      "    return validation_score"
     ],
     "language": "python",
     "metadata": {},
     "outputs": [],
     "prompt_number": 124
    },
    {
     "cell_type": "code",
     "collapsed": false,
     "input": [
      "def grid_search(lb_view, model, cv_split_filenames, param_grid):\n",
      "    \"\"\"Launch all grid search evaluation tasks.\"\"\"\n",
      "    all_tasks = []\n",
      "    all_parameters = list(ParameterGrid(param_grid))\n",
      "    \n",
      "    for i, params in enumerate(all_parameters):\n",
      "        task_for_params = []\n",
      "        \n",
      "        for j, cv_split_filename in enumerate(cv_split_filenames):    \n",
      "            t = lb_view.apply(\n",
      "                compute_evaluation, cv_split_filename, model, params)\n",
      "            task_for_params.append(t) \n",
      "        \n",
      "        all_tasks.append(task_for_params)\n",
      "        \n",
      "    return all_parameters, all_tasks"
     ],
     "language": "python",
     "metadata": {},
     "outputs": [],
     "prompt_number": 125
    },
    {
     "cell_type": "markdown",
     "metadata": {},
     "source": [
      "Let's try on the digits dataset that we splitted previously as memmapable files:"
     ]
    },
    {
     "cell_type": "code",
     "collapsed": false,
     "input": [
      "from sklearn.svm import SVC\n",
      "from IPython.parallel import Client\n",
      "\n",
      "client = Client()\n",
      "lb_view = client.load_balanced_view()\n",
      "model = SVC()\n",
      "svc_params = {\n",
      "    'C': np.logspace(-1, 2, 4),\n",
      "    'gamma': np.logspace(-4, 0, 5),\n",
      "}\n",
      "\n",
      "all_parameters, all_tasks = grid_search(\n",
      "   lb_view, model, digits_split_filenames, svc_params)"
     ],
     "language": "python",
     "metadata": {},
     "outputs": [],
     "prompt_number": 135
    },
    {
     "cell_type": "markdown",
     "metadata": {},
     "source": [
      "The `grid_search` function is using the asynchronous API of the `LoadBalancedView`, we can hence monitor the progress:"
     ]
    },
    {
     "cell_type": "code",
     "collapsed": false,
     "input": [
      "def progress(tasks):\n",
      "    return np.mean([task.ready() for task_group in tasks\n",
      "                                 for task in task_group])"
     ],
     "language": "python",
     "metadata": {},
     "outputs": [],
     "prompt_number": 136
    },
    {
     "cell_type": "code",
     "collapsed": false,
     "input": [
      "print(\"Tasks completed: {0}%\".format(100 * progress(all_tasks)))"
     ],
     "language": "python",
     "metadata": {},
     "outputs": [
      {
       "output_type": "stream",
       "stream": "stdout",
       "text": [
        "Tasks completed: 100.0%\n"
       ]
      }
     ],
     "prompt_number": 174
    },
    {
     "cell_type": "markdown",
     "metadata": {},
     "source": [
      "Even better, we can introspect the completed task to find the best parameters set so far:"
     ]
    },
    {
     "cell_type": "code",
     "collapsed": false,
     "input": [
      "def find_bests(all_parameters, all_tasks, n_top=5):\n",
      "    \"\"\"Compute the mean score of the completed tasks\"\"\"\n",
      "    mean_scores = []\n",
      "    \n",
      "    for param, task_group in zip(all_parameters, all_tasks):\n",
      "        scores = [t.get() for t in task_group if t.ready()]\n",
      "        if len(scores) == 0:\n",
      "            continue\n",
      "        mean_scores.append((np.mean(scores), param))\n",
      "                   \n",
      "    return sorted(mean_scores, reverse=True)[:n_top]"
     ],
     "language": "python",
     "metadata": {},
     "outputs": [],
     "prompt_number": 175
    },
    {
     "cell_type": "code",
     "collapsed": false,
     "input": [
      "print(\"Tasks completed: {0}%\".format(100 * progress(all_tasks)))\n",
      "print(find_bests(all_parameters, all_tasks))"
     ],
     "language": "python",
     "metadata": {},
     "outputs": [
      {
       "output_type": "stream",
       "stream": "stdout",
       "text": [
        "Tasks completed: 100.0%\n",
        "[(0.99022222222222211, {'C': 1.0, 'gamma': 0.001}), (0.98888888888888893, {'C': 100.0, 'gamma': 0.001}), (0.98888888888888893, {'C': 10.0, 'gamma': 0.001}), (0.98755555555555552, {'C': 10.0, 'gamma': 0.0001}), (0.98711111111111127, {'C': 100.0, 'gamma': 0.0001})]\n"
       ]
      }
     ],
     "prompt_number": 176
    },
    {
     "cell_type": "markdown",
     "metadata": {},
     "source": [
      "## Additional Resources\n",
      "\n",
      "\n",
      "\n",
      "https://github.com/ogrisel/parallel_ml_tutorial\n",
      "\n",
      "https://github.com/minrk/IPython.parallel.tutorial\n"
     ]
    },
    {
     "cell_type": "code",
     "collapsed": false,
     "input": [],
     "language": "python",
     "metadata": {},
     "outputs": [],
     "prompt_number": 130
    }
   ],
   "metadata": {}
  }
 ]
}