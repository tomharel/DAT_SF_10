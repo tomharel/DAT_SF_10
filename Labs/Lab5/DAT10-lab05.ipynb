{
 "metadata": {
  "name": "",
<<<<<<< HEAD
  "signature": "sha256:1856077f325d4be9d996ff4042ba720761a46b1bae22c4a44b7caa98e0c2e104"
=======
  "signature": "sha256:12fd07afd2c11d1582cc9fc0208ff28beb5a4caccea03a8ff49334a0f300a19c"
>>>>>>> 70fc3ec28e5d2232f3f84b4c015bcdc689b3c103
 },
 "nbformat": 3,
 "nbformat_minor": 0,
 "worksheets": [
  {
   "cells": [
    {
     "cell_type": "markdown",
     "metadata": {},
     "source": [
      "# GA Data Science 10 (DAT10) - Lab5\n",
      "\n",
      "### Regressions\n",
      "\n",
      "Francesco Mosconi, Chief Data Officer, [Spire Inc.](spire.io)\n",
      "\n",
      "Craig Sakuma, Data Scientist"
     ]
    },
    {
     "cell_type": "code",
     "collapsed": false,
     "input": [
      "#usual imports\n",
      "import numpy as np\n",
      "import matplotlib.pyplot as plt\n",
      "import pandas as pd\n",
      "\n",
      "%matplotlib inline\n",
      "\n",
      "# Statsmodel APIs\n",
      "import statsmodels.api as sm"
     ],
     "language": "python",
     "metadata": {},
     "outputs": [],
     "prompt_number": 48
    },
    {
     "cell_type": "markdown",
     "metadata": {},
     "source": [
      "## Linear Regression"
     ]
    },
    {
     "cell_type": "markdown",
     "metadata": {},
     "source": [
      "Load a subset of the housing data"
     ]
    },
    {
     "cell_type": "code",
     "collapsed": false,
     "input": [
      "data = pd.read_csv('houses.csv')"
     ],
     "language": "python",
     "metadata": {},
     "outputs": [],
     "prompt_number": 49
    },
    {
     "cell_type": "code",
     "collapsed": false,
     "input": [
      "data.head()"
     ],
     "language": "python",
     "metadata": {},
     "outputs": [
      {
       "html": [
        "<div style=\"max-height:1000px;max-width:1500px;overflow:auto;\">\n",
        "<table border=\"1\" class=\"dataframe\">\n",
        "  <thead>\n",
        "    <tr style=\"text-align: right;\">\n",
        "      <th></th>\n",
        "      <th>sqft</th>\n",
        "      <th>bedrooms</th>\n",
        "      <th>age</th>\n",
        "      <th>price</th>\n",
        "    </tr>\n",
        "  </thead>\n",
        "  <tbody>\n",
        "    <tr>\n",
        "      <th>0</th>\n",
        "      <td> 2104</td>\n",
        "      <td> 3</td>\n",
        "      <td> 70</td>\n",
        "      <td> 399900</td>\n",
        "    </tr>\n",
        "    <tr>\n",
        "      <th>1</th>\n",
        "      <td> 1600</td>\n",
        "      <td> 3</td>\n",
        "      <td> 28</td>\n",
        "      <td> 329900</td>\n",
        "    </tr>\n",
        "    <tr>\n",
        "      <th>2</th>\n",
        "      <td> 2400</td>\n",
        "      <td> 3</td>\n",
        "      <td> 44</td>\n",
        "      <td> 369000</td>\n",
        "    </tr>\n",
        "    <tr>\n",
        "      <th>3</th>\n",
        "      <td> 1416</td>\n",
        "      <td> 2</td>\n",
        "      <td> 49</td>\n",
        "      <td> 232000</td>\n",
        "    </tr>\n",
        "    <tr>\n",
        "      <th>4</th>\n",
        "      <td> 3000</td>\n",
        "      <td> 4</td>\n",
        "      <td> 75</td>\n",
        "      <td> 539900</td>\n",
        "    </tr>\n",
        "  </tbody>\n",
        "</table>\n",
        "</div>"
       ],
       "metadata": {},
       "output_type": "pyout",
       "prompt_number": 50,
       "text": [
        "   sqft  bedrooms  age   price\n",
        "0  2104         3   70  399900\n",
        "1  1600         3   28  329900\n",
        "2  2400         3   44  369000\n",
        "3  1416         2   49  232000\n",
        "4  3000         4   75  539900"
       ]
      }
     ],
     "prompt_number": 50
    },
    {
     "cell_type": "code",
     "collapsed": false,
     "input": [
      "data_n = pd.read_csv('houses_norm.csv')"
     ],
     "language": "python",
     "metadata": {},
     "outputs": [],
     "prompt_number": 51
    },
    {
     "cell_type": "markdown",
     "metadata": {},
     "source": [
      "The dataset contains 4 columns. Our objective is to build a model that is able to predict the price of a house, using the information contained in the other columns (sqft, bedrooms and age)"
     ]
    },
    {
     "cell_type": "code",
     "collapsed": false,
     "input": [
      "from pandas.tools.plotting import scatter_matrix\n",
      "scat = scatter_matrix(data, figsize = (5,5))"
     ],
     "language": "python",
     "metadata": {},
     "outputs": [
      {
       "metadata": {},
       "output_type": "display_data",
       "png": "iVBORw0KGgoAAAANSUhEUgAAAVkAAAFaCAYAAAC0Zi51AAAABHNCSVQICAgIfAhkiAAAAAlwSFlz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\n",
       "text": [
<<<<<<< HEAD
        "<matplotlib.figure.Figure at 0x1818f1d0>"
=======
        "<matplotlib.figure.Figure at 0x10949dd10>"
>>>>>>> 70fc3ec28e5d2232f3f84b4c015bcdc689b3c103
       ]
      }
     ],
     "prompt_number": 52
    },
    {
     "cell_type": "markdown",
     "metadata": {},
     "source": [
      "Run 1. x = sqft, data is raw (so graph units are nice right)"
     ]
    },
    {
     "cell_type": "markdown",
     "metadata": {},
     "source": [
      "Let''s start with a simple model that uses the house surface to estimate the price"
     ]
    },
    {
     "cell_type": "code",
     "collapsed": false,
     "input": [
      "x = data['sqft'].values\n",
      "y = data['price'].values"
     ],
     "language": "python",
     "metadata": {},
     "outputs": [],
     "prompt_number": 53
    },
    {
     "cell_type": "code",
     "collapsed": false,
     "input": [
      "X = sm.add_constant(x, prepend=True)"
     ],
     "language": "python",
     "metadata": {},
     "outputs": [],
     "prompt_number": 54
    },
    {
     "cell_type": "code",
     "collapsed": false,
     "input": [
      "# X"
     ],
     "language": "python",
     "metadata": {},
     "outputs": [],
     "prompt_number": 8
    },
    {
     "cell_type": "code",
     "collapsed": false,
     "input": [
      "results = sm.OLS(y, X).fit()\n",
      "intercept, slope = results.params\n",
      "    \n",
      "r2 = results.rsquared\n",
      "\n",
      "plt.plot(x, y, 'bo')\n",
      "plt.title(\"Price VS Sqft\")\n",
      "xl = np.array([min(x), max(x)])\n",
      "yl = intercept + slope * xl\n",
      "plt.plot(xl, yl, 'r-')\n",
      "plt.show"
     ],
     "language": "python",
     "metadata": {},
     "outputs": [
      {
       "metadata": {},
       "output_type": "pyout",
<<<<<<< HEAD
       "prompt_number": 55,
=======
       "prompt_number": 9,
>>>>>>> 70fc3ec28e5d2232f3f84b4c015bcdc689b3c103
       "text": [
        "<function matplotlib.pyplot.show>"
       ]
      },
      {
       "metadata": {},
       "output_type": "display_data",
       "png": "iVBORw0KGgoAAAANSUhEUgAAAZIAAAEKCAYAAAA4t9PUAAAABHNCSVQICAgIfAhkiAAAAAlwSFlz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\nRERERERERERERERERGqL/weGErtZO+/FqwAAAABJRU5ErkJggg==\n",
       "text": [
<<<<<<< HEAD
        "<matplotlib.figure.Figure at 0x18b68320>"
       ]
      }
     ],
     "prompt_number": 55
=======
        "<matplotlib.figure.Figure at 0x10a3fe210>"
       ]
      }
     ],
     "prompt_number": 9
>>>>>>> 70fc3ec28e5d2232f3f84b4c015bcdc689b3c103
    },
    {
     "cell_type": "code",
     "collapsed": false,
     "input": [
      "results.summary()"
     ],
     "language": "python",
     "metadata": {},
     "outputs": [
      {
       "html": [
        "<table class=\"simpletable\">\n",
        "<caption>OLS Regression Results</caption>\n",
        "<tr>\n",
        "  <th>Dep. Variable:</th>            <td>y</td>        <th>  R-squared:         </th> <td>   0.731</td>\n",
        "</tr>\n",
        "<tr>\n",
        "  <th>Model:</th>                   <td>OLS</td>       <th>  Adj. R-squared:    </th> <td>   0.725</td>\n",
        "</tr>\n",
        "<tr>\n",
        "  <th>Method:</th>             <td>Least Squares</td>  <th>  F-statistic:       </th> <td>   122.3</td>\n",
        "</tr>\n",
        "<tr>\n",
        "  <th>Date:</th>             <td>Mon, 20 Oct 2014</td> <th>  Prob (F-statistic):</th> <td>2.03e-14</td>\n",
        "</tr>\n",
        "<tr>\n",
<<<<<<< HEAD
        "  <th>Time:</th>                 <td>21:14:12</td>     <th>  Log-Likelihood:    </th> <td> -586.94</td>\n",
=======
        "  <th>Time:</th>                 <td>21:12:20</td>     <th>  Log-Likelihood:    </th> <td> -586.94</td>\n",
>>>>>>> 70fc3ec28e5d2232f3f84b4c015bcdc689b3c103
        "</tr>\n",
        "<tr>\n",
        "  <th>No. Observations:</th>      <td>    47</td>      <th>  AIC:               </th> <td>   1178.</td>\n",
        "</tr>\n",
        "<tr>\n",
        "  <th>Df Residuals:</th>          <td>    45</td>      <th>  BIC:               </th> <td>   1182.</td>\n",
        "</tr>\n",
        "<tr>\n",
        "  <th>Df Model:</th>              <td>     1</td>      <th>                     </th>     <td> </td>   \n",
        "</tr>\n",
        "</table>\n",
        "<table class=\"simpletable\">\n",
        "<tr>\n",
        "    <td></td>       <th>coef</th>     <th>std err</th>      <th>t</th>      <th>P>|t|</th> <th>[95.0% Conf. Int.]</th> \n",
        "</tr>\n",
        "<tr>\n",
        "  <th>const</th> <td> 7.127e+04</td> <td> 2.61e+04</td> <td>    2.725</td> <td> 0.009</td> <td> 1.86e+04  1.24e+05</td>\n",
        "</tr>\n",
        "<tr>\n",
        "  <th>x1</th>    <td>  134.5253</td> <td>   12.165</td> <td>   11.058</td> <td> 0.000</td> <td>  110.024   159.027</td>\n",
        "</tr>\n",
        "</table>\n",
        "<table class=\"simpletable\">\n",
        "<tr>\n",
        "  <th>Omnibus:</th>       <td> 3.751</td> <th>  Durbin-Watson:     </th> <td>   1.863</td>\n",
        "</tr>\n",
        "<tr>\n",
        "  <th>Prob(Omnibus):</th> <td> 0.153</td> <th>  Jarque-Bera (JB):  </th> <td>   2.726</td>\n",
        "</tr>\n",
        "<tr>\n",
        "  <th>Skew:</th>          <td> 0.557</td> <th>  Prob(JB):          </th> <td>   0.256</td>\n",
        "</tr>\n",
        "<tr>\n",
        "  <th>Kurtosis:</th>      <td> 3.390</td> <th>  Cond. No.          </th> <td>5.88e+03</td>\n",
        "</tr>\n",
        "</table>"
       ],
       "metadata": {},
       "output_type": "pyout",
<<<<<<< HEAD
       "prompt_number": 56,
=======
       "prompt_number": 10,
>>>>>>> 70fc3ec28e5d2232f3f84b4c015bcdc689b3c103
       "text": [
        "<class 'statsmodels.iolib.summary.Summary'>\n",
        "\"\"\"\n",
        "                            OLS Regression Results                            \n",
        "==============================================================================\n",
        "Dep. Variable:                      y   R-squared:                       0.731\n",
        "Model:                            OLS   Adj. R-squared:                  0.725\n",
        "Method:                 Least Squares   F-statistic:                     122.3\n",
        "Date:                Mon, 20 Oct 2014   Prob (F-statistic):           2.03e-14\n",
<<<<<<< HEAD
        "Time:                        21:14:12   Log-Likelihood:                -586.94\n",
=======
        "Time:                        21:12:20   Log-Likelihood:                -586.94\n",
>>>>>>> 70fc3ec28e5d2232f3f84b4c015bcdc689b3c103
        "No. Observations:                  47   AIC:                             1178.\n",
        "Df Residuals:                      45   BIC:                             1182.\n",
        "Df Model:                           1                                         \n",
        "==============================================================================\n",
        "                 coef    std err          t      P>|t|      [95.0% Conf. Int.]\n",
        "------------------------------------------------------------------------------\n",
        "const       7.127e+04   2.61e+04      2.725      0.009      1.86e+04  1.24e+05\n",
        "x1           134.5253     12.165     11.058      0.000       110.024   159.027\n",
        "==============================================================================\n",
        "Omnibus:                        3.751   Durbin-Watson:                   1.863\n",
        "Prob(Omnibus):                  0.153   Jarque-Bera (JB):                2.726\n",
        "Skew:                           0.557   Prob(JB):                        0.256\n",
        "Kurtosis:                       3.390   Cond. No.                     5.88e+03\n",
        "==============================================================================\n",
        "\n",
        "Warnings:\n",
        "[1] The condition number is large, 5.88e+03. This might indicate that there are\n",
        "strong multicollinearity or other numerical problems.\n",
        "\"\"\""
       ]
      }
     ],
<<<<<<< HEAD
     "prompt_number": 56
=======
     "prompt_number": 10
>>>>>>> 70fc3ec28e5d2232f3f84b4c015bcdc689b3c103
    },
    {
     "cell_type": "markdown",
     "metadata": {},
     "source": [
      "Run 2:  x = sqft, data is normalized (so summary stats are nice)"
     ]
    },
    {
     "cell_type": "code",
     "collapsed": false,
     "input": [
      "data_n.head()"
     ],
     "language": "python",
     "metadata": {},
     "outputs": [
      {
       "html": [
        "<div style=\"max-height:1000px;max-width:1500px;overflow:auto;\">\n",
        "<table border=\"1\" class=\"dataframe\">\n",
        "  <thead>\n",
        "    <tr style=\"text-align: right;\">\n",
        "      <th></th>\n",
        "      <th>sqft</th>\n",
        "      <th>bedrooms</th>\n",
        "      <th>age</th>\n",
        "      <th>price</th>\n",
        "    </tr>\n",
        "  </thead>\n",
        "  <tbody>\n",
        "    <tr>\n",
        "      <th>0</th>\n",
        "      <td> 2.104</td>\n",
        "      <td> 3</td>\n",
        "      <td> 7.0</td>\n",
        "      <td> 3.999</td>\n",
        "    </tr>\n",
        "    <tr>\n",
        "      <th>1</th>\n",
        "      <td> 1.600</td>\n",
        "      <td> 3</td>\n",
        "      <td> 2.8</td>\n",
        "      <td> 3.299</td>\n",
        "    </tr>\n",
        "    <tr>\n",
        "      <th>2</th>\n",
        "      <td> 2.400</td>\n",
        "      <td> 3</td>\n",
        "      <td> 4.4</td>\n",
        "      <td> 3.690</td>\n",
        "    </tr>\n",
        "    <tr>\n",
        "      <th>3</th>\n",
        "      <td> 1.416</td>\n",
        "      <td> 2</td>\n",
        "      <td> 4.9</td>\n",
        "      <td> 2.320</td>\n",
        "    </tr>\n",
        "    <tr>\n",
        "      <th>4</th>\n",
        "      <td> 3.000</td>\n",
        "      <td> 4</td>\n",
        "      <td> 7.5</td>\n",
        "      <td> 5.399</td>\n",
        "    </tr>\n",
        "  </tbody>\n",
        "</table>\n",
        "</div>"
       ],
       "metadata": {},
       "output_type": "pyout",
<<<<<<< HEAD
       "prompt_number": 57,
=======
       "prompt_number": 11,
>>>>>>> 70fc3ec28e5d2232f3f84b4c015bcdc689b3c103
       "text": [
        "    sqft  bedrooms  age  price\n",
        "0  2.104         3  7.0  3.999\n",
        "1  1.600         3  2.8  3.299\n",
        "2  2.400         3  4.4  3.690\n",
        "3  1.416         2  4.9  2.320\n",
        "4  3.000         4  7.5  5.399"
       ]
      }
     ],
<<<<<<< HEAD
     "prompt_number": 57
=======
     "prompt_number": 11
>>>>>>> 70fc3ec28e5d2232f3f84b4c015bcdc689b3c103
    },
    {
     "cell_type": "markdown",
     "metadata": {},
     "source": [
      "### EXERCISE #1\n",
      "#### Create the linear model for data_n to predict price based on sqft. \n",
      "#### What are the slope, intercept and r-squared?"
     ]
    },
    {
     "cell_type": "code",
     "collapsed": false,
     "input": [
      "x = data_n['sqft'].values\n",
      "y = data_n['price'].values\n",
      "X = sm.add_constant(x, prepend=True)\n",
      "results_n = sm.OLS(y, X).fit()\n",
      "intercept_n, slope_n = results_n.params\n",
      "r2_n = results_n.rsquared\n",
      "\n",
      "print \"int = \" + str(intercept_n)\n",
      "print \"slope = \" + str(slope_n)\n",
      "print \"R^2 = \" + str(r2_n)"
     ],
     "language": "python",
     "metadata": {},
<<<<<<< HEAD
     "outputs": [
      {
       "output_type": "stream",
       "stream": "stdout",
       "text": [
        "int = 0.712704924487\n",
        "slope = 1.3452528772\n",
        "R^2 = 0.731003783976\n"
       ]
      }
     ],
     "prompt_number": 58
=======
     "outputs": [],
     "prompt_number": 11
>>>>>>> 70fc3ec28e5d2232f3f84b4c015bcdc689b3c103
    },
    {
     "cell_type": "markdown",
     "metadata": {},
     "source": [
      "#### Plot the data along with the line for the regression model"
     ]
    },
    {
     "cell_type": "code",
     "collapsed": false,
     "input": [
      "plt.plot(x, y, 'bo')\n",
      "plt.title(\"Price VS Sqft\")\n",
      "xl = np.array([min(x), max(x)])\n",
      "yl = intercept_n + slope_n * xl\n",
      "plt.plot(xl, yl, 'r-')\n",
      "plt.show"
     ],
     "language": "python",
     "metadata": {},
<<<<<<< HEAD
     "outputs": [
      {
       "metadata": {},
       "output_type": "pyout",
       "prompt_number": 59,
       "text": [
        "<function matplotlib.pyplot.show>"
       ]
      },
      {
       "metadata": {},
       "output_type": "display_data",
       "png": "iVBORw0KGgoAAAANSUhEUgAAAW0AAAEKCAYAAADZ8ATAAAAABHNCSVQICAgIfAhkiAAAAAlwSFlz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\n",
       "text": [
        "<matplotlib.figure.Figure at 0x17267198>"
       ]
      }
     ],
     "prompt_number": 59
=======
     "outputs": [],
     "prompt_number": 11
>>>>>>> 70fc3ec28e5d2232f3f84b4c015bcdc689b3c103
    },
    {
     "cell_type": "markdown",
     "metadata": {},
     "source": [
      "#### Bonus challenge: Change the color and shape of the data points."
     ]
    },
    {
     "cell_type": "code",
     "collapsed": false,
     "input": [
      "plt.plot(x, y, 'gp')\n",
      "plt.title(\"Price VS Sqft\")\n",
      "xl = np.array([min(x), max(x)])\n",
      "yl = intercept_n + slope_n * xl\n",
      "plt.plot(xl, yl, 'r-')\n",
      "plt.show()"
     ],
     "language": "python",
     "metadata": {},
<<<<<<< HEAD
     "outputs": [
      {
       "metadata": {},
       "output_type": "display_data",
       "png": "iVBORw0KGgoAAAANSUhEUgAAAW0AAAEKCAYAAADZ8ATAAAAABHNCSVQICAgIfAhkiAAAAAlwSFlz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\niIiIiIiIiIiIiIiIiIiI+/w/b+GMqpJELm8AAAAASUVORK5CYII=\n",
       "text": [
        "<matplotlib.figure.Figure at 0x187ef550>"
       ]
      }
     ],
     "prompt_number": 60
=======
     "outputs": [],
     "prompt_number": 11
>>>>>>> 70fc3ec28e5d2232f3f84b4c015bcdc689b3c103
    },
    {
     "cell_type": "markdown",
     "metadata": {},
     "source": [
      "Confidence Intervals"
     ]
    },
    {
     "cell_type": "code",
     "collapsed": false,
     "input": [
      "from statsmodels.sandbox.regression.predstd import wls_prediction_std\n",
      "\n",
      "prstd, iv_l, iv_u = wls_prediction_std(results)"
     ],
     "language": "python",
     "metadata": {},
     "outputs": [],
<<<<<<< HEAD
     "prompt_number": 61
=======
     "prompt_number": 12
>>>>>>> 70fc3ec28e5d2232f3f84b4c015bcdc689b3c103
    },
    {
     "cell_type": "code",
     "collapsed": false,
     "input": [
      "fig, ax = 0,0\n",
      "fig, ax = plt.subplots(figsize=(8,6))\n",
      "    \n",
      "ax.plot(x, y, 'o', label=\"data\")\n",
      "ax.plot(x, results.fittedvalues, 'r-', label=\"OLS\")\n",
      "ax.plot(x, iv_u, 'r-')\n",
      "ax.plot(x, iv_l, 'r-')\n",
      "ax.legend(loc='best');"
     ],
     "language": "python",
     "metadata": {},
     "outputs": [
      {
       "metadata": {},
       "output_type": "display_data",
       "png": "iVBORw0KGgoAAAANSUhEUgAAAf0AAAFwCAYAAACy4qKOAAAABHNCSVQICAgIfAhkiAAAAAlwSFlz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\nAAAAAAAAAAAAQH8ulDJp1iv3R3IAAAAASUVORK5CYII=\n",
       "text": [
<<<<<<< HEAD
        "<matplotlib.figure.Figure at 0x17a7c5f8>"
=======
        "<matplotlib.figure.Figure at 0x10a4f4250>"
>>>>>>> 70fc3ec28e5d2232f3f84b4c015bcdc689b3c103
       ]
      }
     ],
     "prompt_number": 62
    },
    {
     "cell_type": "markdown",
     "metadata": {},
     "source": [
      "## Function of Bedrooms?"
     ]
    },
    {
     "cell_type": "markdown",
     "metadata": {},
     "source": [
      "Run 3:  x = bdrms, data is raw (so graph units are nice)"
     ]
    },
    {
     "cell_type": "code",
     "collapsed": false,
     "input": [
      "x = data['bedrooms'].values\n",
      "y = data['price'].values\n",
      "\n",
      "X = sm.add_constant(x, prepend=True)\n",
      "results = sm.OLS(y, X).fit()\n",
      "intercept, slope = results.params\n",
      "r2 = results.rsquared\n",
      "plt.plot(x, y, 'bo')\n",
      "xl = np.array([min(x), max(x)])\n",
      "yl = intercept + slope * xl\n",
      "plt.plot(xl, yl, 'r-')\n",
      "plt.title(r2)\n",
      "plt.show()"
     ],
     "language": "python",
     "metadata": {},
     "outputs": [
      {
       "metadata": {},
       "output_type": "display_data",
       "png": "iVBORw0KGgoAAAANSUhEUgAAAY0AAAEKCAYAAADuEgmxAAAABHNCSVQICAgIfAhkiAAAAAlwSFlz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\n8VxNQRMAAAAASUVORK5CYII=\n",
       "text": [
<<<<<<< HEAD
        "<matplotlib.figure.Figure at 0x1963f5f8>"
=======
        "<matplotlib.figure.Figure at 0x10a7ccf90>"
>>>>>>> 70fc3ec28e5d2232f3f84b4c015bcdc689b3c103
       ]
      }
     ],
     "prompt_number": 63
    },
    {
     "cell_type": "code",
     "collapsed": false,
     "input": [
      "results.summary()"
     ],
     "language": "python",
     "metadata": {},
     "outputs": [
      {
       "html": [
        "<table class=\"simpletable\">\n",
        "<caption>OLS Regression Results</caption>\n",
        "<tr>\n",
        "  <th>Dep. Variable:</th>            <td>y</td>        <th>  R-squared:         </th> <td>   0.196</td>\n",
        "</tr>\n",
        "<tr>\n",
        "  <th>Model:</th>                   <td>OLS</td>       <th>  Adj. R-squared:    </th> <td>   0.178</td>\n",
        "</tr>\n",
        "<tr>\n",
        "  <th>Method:</th>             <td>Least Squares</td>  <th>  F-statistic:       </th> <td>   10.94</td>\n",
        "</tr>\n",
        "<tr>\n",
        "  <th>Date:</th>             <td>Mon, 20 Oct 2014</td> <th>  Prob (F-statistic):</th>  <td>0.00185</td>\n",
        "</tr>\n",
        "<tr>\n",
<<<<<<< HEAD
        "  <th>Time:</th>                 <td>21:14:14</td>     <th>  Log-Likelihood:    </th> <td> -612.68</td>\n",
=======
        "  <th>Time:</th>                 <td>21:12:21</td>     <th>  Log-Likelihood:    </th> <td> -612.68</td>\n",
>>>>>>> 70fc3ec28e5d2232f3f84b4c015bcdc689b3c103
        "</tr>\n",
        "<tr>\n",
        "  <th>No. Observations:</th>      <td>    47</td>      <th>  AIC:               </th> <td>   1229.</td>\n",
        "</tr>\n",
        "<tr>\n",
        "  <th>Df Residuals:</th>          <td>    45</td>      <th>  BIC:               </th> <td>   1233.</td>\n",
        "</tr>\n",
        "<tr>\n",
        "  <th>Df Model:</th>              <td>     1</td>      <th>                     </th>     <td> </td>   \n",
        "</tr>\n",
        "</table>\n",
        "<table class=\"simpletable\">\n",
        "<tr>\n",
        "    <td></td>       <th>coef</th>     <th>std err</th>      <th>t</th>      <th>P>|t|</th> <th>[95.0% Conf. Int.]</th> \n",
        "</tr>\n",
        "<tr>\n",
        "  <th>const</th> <td>   1.1e+05</td> <td> 7.16e+04</td> <td>    1.537</td> <td> 0.131</td> <td>-3.41e+04  2.54e+05</td>\n",
        "</tr>\n",
        "<tr>\n",
        "  <th>x1</th>    <td> 7.267e+04</td> <td>  2.2e+04</td> <td>    3.308</td> <td> 0.002</td> <td> 2.84e+04  1.17e+05</td>\n",
        "</tr>\n",
        "</table>\n",
        "<table class=\"simpletable\">\n",
        "<tr>\n",
        "  <th>Omnibus:</th>       <td> 4.709</td> <th>  Durbin-Watson:     </th> <td>   2.232</td>\n",
        "</tr>\n",
        "<tr>\n",
        "  <th>Prob(Omnibus):</th> <td> 0.095</td> <th>  Jarque-Bera (JB):  </th> <td>   4.412</td>\n",
        "</tr>\n",
        "<tr>\n",
        "  <th>Skew:</th>          <td> 0.691</td> <th>  Prob(JB):          </th> <td>   0.110</td>\n",
        "</tr>\n",
        "<tr>\n",
        "  <th>Kurtosis:</th>      <td> 2.413</td> <th>  Cond. No.          </th> <td>    15.4</td>\n",
        "</tr>\n",
        "</table>"
       ],
       "metadata": {},
       "output_type": "pyout",
       "prompt_number": 64,
       "text": [
        "<class 'statsmodels.iolib.summary.Summary'>\n",
        "\"\"\"\n",
        "                            OLS Regression Results                            \n",
        "==============================================================================\n",
        "Dep. Variable:                      y   R-squared:                       0.196\n",
        "Model:                            OLS   Adj. R-squared:                  0.178\n",
        "Method:                 Least Squares   F-statistic:                     10.94\n",
        "Date:                Mon, 20 Oct 2014   Prob (F-statistic):            0.00185\n",
<<<<<<< HEAD
        "Time:                        21:14:14   Log-Likelihood:                -612.68\n",
=======
        "Time:                        21:12:21   Log-Likelihood:                -612.68\n",
>>>>>>> 70fc3ec28e5d2232f3f84b4c015bcdc689b3c103
        "No. Observations:                  47   AIC:                             1229.\n",
        "Df Residuals:                      45   BIC:                             1233.\n",
        "Df Model:                           1                                         \n",
        "==============================================================================\n",
        "                 coef    std err          t      P>|t|      [95.0% Conf. Int.]\n",
        "------------------------------------------------------------------------------\n",
        "const         1.1e+05   7.16e+04      1.537      0.131     -3.41e+04  2.54e+05\n",
        "x1          7.267e+04    2.2e+04      3.308      0.002      2.84e+04  1.17e+05\n",
        "==============================================================================\n",
        "Omnibus:                        4.709   Durbin-Watson:                   2.232\n",
        "Prob(Omnibus):                  0.095   Jarque-Bera (JB):                4.412\n",
        "Skew:                           0.691   Prob(JB):                        0.110\n",
        "Kurtosis:                       2.413   Cond. No.                         15.4\n",
        "==============================================================================\n",
        "\"\"\""
       ]
      }
     ],
     "prompt_number": 64
    },
    {
     "cell_type": "code",
     "collapsed": false,
     "input": [
      "x = data_n['bedrooms'].values\n",
      "y = data_n['price'].values\n",
      "\n",
      "X = sm.add_constant(x, prepend=True)\n",
      "results = sm.OLS(y, X).fit()\n",
      "intercept, slope = results.params\n",
      "r2 = results.rsquared\n",
      "plt.plot(x, y, 'bo')\n",
      "xl = np.array([min(x), max(x)])\n",
      "yl = intercept + slope * xl\n",
      "plt.plot(xl, yl, 'r-')\n",
      "plt.show()"
     ],
     "language": "python",
     "metadata": {},
     "outputs": [
      {
       "metadata": {},
       "output_type": "display_data",
       "png": "iVBORw0KGgoAAAANSUhEUgAAAW0AAAEACAYAAAB4ayemAAAABHNCSVQICAgIfAhkiAAAAAlwSFlz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\nrkJggg==\n",
       "text": [
<<<<<<< HEAD
        "<matplotlib.figure.Figure at 0x17994a90>"
=======
        "<matplotlib.figure.Figure at 0x10a855850>"
>>>>>>> 70fc3ec28e5d2232f3f84b4c015bcdc689b3c103
       ]
      }
     ],
     "prompt_number": 65
    },
    {
     "cell_type": "code",
     "collapsed": false,
     "input": [
      "print results.summary()"
     ],
     "language": "python",
     "metadata": {},
     "outputs": [
      {
       "output_type": "stream",
       "stream": "stdout",
       "text": [
        "                            OLS Regression Results                            \n",
        "==============================================================================\n",
        "Dep. Variable:                      y   R-squared:                       0.196\n",
        "Model:                            OLS   Adj. R-squared:                  0.178\n",
        "Method:                 Least Squares   F-statistic:                     10.94\n",
        "Date:                Mon, 20 Oct 2014   Prob (F-statistic):            0.00185\n",
<<<<<<< HEAD
        "Time:                        21:14:14   Log-Likelihood:                -71.573\n",
=======
        "Time:                        21:12:22   Log-Likelihood:                -71.573\n",
>>>>>>> 70fc3ec28e5d2232f3f84b4c015bcdc689b3c103
        "No. Observations:                  47   AIC:                             147.1\n",
        "Df Residuals:                      45   BIC:                             150.8\n",
        "Df Model:                           1                                         \n",
        "==============================================================================\n",
        "                 coef    std err          t      P>|t|      [95.0% Conf. Int.]\n",
        "------------------------------------------------------------------------------\n",
        "const          1.1003      0.716      1.537      0.131        -0.341     2.542\n",
        "x1             0.7267      0.220      3.308      0.002         0.284     1.169\n",
        "==============================================================================\n",
        "Omnibus:                        4.709   Durbin-Watson:                   2.232\n",
        "Prob(Omnibus):                  0.095   Jarque-Bera (JB):                4.412\n",
        "Skew:                           0.691   Prob(JB):                        0.110\n",
        "Kurtosis:                       2.413   Cond. No.                         15.4\n",
        "==============================================================================\n"
       ]
      }
     ],
     "prompt_number": 66
    },
    {
     "cell_type": "markdown",
     "metadata": {},
     "source": [
      "## Function of Age?"
     ]
    },
    {
     "cell_type": "code",
     "collapsed": false,
     "input": [
      "x = data['age'].values\n",
      "y = data['price'].values\n",
      "\n",
      "X = sm.add_constant(x, prepend=True)\n",
      "results = sm.OLS(y, X).fit()\n",
      "intercept, slope = results.params\n",
      "r2 = results.rsquared\n",
      "plt.plot(x, y, 'bo')\n",
      "xl = np.array([min(x), max(x)])\n",
      "yl = intercept + slope * xl\n",
      "plt.plot(xl, yl, 'r-')\n",
      "plt.title(r2)\n",
      "plt.show()"
     ],
     "language": "python",
     "metadata": {},
     "outputs": [
      {
       "metadata": {},
       "output_type": "display_data",
       "png": "iVBORw0KGgoAAAANSUhEUgAAAYsAAAEKCAYAAADjDHn2AAAABHNCSVQICAgIfAhkiAAAAAlwSFlz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\nIiIiIiIiIiIiIiIiIiIiIiIiIuXhfwHPK3jXHLLXvgAAAABJRU5ErkJggg==\n",
       "text": [
<<<<<<< HEAD
        "<matplotlib.figure.Figure at 0x17a41da0>"
       ]
      }
     ],
     "prompt_number": 67
=======
        "<matplotlib.figure.Figure at 0x10a5f4910>"
       ]
      }
     ],
     "prompt_number": 18
>>>>>>> 70fc3ec28e5d2232f3f84b4c015bcdc689b3c103
    },
    {
     "cell_type": "code",
     "collapsed": false,
     "input": [
      "print results.summary()"
     ],
     "language": "python",
     "metadata": {},
     "outputs": [
      {
       "output_type": "stream",
       "stream": "stdout",
       "text": [
        "                            OLS Regression Results                            \n",
        "==============================================================================\n",
        "Dep. Variable:                      y   R-squared:                       0.003\n",
        "Model:                            OLS   Adj. R-squared:                 -0.019\n",
        "Method:                 Least Squares   F-statistic:                    0.1210\n",
        "Date:                Mon, 20 Oct 2014   Prob (F-statistic):              0.730\n",
<<<<<<< HEAD
        "Time:                        21:14:15   Log-Likelihood:                -617.73\n",
=======
        "Time:                        21:12:22   Log-Likelihood:                -617.73\n",
>>>>>>> 70fc3ec28e5d2232f3f84b4c015bcdc689b3c103
        "No. Observations:                  47   AIC:                             1239.\n",
        "Df Residuals:                      45   BIC:                             1243.\n",
        "Df Model:                           1                                         \n",
        "==============================================================================\n",
        "                 coef    std err          t      P>|t|      [95.0% Conf. Int.]\n",
        "------------------------------------------------------------------------------\n",
        "const       3.283e+05   3.94e+04      8.341      0.000      2.49e+05  4.08e+05\n",
        "x1           283.1207    813.819      0.348      0.730     -1355.994  1922.236\n",
        "==============================================================================\n",
        "Omnibus:                        8.665   Durbin-Watson:                   2.063\n",
        "Prob(Omnibus):                  0.013   Jarque-Bera (JB):                8.374\n",
        "Skew:                           1.025   Prob(JB):                       0.0152\n",
        "Kurtosis:                       3.270   Cond. No.                         103.\n",
        "==============================================================================\n"
       ]
      }
     ],
<<<<<<< HEAD
     "prompt_number": 68
=======
     "prompt_number": 19
>>>>>>> 70fc3ec28e5d2232f3f84b4c015bcdc689b3c103
    },
    {
     "cell_type": "code",
     "collapsed": false,
     "input": [
      "x = data_n['age'].values\n",
      "y = data_n['price'].values \n",
      "\n",
      "X = sm.add_constant(x, prepend=True)\n",
      "results = sm.OLS(y, X).fit()\n",
      "intercept, slope = results.params\n",
      "r2 = results.rsquared\n",
      "plt.plot(x, y, 'bo')\n",
      "xl = np.array([min(x), max(x)])\n",
      "yl = intercept + slope * xl\n",
      "plt.plot(xl, yl, 'r-')\n",
      "plt.show()"
     ],
     "language": "python",
     "metadata": {},
     "outputs": [
      {
       "metadata": {},
       "output_type": "display_data",
       "png": "iVBORw0KGgoAAAANSUhEUgAAAWgAAAEACAYAAACeQuziAAAABHNCSVQICAgIfAhkiAAAAAlwSFlz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\nJEmSJEmSJEmSJKXj/wEV6hz/fXIbBQAAAABJRU5ErkJggg==\n",
       "text": [
<<<<<<< HEAD
        "<matplotlib.figure.Figure at 0x196dd278>"
       ]
      }
     ],
     "prompt_number": 69
=======
        "<matplotlib.figure.Figure at 0x10a855450>"
       ]
      }
     ],
     "prompt_number": 20
>>>>>>> 70fc3ec28e5d2232f3f84b4c015bcdc689b3c103
    },
    {
     "cell_type": "code",
     "collapsed": false,
     "input": [
      "print results.summary()"
     ],
     "language": "python",
     "metadata": {},
     "outputs": [
      {
       "output_type": "stream",
       "stream": "stdout",
       "text": [
        "                            OLS Regression Results                            \n",
        "==============================================================================\n",
        "Dep. Variable:                      y   R-squared:                       0.003\n",
        "Model:                            OLS   Adj. R-squared:                 -0.019\n",
        "Method:                 Least Squares   F-statistic:                    0.1210\n",
        "Date:                Mon, 20 Oct 2014   Prob (F-statistic):              0.730\n",
<<<<<<< HEAD
        "Time:                        21:14:15   Log-Likelihood:                -76.624\n",
=======
        "Time:                        21:12:23   Log-Likelihood:                -76.624\n",
>>>>>>> 70fc3ec28e5d2232f3f84b4c015bcdc689b3c103
        "No. Observations:                  47   AIC:                             157.2\n",
        "Df Residuals:                      45   BIC:                             160.9\n",
        "Df Model:                           1                                         \n",
        "==============================================================================\n",
        "                 coef    std err          t      P>|t|      [95.0% Conf. Int.]\n",
        "------------------------------------------------------------------------------\n",
        "const          3.2831      0.394      8.341      0.000         2.490     4.076\n",
        "x1             0.0283      0.081      0.348      0.730        -0.136     0.192\n",
        "==============================================================================\n",
        "Omnibus:                        8.665   Durbin-Watson:                   2.063\n",
        "Prob(Omnibus):                  0.013   Jarque-Bera (JB):                8.374\n",
        "Skew:                           1.025   Prob(JB):                       0.0152\n",
        "Kurtosis:                       3.270   Cond. No.                         10.7\n",
        "==============================================================================\n"
       ]
      }
     ],
<<<<<<< HEAD
     "prompt_number": 70
=======
     "prompt_number": 21
>>>>>>> 70fc3ec28e5d2232f3f84b4c015bcdc689b3c103
    },
    {
     "cell_type": "markdown",
     "metadata": {},
     "source": [
      "## Function of multiple variables"
     ]
    },
    {
     "cell_type": "code",
     "collapsed": false,
     "input": [
      "x = data_n[['sqft', 'bedrooms','age']].values\n",
      "y = data_n['price'].values\n",
      "\n",
      "X = sm.add_constant(x, prepend=True)\n",
      "results = sm.OLS(y, X).fit()"
     ],
     "language": "python",
     "metadata": {},
     "outputs": [],
<<<<<<< HEAD
     "prompt_number": 71
=======
     "prompt_number": 22
>>>>>>> 70fc3ec28e5d2232f3f84b4c015bcdc689b3c103
    },
    {
     "cell_type": "code",
     "collapsed": false,
     "input": [
      "results.summary()"
     ],
     "language": "python",
     "metadata": {},
     "outputs": [
      {
       "html": [
        "<table class=\"simpletable\">\n",
        "<caption>OLS Regression Results</caption>\n",
        "<tr>\n",
        "  <th>Dep. Variable:</th>            <td>y</td>        <th>  R-squared:         </th> <td>   0.733</td>\n",
        "</tr>\n",
        "<tr>\n",
        "  <th>Model:</th>                   <td>OLS</td>       <th>  Adj. R-squared:    </th> <td>   0.715</td>\n",
        "</tr>\n",
        "<tr>\n",
        "  <th>Method:</th>             <td>Least Squares</td>  <th>  F-statistic:       </th> <td>   39.38</td>\n",
        "</tr>\n",
        "<tr>\n",
        "  <th>Date:</th>             <td>Mon, 20 Oct 2014</td> <th>  Prob (F-statistic):</th> <td>2.12e-12</td>\n",
        "</tr>\n",
        "<tr>\n",
<<<<<<< HEAD
        "  <th>Time:</th>                 <td>21:14:16</td>     <th>  Log-Likelihood:    </th> <td> -45.641</td>\n",
=======
        "  <th>Time:</th>                 <td>21:12:23</td>     <th>  Log-Likelihood:    </th> <td> -45.641</td>\n",
>>>>>>> 70fc3ec28e5d2232f3f84b4c015bcdc689b3c103
        "</tr>\n",
        "<tr>\n",
        "  <th>No. Observations:</th>      <td>    47</td>      <th>  AIC:               </th> <td>   99.28</td>\n",
        "</tr>\n",
        "<tr>\n",
        "  <th>Df Residuals:</th>          <td>    43</td>      <th>  BIC:               </th> <td>   106.7</td>\n",
        "</tr>\n",
        "<tr>\n",
        "  <th>Df Model:</th>              <td>     3</td>      <th>                     </th>     <td> </td>   \n",
        "</tr>\n",
        "</table>\n",
        "<table class=\"simpletable\">\n",
        "<tr>\n",
        "    <td></td>       <th>coef</th>     <th>std err</th>      <th>t</th>      <th>P>|t|</th> <th>[95.0% Conf. Int.]</th> \n",
        "</tr>\n",
        "<tr>\n",
        "  <th>const</th> <td>    0.9245</td> <td>    0.449</td> <td>    2.060</td> <td> 0.045</td> <td>    0.019     1.830</td>\n",
        "</tr>\n",
        "<tr>\n",
        "  <th>x1</th>    <td>    1.3933</td> <td>    0.150</td> <td>    9.305</td> <td> 0.000</td> <td>    1.091     1.695</td>\n",
        "</tr>\n",
        "<tr>\n",
        "  <th>x2</th>    <td>   -0.0862</td> <td>    0.156</td> <td>   -0.551</td> <td> 0.584</td> <td>   -0.402     0.229</td>\n",
        "</tr>\n",
        "<tr>\n",
        "  <th>x3</th>    <td>   -0.0081</td> <td>    0.043</td> <td>   -0.188</td> <td> 0.852</td> <td>   -0.095     0.079</td>\n",
        "</tr>\n",
        "</table>\n",
        "<table class=\"simpletable\">\n",
        "<tr>\n",
        "  <th>Omnibus:</th>       <td> 3.841</td> <th>  Durbin-Watson:     </th> <td>   1.819</td>\n",
        "</tr>\n",
        "<tr>\n",
        "  <th>Prob(Omnibus):</th> <td> 0.147</td> <th>  Jarque-Bera (JB):  </th> <td>   2.771</td>\n",
        "</tr>\n",
        "<tr>\n",
        "  <th>Skew:</th>          <td> 0.552</td> <th>  Prob(JB):          </th> <td>   0.250</td>\n",
        "</tr>\n",
        "<tr>\n",
        "  <th>Kurtosis:</th>      <td> 3.444</td> <th>  Cond. No.          </th> <td>    28.9</td>\n",
        "</tr>\n",
        "</table>"
       ],
       "metadata": {},
       "output_type": "pyout",
<<<<<<< HEAD
       "prompt_number": 72,
=======
       "prompt_number": 23,
>>>>>>> 70fc3ec28e5d2232f3f84b4c015bcdc689b3c103
       "text": [
        "<class 'statsmodels.iolib.summary.Summary'>\n",
        "\"\"\"\n",
        "                            OLS Regression Results                            \n",
        "==============================================================================\n",
        "Dep. Variable:                      y   R-squared:                       0.733\n",
        "Model:                            OLS   Adj. R-squared:                  0.715\n",
        "Method:                 Least Squares   F-statistic:                     39.38\n",
        "Date:                Mon, 20 Oct 2014   Prob (F-statistic):           2.12e-12\n",
<<<<<<< HEAD
        "Time:                        21:14:16   Log-Likelihood:                -45.641\n",
=======
        "Time:                        21:12:23   Log-Likelihood:                -45.641\n",
>>>>>>> 70fc3ec28e5d2232f3f84b4c015bcdc689b3c103
        "No. Observations:                  47   AIC:                             99.28\n",
        "Df Residuals:                      43   BIC:                             106.7\n",
        "Df Model:                           3                                         \n",
        "==============================================================================\n",
        "                 coef    std err          t      P>|t|      [95.0% Conf. Int.]\n",
        "------------------------------------------------------------------------------\n",
        "const          0.9245      0.449      2.060      0.045         0.019     1.830\n",
        "x1             1.3933      0.150      9.305      0.000         1.091     1.695\n",
        "x2            -0.0862      0.156     -0.551      0.584        -0.402     0.229\n",
        "x3            -0.0081      0.043     -0.188      0.852        -0.095     0.079\n",
        "==============================================================================\n",
        "Omnibus:                        3.841   Durbin-Watson:                   1.819\n",
        "Prob(Omnibus):                  0.147   Jarque-Bera (JB):                2.771\n",
        "Skew:                           0.552   Prob(JB):                        0.250\n",
        "Kurtosis:                       3.444   Cond. No.                         28.9\n",
        "==============================================================================\n",
        "\"\"\""
       ]
      }
     ],
<<<<<<< HEAD
     "prompt_number": 72
=======
     "prompt_number": 23
>>>>>>> 70fc3ec28e5d2232f3f84b4c015bcdc689b3c103
    },
    {
     "cell_type": "markdown",
     "metadata": {},
     "source": [
      "## 3D Plot"
     ]
    },
    {
     "cell_type": "code",
     "collapsed": false,
     "input": [
      "# 3d plot\n",
      "from mpl_toolkits.mplot3d import Axes3D\n",
      "\n",
      "x = data[['sqft', 'bedrooms','age']].values\n",
      "y = data['price'].values\n",
      "\n",
      "fignum = 1\n",
      "fig = plt.figure(fignum, figsize=(8, 6))\n",
      "plt.clf()\n",
      "ax = Axes3D(fig, rect=[0, 0, .95, 1], elev=38, azim=124)\n",
      "\n",
      "plt.cla()\n",
      "X = sm.add_constant(x, prepend=True)\n",
      "results = sm.OLS(y, X).fit()\n",
      "\n",
      "# est.fit(X)\n",
      "# ax.scatter(X[:, 0], X[:, 1], X[:, 3], c=labels.astype(np.float))\n",
      "ax.scatter(X[:, 1], X[:, 0], X[:, 3])\n",
      "\n",
      "ax.w_xaxis.set_ticklabels([])\n",
      "ax.w_yaxis.set_ticklabels([])\n",
      "ax.w_zaxis.set_ticklabels([])\n",
      "ax.set_ylabel('Sqft')\n",
      "ax.set_xlabel('Bedrooms')\n",
      "ax.set_zlabel('Price')\n",
      "plt.show()"
     ],
     "language": "python",
     "metadata": {},
     "outputs": [
      {
       "metadata": {},
       "output_type": "display_data",
       "png": "iVBORw0KGgoAAAANSUhEUgAAAjEAAAG+CAYAAABiYVVkAAAABHNCSVQICAgIfAhkiAAAAAlwSFlz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\nAAAAAElFTkSuQmCC\n",
       "text": [
<<<<<<< HEAD
        "<matplotlib.figure.Figure at 0x198222b0>"
       ]
      }
     ],
     "prompt_number": 73
=======
        "<matplotlib.figure.Figure at 0x10a93ddd0>"
       ]
      }
     ],
     "prompt_number": 24
>>>>>>> 70fc3ec28e5d2232f3f84b4c015bcdc689b3c103
    },
    {
     "cell_type": "markdown",
     "metadata": {},
     "source": [
      "## Just sqft & bedrooms"
     ]
    },
    {
     "cell_type": "code",
     "collapsed": false,
     "input": [
      "x = data_n[['sqft', 'bedrooms']].values\n",
      "y = data_n['price'].values\n",
      "X = sm.add_constant(x, prepend=True)\n",
      "results = sm.OLS(y, X).fit()\n",
      "results.summary()"
     ],
     "language": "python",
     "metadata": {},
     "outputs": [
      {
       "html": [
        "<table class=\"simpletable\">\n",
        "<caption>OLS Regression Results</caption>\n",
        "<tr>\n",
        "  <th>Dep. Variable:</th>            <td>y</td>        <th>  R-squared:         </th> <td>   0.733</td>\n",
        "</tr>\n",
        "<tr>\n",
        "  <th>Model:</th>                   <td>OLS</td>       <th>  Adj. R-squared:    </th> <td>   0.721</td>\n",
        "</tr>\n",
        "<tr>\n",
        "  <th>Method:</th>             <td>Least Squares</td>  <th>  F-statistic:       </th> <td>   60.38</td>\n",
        "</tr>\n",
        "<tr>\n",
        "  <th>Date:</th>             <td>Mon, 20 Oct 2014</td> <th>  Prob (F-statistic):</th> <td>2.43e-13</td>\n",
        "</tr>\n",
        "<tr>\n",
<<<<<<< HEAD
        "  <th>Time:</th>                 <td>21:14:16</td>     <th>  Log-Likelihood:    </th> <td> -45.660</td>\n",
=======
        "  <th>Time:</th>                 <td>21:12:24</td>     <th>  Log-Likelihood:    </th> <td> -45.660</td>\n",
>>>>>>> 70fc3ec28e5d2232f3f84b4c015bcdc689b3c103
        "</tr>\n",
        "<tr>\n",
        "  <th>No. Observations:</th>      <td>    47</td>      <th>  AIC:               </th> <td>   97.32</td>\n",
        "</tr>\n",
        "<tr>\n",
        "  <th>Df Residuals:</th>          <td>    44</td>      <th>  BIC:               </th> <td>   102.9</td>\n",
        "</tr>\n",
        "<tr>\n",
        "  <th>Df Model:</th>              <td>     2</td>      <th>                     </th>     <td> </td>   \n",
        "</tr>\n",
        "</table>\n",
        "<table class=\"simpletable\">\n",
        "<tr>\n",
        "    <td></td>       <th>coef</th>     <th>std err</th>      <th>t</th>      <th>P>|t|</th> <th>[95.0% Conf. Int.]</th> \n",
        "</tr>\n",
        "<tr>\n",
        "  <th>const</th> <td>    0.8960</td> <td>    0.418</td> <td>    2.145</td> <td> 0.037</td> <td>    0.054     1.738</td>\n",
        "</tr>\n",
        "<tr>\n",
        "  <th>x1</th>    <td>    1.3921</td> <td>    0.148</td> <td>    9.409</td> <td> 0.000</td> <td>    1.094     1.690</td>\n",
        "</tr>\n",
        "<tr>\n",
        "  <th>x2</th>    <td>   -0.0874</td> <td>    0.155</td> <td>   -0.566</td> <td> 0.575</td> <td>   -0.399     0.224</td>\n",
        "</tr>\n",
        "</table>\n",
        "<table class=\"simpletable\">\n",
        "<tr>\n",
        "  <th>Omnibus:</th>       <td> 4.083</td> <th>  Durbin-Watson:     </th> <td>   1.826</td>\n",
        "</tr>\n",
        "<tr>\n",
        "  <th>Prob(Omnibus):</th> <td> 0.130</td> <th>  Jarque-Bera (JB):  </th> <td>   2.977</td>\n",
        "</tr>\n",
        "<tr>\n",
        "  <th>Skew:</th>          <td> 0.567</td> <th>  Prob(JB):          </th> <td>   0.226</td>\n",
        "</tr>\n",
        "<tr>\n",
        "  <th>Kurtosis:</th>      <td> 3.484</td> <th>  Cond. No.          </th> <td>    18.0</td>\n",
        "</tr>\n",
        "</table>"
       ],
       "metadata": {},
       "output_type": "pyout",
<<<<<<< HEAD
       "prompt_number": 74,
=======
       "prompt_number": 25,
>>>>>>> 70fc3ec28e5d2232f3f84b4c015bcdc689b3c103
       "text": [
        "<class 'statsmodels.iolib.summary.Summary'>\n",
        "\"\"\"\n",
        "                            OLS Regression Results                            \n",
        "==============================================================================\n",
        "Dep. Variable:                      y   R-squared:                       0.733\n",
        "Model:                            OLS   Adj. R-squared:                  0.721\n",
        "Method:                 Least Squares   F-statistic:                     60.38\n",
        "Date:                Mon, 20 Oct 2014   Prob (F-statistic):           2.43e-13\n",
<<<<<<< HEAD
        "Time:                        21:14:16   Log-Likelihood:                -45.660\n",
=======
        "Time:                        21:12:24   Log-Likelihood:                -45.660\n",
>>>>>>> 70fc3ec28e5d2232f3f84b4c015bcdc689b3c103
        "No. Observations:                  47   AIC:                             97.32\n",
        "Df Residuals:                      44   BIC:                             102.9\n",
        "Df Model:                           2                                         \n",
        "==============================================================================\n",
        "                 coef    std err          t      P>|t|      [95.0% Conf. Int.]\n",
        "------------------------------------------------------------------------------\n",
        "const          0.8960      0.418      2.145      0.037         0.054     1.738\n",
        "x1             1.3921      0.148      9.409      0.000         1.094     1.690\n",
        "x2            -0.0874      0.155     -0.566      0.575        -0.399     0.224\n",
        "==============================================================================\n",
        "Omnibus:                        4.083   Durbin-Watson:                   1.826\n",
        "Prob(Omnibus):                  0.130   Jarque-Bera (JB):                2.977\n",
        "Skew:                           0.567   Prob(JB):                        0.226\n",
        "Kurtosis:                       3.484   Cond. No.                         18.0\n",
        "==============================================================================\n",
        "\"\"\""
       ]
      }
     ],
<<<<<<< HEAD
     "prompt_number": 74
=======
     "prompt_number": 25
>>>>>>> 70fc3ec28e5d2232f3f84b4c015bcdc689b3c103
    },
    {
     "cell_type": "markdown",
     "metadata": {},
     "source": [
      "## The formula API"
     ]
    },
    {
     "cell_type": "code",
     "collapsed": false,
     "input": [
      "import statsmodels.formula.api as smf"
     ],
     "language": "python",
     "metadata": {},
     "outputs": [],
<<<<<<< HEAD
     "prompt_number": 75
=======
     "prompt_number": 26
>>>>>>> 70fc3ec28e5d2232f3f84b4c015bcdc689b3c103
    },
    {
     "cell_type": "code",
     "collapsed": false,
     "input": [
      "results = smf.ols('price ~ sqft + bedrooms', data=data).fit()"
     ],
     "language": "python",
     "metadata": {},
     "outputs": [],
<<<<<<< HEAD
     "prompt_number": 76
=======
     "prompt_number": 27
>>>>>>> 70fc3ec28e5d2232f3f84b4c015bcdc689b3c103
    },
    {
     "cell_type": "code",
     "collapsed": false,
     "input": [
      "results.summary()"
     ],
     "language": "python",
     "metadata": {},
     "outputs": [
      {
       "html": [
        "<table class=\"simpletable\">\n",
        "<caption>OLS Regression Results</caption>\n",
        "<tr>\n",
        "  <th>Dep. Variable:</th>          <td>price</td>      <th>  R-squared:         </th> <td>   0.733</td>\n",
        "</tr>\n",
        "<tr>\n",
        "  <th>Model:</th>                   <td>OLS</td>       <th>  Adj. R-squared:    </th> <td>   0.721</td>\n",
        "</tr>\n",
        "<tr>\n",
        "  <th>Method:</th>             <td>Least Squares</td>  <th>  F-statistic:       </th> <td>   60.38</td>\n",
        "</tr>\n",
        "<tr>\n",
        "  <th>Date:</th>             <td>Mon, 20 Oct 2014</td> <th>  Prob (F-statistic):</th> <td>2.43e-13</td>\n",
        "</tr>\n",
        "<tr>\n",
<<<<<<< HEAD
        "  <th>Time:</th>                 <td>21:14:17</td>     <th>  Log-Likelihood:    </th> <td> -586.77</td>\n",
=======
        "  <th>Time:</th>                 <td>21:12:25</td>     <th>  Log-Likelihood:    </th> <td> -586.77</td>\n",
>>>>>>> 70fc3ec28e5d2232f3f84b4c015bcdc689b3c103
        "</tr>\n",
        "<tr>\n",
        "  <th>No. Observations:</th>      <td>    47</td>      <th>  AIC:               </th> <td>   1180.</td>\n",
        "</tr>\n",
        "<tr>\n",
        "  <th>Df Residuals:</th>          <td>    44</td>      <th>  BIC:               </th> <td>   1185.</td>\n",
        "</tr>\n",
        "<tr>\n",
        "  <th>Df Model:</th>              <td>     2</td>      <th>                     </th>     <td> </td>   \n",
        "</tr>\n",
        "</table>\n",
        "<table class=\"simpletable\">\n",
        "<tr>\n",
        "      <td></td>         <th>coef</th>     <th>std err</th>      <th>t</th>      <th>P>|t|</th> <th>[95.0% Conf. Int.]</th> \n",
        "</tr>\n",
        "<tr>\n",
        "  <th>Intercept</th> <td>  8.96e+04</td> <td> 4.18e+04</td> <td>    2.145</td> <td> 0.037</td> <td> 5421.208  1.74e+05</td>\n",
        "</tr>\n",
        "<tr>\n",
        "  <th>sqft</th>      <td>  139.2107</td> <td>   14.795</td> <td>    9.409</td> <td> 0.000</td> <td>  109.393   169.028</td>\n",
        "</tr>\n",
        "<tr>\n",
        "  <th>bedrooms</th>  <td>-8738.0191</td> <td> 1.55e+04</td> <td>   -0.566</td> <td> 0.575</td> <td>-3.99e+04  2.24e+04</td>\n",
        "</tr>\n",
        "</table>\n",
        "<table class=\"simpletable\">\n",
        "<tr>\n",
        "  <th>Omnibus:</th>       <td> 4.083</td> <th>  Durbin-Watson:     </th> <td>   1.826</td>\n",
        "</tr>\n",
        "<tr>\n",
        "  <th>Prob(Omnibus):</th> <td> 0.130</td> <th>  Jarque-Bera (JB):  </th> <td>   2.977</td>\n",
        "</tr>\n",
        "<tr>\n",
        "  <th>Skew:</th>          <td> 0.567</td> <th>  Prob(JB):          </th> <td>   0.226</td>\n",
        "</tr>\n",
        "<tr>\n",
        "  <th>Kurtosis:</th>      <td> 3.484</td> <th>  Cond. No.          </th> <td>9.71e+03</td>\n",
        "</tr>\n",
        "</table>"
       ],
       "metadata": {},
       "output_type": "pyout",
<<<<<<< HEAD
       "prompt_number": 77,
=======
       "prompt_number": 28,
>>>>>>> 70fc3ec28e5d2232f3f84b4c015bcdc689b3c103
       "text": [
        "<class 'statsmodels.iolib.summary.Summary'>\n",
        "\"\"\"\n",
        "                            OLS Regression Results                            \n",
        "==============================================================================\n",
        "Dep. Variable:                  price   R-squared:                       0.733\n",
        "Model:                            OLS   Adj. R-squared:                  0.721\n",
        "Method:                 Least Squares   F-statistic:                     60.38\n",
        "Date:                Mon, 20 Oct 2014   Prob (F-statistic):           2.43e-13\n",
<<<<<<< HEAD
        "Time:                        21:14:17   Log-Likelihood:                -586.77\n",
=======
        "Time:                        21:12:25   Log-Likelihood:                -586.77\n",
>>>>>>> 70fc3ec28e5d2232f3f84b4c015bcdc689b3c103
        "No. Observations:                  47   AIC:                             1180.\n",
        "Df Residuals:                      44   BIC:                             1185.\n",
        "Df Model:                           2                                         \n",
        "==============================================================================\n",
        "                 coef    std err          t      P>|t|      [95.0% Conf. Int.]\n",
        "------------------------------------------------------------------------------\n",
        "Intercept    8.96e+04   4.18e+04      2.145      0.037      5421.208  1.74e+05\n",
        "sqft         139.2107     14.795      9.409      0.000       109.393   169.028\n",
        "bedrooms   -8738.0191   1.55e+04     -0.566      0.575     -3.99e+04  2.24e+04\n",
        "==============================================================================\n",
        "Omnibus:                        4.083   Durbin-Watson:                   1.826\n",
        "Prob(Omnibus):                  0.130   Jarque-Bera (JB):                2.977\n",
        "Skew:                           0.567   Prob(JB):                        0.226\n",
        "Kurtosis:                       3.484   Cond. No.                     9.71e+03\n",
        "==============================================================================\n",
        "\n",
        "Warnings:\n",
        "[1] The condition number is large, 9.71e+03. This might indicate that there are\n",
        "strong multicollinearity or other numerical problems.\n",
        "\"\"\""
       ]
      }
     ],
<<<<<<< HEAD
     "prompt_number": 77
=======
     "prompt_number": 28
>>>>>>> 70fc3ec28e5d2232f3f84b4c015bcdc689b3c103
    },
    {
     "cell_type": "markdown",
     "metadata": {},
     "source": [
      "## Nonlinear Fitting"
     ]
    },
    {
     "cell_type": "markdown",
     "metadata": {},
     "source": [
      "Let's generate points with an arbitrary nonlinear function"
     ]
    },
    {
     "cell_type": "markdown",
     "metadata": {},
     "source": [
      "$y = \\frac{1}{2} x + \\frac{1}{2} \\sin{x} - \\frac{1}{50} (x-5)^2 + 5$"
     ]
    },
    {
     "cell_type": "code",
     "collapsed": false,
     "input": [
      "# start with some fake data\n",
      "nsample = 50\n",
      "sig = 0.5\n",
      "# generate linear space\n",
      "x = np.linspace(0, 20, nsample)\n",
      "# invent function\n",
      "X = np.c_[x, np.sin(x), (x - 5)**2, np.ones(nsample)]\n",
      "# invent coefficients\n",
      "beta = [1.5, 2.5, -0.2, 15.]\n",
      "# generate |\n",
      "y_true = np.dot(X, beta)\n",
      "# add noise\n",
      "y = y_true + sig * np.random.normal(size=nsample)"
     ],
     "language": "python",
     "metadata": {},
     "outputs": [],
<<<<<<< HEAD
     "prompt_number": 78
=======
     "prompt_number": 55
>>>>>>> 70fc3ec28e5d2232f3f84b4c015bcdc689b3c103
    },
    {
     "cell_type": "code",
     "collapsed": false,
     "input": [
      "X = np.c_[x, np.sin(x), (x - 5)**2, np.ones(nsample)]\n",
      "X.shape\n",
      "x.shape\n",
      "y_true.shape"
     ],
     "language": "python",
     "metadata": {},
<<<<<<< HEAD
     "outputs": [],
     "prompt_number": 78
=======
     "outputs": [
      {
       "metadata": {},
       "output_type": "pyout",
       "prompt_number": 56,
       "text": [
        "(50,)"
       ]
      }
     ],
     "prompt_number": 56
    },
    {
     "cell_type": "code",
     "collapsed": false,
     "input": [
      "np.random.normal(size=nsample)"
     ],
     "language": "python",
     "metadata": {},
     "outputs": [
      {
       "metadata": {},
       "output_type": "pyout",
       "prompt_number": 57,
       "text": [
        "array([-1.03188213,  0.15004602,  0.75841253,  1.16289347, -0.6160019 ,\n",
        "        0.75897199,  1.64908566,  2.23072786, -0.78705297, -0.10814376,\n",
        "        2.33643945,  0.60983476,  0.68526482,  0.2907625 , -0.53775701,\n",
        "        1.56571734, -1.73143772, -0.6882914 ,  0.96671682, -1.96519001,\n",
        "        0.72865598, -0.94992205,  0.35141659, -0.35598127, -1.53289198,\n",
        "        0.53335184,  0.56503169,  0.6024033 ,  0.64596614, -2.18945286,\n",
        "       -1.20542444,  0.71777145, -1.56098612, -0.22194462, -1.44553005,\n",
        "       -0.30546083, -0.14251038, -0.14159261, -0.89369642, -1.97334823,\n",
        "       -1.30799395,  0.16134236, -0.08953732, -0.2099318 , -1.25004093,\n",
        "        1.58029928, -0.04189858, -0.71847644,  0.07816554,  1.37200851])"
       ]
      }
     ],
     "prompt_number": 57
>>>>>>> 70fc3ec28e5d2232f3f84b4c015bcdc689b3c103
    },
    {
     "cell_type": "markdown",
     "metadata": {},
     "source": [
      "quick look at the data"
     ]
    },
    {
     "cell_type": "code",
     "collapsed": false,
     "input": [
      "# nice! ipython shortcuts!\n",
      "plt.plot(x, y_true)\n",
      "plt.scatter(x, y, c='g')\n",
      "plt.show()"
     ],
     "language": "python",
     "metadata": {},
     "outputs": [
      {
       "metadata": {},
       "output_type": "display_data",
<<<<<<< HEAD
       "png": "iVBORw0KGgoAAAANSUhEUgAAAXEAAAEACAYAAABF+UbAAAAABHNCSVQICAgIfAhkiAAAAAlwSFlz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\n",
       "text": [
        "<matplotlib.figure.Figure at 0x177203c8>"
       ]
      }
     ],
     "prompt_number": 79
=======
       "png": "iVBORw0KGgoAAAANSUhEUgAAAXIAAAEACAYAAACuzv3DAAAABHNCSVQICAgIfAhkiAAAAAlwSFlz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\nCCGEEEIIIYQQQtzu/wH1wAWnyxcMkgAAAABJRU5ErkJggg==\n",
       "text": [
        "<matplotlib.figure.Figure at 0x10ca4d690>"
       ]
      }
     ],
     "prompt_number": 58
>>>>>>> 70fc3ec28e5d2232f3f84b4c015bcdc689b3c103
    },
    {
     "cell_type": "code",
     "collapsed": false,
     "input": [
      "res = sm.OLS(y, X).fit()\n",
      "res.summary()"
     ],
     "language": "python",
     "metadata": {},
     "outputs": [
      {
       "html": [
        "<table class=\"simpletable\">\n",
        "<caption>OLS Regression Results</caption>\n",
        "<tr>\n",
<<<<<<< HEAD
        "  <th>Dep. Variable:</th>            <td>y</td>        <th>  R-squared:         </th> <td>   0.940</td>\n",
        "</tr>\n",
        "<tr>\n",
        "  <th>Model:</th>                   <td>OLS</td>       <th>  Adj. R-squared:    </th> <td>   0.936</td>\n",
        "</tr>\n",
        "<tr>\n",
        "  <th>Method:</th>             <td>Least Squares</td>  <th>  F-statistic:       </th> <td>   241.3</td>\n",
        "</tr>\n",
        "<tr>\n",
        "  <th>Date:</th>             <td>Mon, 20 Oct 2014</td> <th>  Prob (F-statistic):</th> <td>3.84e-28</td>\n",
        "</tr>\n",
        "<tr>\n",
        "  <th>Time:</th>                 <td>21:12:47</td>     <th>  Log-Likelihood:    </th> <td> -32.544</td>\n",
        "</tr>\n",
        "<tr>\n",
        "  <th>No. Observations:</th>      <td>    50</td>      <th>  AIC:               </th> <td>   73.09</td>\n",
        "</tr>\n",
        "<tr>\n",
        "  <th>Df Residuals:</th>          <td>    46</td>      <th>  BIC:               </th> <td>   80.74</td>\n",
=======
        "  <th>Dep. Variable:</th>            <td>y</td>        <th>  R-squared:         </th> <td>   0.996</td>\n",
        "</tr>\n",
        "<tr>\n",
        "  <th>Model:</th>                   <td>OLS</td>       <th>  Adj. R-squared:    </th> <td>   0.995</td>\n",
        "</tr>\n",
        "<tr>\n",
        "  <th>Method:</th>             <td>Least Squares</td>  <th>  F-statistic:       </th> <td>   3487.</td>\n",
        "</tr>\n",
        "<tr>\n",
        "  <th>Date:</th>             <td>Mon, 20 Oct 2014</td> <th>  Prob (F-statistic):</th> <td>3.07e-54</td>\n",
        "</tr>\n",
        "<tr>\n",
        "  <th>Time:</th>                 <td>21:26:12</td>     <th>  Log-Likelihood:    </th> <td> -31.675</td>\n",
        "</tr>\n",
        "<tr>\n",
        "  <th>No. Observations:</th>      <td>    50</td>      <th>  AIC:               </th> <td>   71.35</td>\n",
        "</tr>\n",
        "<tr>\n",
        "  <th>Df Residuals:</th>          <td>    46</td>      <th>  BIC:               </th> <td>   79.00</td>\n",
>>>>>>> 70fc3ec28e5d2232f3f84b4c015bcdc689b3c103
        "</tr>\n",
        "<tr>\n",
        "  <th>Df Model:</th>              <td>     3</td>      <th>                     </th>     <td> </td>   \n",
        "</tr>\n",
        "</table>\n",
        "<table class=\"simpletable\">\n",
        "<tr>\n",
        "    <td></td>       <th>coef</th>     <th>std err</th>      <th>t</th>      <th>P>|t|</th> <th>[95.0% Conf. Int.]</th> \n",
        "</tr>\n",
        "<tr>\n",
<<<<<<< HEAD
        "  <th>x1</th>    <td>    0.5057</td> <td>    0.025</td> <td>   19.891</td> <td> 0.000</td> <td>    0.455     0.557</td>\n",
        "</tr>\n",
        "<tr>\n",
        "  <th>x2</th>    <td>    0.6165</td> <td>    0.100</td> <td>    6.169</td> <td> 0.000</td> <td>    0.415     0.818</td>\n",
        "</tr>\n",
        "<tr>\n",
        "  <th>x3</th>    <td>   -0.0208</td> <td>    0.002</td> <td>   -9.335</td> <td> 0.000</td> <td>   -0.025    -0.016</td>\n",
        "</tr>\n",
        "<tr>\n",
        "  <th>const</th> <td>    5.0323</td> <td>    0.165</td> <td>   30.526</td> <td> 0.000</td> <td>    4.700     5.364</td>\n",
=======
        "  <th>x1</th>    <td>    1.4943</td> <td>    0.025</td> <td>   59.805</td> <td> 0.000</td> <td>    1.444     1.545</td>\n",
        "</tr>\n",
        "<tr>\n",
        "  <th>x2</th>    <td>    2.6117</td> <td>    0.098</td> <td>   26.589</td> <td> 0.000</td> <td>    2.414     2.809</td>\n",
        "</tr>\n",
        "<tr>\n",
        "  <th>x3</th>    <td>   -0.1981</td> <td>    0.002</td> <td>  -90.318</td> <td> 0.000</td> <td>   -0.203    -0.194</td>\n",
        "</tr>\n",
        "<tr>\n",
        "  <th>const</th> <td>   14.8901</td> <td>    0.162</td> <td>   91.908</td> <td> 0.000</td> <td>   14.564    15.216</td>\n",
>>>>>>> 70fc3ec28e5d2232f3f84b4c015bcdc689b3c103
        "</tr>\n",
        "</table>\n",
        "<table class=\"simpletable\">\n",
        "<tr>\n",
<<<<<<< HEAD
        "  <th>Omnibus:</th>       <td> 1.870</td> <th>  Durbin-Watson:     </th> <td>   1.943</td>\n",
        "</tr>\n",
        "<tr>\n",
        "  <th>Prob(Omnibus):</th> <td> 0.393</td> <th>  Jarque-Bera (JB):  </th> <td>   1.625</td>\n",
        "</tr>\n",
        "<tr>\n",
        "  <th>Skew:</th>          <td>-0.306</td> <th>  Prob(JB):          </th> <td>   0.444</td>\n",
        "</tr>\n",
        "<tr>\n",
        "  <th>Kurtosis:</th>      <td> 2.364</td> <th>  Cond. No.          </th> <td>    221.</td>\n",
=======
        "  <th>Omnibus:</th>       <td> 0.126</td> <th>  Durbin-Watson:     </th> <td>   1.711</td>\n",
        "</tr>\n",
        "<tr>\n",
        "  <th>Prob(Omnibus):</th> <td> 0.939</td> <th>  Jarque-Bera (JB):  </th> <td>   0.246</td>\n",
        "</tr>\n",
        "<tr>\n",
        "  <th>Skew:</th>          <td> 0.108</td> <th>  Prob(JB):          </th> <td>   0.884</td>\n",
        "</tr>\n",
        "<tr>\n",
        "  <th>Kurtosis:</th>      <td> 2.733</td> <th>  Cond. No.          </th> <td>    221.</td>\n",
>>>>>>> 70fc3ec28e5d2232f3f84b4c015bcdc689b3c103
        "</tr>\n",
        "</table>"
       ],
       "metadata": {},
       "output_type": "pyout",
<<<<<<< HEAD
       "prompt_number": 47,
=======
       "prompt_number": 60,
>>>>>>> 70fc3ec28e5d2232f3f84b4c015bcdc689b3c103
       "text": [
        "<class 'statsmodels.iolib.summary.Summary'>\n",
        "\"\"\"\n",
        "                            OLS Regression Results                            \n",
        "==============================================================================\n",
<<<<<<< HEAD
        "Dep. Variable:                      y   R-squared:                       0.940\n",
        "Model:                            OLS   Adj. R-squared:                  0.936\n",
        "Method:                 Least Squares   F-statistic:                     241.3\n",
        "Date:                Mon, 20 Oct 2014   Prob (F-statistic):           3.84e-28\n",
        "Time:                        21:12:47   Log-Likelihood:                -32.544\n",
        "No. Observations:                  50   AIC:                             73.09\n",
        "Df Residuals:                      46   BIC:                             80.74\n",
=======
        "Dep. Variable:                      y   R-squared:                       0.996\n",
        "Model:                            OLS   Adj. R-squared:                  0.995\n",
        "Method:                 Least Squares   F-statistic:                     3487.\n",
        "Date:                Mon, 20 Oct 2014   Prob (F-statistic):           3.07e-54\n",
        "Time:                        21:26:12   Log-Likelihood:                -31.675\n",
        "No. Observations:                  50   AIC:                             71.35\n",
        "Df Residuals:                      46   BIC:                             79.00\n",
>>>>>>> 70fc3ec28e5d2232f3f84b4c015bcdc689b3c103
        "Df Model:                           3                                         \n",
        "==============================================================================\n",
        "                 coef    std err          t      P>|t|      [95.0% Conf. Int.]\n",
        "------------------------------------------------------------------------------\n",
<<<<<<< HEAD
        "x1             0.5057      0.025     19.891      0.000         0.455     0.557\n",
        "x2             0.6165      0.100      6.169      0.000         0.415     0.818\n",
        "x3            -0.0208      0.002     -9.335      0.000        -0.025    -0.016\n",
        "const          5.0323      0.165     30.526      0.000         4.700     5.364\n",
        "==============================================================================\n",
        "Omnibus:                        1.870   Durbin-Watson:                   1.943\n",
        "Prob(Omnibus):                  0.393   Jarque-Bera (JB):                1.625\n",
        "Skew:                          -0.306   Prob(JB):                        0.444\n",
        "Kurtosis:                       2.364   Cond. No.                         221.\n",
=======
        "x1             1.4943      0.025     59.805      0.000         1.444     1.545\n",
        "x2             2.6117      0.098     26.589      0.000         2.414     2.809\n",
        "x3            -0.1981      0.002    -90.318      0.000        -0.203    -0.194\n",
        "const         14.8901      0.162     91.908      0.000        14.564    15.216\n",
        "==============================================================================\n",
        "Omnibus:                        0.126   Durbin-Watson:                   1.711\n",
        "Prob(Omnibus):                  0.939   Jarque-Bera (JB):                0.246\n",
        "Skew:                           0.108   Prob(JB):                        0.884\n",
        "Kurtosis:                       2.733   Cond. No.                         221.\n",
>>>>>>> 70fc3ec28e5d2232f3f84b4c015bcdc689b3c103
        "==============================================================================\n",
        "\"\"\""
       ]
      }
     ],
<<<<<<< HEAD
     "prompt_number": 47
=======
     "prompt_number": 60
>>>>>>> 70fc3ec28e5d2232f3f84b4c015bcdc689b3c103
    },
    {
     "cell_type": "markdown",
     "metadata": {},
     "source": [
      "I can access the results attributes"
     ]
    },
    {
     "cell_type": "code",
     "collapsed": false,
     "input": [
      "print res.params"
     ],
     "language": "python",
     "metadata": {},
     "outputs": [
      {
       "output_type": "stream",
       "stream": "stdout",
       "text": [
        "[ 0.52896821  0.73208563 -0.02323498  4.9863326 ]\n"
       ]
      }
     ],
     "prompt_number": 52
    },
    {
     "cell_type": "code",
     "collapsed": false,
     "input": [
      "print \n",
      "res.bse"
     ],
     "language": "python",
     "metadata": {},
     "outputs": [
      {
       "output_type": "stream",
       "stream": "stdout",
       "text": [
        "\n"
       ]
      },
      {
       "metadata": {},
       "output_type": "pyout",
       "prompt_number": 47,
       "text": [
        "array([ 1.67871717,  1.0174024 ,  1.65371375,  0.74790647,  0.33976576,\n",
        "        0.08502196])"
       ]
      }
     ],
     "prompt_number": 47
    },
    {
     "cell_type": "code",
     "collapsed": false,
     "input": [
      "print res.predict()"
     ],
     "language": "python",
     "metadata": {},
     "outputs": [
      {
       "output_type": "stream",
       "stream": "stdout",
       "text": [
        "[  4.42277248   4.79692546   5.14930138   5.46673736   5.74082092\n",
        "   5.96927216   6.15631832   6.31199925   6.45051792   6.58790688\n",
        "   6.73939418   6.91690144   7.12708514   7.37024303   7.64026515\n",
        "   7.92563771   8.21133479   8.48128701   8.72102172   8.92004083\n",
        "   9.07354554   9.18322487   9.25697809   9.30761691   9.35076055\n",
        "   9.40226957   9.47563999   9.57978595   9.71757515   9.88535766\n",
        "  10.07356566  10.26828532  10.45354287  10.61392902  10.73713066\n",
        "  10.81595387  10.84950589  10.84334173  10.80855158  10.75993866\n",
        "  10.71358712  10.68421946  10.68277765  10.71462543  10.77866702\n",
        "  10.86752716  10.96876289  11.06690783  11.14601331  11.19226866]\n"
       ]
      }
     ],
     "prompt_number": 35
    },
    {
     "cell_type": "markdown",
     "metadata": {},
     "source": [
      "Let's look at the fit!"
     ]
    },
    {
     "cell_type": "code",
     "collapsed": false,
     "input": [
      "plt.figure(figsize = (10,10));\n",
      "plt.plot(x, y, 'o', x, y_true, 'b-');\n",
      "prstd, iv_l, iv_u = wls_prediction_std(res);\n",
      "plt.plot(x, res.fittedvalues, 'r--.');\n",
      "plt.plot(x, iv_u, 'r--');\n",
      "plt.plot(x, iv_l, 'r--');\n",
      "plt.title('blue: true,   red: OLS');"
     ],
     "language": "python",
     "metadata": {},
     "outputs": [
      {
       "metadata": {},
       "output_type": "display_data",
       "png": "iVBORw0KGgoAAAANSUhEUgAAAlEAAAJZCAYAAACJL2CzAAAABHNCSVQICAgIfAhkiAAAAAlwSFlz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\nEREREREREREREREREREREREREfFP/w9tL+yZD+gySAAAAABJRU5ErkJggg==\n",
       "text": [
        "<matplotlib.figure.Figure at 0x10ca75650>"
       ]
      }
     ],
     "prompt_number": 61
    },
    {
     "cell_type": "markdown",
     "metadata": {},
     "source": [
      "## Overfitting"
     ]
    },
    {
     "cell_type": "code",
     "collapsed": false,
     "input": [
      "x = np.array([-0.99768, -0.69574, -0.40373, -0.10236, 0.22024, 0.47742, 0.82229])\n",
      "y = np.array([2.0885, 1.1646, 0.3287, 0.46013, 0.44808, 0.10013, -0.32952])\n",
      "\n",
      "fig, ax = plt.subplots(figsize = (8,6))\n",
      "ax.plot(x, y, 'o', markersize=12)\n",
      "plt.xlim((-1.3, 1.3))"
     ],
     "language": "python",
     "metadata": {},
     "outputs": [
      {
       "metadata": {},
       "output_type": "pyout",
<<<<<<< HEAD
       "prompt_number": 80,
=======
       "prompt_number": 62,
>>>>>>> 70fc3ec28e5d2232f3f84b4c015bcdc689b3c103
       "text": [
        "(-1.3, 1.3)"
       ]
      },
      {
       "metadata": {},
       "output_type": "display_data",
       "png": "iVBORw0KGgoAAAANSUhEUgAAAecAAAFwCAYAAACCbrOvAAAABHNCSVQICAgIfAhkiAAAAAlwSFlz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\nBnuCnD/vXOoAAAAASUVORK5CYII=\n",
       "text": [
<<<<<<< HEAD
        "<matplotlib.figure.Figure at 0x18501470>"
       ]
      }
     ],
     "prompt_number": 80
=======
        "<matplotlib.figure.Figure at 0x10a7e72d0>"
       ]
      }
     ],
     "prompt_number": 62
>>>>>>> 70fc3ec28e5d2232f3f84b4c015bcdc689b3c103
    },
    {
     "cell_type": "code",
     "collapsed": false,
     "input": [
      "# X = np.c_[x, np.ones(len(x))]\n",
      "X = np.vander(x, 1+1)"
     ],
     "language": "python",
     "metadata": {},
     "outputs": [],
<<<<<<< HEAD
     "prompt_number": 81
=======
     "prompt_number": 63
    },
    {
     "cell_type": "code",
     "collapsed": false,
     "input": [
      "X"
     ],
     "language": "python",
     "metadata": {},
     "outputs": [
      {
       "metadata": {},
       "output_type": "pyout",
       "prompt_number": 64,
       "text": [
        "array([[-0.99768,  1.     ],\n",
        "       [-0.69574,  1.     ],\n",
        "       [-0.40373,  1.     ],\n",
        "       [-0.10236,  1.     ],\n",
        "       [ 0.22024,  1.     ],\n",
        "       [ 0.47742,  1.     ],\n",
        "       [ 0.82229,  1.     ]])"
       ]
      }
     ],
     "prompt_number": 64
>>>>>>> 70fc3ec28e5d2232f3f84b4c015bcdc689b3c103
    },
    {
     "cell_type": "code",
     "collapsed": false,
     "input": [
      "res = sm.OLS(y, X).fit()\n",
      "res.summary()"
     ],
     "language": "python",
     "metadata": {},
     "outputs": [
      {
       "html": [
        "<table class=\"simpletable\">\n",
        "<caption>OLS Regression Results</caption>\n",
        "<tr>\n",
        "  <th>Dep. Variable:</th>            <td>y</td>        <th>  R-squared:         </th> <td>   0.811</td>\n",
        "</tr>\n",
        "<tr>\n",
        "  <th>Model:</th>                   <td>OLS</td>       <th>  Adj. R-squared:    </th> <td>   0.773</td>\n",
        "</tr>\n",
        "<tr>\n",
        "  <th>Method:</th>             <td>Least Squares</td>  <th>  F-statistic:       </th> <td>   21.48</td>\n",
        "</tr>\n",
        "<tr>\n",
        "  <th>Date:</th>             <td>Mon, 20 Oct 2014</td> <th>  Prob (F-statistic):</th>  <td>0.00566</td>\n",
        "</tr>\n",
        "<tr>\n",
<<<<<<< HEAD
        "  <th>Time:</th>                 <td>21:31:51</td>     <th>  Log-Likelihood:    </th> <td> -1.9268</td>\n",
=======
        "  <th>Time:</th>                 <td>21:31:34</td>     <th>  Log-Likelihood:    </th> <td> -1.9268</td>\n",
>>>>>>> 70fc3ec28e5d2232f3f84b4c015bcdc689b3c103
        "</tr>\n",
        "<tr>\n",
        "  <th>No. Observations:</th>      <td>     7</td>      <th>  AIC:               </th> <td>   7.854</td>\n",
        "</tr>\n",
        "<tr>\n",
        "  <th>Df Residuals:</th>          <td>     5</td>      <th>  BIC:               </th> <td>   7.745</td>\n",
        "</tr>\n",
        "<tr>\n",
        "  <th>Df Model:</th>              <td>     1</td>      <th>                     </th>     <td> </td>   \n",
        "</tr>\n",
        "</table>\n",
        "<table class=\"simpletable\">\n",
        "<tr>\n",
        "    <td></td>       <th>coef</th>     <th>std err</th>      <th>t</th>      <th>P>|t|</th> <th>[95.0% Conf. Int.]</th> \n",
        "</tr>\n",
        "<tr>\n",
        "  <th>x1</th>    <td>   -1.0965</td> <td>    0.237</td> <td>   -4.635</td> <td> 0.006</td> <td>   -1.705    -0.488</td>\n",
        "</tr>\n",
        "<tr>\n",
        "  <th>const</th> <td>    0.5022</td> <td>    0.144</td> <td>    3.479</td> <td> 0.018</td> <td>    0.131     0.873</td>\n",
        "</tr>\n",
        "</table>\n",
        "<table class=\"simpletable\">\n",
        "<tr>\n",
        "  <th>Omnibus:</th>       <td>   nan</td> <th>  Durbin-Watson:     </th> <td>   1.343</td>\n",
        "</tr>\n",
        "<tr>\n",
        "  <th>Prob(Omnibus):</th> <td>   nan</td> <th>  Jarque-Bera (JB):  </th> <td>   0.286</td>\n",
        "</tr>\n",
        "<tr>\n",
        "  <th>Skew:</th>          <td>-0.488</td> <th>  Prob(JB):          </th> <td>   0.867</td>\n",
        "</tr>\n",
        "<tr>\n",
        "  <th>Kurtosis:</th>      <td> 2.842</td> <th>  Cond. No.          </th> <td>    1.68</td>\n",
        "</tr>\n",
        "</table>"
       ],
       "metadata": {},
       "output_type": "pyout",
<<<<<<< HEAD
       "prompt_number": 82,
=======
       "prompt_number": 65,
>>>>>>> 70fc3ec28e5d2232f3f84b4c015bcdc689b3c103
       "text": [
        "<class 'statsmodels.iolib.summary.Summary'>\n",
        "\"\"\"\n",
        "                            OLS Regression Results                            \n",
        "==============================================================================\n",
        "Dep. Variable:                      y   R-squared:                       0.811\n",
        "Model:                            OLS   Adj. R-squared:                  0.773\n",
        "Method:                 Least Squares   F-statistic:                     21.48\n",
        "Date:                Mon, 20 Oct 2014   Prob (F-statistic):            0.00566\n",
<<<<<<< HEAD
        "Time:                        21:31:51   Log-Likelihood:                -1.9268\n",
=======
        "Time:                        21:31:34   Log-Likelihood:                -1.9268\n",
>>>>>>> 70fc3ec28e5d2232f3f84b4c015bcdc689b3c103
        "No. Observations:                   7   AIC:                             7.854\n",
        "Df Residuals:                       5   BIC:                             7.745\n",
        "Df Model:                           1                                         \n",
        "==============================================================================\n",
        "                 coef    std err          t      P>|t|      [95.0% Conf. Int.]\n",
        "------------------------------------------------------------------------------\n",
        "x1            -1.0965      0.237     -4.635      0.006        -1.705    -0.488\n",
        "const          0.5022      0.144      3.479      0.018         0.131     0.873\n",
        "==============================================================================\n",
        "Omnibus:                          nan   Durbin-Watson:                   1.343\n",
        "Prob(Omnibus):                    nan   Jarque-Bera (JB):                0.286\n",
        "Skew:                          -0.488   Prob(JB):                        0.867\n",
        "Kurtosis:                       2.842   Cond. No.                         1.68\n",
        "==============================================================================\n",
        "\"\"\""
       ]
      }
     ],
<<<<<<< HEAD
     "prompt_number": 82
=======
     "prompt_number": 65
>>>>>>> 70fc3ec28e5d2232f3f84b4c015bcdc689b3c103
    },
    {
     "cell_type": "markdown",
     "metadata": {},
     "source": [
      "### Linear fit"
     ]
    },
    {
     "cell_type": "code",
     "collapsed": false,
     "input": [
      "plt.figure(figsize = (6,6));\n",
      "plt.plot(x, y, 'o');\n",
      "xx = np.linspace(-1.25,1.25,100)\n",
      "plt.plot(xx, res.predict(np.vander(xx,2)), 'r-');\n",
      "plt.title('blue: true,   red: OLS');"
     ],
     "language": "python",
     "metadata": {},
     "outputs": [
      {
       "metadata": {},
       "output_type": "display_data",
       "png": "iVBORw0KGgoAAAANSUhEUgAAAX4AAAF6CAYAAAAeSzPqAAAABHNCSVQICAgIfAhkiAAAAAlwSFlz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\nRERERERERERERLzj/wP5C8XyeX341gAAAABJRU5ErkJggg==\n",
       "text": [
<<<<<<< HEAD
        "<matplotlib.figure.Figure at 0x196f8320>"
       ]
      }
     ],
     "prompt_number": 83
=======
        "<matplotlib.figure.Figure at 0x10cba14d0>"
       ]
      }
     ],
     "prompt_number": 66
>>>>>>> 70fc3ec28e5d2232f3f84b4c015bcdc689b3c103
    },
    {
     "cell_type": "markdown",
     "metadata": {},
     "source": [
      "### Quadratic"
     ]
    },
    {
     "cell_type": "code",
     "collapsed": false,
     "input": [
      "X = np.c_[x**2, x, np.ones(len(x))]\n",
      "res = sm.OLS(y, X).fit()\n",
      "\n",
      "plt.figure(figsize = (6,6));\n",
      "plt.plot(x, y, 'o');\n",
      "xx = np.linspace(-1.25,1.25,100)\n",
      "plt.plot(xx, res.predict(np.vander(xx,3)), 'r-');\n",
      "plt.title('blue: true,   red: OLS');"
     ],
     "language": "python",
     "metadata": {},
     "outputs": [
      {
       "metadata": {},
       "output_type": "display_data",
       "png": "iVBORw0KGgoAAAANSUhEUgAAAX4AAAF6CAYAAAAeSzPqAAAABHNCSVQICAgIfAhkiAAAAAlwSFlz\nAAALEgAACxIB0t1+/AAAIABJREFUeJzt3Xl8VNX5x/FPSGIimywiyiJoABG1oCgFBJ1qCVtVFK2o\nLW4VRUmgdUFAC1VxofWnJFagVihaXFpcqkYErERwFxCoSFQGWVxYZBMIiSzz++NMIBknySSznHvn\nft+v17wymbnMfSajz33mOeeeCyIiIiIiIiIiIiIiIiIiIiIiIiIiIuIia4HzK3nOB2xIWCTJbQLw\ntO0gJDnVsR2AuE4geLPtIHCi7SDiqKZ/40bAFOA7YA+wArgmZJu1VH7QHgusAXZhDt7P1XD/4iJp\ntgMQiUJKFc+lAfsTFUg14h3LEcCbwEagO/A18EtgJtAYeCS4XWUH7auB32AOCl8BzYEL4hivWKaK\nX2qjG7AS2AZMBzIq2S60Kv8HcG+5338FLAO2A+8Cp0W4/4XBn8sxFeplmDbT18AdmKp3OiahLaoi\npgzgL8A6TNKcAmRGGEN11gZjWRGMsQ4mKb+Heb/LgHPLbX8C8DbwAzAPOLoG+/ot0Brzd1gHHADm\nArnAPUD9av79mcHtvwr+vgn4ew32LyJJbi0mmbXEVJPvcDiZ+6jY4w9N/DMwiQjgdEyCOQtTuQ/F\nJJ704PN/Dd4qE/raPmAf8EDwNTIxrY6qEv8jwMuYNkl94BXg/ir2WRNrgaWYv1NG8Of3QL/g878M\n/t40+Pv7mINQOtAbcwB4qtzrLQeGVLKv5zB/21BpmL9Jn+DvXwHnhdnuKmArcBvmIJBa1RsTEe/5\nChhW7vf+wOrgfR+RJ/4p5e6XKQLOiTCOcIm/FNP2KHMNlSf+FGB3yGv0wPS5Y+ErKvbYR1MxkQO8\ngTngHY9J0EeWe24WkQ/uzqfyA9Z3wBXlYgqX+AGuDL7ObswB6Y4I9y0upB6/1Eb55L4eaFGL12iD\nSXo55R5LB46LIq4twI8RbtsMqAssKfdYCrFtf5b/O7XBtGLK987TgLcwf7/twN5yz63DtG8i8T3h\nP4M0TMvo+whe45ngLRW4GHPgWYZpO0mSUY9fauP4kPvfVrJdMSa5limf1NcDEzHtorJbfeD5KOIK\nHbjcE7L/Y8vd/x6TaDuV238joGEU+68qnvWYCr78+20ATMJU5Y1DYm1D5DN73sR886ob8vhgzLeg\nD2oQ8wFgNqadd0oN/p2IJLG1HO7xN8H0+O8LPuejYpX7DqbnnorpbRdzuL3TFZMMu2Eq7XrAQKof\niCzzHYd71+H2DdABKAE6Y3r+U6nYInoUc6BpFvy9JZBd7t8fJPLWU6jQtkqrYMzZmL9HZjDmlsHn\n3wf+jPnW0wvYyU9bQ5U5AvPNpQBzwEgH+mIGrG8NialfcN9ltzTMIPgAzIGoDuYgUgz0jHD/IpLk\nvsL0q1di2hMzODwTxodJ5mW6Ap9yeKByFhX7+n2Bj4Kv8y0mCdcLPjcleKvMjcF/sx24FDNDZn2Y\n7cZiWkDrMIOYB6g4q2ci4Mck2s+AEcHnWgcfa1xFDFUJ10/vBhRiBlI3A69yuJ1zAma20i5MeyWP\nion/Uw736sNpjDmwbcQk7f8B14WJ6WDI7R5Ma+cdzCytnZiB5KGRvEnxptbAAkwS+BQzfSyUD/Mf\n0yfB212JCk4kCldhDgoiEuJYoEvwfn3gc+DkkG18mGlyIiLiANEO7m7EjPyDmQa2ivCzC6o6w1JE\nRFyqLaaPGjo4dy6mp7kceB0zi0JERFyuPrAYGBTmuQYcnmbWH/giUUGJiMhPxaIFkw68BszBTI+r\nzleY2R7byj+YlZUV8Pv9MQhHRMQz/EC7mv6jaHv8KcCTmGlwlSX95hw+wJTN2d4WupHf7ycQCCTl\nbfz48dZj0PvT+9P7S74bkFWbxB3tkg1nY5ZzXYGZqglm3nTZmZ3TMHOsh2OWpS2m8oWmREQkAaJN\n/O9Q/beG6lZZFBGRBPLeWj3FxXDmmbB3b/XbxojP50vYvmzQ+3M3vT/vcdL8+kCwZxV/AwbAkCEw\nVGeli4h7paSkQC3yuPcqfoCbboKpU21HISJihTcT/4ABsGEDLF9uOxIRkYTzZuJPS4MbboBp02xH\nIiKScN7s8QN88w2cdhqsWwcNGiRuvyIiMaIef021bAnnngvPPms7EhGRhPJu4ofDg7yJ/KYhImKZ\ntxN/nz6wcyd89JHtSEREEsbbib9OHbjxRphS1RX+RESSi3cHd8ts2QLt28OaNdCkSeL3LyJSSxrc\nra1mzeBXv4J//MN2JCIiCaGKH+Ddd+Haa6GoyLR/RERcQBV/NHr2hMxMeOst25GIiMSdEj9ASgoM\nH65BXhHxBLV6yuzaBW3awIoV0KqVvThERCKkVk+0GjSAK66AJ56wHYmISFyp4i9v5UpzUte6dZCe\nbjcWEZFqqOKPhVNOgQ4d4KWXbEciIhI3SvyhbrkFHn/cdhQiInGjVk+offvMIO/8+eYbgIiIQ6nV\nEyvp6TBsGPz1r7YjERGJC1X84Xz7LZx6KqxdCw0b2o5GRCQsVfyx1KKFmd3z1FO2IxERiTlV/JVZ\ntMhcl3fVKnNmr4iIw6jij7VeveCII+C//7UdiYhITCnxVyYlBUaMgMcesx2JiEhMOamH4axWD8Ce\nPWZq55Il5qeIiIOo1RMP9erB0KFatVNEkooq/ur4/dC9O6xfD0ceaTsaEZFDVPHHS1YW/Pzn8Mwz\ntiMREYkJJf5I5ORAfj448RuJiEgNKfFHok8fKC6Gd96xHYmISNSU+CNRp46Z2pmfbzsSEZGoaXA3\nUj/8AG3b6tKMIuIYGtyNt4YN4Te/0Vr9IuJ6qvhr4osvzFIO69ZpaqeIWKeKPxE6dICzztLUThFx\nNSX+msrNhbw8Te0UEddSq6emAgHo1Mks4+DzVbt5QcFC8vLmUVqaRkbGfnJzsxk48Jz4xykiSa+2\nrZ602IeS5FJSzAldkydXm/gLChYycuRc/P6Jhx7z+8cBKPmLiDWq+Gtj924ztfPjj+GEEyrdrG/f\nu5g3774wj9/NG2/cG8cARcQLNLibSPXrw3XXVbtWf2lp+C9UJSWp8YhKRCQiSvy1NWIE/OMfsGtX\npZtkZOwP+3hm5oE4BSUiUj0l/to6/ng4/3yT/CuRm5tNVta4Co9lZY0lJ6dPnIMTEamcevzReO89\nc6GWL74w6/mEUVCwkPz8+ZSUpJKZeYCcnD4a2BWRmKhtj1+JPxqBgFmr/+674YILbEcjIh5ja3C3\nNbAAWAl8CuRWsl0e8CWwHDg9yn06R0oKjBoFjzxiOxIRkYhFm/j3Ab8HTgG6A7cAJ4dsMwBoB7QH\nhgHJdQHbSy81rZ5ly2xHIiISkWgT/0agLOPtBlYBLUK2uRCYGbz/IdAIaB7lfp3jiCPMDJ9HH7Ud\niYhIRGJ55m5bTBvnw5DHWwIbyv3+NdAK2BTDfds1bJi5Nu9338Fxx9mORkSkSrGazlkfmA2MxFT+\noUIHH1w2iluNJk3giiu0Vr+IuEIsKv504AXgn8DLYZ7/BjMIXKZV8LGfmDBhwqH7Pp8PXwSLoDnG\nqFFmrf6xY7VWv4jERWFhIYWFhVG/TrTTOVMw/futmEHecAYAI4I/uwOPBn+Gct90zlAXXGBuw4bZ\njkREPMDWPP5ewEJgBYfbN2OB44P3pwV/Pgb0A/YA1wJLw7yW+xP/ggUwfDh89lmlJ3SJiMSKTuBy\ngkAAunaFe+6BX/3KdjQikuS0OqcTpKTArbfCww/bjkREpFKq+GNt3z448UT4z3/gjDNsRyMiSUwV\nv1Okp5vr8qrqFxGHUsUfDzt2mKp/+XJo3br67UVEakEVv5M0agTXXAN5ebYjERH5CVX88bJunenx\nr1kDRx1lOxoRSUKq+J2mTRvo1w+eeMJ2JCIiFajij6dPPoELLwS/36ziKSISQ6r4nej00+Gkk+D5\n521HIiJyiBJ/vN1+O/z5z+asXhERB1Dij7fsbHNG79y5tiMREQGU+OMvJeVw1S8i4gBK/Ilw+eXw\n5ZeweLHtSERElPgTIj0d/vAHmDTJdiQiIprOmTC7d8MJJ8D770O7drajEZEkoOmcTle/Ptx0kxZv\nExHrVPEn0ubN0LEjrFoFzZvbjkZEXE4VvxsccwxccQVMnmw7EhHxMFX8ibZmDXTrZn42bGg7GhFx\nMVX8bnHiieakrmnTqt9WRCQOVPHbsHw59O9vqv7MTNvRiIhLqeJ3k86doUsXePpp25GIiAep4rdl\n4UK4/nooKoLUVNvRiIgLqeJ3m969zSyf2bNtRyIiHqPEb0tKCowZAw88oCWbRSShlPhtGjjQJP05\nc2xHIiIeosRvU1nVf//9tiMREQ9R4rft0kth40ZYtMh2JCLiEUr8tqWlwejRMHGi7UhExCM0ndMJ\nSkvNUs0vvQRnnmk7GhFxCU3ndLOMDLjtNvX6RSQhVPE7RXGxWcfnzTfh1FNtRyMiLqCK3+3q1oVR\no8y8fhGROFLF7yQ//ABZWbo8o4hERBV/MmjYEG6+WVW/iMSVKn6n2bYN2reHJUugbVvb0YiIg6ni\nTxZNmsCNN8JDD9mORESSlCp+J9qyxVyUfcUKaNnSdjQi4lC1rfiV+J3qtttg3z5dmF1EKqXEn2w2\nboROneCzz+DYY21HIyIOpMSfjEaONGv5PPyw7UhExIGU+JPRt9+as3hXrYLmzW1HIyIOo1k9yahF\nC7jqKvjLX2xHIiJJRBW/0339NXTubKr+Y46xHY2IOIgq/mTVqhUMGaI+v4jEjCp+N9iwAbp0gaIi\naNbMdjQi4hCq+JNZ69Zw+eXq9YtITMSi4p8ODAQ2A6eFed4H/AdYE/z9BeC+MNup4q+Kev0iEsJm\nxT8D6FfNNm8Dpwdv4ZK+VKdVK7jiCvjzn21HIiIuF4vEvwjYXs02ThpLcK8xY2D6dNi0yXYkIuJi\niejxB4CewHLgdaBTAvaZnFq2NPP6J02yHYmIuFisKvG2wKuE7/E3AA4AxUB/YDLQIcx26vFHouxs\n3pUr4bjjbEcjIhbVtsefFvtQfmJXuftzgMeBJsC20A0nTJhw6L7P58Pn88U5NBdq0QKuucZcpSsv\nz3Y0IpJAhYWFFBYWRv06iaj4m2Nm/ASAbsC/gtuHUsUfqc2bzXr9y5bB8cfbjkZELLG5SNuzwLnA\n0cAmYDyQHnxuGnALMBzYj2n3/AH4IMzrKPHXxJ13wvbtMG2a7UhExBKtzuk1W7dChw7w8cdw4om2\noxERC3Tmrtc0bQq33AL33GM7EhFxGVX8brZjB7RvD4sWmZ6/iHiKKn4vatQIbr0Vxo+3HYmIuIgq\nfrfbswfatYM5c8wKniLiGar4vapePbOUw913245ERFxCFX8yKC01M3yeew569LAdjYgkiCp+L8vI\ngD/+EcaOBR08RaQaSvzJ4uqrzTo+8+fbjkREHE6JP1mkpcF996nqF5FqKfEnk8GDTdJ/4QXbkYiI\ng2lwN9nMnQsjR8Knn5pvASKStDS4K0Z2tlmnf+ZM25GIiEOp4k9GH3wAl10GX3wBRx5pOxoRiRNV\n/HJY9+7QrRvk59uOREQcSBV/sioqgt69TdXfuLHtaEQkDlTxS0UdO8LFF8ODD9qOREQcRhV/Mvvm\nG/jZz2D5cmjVynY0IhJjugKXhDdmjLlG75NP2o5ERGJMiV/C27nTLOD25ptw2mm2oxGRGFKPX8I7\n6ihT9d95p+1IRMQhlPi9YPhwWLUKFiywHYmIOIASvxdkZMDEiXDHHXDwoO1oRMQyJX6vuPxy8/P5\n5+3GISLWaXDXS95+26zbX1QEmZm2oxGRKGlwV6p37rnmguxaykHE01Txe83nn0OvXmaw9+ijbUcj\nIlHQPH6J3IgRUKcO5OXZjkREoqDEL5HbsgVOPhnefRdOOsl2NCJSS+rxS+SaNYPRo+H2221HIiIW\nqOL3qtJSU/U/8QScf77taESkFtTqkUoVFCwkL28epaVpZGTsJzc3m4EDz4HZs+Hee2HpUkhNtR2m\niNRQbRO/rsad5AoKFjJy5Fz8/omHHvP7xwEwcPBgmDwZZsyA3/3OVogikmCq+JNc3753MW/efWEe\nv5s33rgXFi+GCy4w0zwbNrQQoYjUlgZ3JazS0vBf6kpKgq2dM8+Evn3NWj4i4glK/EkuI2N/2Mcz\nMw8c/uX+++Hvfwe/P0FRiYhNSvxJLjc3m6yscRUey8oaS05On8MPtGgBt96q6Z0iHqEevwcUFCwk\nP38+JSWpZGYeICenj5nVU97evWZ65/TpcN55dgIVkRrRdE6J3uzZ8Kc/wSefQJomfIk4nQZ3JXqD\nB5uzeqdOtR2JiMSRKn6p6H//M2fyfvaZVu8UcTi1eiR2cnJg/36YMsV2JCJSBSV+iZ1t28xA79y5\n5sItIuJI6vFL7DRpYtbwGTECdDAWSTpK/BLe9ddDSQn885+2IxGRGFOrRyr3wQdwySXm4uxax0fE\ncdTjl/i47jpo3Bgefth2JCISQolf4mPzZjjlFCgsND9FxDFsDe5OBzYB/6timzzgS2A5cHqU+5NE\nO+YYGD8ebr5ZA70iSSLaxD8D6FfF8wOAdkB7YBigieFuNHw47NoFs2bZjkREYiDaxL8I2F7F8xcC\nM4P3PwQaAc2j3KckWmoqPP443HEH7NhhOxoRiVK8p3O2BDaU+/1roFWc9ynx0L07DBwId99tOxIR\niVIilmAMHXiotFE8YcKEQ/d9Ph8+ny8+EUntPPggdOoE114LZ5xhOxoRzyksLKSwsDDq14nFrJ62\nwKvAaWGemwoUAs8Ffy8CzsUMCIfSrB43mDHDrOHz/vumBSQi1jh1yYZXgKHB+92BHYRP+uIWV18N\nmZkwbZrtSESklqKt+J/FVPBHYxL6eCA9+FxZZngMM/NnD3AtsLSS11LF7xYrV4LPZ5ZwPvZY29GI\neJZO4JLEGjMG1q6FZ5+1HYmIZynxS2IVF8Opp5ppnv2qOpVDROLFqT1+SVZ165pB3ptvNgcBEXEN\nVfwSnSuvhNat4aGHbEci4jlq9YgdmzbBaafB/PnQubPtaEQ8Ra0esaN5c7j/frjhBjhwwHY0IhIB\nJX6J3vXXQ716kJ9vOxIRiYBaPRIbX34JPXrA4sXQtq3taEQ8Qa0esat9e7jtNrjpJq3bL+JwSvwS\nO7feChs36gLtIg6nVo/E1pIlMGAArFhhBn5FJG40nVOcY8wYWL0a/v1v25GIJDX1+MU5xo83C7i9\n8ILtSEQkDFX8Eh/vvguXXWYOAE2b2o5GJCmp1SPOM2oUfP+9BntF4kSJX5xnzx6zjMPDD8NFF9mO\nRiTpKPGLMy1aBJdfrpaPSBwo8YtzjRoFW7bArFm2IxFJKprVI841cSJ89BG8+KLtSEQEVfySKO+9\nB4MHw/LlcMwxtqMRSQpq9YjzjR5tTuyaPRtSnPSfnog7qdUjzvenP8Hnn8Mzz9iORMTTnFR2qeL3\ngqVLzcXZlywxl2wUkVpTxS/ucMYZMHIkXHstHDxoOxoRT1Lil8QbPRqKi3XFLhFL1OoRO1avNlfs\nevtt6NTJdjQirqRWj7hLu3Zmfv9VV0Fpqe1oRDxFFb/YEwjAxRdDhw4waZLtaERcR/P4xZ22bIEu\nXeDpp+G882xHI+IqavWIOzVrBtOnw9VXw7ZttqMR8QRV/OIMv/89rF+vs3pFakAVv7jbgw+C3w9P\nPGE7EpGk56TSShW/1xUVQe/emuIpEiFV/OJ+HTvCAw/AkCFQUmI7GpGkpYpfnCUQMFfsatYM/vpX\n29GIOJoqfkkOKSnwt7/BnDlmoFdEYk4VvzjTxx/DwIHw4Ydwwgm2oxFxJFX8klzOOgvGjDH9/h9/\ntB2NSFJRxS/OFQjARRdBVhY88ojtaEQcRxW/JJ+UFJg5E15+WRdqF4khVfzifGX9/vffN9W/iACq\n+CWZnXUW/PGPcOmlsHev7WhEXE8Vv7hDIABXXgl168KTT9qORsQRVPFLcktJMev4fPCBEr9IlFTx\ni7uUrefzxhvQtavtaESsUsUv3tCxI0yZYvr9339vOxoRV1LFL+40ejQsXWqWdkhLsx2NiBU2K/5+\nQBHwJTA6zPM+YCfwSfB2Vwz2KV53//2m7z9unO1IRFwn2lIpFXgM+CXwDfAx8AqwKmS7t4ELo9yX\nyGGpqfDss2aq5xlnmBU9RSQi0Vb83YDVwFpgH/AccFGY7ZzUUpJk0bSpOaN3xAhYtsx2NCKuEW3i\nbwlsKPf718HHygsAPYHlwOuALq0ksdOli1m3f9Ag2LLFdjQirhBt4o9kNHYp0BroDOQDL0e5T5GK\nfv1r+M1vzEwfreQpUq1oe/zfYJJ6mdaYqr+8XeXuzwEeB5oA20JfbMKECYfu+3w+fD5flOGJZ9xz\nj6n6c3Jg6lQz8CuSZAoLCyksLIz6daL9vyMN+Bw4H/gW+Ai4goqDu82BzZhvB92AfwFtw7yWpnNK\ndHbtgp494YYbIDfXdjQicVfb6ZzRVvz7gRHAXMwMnycxSf/G4PPTgEuB4cFti4EhUe5TJLwGDeDV\nV6FHD+jQAfr1+8kmBQULycubR2lpGhkZ+8nNzWbgwHMsBCtij5O+D6vil9h45x245BJYsABOOeXQ\nwwUFCxk5ci5+/8RDj2VljWPy5L7Wkr8ORBKN2lb8ThIQiZmnngoE2rYNBDZuPPRQdva4gFnms+Kt\nb9+7rIT42mtvB7KyxlaIJStrbOC11962Eo+4D5FNsPkJrdUjyem3v4WhQ82lG4Nr+JeWhu9slpSk\nJjKyQ/Ly5lX49gHg908kP3++lXjEO5T4JXlNmGCu2DV0KBw8SEbG/rCbZWYeSGxcQU47EIl3KPFL\n8kpJgenTYdMmuOMOcnOzycqquLZPVtZYcnL6WAnPaQci8Q4tayjJLSPDXKz97LMZ2KYNTO5Lfv7d\nlJSkkpl5gJycftYGU3Nzs/H7x4UMNo8lJ+ens5FEYslJo8HBsQqROFi7Fs4+Gx57DC6+2HY0hxQU\nLCQ/f365A1EfzeqRiNV2Vo8Sv3jHkiVmbv9LL0GvXrajEYmarsAlUp2uXWHWLBg8GD791HY0ItYo\n8Yu3ZGfD//0f9O8P69fbjkbECg3uivdcdRVs3mwOAosWQbNmtiMSSSj1+MW7xo2DuXPhrbegYUPb\n0YjUmAZ3RWoqEICbb4aiInPR9sxM2xGJ1IgSvziaYxcjO3DAXMRl925zGcf0dNsRiURMiV8cy4mr\nYlawb5+5eldmJjzzjLmQu4gLaDqnOJbjFyNLT4fnn4ft2+H66+HgQdsRicSVEr/EnSsWI8vMNCd2\nrVlj+v769ilJTIlf4s41i5HVqwcFBbBihbl2r5K/JCklfok7p62KWaUGDeCNN+Djj+H3v1fyl6Sk\nwV1JCNctRrZjB/TpYy7e/uijZolnEYfRrB6RWNuxA/r2hbPOgvx8JX9xHM3qEYm1Ro1g3jyzqufw\n4ZrtI0lDiV+kKkcdZZZ1+OwzuPZa2B9+oFrETZT4RarTsKFZ0uG77+DKK+HHH21HJBIVJX6RSNSr\nB6+8AqWlcMklUFxsOyKRWlPiF4lUZibMnm16//36wc6dtiMSqRUlfpGaSE+Hp56CLl3A54NNm2xH\nJFJjSvwiNVWnDkyeDIMGmQu4+/22IxKpEV2BS6Q2UlJg/Hg49ljo3dv0/88803ZUIhFx0hkpOoFL\n3Ok//4Hf/c60gPr3tx2NeIhO4BKx5aKLTMV/3XUwdartaESqpYpfJFb8fhgwAC68EB56yIwFiMSR\n1uoRcYKtW+Hii6FpU3j6aahf33ZEksTU6hFxgqZNYf58aNwYevWC9ettRyTyE0r8IrGWkQFPPmku\n4t69O7z7ru2IRCpQq0cknubMgauvhnvvhRtvtB2NJBn1+EWc6ssvzcyf3r0hL898IxCJAfX4RZyq\nfXv48EMz8NurF6xbZzsi8TglfpFEaNAA/v1vGDIEfv5zc11fEUvU6hFJtIULzbr+v/0t3HOPWfgt\nQQoKFpKXN4/S0jQyMvaTm5vt7GsfS5Vq2+rRWj0iiXbOOfDJJzB0qFnh89ln4fjj477bgoKFjBw5\nF79/4qHH/P5xAEr+HqNWj4gNzZpBQYEZ9D3zTPjXv+K+y7y8eRWSPoDfP5H8/Plx37c4ixK/iC11\n6sAdd5gDwF13mWv67toVt92Vlob/gl9Skhq3fYozKfGL2HbWWbB0KaSlwc9+Bm+/HZfdZGSEv1B8\nZuaBuOxPnEuJX8QJ6teHJ56A/Hwz8PuHP8DevTHdRW5uNllZ4yo8lpU1lpycPjHdjzifZvWIOM3W\nrXDLLeZbwJNPmhO/YqSgYCH5+fMpKUklM/MAOTl9NLDrYjpzVyTZvPyyOQAMGgT33w9HHWU7InEY\nnbkrkmwGDYJPP4XSUjjlFJg9G1QcSQzEIvH3A4qAL4HRlWyTF3x+OXB6DPYp4g2NG8Pf/27m+o8f\nDwMHmrV/RKIQbeJPBR7DJP9OwBXAySHbDADaAe2BYcCUKPcp4j29e5uTvn7xC+jRA8aOhT17bEcl\nLhVt4u8GrAbWAvuA54CLQra5EJgZvP8h0AhoHuV+RbzniCPg9tth+XKz0NtJJ8HMmXDwoO3IxGWi\nTfwtgQ3lfv86+Fh127SKcr8i3tWyJcyaZRZ9mzrVnAfw1lu2oxIXiTbxRzrSFDrqrBEqkWj16AHv\nvWfO/h02DLKzYckS21GJC0S7SNs3QOtyv7fGVPRVbdMq+NhPTJgw4dB9n8+Hz+eLMjyRJJeSApdf\nDpdcYub8X3CBWfZ5wgTo3Nl2dN4RCMDrr5uB+Oeei9vFdgoLCyksLIz6daKdx58GfA6cD3wLfIQZ\n4F1VbpsBwIjgz+7Ao8GfoTSPXyRaxcUwbRpMmmS+EYwbB1272o4qeR08CK+9Zi6tWVICf/wjDB5s\n1mFKAJsncPXHJPNU4EngAaDs4qLTgj/LZv7sAa4FloZ5HSV+kVgpLoa//Q0efhhOPhnuvNPMCEpx\n0jmbLrZvHzzzjDnAZmSYRfYGDUpYwi+jM3dF5Kd+/NEMBE+aBJmZMGqUuQqYrvtbO1u3mgPq44+b\nWVWjR8Oa0t93AAAHO0lEQVQvf2ntgKrELyKVO3gQ5s6FRx6BFSvg+uvNgHCbNrYjc4fFi80Mqhde\nMJX9yJHQpYvtqLRkg4hUoU4d6N8f5s2DwkJz8tcZZ5gzgWfPNstCSEXbt8OUKWaM5Ne/hnbtoKgI\nZsxwRNKPhip+Ea8qLjYV7IwZZk2gyy4zS0L36JHwXrVjlJbCG2+Y9ti8edCvn7lATp8+jvybqNUj\nIrX31VdmPaBZs8y3gcGDzRRRLxwE9u6F+fPhxRfhlVfMxXCGDDHTZBs3th1dlZT4RSR6gYCp/l98\n0Xwb2LzZtIgGDjRVb7IsDb1hg6ns58yB//7XtHMGDYJLL4UWLWxHFzElfhGJPb/fJMfXX4dFi8zy\n0OedB+eea74NNGxoO8LIbNxo4l+wwNy+/96c6dyvHwwYAE2b2o6wVpT4RSS+Skrggw9MhbxwoVke\nol07c6Zw167m1qkTHHmk3Th37IBly8wVzBYvhvffh507oWdPcy7DL35hzmpOdf9F5pX4RSSxfvzR\nLBX98ccmwS5ZAqtXQ+vW5ptB+/aQlQUnnmgea9XKXFs4WoEAbNsG334La9fCmjXmm0lREXz2mUn8\nnTvD6aebmUs9e0KHDkk5VqHELyL27dtnLhSzcqVJxqtXm8T89dfmlpoKRx8NzZpBo0bmQNCggTmh\nLC3N3A4ehAMHYP9+M9BcXAw//GCS/datsGUL1K0Lxx1nzkMoO7h07GjOUj7++KRM8uEo8YuIswUC\nJoGXJe+dO2H3bti1y0yj3LfPJPs6dcwBIi0N6tUzSb5BA9OHb9LEHDTq1rX9bhxBiV9ExGN05q6I\niEREiV9ExGOU+EVEPEaJX0TEY5T4RUQ8RolfRMRjlPhFRDxGiV9ExGOU+EVEPEaJX0TEY5T4RUQ8\nRolfRMRjlPhFRDxGiV9ExGOU+EVEPEaJX0TEY5T4RUQ8RolfRMRjlPhFRDwmzXYAIiIABQULycub\nR2lpGhkZ+8nNzWbgwHNsh5WUlPhFxLqCgoWMHDkXv3/iocf8/nEASv5xoFaPiFiXlzevQtIH8Psn\nkp8/31JEyU2JX0SsKy0N33woKUlNcCTeoMQvItZlZOwP+3hm5oEER+INSvwiYl1ubjZZWeMqPJaV\nNZacnD6WIkpuKbYDKCcQCARsxyAilhQULCQ/fz4lJalkZh4gJ6ePBnarkZKSArXI40r8IiIuVdvE\nr1aPiIjHKPGLiHiMEr+IiMco8YuIeIwSv4iIxyjxi4h4jBK/iIjHKPGLiHiMEr+IiMdEsx5/E+B5\noA2wFvg1sCPMdmuBH4ADwD6gWxT7FBGRKEVT8d8JzAc6AP8N/h5OAPABp+PRpF9YWGg7hLjS+3M3\nvT/viSbxXwjMDN6fCQyqYlsnrQmUcMn+H57en7vp/XlPNIm/ObApeH9T8PdwAsCbwGLghij2JyIi\nMVBdj38+cGyYx8eF/B4I3sI5G/gOaBZ8vSJgUQ1iFBGRGIqmBVOE6d1vBI4DFgAdq/k344HdwMNh\nnlsNZEURj4iI1/iBdonc4SRgdPD+ncCDYbapCzQI3q8HvAtkxz80ERGJhyaY3v0XwDygUfDxFkBB\n8P6JwLLg7VNgTIJjFBERERERGy4DVmJO6jqjiu3WAiuAT4CP4h9WzET6/vphxkq+5HDbzA2aYAbq\nQ7/thVqLuz6/SD6PvODzyzHnprhJde/PB+zEfF6fAHclLLLoTcfMLvxfFdu49bOr7r35cMnn1hFz\n4tcCqk6MX2GSjNtE8v5SMQPabYF0TDvs5EQEFwOTgDuC90cTfnwH3PX5RfJ5DABeD97/OfBBooKL\ngUjenw94JaFRxU5vTDKvLDm6+bOr7r35qOHnZmutniJMtRgJN578Fcn764b5H3EtZimL54CL4htW\nzCTjyXuRfB7l3/eHmG86lZ2/4jSR/vfmls8r1CJgexXPu/mzq+69QQ0/N6cv0pbMJ3+1BDaU+/3r\n4GNukIwn70XyeYTbplWc44qVSN5fAOiJaYW8DnRKTGgJ4ebPrjo1/tyiWaStOpWd/DUWeDXC13Dy\nyV/Rvr/KTnhzCq+dvBfp5xFaWTn9cywTSZxLgdZAMdAfeBnTskwWbv3sqlPjzy2eib9PDF7ju+DP\nLcBLmK+rTkkc0b6/bzAfVpnWmCrEKap6f5swB4Wyk/c2V7Kdkz+/UJF8HqHbtAo+5gaRvL9d5e7P\nAR7HjNFsi29oCeHmz646Nf7cnNDqqaw3FXryVzZVj9g7VWXvbzHQHjPYdgRwOe4ZWHsFuDp4/2pM\nhRHKbZ9fJJ/HK8DQ4P3umGXIN+EOkby/5hz+77Vb8H4yJH1w92dXHdd8bhdj+m17MVXjnODjyXLy\nVyTvD8zXss8xg25uen/JevJeuM/jxuCtzGPB55dT9Yw0J6ru/d2C+ayWAe9hEqRbPAt8C/yI+X/v\nOpLns6vuvbn5cxMRERERERERERERERERERERERERERERERERSS7/D8v0EaNaewfuAAAAAElFTkSu\nQmCC\n",
       "text": [
<<<<<<< HEAD
        "<matplotlib.figure.Figure at 0x1955fcc0>"
       ]
      }
     ],
     "prompt_number": 84
=======
        "<matplotlib.figure.Figure at 0x10aa8a390>"
       ]
      }
     ],
     "prompt_number": 67
>>>>>>> 70fc3ec28e5d2232f3f84b4c015bcdc689b3c103
    },
    {
     "cell_type": "markdown",
     "metadata": {},
     "source": [
      "### Quintic"
     ]
    },
    {
     "cell_type": "code",
     "collapsed": false,
     "input": [
      "X = np.c_[x**5, x**4, x**3, x**2, x, np.ones(len(x))]\n",
      "res = sm.OLS(y, X).fit()\n",
      "\n",
      "plt.figure(figsize = (6,6));\n",
      "plt.plot(x, y, 'o');\n",
      "xx = np.linspace(-1.25,1.1,100)\n",
      "plt.plot(xx, res.predict(np.vander(xx,6)), 'r-');\n",
      "plt.title('blue: true,   red: OLS');"
     ],
     "language": "python",
     "metadata": {},
     "outputs": [
      {
       "metadata": {},
       "output_type": "display_data",
       "png": "iVBORw0KGgoAAAANSUhEUgAAAX4AAAF6CAYAAAAeSzPqAAAABHNCSVQICAgIfAhkiAAAAAlwSFlz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\niOSW/w8RDbiwZgWYrAAAAABJRU5ErkJggg==\n",
       "text": [
<<<<<<< HEAD
        "<matplotlib.figure.Figure at 0x1818f898>"
       ]
      }
     ],
     "prompt_number": 85
=======
        "<matplotlib.figure.Figure at 0x10ca5c550>"
       ]
      }
     ],
     "prompt_number": 68
>>>>>>> 70fc3ec28e5d2232f3f84b4c015bcdc689b3c103
    },
    {
     "cell_type": "markdown",
     "metadata": {},
     "source": [
      "## Regularization"
     ]
    },
    {
     "cell_type": "code",
     "collapsed": false,
     "input": [
      "from sklearn.linear_model import Ridge, Lasso"
     ],
     "language": "python",
     "metadata": {},
     "outputs": [],
<<<<<<< HEAD
     "prompt_number": 86
=======
     "prompt_number": 69
>>>>>>> 70fc3ec28e5d2232f3f84b4c015bcdc689b3c103
    },
    {
     "cell_type": "code",
     "collapsed": false,
     "input": [
      "ridge = Ridge(alpha = .2)\n",
      "ridge.fit(np.vander(x, 6), y)\n",
      "\n",
      "lasso = Lasso(alpha = 1)\n",
      "lasso.fit(np.vander(x, 6), y)\n",
      "\n",
      "plt.figure(figsize = (6,6));\n",
      "plt.plot(x, y, 'o');\n",
      "xx = np.linspace(-1.25,1.1,100)\n",
      "plt.plot(xx, res.predict(np.vander(xx,6)), 'r-');\n",
      "plt.plot(xx,  ridge.predict(np.vander(xx, 6)), 'g-', label='Ridge');\n",
      "plt.plot(xx,  lasso.predict(np.vander(xx, 6)), 'c-', label='Lasso');\n",
      "plt.legend(loc='best')"
     ],
     "language": "python",
     "metadata": {},
     "outputs": [
      {
       "metadata": {},
       "output_type": "pyout",
<<<<<<< HEAD
       "prompt_number": 87,
       "text": [
        "<matplotlib.legend.Legend at 0x19bd1fd0>"
=======
       "prompt_number": 73,
       "text": [
        "<matplotlib.legend.Legend at 0x10cfddc50>"
>>>>>>> 70fc3ec28e5d2232f3f84b4c015bcdc689b3c103
       ]
      },
      {
       "metadata": {},
       "output_type": "display_data",
       "png": "iVBORw0KGgoAAAANSUhEUgAAAXQAAAFwCAYAAACo8oBFAAAABHNCSVQICAgIfAhkiAAAAAlwSFlz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\niIiIiDP8P4Jmqx3rXe1VAAAAAElFTkSuQmCC\n",
       "text": [
<<<<<<< HEAD
        "<matplotlib.figure.Figure at 0x19d6a5c0>"
       ]
      }
     ],
     "prompt_number": 87
=======
        "<matplotlib.figure.Figure at 0x10cecb810>"
       ]
      }
     ],
     "prompt_number": 73
>>>>>>> 70fc3ec28e5d2232f3f84b4c015bcdc689b3c103
    },
    {
     "cell_type": "code",
     "collapsed": false,
     "input": [],
     "language": "python",
     "metadata": {},
     "outputs": [],
     "prompt_number": 44
    },
    {
     "cell_type": "code",
     "collapsed": false,
     "input": [],
     "language": "python",
     "metadata": {},
     "outputs": [],
     "prompt_number": 44
    }
   ],
   "metadata": {}
  }
 ]
}