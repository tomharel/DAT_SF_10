



<!DOCTYPE html>
<html lang="en" class="">
  <head prefix="og: http://ogp.me/ns# fb: http://ogp.me/ns/fb# object: http://ogp.me/ns/object# article: http://ogp.me/ns/article# profile: http://ogp.me/ns/profile#">
    <meta charset='utf-8'>
    <meta http-equiv="X-UA-Compatible" content="IE=edge">
    <meta http-equiv="Content-Language" content="en">
    
    
    <title>DAT_SF_10/DAT10-lab05.ipynb at master · ga-students/DAT_SF_10</title>
    <link rel="search" type="application/opensearchdescription+xml" href="/opensearch.xml" title="GitHub">
    <link rel="fluid-icon" href="https://github.com/fluidicon.png" title="GitHub">
    <link rel="apple-touch-icon" sizes="57x57" href="/apple-touch-icon-114.png">
    <link rel="apple-touch-icon" sizes="114x114" href="/apple-touch-icon-114.png">
    <link rel="apple-touch-icon" sizes="72x72" href="/apple-touch-icon-144.png">
    <link rel="apple-touch-icon" sizes="144x144" href="/apple-touch-icon-144.png">
    <meta property="fb:app_id" content="1401488693436528">

      <meta content="@github" name="twitter:site" /><meta content="summary" name="twitter:card" /><meta content="ga-students/DAT_SF_10" name="twitter:title" /><meta content="DAT_SF_10 - Repository for data science 10 course" name="twitter:description" /><meta content="https://avatars1.githubusercontent.com/u/5048067?v=2&amp;s=400" name="twitter:image:src" />
<meta content="GitHub" property="og:site_name" /><meta content="object" property="og:type" /><meta content="https://avatars1.githubusercontent.com/u/5048067?v=2&amp;s=400" property="og:image" /><meta content="ga-students/DAT_SF_10" property="og:title" /><meta content="https://github.com/ga-students/DAT_SF_10" property="og:url" /><meta content="DAT_SF_10 - Repository for data science 10 course" property="og:description" />

      <meta name="browser-stats-url" content="/_stats">
    <link rel="assets" href="https://assets-cdn.github.com/">
    <link rel="conduit-xhr" href="https://ghconduit.com:25035">
    <link rel="xhr-socket" href="/_sockets">
    <meta name="pjax-timeout" content="1000">

    <meta name="msapplication-TileImage" content="/windows-tile.png">
    <meta name="msapplication-TileColor" content="#ffffff">
    <meta name="selected-link" value="repo_source" data-pjax-transient>
      <meta name="google-analytics" content="UA-3769691-2">

    <meta content="collector.githubapp.com" name="octolytics-host" /><meta content="collector-cdn.github.com" name="octolytics-script-host" /><meta content="github" name="octolytics-app-id" /><meta content="5DAD0F82:2E0D:23BBAB5:544D0B3D" name="octolytics-dimension-request_id" /><meta content="3478172" name="octolytics-actor-id" /><meta content="tomharel" name="octolytics-actor-login" /><meta content="b3cf97e924a12b6dedfef39d457dcac1ee58ed6857490f3a1e26c60c4afc1c46" name="octolytics-actor-hash" />
    
    <meta content="Rails, view, blob#show" name="analytics-event" />

    
    
    <link rel="icon" type="image/x-icon" href="https://assets-cdn.github.com/favicon.ico">


    <meta content="authenticity_token" name="csrf-param" />
<meta content="m1xr9zaMt4NMz/p9BgDLDHxrtKyZCgpHXKBN6KRH2u5l2BehcJic/OewQ+x2RTENfHx5AgEKk+0PW6VLtc57/Q==" name="csrf-token" />

    <link href="https://assets-cdn.github.com/assets/github-fd24da028f7f2d737c9a6d97bdd8aa7a5d7ec419c4cc4e89b169d30c58bed96b.css" media="all" rel="stylesheet" type="text/css" />
    <link href="https://assets-cdn.github.com/assets/github2-e601e4dc2eec6decc441b9f7e15eec77891539a1a5e2d8af7af600d1d061a150.css" media="all" rel="stylesheet" type="text/css" />
    
    


    <meta http-equiv="x-pjax-version" content="e375408a179f2ef68cd4fb7efa2d26f7">

      
  <meta name="description" content="DAT_SF_10 - Repository for data science 10 course">
  <meta name="go-import" content="github.com/ga-students/DAT_SF_10 git https://github.com/ga-students/DAT_SF_10.git">

  <meta content="5048067" name="octolytics-dimension-user_id" /><meta content="ga-students" name="octolytics-dimension-user_login" /><meta content="24662129" name="octolytics-dimension-repository_id" /><meta content="ga-students/DAT_SF_10" name="octolytics-dimension-repository_nwo" /><meta content="true" name="octolytics-dimension-repository_public" /><meta content="false" name="octolytics-dimension-repository_is_fork" /><meta content="24662129" name="octolytics-dimension-repository_network_root_id" /><meta content="ga-students/DAT_SF_10" name="octolytics-dimension-repository_network_root_nwo" />
  <link href="https://github.com/ga-students/DAT_SF_10/commits/master.atom" rel="alternate" title="Recent Commits to DAT_SF_10:master" type="application/atom+xml">

  </head>


  <body class="logged_in  env-production windows vis-public page-blob">
    <a href="#start-of-content" tabindex="1" class="accessibility-aid js-skip-to-content">Skip to content</a>
    <div class="wrapper">
      
      
      
      


      <div class="header header-logged-in true" role="banner">
  <div class="container clearfix">

    <a class="header-logo-invertocat" href="https://github.com/" data-hotkey="g d" aria-label="Homepage" ga-data-click="Header, go to dashboard, icon:logo">
  <span class="mega-octicon octicon-mark-github"></span>
</a>


      <div class="site-search repo-scope js-site-search" role="search">
          <form accept-charset="UTF-8" action="/ga-students/DAT_SF_10/search" class="js-site-search-form" data-global-search-url="/search" data-repo-search-url="/ga-students/DAT_SF_10/search" method="get"><div style="margin:0;padding:0;display:inline"><input name="utf8" type="hidden" value="&#x2713;" /></div>
  <input type="text"
    class="js-site-search-field is-clearable"
    data-hotkey="s"
    name="q"
    placeholder="Search"
    data-global-scope-placeholder="Search GitHub"
    data-repo-scope-placeholder="Search"
    tabindex="1"
    autocapitalize="off">
  <div class="scope-badge">This repository</div>
</form>
      </div>
      <ul class="header-nav left" role="navigation">
        <li class="header-nav-item explore">
          <a class="header-nav-link" href="/explore" data-ga-click="Header, go to explore, text:explore">Explore</a>
        </li>
          <li class="header-nav-item">
            <a class="header-nav-link" href="https://gist.github.com" data-ga-click="Header, go to gist, text:gist">Gist</a>
          </li>
          <li class="header-nav-item">
            <a class="header-nav-link" href="/blog" data-ga-click="Header, go to blog, text:blog">Blog</a>
          </li>
        <li class="header-nav-item">
          <a class="header-nav-link" href="https://help.github.com" data-ga-click="Header, go to help, text:help">Help</a>
        </li>
      </ul>

    
<ul class="header-nav user-nav right" id="user-links">
  <li class="header-nav-item dropdown js-menu-container">
    <a class="header-nav-link name" href="/tomharel" data-ga-click="Header, go to profile, text:username">
      <img alt="tomharel" class="avatar" data-user="3478172" height="20" src="https://avatars3.githubusercontent.com/u/3478172?v=2&amp;s=40" width="20" />
      <span class="css-truncate">
        <span class="css-truncate-target">tomharel</span>
      </span>
    </a>
  </li>

  <li class="header-nav-item dropdown js-menu-container">
    <a class="header-nav-link js-menu-target tooltipped tooltipped-s" href="#" aria-label="Create new..." data-ga-click="Header, create new, icon:add">
      <span class="octicon octicon-plus"></span>
      <span class="dropdown-caret"></span>
    </a>

    <div class="dropdown-menu-content js-menu-content">
      
<ul class="dropdown-menu">
  <li>
    <a href="/new"><span class="octicon octicon-repo"></span> New repository</a>
  </li>
  <li>
    <a href="/organizations/new"><span class="octicon octicon-organization"></span> New organization</a>
  </li>


    <li class="dropdown-divider"></li>
    <li class="dropdown-header">
      <span title="ga-students/DAT_SF_10">This repository</span>
    </li>
      <li>
        <a href="/ga-students/DAT_SF_10/issues/new"><span class="octicon octicon-issue-opened"></span> New issue</a>
      </li>
</ul>

    </div>
  </li>

  <li class="header-nav-item">
        <a href="/notifications" aria-label="You have no unread notifications" class="header-nav-link notification-indicator tooltipped tooltipped-s" data-ga-click="Header, go to notifications, icon:read" data-hotkey="g n">
        <span class="mail-status all-read"></span>
        <span class="octicon octicon-inbox"></span>
</a>
  </li>

  <li class="header-nav-item">
    <a class="header-nav-link tooltipped tooltipped-s" href="/settings/profile" id="account_settings" aria-label="Settings" data-ga-click="Header, go to settings, icon:settings">
      <span class="octicon octicon-gear"></span>
    </a>
  </li>

  <li class="header-nav-item">
    <form accept-charset="UTF-8" action="/logout" class="logout-form" method="post"><div style="margin:0;padding:0;display:inline"><input name="utf8" type="hidden" value="&#x2713;" /><input name="authenticity_token" type="hidden" value="f/idfNv/MJ9olm6kDi3qMY7qCFg1bxYfey4Vy2ReRBvUpGVlw8WthCjkqjaEnWnB1vLEdVeAeeo0QTF3y+9shQ==" /></div>
      <button class="header-nav-link sign-out-button tooltipped tooltipped-s" aria-label="Sign out" data-ga-click="Header, sign out, icon:logout">
        <span class="octicon octicon-sign-out"></span>
      </button>
</form>  </li>

</ul>


    
  </div>
</div>

      

        


      <div id="start-of-content" class="accessibility-aid"></div>
          <div class="site" itemscope itemtype="http://schema.org/WebPage">
    <div id="js-flash-container">
      
    </div>
    <div class="pagehead repohead instapaper_ignore readability-menu">
      <div class="container">
        
<ul class="pagehead-actions">

    <li class="subscription">
      <form accept-charset="UTF-8" action="/notifications/subscribe" class="js-social-container" data-autosubmit="true" data-remote="true" method="post"><div style="margin:0;padding:0;display:inline"><input name="utf8" type="hidden" value="&#x2713;" /><input name="authenticity_token" type="hidden" value="1MkoihCfwzDeSf9uAMQIwgt56qR3XM3V5IpDJB+cDAJ+0iA+dchB6RbeKOSxSlVT7BxwHTPlAYuiC4Mpm1JEZA==" /></div>  <input id="repository_id" name="repository_id" type="hidden" value="24662129" />

    <div class="select-menu js-menu-container js-select-menu">
      <a class="social-count js-social-count" href="/ga-students/DAT_SF_10/watchers">
        44
      </a>
      <a href="/ga-students/DAT_SF_10/subscription"
        class="minibutton select-menu-button with-count js-menu-target" role="button" tabindex="0" aria-haspopup="true">
        <span class="js-select-button">
          <span class="octicon octicon-eye"></span>
          Unwatch
        </span>
      </a>

      <div class="select-menu-modal-holder">
        <div class="select-menu-modal subscription-menu-modal js-menu-content" aria-hidden="true">
          <div class="select-menu-header">
            <span class="select-menu-title">Notifications</span>
            <span class="octicon octicon-x js-menu-close" role="button" aria-label="Close"></span>
          </div> <!-- /.select-menu-header -->

          <div class="select-menu-list js-navigation-container" role="menu">

            <div class="select-menu-item js-navigation-item " role="menuitem" tabindex="0">
              <span class="select-menu-item-icon octicon octicon-check"></span>
              <div class="select-menu-item-text">
                <input id="do_included" name="do" type="radio" value="included" />
                <h4>Not watching</h4>
                <span class="description">Be notified when participating or @mentioned.</span>
                <span class="js-select-button-text hidden-select-button-text">
                  <span class="octicon octicon-eye"></span>
                  Watch
                </span>
              </div>
            </div> <!-- /.select-menu-item -->

            <div class="select-menu-item js-navigation-item selected" role="menuitem" tabindex="0">
              <span class="select-menu-item-icon octicon octicon octicon-check"></span>
              <div class="select-menu-item-text">
                <input checked="checked" id="do_subscribed" name="do" type="radio" value="subscribed" />
                <h4>Watching</h4>
                <span class="description">Be notified of all conversations.</span>
                <span class="js-select-button-text hidden-select-button-text">
                  <span class="octicon octicon-eye"></span>
                  Unwatch
                </span>
              </div>
            </div> <!-- /.select-menu-item -->

            <div class="select-menu-item js-navigation-item " role="menuitem" tabindex="0">
              <span class="select-menu-item-icon octicon octicon-check"></span>
              <div class="select-menu-item-text">
                <input id="do_ignore" name="do" type="radio" value="ignore" />
                <h4>Ignoring</h4>
                <span class="description">Never be notified.</span>
                <span class="js-select-button-text hidden-select-button-text">
                  <span class="octicon octicon-mute"></span>
                  Stop ignoring
                </span>
              </div>
            </div> <!-- /.select-menu-item -->

          </div> <!-- /.select-menu-list -->

        </div> <!-- /.select-menu-modal -->
      </div> <!-- /.select-menu-modal-holder -->
    </div> <!-- /.select-menu -->

</form>
    </li>

  <li>
    
  <div class="js-toggler-container js-social-container starring-container ">

    <form accept-charset="UTF-8" action="/ga-students/DAT_SF_10/unstar" class="js-toggler-form starred js-unstar-button" data-remote="true" method="post"><div style="margin:0;padding:0;display:inline"><input name="utf8" type="hidden" value="&#x2713;" /><input name="authenticity_token" type="hidden" value="xELOZAvSz0Hc3ii7xBoBX0N9aHD2xG4vIMNbX5cVGb2knzyPV/MdNfOAjpzUbgyMH6wz5K55D0FzCdqwFzSQJQ==" /></div>
      <button
        class="minibutton with-count js-toggler-target star-button"
        aria-label="Unstar this repository" title="Unstar ga-students/DAT_SF_10">
        <span class="octicon octicon-star"></span>
        Unstar
      </button>
        <a class="social-count js-social-count" href="/ga-students/DAT_SF_10/stargazers">
          3
        </a>
</form>
    <form accept-charset="UTF-8" action="/ga-students/DAT_SF_10/star" class="js-toggler-form unstarred js-star-button" data-remote="true" method="post"><div style="margin:0;padding:0;display:inline"><input name="utf8" type="hidden" value="&#x2713;" /><input name="authenticity_token" type="hidden" value="TBCYbyAXE0TgClX+69Pjb77U6ILyAthACCsrPpbAUIf6M2HTiQSD2hF3VNSI1VrWO9SsN3XKARlj+Qq7oBj1kg==" /></div>
      <button
        class="minibutton with-count js-toggler-target star-button"
        aria-label="Star this repository" title="Star ga-students/DAT_SF_10">
        <span class="octicon octicon-star"></span>
        Star
      </button>
        <a class="social-count js-social-count" href="/ga-students/DAT_SF_10/stargazers">
          3
        </a>
</form>  </div>

  </li>


        <li>
          <a href="/ga-students/DAT_SF_10/fork" class="minibutton with-count js-toggler-target fork-button tooltipped-n" title="Fork your own copy of ga-students/DAT_SF_10 to your account" aria-label="Fork your own copy of ga-students/DAT_SF_10 to your account" rel="facebox nofollow">
            <span class="octicon octicon-repo-forked"></span>
            Fork
          </a>
          <a href="/ga-students/DAT_SF_10/network" class="social-count">23</a>
        </li>

</ul>

        <h1 itemscope itemtype="http://data-vocabulary.org/Breadcrumb" class="entry-title public">
          <span class="mega-octicon octicon-repo"></span>
          <span class="author"><a href="/ga-students" class="url fn" itemprop="url" rel="author"><span itemprop="title">ga-students</span></a></span><!--
       --><span class="path-divider">/</span><!--
       --><strong><a href="/ga-students/DAT_SF_10" class="js-current-repository js-repo-home-link" data-pjax-container-selector="#js-repo-pjax-container">DAT_SF_10</a></strong>

          <span class="page-context-loader">
            <img alt="" height="16" src="https://assets-cdn.github.com/images/spinners/octocat-spinner-32.gif" width="16" />
          </span>

        </h1>
      </div><!-- /.container -->
    </div><!-- /.repohead -->

    <div class="container">
      <div class="repository-with-sidebar repo-container new-discussion-timeline  ">
        <div class="repository-sidebar clearfix">
            
<div class="sunken-menu vertical-right repo-nav js-repo-nav js-sidenav-container-pjax js-octicon-loaders" role="navigation" data-issue-count-url="/ga-students/DAT_SF_10/issues/counts" data-pjax-container-selector="#js-repo-pjax-container">
  <div class="sunken-menu-contents">
    <ul class="sunken-menu-group">
      <li class="tooltipped tooltipped-w" aria-label="Code">
        <a href="/ga-students/DAT_SF_10" aria-label="Code" class="selected js-selected-navigation-item sunken-menu-item" data-hotkey="g c" data-pjax="true" data-selected-links="repo_source repo_downloads repo_commits repo_releases repo_tags repo_branches /ga-students/DAT_SF_10">
          <span class="octicon octicon-code"></span> <span class="full-word">Code</span>
          <img alt="" class="mini-loader" height="16" src="https://assets-cdn.github.com/images/spinners/octocat-spinner-32.gif" width="16" />
</a>      </li>

        <li class="tooltipped tooltipped-w" aria-label="Issues">
          <a href="/ga-students/DAT_SF_10/issues" aria-label="Issues" class="js-selected-navigation-item sunken-menu-item js-disable-pjax" data-hotkey="g i" data-selected-links="repo_issues repo_labels repo_milestones /ga-students/DAT_SF_10/issues">
            <span class="octicon octicon-issue-opened"></span> <span class="full-word">Issues</span>
            <span class="js-issue-replace-counter"></span>
            <img alt="" class="mini-loader" height="16" src="https://assets-cdn.github.com/images/spinners/octocat-spinner-32.gif" width="16" />
</a>        </li>

      <li class="tooltipped tooltipped-w" aria-label="Pull Requests">
        <a href="/ga-students/DAT_SF_10/pulls" aria-label="Pull Requests" class="js-selected-navigation-item sunken-menu-item js-disable-pjax" data-hotkey="g p" data-selected-links="repo_pulls /ga-students/DAT_SF_10/pulls">
            <span class="octicon octicon-git-pull-request"></span> <span class="full-word">Pull Requests</span>
            <span class="js-pull-replace-counter"></span>
            <img alt="" class="mini-loader" height="16" src="https://assets-cdn.github.com/images/spinners/octocat-spinner-32.gif" width="16" />
</a>      </li>


        <li class="tooltipped tooltipped-w" aria-label="Wiki">
          <a href="/ga-students/DAT_SF_10/wiki" aria-label="Wiki" class="js-selected-navigation-item sunken-menu-item js-disable-pjax" data-hotkey="g w" data-selected-links="repo_wiki /ga-students/DAT_SF_10/wiki">
            <span class="octicon octicon-book"></span> <span class="full-word">Wiki</span>
            <img alt="" class="mini-loader" height="16" src="https://assets-cdn.github.com/images/spinners/octocat-spinner-32.gif" width="16" />
</a>        </li>
    </ul>
    <div class="sunken-menu-separator"></div>
    <ul class="sunken-menu-group">

      <li class="tooltipped tooltipped-w" aria-label="Pulse">
        <a href="/ga-students/DAT_SF_10/pulse/weekly" aria-label="Pulse" class="js-selected-navigation-item sunken-menu-item" data-pjax="true" data-selected-links="pulse /ga-students/DAT_SF_10/pulse/weekly">
          <span class="octicon octicon-pulse"></span> <span class="full-word">Pulse</span>
          <img alt="" class="mini-loader" height="16" src="https://assets-cdn.github.com/images/spinners/octocat-spinner-32.gif" width="16" />
</a>      </li>

      <li class="tooltipped tooltipped-w" aria-label="Graphs">
        <a href="/ga-students/DAT_SF_10/graphs" aria-label="Graphs" class="js-selected-navigation-item sunken-menu-item" data-pjax="true" data-selected-links="repo_graphs repo_contributors /ga-students/DAT_SF_10/graphs">
          <span class="octicon octicon-graph"></span> <span class="full-word">Graphs</span>
          <img alt="" class="mini-loader" height="16" src="https://assets-cdn.github.com/images/spinners/octocat-spinner-32.gif" width="16" />
</a>      </li>
    </ul>


  </div>
</div>

              <div class="only-with-full-nav">
                
  
<div class="clone-url open"
  data-protocol-type="http"
  data-url="/users/set_protocol?protocol_selector=http&amp;protocol_type=clone">
  <h3><span class="text-emphasized">HTTPS</span> clone URL</h3>
  <div class="input-group">
    <input type="text" class="input-mini input-monospace js-url-field"
           value="https://github.com/ga-students/DAT_SF_10.git" readonly="readonly">
    <span class="input-group-button">
      <button aria-label="Copy to clipboard" class="js-zeroclipboard minibutton zeroclipboard-button" data-clipboard-text="https://github.com/ga-students/DAT_SF_10.git" data-copied-hint="Copied!" type="button"><span class="octicon octicon-clippy"></span></button>
    </span>
  </div>
</div>

  
<div class="clone-url "
  data-protocol-type="ssh"
  data-url="/users/set_protocol?protocol_selector=ssh&amp;protocol_type=clone">
  <h3><span class="text-emphasized">SSH</span> clone URL</h3>
  <div class="input-group">
    <input type="text" class="input-mini input-monospace js-url-field"
           value="git@github.com:ga-students/DAT_SF_10.git" readonly="readonly">
    <span class="input-group-button">
      <button aria-label="Copy to clipboard" class="js-zeroclipboard minibutton zeroclipboard-button" data-clipboard-text="git@github.com:ga-students/DAT_SF_10.git" data-copied-hint="Copied!" type="button"><span class="octicon octicon-clippy"></span></button>
    </span>
  </div>
</div>

  
<div class="clone-url "
  data-protocol-type="subversion"
  data-url="/users/set_protocol?protocol_selector=subversion&amp;protocol_type=clone">
  <h3><span class="text-emphasized">Subversion</span> checkout URL</h3>
  <div class="input-group">
    <input type="text" class="input-mini input-monospace js-url-field"
           value="https://github.com/ga-students/DAT_SF_10" readonly="readonly">
    <span class="input-group-button">
      <button aria-label="Copy to clipboard" class="js-zeroclipboard minibutton zeroclipboard-button" data-clipboard-text="https://github.com/ga-students/DAT_SF_10" data-copied-hint="Copied!" type="button"><span class="octicon octicon-clippy"></span></button>
    </span>
  </div>
</div>


<p class="clone-options">You can clone with
      <a href="#" class="js-clone-selector" data-protocol="http">HTTPS</a>,
      <a href="#" class="js-clone-selector" data-protocol="ssh">SSH</a>,
      or <a href="#" class="js-clone-selector" data-protocol="subversion">Subversion</a>.
  <a href="https://help.github.com/articles/which-remote-url-should-i-use" class="help tooltipped tooltipped-n" aria-label="Get help on which URL is right for you.">
    <span class="octicon octicon-question"></span>
  </a>
</p>


  <a href="github-windows://openRepo/https://github.com/ga-students/DAT_SF_10" class="minibutton sidebar-button" title="Save ga-students/DAT_SF_10 to your computer and use it in GitHub Desktop." aria-label="Save ga-students/DAT_SF_10 to your computer and use it in GitHub Desktop.">
    <span class="octicon octicon-device-desktop"></span>
    Clone in Desktop
  </a>

                <a href="/ga-students/DAT_SF_10/archive/master.zip"
                   class="minibutton sidebar-button"
                   aria-label="Download the contents of ga-students/DAT_SF_10 as a zip file"
                   title="Download the contents of ga-students/DAT_SF_10 as a zip file"
                   rel="nofollow">
                  <span class="octicon octicon-cloud-download"></span>
                  Download ZIP
                </a>
              </div>
        </div><!-- /.repository-sidebar -->

        <div id="js-repo-pjax-container" class="repository-content context-loader-container" data-pjax-container>
          

<a href="/ga-students/DAT_SF_10/blob/70fc3ec28e5d2232f3f84b4c015bcdc689b3c103/Labs/Lab5/DAT10-lab05.ipynb" class="hidden js-permalink-shortcut" data-hotkey="y">Permalink</a>

<!-- blob contrib key: blob_contributors:v21:840a23f69e383499c8cfd680ceae971a -->

<div class="file-navigation">
  
<div class="select-menu js-menu-container js-select-menu left">
  <span class="minibutton select-menu-button js-menu-target css-truncate" data-hotkey="w"
    data-master-branch="master"
    data-ref="master"
    title="master"
    role="button" aria-label="Switch branches or tags" tabindex="0" aria-haspopup="true">
    <span class="octicon octicon-git-branch"></span>
    <i>branch:</i>
    <span class="js-select-button css-truncate-target">master</span>
  </span>

  <div class="select-menu-modal-holder js-menu-content js-navigation-container" data-pjax aria-hidden="true">

    <div class="select-menu-modal">
      <div class="select-menu-header">
        <span class="select-menu-title">Switch branches/tags</span>
        <span class="octicon octicon-x js-menu-close" role="button" aria-label="Close"></span>
      </div> <!-- /.select-menu-header -->

      <div class="select-menu-filters">
        <div class="select-menu-text-filter">
          <input type="text" aria-label="Filter branches/tags" id="context-commitish-filter-field" class="js-filterable-field js-navigation-enable" placeholder="Filter branches/tags">
        </div>
        <div class="select-menu-tabs">
          <ul>
            <li class="select-menu-tab">
              <a href="#" data-tab-filter="branches" class="js-select-menu-tab">Branches</a>
            </li>
            <li class="select-menu-tab">
              <a href="#" data-tab-filter="tags" class="js-select-menu-tab">Tags</a>
            </li>
          </ul>
        </div><!-- /.select-menu-tabs -->
      </div><!-- /.select-menu-filters -->

      <div class="select-menu-list select-menu-tab-bucket js-select-menu-tab-bucket" data-tab-filter="branches">

        <div data-filterable-for="context-commitish-filter-field" data-filterable-type="substring">


            <div class="select-menu-item js-navigation-item selected">
              <span class="select-menu-item-icon octicon octicon-check"></span>
              <a href="/ga-students/DAT_SF_10/blob/master/Labs/Lab5/DAT10-lab05.ipynb"
                 data-name="master"
                 data-skip-pjax="true"
                 rel="nofollow"
                 class="js-navigation-open select-menu-item-text css-truncate-target"
                 title="master">master</a>
            </div> <!-- /.select-menu-item -->
        </div>

          <div class="select-menu-no-results">Nothing to show</div>
      </div> <!-- /.select-menu-list -->

      <div class="select-menu-list select-menu-tab-bucket js-select-menu-tab-bucket" data-tab-filter="tags">
        <div data-filterable-for="context-commitish-filter-field" data-filterable-type="substring">


        </div>

        <div class="select-menu-no-results">Nothing to show</div>
      </div> <!-- /.select-menu-list -->

    </div> <!-- /.select-menu-modal -->
  </div> <!-- /.select-menu-modal-holder -->
</div> <!-- /.select-menu -->

  <div class="button-group right">
    <a href="/ga-students/DAT_SF_10/find/master"
          class="js-show-file-finder minibutton empty-icon tooltipped tooltipped-s"
          data-pjax
          data-hotkey="t"
          aria-label="Quickly jump between files">
      <span class="octicon octicon-list-unordered"></span>
    </a>
    <button class="js-zeroclipboard minibutton zeroclipboard-button"
          data-clipboard-text="Labs/Lab5/DAT10-lab05.ipynb"
          aria-label="Copy to clipboard"
          data-copied-hint="Copied!">
      <span class="octicon octicon-clippy"></span>
    </button>
  </div>

  <div class="breadcrumb">
    <span class='repo-root js-repo-root'><span itemscope="" itemtype="http://data-vocabulary.org/Breadcrumb"><a href="/ga-students/DAT_SF_10" class="" data-branch="master" data-direction="back" data-pjax="true" itemscope="url"><span itemprop="title">DAT_SF_10</span></a></span></span><span class="separator"> / </span><span itemscope="" itemtype="http://data-vocabulary.org/Breadcrumb"><a href="/ga-students/DAT_SF_10/tree/master/Labs" class="" data-branch="master" data-direction="back" data-pjax="true" itemscope="url"><span itemprop="title">Labs</span></a></span><span class="separator"> / </span><span itemscope="" itemtype="http://data-vocabulary.org/Breadcrumb"><a href="/ga-students/DAT_SF_10/tree/master/Labs/Lab5" class="" data-branch="master" data-direction="back" data-pjax="true" itemscope="url"><span itemprop="title">Lab5</span></a></span><span class="separator"> / </span><strong class="final-path">DAT10-lab05.ipynb</strong>
  </div>
</div>


  <div class="commit file-history-tease">
    <div class="file-history-tease-header">
        <img alt="craigsakuma" class="avatar" data-user="4754768" height="24" src="https://avatars2.githubusercontent.com/u/4754768?v=2&amp;s=48" width="24" />
        <span class="author"><a href="/craigsakuma" rel="contributor">craigsakuma</a></span>
        <time datetime="2014-10-23T01:02:44Z" is="relative-time">Oct 22, 2014</time>
        <div class="commit-title">
            <a href="/ga-students/DAT_SF_10/commit/edd57929fb605cffdad30b0b0e561501894037d9" class="message" data-pjax="true" title="added lab6">added lab6</a>
        </div>
    </div>

    <div class="participation">
      <p class="quickstat">
        <a href="#blob_contributors_box" rel="facebox">
          <strong>1</strong>
           contributor
        </a>
      </p>
      
    </div>
    <div id="blob_contributors_box" style="display:none">
      <h2 class="facebox-header">Users who have contributed to this file</h2>
      <ul class="facebox-user-list">
          <li class="facebox-user-list-item">
            <img alt="craigsakuma" data-user="4754768" height="24" src="https://avatars2.githubusercontent.com/u/4754768?v=2&amp;s=48" width="24" />
            <a href="/craigsakuma">craigsakuma</a>
          </li>
      </ul>
    </div>
  </div>

<div class="file-box">
  <div class="file">
    <div class="meta clearfix">
      <div class="info file-name">
          <span>2041 lines (2041 sloc)</span>
          <span class="meta-divider"></span>
        <span>419.769 kb</span>
      </div>
      <div class="actions">
        <div class="button-group">
          <a href="/ga-students/DAT_SF_10/raw/master/Labs/Lab5/DAT10-lab05.ipynb" class="minibutton " id="raw-url">Raw</a>
            <a href="/ga-students/DAT_SF_10/blame/master/Labs/Lab5/DAT10-lab05.ipynb" class="minibutton js-update-url-with-hash">Blame</a>
          <a href="/ga-students/DAT_SF_10/commits/master/Labs/Lab5/DAT10-lab05.ipynb" class="minibutton " rel="nofollow">History</a>
        </div><!-- /.button-group -->

          <a class="octicon-button tooltipped tooltipped-nw"
             href="github-windows://openRepo/https://github.com/ga-students/DAT_SF_10?branch=master&amp;filepath=Labs%2FLab5%2FDAT10-lab05.ipynb" aria-label="Open this file in GitHub for Windows">
              <span class="octicon octicon-device-desktop"></span>
          </a>

              <a class="octicon-button tooltipped tooltipped-n js-update-url-with-hash"
                 aria-label="Clicking this button will fork this project so you can edit the file"
                 href="/ga-students/DAT_SF_10/edit/master/Labs/Lab5/DAT10-lab05.ipynb"
                 data-method="post" rel="nofollow"><span class="octicon octicon-pencil"></span></a>

            <a class="octicon-button danger tooltipped tooltipped-s"
               href="/ga-students/DAT_SF_10/delete/master/Labs/Lab5/DAT10-lab05.ipynb"
               aria-label="Fork this project and delete file"
               data-method="post" data-test-id="delete-blob-file" rel="nofollow">
          <span class="octicon octicon-trashcan"></span>
        </a>
      </div><!-- /.actions -->
    </div>
    
  <div class="blob-wrapper data type-text">
      <table class="highlight tab-size-8 js-file-line-container">
      <tr>
        <td id="L1" class="blob-num js-line-number" data-line-number="1"></td>
        <td id="LC1" class="blob-code js-file-line">{</td>
      </tr>
      <tr>
        <td id="L2" class="blob-num js-line-number" data-line-number="2"></td>
        <td id="LC2" class="blob-code js-file-line"> &quot;metadata&quot;: {</td>
      </tr>
      <tr>
        <td id="L3" class="blob-num js-line-number" data-line-number="3"></td>
        <td id="LC3" class="blob-code js-file-line">  &quot;name&quot;: &quot;&quot;,</td>
      </tr>
      <tr>
        <td id="L4" class="blob-num js-line-number" data-line-number="4"></td>
        <td id="LC4" class="blob-code js-file-line">  &quot;signature&quot;: &quot;sha256:12fd07afd2c11d1582cc9fc0208ff28beb5a4caccea03a8ff49334a0f300a19c&quot;</td>
      </tr>
      <tr>
        <td id="L5" class="blob-num js-line-number" data-line-number="5"></td>
        <td id="LC5" class="blob-code js-file-line"> },</td>
      </tr>
      <tr>
        <td id="L6" class="blob-num js-line-number" data-line-number="6"></td>
        <td id="LC6" class="blob-code js-file-line"> &quot;nbformat&quot;: 3,</td>
      </tr>
      <tr>
        <td id="L7" class="blob-num js-line-number" data-line-number="7"></td>
        <td id="LC7" class="blob-code js-file-line"> &quot;nbformat_minor&quot;: 0,</td>
      </tr>
      <tr>
        <td id="L8" class="blob-num js-line-number" data-line-number="8"></td>
        <td id="LC8" class="blob-code js-file-line"> &quot;worksheets&quot;: [</td>
      </tr>
      <tr>
        <td id="L9" class="blob-num js-line-number" data-line-number="9"></td>
        <td id="LC9" class="blob-code js-file-line">  {</td>
      </tr>
      <tr>
        <td id="L10" class="blob-num js-line-number" data-line-number="10"></td>
        <td id="LC10" class="blob-code js-file-line">   &quot;cells&quot;: [</td>
      </tr>
      <tr>
        <td id="L11" class="blob-num js-line-number" data-line-number="11"></td>
        <td id="LC11" class="blob-code js-file-line">    {</td>
      </tr>
      <tr>
        <td id="L12" class="blob-num js-line-number" data-line-number="12"></td>
        <td id="LC12" class="blob-code js-file-line">     &quot;cell_type&quot;: &quot;markdown&quot;,</td>
      </tr>
      <tr>
        <td id="L13" class="blob-num js-line-number" data-line-number="13"></td>
        <td id="LC13" class="blob-code js-file-line">     &quot;metadata&quot;: {},</td>
      </tr>
      <tr>
        <td id="L14" class="blob-num js-line-number" data-line-number="14"></td>
        <td id="LC14" class="blob-code js-file-line">     &quot;source&quot;: [</td>
      </tr>
      <tr>
        <td id="L15" class="blob-num js-line-number" data-line-number="15"></td>
        <td id="LC15" class="blob-code js-file-line">      &quot;# GA Data Science 10 (DAT10) - Lab5\n&quot;,</td>
      </tr>
      <tr>
        <td id="L16" class="blob-num js-line-number" data-line-number="16"></td>
        <td id="LC16" class="blob-code js-file-line">      &quot;\n&quot;,</td>
      </tr>
      <tr>
        <td id="L17" class="blob-num js-line-number" data-line-number="17"></td>
        <td id="LC17" class="blob-code js-file-line">      &quot;### Regressions\n&quot;,</td>
      </tr>
      <tr>
        <td id="L18" class="blob-num js-line-number" data-line-number="18"></td>
        <td id="LC18" class="blob-code js-file-line">      &quot;\n&quot;,</td>
      </tr>
      <tr>
        <td id="L19" class="blob-num js-line-number" data-line-number="19"></td>
        <td id="LC19" class="blob-code js-file-line">      &quot;Francesco Mosconi, Chief Data Officer, [Spire Inc.](spire.io)\n&quot;,</td>
      </tr>
      <tr>
        <td id="L20" class="blob-num js-line-number" data-line-number="20"></td>
        <td id="LC20" class="blob-code js-file-line">      &quot;\n&quot;,</td>
      </tr>
      <tr>
        <td id="L21" class="blob-num js-line-number" data-line-number="21"></td>
        <td id="LC21" class="blob-code js-file-line">      &quot;Craig Sakuma, Data Scientist&quot;</td>
      </tr>
      <tr>
        <td id="L22" class="blob-num js-line-number" data-line-number="22"></td>
        <td id="LC22" class="blob-code js-file-line">     ]</td>
      </tr>
      <tr>
        <td id="L23" class="blob-num js-line-number" data-line-number="23"></td>
        <td id="LC23" class="blob-code js-file-line">    },</td>
      </tr>
      <tr>
        <td id="L24" class="blob-num js-line-number" data-line-number="24"></td>
        <td id="LC24" class="blob-code js-file-line">    {</td>
      </tr>
      <tr>
        <td id="L25" class="blob-num js-line-number" data-line-number="25"></td>
        <td id="LC25" class="blob-code js-file-line">     &quot;cell_type&quot;: &quot;code&quot;,</td>
      </tr>
      <tr>
        <td id="L26" class="blob-num js-line-number" data-line-number="26"></td>
        <td id="LC26" class="blob-code js-file-line">     &quot;collapsed&quot;: false,</td>
      </tr>
      <tr>
        <td id="L27" class="blob-num js-line-number" data-line-number="27"></td>
        <td id="LC27" class="blob-code js-file-line">     &quot;input&quot;: [</td>
      </tr>
      <tr>
        <td id="L28" class="blob-num js-line-number" data-line-number="28"></td>
        <td id="LC28" class="blob-code js-file-line">      &quot;#usual imports\n&quot;,</td>
      </tr>
      <tr>
        <td id="L29" class="blob-num js-line-number" data-line-number="29"></td>
        <td id="LC29" class="blob-code js-file-line">      &quot;import numpy as np\n&quot;,</td>
      </tr>
      <tr>
        <td id="L30" class="blob-num js-line-number" data-line-number="30"></td>
        <td id="LC30" class="blob-code js-file-line">      &quot;import matplotlib.pyplot as plt\n&quot;,</td>
      </tr>
      <tr>
        <td id="L31" class="blob-num js-line-number" data-line-number="31"></td>
        <td id="LC31" class="blob-code js-file-line">      &quot;import pandas as pd\n&quot;,</td>
      </tr>
      <tr>
        <td id="L32" class="blob-num js-line-number" data-line-number="32"></td>
        <td id="LC32" class="blob-code js-file-line">      &quot;\n&quot;,</td>
      </tr>
      <tr>
        <td id="L33" class="blob-num js-line-number" data-line-number="33"></td>
        <td id="LC33" class="blob-code js-file-line">      &quot;%matplotlib inline\n&quot;,</td>
      </tr>
      <tr>
        <td id="L34" class="blob-num js-line-number" data-line-number="34"></td>
        <td id="LC34" class="blob-code js-file-line">      &quot;\n&quot;,</td>
      </tr>
      <tr>
        <td id="L35" class="blob-num js-line-number" data-line-number="35"></td>
        <td id="LC35" class="blob-code js-file-line">      &quot;# Statsmodel APIs\n&quot;,</td>
      </tr>
      <tr>
        <td id="L36" class="blob-num js-line-number" data-line-number="36"></td>
        <td id="LC36" class="blob-code js-file-line">      &quot;import statsmodels.api as sm&quot;</td>
      </tr>
      <tr>
        <td id="L37" class="blob-num js-line-number" data-line-number="37"></td>
        <td id="LC37" class="blob-code js-file-line">     ],</td>
      </tr>
      <tr>
        <td id="L38" class="blob-num js-line-number" data-line-number="38"></td>
        <td id="LC38" class="blob-code js-file-line">     &quot;language&quot;: &quot;python&quot;,</td>
      </tr>
      <tr>
        <td id="L39" class="blob-num js-line-number" data-line-number="39"></td>
        <td id="LC39" class="blob-code js-file-line">     &quot;metadata&quot;: {},</td>
      </tr>
      <tr>
        <td id="L40" class="blob-num js-line-number" data-line-number="40"></td>
        <td id="LC40" class="blob-code js-file-line">     &quot;outputs&quot;: [],</td>
      </tr>
      <tr>
        <td id="L41" class="blob-num js-line-number" data-line-number="41"></td>
        <td id="LC41" class="blob-code js-file-line">     &quot;prompt_number&quot;: 1</td>
      </tr>
      <tr>
        <td id="L42" class="blob-num js-line-number" data-line-number="42"></td>
        <td id="LC42" class="blob-code js-file-line">    },</td>
      </tr>
      <tr>
        <td id="L43" class="blob-num js-line-number" data-line-number="43"></td>
        <td id="LC43" class="blob-code js-file-line">    {</td>
      </tr>
      <tr>
        <td id="L44" class="blob-num js-line-number" data-line-number="44"></td>
        <td id="LC44" class="blob-code js-file-line">     &quot;cell_type&quot;: &quot;markdown&quot;,</td>
      </tr>
      <tr>
        <td id="L45" class="blob-num js-line-number" data-line-number="45"></td>
        <td id="LC45" class="blob-code js-file-line">     &quot;metadata&quot;: {},</td>
      </tr>
      <tr>
        <td id="L46" class="blob-num js-line-number" data-line-number="46"></td>
        <td id="LC46" class="blob-code js-file-line">     &quot;source&quot;: [</td>
      </tr>
      <tr>
        <td id="L47" class="blob-num js-line-number" data-line-number="47"></td>
        <td id="LC47" class="blob-code js-file-line">      &quot;## Linear Regression&quot;</td>
      </tr>
      <tr>
        <td id="L48" class="blob-num js-line-number" data-line-number="48"></td>
        <td id="LC48" class="blob-code js-file-line">     ]</td>
      </tr>
      <tr>
        <td id="L49" class="blob-num js-line-number" data-line-number="49"></td>
        <td id="LC49" class="blob-code js-file-line">    },</td>
      </tr>
      <tr>
        <td id="L50" class="blob-num js-line-number" data-line-number="50"></td>
        <td id="LC50" class="blob-code js-file-line">    {</td>
      </tr>
      <tr>
        <td id="L51" class="blob-num js-line-number" data-line-number="51"></td>
        <td id="LC51" class="blob-code js-file-line">     &quot;cell_type&quot;: &quot;markdown&quot;,</td>
      </tr>
      <tr>
        <td id="L52" class="blob-num js-line-number" data-line-number="52"></td>
        <td id="LC52" class="blob-code js-file-line">     &quot;metadata&quot;: {},</td>
      </tr>
      <tr>
        <td id="L53" class="blob-num js-line-number" data-line-number="53"></td>
        <td id="LC53" class="blob-code js-file-line">     &quot;source&quot;: [</td>
      </tr>
      <tr>
        <td id="L54" class="blob-num js-line-number" data-line-number="54"></td>
        <td id="LC54" class="blob-code js-file-line">      &quot;Load a subset of the housing data&quot;</td>
      </tr>
      <tr>
        <td id="L55" class="blob-num js-line-number" data-line-number="55"></td>
        <td id="LC55" class="blob-code js-file-line">     ]</td>
      </tr>
      <tr>
        <td id="L56" class="blob-num js-line-number" data-line-number="56"></td>
        <td id="LC56" class="blob-code js-file-line">    },</td>
      </tr>
      <tr>
        <td id="L57" class="blob-num js-line-number" data-line-number="57"></td>
        <td id="LC57" class="blob-code js-file-line">    {</td>
      </tr>
      <tr>
        <td id="L58" class="blob-num js-line-number" data-line-number="58"></td>
        <td id="LC58" class="blob-code js-file-line">     &quot;cell_type&quot;: &quot;code&quot;,</td>
      </tr>
      <tr>
        <td id="L59" class="blob-num js-line-number" data-line-number="59"></td>
        <td id="LC59" class="blob-code js-file-line">     &quot;collapsed&quot;: false,</td>
      </tr>
      <tr>
        <td id="L60" class="blob-num js-line-number" data-line-number="60"></td>
        <td id="LC60" class="blob-code js-file-line">     &quot;input&quot;: [</td>
      </tr>
      <tr>
        <td id="L61" class="blob-num js-line-number" data-line-number="61"></td>
        <td id="LC61" class="blob-code js-file-line">      &quot;data = pd.read_csv(&#39;houses.csv&#39;)&quot;</td>
      </tr>
      <tr>
        <td id="L62" class="blob-num js-line-number" data-line-number="62"></td>
        <td id="LC62" class="blob-code js-file-line">     ],</td>
      </tr>
      <tr>
        <td id="L63" class="blob-num js-line-number" data-line-number="63"></td>
        <td id="LC63" class="blob-code js-file-line">     &quot;language&quot;: &quot;python&quot;,</td>
      </tr>
      <tr>
        <td id="L64" class="blob-num js-line-number" data-line-number="64"></td>
        <td id="LC64" class="blob-code js-file-line">     &quot;metadata&quot;: {},</td>
      </tr>
      <tr>
        <td id="L65" class="blob-num js-line-number" data-line-number="65"></td>
        <td id="LC65" class="blob-code js-file-line">     &quot;outputs&quot;: [],</td>
      </tr>
      <tr>
        <td id="L66" class="blob-num js-line-number" data-line-number="66"></td>
        <td id="LC66" class="blob-code js-file-line">     &quot;prompt_number&quot;: 2</td>
      </tr>
      <tr>
        <td id="L67" class="blob-num js-line-number" data-line-number="67"></td>
        <td id="LC67" class="blob-code js-file-line">    },</td>
      </tr>
      <tr>
        <td id="L68" class="blob-num js-line-number" data-line-number="68"></td>
        <td id="LC68" class="blob-code js-file-line">    {</td>
      </tr>
      <tr>
        <td id="L69" class="blob-num js-line-number" data-line-number="69"></td>
        <td id="LC69" class="blob-code js-file-line">     &quot;cell_type&quot;: &quot;code&quot;,</td>
      </tr>
      <tr>
        <td id="L70" class="blob-num js-line-number" data-line-number="70"></td>
        <td id="LC70" class="blob-code js-file-line">     &quot;collapsed&quot;: false,</td>
      </tr>
      <tr>
        <td id="L71" class="blob-num js-line-number" data-line-number="71"></td>
        <td id="LC71" class="blob-code js-file-line">     &quot;input&quot;: [</td>
      </tr>
      <tr>
        <td id="L72" class="blob-num js-line-number" data-line-number="72"></td>
        <td id="LC72" class="blob-code js-file-line">      &quot;data.head()&quot;</td>
      </tr>
      <tr>
        <td id="L73" class="blob-num js-line-number" data-line-number="73"></td>
        <td id="LC73" class="blob-code js-file-line">     ],</td>
      </tr>
      <tr>
        <td id="L74" class="blob-num js-line-number" data-line-number="74"></td>
        <td id="LC74" class="blob-code js-file-line">     &quot;language&quot;: &quot;python&quot;,</td>
      </tr>
      <tr>
        <td id="L75" class="blob-num js-line-number" data-line-number="75"></td>
        <td id="LC75" class="blob-code js-file-line">     &quot;metadata&quot;: {},</td>
      </tr>
      <tr>
        <td id="L76" class="blob-num js-line-number" data-line-number="76"></td>
        <td id="LC76" class="blob-code js-file-line">     &quot;outputs&quot;: [</td>
      </tr>
      <tr>
        <td id="L77" class="blob-num js-line-number" data-line-number="77"></td>
        <td id="LC77" class="blob-code js-file-line">      {</td>
      </tr>
      <tr>
        <td id="L78" class="blob-num js-line-number" data-line-number="78"></td>
        <td id="LC78" class="blob-code js-file-line">       &quot;html&quot;: [</td>
      </tr>
      <tr>
        <td id="L79" class="blob-num js-line-number" data-line-number="79"></td>
        <td id="LC79" class="blob-code js-file-line">        &quot;&lt;div style=\&quot;max-height:1000px;max-width:1500px;overflow:auto;\&quot;&gt;\n&quot;,</td>
      </tr>
      <tr>
        <td id="L80" class="blob-num js-line-number" data-line-number="80"></td>
        <td id="LC80" class="blob-code js-file-line">        &quot;&lt;table border=\&quot;1\&quot; class=\&quot;dataframe\&quot;&gt;\n&quot;,</td>
      </tr>
      <tr>
        <td id="L81" class="blob-num js-line-number" data-line-number="81"></td>
        <td id="LC81" class="blob-code js-file-line">        &quot;  &lt;thead&gt;\n&quot;,</td>
      </tr>
      <tr>
        <td id="L82" class="blob-num js-line-number" data-line-number="82"></td>
        <td id="LC82" class="blob-code js-file-line">        &quot;    &lt;tr style=\&quot;text-align: right;\&quot;&gt;\n&quot;,</td>
      </tr>
      <tr>
        <td id="L83" class="blob-num js-line-number" data-line-number="83"></td>
        <td id="LC83" class="blob-code js-file-line">        &quot;      &lt;th&gt;&lt;/th&gt;\n&quot;,</td>
      </tr>
      <tr>
        <td id="L84" class="blob-num js-line-number" data-line-number="84"></td>
        <td id="LC84" class="blob-code js-file-line">        &quot;      &lt;th&gt;sqft&lt;/th&gt;\n&quot;,</td>
      </tr>
      <tr>
        <td id="L85" class="blob-num js-line-number" data-line-number="85"></td>
        <td id="LC85" class="blob-code js-file-line">        &quot;      &lt;th&gt;bedrooms&lt;/th&gt;\n&quot;,</td>
      </tr>
      <tr>
        <td id="L86" class="blob-num js-line-number" data-line-number="86"></td>
        <td id="LC86" class="blob-code js-file-line">        &quot;      &lt;th&gt;age&lt;/th&gt;\n&quot;,</td>
      </tr>
      <tr>
        <td id="L87" class="blob-num js-line-number" data-line-number="87"></td>
        <td id="LC87" class="blob-code js-file-line">        &quot;      &lt;th&gt;price&lt;/th&gt;\n&quot;,</td>
      </tr>
      <tr>
        <td id="L88" class="blob-num js-line-number" data-line-number="88"></td>
        <td id="LC88" class="blob-code js-file-line">        &quot;    &lt;/tr&gt;\n&quot;,</td>
      </tr>
      <tr>
        <td id="L89" class="blob-num js-line-number" data-line-number="89"></td>
        <td id="LC89" class="blob-code js-file-line">        &quot;  &lt;/thead&gt;\n&quot;,</td>
      </tr>
      <tr>
        <td id="L90" class="blob-num js-line-number" data-line-number="90"></td>
        <td id="LC90" class="blob-code js-file-line">        &quot;  &lt;tbody&gt;\n&quot;,</td>
      </tr>
      <tr>
        <td id="L91" class="blob-num js-line-number" data-line-number="91"></td>
        <td id="LC91" class="blob-code js-file-line">        &quot;    &lt;tr&gt;\n&quot;,</td>
      </tr>
      <tr>
        <td id="L92" class="blob-num js-line-number" data-line-number="92"></td>
        <td id="LC92" class="blob-code js-file-line">        &quot;      &lt;th&gt;0&lt;/th&gt;\n&quot;,</td>
      </tr>
      <tr>
        <td id="L93" class="blob-num js-line-number" data-line-number="93"></td>
        <td id="LC93" class="blob-code js-file-line">        &quot;      &lt;td&gt; 2104&lt;/td&gt;\n&quot;,</td>
      </tr>
      <tr>
        <td id="L94" class="blob-num js-line-number" data-line-number="94"></td>
        <td id="LC94" class="blob-code js-file-line">        &quot;      &lt;td&gt; 3&lt;/td&gt;\n&quot;,</td>
      </tr>
      <tr>
        <td id="L95" class="blob-num js-line-number" data-line-number="95"></td>
        <td id="LC95" class="blob-code js-file-line">        &quot;      &lt;td&gt; 70&lt;/td&gt;\n&quot;,</td>
      </tr>
      <tr>
        <td id="L96" class="blob-num js-line-number" data-line-number="96"></td>
        <td id="LC96" class="blob-code js-file-line">        &quot;      &lt;td&gt; 399900&lt;/td&gt;\n&quot;,</td>
      </tr>
      <tr>
        <td id="L97" class="blob-num js-line-number" data-line-number="97"></td>
        <td id="LC97" class="blob-code js-file-line">        &quot;    &lt;/tr&gt;\n&quot;,</td>
      </tr>
      <tr>
        <td id="L98" class="blob-num js-line-number" data-line-number="98"></td>
        <td id="LC98" class="blob-code js-file-line">        &quot;    &lt;tr&gt;\n&quot;,</td>
      </tr>
      <tr>
        <td id="L99" class="blob-num js-line-number" data-line-number="99"></td>
        <td id="LC99" class="blob-code js-file-line">        &quot;      &lt;th&gt;1&lt;/th&gt;\n&quot;,</td>
      </tr>
      <tr>
        <td id="L100" class="blob-num js-line-number" data-line-number="100"></td>
        <td id="LC100" class="blob-code js-file-line">        &quot;      &lt;td&gt; 1600&lt;/td&gt;\n&quot;,</td>
      </tr>
      <tr>
        <td id="L101" class="blob-num js-line-number" data-line-number="101"></td>
        <td id="LC101" class="blob-code js-file-line">        &quot;      &lt;td&gt; 3&lt;/td&gt;\n&quot;,</td>
      </tr>
      <tr>
        <td id="L102" class="blob-num js-line-number" data-line-number="102"></td>
        <td id="LC102" class="blob-code js-file-line">        &quot;      &lt;td&gt; 28&lt;/td&gt;\n&quot;,</td>
      </tr>
      <tr>
        <td id="L103" class="blob-num js-line-number" data-line-number="103"></td>
        <td id="LC103" class="blob-code js-file-line">        &quot;      &lt;td&gt; 329900&lt;/td&gt;\n&quot;,</td>
      </tr>
      <tr>
        <td id="L104" class="blob-num js-line-number" data-line-number="104"></td>
        <td id="LC104" class="blob-code js-file-line">        &quot;    &lt;/tr&gt;\n&quot;,</td>
      </tr>
      <tr>
        <td id="L105" class="blob-num js-line-number" data-line-number="105"></td>
        <td id="LC105" class="blob-code js-file-line">        &quot;    &lt;tr&gt;\n&quot;,</td>
      </tr>
      <tr>
        <td id="L106" class="blob-num js-line-number" data-line-number="106"></td>
        <td id="LC106" class="blob-code js-file-line">        &quot;      &lt;th&gt;2&lt;/th&gt;\n&quot;,</td>
      </tr>
      <tr>
        <td id="L107" class="blob-num js-line-number" data-line-number="107"></td>
        <td id="LC107" class="blob-code js-file-line">        &quot;      &lt;td&gt; 2400&lt;/td&gt;\n&quot;,</td>
      </tr>
      <tr>
        <td id="L108" class="blob-num js-line-number" data-line-number="108"></td>
        <td id="LC108" class="blob-code js-file-line">        &quot;      &lt;td&gt; 3&lt;/td&gt;\n&quot;,</td>
      </tr>
      <tr>
        <td id="L109" class="blob-num js-line-number" data-line-number="109"></td>
        <td id="LC109" class="blob-code js-file-line">        &quot;      &lt;td&gt; 44&lt;/td&gt;\n&quot;,</td>
      </tr>
      <tr>
        <td id="L110" class="blob-num js-line-number" data-line-number="110"></td>
        <td id="LC110" class="blob-code js-file-line">        &quot;      &lt;td&gt; 369000&lt;/td&gt;\n&quot;,</td>
      </tr>
      <tr>
        <td id="L111" class="blob-num js-line-number" data-line-number="111"></td>
        <td id="LC111" class="blob-code js-file-line">        &quot;    &lt;/tr&gt;\n&quot;,</td>
      </tr>
      <tr>
        <td id="L112" class="blob-num js-line-number" data-line-number="112"></td>
        <td id="LC112" class="blob-code js-file-line">        &quot;    &lt;tr&gt;\n&quot;,</td>
      </tr>
      <tr>
        <td id="L113" class="blob-num js-line-number" data-line-number="113"></td>
        <td id="LC113" class="blob-code js-file-line">        &quot;      &lt;th&gt;3&lt;/th&gt;\n&quot;,</td>
      </tr>
      <tr>
        <td id="L114" class="blob-num js-line-number" data-line-number="114"></td>
        <td id="LC114" class="blob-code js-file-line">        &quot;      &lt;td&gt; 1416&lt;/td&gt;\n&quot;,</td>
      </tr>
      <tr>
        <td id="L115" class="blob-num js-line-number" data-line-number="115"></td>
        <td id="LC115" class="blob-code js-file-line">        &quot;      &lt;td&gt; 2&lt;/td&gt;\n&quot;,</td>
      </tr>
      <tr>
        <td id="L116" class="blob-num js-line-number" data-line-number="116"></td>
        <td id="LC116" class="blob-code js-file-line">        &quot;      &lt;td&gt; 49&lt;/td&gt;\n&quot;,</td>
      </tr>
      <tr>
        <td id="L117" class="blob-num js-line-number" data-line-number="117"></td>
        <td id="LC117" class="blob-code js-file-line">        &quot;      &lt;td&gt; 232000&lt;/td&gt;\n&quot;,</td>
      </tr>
      <tr>
        <td id="L118" class="blob-num js-line-number" data-line-number="118"></td>
        <td id="LC118" class="blob-code js-file-line">        &quot;    &lt;/tr&gt;\n&quot;,</td>
      </tr>
      <tr>
        <td id="L119" class="blob-num js-line-number" data-line-number="119"></td>
        <td id="LC119" class="blob-code js-file-line">        &quot;    &lt;tr&gt;\n&quot;,</td>
      </tr>
      <tr>
        <td id="L120" class="blob-num js-line-number" data-line-number="120"></td>
        <td id="LC120" class="blob-code js-file-line">        &quot;      &lt;th&gt;4&lt;/th&gt;\n&quot;,</td>
      </tr>
      <tr>
        <td id="L121" class="blob-num js-line-number" data-line-number="121"></td>
        <td id="LC121" class="blob-code js-file-line">        &quot;      &lt;td&gt; 3000&lt;/td&gt;\n&quot;,</td>
      </tr>
      <tr>
        <td id="L122" class="blob-num js-line-number" data-line-number="122"></td>
        <td id="LC122" class="blob-code js-file-line">        &quot;      &lt;td&gt; 4&lt;/td&gt;\n&quot;,</td>
      </tr>
      <tr>
        <td id="L123" class="blob-num js-line-number" data-line-number="123"></td>
        <td id="LC123" class="blob-code js-file-line">        &quot;      &lt;td&gt; 75&lt;/td&gt;\n&quot;,</td>
      </tr>
      <tr>
        <td id="L124" class="blob-num js-line-number" data-line-number="124"></td>
        <td id="LC124" class="blob-code js-file-line">        &quot;      &lt;td&gt; 539900&lt;/td&gt;\n&quot;,</td>
      </tr>
      <tr>
        <td id="L125" class="blob-num js-line-number" data-line-number="125"></td>
        <td id="LC125" class="blob-code js-file-line">        &quot;    &lt;/tr&gt;\n&quot;,</td>
      </tr>
      <tr>
        <td id="L126" class="blob-num js-line-number" data-line-number="126"></td>
        <td id="LC126" class="blob-code js-file-line">        &quot;  &lt;/tbody&gt;\n&quot;,</td>
      </tr>
      <tr>
        <td id="L127" class="blob-num js-line-number" data-line-number="127"></td>
        <td id="LC127" class="blob-code js-file-line">        &quot;&lt;/table&gt;\n&quot;,</td>
      </tr>
      <tr>
        <td id="L128" class="blob-num js-line-number" data-line-number="128"></td>
        <td id="LC128" class="blob-code js-file-line">        &quot;&lt;/div&gt;&quot;</td>
      </tr>
      <tr>
        <td id="L129" class="blob-num js-line-number" data-line-number="129"></td>
        <td id="LC129" class="blob-code js-file-line">       ],</td>
      </tr>
      <tr>
        <td id="L130" class="blob-num js-line-number" data-line-number="130"></td>
        <td id="LC130" class="blob-code js-file-line">       &quot;metadata&quot;: {},</td>
      </tr>
      <tr>
        <td id="L131" class="blob-num js-line-number" data-line-number="131"></td>
        <td id="LC131" class="blob-code js-file-line">       &quot;output_type&quot;: &quot;pyout&quot;,</td>
      </tr>
      <tr>
        <td id="L132" class="blob-num js-line-number" data-line-number="132"></td>
        <td id="LC132" class="blob-code js-file-line">       &quot;prompt_number&quot;: 3,</td>
      </tr>
      <tr>
        <td id="L133" class="blob-num js-line-number" data-line-number="133"></td>
        <td id="LC133" class="blob-code js-file-line">       &quot;text&quot;: [</td>
      </tr>
      <tr>
        <td id="L134" class="blob-num js-line-number" data-line-number="134"></td>
        <td id="LC134" class="blob-code js-file-line">        &quot;   sqft  bedrooms  age   price\n&quot;,</td>
      </tr>
      <tr>
        <td id="L135" class="blob-num js-line-number" data-line-number="135"></td>
        <td id="LC135" class="blob-code js-file-line">        &quot;0  2104         3   70  399900\n&quot;,</td>
      </tr>
      <tr>
        <td id="L136" class="blob-num js-line-number" data-line-number="136"></td>
        <td id="LC136" class="blob-code js-file-line">        &quot;1  1600         3   28  329900\n&quot;,</td>
      </tr>
      <tr>
        <td id="L137" class="blob-num js-line-number" data-line-number="137"></td>
        <td id="LC137" class="blob-code js-file-line">        &quot;2  2400         3   44  369000\n&quot;,</td>
      </tr>
      <tr>
        <td id="L138" class="blob-num js-line-number" data-line-number="138"></td>
        <td id="LC138" class="blob-code js-file-line">        &quot;3  1416         2   49  232000\n&quot;,</td>
      </tr>
      <tr>
        <td id="L139" class="blob-num js-line-number" data-line-number="139"></td>
        <td id="LC139" class="blob-code js-file-line">        &quot;4  3000         4   75  539900&quot;</td>
      </tr>
      <tr>
        <td id="L140" class="blob-num js-line-number" data-line-number="140"></td>
        <td id="LC140" class="blob-code js-file-line">       ]</td>
      </tr>
      <tr>
        <td id="L141" class="blob-num js-line-number" data-line-number="141"></td>
        <td id="LC141" class="blob-code js-file-line">      }</td>
      </tr>
      <tr>
        <td id="L142" class="blob-num js-line-number" data-line-number="142"></td>
        <td id="LC142" class="blob-code js-file-line">     ],</td>
      </tr>
      <tr>
        <td id="L143" class="blob-num js-line-number" data-line-number="143"></td>
        <td id="LC143" class="blob-code js-file-line">     &quot;prompt_number&quot;: 3</td>
      </tr>
      <tr>
        <td id="L144" class="blob-num js-line-number" data-line-number="144"></td>
        <td id="LC144" class="blob-code js-file-line">    },</td>
      </tr>
      <tr>
        <td id="L145" class="blob-num js-line-number" data-line-number="145"></td>
        <td id="LC145" class="blob-code js-file-line">    {</td>
      </tr>
      <tr>
        <td id="L146" class="blob-num js-line-number" data-line-number="146"></td>
        <td id="LC146" class="blob-code js-file-line">     &quot;cell_type&quot;: &quot;code&quot;,</td>
      </tr>
      <tr>
        <td id="L147" class="blob-num js-line-number" data-line-number="147"></td>
        <td id="LC147" class="blob-code js-file-line">     &quot;collapsed&quot;: false,</td>
      </tr>
      <tr>
        <td id="L148" class="blob-num js-line-number" data-line-number="148"></td>
        <td id="LC148" class="blob-code js-file-line">     &quot;input&quot;: [</td>
      </tr>
      <tr>
        <td id="L149" class="blob-num js-line-number" data-line-number="149"></td>
        <td id="LC149" class="blob-code js-file-line">      &quot;data_n = pd.read_csv(&#39;houses_norm.csv&#39;)&quot;</td>
      </tr>
      <tr>
        <td id="L150" class="blob-num js-line-number" data-line-number="150"></td>
        <td id="LC150" class="blob-code js-file-line">     ],</td>
      </tr>
      <tr>
        <td id="L151" class="blob-num js-line-number" data-line-number="151"></td>
        <td id="LC151" class="blob-code js-file-line">     &quot;language&quot;: &quot;python&quot;,</td>
      </tr>
      <tr>
        <td id="L152" class="blob-num js-line-number" data-line-number="152"></td>
        <td id="LC152" class="blob-code js-file-line">     &quot;metadata&quot;: {},</td>
      </tr>
      <tr>
        <td id="L153" class="blob-num js-line-number" data-line-number="153"></td>
        <td id="LC153" class="blob-code js-file-line">     &quot;outputs&quot;: [],</td>
      </tr>
      <tr>
        <td id="L154" class="blob-num js-line-number" data-line-number="154"></td>
        <td id="LC154" class="blob-code js-file-line">     &quot;prompt_number&quot;: 4</td>
      </tr>
      <tr>
        <td id="L155" class="blob-num js-line-number" data-line-number="155"></td>
        <td id="LC155" class="blob-code js-file-line">    },</td>
      </tr>
      <tr>
        <td id="L156" class="blob-num js-line-number" data-line-number="156"></td>
        <td id="LC156" class="blob-code js-file-line">    {</td>
      </tr>
      <tr>
        <td id="L157" class="blob-num js-line-number" data-line-number="157"></td>
        <td id="LC157" class="blob-code js-file-line">     &quot;cell_type&quot;: &quot;markdown&quot;,</td>
      </tr>
      <tr>
        <td id="L158" class="blob-num js-line-number" data-line-number="158"></td>
        <td id="LC158" class="blob-code js-file-line">     &quot;metadata&quot;: {},</td>
      </tr>
      <tr>
        <td id="L159" class="blob-num js-line-number" data-line-number="159"></td>
        <td id="LC159" class="blob-code js-file-line">     &quot;source&quot;: [</td>
      </tr>
      <tr>
        <td id="L160" class="blob-num js-line-number" data-line-number="160"></td>
        <td id="LC160" class="blob-code js-file-line">      &quot;The dataset contains 4 columns. Our objective is to build a model that is able to predict the price of a house, using the information contained in the other columns (sqft, bedrooms and age)&quot;</td>
      </tr>
      <tr>
        <td id="L161" class="blob-num js-line-number" data-line-number="161"></td>
        <td id="LC161" class="blob-code js-file-line">     ]</td>
      </tr>
      <tr>
        <td id="L162" class="blob-num js-line-number" data-line-number="162"></td>
        <td id="LC162" class="blob-code js-file-line">    },</td>
      </tr>
      <tr>
        <td id="L163" class="blob-num js-line-number" data-line-number="163"></td>
        <td id="LC163" class="blob-code js-file-line">    {</td>
      </tr>
      <tr>
        <td id="L164" class="blob-num js-line-number" data-line-number="164"></td>
        <td id="LC164" class="blob-code js-file-line">     &quot;cell_type&quot;: &quot;code&quot;,</td>
      </tr>
      <tr>
        <td id="L165" class="blob-num js-line-number" data-line-number="165"></td>
        <td id="LC165" class="blob-code js-file-line">     &quot;collapsed&quot;: false,</td>
      </tr>
      <tr>
        <td id="L166" class="blob-num js-line-number" data-line-number="166"></td>
        <td id="LC166" class="blob-code js-file-line">     &quot;input&quot;: [</td>
      </tr>
      <tr>
        <td id="L167" class="blob-num js-line-number" data-line-number="167"></td>
        <td id="LC167" class="blob-code js-file-line">      &quot;from pandas.tools.plotting import scatter_matrix\n&quot;,</td>
      </tr>
      <tr>
        <td id="L168" class="blob-num js-line-number" data-line-number="168"></td>
        <td id="LC168" class="blob-code js-file-line">      &quot;scat = scatter_matrix(data, figsize = (5,5))&quot;</td>
      </tr>
      <tr>
        <td id="L169" class="blob-num js-line-number" data-line-number="169"></td>
        <td id="LC169" class="blob-code js-file-line">     ],</td>
      </tr>
      <tr>
        <td id="L170" class="blob-num js-line-number" data-line-number="170"></td>
        <td id="LC170" class="blob-code js-file-line">     &quot;language&quot;: &quot;python&quot;,</td>
      </tr>
      <tr>
        <td id="L171" class="blob-num js-line-number" data-line-number="171"></td>
        <td id="LC171" class="blob-code js-file-line">     &quot;metadata&quot;: {},</td>
      </tr>
      <tr>
        <td id="L172" class="blob-num js-line-number" data-line-number="172"></td>
        <td id="LC172" class="blob-code js-file-line">     &quot;outputs&quot;: [</td>
      </tr>
      <tr>
        <td id="L173" class="blob-num js-line-number" data-line-number="173"></td>
        <td id="LC173" class="blob-code js-file-line">      {</td>
      </tr>
      <tr>
        <td id="L174" class="blob-num js-line-number" data-line-number="174"></td>
        <td id="LC174" class="blob-code js-file-line">       &quot;metadata&quot;: {},</td>
      </tr>
      <tr>
        <td id="L175" class="blob-num js-line-number" data-line-number="175"></td>
        <td id="LC175" class="blob-code js-file-line">       &quot;output_type&quot;: &quot;display_data&quot;,</td>
      </tr>
      <tr>
        <td id="L176" class="blob-num js-line-number" data-line-number="176"></td>
        <td id="LC176" class="blob-code js-file-line">       &quot;png&quot;: &quot;iVBORw0KGgoAAAANSUhEUgAAAVkAAAFaCAYAAAC0Zi51AAAABHNCSVQICAgIfAhkiAAAAAlwSFlz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\n&quot;,</td>
      </tr>
      <tr>
        <td id="L177" class="blob-num js-line-number" data-line-number="177"></td>
        <td id="LC177" class="blob-code js-file-line">       &quot;text&quot;: [</td>
      </tr>
      <tr>
        <td id="L178" class="blob-num js-line-number" data-line-number="178"></td>
        <td id="LC178" class="blob-code js-file-line">        &quot;&lt;matplotlib.figure.Figure at 0x10949dd10&gt;&quot;</td>
      </tr>
      <tr>
        <td id="L179" class="blob-num js-line-number" data-line-number="179"></td>
        <td id="LC179" class="blob-code js-file-line">       ]</td>
      </tr>
      <tr>
        <td id="L180" class="blob-num js-line-number" data-line-number="180"></td>
        <td id="LC180" class="blob-code js-file-line">      }</td>
      </tr>
      <tr>
        <td id="L181" class="blob-num js-line-number" data-line-number="181"></td>
        <td id="LC181" class="blob-code js-file-line">     ],</td>
      </tr>
      <tr>
        <td id="L182" class="blob-num js-line-number" data-line-number="182"></td>
        <td id="LC182" class="blob-code js-file-line">     &quot;prompt_number&quot;: 5</td>
      </tr>
      <tr>
        <td id="L183" class="blob-num js-line-number" data-line-number="183"></td>
        <td id="LC183" class="blob-code js-file-line">    },</td>
      </tr>
      <tr>
        <td id="L184" class="blob-num js-line-number" data-line-number="184"></td>
        <td id="LC184" class="blob-code js-file-line">    {</td>
      </tr>
      <tr>
        <td id="L185" class="blob-num js-line-number" data-line-number="185"></td>
        <td id="LC185" class="blob-code js-file-line">     &quot;cell_type&quot;: &quot;markdown&quot;,</td>
      </tr>
      <tr>
        <td id="L186" class="blob-num js-line-number" data-line-number="186"></td>
        <td id="LC186" class="blob-code js-file-line">     &quot;metadata&quot;: {},</td>
      </tr>
      <tr>
        <td id="L187" class="blob-num js-line-number" data-line-number="187"></td>
        <td id="LC187" class="blob-code js-file-line">     &quot;source&quot;: [</td>
      </tr>
      <tr>
        <td id="L188" class="blob-num js-line-number" data-line-number="188"></td>
        <td id="LC188" class="blob-code js-file-line">      &quot;Run 1. x = sqft, data is raw (so graph units are nice right)&quot;</td>
      </tr>
      <tr>
        <td id="L189" class="blob-num js-line-number" data-line-number="189"></td>
        <td id="LC189" class="blob-code js-file-line">     ]</td>
      </tr>
      <tr>
        <td id="L190" class="blob-num js-line-number" data-line-number="190"></td>
        <td id="LC190" class="blob-code js-file-line">    },</td>
      </tr>
      <tr>
        <td id="L191" class="blob-num js-line-number" data-line-number="191"></td>
        <td id="LC191" class="blob-code js-file-line">    {</td>
      </tr>
      <tr>
        <td id="L192" class="blob-num js-line-number" data-line-number="192"></td>
        <td id="LC192" class="blob-code js-file-line">     &quot;cell_type&quot;: &quot;markdown&quot;,</td>
      </tr>
      <tr>
        <td id="L193" class="blob-num js-line-number" data-line-number="193"></td>
        <td id="LC193" class="blob-code js-file-line">     &quot;metadata&quot;: {},</td>
      </tr>
      <tr>
        <td id="L194" class="blob-num js-line-number" data-line-number="194"></td>
        <td id="LC194" class="blob-code js-file-line">     &quot;source&quot;: [</td>
      </tr>
      <tr>
        <td id="L195" class="blob-num js-line-number" data-line-number="195"></td>
        <td id="LC195" class="blob-code js-file-line">      &quot;Let&#39;&#39;s start with a simple model that uses the house surface to estimate the price&quot;</td>
      </tr>
      <tr>
        <td id="L196" class="blob-num js-line-number" data-line-number="196"></td>
        <td id="LC196" class="blob-code js-file-line">     ]</td>
      </tr>
      <tr>
        <td id="L197" class="blob-num js-line-number" data-line-number="197"></td>
        <td id="LC197" class="blob-code js-file-line">    },</td>
      </tr>
      <tr>
        <td id="L198" class="blob-num js-line-number" data-line-number="198"></td>
        <td id="LC198" class="blob-code js-file-line">    {</td>
      </tr>
      <tr>
        <td id="L199" class="blob-num js-line-number" data-line-number="199"></td>
        <td id="LC199" class="blob-code js-file-line">     &quot;cell_type&quot;: &quot;code&quot;,</td>
      </tr>
      <tr>
        <td id="L200" class="blob-num js-line-number" data-line-number="200"></td>
        <td id="LC200" class="blob-code js-file-line">     &quot;collapsed&quot;: false,</td>
      </tr>
      <tr>
        <td id="L201" class="blob-num js-line-number" data-line-number="201"></td>
        <td id="LC201" class="blob-code js-file-line">     &quot;input&quot;: [</td>
      </tr>
      <tr>
        <td id="L202" class="blob-num js-line-number" data-line-number="202"></td>
        <td id="LC202" class="blob-code js-file-line">      &quot;x = data[&#39;sqft&#39;].values\n&quot;,</td>
      </tr>
      <tr>
        <td id="L203" class="blob-num js-line-number" data-line-number="203"></td>
        <td id="LC203" class="blob-code js-file-line">      &quot;y = data[&#39;price&#39;].values&quot;</td>
      </tr>
      <tr>
        <td id="L204" class="blob-num js-line-number" data-line-number="204"></td>
        <td id="LC204" class="blob-code js-file-line">     ],</td>
      </tr>
      <tr>
        <td id="L205" class="blob-num js-line-number" data-line-number="205"></td>
        <td id="LC205" class="blob-code js-file-line">     &quot;language&quot;: &quot;python&quot;,</td>
      </tr>
      <tr>
        <td id="L206" class="blob-num js-line-number" data-line-number="206"></td>
        <td id="LC206" class="blob-code js-file-line">     &quot;metadata&quot;: {},</td>
      </tr>
      <tr>
        <td id="L207" class="blob-num js-line-number" data-line-number="207"></td>
        <td id="LC207" class="blob-code js-file-line">     &quot;outputs&quot;: [],</td>
      </tr>
      <tr>
        <td id="L208" class="blob-num js-line-number" data-line-number="208"></td>
        <td id="LC208" class="blob-code js-file-line">     &quot;prompt_number&quot;: 6</td>
      </tr>
      <tr>
        <td id="L209" class="blob-num js-line-number" data-line-number="209"></td>
        <td id="LC209" class="blob-code js-file-line">    },</td>
      </tr>
      <tr>
        <td id="L210" class="blob-num js-line-number" data-line-number="210"></td>
        <td id="LC210" class="blob-code js-file-line">    {</td>
      </tr>
      <tr>
        <td id="L211" class="blob-num js-line-number" data-line-number="211"></td>
        <td id="LC211" class="blob-code js-file-line">     &quot;cell_type&quot;: &quot;code&quot;,</td>
      </tr>
      <tr>
        <td id="L212" class="blob-num js-line-number" data-line-number="212"></td>
        <td id="LC212" class="blob-code js-file-line">     &quot;collapsed&quot;: false,</td>
      </tr>
      <tr>
        <td id="L213" class="blob-num js-line-number" data-line-number="213"></td>
        <td id="LC213" class="blob-code js-file-line">     &quot;input&quot;: [</td>
      </tr>
      <tr>
        <td id="L214" class="blob-num js-line-number" data-line-number="214"></td>
        <td id="LC214" class="blob-code js-file-line">      &quot;X = sm.add_constant(x, prepend=True)&quot;</td>
      </tr>
      <tr>
        <td id="L215" class="blob-num js-line-number" data-line-number="215"></td>
        <td id="LC215" class="blob-code js-file-line">     ],</td>
      </tr>
      <tr>
        <td id="L216" class="blob-num js-line-number" data-line-number="216"></td>
        <td id="LC216" class="blob-code js-file-line">     &quot;language&quot;: &quot;python&quot;,</td>
      </tr>
      <tr>
        <td id="L217" class="blob-num js-line-number" data-line-number="217"></td>
        <td id="LC217" class="blob-code js-file-line">     &quot;metadata&quot;: {},</td>
      </tr>
      <tr>
        <td id="L218" class="blob-num js-line-number" data-line-number="218"></td>
        <td id="LC218" class="blob-code js-file-line">     &quot;outputs&quot;: [],</td>
      </tr>
      <tr>
        <td id="L219" class="blob-num js-line-number" data-line-number="219"></td>
        <td id="LC219" class="blob-code js-file-line">     &quot;prompt_number&quot;: 7</td>
      </tr>
      <tr>
        <td id="L220" class="blob-num js-line-number" data-line-number="220"></td>
        <td id="LC220" class="blob-code js-file-line">    },</td>
      </tr>
      <tr>
        <td id="L221" class="blob-num js-line-number" data-line-number="221"></td>
        <td id="LC221" class="blob-code js-file-line">    {</td>
      </tr>
      <tr>
        <td id="L222" class="blob-num js-line-number" data-line-number="222"></td>
        <td id="LC222" class="blob-code js-file-line">     &quot;cell_type&quot;: &quot;code&quot;,</td>
      </tr>
      <tr>
        <td id="L223" class="blob-num js-line-number" data-line-number="223"></td>
        <td id="LC223" class="blob-code js-file-line">     &quot;collapsed&quot;: false,</td>
      </tr>
      <tr>
        <td id="L224" class="blob-num js-line-number" data-line-number="224"></td>
        <td id="LC224" class="blob-code js-file-line">     &quot;input&quot;: [</td>
      </tr>
      <tr>
        <td id="L225" class="blob-num js-line-number" data-line-number="225"></td>
        <td id="LC225" class="blob-code js-file-line">      &quot;# X&quot;</td>
      </tr>
      <tr>
        <td id="L226" class="blob-num js-line-number" data-line-number="226"></td>
        <td id="LC226" class="blob-code js-file-line">     ],</td>
      </tr>
      <tr>
        <td id="L227" class="blob-num js-line-number" data-line-number="227"></td>
        <td id="LC227" class="blob-code js-file-line">     &quot;language&quot;: &quot;python&quot;,</td>
      </tr>
      <tr>
        <td id="L228" class="blob-num js-line-number" data-line-number="228"></td>
        <td id="LC228" class="blob-code js-file-line">     &quot;metadata&quot;: {},</td>
      </tr>
      <tr>
        <td id="L229" class="blob-num js-line-number" data-line-number="229"></td>
        <td id="LC229" class="blob-code js-file-line">     &quot;outputs&quot;: [],</td>
      </tr>
      <tr>
        <td id="L230" class="blob-num js-line-number" data-line-number="230"></td>
        <td id="LC230" class="blob-code js-file-line">     &quot;prompt_number&quot;: 8</td>
      </tr>
      <tr>
        <td id="L231" class="blob-num js-line-number" data-line-number="231"></td>
        <td id="LC231" class="blob-code js-file-line">    },</td>
      </tr>
      <tr>
        <td id="L232" class="blob-num js-line-number" data-line-number="232"></td>
        <td id="LC232" class="blob-code js-file-line">    {</td>
      </tr>
      <tr>
        <td id="L233" class="blob-num js-line-number" data-line-number="233"></td>
        <td id="LC233" class="blob-code js-file-line">     &quot;cell_type&quot;: &quot;code&quot;,</td>
      </tr>
      <tr>
        <td id="L234" class="blob-num js-line-number" data-line-number="234"></td>
        <td id="LC234" class="blob-code js-file-line">     &quot;collapsed&quot;: false,</td>
      </tr>
      <tr>
        <td id="L235" class="blob-num js-line-number" data-line-number="235"></td>
        <td id="LC235" class="blob-code js-file-line">     &quot;input&quot;: [</td>
      </tr>
      <tr>
        <td id="L236" class="blob-num js-line-number" data-line-number="236"></td>
        <td id="LC236" class="blob-code js-file-line">      &quot;results = sm.OLS(y, X).fit()\n&quot;,</td>
      </tr>
      <tr>
        <td id="L237" class="blob-num js-line-number" data-line-number="237"></td>
        <td id="LC237" class="blob-code js-file-line">      &quot;intercept, slope = results.params\n&quot;,</td>
      </tr>
      <tr>
        <td id="L238" class="blob-num js-line-number" data-line-number="238"></td>
        <td id="LC238" class="blob-code js-file-line">      &quot;\n&quot;,</td>
      </tr>
      <tr>
        <td id="L239" class="blob-num js-line-number" data-line-number="239"></td>
        <td id="LC239" class="blob-code js-file-line">      &quot;r2 = results.rsquared\n&quot;,</td>
      </tr>
      <tr>
        <td id="L240" class="blob-num js-line-number" data-line-number="240"></td>
        <td id="LC240" class="blob-code js-file-line">      &quot;\n&quot;,</td>
      </tr>
      <tr>
        <td id="L241" class="blob-num js-line-number" data-line-number="241"></td>
        <td id="LC241" class="blob-code js-file-line">      &quot;plt.plot(x, y, &#39;bo&#39;)\n&quot;,</td>
      </tr>
      <tr>
        <td id="L242" class="blob-num js-line-number" data-line-number="242"></td>
        <td id="LC242" class="blob-code js-file-line">      &quot;plt.title(\&quot;Price VS Sqft\&quot;)\n&quot;,</td>
      </tr>
      <tr>
        <td id="L243" class="blob-num js-line-number" data-line-number="243"></td>
        <td id="LC243" class="blob-code js-file-line">      &quot;xl = np.array([min(x), max(x)])\n&quot;,</td>
      </tr>
      <tr>
        <td id="L244" class="blob-num js-line-number" data-line-number="244"></td>
        <td id="LC244" class="blob-code js-file-line">      &quot;yl = intercept + slope * xl\n&quot;,</td>
      </tr>
      <tr>
        <td id="L245" class="blob-num js-line-number" data-line-number="245"></td>
        <td id="LC245" class="blob-code js-file-line">      &quot;plt.plot(xl, yl, &#39;r-&#39;)\n&quot;,</td>
      </tr>
      <tr>
        <td id="L246" class="blob-num js-line-number" data-line-number="246"></td>
        <td id="LC246" class="blob-code js-file-line">      &quot;plt.show&quot;</td>
      </tr>
      <tr>
        <td id="L247" class="blob-num js-line-number" data-line-number="247"></td>
        <td id="LC247" class="blob-code js-file-line">     ],</td>
      </tr>
      <tr>
        <td id="L248" class="blob-num js-line-number" data-line-number="248"></td>
        <td id="LC248" class="blob-code js-file-line">     &quot;language&quot;: &quot;python&quot;,</td>
      </tr>
      <tr>
        <td id="L249" class="blob-num js-line-number" data-line-number="249"></td>
        <td id="LC249" class="blob-code js-file-line">     &quot;metadata&quot;: {},</td>
      </tr>
      <tr>
        <td id="L250" class="blob-num js-line-number" data-line-number="250"></td>
        <td id="LC250" class="blob-code js-file-line">     &quot;outputs&quot;: [</td>
      </tr>
      <tr>
        <td id="L251" class="blob-num js-line-number" data-line-number="251"></td>
        <td id="LC251" class="blob-code js-file-line">      {</td>
      </tr>
      <tr>
        <td id="L252" class="blob-num js-line-number" data-line-number="252"></td>
        <td id="LC252" class="blob-code js-file-line">       &quot;metadata&quot;: {},</td>
      </tr>
      <tr>
        <td id="L253" class="blob-num js-line-number" data-line-number="253"></td>
        <td id="LC253" class="blob-code js-file-line">       &quot;output_type&quot;: &quot;pyout&quot;,</td>
      </tr>
      <tr>
        <td id="L254" class="blob-num js-line-number" data-line-number="254"></td>
        <td id="LC254" class="blob-code js-file-line">       &quot;prompt_number&quot;: 9,</td>
      </tr>
      <tr>
        <td id="L255" class="blob-num js-line-number" data-line-number="255"></td>
        <td id="LC255" class="blob-code js-file-line">       &quot;text&quot;: [</td>
      </tr>
      <tr>
        <td id="L256" class="blob-num js-line-number" data-line-number="256"></td>
        <td id="LC256" class="blob-code js-file-line">        &quot;&lt;function matplotlib.pyplot.show&gt;&quot;</td>
      </tr>
      <tr>
        <td id="L257" class="blob-num js-line-number" data-line-number="257"></td>
        <td id="LC257" class="blob-code js-file-line">       ]</td>
      </tr>
      <tr>
        <td id="L258" class="blob-num js-line-number" data-line-number="258"></td>
        <td id="LC258" class="blob-code js-file-line">      },</td>
      </tr>
      <tr>
        <td id="L259" class="blob-num js-line-number" data-line-number="259"></td>
        <td id="LC259" class="blob-code js-file-line">      {</td>
      </tr>
      <tr>
        <td id="L260" class="blob-num js-line-number" data-line-number="260"></td>
        <td id="LC260" class="blob-code js-file-line">       &quot;metadata&quot;: {},</td>
      </tr>
      <tr>
        <td id="L261" class="blob-num js-line-number" data-line-number="261"></td>
        <td id="LC261" class="blob-code js-file-line">       &quot;output_type&quot;: &quot;display_data&quot;,</td>
      </tr>
      <tr>
        <td id="L262" class="blob-num js-line-number" data-line-number="262"></td>
        <td id="LC262" class="blob-code js-file-line">       &quot;png&quot;: &quot;iVBORw0KGgoAAAANSUhEUgAAAZIAAAEKCAYAAAA4t9PUAAAABHNCSVQICAgIfAhkiAAAAAlwSFlz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\nRERERERERERERERERGqL/weGErtZO+/FqwAAAABJRU5ErkJggg==\n&quot;,</td>
      </tr>
      <tr>
        <td id="L263" class="blob-num js-line-number" data-line-number="263"></td>
        <td id="LC263" class="blob-code js-file-line">       &quot;text&quot;: [</td>
      </tr>
      <tr>
        <td id="L264" class="blob-num js-line-number" data-line-number="264"></td>
        <td id="LC264" class="blob-code js-file-line">        &quot;&lt;matplotlib.figure.Figure at 0x10a3fe210&gt;&quot;</td>
      </tr>
      <tr>
        <td id="L265" class="blob-num js-line-number" data-line-number="265"></td>
        <td id="LC265" class="blob-code js-file-line">       ]</td>
      </tr>
      <tr>
        <td id="L266" class="blob-num js-line-number" data-line-number="266"></td>
        <td id="LC266" class="blob-code js-file-line">      }</td>
      </tr>
      <tr>
        <td id="L267" class="blob-num js-line-number" data-line-number="267"></td>
        <td id="LC267" class="blob-code js-file-line">     ],</td>
      </tr>
      <tr>
        <td id="L268" class="blob-num js-line-number" data-line-number="268"></td>
        <td id="LC268" class="blob-code js-file-line">     &quot;prompt_number&quot;: 9</td>
      </tr>
      <tr>
        <td id="L269" class="blob-num js-line-number" data-line-number="269"></td>
        <td id="LC269" class="blob-code js-file-line">    },</td>
      </tr>
      <tr>
        <td id="L270" class="blob-num js-line-number" data-line-number="270"></td>
        <td id="LC270" class="blob-code js-file-line">    {</td>
      </tr>
      <tr>
        <td id="L271" class="blob-num js-line-number" data-line-number="271"></td>
        <td id="LC271" class="blob-code js-file-line">     &quot;cell_type&quot;: &quot;code&quot;,</td>
      </tr>
      <tr>
        <td id="L272" class="blob-num js-line-number" data-line-number="272"></td>
        <td id="LC272" class="blob-code js-file-line">     &quot;collapsed&quot;: false,</td>
      </tr>
      <tr>
        <td id="L273" class="blob-num js-line-number" data-line-number="273"></td>
        <td id="LC273" class="blob-code js-file-line">     &quot;input&quot;: [</td>
      </tr>
      <tr>
        <td id="L274" class="blob-num js-line-number" data-line-number="274"></td>
        <td id="LC274" class="blob-code js-file-line">      &quot;results.summary()&quot;</td>
      </tr>
      <tr>
        <td id="L275" class="blob-num js-line-number" data-line-number="275"></td>
        <td id="LC275" class="blob-code js-file-line">     ],</td>
      </tr>
      <tr>
        <td id="L276" class="blob-num js-line-number" data-line-number="276"></td>
        <td id="LC276" class="blob-code js-file-line">     &quot;language&quot;: &quot;python&quot;,</td>
      </tr>
      <tr>
        <td id="L277" class="blob-num js-line-number" data-line-number="277"></td>
        <td id="LC277" class="blob-code js-file-line">     &quot;metadata&quot;: {},</td>
      </tr>
      <tr>
        <td id="L278" class="blob-num js-line-number" data-line-number="278"></td>
        <td id="LC278" class="blob-code js-file-line">     &quot;outputs&quot;: [</td>
      </tr>
      <tr>
        <td id="L279" class="blob-num js-line-number" data-line-number="279"></td>
        <td id="LC279" class="blob-code js-file-line">      {</td>
      </tr>
      <tr>
        <td id="L280" class="blob-num js-line-number" data-line-number="280"></td>
        <td id="LC280" class="blob-code js-file-line">       &quot;html&quot;: [</td>
      </tr>
      <tr>
        <td id="L281" class="blob-num js-line-number" data-line-number="281"></td>
        <td id="LC281" class="blob-code js-file-line">        &quot;&lt;table class=\&quot;simpletable\&quot;&gt;\n&quot;,</td>
      </tr>
      <tr>
        <td id="L282" class="blob-num js-line-number" data-line-number="282"></td>
        <td id="LC282" class="blob-code js-file-line">        &quot;&lt;caption&gt;OLS Regression Results&lt;/caption&gt;\n&quot;,</td>
      </tr>
      <tr>
        <td id="L283" class="blob-num js-line-number" data-line-number="283"></td>
        <td id="LC283" class="blob-code js-file-line">        &quot;&lt;tr&gt;\n&quot;,</td>
      </tr>
      <tr>
        <td id="L284" class="blob-num js-line-number" data-line-number="284"></td>
        <td id="LC284" class="blob-code js-file-line">        &quot;  &lt;th&gt;Dep. Variable:&lt;/th&gt;            &lt;td&gt;y&lt;/td&gt;        &lt;th&gt;  R-squared:         &lt;/th&gt; &lt;td&gt;   0.731&lt;/td&gt;\n&quot;,</td>
      </tr>
      <tr>
        <td id="L285" class="blob-num js-line-number" data-line-number="285"></td>
        <td id="LC285" class="blob-code js-file-line">        &quot;&lt;/tr&gt;\n&quot;,</td>
      </tr>
      <tr>
        <td id="L286" class="blob-num js-line-number" data-line-number="286"></td>
        <td id="LC286" class="blob-code js-file-line">        &quot;&lt;tr&gt;\n&quot;,</td>
      </tr>
      <tr>
        <td id="L287" class="blob-num js-line-number" data-line-number="287"></td>
        <td id="LC287" class="blob-code js-file-line">        &quot;  &lt;th&gt;Model:&lt;/th&gt;                   &lt;td&gt;OLS&lt;/td&gt;       &lt;th&gt;  Adj. R-squared:    &lt;/th&gt; &lt;td&gt;   0.725&lt;/td&gt;\n&quot;,</td>
      </tr>
      <tr>
        <td id="L288" class="blob-num js-line-number" data-line-number="288"></td>
        <td id="LC288" class="blob-code js-file-line">        &quot;&lt;/tr&gt;\n&quot;,</td>
      </tr>
      <tr>
        <td id="L289" class="blob-num js-line-number" data-line-number="289"></td>
        <td id="LC289" class="blob-code js-file-line">        &quot;&lt;tr&gt;\n&quot;,</td>
      </tr>
      <tr>
        <td id="L290" class="blob-num js-line-number" data-line-number="290"></td>
        <td id="LC290" class="blob-code js-file-line">        &quot;  &lt;th&gt;Method:&lt;/th&gt;             &lt;td&gt;Least Squares&lt;/td&gt;  &lt;th&gt;  F-statistic:       &lt;/th&gt; &lt;td&gt;   122.3&lt;/td&gt;\n&quot;,</td>
      </tr>
      <tr>
        <td id="L291" class="blob-num js-line-number" data-line-number="291"></td>
        <td id="LC291" class="blob-code js-file-line">        &quot;&lt;/tr&gt;\n&quot;,</td>
      </tr>
      <tr>
        <td id="L292" class="blob-num js-line-number" data-line-number="292"></td>
        <td id="LC292" class="blob-code js-file-line">        &quot;&lt;tr&gt;\n&quot;,</td>
      </tr>
      <tr>
        <td id="L293" class="blob-num js-line-number" data-line-number="293"></td>
        <td id="LC293" class="blob-code js-file-line">        &quot;  &lt;th&gt;Date:&lt;/th&gt;             &lt;td&gt;Mon, 20 Oct 2014&lt;/td&gt; &lt;th&gt;  Prob (F-statistic):&lt;/th&gt; &lt;td&gt;2.03e-14&lt;/td&gt;\n&quot;,</td>
      </tr>
      <tr>
        <td id="L294" class="blob-num js-line-number" data-line-number="294"></td>
        <td id="LC294" class="blob-code js-file-line">        &quot;&lt;/tr&gt;\n&quot;,</td>
      </tr>
      <tr>
        <td id="L295" class="blob-num js-line-number" data-line-number="295"></td>
        <td id="LC295" class="blob-code js-file-line">        &quot;&lt;tr&gt;\n&quot;,</td>
      </tr>
      <tr>
        <td id="L296" class="blob-num js-line-number" data-line-number="296"></td>
        <td id="LC296" class="blob-code js-file-line">        &quot;  &lt;th&gt;Time:&lt;/th&gt;                 &lt;td&gt;21:12:20&lt;/td&gt;     &lt;th&gt;  Log-Likelihood:    &lt;/th&gt; &lt;td&gt; -586.94&lt;/td&gt;\n&quot;,</td>
      </tr>
      <tr>
        <td id="L297" class="blob-num js-line-number" data-line-number="297"></td>
        <td id="LC297" class="blob-code js-file-line">        &quot;&lt;/tr&gt;\n&quot;,</td>
      </tr>
      <tr>
        <td id="L298" class="blob-num js-line-number" data-line-number="298"></td>
        <td id="LC298" class="blob-code js-file-line">        &quot;&lt;tr&gt;\n&quot;,</td>
      </tr>
      <tr>
        <td id="L299" class="blob-num js-line-number" data-line-number="299"></td>
        <td id="LC299" class="blob-code js-file-line">        &quot;  &lt;th&gt;No. Observations:&lt;/th&gt;      &lt;td&gt;    47&lt;/td&gt;      &lt;th&gt;  AIC:               &lt;/th&gt; &lt;td&gt;   1178.&lt;/td&gt;\n&quot;,</td>
      </tr>
      <tr>
        <td id="L300" class="blob-num js-line-number" data-line-number="300"></td>
        <td id="LC300" class="blob-code js-file-line">        &quot;&lt;/tr&gt;\n&quot;,</td>
      </tr>
      <tr>
        <td id="L301" class="blob-num js-line-number" data-line-number="301"></td>
        <td id="LC301" class="blob-code js-file-line">        &quot;&lt;tr&gt;\n&quot;,</td>
      </tr>
      <tr>
        <td id="L302" class="blob-num js-line-number" data-line-number="302"></td>
        <td id="LC302" class="blob-code js-file-line">        &quot;  &lt;th&gt;Df Residuals:&lt;/th&gt;          &lt;td&gt;    45&lt;/td&gt;      &lt;th&gt;  BIC:               &lt;/th&gt; &lt;td&gt;   1182.&lt;/td&gt;\n&quot;,</td>
      </tr>
      <tr>
        <td id="L303" class="blob-num js-line-number" data-line-number="303"></td>
        <td id="LC303" class="blob-code js-file-line">        &quot;&lt;/tr&gt;\n&quot;,</td>
      </tr>
      <tr>
        <td id="L304" class="blob-num js-line-number" data-line-number="304"></td>
        <td id="LC304" class="blob-code js-file-line">        &quot;&lt;tr&gt;\n&quot;,</td>
      </tr>
      <tr>
        <td id="L305" class="blob-num js-line-number" data-line-number="305"></td>
        <td id="LC305" class="blob-code js-file-line">        &quot;  &lt;th&gt;Df Model:&lt;/th&gt;              &lt;td&gt;     1&lt;/td&gt;      &lt;th&gt;                     &lt;/th&gt;     &lt;td&gt; &lt;/td&gt;   \n&quot;,</td>
      </tr>
      <tr>
        <td id="L306" class="blob-num js-line-number" data-line-number="306"></td>
        <td id="LC306" class="blob-code js-file-line">        &quot;&lt;/tr&gt;\n&quot;,</td>
      </tr>
      <tr>
        <td id="L307" class="blob-num js-line-number" data-line-number="307"></td>
        <td id="LC307" class="blob-code js-file-line">        &quot;&lt;/table&gt;\n&quot;,</td>
      </tr>
      <tr>
        <td id="L308" class="blob-num js-line-number" data-line-number="308"></td>
        <td id="LC308" class="blob-code js-file-line">        &quot;&lt;table class=\&quot;simpletable\&quot;&gt;\n&quot;,</td>
      </tr>
      <tr>
        <td id="L309" class="blob-num js-line-number" data-line-number="309"></td>
        <td id="LC309" class="blob-code js-file-line">        &quot;&lt;tr&gt;\n&quot;,</td>
      </tr>
      <tr>
        <td id="L310" class="blob-num js-line-number" data-line-number="310"></td>
        <td id="LC310" class="blob-code js-file-line">        &quot;    &lt;td&gt;&lt;/td&gt;       &lt;th&gt;coef&lt;/th&gt;     &lt;th&gt;std err&lt;/th&gt;      &lt;th&gt;t&lt;/th&gt;      &lt;th&gt;P&gt;|t|&lt;/th&gt; &lt;th&gt;[95.0% Conf. Int.]&lt;/th&gt; \n&quot;,</td>
      </tr>
      <tr>
        <td id="L311" class="blob-num js-line-number" data-line-number="311"></td>
        <td id="LC311" class="blob-code js-file-line">        &quot;&lt;/tr&gt;\n&quot;,</td>
      </tr>
      <tr>
        <td id="L312" class="blob-num js-line-number" data-line-number="312"></td>
        <td id="LC312" class="blob-code js-file-line">        &quot;&lt;tr&gt;\n&quot;,</td>
      </tr>
      <tr>
        <td id="L313" class="blob-num js-line-number" data-line-number="313"></td>
        <td id="LC313" class="blob-code js-file-line">        &quot;  &lt;th&gt;const&lt;/th&gt; &lt;td&gt; 7.127e+04&lt;/td&gt; &lt;td&gt; 2.61e+04&lt;/td&gt; &lt;td&gt;    2.725&lt;/td&gt; &lt;td&gt; 0.009&lt;/td&gt; &lt;td&gt; 1.86e+04  1.24e+05&lt;/td&gt;\n&quot;,</td>
      </tr>
      <tr>
        <td id="L314" class="blob-num js-line-number" data-line-number="314"></td>
        <td id="LC314" class="blob-code js-file-line">        &quot;&lt;/tr&gt;\n&quot;,</td>
      </tr>
      <tr>
        <td id="L315" class="blob-num js-line-number" data-line-number="315"></td>
        <td id="LC315" class="blob-code js-file-line">        &quot;&lt;tr&gt;\n&quot;,</td>
      </tr>
      <tr>
        <td id="L316" class="blob-num js-line-number" data-line-number="316"></td>
        <td id="LC316" class="blob-code js-file-line">        &quot;  &lt;th&gt;x1&lt;/th&gt;    &lt;td&gt;  134.5253&lt;/td&gt; &lt;td&gt;   12.165&lt;/td&gt; &lt;td&gt;   11.058&lt;/td&gt; &lt;td&gt; 0.000&lt;/td&gt; &lt;td&gt;  110.024   159.027&lt;/td&gt;\n&quot;,</td>
      </tr>
      <tr>
        <td id="L317" class="blob-num js-line-number" data-line-number="317"></td>
        <td id="LC317" class="blob-code js-file-line">        &quot;&lt;/tr&gt;\n&quot;,</td>
      </tr>
      <tr>
        <td id="L318" class="blob-num js-line-number" data-line-number="318"></td>
        <td id="LC318" class="blob-code js-file-line">        &quot;&lt;/table&gt;\n&quot;,</td>
      </tr>
      <tr>
        <td id="L319" class="blob-num js-line-number" data-line-number="319"></td>
        <td id="LC319" class="blob-code js-file-line">        &quot;&lt;table class=\&quot;simpletable\&quot;&gt;\n&quot;,</td>
      </tr>
      <tr>
        <td id="L320" class="blob-num js-line-number" data-line-number="320"></td>
        <td id="LC320" class="blob-code js-file-line">        &quot;&lt;tr&gt;\n&quot;,</td>
      </tr>
      <tr>
        <td id="L321" class="blob-num js-line-number" data-line-number="321"></td>
        <td id="LC321" class="blob-code js-file-line">        &quot;  &lt;th&gt;Omnibus:&lt;/th&gt;       &lt;td&gt; 3.751&lt;/td&gt; &lt;th&gt;  Durbin-Watson:     &lt;/th&gt; &lt;td&gt;   1.863&lt;/td&gt;\n&quot;,</td>
      </tr>
      <tr>
        <td id="L322" class="blob-num js-line-number" data-line-number="322"></td>
        <td id="LC322" class="blob-code js-file-line">        &quot;&lt;/tr&gt;\n&quot;,</td>
      </tr>
      <tr>
        <td id="L323" class="blob-num js-line-number" data-line-number="323"></td>
        <td id="LC323" class="blob-code js-file-line">        &quot;&lt;tr&gt;\n&quot;,</td>
      </tr>
      <tr>
        <td id="L324" class="blob-num js-line-number" data-line-number="324"></td>
        <td id="LC324" class="blob-code js-file-line">        &quot;  &lt;th&gt;Prob(Omnibus):&lt;/th&gt; &lt;td&gt; 0.153&lt;/td&gt; &lt;th&gt;  Jarque-Bera (JB):  &lt;/th&gt; &lt;td&gt;   2.726&lt;/td&gt;\n&quot;,</td>
      </tr>
      <tr>
        <td id="L325" class="blob-num js-line-number" data-line-number="325"></td>
        <td id="LC325" class="blob-code js-file-line">        &quot;&lt;/tr&gt;\n&quot;,</td>
      </tr>
      <tr>
        <td id="L326" class="blob-num js-line-number" data-line-number="326"></td>
        <td id="LC326" class="blob-code js-file-line">        &quot;&lt;tr&gt;\n&quot;,</td>
      </tr>
      <tr>
        <td id="L327" class="blob-num js-line-number" data-line-number="327"></td>
        <td id="LC327" class="blob-code js-file-line">        &quot;  &lt;th&gt;Skew:&lt;/th&gt;          &lt;td&gt; 0.557&lt;/td&gt; &lt;th&gt;  Prob(JB):          &lt;/th&gt; &lt;td&gt;   0.256&lt;/td&gt;\n&quot;,</td>
      </tr>
      <tr>
        <td id="L328" class="blob-num js-line-number" data-line-number="328"></td>
        <td id="LC328" class="blob-code js-file-line">        &quot;&lt;/tr&gt;\n&quot;,</td>
      </tr>
      <tr>
        <td id="L329" class="blob-num js-line-number" data-line-number="329"></td>
        <td id="LC329" class="blob-code js-file-line">        &quot;&lt;tr&gt;\n&quot;,</td>
      </tr>
      <tr>
        <td id="L330" class="blob-num js-line-number" data-line-number="330"></td>
        <td id="LC330" class="blob-code js-file-line">        &quot;  &lt;th&gt;Kurtosis:&lt;/th&gt;      &lt;td&gt; 3.390&lt;/td&gt; &lt;th&gt;  Cond. No.          &lt;/th&gt; &lt;td&gt;5.88e+03&lt;/td&gt;\n&quot;,</td>
      </tr>
      <tr>
        <td id="L331" class="blob-num js-line-number" data-line-number="331"></td>
        <td id="LC331" class="blob-code js-file-line">        &quot;&lt;/tr&gt;\n&quot;,</td>
      </tr>
      <tr>
        <td id="L332" class="blob-num js-line-number" data-line-number="332"></td>
        <td id="LC332" class="blob-code js-file-line">        &quot;&lt;/table&gt;&quot;</td>
      </tr>
      <tr>
        <td id="L333" class="blob-num js-line-number" data-line-number="333"></td>
        <td id="LC333" class="blob-code js-file-line">       ],</td>
      </tr>
      <tr>
        <td id="L334" class="blob-num js-line-number" data-line-number="334"></td>
        <td id="LC334" class="blob-code js-file-line">       &quot;metadata&quot;: {},</td>
      </tr>
      <tr>
        <td id="L335" class="blob-num js-line-number" data-line-number="335"></td>
        <td id="LC335" class="blob-code js-file-line">       &quot;output_type&quot;: &quot;pyout&quot;,</td>
      </tr>
      <tr>
        <td id="L336" class="blob-num js-line-number" data-line-number="336"></td>
        <td id="LC336" class="blob-code js-file-line">       &quot;prompt_number&quot;: 10,</td>
      </tr>
      <tr>
        <td id="L337" class="blob-num js-line-number" data-line-number="337"></td>
        <td id="LC337" class="blob-code js-file-line">       &quot;text&quot;: [</td>
      </tr>
      <tr>
        <td id="L338" class="blob-num js-line-number" data-line-number="338"></td>
        <td id="LC338" class="blob-code js-file-line">        &quot;&lt;class &#39;statsmodels.iolib.summary.Summary&#39;&gt;\n&quot;,</td>
      </tr>
      <tr>
        <td id="L339" class="blob-num js-line-number" data-line-number="339"></td>
        <td id="LC339" class="blob-code js-file-line">        &quot;\&quot;\&quot;\&quot;\n&quot;,</td>
      </tr>
      <tr>
        <td id="L340" class="blob-num js-line-number" data-line-number="340"></td>
        <td id="LC340" class="blob-code js-file-line">        &quot;                            OLS Regression Results                            \n&quot;,</td>
      </tr>
      <tr>
        <td id="L341" class="blob-num js-line-number" data-line-number="341"></td>
        <td id="LC341" class="blob-code js-file-line">        &quot;==============================================================================\n&quot;,</td>
      </tr>
      <tr>
        <td id="L342" class="blob-num js-line-number" data-line-number="342"></td>
        <td id="LC342" class="blob-code js-file-line">        &quot;Dep. Variable:                      y   R-squared:                       0.731\n&quot;,</td>
      </tr>
      <tr>
        <td id="L343" class="blob-num js-line-number" data-line-number="343"></td>
        <td id="LC343" class="blob-code js-file-line">        &quot;Model:                            OLS   Adj. R-squared:                  0.725\n&quot;,</td>
      </tr>
      <tr>
        <td id="L344" class="blob-num js-line-number" data-line-number="344"></td>
        <td id="LC344" class="blob-code js-file-line">        &quot;Method:                 Least Squares   F-statistic:                     122.3\n&quot;,</td>
      </tr>
      <tr>
        <td id="L345" class="blob-num js-line-number" data-line-number="345"></td>
        <td id="LC345" class="blob-code js-file-line">        &quot;Date:                Mon, 20 Oct 2014   Prob (F-statistic):           2.03e-14\n&quot;,</td>
      </tr>
      <tr>
        <td id="L346" class="blob-num js-line-number" data-line-number="346"></td>
        <td id="LC346" class="blob-code js-file-line">        &quot;Time:                        21:12:20   Log-Likelihood:                -586.94\n&quot;,</td>
      </tr>
      <tr>
        <td id="L347" class="blob-num js-line-number" data-line-number="347"></td>
        <td id="LC347" class="blob-code js-file-line">        &quot;No. Observations:                  47   AIC:                             1178.\n&quot;,</td>
      </tr>
      <tr>
        <td id="L348" class="blob-num js-line-number" data-line-number="348"></td>
        <td id="LC348" class="blob-code js-file-line">        &quot;Df Residuals:                      45   BIC:                             1182.\n&quot;,</td>
      </tr>
      <tr>
        <td id="L349" class="blob-num js-line-number" data-line-number="349"></td>
        <td id="LC349" class="blob-code js-file-line">        &quot;Df Model:                           1                                         \n&quot;,</td>
      </tr>
      <tr>
        <td id="L350" class="blob-num js-line-number" data-line-number="350"></td>
        <td id="LC350" class="blob-code js-file-line">        &quot;==============================================================================\n&quot;,</td>
      </tr>
      <tr>
        <td id="L351" class="blob-num js-line-number" data-line-number="351"></td>
        <td id="LC351" class="blob-code js-file-line">        &quot;                 coef    std err          t      P&gt;|t|      [95.0% Conf. Int.]\n&quot;,</td>
      </tr>
      <tr>
        <td id="L352" class="blob-num js-line-number" data-line-number="352"></td>
        <td id="LC352" class="blob-code js-file-line">        &quot;------------------------------------------------------------------------------\n&quot;,</td>
      </tr>
      <tr>
        <td id="L353" class="blob-num js-line-number" data-line-number="353"></td>
        <td id="LC353" class="blob-code js-file-line">        &quot;const       7.127e+04   2.61e+04      2.725      0.009      1.86e+04  1.24e+05\n&quot;,</td>
      </tr>
      <tr>
        <td id="L354" class="blob-num js-line-number" data-line-number="354"></td>
        <td id="LC354" class="blob-code js-file-line">        &quot;x1           134.5253     12.165     11.058      0.000       110.024   159.027\n&quot;,</td>
      </tr>
      <tr>
        <td id="L355" class="blob-num js-line-number" data-line-number="355"></td>
        <td id="LC355" class="blob-code js-file-line">        &quot;==============================================================================\n&quot;,</td>
      </tr>
      <tr>
        <td id="L356" class="blob-num js-line-number" data-line-number="356"></td>
        <td id="LC356" class="blob-code js-file-line">        &quot;Omnibus:                        3.751   Durbin-Watson:                   1.863\n&quot;,</td>
      </tr>
      <tr>
        <td id="L357" class="blob-num js-line-number" data-line-number="357"></td>
        <td id="LC357" class="blob-code js-file-line">        &quot;Prob(Omnibus):                  0.153   Jarque-Bera (JB):                2.726\n&quot;,</td>
      </tr>
      <tr>
        <td id="L358" class="blob-num js-line-number" data-line-number="358"></td>
        <td id="LC358" class="blob-code js-file-line">        &quot;Skew:                           0.557   Prob(JB):                        0.256\n&quot;,</td>
      </tr>
      <tr>
        <td id="L359" class="blob-num js-line-number" data-line-number="359"></td>
        <td id="LC359" class="blob-code js-file-line">        &quot;Kurtosis:                       3.390   Cond. No.                     5.88e+03\n&quot;,</td>
      </tr>
      <tr>
        <td id="L360" class="blob-num js-line-number" data-line-number="360"></td>
        <td id="LC360" class="blob-code js-file-line">        &quot;==============================================================================\n&quot;,</td>
      </tr>
      <tr>
        <td id="L361" class="blob-num js-line-number" data-line-number="361"></td>
        <td id="LC361" class="blob-code js-file-line">        &quot;\n&quot;,</td>
      </tr>
      <tr>
        <td id="L362" class="blob-num js-line-number" data-line-number="362"></td>
        <td id="LC362" class="blob-code js-file-line">        &quot;Warnings:\n&quot;,</td>
      </tr>
      <tr>
        <td id="L363" class="blob-num js-line-number" data-line-number="363"></td>
        <td id="LC363" class="blob-code js-file-line">        &quot;[1] The condition number is large, 5.88e+03. This might indicate that there are\n&quot;,</td>
      </tr>
      <tr>
        <td id="L364" class="blob-num js-line-number" data-line-number="364"></td>
        <td id="LC364" class="blob-code js-file-line">        &quot;strong multicollinearity or other numerical problems.\n&quot;,</td>
      </tr>
      <tr>
        <td id="L365" class="blob-num js-line-number" data-line-number="365"></td>
        <td id="LC365" class="blob-code js-file-line">        &quot;\&quot;\&quot;\&quot;&quot;</td>
      </tr>
      <tr>
        <td id="L366" class="blob-num js-line-number" data-line-number="366"></td>
        <td id="LC366" class="blob-code js-file-line">       ]</td>
      </tr>
      <tr>
        <td id="L367" class="blob-num js-line-number" data-line-number="367"></td>
        <td id="LC367" class="blob-code js-file-line">      }</td>
      </tr>
      <tr>
        <td id="L368" class="blob-num js-line-number" data-line-number="368"></td>
        <td id="LC368" class="blob-code js-file-line">     ],</td>
      </tr>
      <tr>
        <td id="L369" class="blob-num js-line-number" data-line-number="369"></td>
        <td id="LC369" class="blob-code js-file-line">     &quot;prompt_number&quot;: 10</td>
      </tr>
      <tr>
        <td id="L370" class="blob-num js-line-number" data-line-number="370"></td>
        <td id="LC370" class="blob-code js-file-line">    },</td>
      </tr>
      <tr>
        <td id="L371" class="blob-num js-line-number" data-line-number="371"></td>
        <td id="LC371" class="blob-code js-file-line">    {</td>
      </tr>
      <tr>
        <td id="L372" class="blob-num js-line-number" data-line-number="372"></td>
        <td id="LC372" class="blob-code js-file-line">     &quot;cell_type&quot;: &quot;markdown&quot;,</td>
      </tr>
      <tr>
        <td id="L373" class="blob-num js-line-number" data-line-number="373"></td>
        <td id="LC373" class="blob-code js-file-line">     &quot;metadata&quot;: {},</td>
      </tr>
      <tr>
        <td id="L374" class="blob-num js-line-number" data-line-number="374"></td>
        <td id="LC374" class="blob-code js-file-line">     &quot;source&quot;: [</td>
      </tr>
      <tr>
        <td id="L375" class="blob-num js-line-number" data-line-number="375"></td>
        <td id="LC375" class="blob-code js-file-line">      &quot;Run 2:  x = sqft, data is normalized (so summary stats are nice)&quot;</td>
      </tr>
      <tr>
        <td id="L376" class="blob-num js-line-number" data-line-number="376"></td>
        <td id="LC376" class="blob-code js-file-line">     ]</td>
      </tr>
      <tr>
        <td id="L377" class="blob-num js-line-number" data-line-number="377"></td>
        <td id="LC377" class="blob-code js-file-line">    },</td>
      </tr>
      <tr>
        <td id="L378" class="blob-num js-line-number" data-line-number="378"></td>
        <td id="LC378" class="blob-code js-file-line">    {</td>
      </tr>
      <tr>
        <td id="L379" class="blob-num js-line-number" data-line-number="379"></td>
        <td id="LC379" class="blob-code js-file-line">     &quot;cell_type&quot;: &quot;code&quot;,</td>
      </tr>
      <tr>
        <td id="L380" class="blob-num js-line-number" data-line-number="380"></td>
        <td id="LC380" class="blob-code js-file-line">     &quot;collapsed&quot;: false,</td>
      </tr>
      <tr>
        <td id="L381" class="blob-num js-line-number" data-line-number="381"></td>
        <td id="LC381" class="blob-code js-file-line">     &quot;input&quot;: [</td>
      </tr>
      <tr>
        <td id="L382" class="blob-num js-line-number" data-line-number="382"></td>
        <td id="LC382" class="blob-code js-file-line">      &quot;data_n.head()&quot;</td>
      </tr>
      <tr>
        <td id="L383" class="blob-num js-line-number" data-line-number="383"></td>
        <td id="LC383" class="blob-code js-file-line">     ],</td>
      </tr>
      <tr>
        <td id="L384" class="blob-num js-line-number" data-line-number="384"></td>
        <td id="LC384" class="blob-code js-file-line">     &quot;language&quot;: &quot;python&quot;,</td>
      </tr>
      <tr>
        <td id="L385" class="blob-num js-line-number" data-line-number="385"></td>
        <td id="LC385" class="blob-code js-file-line">     &quot;metadata&quot;: {},</td>
      </tr>
      <tr>
        <td id="L386" class="blob-num js-line-number" data-line-number="386"></td>
        <td id="LC386" class="blob-code js-file-line">     &quot;outputs&quot;: [</td>
      </tr>
      <tr>
        <td id="L387" class="blob-num js-line-number" data-line-number="387"></td>
        <td id="LC387" class="blob-code js-file-line">      {</td>
      </tr>
      <tr>
        <td id="L388" class="blob-num js-line-number" data-line-number="388"></td>
        <td id="LC388" class="blob-code js-file-line">       &quot;html&quot;: [</td>
      </tr>
      <tr>
        <td id="L389" class="blob-num js-line-number" data-line-number="389"></td>
        <td id="LC389" class="blob-code js-file-line">        &quot;&lt;div style=\&quot;max-height:1000px;max-width:1500px;overflow:auto;\&quot;&gt;\n&quot;,</td>
      </tr>
      <tr>
        <td id="L390" class="blob-num js-line-number" data-line-number="390"></td>
        <td id="LC390" class="blob-code js-file-line">        &quot;&lt;table border=\&quot;1\&quot; class=\&quot;dataframe\&quot;&gt;\n&quot;,</td>
      </tr>
      <tr>
        <td id="L391" class="blob-num js-line-number" data-line-number="391"></td>
        <td id="LC391" class="blob-code js-file-line">        &quot;  &lt;thead&gt;\n&quot;,</td>
      </tr>
      <tr>
        <td id="L392" class="blob-num js-line-number" data-line-number="392"></td>
        <td id="LC392" class="blob-code js-file-line">        &quot;    &lt;tr style=\&quot;text-align: right;\&quot;&gt;\n&quot;,</td>
      </tr>
      <tr>
        <td id="L393" class="blob-num js-line-number" data-line-number="393"></td>
        <td id="LC393" class="blob-code js-file-line">        &quot;      &lt;th&gt;&lt;/th&gt;\n&quot;,</td>
      </tr>
      <tr>
        <td id="L394" class="blob-num js-line-number" data-line-number="394"></td>
        <td id="LC394" class="blob-code js-file-line">        &quot;      &lt;th&gt;sqft&lt;/th&gt;\n&quot;,</td>
      </tr>
      <tr>
        <td id="L395" class="blob-num js-line-number" data-line-number="395"></td>
        <td id="LC395" class="blob-code js-file-line">        &quot;      &lt;th&gt;bedrooms&lt;/th&gt;\n&quot;,</td>
      </tr>
      <tr>
        <td id="L396" class="blob-num js-line-number" data-line-number="396"></td>
        <td id="LC396" class="blob-code js-file-line">        &quot;      &lt;th&gt;age&lt;/th&gt;\n&quot;,</td>
      </tr>
      <tr>
        <td id="L397" class="blob-num js-line-number" data-line-number="397"></td>
        <td id="LC397" class="blob-code js-file-line">        &quot;      &lt;th&gt;price&lt;/th&gt;\n&quot;,</td>
      </tr>
      <tr>
        <td id="L398" class="blob-num js-line-number" data-line-number="398"></td>
        <td id="LC398" class="blob-code js-file-line">        &quot;    &lt;/tr&gt;\n&quot;,</td>
      </tr>
      <tr>
        <td id="L399" class="blob-num js-line-number" data-line-number="399"></td>
        <td id="LC399" class="blob-code js-file-line">        &quot;  &lt;/thead&gt;\n&quot;,</td>
      </tr>
      <tr>
        <td id="L400" class="blob-num js-line-number" data-line-number="400"></td>
        <td id="LC400" class="blob-code js-file-line">        &quot;  &lt;tbody&gt;\n&quot;,</td>
      </tr>
      <tr>
        <td id="L401" class="blob-num js-line-number" data-line-number="401"></td>
        <td id="LC401" class="blob-code js-file-line">        &quot;    &lt;tr&gt;\n&quot;,</td>
      </tr>
      <tr>
        <td id="L402" class="blob-num js-line-number" data-line-number="402"></td>
        <td id="LC402" class="blob-code js-file-line">        &quot;      &lt;th&gt;0&lt;/th&gt;\n&quot;,</td>
      </tr>
      <tr>
        <td id="L403" class="blob-num js-line-number" data-line-number="403"></td>
        <td id="LC403" class="blob-code js-file-line">        &quot;      &lt;td&gt; 2.104&lt;/td&gt;\n&quot;,</td>
      </tr>
      <tr>
        <td id="L404" class="blob-num js-line-number" data-line-number="404"></td>
        <td id="LC404" class="blob-code js-file-line">        &quot;      &lt;td&gt; 3&lt;/td&gt;\n&quot;,</td>
      </tr>
      <tr>
        <td id="L405" class="blob-num js-line-number" data-line-number="405"></td>
        <td id="LC405" class="blob-code js-file-line">        &quot;      &lt;td&gt; 7.0&lt;/td&gt;\n&quot;,</td>
      </tr>
      <tr>
        <td id="L406" class="blob-num js-line-number" data-line-number="406"></td>
        <td id="LC406" class="blob-code js-file-line">        &quot;      &lt;td&gt; 3.999&lt;/td&gt;\n&quot;,</td>
      </tr>
      <tr>
        <td id="L407" class="blob-num js-line-number" data-line-number="407"></td>
        <td id="LC407" class="blob-code js-file-line">        &quot;    &lt;/tr&gt;\n&quot;,</td>
      </tr>
      <tr>
        <td id="L408" class="blob-num js-line-number" data-line-number="408"></td>
        <td id="LC408" class="blob-code js-file-line">        &quot;    &lt;tr&gt;\n&quot;,</td>
      </tr>
      <tr>
        <td id="L409" class="blob-num js-line-number" data-line-number="409"></td>
        <td id="LC409" class="blob-code js-file-line">        &quot;      &lt;th&gt;1&lt;/th&gt;\n&quot;,</td>
      </tr>
      <tr>
        <td id="L410" class="blob-num js-line-number" data-line-number="410"></td>
        <td id="LC410" class="blob-code js-file-line">        &quot;      &lt;td&gt; 1.600&lt;/td&gt;\n&quot;,</td>
      </tr>
      <tr>
        <td id="L411" class="blob-num js-line-number" data-line-number="411"></td>
        <td id="LC411" class="blob-code js-file-line">        &quot;      &lt;td&gt; 3&lt;/td&gt;\n&quot;,</td>
      </tr>
      <tr>
        <td id="L412" class="blob-num js-line-number" data-line-number="412"></td>
        <td id="LC412" class="blob-code js-file-line">        &quot;      &lt;td&gt; 2.8&lt;/td&gt;\n&quot;,</td>
      </tr>
      <tr>
        <td id="L413" class="blob-num js-line-number" data-line-number="413"></td>
        <td id="LC413" class="blob-code js-file-line">        &quot;      &lt;td&gt; 3.299&lt;/td&gt;\n&quot;,</td>
      </tr>
      <tr>
        <td id="L414" class="blob-num js-line-number" data-line-number="414"></td>
        <td id="LC414" class="blob-code js-file-line">        &quot;    &lt;/tr&gt;\n&quot;,</td>
      </tr>
      <tr>
        <td id="L415" class="blob-num js-line-number" data-line-number="415"></td>
        <td id="LC415" class="blob-code js-file-line">        &quot;    &lt;tr&gt;\n&quot;,</td>
      </tr>
      <tr>
        <td id="L416" class="blob-num js-line-number" data-line-number="416"></td>
        <td id="LC416" class="blob-code js-file-line">        &quot;      &lt;th&gt;2&lt;/th&gt;\n&quot;,</td>
      </tr>
      <tr>
        <td id="L417" class="blob-num js-line-number" data-line-number="417"></td>
        <td id="LC417" class="blob-code js-file-line">        &quot;      &lt;td&gt; 2.400&lt;/td&gt;\n&quot;,</td>
      </tr>
      <tr>
        <td id="L418" class="blob-num js-line-number" data-line-number="418"></td>
        <td id="LC418" class="blob-code js-file-line">        &quot;      &lt;td&gt; 3&lt;/td&gt;\n&quot;,</td>
      </tr>
      <tr>
        <td id="L419" class="blob-num js-line-number" data-line-number="419"></td>
        <td id="LC419" class="blob-code js-file-line">        &quot;      &lt;td&gt; 4.4&lt;/td&gt;\n&quot;,</td>
      </tr>
      <tr>
        <td id="L420" class="blob-num js-line-number" data-line-number="420"></td>
        <td id="LC420" class="blob-code js-file-line">        &quot;      &lt;td&gt; 3.690&lt;/td&gt;\n&quot;,</td>
      </tr>
      <tr>
        <td id="L421" class="blob-num js-line-number" data-line-number="421"></td>
        <td id="LC421" class="blob-code js-file-line">        &quot;    &lt;/tr&gt;\n&quot;,</td>
      </tr>
      <tr>
        <td id="L422" class="blob-num js-line-number" data-line-number="422"></td>
        <td id="LC422" class="blob-code js-file-line">        &quot;    &lt;tr&gt;\n&quot;,</td>
      </tr>
      <tr>
        <td id="L423" class="blob-num js-line-number" data-line-number="423"></td>
        <td id="LC423" class="blob-code js-file-line">        &quot;      &lt;th&gt;3&lt;/th&gt;\n&quot;,</td>
      </tr>
      <tr>
        <td id="L424" class="blob-num js-line-number" data-line-number="424"></td>
        <td id="LC424" class="blob-code js-file-line">        &quot;      &lt;td&gt; 1.416&lt;/td&gt;\n&quot;,</td>
      </tr>
      <tr>
        <td id="L425" class="blob-num js-line-number" data-line-number="425"></td>
        <td id="LC425" class="blob-code js-file-line">        &quot;      &lt;td&gt; 2&lt;/td&gt;\n&quot;,</td>
      </tr>
      <tr>
        <td id="L426" class="blob-num js-line-number" data-line-number="426"></td>
        <td id="LC426" class="blob-code js-file-line">        &quot;      &lt;td&gt; 4.9&lt;/td&gt;\n&quot;,</td>
      </tr>
      <tr>
        <td id="L427" class="blob-num js-line-number" data-line-number="427"></td>
        <td id="LC427" class="blob-code js-file-line">        &quot;      &lt;td&gt; 2.320&lt;/td&gt;\n&quot;,</td>
      </tr>
      <tr>
        <td id="L428" class="blob-num js-line-number" data-line-number="428"></td>
        <td id="LC428" class="blob-code js-file-line">        &quot;    &lt;/tr&gt;\n&quot;,</td>
      </tr>
      <tr>
        <td id="L429" class="blob-num js-line-number" data-line-number="429"></td>
        <td id="LC429" class="blob-code js-file-line">        &quot;    &lt;tr&gt;\n&quot;,</td>
      </tr>
      <tr>
        <td id="L430" class="blob-num js-line-number" data-line-number="430"></td>
        <td id="LC430" class="blob-code js-file-line">        &quot;      &lt;th&gt;4&lt;/th&gt;\n&quot;,</td>
      </tr>
      <tr>
        <td id="L431" class="blob-num js-line-number" data-line-number="431"></td>
        <td id="LC431" class="blob-code js-file-line">        &quot;      &lt;td&gt; 3.000&lt;/td&gt;\n&quot;,</td>
      </tr>
      <tr>
        <td id="L432" class="blob-num js-line-number" data-line-number="432"></td>
        <td id="LC432" class="blob-code js-file-line">        &quot;      &lt;td&gt; 4&lt;/td&gt;\n&quot;,</td>
      </tr>
      <tr>
        <td id="L433" class="blob-num js-line-number" data-line-number="433"></td>
        <td id="LC433" class="blob-code js-file-line">        &quot;      &lt;td&gt; 7.5&lt;/td&gt;\n&quot;,</td>
      </tr>
      <tr>
        <td id="L434" class="blob-num js-line-number" data-line-number="434"></td>
        <td id="LC434" class="blob-code js-file-line">        &quot;      &lt;td&gt; 5.399&lt;/td&gt;\n&quot;,</td>
      </tr>
      <tr>
        <td id="L435" class="blob-num js-line-number" data-line-number="435"></td>
        <td id="LC435" class="blob-code js-file-line">        &quot;    &lt;/tr&gt;\n&quot;,</td>
      </tr>
      <tr>
        <td id="L436" class="blob-num js-line-number" data-line-number="436"></td>
        <td id="LC436" class="blob-code js-file-line">        &quot;  &lt;/tbody&gt;\n&quot;,</td>
      </tr>
      <tr>
        <td id="L437" class="blob-num js-line-number" data-line-number="437"></td>
        <td id="LC437" class="blob-code js-file-line">        &quot;&lt;/table&gt;\n&quot;,</td>
      </tr>
      <tr>
        <td id="L438" class="blob-num js-line-number" data-line-number="438"></td>
        <td id="LC438" class="blob-code js-file-line">        &quot;&lt;/div&gt;&quot;</td>
      </tr>
      <tr>
        <td id="L439" class="blob-num js-line-number" data-line-number="439"></td>
        <td id="LC439" class="blob-code js-file-line">       ],</td>
      </tr>
      <tr>
        <td id="L440" class="blob-num js-line-number" data-line-number="440"></td>
        <td id="LC440" class="blob-code js-file-line">       &quot;metadata&quot;: {},</td>
      </tr>
      <tr>
        <td id="L441" class="blob-num js-line-number" data-line-number="441"></td>
        <td id="LC441" class="blob-code js-file-line">       &quot;output_type&quot;: &quot;pyout&quot;,</td>
      </tr>
      <tr>
        <td id="L442" class="blob-num js-line-number" data-line-number="442"></td>
        <td id="LC442" class="blob-code js-file-line">       &quot;prompt_number&quot;: 11,</td>
      </tr>
      <tr>
        <td id="L443" class="blob-num js-line-number" data-line-number="443"></td>
        <td id="LC443" class="blob-code js-file-line">       &quot;text&quot;: [</td>
      </tr>
      <tr>
        <td id="L444" class="blob-num js-line-number" data-line-number="444"></td>
        <td id="LC444" class="blob-code js-file-line">        &quot;    sqft  bedrooms  age  price\n&quot;,</td>
      </tr>
      <tr>
        <td id="L445" class="blob-num js-line-number" data-line-number="445"></td>
        <td id="LC445" class="blob-code js-file-line">        &quot;0  2.104         3  7.0  3.999\n&quot;,</td>
      </tr>
      <tr>
        <td id="L446" class="blob-num js-line-number" data-line-number="446"></td>
        <td id="LC446" class="blob-code js-file-line">        &quot;1  1.600         3  2.8  3.299\n&quot;,</td>
      </tr>
      <tr>
        <td id="L447" class="blob-num js-line-number" data-line-number="447"></td>
        <td id="LC447" class="blob-code js-file-line">        &quot;2  2.400         3  4.4  3.690\n&quot;,</td>
      </tr>
      <tr>
        <td id="L448" class="blob-num js-line-number" data-line-number="448"></td>
        <td id="LC448" class="blob-code js-file-line">        &quot;3  1.416         2  4.9  2.320\n&quot;,</td>
      </tr>
      <tr>
        <td id="L449" class="blob-num js-line-number" data-line-number="449"></td>
        <td id="LC449" class="blob-code js-file-line">        &quot;4  3.000         4  7.5  5.399&quot;</td>
      </tr>
      <tr>
        <td id="L450" class="blob-num js-line-number" data-line-number="450"></td>
        <td id="LC450" class="blob-code js-file-line">       ]</td>
      </tr>
      <tr>
        <td id="L451" class="blob-num js-line-number" data-line-number="451"></td>
        <td id="LC451" class="blob-code js-file-line">      }</td>
      </tr>
      <tr>
        <td id="L452" class="blob-num js-line-number" data-line-number="452"></td>
        <td id="LC452" class="blob-code js-file-line">     ],</td>
      </tr>
      <tr>
        <td id="L453" class="blob-num js-line-number" data-line-number="453"></td>
        <td id="LC453" class="blob-code js-file-line">     &quot;prompt_number&quot;: 11</td>
      </tr>
      <tr>
        <td id="L454" class="blob-num js-line-number" data-line-number="454"></td>
        <td id="LC454" class="blob-code js-file-line">    },</td>
      </tr>
      <tr>
        <td id="L455" class="blob-num js-line-number" data-line-number="455"></td>
        <td id="LC455" class="blob-code js-file-line">    {</td>
      </tr>
      <tr>
        <td id="L456" class="blob-num js-line-number" data-line-number="456"></td>
        <td id="LC456" class="blob-code js-file-line">     &quot;cell_type&quot;: &quot;markdown&quot;,</td>
      </tr>
      <tr>
        <td id="L457" class="blob-num js-line-number" data-line-number="457"></td>
        <td id="LC457" class="blob-code js-file-line">     &quot;metadata&quot;: {},</td>
      </tr>
      <tr>
        <td id="L458" class="blob-num js-line-number" data-line-number="458"></td>
        <td id="LC458" class="blob-code js-file-line">     &quot;source&quot;: [</td>
      </tr>
      <tr>
        <td id="L459" class="blob-num js-line-number" data-line-number="459"></td>
        <td id="LC459" class="blob-code js-file-line">      &quot;### EXERCISE #1\n&quot;,</td>
      </tr>
      <tr>
        <td id="L460" class="blob-num js-line-number" data-line-number="460"></td>
        <td id="LC460" class="blob-code js-file-line">      &quot;#### Create the linear model for data_n to predict price based on sqft. \n&quot;,</td>
      </tr>
      <tr>
        <td id="L461" class="blob-num js-line-number" data-line-number="461"></td>
        <td id="LC461" class="blob-code js-file-line">      &quot;#### What are the slope, intercept and r-squared?&quot;</td>
      </tr>
      <tr>
        <td id="L462" class="blob-num js-line-number" data-line-number="462"></td>
        <td id="LC462" class="blob-code js-file-line">     ]</td>
      </tr>
      <tr>
        <td id="L463" class="blob-num js-line-number" data-line-number="463"></td>
        <td id="LC463" class="blob-code js-file-line">    },</td>
      </tr>
      <tr>
        <td id="L464" class="blob-num js-line-number" data-line-number="464"></td>
        <td id="LC464" class="blob-code js-file-line">    {</td>
      </tr>
      <tr>
        <td id="L465" class="blob-num js-line-number" data-line-number="465"></td>
        <td id="LC465" class="blob-code js-file-line">     &quot;cell_type&quot;: &quot;code&quot;,</td>
      </tr>
      <tr>
        <td id="L466" class="blob-num js-line-number" data-line-number="466"></td>
        <td id="LC466" class="blob-code js-file-line">     &quot;collapsed&quot;: false,</td>
      </tr>
      <tr>
        <td id="L467" class="blob-num js-line-number" data-line-number="467"></td>
        <td id="LC467" class="blob-code js-file-line">     &quot;input&quot;: [],</td>
      </tr>
      <tr>
        <td id="L468" class="blob-num js-line-number" data-line-number="468"></td>
        <td id="LC468" class="blob-code js-file-line">     &quot;language&quot;: &quot;python&quot;,</td>
      </tr>
      <tr>
        <td id="L469" class="blob-num js-line-number" data-line-number="469"></td>
        <td id="LC469" class="blob-code js-file-line">     &quot;metadata&quot;: {},</td>
      </tr>
      <tr>
        <td id="L470" class="blob-num js-line-number" data-line-number="470"></td>
        <td id="LC470" class="blob-code js-file-line">     &quot;outputs&quot;: [],</td>
      </tr>
      <tr>
        <td id="L471" class="blob-num js-line-number" data-line-number="471"></td>
        <td id="LC471" class="blob-code js-file-line">     &quot;prompt_number&quot;: 11</td>
      </tr>
      <tr>
        <td id="L472" class="blob-num js-line-number" data-line-number="472"></td>
        <td id="LC472" class="blob-code js-file-line">    },</td>
      </tr>
      <tr>
        <td id="L473" class="blob-num js-line-number" data-line-number="473"></td>
        <td id="LC473" class="blob-code js-file-line">    {</td>
      </tr>
      <tr>
        <td id="L474" class="blob-num js-line-number" data-line-number="474"></td>
        <td id="LC474" class="blob-code js-file-line">     &quot;cell_type&quot;: &quot;markdown&quot;,</td>
      </tr>
      <tr>
        <td id="L475" class="blob-num js-line-number" data-line-number="475"></td>
        <td id="LC475" class="blob-code js-file-line">     &quot;metadata&quot;: {},</td>
      </tr>
      <tr>
        <td id="L476" class="blob-num js-line-number" data-line-number="476"></td>
        <td id="LC476" class="blob-code js-file-line">     &quot;source&quot;: [</td>
      </tr>
      <tr>
        <td id="L477" class="blob-num js-line-number" data-line-number="477"></td>
        <td id="LC477" class="blob-code js-file-line">      &quot;#### Plot the data along with the line for the regression model&quot;</td>
      </tr>
      <tr>
        <td id="L478" class="blob-num js-line-number" data-line-number="478"></td>
        <td id="LC478" class="blob-code js-file-line">     ]</td>
      </tr>
      <tr>
        <td id="L479" class="blob-num js-line-number" data-line-number="479"></td>
        <td id="LC479" class="blob-code js-file-line">    },</td>
      </tr>
      <tr>
        <td id="L480" class="blob-num js-line-number" data-line-number="480"></td>
        <td id="LC480" class="blob-code js-file-line">    {</td>
      </tr>
      <tr>
        <td id="L481" class="blob-num js-line-number" data-line-number="481"></td>
        <td id="LC481" class="blob-code js-file-line">     &quot;cell_type&quot;: &quot;code&quot;,</td>
      </tr>
      <tr>
        <td id="L482" class="blob-num js-line-number" data-line-number="482"></td>
        <td id="LC482" class="blob-code js-file-line">     &quot;collapsed&quot;: false,</td>
      </tr>
      <tr>
        <td id="L483" class="blob-num js-line-number" data-line-number="483"></td>
        <td id="LC483" class="blob-code js-file-line">     &quot;input&quot;: [],</td>
      </tr>
      <tr>
        <td id="L484" class="blob-num js-line-number" data-line-number="484"></td>
        <td id="LC484" class="blob-code js-file-line">     &quot;language&quot;: &quot;python&quot;,</td>
      </tr>
      <tr>
        <td id="L485" class="blob-num js-line-number" data-line-number="485"></td>
        <td id="LC485" class="blob-code js-file-line">     &quot;metadata&quot;: {},</td>
      </tr>
      <tr>
        <td id="L486" class="blob-num js-line-number" data-line-number="486"></td>
        <td id="LC486" class="blob-code js-file-line">     &quot;outputs&quot;: [],</td>
      </tr>
      <tr>
        <td id="L487" class="blob-num js-line-number" data-line-number="487"></td>
        <td id="LC487" class="blob-code js-file-line">     &quot;prompt_number&quot;: 11</td>
      </tr>
      <tr>
        <td id="L488" class="blob-num js-line-number" data-line-number="488"></td>
        <td id="LC488" class="blob-code js-file-line">    },</td>
      </tr>
      <tr>
        <td id="L489" class="blob-num js-line-number" data-line-number="489"></td>
        <td id="LC489" class="blob-code js-file-line">    {</td>
      </tr>
      <tr>
        <td id="L490" class="blob-num js-line-number" data-line-number="490"></td>
        <td id="LC490" class="blob-code js-file-line">     &quot;cell_type&quot;: &quot;markdown&quot;,</td>
      </tr>
      <tr>
        <td id="L491" class="blob-num js-line-number" data-line-number="491"></td>
        <td id="LC491" class="blob-code js-file-line">     &quot;metadata&quot;: {},</td>
      </tr>
      <tr>
        <td id="L492" class="blob-num js-line-number" data-line-number="492"></td>
        <td id="LC492" class="blob-code js-file-line">     &quot;source&quot;: [</td>
      </tr>
      <tr>
        <td id="L493" class="blob-num js-line-number" data-line-number="493"></td>
        <td id="LC493" class="blob-code js-file-line">      &quot;#### Bonus challenge: Change the color and shape of the data points.&quot;</td>
      </tr>
      <tr>
        <td id="L494" class="blob-num js-line-number" data-line-number="494"></td>
        <td id="LC494" class="blob-code js-file-line">     ]</td>
      </tr>
      <tr>
        <td id="L495" class="blob-num js-line-number" data-line-number="495"></td>
        <td id="LC495" class="blob-code js-file-line">    },</td>
      </tr>
      <tr>
        <td id="L496" class="blob-num js-line-number" data-line-number="496"></td>
        <td id="LC496" class="blob-code js-file-line">    {</td>
      </tr>
      <tr>
        <td id="L497" class="blob-num js-line-number" data-line-number="497"></td>
        <td id="LC497" class="blob-code js-file-line">     &quot;cell_type&quot;: &quot;code&quot;,</td>
      </tr>
      <tr>
        <td id="L498" class="blob-num js-line-number" data-line-number="498"></td>
        <td id="LC498" class="blob-code js-file-line">     &quot;collapsed&quot;: false,</td>
      </tr>
      <tr>
        <td id="L499" class="blob-num js-line-number" data-line-number="499"></td>
        <td id="LC499" class="blob-code js-file-line">     &quot;input&quot;: [],</td>
      </tr>
      <tr>
        <td id="L500" class="blob-num js-line-number" data-line-number="500"></td>
        <td id="LC500" class="blob-code js-file-line">     &quot;language&quot;: &quot;python&quot;,</td>
      </tr>
      <tr>
        <td id="L501" class="blob-num js-line-number" data-line-number="501"></td>
        <td id="LC501" class="blob-code js-file-line">     &quot;metadata&quot;: {},</td>
      </tr>
      <tr>
        <td id="L502" class="blob-num js-line-number" data-line-number="502"></td>
        <td id="LC502" class="blob-code js-file-line">     &quot;outputs&quot;: [],</td>
      </tr>
      <tr>
        <td id="L503" class="blob-num js-line-number" data-line-number="503"></td>
        <td id="LC503" class="blob-code js-file-line">     &quot;prompt_number&quot;: 11</td>
      </tr>
      <tr>
        <td id="L504" class="blob-num js-line-number" data-line-number="504"></td>
        <td id="LC504" class="blob-code js-file-line">    },</td>
      </tr>
      <tr>
        <td id="L505" class="blob-num js-line-number" data-line-number="505"></td>
        <td id="LC505" class="blob-code js-file-line">    {</td>
      </tr>
      <tr>
        <td id="L506" class="blob-num js-line-number" data-line-number="506"></td>
        <td id="LC506" class="blob-code js-file-line">     &quot;cell_type&quot;: &quot;markdown&quot;,</td>
      </tr>
      <tr>
        <td id="L507" class="blob-num js-line-number" data-line-number="507"></td>
        <td id="LC507" class="blob-code js-file-line">     &quot;metadata&quot;: {},</td>
      </tr>
      <tr>
        <td id="L508" class="blob-num js-line-number" data-line-number="508"></td>
        <td id="LC508" class="blob-code js-file-line">     &quot;source&quot;: [</td>
      </tr>
      <tr>
        <td id="L509" class="blob-num js-line-number" data-line-number="509"></td>
        <td id="LC509" class="blob-code js-file-line">      &quot;Confidence Intervals&quot;</td>
      </tr>
      <tr>
        <td id="L510" class="blob-num js-line-number" data-line-number="510"></td>
        <td id="LC510" class="blob-code js-file-line">     ]</td>
      </tr>
      <tr>
        <td id="L511" class="blob-num js-line-number" data-line-number="511"></td>
        <td id="LC511" class="blob-code js-file-line">    },</td>
      </tr>
      <tr>
        <td id="L512" class="blob-num js-line-number" data-line-number="512"></td>
        <td id="LC512" class="blob-code js-file-line">    {</td>
      </tr>
      <tr>
        <td id="L513" class="blob-num js-line-number" data-line-number="513"></td>
        <td id="LC513" class="blob-code js-file-line">     &quot;cell_type&quot;: &quot;code&quot;,</td>
      </tr>
      <tr>
        <td id="L514" class="blob-num js-line-number" data-line-number="514"></td>
        <td id="LC514" class="blob-code js-file-line">     &quot;collapsed&quot;: false,</td>
      </tr>
      <tr>
        <td id="L515" class="blob-num js-line-number" data-line-number="515"></td>
        <td id="LC515" class="blob-code js-file-line">     &quot;input&quot;: [</td>
      </tr>
      <tr>
        <td id="L516" class="blob-num js-line-number" data-line-number="516"></td>
        <td id="LC516" class="blob-code js-file-line">      &quot;from statsmodels.sandbox.regression.predstd import wls_prediction_std\n&quot;,</td>
      </tr>
      <tr>
        <td id="L517" class="blob-num js-line-number" data-line-number="517"></td>
        <td id="LC517" class="blob-code js-file-line">      &quot;\n&quot;,</td>
      </tr>
      <tr>
        <td id="L518" class="blob-num js-line-number" data-line-number="518"></td>
        <td id="LC518" class="blob-code js-file-line">      &quot;prstd, iv_l, iv_u = wls_prediction_std(results)&quot;</td>
      </tr>
      <tr>
        <td id="L519" class="blob-num js-line-number" data-line-number="519"></td>
        <td id="LC519" class="blob-code js-file-line">     ],</td>
      </tr>
      <tr>
        <td id="L520" class="blob-num js-line-number" data-line-number="520"></td>
        <td id="LC520" class="blob-code js-file-line">     &quot;language&quot;: &quot;python&quot;,</td>
      </tr>
      <tr>
        <td id="L521" class="blob-num js-line-number" data-line-number="521"></td>
        <td id="LC521" class="blob-code js-file-line">     &quot;metadata&quot;: {},</td>
      </tr>
      <tr>
        <td id="L522" class="blob-num js-line-number" data-line-number="522"></td>
        <td id="LC522" class="blob-code js-file-line">     &quot;outputs&quot;: [],</td>
      </tr>
      <tr>
        <td id="L523" class="blob-num js-line-number" data-line-number="523"></td>
        <td id="LC523" class="blob-code js-file-line">     &quot;prompt_number&quot;: 12</td>
      </tr>
      <tr>
        <td id="L524" class="blob-num js-line-number" data-line-number="524"></td>
        <td id="LC524" class="blob-code js-file-line">    },</td>
      </tr>
      <tr>
        <td id="L525" class="blob-num js-line-number" data-line-number="525"></td>
        <td id="LC525" class="blob-code js-file-line">    {</td>
      </tr>
      <tr>
        <td id="L526" class="blob-num js-line-number" data-line-number="526"></td>
        <td id="LC526" class="blob-code js-file-line">     &quot;cell_type&quot;: &quot;code&quot;,</td>
      </tr>
      <tr>
        <td id="L527" class="blob-num js-line-number" data-line-number="527"></td>
        <td id="LC527" class="blob-code js-file-line">     &quot;collapsed&quot;: false,</td>
      </tr>
      <tr>
        <td id="L528" class="blob-num js-line-number" data-line-number="528"></td>
        <td id="LC528" class="blob-code js-file-line">     &quot;input&quot;: [</td>
      </tr>
      <tr>
        <td id="L529" class="blob-num js-line-number" data-line-number="529"></td>
        <td id="LC529" class="blob-code js-file-line">      &quot;fig, ax = 0,0\n&quot;,</td>
      </tr>
      <tr>
        <td id="L530" class="blob-num js-line-number" data-line-number="530"></td>
        <td id="LC530" class="blob-code js-file-line">      &quot;fig, ax = plt.subplots(figsize=(8,6))\n&quot;,</td>
      </tr>
      <tr>
        <td id="L531" class="blob-num js-line-number" data-line-number="531"></td>
        <td id="LC531" class="blob-code js-file-line">      &quot;\n&quot;,</td>
      </tr>
      <tr>
        <td id="L532" class="blob-num js-line-number" data-line-number="532"></td>
        <td id="LC532" class="blob-code js-file-line">      &quot;ax.plot(x, y, &#39;o&#39;, label=\&quot;data\&quot;)\n&quot;,</td>
      </tr>
      <tr>
        <td id="L533" class="blob-num js-line-number" data-line-number="533"></td>
        <td id="LC533" class="blob-code js-file-line">      &quot;ax.plot(x, results.fittedvalues, &#39;r-&#39;, label=\&quot;OLS\&quot;)\n&quot;,</td>
      </tr>
      <tr>
        <td id="L534" class="blob-num js-line-number" data-line-number="534"></td>
        <td id="LC534" class="blob-code js-file-line">      &quot;ax.plot(x, iv_u, &#39;r-&#39;)\n&quot;,</td>
      </tr>
      <tr>
        <td id="L535" class="blob-num js-line-number" data-line-number="535"></td>
        <td id="LC535" class="blob-code js-file-line">      &quot;ax.plot(x, iv_l, &#39;r-&#39;)\n&quot;,</td>
      </tr>
      <tr>
        <td id="L536" class="blob-num js-line-number" data-line-number="536"></td>
        <td id="LC536" class="blob-code js-file-line">      &quot;ax.legend(loc=&#39;best&#39;);&quot;</td>
      </tr>
      <tr>
        <td id="L537" class="blob-num js-line-number" data-line-number="537"></td>
        <td id="LC537" class="blob-code js-file-line">     ],</td>
      </tr>
      <tr>
        <td id="L538" class="blob-num js-line-number" data-line-number="538"></td>
        <td id="LC538" class="blob-code js-file-line">     &quot;language&quot;: &quot;python&quot;,</td>
      </tr>
      <tr>
        <td id="L539" class="blob-num js-line-number" data-line-number="539"></td>
        <td id="LC539" class="blob-code js-file-line">     &quot;metadata&quot;: {},</td>
      </tr>
      <tr>
        <td id="L540" class="blob-num js-line-number" data-line-number="540"></td>
        <td id="LC540" class="blob-code js-file-line">     &quot;outputs&quot;: [</td>
      </tr>
      <tr>
        <td id="L541" class="blob-num js-line-number" data-line-number="541"></td>
        <td id="LC541" class="blob-code js-file-line">      {</td>
      </tr>
      <tr>
        <td id="L542" class="blob-num js-line-number" data-line-number="542"></td>
        <td id="LC542" class="blob-code js-file-line">       &quot;metadata&quot;: {},</td>
      </tr>
      <tr>
        <td id="L543" class="blob-num js-line-number" data-line-number="543"></td>
        <td id="LC543" class="blob-code js-file-line">       &quot;output_type&quot;: &quot;display_data&quot;,</td>
      </tr>
      <tr>
        <td id="L544" class="blob-num js-line-number" data-line-number="544"></td>
        <td id="LC544" class="blob-code js-file-line">       &quot;png&quot;: &quot;iVBORw0KGgoAAAANSUhEUgAAAgIAAAFwCAYAAADKRxObAAAABHNCSVQICAgIfAhkiAAAAAlwSFlz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\nSZIkSZIkSZIkSZKk0fYfa4YCR16vR0kAAAAASUVORK5CYII=\n&quot;,</td>
      </tr>
      <tr>
        <td id="L545" class="blob-num js-line-number" data-line-number="545"></td>
        <td id="LC545" class="blob-code js-file-line">       &quot;text&quot;: [</td>
      </tr>
      <tr>
        <td id="L546" class="blob-num js-line-number" data-line-number="546"></td>
        <td id="LC546" class="blob-code js-file-line">        &quot;&lt;matplotlib.figure.Figure at 0x10a4f4250&gt;&quot;</td>
      </tr>
      <tr>
        <td id="L547" class="blob-num js-line-number" data-line-number="547"></td>
        <td id="LC547" class="blob-code js-file-line">       ]</td>
      </tr>
      <tr>
        <td id="L548" class="blob-num js-line-number" data-line-number="548"></td>
        <td id="LC548" class="blob-code js-file-line">      }</td>
      </tr>
      <tr>
        <td id="L549" class="blob-num js-line-number" data-line-number="549"></td>
        <td id="LC549" class="blob-code js-file-line">     ],</td>
      </tr>
      <tr>
        <td id="L550" class="blob-num js-line-number" data-line-number="550"></td>
        <td id="LC550" class="blob-code js-file-line">     &quot;prompt_number&quot;: 13</td>
      </tr>
      <tr>
        <td id="L551" class="blob-num js-line-number" data-line-number="551"></td>
        <td id="LC551" class="blob-code js-file-line">    },</td>
      </tr>
      <tr>
        <td id="L552" class="blob-num js-line-number" data-line-number="552"></td>
        <td id="LC552" class="blob-code js-file-line">    {</td>
      </tr>
      <tr>
        <td id="L553" class="blob-num js-line-number" data-line-number="553"></td>
        <td id="LC553" class="blob-code js-file-line">     &quot;cell_type&quot;: &quot;markdown&quot;,</td>
      </tr>
      <tr>
        <td id="L554" class="blob-num js-line-number" data-line-number="554"></td>
        <td id="LC554" class="blob-code js-file-line">     &quot;metadata&quot;: {},</td>
      </tr>
      <tr>
        <td id="L555" class="blob-num js-line-number" data-line-number="555"></td>
        <td id="LC555" class="blob-code js-file-line">     &quot;source&quot;: [</td>
      </tr>
      <tr>
        <td id="L556" class="blob-num js-line-number" data-line-number="556"></td>
        <td id="LC556" class="blob-code js-file-line">      &quot;## Function of Bedrooms?&quot;</td>
      </tr>
      <tr>
        <td id="L557" class="blob-num js-line-number" data-line-number="557"></td>
        <td id="LC557" class="blob-code js-file-line">     ]</td>
      </tr>
      <tr>
        <td id="L558" class="blob-num js-line-number" data-line-number="558"></td>
        <td id="LC558" class="blob-code js-file-line">    },</td>
      </tr>
      <tr>
        <td id="L559" class="blob-num js-line-number" data-line-number="559"></td>
        <td id="LC559" class="blob-code js-file-line">    {</td>
      </tr>
      <tr>
        <td id="L560" class="blob-num js-line-number" data-line-number="560"></td>
        <td id="LC560" class="blob-code js-file-line">     &quot;cell_type&quot;: &quot;markdown&quot;,</td>
      </tr>
      <tr>
        <td id="L561" class="blob-num js-line-number" data-line-number="561"></td>
        <td id="LC561" class="blob-code js-file-line">     &quot;metadata&quot;: {},</td>
      </tr>
      <tr>
        <td id="L562" class="blob-num js-line-number" data-line-number="562"></td>
        <td id="LC562" class="blob-code js-file-line">     &quot;source&quot;: [</td>
      </tr>
      <tr>
        <td id="L563" class="blob-num js-line-number" data-line-number="563"></td>
        <td id="LC563" class="blob-code js-file-line">      &quot;Run 3:  x = bdrms, data is raw (so graph units are nice)&quot;</td>
      </tr>
      <tr>
        <td id="L564" class="blob-num js-line-number" data-line-number="564"></td>
        <td id="LC564" class="blob-code js-file-line">     ]</td>
      </tr>
      <tr>
        <td id="L565" class="blob-num js-line-number" data-line-number="565"></td>
        <td id="LC565" class="blob-code js-file-line">    },</td>
      </tr>
      <tr>
        <td id="L566" class="blob-num js-line-number" data-line-number="566"></td>
        <td id="LC566" class="blob-code js-file-line">    {</td>
      </tr>
      <tr>
        <td id="L567" class="blob-num js-line-number" data-line-number="567"></td>
        <td id="LC567" class="blob-code js-file-line">     &quot;cell_type&quot;: &quot;code&quot;,</td>
      </tr>
      <tr>
        <td id="L568" class="blob-num js-line-number" data-line-number="568"></td>
        <td id="LC568" class="blob-code js-file-line">     &quot;collapsed&quot;: false,</td>
      </tr>
      <tr>
        <td id="L569" class="blob-num js-line-number" data-line-number="569"></td>
        <td id="LC569" class="blob-code js-file-line">     &quot;input&quot;: [</td>
      </tr>
      <tr>
        <td id="L570" class="blob-num js-line-number" data-line-number="570"></td>
        <td id="LC570" class="blob-code js-file-line">      &quot;x = data[&#39;bedrooms&#39;].values\n&quot;,</td>
      </tr>
      <tr>
        <td id="L571" class="blob-num js-line-number" data-line-number="571"></td>
        <td id="LC571" class="blob-code js-file-line">      &quot;y = data[&#39;price&#39;].values\n&quot;,</td>
      </tr>
      <tr>
        <td id="L572" class="blob-num js-line-number" data-line-number="572"></td>
        <td id="LC572" class="blob-code js-file-line">      &quot;\n&quot;,</td>
      </tr>
      <tr>
        <td id="L573" class="blob-num js-line-number" data-line-number="573"></td>
        <td id="LC573" class="blob-code js-file-line">      &quot;X = sm.add_constant(x, prepend=True)\n&quot;,</td>
      </tr>
      <tr>
        <td id="L574" class="blob-num js-line-number" data-line-number="574"></td>
        <td id="LC574" class="blob-code js-file-line">      &quot;results = sm.OLS(y, X).fit()\n&quot;,</td>
      </tr>
      <tr>
        <td id="L575" class="blob-num js-line-number" data-line-number="575"></td>
        <td id="LC575" class="blob-code js-file-line">      &quot;intercept, slope = results.params\n&quot;,</td>
      </tr>
      <tr>
        <td id="L576" class="blob-num js-line-number" data-line-number="576"></td>
        <td id="LC576" class="blob-code js-file-line">      &quot;r2 = results.rsquared\n&quot;,</td>
      </tr>
      <tr>
        <td id="L577" class="blob-num js-line-number" data-line-number="577"></td>
        <td id="LC577" class="blob-code js-file-line">      &quot;plt.plot(x, y, &#39;bo&#39;)\n&quot;,</td>
      </tr>
      <tr>
        <td id="L578" class="blob-num js-line-number" data-line-number="578"></td>
        <td id="LC578" class="blob-code js-file-line">      &quot;xl = np.array([min(x), max(x)])\n&quot;,</td>
      </tr>
      <tr>
        <td id="L579" class="blob-num js-line-number" data-line-number="579"></td>
        <td id="LC579" class="blob-code js-file-line">      &quot;yl = intercept + slope * xl\n&quot;,</td>
      </tr>
      <tr>
        <td id="L580" class="blob-num js-line-number" data-line-number="580"></td>
        <td id="LC580" class="blob-code js-file-line">      &quot;plt.plot(xl, yl, &#39;r-&#39;)\n&quot;,</td>
      </tr>
      <tr>
        <td id="L581" class="blob-num js-line-number" data-line-number="581"></td>
        <td id="LC581" class="blob-code js-file-line">      &quot;plt.title(r2)\n&quot;,</td>
      </tr>
      <tr>
        <td id="L582" class="blob-num js-line-number" data-line-number="582"></td>
        <td id="LC582" class="blob-code js-file-line">      &quot;plt.show()&quot;</td>
      </tr>
      <tr>
        <td id="L583" class="blob-num js-line-number" data-line-number="583"></td>
        <td id="LC583" class="blob-code js-file-line">     ],</td>
      </tr>
      <tr>
        <td id="L584" class="blob-num js-line-number" data-line-number="584"></td>
        <td id="LC584" class="blob-code js-file-line">     &quot;language&quot;: &quot;python&quot;,</td>
      </tr>
      <tr>
        <td id="L585" class="blob-num js-line-number" data-line-number="585"></td>
        <td id="LC585" class="blob-code js-file-line">     &quot;metadata&quot;: {},</td>
      </tr>
      <tr>
        <td id="L586" class="blob-num js-line-number" data-line-number="586"></td>
        <td id="LC586" class="blob-code js-file-line">     &quot;outputs&quot;: [</td>
      </tr>
      <tr>
        <td id="L587" class="blob-num js-line-number" data-line-number="587"></td>
        <td id="LC587" class="blob-code js-file-line">      {</td>
      </tr>
      <tr>
        <td id="L588" class="blob-num js-line-number" data-line-number="588"></td>
        <td id="LC588" class="blob-code js-file-line">       &quot;metadata&quot;: {},</td>
      </tr>
      <tr>
        <td id="L589" class="blob-num js-line-number" data-line-number="589"></td>
        <td id="LC589" class="blob-code js-file-line">       &quot;output_type&quot;: &quot;display_data&quot;,</td>
      </tr>
      <tr>
        <td id="L590" class="blob-num js-line-number" data-line-number="590"></td>
        <td id="LC590" class="blob-code js-file-line">       &quot;png&quot;: &quot;iVBORw0KGgoAAAANSUhEUgAAAY0AAAEKCAYAAADuEgmxAAAABHNCSVQICAgIfAhkiAAAAAlwSFlz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\n8VxNQRMAAAAASUVORK5CYII=\n&quot;,</td>
      </tr>
      <tr>
        <td id="L591" class="blob-num js-line-number" data-line-number="591"></td>
        <td id="LC591" class="blob-code js-file-line">       &quot;text&quot;: [</td>
      </tr>
      <tr>
        <td id="L592" class="blob-num js-line-number" data-line-number="592"></td>
        <td id="LC592" class="blob-code js-file-line">        &quot;&lt;matplotlib.figure.Figure at 0x10a7ccf90&gt;&quot;</td>
      </tr>
      <tr>
        <td id="L593" class="blob-num js-line-number" data-line-number="593"></td>
        <td id="LC593" class="blob-code js-file-line">       ]</td>
      </tr>
      <tr>
        <td id="L594" class="blob-num js-line-number" data-line-number="594"></td>
        <td id="LC594" class="blob-code js-file-line">      }</td>
      </tr>
      <tr>
        <td id="L595" class="blob-num js-line-number" data-line-number="595"></td>
        <td id="LC595" class="blob-code js-file-line">     ],</td>
      </tr>
      <tr>
        <td id="L596" class="blob-num js-line-number" data-line-number="596"></td>
        <td id="LC596" class="blob-code js-file-line">     &quot;prompt_number&quot;: 14</td>
      </tr>
      <tr>
        <td id="L597" class="blob-num js-line-number" data-line-number="597"></td>
        <td id="LC597" class="blob-code js-file-line">    },</td>
      </tr>
      <tr>
        <td id="L598" class="blob-num js-line-number" data-line-number="598"></td>
        <td id="LC598" class="blob-code js-file-line">    {</td>
      </tr>
      <tr>
        <td id="L599" class="blob-num js-line-number" data-line-number="599"></td>
        <td id="LC599" class="blob-code js-file-line">     &quot;cell_type&quot;: &quot;code&quot;,</td>
      </tr>
      <tr>
        <td id="L600" class="blob-num js-line-number" data-line-number="600"></td>
        <td id="LC600" class="blob-code js-file-line">     &quot;collapsed&quot;: false,</td>
      </tr>
      <tr>
        <td id="L601" class="blob-num js-line-number" data-line-number="601"></td>
        <td id="LC601" class="blob-code js-file-line">     &quot;input&quot;: [</td>
      </tr>
      <tr>
        <td id="L602" class="blob-num js-line-number" data-line-number="602"></td>
        <td id="LC602" class="blob-code js-file-line">      &quot;results.summary()&quot;</td>
      </tr>
      <tr>
        <td id="L603" class="blob-num js-line-number" data-line-number="603"></td>
        <td id="LC603" class="blob-code js-file-line">     ],</td>
      </tr>
      <tr>
        <td id="L604" class="blob-num js-line-number" data-line-number="604"></td>
        <td id="LC604" class="blob-code js-file-line">     &quot;language&quot;: &quot;python&quot;,</td>
      </tr>
      <tr>
        <td id="L605" class="blob-num js-line-number" data-line-number="605"></td>
        <td id="LC605" class="blob-code js-file-line">     &quot;metadata&quot;: {},</td>
      </tr>
      <tr>
        <td id="L606" class="blob-num js-line-number" data-line-number="606"></td>
        <td id="LC606" class="blob-code js-file-line">     &quot;outputs&quot;: [</td>
      </tr>
      <tr>
        <td id="L607" class="blob-num js-line-number" data-line-number="607"></td>
        <td id="LC607" class="blob-code js-file-line">      {</td>
      </tr>
      <tr>
        <td id="L608" class="blob-num js-line-number" data-line-number="608"></td>
        <td id="LC608" class="blob-code js-file-line">       &quot;html&quot;: [</td>
      </tr>
      <tr>
        <td id="L609" class="blob-num js-line-number" data-line-number="609"></td>
        <td id="LC609" class="blob-code js-file-line">        &quot;&lt;table class=\&quot;simpletable\&quot;&gt;\n&quot;,</td>
      </tr>
      <tr>
        <td id="L610" class="blob-num js-line-number" data-line-number="610"></td>
        <td id="LC610" class="blob-code js-file-line">        &quot;&lt;caption&gt;OLS Regression Results&lt;/caption&gt;\n&quot;,</td>
      </tr>
      <tr>
        <td id="L611" class="blob-num js-line-number" data-line-number="611"></td>
        <td id="LC611" class="blob-code js-file-line">        &quot;&lt;tr&gt;\n&quot;,</td>
      </tr>
      <tr>
        <td id="L612" class="blob-num js-line-number" data-line-number="612"></td>
        <td id="LC612" class="blob-code js-file-line">        &quot;  &lt;th&gt;Dep. Variable:&lt;/th&gt;            &lt;td&gt;y&lt;/td&gt;        &lt;th&gt;  R-squared:         &lt;/th&gt; &lt;td&gt;   0.196&lt;/td&gt;\n&quot;,</td>
      </tr>
      <tr>
        <td id="L613" class="blob-num js-line-number" data-line-number="613"></td>
        <td id="LC613" class="blob-code js-file-line">        &quot;&lt;/tr&gt;\n&quot;,</td>
      </tr>
      <tr>
        <td id="L614" class="blob-num js-line-number" data-line-number="614"></td>
        <td id="LC614" class="blob-code js-file-line">        &quot;&lt;tr&gt;\n&quot;,</td>
      </tr>
      <tr>
        <td id="L615" class="blob-num js-line-number" data-line-number="615"></td>
        <td id="LC615" class="blob-code js-file-line">        &quot;  &lt;th&gt;Model:&lt;/th&gt;                   &lt;td&gt;OLS&lt;/td&gt;       &lt;th&gt;  Adj. R-squared:    &lt;/th&gt; &lt;td&gt;   0.178&lt;/td&gt;\n&quot;,</td>
      </tr>
      <tr>
        <td id="L616" class="blob-num js-line-number" data-line-number="616"></td>
        <td id="LC616" class="blob-code js-file-line">        &quot;&lt;/tr&gt;\n&quot;,</td>
      </tr>
      <tr>
        <td id="L617" class="blob-num js-line-number" data-line-number="617"></td>
        <td id="LC617" class="blob-code js-file-line">        &quot;&lt;tr&gt;\n&quot;,</td>
      </tr>
      <tr>
        <td id="L618" class="blob-num js-line-number" data-line-number="618"></td>
        <td id="LC618" class="blob-code js-file-line">        &quot;  &lt;th&gt;Method:&lt;/th&gt;             &lt;td&gt;Least Squares&lt;/td&gt;  &lt;th&gt;  F-statistic:       &lt;/th&gt; &lt;td&gt;   10.94&lt;/td&gt;\n&quot;,</td>
      </tr>
      <tr>
        <td id="L619" class="blob-num js-line-number" data-line-number="619"></td>
        <td id="LC619" class="blob-code js-file-line">        &quot;&lt;/tr&gt;\n&quot;,</td>
      </tr>
      <tr>
        <td id="L620" class="blob-num js-line-number" data-line-number="620"></td>
        <td id="LC620" class="blob-code js-file-line">        &quot;&lt;tr&gt;\n&quot;,</td>
      </tr>
      <tr>
        <td id="L621" class="blob-num js-line-number" data-line-number="621"></td>
        <td id="LC621" class="blob-code js-file-line">        &quot;  &lt;th&gt;Date:&lt;/th&gt;             &lt;td&gt;Mon, 20 Oct 2014&lt;/td&gt; &lt;th&gt;  Prob (F-statistic):&lt;/th&gt;  &lt;td&gt;0.00185&lt;/td&gt;\n&quot;,</td>
      </tr>
      <tr>
        <td id="L622" class="blob-num js-line-number" data-line-number="622"></td>
        <td id="LC622" class="blob-code js-file-line">        &quot;&lt;/tr&gt;\n&quot;,</td>
      </tr>
      <tr>
        <td id="L623" class="blob-num js-line-number" data-line-number="623"></td>
        <td id="LC623" class="blob-code js-file-line">        &quot;&lt;tr&gt;\n&quot;,</td>
      </tr>
      <tr>
        <td id="L624" class="blob-num js-line-number" data-line-number="624"></td>
        <td id="LC624" class="blob-code js-file-line">        &quot;  &lt;th&gt;Time:&lt;/th&gt;                 &lt;td&gt;21:12:21&lt;/td&gt;     &lt;th&gt;  Log-Likelihood:    &lt;/th&gt; &lt;td&gt; -612.68&lt;/td&gt;\n&quot;,</td>
      </tr>
      <tr>
        <td id="L625" class="blob-num js-line-number" data-line-number="625"></td>
        <td id="LC625" class="blob-code js-file-line">        &quot;&lt;/tr&gt;\n&quot;,</td>
      </tr>
      <tr>
        <td id="L626" class="blob-num js-line-number" data-line-number="626"></td>
        <td id="LC626" class="blob-code js-file-line">        &quot;&lt;tr&gt;\n&quot;,</td>
      </tr>
      <tr>
        <td id="L627" class="blob-num js-line-number" data-line-number="627"></td>
        <td id="LC627" class="blob-code js-file-line">        &quot;  &lt;th&gt;No. Observations:&lt;/th&gt;      &lt;td&gt;    47&lt;/td&gt;      &lt;th&gt;  AIC:               &lt;/th&gt; &lt;td&gt;   1229.&lt;/td&gt;\n&quot;,</td>
      </tr>
      <tr>
        <td id="L628" class="blob-num js-line-number" data-line-number="628"></td>
        <td id="LC628" class="blob-code js-file-line">        &quot;&lt;/tr&gt;\n&quot;,</td>
      </tr>
      <tr>
        <td id="L629" class="blob-num js-line-number" data-line-number="629"></td>
        <td id="LC629" class="blob-code js-file-line">        &quot;&lt;tr&gt;\n&quot;,</td>
      </tr>
      <tr>
        <td id="L630" class="blob-num js-line-number" data-line-number="630"></td>
        <td id="LC630" class="blob-code js-file-line">        &quot;  &lt;th&gt;Df Residuals:&lt;/th&gt;          &lt;td&gt;    45&lt;/td&gt;      &lt;th&gt;  BIC:               &lt;/th&gt; &lt;td&gt;   1233.&lt;/td&gt;\n&quot;,</td>
      </tr>
      <tr>
        <td id="L631" class="blob-num js-line-number" data-line-number="631"></td>
        <td id="LC631" class="blob-code js-file-line">        &quot;&lt;/tr&gt;\n&quot;,</td>
      </tr>
      <tr>
        <td id="L632" class="blob-num js-line-number" data-line-number="632"></td>
        <td id="LC632" class="blob-code js-file-line">        &quot;&lt;tr&gt;\n&quot;,</td>
      </tr>
      <tr>
        <td id="L633" class="blob-num js-line-number" data-line-number="633"></td>
        <td id="LC633" class="blob-code js-file-line">        &quot;  &lt;th&gt;Df Model:&lt;/th&gt;              &lt;td&gt;     1&lt;/td&gt;      &lt;th&gt;                     &lt;/th&gt;     &lt;td&gt; &lt;/td&gt;   \n&quot;,</td>
      </tr>
      <tr>
        <td id="L634" class="blob-num js-line-number" data-line-number="634"></td>
        <td id="LC634" class="blob-code js-file-line">        &quot;&lt;/tr&gt;\n&quot;,</td>
      </tr>
      <tr>
        <td id="L635" class="blob-num js-line-number" data-line-number="635"></td>
        <td id="LC635" class="blob-code js-file-line">        &quot;&lt;/table&gt;\n&quot;,</td>
      </tr>
      <tr>
        <td id="L636" class="blob-num js-line-number" data-line-number="636"></td>
        <td id="LC636" class="blob-code js-file-line">        &quot;&lt;table class=\&quot;simpletable\&quot;&gt;\n&quot;,</td>
      </tr>
      <tr>
        <td id="L637" class="blob-num js-line-number" data-line-number="637"></td>
        <td id="LC637" class="blob-code js-file-line">        &quot;&lt;tr&gt;\n&quot;,</td>
      </tr>
      <tr>
        <td id="L638" class="blob-num js-line-number" data-line-number="638"></td>
        <td id="LC638" class="blob-code js-file-line">        &quot;    &lt;td&gt;&lt;/td&gt;       &lt;th&gt;coef&lt;/th&gt;     &lt;th&gt;std err&lt;/th&gt;      &lt;th&gt;t&lt;/th&gt;      &lt;th&gt;P&gt;|t|&lt;/th&gt; &lt;th&gt;[95.0% Conf. Int.]&lt;/th&gt; \n&quot;,</td>
      </tr>
      <tr>
        <td id="L639" class="blob-num js-line-number" data-line-number="639"></td>
        <td id="LC639" class="blob-code js-file-line">        &quot;&lt;/tr&gt;\n&quot;,</td>
      </tr>
      <tr>
        <td id="L640" class="blob-num js-line-number" data-line-number="640"></td>
        <td id="LC640" class="blob-code js-file-line">        &quot;&lt;tr&gt;\n&quot;,</td>
      </tr>
      <tr>
        <td id="L641" class="blob-num js-line-number" data-line-number="641"></td>
        <td id="LC641" class="blob-code js-file-line">        &quot;  &lt;th&gt;const&lt;/th&gt; &lt;td&gt;   1.1e+05&lt;/td&gt; &lt;td&gt; 7.16e+04&lt;/td&gt; &lt;td&gt;    1.537&lt;/td&gt; &lt;td&gt; 0.131&lt;/td&gt; &lt;td&gt;-3.41e+04  2.54e+05&lt;/td&gt;\n&quot;,</td>
      </tr>
      <tr>
        <td id="L642" class="blob-num js-line-number" data-line-number="642"></td>
        <td id="LC642" class="blob-code js-file-line">        &quot;&lt;/tr&gt;\n&quot;,</td>
      </tr>
      <tr>
        <td id="L643" class="blob-num js-line-number" data-line-number="643"></td>
        <td id="LC643" class="blob-code js-file-line">        &quot;&lt;tr&gt;\n&quot;,</td>
      </tr>
      <tr>
        <td id="L644" class="blob-num js-line-number" data-line-number="644"></td>
        <td id="LC644" class="blob-code js-file-line">        &quot;  &lt;th&gt;x1&lt;/th&gt;    &lt;td&gt; 7.267e+04&lt;/td&gt; &lt;td&gt;  2.2e+04&lt;/td&gt; &lt;td&gt;    3.308&lt;/td&gt; &lt;td&gt; 0.002&lt;/td&gt; &lt;td&gt; 2.84e+04  1.17e+05&lt;/td&gt;\n&quot;,</td>
      </tr>
      <tr>
        <td id="L645" class="blob-num js-line-number" data-line-number="645"></td>
        <td id="LC645" class="blob-code js-file-line">        &quot;&lt;/tr&gt;\n&quot;,</td>
      </tr>
      <tr>
        <td id="L646" class="blob-num js-line-number" data-line-number="646"></td>
        <td id="LC646" class="blob-code js-file-line">        &quot;&lt;/table&gt;\n&quot;,</td>
      </tr>
      <tr>
        <td id="L647" class="blob-num js-line-number" data-line-number="647"></td>
        <td id="LC647" class="blob-code js-file-line">        &quot;&lt;table class=\&quot;simpletable\&quot;&gt;\n&quot;,</td>
      </tr>
      <tr>
        <td id="L648" class="blob-num js-line-number" data-line-number="648"></td>
        <td id="LC648" class="blob-code js-file-line">        &quot;&lt;tr&gt;\n&quot;,</td>
      </tr>
      <tr>
        <td id="L649" class="blob-num js-line-number" data-line-number="649"></td>
        <td id="LC649" class="blob-code js-file-line">        &quot;  &lt;th&gt;Omnibus:&lt;/th&gt;       &lt;td&gt; 4.709&lt;/td&gt; &lt;th&gt;  Durbin-Watson:     &lt;/th&gt; &lt;td&gt;   2.232&lt;/td&gt;\n&quot;,</td>
      </tr>
      <tr>
        <td id="L650" class="blob-num js-line-number" data-line-number="650"></td>
        <td id="LC650" class="blob-code js-file-line">        &quot;&lt;/tr&gt;\n&quot;,</td>
      </tr>
      <tr>
        <td id="L651" class="blob-num js-line-number" data-line-number="651"></td>
        <td id="LC651" class="blob-code js-file-line">        &quot;&lt;tr&gt;\n&quot;,</td>
      </tr>
      <tr>
        <td id="L652" class="blob-num js-line-number" data-line-number="652"></td>
        <td id="LC652" class="blob-code js-file-line">        &quot;  &lt;th&gt;Prob(Omnibus):&lt;/th&gt; &lt;td&gt; 0.095&lt;/td&gt; &lt;th&gt;  Jarque-Bera (JB):  &lt;/th&gt; &lt;td&gt;   4.412&lt;/td&gt;\n&quot;,</td>
      </tr>
      <tr>
        <td id="L653" class="blob-num js-line-number" data-line-number="653"></td>
        <td id="LC653" class="blob-code js-file-line">        &quot;&lt;/tr&gt;\n&quot;,</td>
      </tr>
      <tr>
        <td id="L654" class="blob-num js-line-number" data-line-number="654"></td>
        <td id="LC654" class="blob-code js-file-line">        &quot;&lt;tr&gt;\n&quot;,</td>
      </tr>
      <tr>
        <td id="L655" class="blob-num js-line-number" data-line-number="655"></td>
        <td id="LC655" class="blob-code js-file-line">        &quot;  &lt;th&gt;Skew:&lt;/th&gt;          &lt;td&gt; 0.691&lt;/td&gt; &lt;th&gt;  Prob(JB):          &lt;/th&gt; &lt;td&gt;   0.110&lt;/td&gt;\n&quot;,</td>
      </tr>
      <tr>
        <td id="L656" class="blob-num js-line-number" data-line-number="656"></td>
        <td id="LC656" class="blob-code js-file-line">        &quot;&lt;/tr&gt;\n&quot;,</td>
      </tr>
      <tr>
        <td id="L657" class="blob-num js-line-number" data-line-number="657"></td>
        <td id="LC657" class="blob-code js-file-line">        &quot;&lt;tr&gt;\n&quot;,</td>
      </tr>
      <tr>
        <td id="L658" class="blob-num js-line-number" data-line-number="658"></td>
        <td id="LC658" class="blob-code js-file-line">        &quot;  &lt;th&gt;Kurtosis:&lt;/th&gt;      &lt;td&gt; 2.413&lt;/td&gt; &lt;th&gt;  Cond. No.          &lt;/th&gt; &lt;td&gt;    15.4&lt;/td&gt;\n&quot;,</td>
      </tr>
      <tr>
        <td id="L659" class="blob-num js-line-number" data-line-number="659"></td>
        <td id="LC659" class="blob-code js-file-line">        &quot;&lt;/tr&gt;\n&quot;,</td>
      </tr>
      <tr>
        <td id="L660" class="blob-num js-line-number" data-line-number="660"></td>
        <td id="LC660" class="blob-code js-file-line">        &quot;&lt;/table&gt;&quot;</td>
      </tr>
      <tr>
        <td id="L661" class="blob-num js-line-number" data-line-number="661"></td>
        <td id="LC661" class="blob-code js-file-line">       ],</td>
      </tr>
      <tr>
        <td id="L662" class="blob-num js-line-number" data-line-number="662"></td>
        <td id="LC662" class="blob-code js-file-line">       &quot;metadata&quot;: {},</td>
      </tr>
      <tr>
        <td id="L663" class="blob-num js-line-number" data-line-number="663"></td>
        <td id="LC663" class="blob-code js-file-line">       &quot;output_type&quot;: &quot;pyout&quot;,</td>
      </tr>
      <tr>
        <td id="L664" class="blob-num js-line-number" data-line-number="664"></td>
        <td id="LC664" class="blob-code js-file-line">       &quot;prompt_number&quot;: 15,</td>
      </tr>
      <tr>
        <td id="L665" class="blob-num js-line-number" data-line-number="665"></td>
        <td id="LC665" class="blob-code js-file-line">       &quot;text&quot;: [</td>
      </tr>
      <tr>
        <td id="L666" class="blob-num js-line-number" data-line-number="666"></td>
        <td id="LC666" class="blob-code js-file-line">        &quot;&lt;class &#39;statsmodels.iolib.summary.Summary&#39;&gt;\n&quot;,</td>
      </tr>
      <tr>
        <td id="L667" class="blob-num js-line-number" data-line-number="667"></td>
        <td id="LC667" class="blob-code js-file-line">        &quot;\&quot;\&quot;\&quot;\n&quot;,</td>
      </tr>
      <tr>
        <td id="L668" class="blob-num js-line-number" data-line-number="668"></td>
        <td id="LC668" class="blob-code js-file-line">        &quot;                            OLS Regression Results                            \n&quot;,</td>
      </tr>
      <tr>
        <td id="L669" class="blob-num js-line-number" data-line-number="669"></td>
        <td id="LC669" class="blob-code js-file-line">        &quot;==============================================================================\n&quot;,</td>
      </tr>
      <tr>
        <td id="L670" class="blob-num js-line-number" data-line-number="670"></td>
        <td id="LC670" class="blob-code js-file-line">        &quot;Dep. Variable:                      y   R-squared:                       0.196\n&quot;,</td>
      </tr>
      <tr>
        <td id="L671" class="blob-num js-line-number" data-line-number="671"></td>
        <td id="LC671" class="blob-code js-file-line">        &quot;Model:                            OLS   Adj. R-squared:                  0.178\n&quot;,</td>
      </tr>
      <tr>
        <td id="L672" class="blob-num js-line-number" data-line-number="672"></td>
        <td id="LC672" class="blob-code js-file-line">        &quot;Method:                 Least Squares   F-statistic:                     10.94\n&quot;,</td>
      </tr>
      <tr>
        <td id="L673" class="blob-num js-line-number" data-line-number="673"></td>
        <td id="LC673" class="blob-code js-file-line">        &quot;Date:                Mon, 20 Oct 2014   Prob (F-statistic):            0.00185\n&quot;,</td>
      </tr>
      <tr>
        <td id="L674" class="blob-num js-line-number" data-line-number="674"></td>
        <td id="LC674" class="blob-code js-file-line">        &quot;Time:                        21:12:21   Log-Likelihood:                -612.68\n&quot;,</td>
      </tr>
      <tr>
        <td id="L675" class="blob-num js-line-number" data-line-number="675"></td>
        <td id="LC675" class="blob-code js-file-line">        &quot;No. Observations:                  47   AIC:                             1229.\n&quot;,</td>
      </tr>
      <tr>
        <td id="L676" class="blob-num js-line-number" data-line-number="676"></td>
        <td id="LC676" class="blob-code js-file-line">        &quot;Df Residuals:                      45   BIC:                             1233.\n&quot;,</td>
      </tr>
      <tr>
        <td id="L677" class="blob-num js-line-number" data-line-number="677"></td>
        <td id="LC677" class="blob-code js-file-line">        &quot;Df Model:                           1                                         \n&quot;,</td>
      </tr>
      <tr>
        <td id="L678" class="blob-num js-line-number" data-line-number="678"></td>
        <td id="LC678" class="blob-code js-file-line">        &quot;==============================================================================\n&quot;,</td>
      </tr>
      <tr>
        <td id="L679" class="blob-num js-line-number" data-line-number="679"></td>
        <td id="LC679" class="blob-code js-file-line">        &quot;                 coef    std err          t      P&gt;|t|      [95.0% Conf. Int.]\n&quot;,</td>
      </tr>
      <tr>
        <td id="L680" class="blob-num js-line-number" data-line-number="680"></td>
        <td id="LC680" class="blob-code js-file-line">        &quot;------------------------------------------------------------------------------\n&quot;,</td>
      </tr>
      <tr>
        <td id="L681" class="blob-num js-line-number" data-line-number="681"></td>
        <td id="LC681" class="blob-code js-file-line">        &quot;const         1.1e+05   7.16e+04      1.537      0.131     -3.41e+04  2.54e+05\n&quot;,</td>
      </tr>
      <tr>
        <td id="L682" class="blob-num js-line-number" data-line-number="682"></td>
        <td id="LC682" class="blob-code js-file-line">        &quot;x1          7.267e+04    2.2e+04      3.308      0.002      2.84e+04  1.17e+05\n&quot;,</td>
      </tr>
      <tr>
        <td id="L683" class="blob-num js-line-number" data-line-number="683"></td>
        <td id="LC683" class="blob-code js-file-line">        &quot;==============================================================================\n&quot;,</td>
      </tr>
      <tr>
        <td id="L684" class="blob-num js-line-number" data-line-number="684"></td>
        <td id="LC684" class="blob-code js-file-line">        &quot;Omnibus:                        4.709   Durbin-Watson:                   2.232\n&quot;,</td>
      </tr>
      <tr>
        <td id="L685" class="blob-num js-line-number" data-line-number="685"></td>
        <td id="LC685" class="blob-code js-file-line">        &quot;Prob(Omnibus):                  0.095   Jarque-Bera (JB):                4.412\n&quot;,</td>
      </tr>
      <tr>
        <td id="L686" class="blob-num js-line-number" data-line-number="686"></td>
        <td id="LC686" class="blob-code js-file-line">        &quot;Skew:                           0.691   Prob(JB):                        0.110\n&quot;,</td>
      </tr>
      <tr>
        <td id="L687" class="blob-num js-line-number" data-line-number="687"></td>
        <td id="LC687" class="blob-code js-file-line">        &quot;Kurtosis:                       2.413   Cond. No.                         15.4\n&quot;,</td>
      </tr>
      <tr>
        <td id="L688" class="blob-num js-line-number" data-line-number="688"></td>
        <td id="LC688" class="blob-code js-file-line">        &quot;==============================================================================\n&quot;,</td>
      </tr>
      <tr>
        <td id="L689" class="blob-num js-line-number" data-line-number="689"></td>
        <td id="LC689" class="blob-code js-file-line">        &quot;\&quot;\&quot;\&quot;&quot;</td>
      </tr>
      <tr>
        <td id="L690" class="blob-num js-line-number" data-line-number="690"></td>
        <td id="LC690" class="blob-code js-file-line">       ]</td>
      </tr>
      <tr>
        <td id="L691" class="blob-num js-line-number" data-line-number="691"></td>
        <td id="LC691" class="blob-code js-file-line">      }</td>
      </tr>
      <tr>
        <td id="L692" class="blob-num js-line-number" data-line-number="692"></td>
        <td id="LC692" class="blob-code js-file-line">     ],</td>
      </tr>
      <tr>
        <td id="L693" class="blob-num js-line-number" data-line-number="693"></td>
        <td id="LC693" class="blob-code js-file-line">     &quot;prompt_number&quot;: 15</td>
      </tr>
      <tr>
        <td id="L694" class="blob-num js-line-number" data-line-number="694"></td>
        <td id="LC694" class="blob-code js-file-line">    },</td>
      </tr>
      <tr>
        <td id="L695" class="blob-num js-line-number" data-line-number="695"></td>
        <td id="LC695" class="blob-code js-file-line">    {</td>
      </tr>
      <tr>
        <td id="L696" class="blob-num js-line-number" data-line-number="696"></td>
        <td id="LC696" class="blob-code js-file-line">     &quot;cell_type&quot;: &quot;code&quot;,</td>
      </tr>
      <tr>
        <td id="L697" class="blob-num js-line-number" data-line-number="697"></td>
        <td id="LC697" class="blob-code js-file-line">     &quot;collapsed&quot;: false,</td>
      </tr>
      <tr>
        <td id="L698" class="blob-num js-line-number" data-line-number="698"></td>
        <td id="LC698" class="blob-code js-file-line">     &quot;input&quot;: [</td>
      </tr>
      <tr>
        <td id="L699" class="blob-num js-line-number" data-line-number="699"></td>
        <td id="LC699" class="blob-code js-file-line">      &quot;x = data_n[&#39;bedrooms&#39;].values\n&quot;,</td>
      </tr>
      <tr>
        <td id="L700" class="blob-num js-line-number" data-line-number="700"></td>
        <td id="LC700" class="blob-code js-file-line">      &quot;y = data_n[&#39;price&#39;].values\n&quot;,</td>
      </tr>
      <tr>
        <td id="L701" class="blob-num js-line-number" data-line-number="701"></td>
        <td id="LC701" class="blob-code js-file-line">      &quot;\n&quot;,</td>
      </tr>
      <tr>
        <td id="L702" class="blob-num js-line-number" data-line-number="702"></td>
        <td id="LC702" class="blob-code js-file-line">      &quot;X = sm.add_constant(x, prepend=True)\n&quot;,</td>
      </tr>
      <tr>
        <td id="L703" class="blob-num js-line-number" data-line-number="703"></td>
        <td id="LC703" class="blob-code js-file-line">      &quot;results = sm.OLS(y, X).fit()\n&quot;,</td>
      </tr>
      <tr>
        <td id="L704" class="blob-num js-line-number" data-line-number="704"></td>
        <td id="LC704" class="blob-code js-file-line">      &quot;intercept, slope = results.params\n&quot;,</td>
      </tr>
      <tr>
        <td id="L705" class="blob-num js-line-number" data-line-number="705"></td>
        <td id="LC705" class="blob-code js-file-line">      &quot;r2 = results.rsquared\n&quot;,</td>
      </tr>
      <tr>
        <td id="L706" class="blob-num js-line-number" data-line-number="706"></td>
        <td id="LC706" class="blob-code js-file-line">      &quot;plt.plot(x, y, &#39;bo&#39;)\n&quot;,</td>
      </tr>
      <tr>
        <td id="L707" class="blob-num js-line-number" data-line-number="707"></td>
        <td id="LC707" class="blob-code js-file-line">      &quot;xl = np.array([min(x), max(x)])\n&quot;,</td>
      </tr>
      <tr>
        <td id="L708" class="blob-num js-line-number" data-line-number="708"></td>
        <td id="LC708" class="blob-code js-file-line">      &quot;yl = intercept + slope * xl\n&quot;,</td>
      </tr>
      <tr>
        <td id="L709" class="blob-num js-line-number" data-line-number="709"></td>
        <td id="LC709" class="blob-code js-file-line">      &quot;plt.plot(xl, yl, &#39;r-&#39;)\n&quot;,</td>
      </tr>
      <tr>
        <td id="L710" class="blob-num js-line-number" data-line-number="710"></td>
        <td id="LC710" class="blob-code js-file-line">      &quot;plt.show()&quot;</td>
      </tr>
      <tr>
        <td id="L711" class="blob-num js-line-number" data-line-number="711"></td>
        <td id="LC711" class="blob-code js-file-line">     ],</td>
      </tr>
      <tr>
        <td id="L712" class="blob-num js-line-number" data-line-number="712"></td>
        <td id="LC712" class="blob-code js-file-line">     &quot;language&quot;: &quot;python&quot;,</td>
      </tr>
      <tr>
        <td id="L713" class="blob-num js-line-number" data-line-number="713"></td>
        <td id="LC713" class="blob-code js-file-line">     &quot;metadata&quot;: {},</td>
      </tr>
      <tr>
        <td id="L714" class="blob-num js-line-number" data-line-number="714"></td>
        <td id="LC714" class="blob-code js-file-line">     &quot;outputs&quot;: [</td>
      </tr>
      <tr>
        <td id="L715" class="blob-num js-line-number" data-line-number="715"></td>
        <td id="LC715" class="blob-code js-file-line">      {</td>
      </tr>
      <tr>
        <td id="L716" class="blob-num js-line-number" data-line-number="716"></td>
        <td id="LC716" class="blob-code js-file-line">       &quot;metadata&quot;: {},</td>
      </tr>
      <tr>
        <td id="L717" class="blob-num js-line-number" data-line-number="717"></td>
        <td id="LC717" class="blob-code js-file-line">       &quot;output_type&quot;: &quot;display_data&quot;,</td>
      </tr>
      <tr>
        <td id="L718" class="blob-num js-line-number" data-line-number="718"></td>
        <td id="LC718" class="blob-code js-file-line">       &quot;png&quot;: &quot;iVBORw0KGgoAAAANSUhEUgAAAW0AAAEACAYAAAB4ayemAAAABHNCSVQICAgIfAhkiAAAAAlwSFlz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\nrkJggg==\n&quot;,</td>
      </tr>
      <tr>
        <td id="L719" class="blob-num js-line-number" data-line-number="719"></td>
        <td id="LC719" class="blob-code js-file-line">       &quot;text&quot;: [</td>
      </tr>
      <tr>
        <td id="L720" class="blob-num js-line-number" data-line-number="720"></td>
        <td id="LC720" class="blob-code js-file-line">        &quot;&lt;matplotlib.figure.Figure at 0x10a855850&gt;&quot;</td>
      </tr>
      <tr>
        <td id="L721" class="blob-num js-line-number" data-line-number="721"></td>
        <td id="LC721" class="blob-code js-file-line">       ]</td>
      </tr>
      <tr>
        <td id="L722" class="blob-num js-line-number" data-line-number="722"></td>
        <td id="LC722" class="blob-code js-file-line">      }</td>
      </tr>
      <tr>
        <td id="L723" class="blob-num js-line-number" data-line-number="723"></td>
        <td id="LC723" class="blob-code js-file-line">     ],</td>
      </tr>
      <tr>
        <td id="L724" class="blob-num js-line-number" data-line-number="724"></td>
        <td id="LC724" class="blob-code js-file-line">     &quot;prompt_number&quot;: 16</td>
      </tr>
      <tr>
        <td id="L725" class="blob-num js-line-number" data-line-number="725"></td>
        <td id="LC725" class="blob-code js-file-line">    },</td>
      </tr>
      <tr>
        <td id="L726" class="blob-num js-line-number" data-line-number="726"></td>
        <td id="LC726" class="blob-code js-file-line">    {</td>
      </tr>
      <tr>
        <td id="L727" class="blob-num js-line-number" data-line-number="727"></td>
        <td id="LC727" class="blob-code js-file-line">     &quot;cell_type&quot;: &quot;code&quot;,</td>
      </tr>
      <tr>
        <td id="L728" class="blob-num js-line-number" data-line-number="728"></td>
        <td id="LC728" class="blob-code js-file-line">     &quot;collapsed&quot;: false,</td>
      </tr>
      <tr>
        <td id="L729" class="blob-num js-line-number" data-line-number="729"></td>
        <td id="LC729" class="blob-code js-file-line">     &quot;input&quot;: [</td>
      </tr>
      <tr>
        <td id="L730" class="blob-num js-line-number" data-line-number="730"></td>
        <td id="LC730" class="blob-code js-file-line">      &quot;print results.summary()&quot;</td>
      </tr>
      <tr>
        <td id="L731" class="blob-num js-line-number" data-line-number="731"></td>
        <td id="LC731" class="blob-code js-file-line">     ],</td>
      </tr>
      <tr>
        <td id="L732" class="blob-num js-line-number" data-line-number="732"></td>
        <td id="LC732" class="blob-code js-file-line">     &quot;language&quot;: &quot;python&quot;,</td>
      </tr>
      <tr>
        <td id="L733" class="blob-num js-line-number" data-line-number="733"></td>
        <td id="LC733" class="blob-code js-file-line">     &quot;metadata&quot;: {},</td>
      </tr>
      <tr>
        <td id="L734" class="blob-num js-line-number" data-line-number="734"></td>
        <td id="LC734" class="blob-code js-file-line">     &quot;outputs&quot;: [</td>
      </tr>
      <tr>
        <td id="L735" class="blob-num js-line-number" data-line-number="735"></td>
        <td id="LC735" class="blob-code js-file-line">      {</td>
      </tr>
      <tr>
        <td id="L736" class="blob-num js-line-number" data-line-number="736"></td>
        <td id="LC736" class="blob-code js-file-line">       &quot;output_type&quot;: &quot;stream&quot;,</td>
      </tr>
      <tr>
        <td id="L737" class="blob-num js-line-number" data-line-number="737"></td>
        <td id="LC737" class="blob-code js-file-line">       &quot;stream&quot;: &quot;stdout&quot;,</td>
      </tr>
      <tr>
        <td id="L738" class="blob-num js-line-number" data-line-number="738"></td>
        <td id="LC738" class="blob-code js-file-line">       &quot;text&quot;: [</td>
      </tr>
      <tr>
        <td id="L739" class="blob-num js-line-number" data-line-number="739"></td>
        <td id="LC739" class="blob-code js-file-line">        &quot;                            OLS Regression Results                            \n&quot;,</td>
      </tr>
      <tr>
        <td id="L740" class="blob-num js-line-number" data-line-number="740"></td>
        <td id="LC740" class="blob-code js-file-line">        &quot;==============================================================================\n&quot;,</td>
      </tr>
      <tr>
        <td id="L741" class="blob-num js-line-number" data-line-number="741"></td>
        <td id="LC741" class="blob-code js-file-line">        &quot;Dep. Variable:                      y   R-squared:                       0.196\n&quot;,</td>
      </tr>
      <tr>
        <td id="L742" class="blob-num js-line-number" data-line-number="742"></td>
        <td id="LC742" class="blob-code js-file-line">        &quot;Model:                            OLS   Adj. R-squared:                  0.178\n&quot;,</td>
      </tr>
      <tr>
        <td id="L743" class="blob-num js-line-number" data-line-number="743"></td>
        <td id="LC743" class="blob-code js-file-line">        &quot;Method:                 Least Squares   F-statistic:                     10.94\n&quot;,</td>
      </tr>
      <tr>
        <td id="L744" class="blob-num js-line-number" data-line-number="744"></td>
        <td id="LC744" class="blob-code js-file-line">        &quot;Date:                Mon, 20 Oct 2014   Prob (F-statistic):            0.00185\n&quot;,</td>
      </tr>
      <tr>
        <td id="L745" class="blob-num js-line-number" data-line-number="745"></td>
        <td id="LC745" class="blob-code js-file-line">        &quot;Time:                        21:12:22   Log-Likelihood:                -71.573\n&quot;,</td>
      </tr>
      <tr>
        <td id="L746" class="blob-num js-line-number" data-line-number="746"></td>
        <td id="LC746" class="blob-code js-file-line">        &quot;No. Observations:                  47   AIC:                             147.1\n&quot;,</td>
      </tr>
      <tr>
        <td id="L747" class="blob-num js-line-number" data-line-number="747"></td>
        <td id="LC747" class="blob-code js-file-line">        &quot;Df Residuals:                      45   BIC:                             150.8\n&quot;,</td>
      </tr>
      <tr>
        <td id="L748" class="blob-num js-line-number" data-line-number="748"></td>
        <td id="LC748" class="blob-code js-file-line">        &quot;Df Model:                           1                                         \n&quot;,</td>
      </tr>
      <tr>
        <td id="L749" class="blob-num js-line-number" data-line-number="749"></td>
        <td id="LC749" class="blob-code js-file-line">        &quot;==============================================================================\n&quot;,</td>
      </tr>
      <tr>
        <td id="L750" class="blob-num js-line-number" data-line-number="750"></td>
        <td id="LC750" class="blob-code js-file-line">        &quot;                 coef    std err          t      P&gt;|t|      [95.0% Conf. Int.]\n&quot;,</td>
      </tr>
      <tr>
        <td id="L751" class="blob-num js-line-number" data-line-number="751"></td>
        <td id="LC751" class="blob-code js-file-line">        &quot;------------------------------------------------------------------------------\n&quot;,</td>
      </tr>
      <tr>
        <td id="L752" class="blob-num js-line-number" data-line-number="752"></td>
        <td id="LC752" class="blob-code js-file-line">        &quot;const          1.1003      0.716      1.537      0.131        -0.341     2.542\n&quot;,</td>
      </tr>
      <tr>
        <td id="L753" class="blob-num js-line-number" data-line-number="753"></td>
        <td id="LC753" class="blob-code js-file-line">        &quot;x1             0.7267      0.220      3.308      0.002         0.284     1.169\n&quot;,</td>
      </tr>
      <tr>
        <td id="L754" class="blob-num js-line-number" data-line-number="754"></td>
        <td id="LC754" class="blob-code js-file-line">        &quot;==============================================================================\n&quot;,</td>
      </tr>
      <tr>
        <td id="L755" class="blob-num js-line-number" data-line-number="755"></td>
        <td id="LC755" class="blob-code js-file-line">        &quot;Omnibus:                        4.709   Durbin-Watson:                   2.232\n&quot;,</td>
      </tr>
      <tr>
        <td id="L756" class="blob-num js-line-number" data-line-number="756"></td>
        <td id="LC756" class="blob-code js-file-line">        &quot;Prob(Omnibus):                  0.095   Jarque-Bera (JB):                4.412\n&quot;,</td>
      </tr>
      <tr>
        <td id="L757" class="blob-num js-line-number" data-line-number="757"></td>
        <td id="LC757" class="blob-code js-file-line">        &quot;Skew:                           0.691   Prob(JB):                        0.110\n&quot;,</td>
      </tr>
      <tr>
        <td id="L758" class="blob-num js-line-number" data-line-number="758"></td>
        <td id="LC758" class="blob-code js-file-line">        &quot;Kurtosis:                       2.413   Cond. No.                         15.4\n&quot;,</td>
      </tr>
      <tr>
        <td id="L759" class="blob-num js-line-number" data-line-number="759"></td>
        <td id="LC759" class="blob-code js-file-line">        &quot;==============================================================================\n&quot;</td>
      </tr>
      <tr>
        <td id="L760" class="blob-num js-line-number" data-line-number="760"></td>
        <td id="LC760" class="blob-code js-file-line">       ]</td>
      </tr>
      <tr>
        <td id="L761" class="blob-num js-line-number" data-line-number="761"></td>
        <td id="LC761" class="blob-code js-file-line">      }</td>
      </tr>
      <tr>
        <td id="L762" class="blob-num js-line-number" data-line-number="762"></td>
        <td id="LC762" class="blob-code js-file-line">     ],</td>
      </tr>
      <tr>
        <td id="L763" class="blob-num js-line-number" data-line-number="763"></td>
        <td id="LC763" class="blob-code js-file-line">     &quot;prompt_number&quot;: 17</td>
      </tr>
      <tr>
        <td id="L764" class="blob-num js-line-number" data-line-number="764"></td>
        <td id="LC764" class="blob-code js-file-line">    },</td>
      </tr>
      <tr>
        <td id="L765" class="blob-num js-line-number" data-line-number="765"></td>
        <td id="LC765" class="blob-code js-file-line">    {</td>
      </tr>
      <tr>
        <td id="L766" class="blob-num js-line-number" data-line-number="766"></td>
        <td id="LC766" class="blob-code js-file-line">     &quot;cell_type&quot;: &quot;markdown&quot;,</td>
      </tr>
      <tr>
        <td id="L767" class="blob-num js-line-number" data-line-number="767"></td>
        <td id="LC767" class="blob-code js-file-line">     &quot;metadata&quot;: {},</td>
      </tr>
      <tr>
        <td id="L768" class="blob-num js-line-number" data-line-number="768"></td>
        <td id="LC768" class="blob-code js-file-line">     &quot;source&quot;: [</td>
      </tr>
      <tr>
        <td id="L769" class="blob-num js-line-number" data-line-number="769"></td>
        <td id="LC769" class="blob-code js-file-line">      &quot;## Function of Age?&quot;</td>
      </tr>
      <tr>
        <td id="L770" class="blob-num js-line-number" data-line-number="770"></td>
        <td id="LC770" class="blob-code js-file-line">     ]</td>
      </tr>
      <tr>
        <td id="L771" class="blob-num js-line-number" data-line-number="771"></td>
        <td id="LC771" class="blob-code js-file-line">    },</td>
      </tr>
      <tr>
        <td id="L772" class="blob-num js-line-number" data-line-number="772"></td>
        <td id="LC772" class="blob-code js-file-line">    {</td>
      </tr>
      <tr>
        <td id="L773" class="blob-num js-line-number" data-line-number="773"></td>
        <td id="LC773" class="blob-code js-file-line">     &quot;cell_type&quot;: &quot;code&quot;,</td>
      </tr>
      <tr>
        <td id="L774" class="blob-num js-line-number" data-line-number="774"></td>
        <td id="LC774" class="blob-code js-file-line">     &quot;collapsed&quot;: false,</td>
      </tr>
      <tr>
        <td id="L775" class="blob-num js-line-number" data-line-number="775"></td>
        <td id="LC775" class="blob-code js-file-line">     &quot;input&quot;: [</td>
      </tr>
      <tr>
        <td id="L776" class="blob-num js-line-number" data-line-number="776"></td>
        <td id="LC776" class="blob-code js-file-line">      &quot;x = data[&#39;age&#39;].values\n&quot;,</td>
      </tr>
      <tr>
        <td id="L777" class="blob-num js-line-number" data-line-number="777"></td>
        <td id="LC777" class="blob-code js-file-line">      &quot;y = data[&#39;price&#39;].values\n&quot;,</td>
      </tr>
      <tr>
        <td id="L778" class="blob-num js-line-number" data-line-number="778"></td>
        <td id="LC778" class="blob-code js-file-line">      &quot;\n&quot;,</td>
      </tr>
      <tr>
        <td id="L779" class="blob-num js-line-number" data-line-number="779"></td>
        <td id="LC779" class="blob-code js-file-line">      &quot;X = sm.add_constant(x, prepend=True)\n&quot;,</td>
      </tr>
      <tr>
        <td id="L780" class="blob-num js-line-number" data-line-number="780"></td>
        <td id="LC780" class="blob-code js-file-line">      &quot;results = sm.OLS(y, X).fit()\n&quot;,</td>
      </tr>
      <tr>
        <td id="L781" class="blob-num js-line-number" data-line-number="781"></td>
        <td id="LC781" class="blob-code js-file-line">      &quot;intercept, slope = results.params\n&quot;,</td>
      </tr>
      <tr>
        <td id="L782" class="blob-num js-line-number" data-line-number="782"></td>
        <td id="LC782" class="blob-code js-file-line">      &quot;r2 = results.rsquared\n&quot;,</td>
      </tr>
      <tr>
        <td id="L783" class="blob-num js-line-number" data-line-number="783"></td>
        <td id="LC783" class="blob-code js-file-line">      &quot;plt.plot(x, y, &#39;bo&#39;)\n&quot;,</td>
      </tr>
      <tr>
        <td id="L784" class="blob-num js-line-number" data-line-number="784"></td>
        <td id="LC784" class="blob-code js-file-line">      &quot;xl = np.array([min(x), max(x)])\n&quot;,</td>
      </tr>
      <tr>
        <td id="L785" class="blob-num js-line-number" data-line-number="785"></td>
        <td id="LC785" class="blob-code js-file-line">      &quot;yl = intercept + slope * xl\n&quot;,</td>
      </tr>
      <tr>
        <td id="L786" class="blob-num js-line-number" data-line-number="786"></td>
        <td id="LC786" class="blob-code js-file-line">      &quot;plt.plot(xl, yl, &#39;r-&#39;)\n&quot;,</td>
      </tr>
      <tr>
        <td id="L787" class="blob-num js-line-number" data-line-number="787"></td>
        <td id="LC787" class="blob-code js-file-line">      &quot;plt.title(r2)\n&quot;,</td>
      </tr>
      <tr>
        <td id="L788" class="blob-num js-line-number" data-line-number="788"></td>
        <td id="LC788" class="blob-code js-file-line">      &quot;plt.show()&quot;</td>
      </tr>
      <tr>
        <td id="L789" class="blob-num js-line-number" data-line-number="789"></td>
        <td id="LC789" class="blob-code js-file-line">     ],</td>
      </tr>
      <tr>
        <td id="L790" class="blob-num js-line-number" data-line-number="790"></td>
        <td id="LC790" class="blob-code js-file-line">     &quot;language&quot;: &quot;python&quot;,</td>
      </tr>
      <tr>
        <td id="L791" class="blob-num js-line-number" data-line-number="791"></td>
        <td id="LC791" class="blob-code js-file-line">     &quot;metadata&quot;: {},</td>
      </tr>
      <tr>
        <td id="L792" class="blob-num js-line-number" data-line-number="792"></td>
        <td id="LC792" class="blob-code js-file-line">     &quot;outputs&quot;: [</td>
      </tr>
      <tr>
        <td id="L793" class="blob-num js-line-number" data-line-number="793"></td>
        <td id="LC793" class="blob-code js-file-line">      {</td>
      </tr>
      <tr>
        <td id="L794" class="blob-num js-line-number" data-line-number="794"></td>
        <td id="LC794" class="blob-code js-file-line">       &quot;metadata&quot;: {},</td>
      </tr>
      <tr>
        <td id="L795" class="blob-num js-line-number" data-line-number="795"></td>
        <td id="LC795" class="blob-code js-file-line">       &quot;output_type&quot;: &quot;display_data&quot;,</td>
      </tr>
      <tr>
        <td id="L796" class="blob-num js-line-number" data-line-number="796"></td>
        <td id="LC796" class="blob-code js-file-line">       &quot;png&quot;: &quot;iVBORw0KGgoAAAANSUhEUgAAAYsAAAEKCAYAAADjDHn2AAAABHNCSVQICAgIfAhkiAAAAAlwSFlz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\nIiIiIiIiIiIiIiIiIiIiIiIiIuXhfwHPK3jXHLLXvgAAAABJRU5ErkJggg==\n&quot;,</td>
      </tr>
      <tr>
        <td id="L797" class="blob-num js-line-number" data-line-number="797"></td>
        <td id="LC797" class="blob-code js-file-line">       &quot;text&quot;: [</td>
      </tr>
      <tr>
        <td id="L798" class="blob-num js-line-number" data-line-number="798"></td>
        <td id="LC798" class="blob-code js-file-line">        &quot;&lt;matplotlib.figure.Figure at 0x10a5f4910&gt;&quot;</td>
      </tr>
      <tr>
        <td id="L799" class="blob-num js-line-number" data-line-number="799"></td>
        <td id="LC799" class="blob-code js-file-line">       ]</td>
      </tr>
      <tr>
        <td id="L800" class="blob-num js-line-number" data-line-number="800"></td>
        <td id="LC800" class="blob-code js-file-line">      }</td>
      </tr>
      <tr>
        <td id="L801" class="blob-num js-line-number" data-line-number="801"></td>
        <td id="LC801" class="blob-code js-file-line">     ],</td>
      </tr>
      <tr>
        <td id="L802" class="blob-num js-line-number" data-line-number="802"></td>
        <td id="LC802" class="blob-code js-file-line">     &quot;prompt_number&quot;: 18</td>
      </tr>
      <tr>
        <td id="L803" class="blob-num js-line-number" data-line-number="803"></td>
        <td id="LC803" class="blob-code js-file-line">    },</td>
      </tr>
      <tr>
        <td id="L804" class="blob-num js-line-number" data-line-number="804"></td>
        <td id="LC804" class="blob-code js-file-line">    {</td>
      </tr>
      <tr>
        <td id="L805" class="blob-num js-line-number" data-line-number="805"></td>
        <td id="LC805" class="blob-code js-file-line">     &quot;cell_type&quot;: &quot;code&quot;,</td>
      </tr>
      <tr>
        <td id="L806" class="blob-num js-line-number" data-line-number="806"></td>
        <td id="LC806" class="blob-code js-file-line">     &quot;collapsed&quot;: false,</td>
      </tr>
      <tr>
        <td id="L807" class="blob-num js-line-number" data-line-number="807"></td>
        <td id="LC807" class="blob-code js-file-line">     &quot;input&quot;: [</td>
      </tr>
      <tr>
        <td id="L808" class="blob-num js-line-number" data-line-number="808"></td>
        <td id="LC808" class="blob-code js-file-line">      &quot;print results.summary()&quot;</td>
      </tr>
      <tr>
        <td id="L809" class="blob-num js-line-number" data-line-number="809"></td>
        <td id="LC809" class="blob-code js-file-line">     ],</td>
      </tr>
      <tr>
        <td id="L810" class="blob-num js-line-number" data-line-number="810"></td>
        <td id="LC810" class="blob-code js-file-line">     &quot;language&quot;: &quot;python&quot;,</td>
      </tr>
      <tr>
        <td id="L811" class="blob-num js-line-number" data-line-number="811"></td>
        <td id="LC811" class="blob-code js-file-line">     &quot;metadata&quot;: {},</td>
      </tr>
      <tr>
        <td id="L812" class="blob-num js-line-number" data-line-number="812"></td>
        <td id="LC812" class="blob-code js-file-line">     &quot;outputs&quot;: [</td>
      </tr>
      <tr>
        <td id="L813" class="blob-num js-line-number" data-line-number="813"></td>
        <td id="LC813" class="blob-code js-file-line">      {</td>
      </tr>
      <tr>
        <td id="L814" class="blob-num js-line-number" data-line-number="814"></td>
        <td id="LC814" class="blob-code js-file-line">       &quot;output_type&quot;: &quot;stream&quot;,</td>
      </tr>
      <tr>
        <td id="L815" class="blob-num js-line-number" data-line-number="815"></td>
        <td id="LC815" class="blob-code js-file-line">       &quot;stream&quot;: &quot;stdout&quot;,</td>
      </tr>
      <tr>
        <td id="L816" class="blob-num js-line-number" data-line-number="816"></td>
        <td id="LC816" class="blob-code js-file-line">       &quot;text&quot;: [</td>
      </tr>
      <tr>
        <td id="L817" class="blob-num js-line-number" data-line-number="817"></td>
        <td id="LC817" class="blob-code js-file-line">        &quot;                            OLS Regression Results                            \n&quot;,</td>
      </tr>
      <tr>
        <td id="L818" class="blob-num js-line-number" data-line-number="818"></td>
        <td id="LC818" class="blob-code js-file-line">        &quot;==============================================================================\n&quot;,</td>
      </tr>
      <tr>
        <td id="L819" class="blob-num js-line-number" data-line-number="819"></td>
        <td id="LC819" class="blob-code js-file-line">        &quot;Dep. Variable:                      y   R-squared:                       0.003\n&quot;,</td>
      </tr>
      <tr>
        <td id="L820" class="blob-num js-line-number" data-line-number="820"></td>
        <td id="LC820" class="blob-code js-file-line">        &quot;Model:                            OLS   Adj. R-squared:                 -0.019\n&quot;,</td>
      </tr>
      <tr>
        <td id="L821" class="blob-num js-line-number" data-line-number="821"></td>
        <td id="LC821" class="blob-code js-file-line">        &quot;Method:                 Least Squares   F-statistic:                    0.1210\n&quot;,</td>
      </tr>
      <tr>
        <td id="L822" class="blob-num js-line-number" data-line-number="822"></td>
        <td id="LC822" class="blob-code js-file-line">        &quot;Date:                Mon, 20 Oct 2014   Prob (F-statistic):              0.730\n&quot;,</td>
      </tr>
      <tr>
        <td id="L823" class="blob-num js-line-number" data-line-number="823"></td>
        <td id="LC823" class="blob-code js-file-line">        &quot;Time:                        21:12:22   Log-Likelihood:                -617.73\n&quot;,</td>
      </tr>
      <tr>
        <td id="L824" class="blob-num js-line-number" data-line-number="824"></td>
        <td id="LC824" class="blob-code js-file-line">        &quot;No. Observations:                  47   AIC:                             1239.\n&quot;,</td>
      </tr>
      <tr>
        <td id="L825" class="blob-num js-line-number" data-line-number="825"></td>
        <td id="LC825" class="blob-code js-file-line">        &quot;Df Residuals:                      45   BIC:                             1243.\n&quot;,</td>
      </tr>
      <tr>
        <td id="L826" class="blob-num js-line-number" data-line-number="826"></td>
        <td id="LC826" class="blob-code js-file-line">        &quot;Df Model:                           1                                         \n&quot;,</td>
      </tr>
      <tr>
        <td id="L827" class="blob-num js-line-number" data-line-number="827"></td>
        <td id="LC827" class="blob-code js-file-line">        &quot;==============================================================================\n&quot;,</td>
      </tr>
      <tr>
        <td id="L828" class="blob-num js-line-number" data-line-number="828"></td>
        <td id="LC828" class="blob-code js-file-line">        &quot;                 coef    std err          t      P&gt;|t|      [95.0% Conf. Int.]\n&quot;,</td>
      </tr>
      <tr>
        <td id="L829" class="blob-num js-line-number" data-line-number="829"></td>
        <td id="LC829" class="blob-code js-file-line">        &quot;------------------------------------------------------------------------------\n&quot;,</td>
      </tr>
      <tr>
        <td id="L830" class="blob-num js-line-number" data-line-number="830"></td>
        <td id="LC830" class="blob-code js-file-line">        &quot;const       3.283e+05   3.94e+04      8.341      0.000      2.49e+05  4.08e+05\n&quot;,</td>
      </tr>
      <tr>
        <td id="L831" class="blob-num js-line-number" data-line-number="831"></td>
        <td id="LC831" class="blob-code js-file-line">        &quot;x1           283.1207    813.819      0.348      0.730     -1355.994  1922.236\n&quot;,</td>
      </tr>
      <tr>
        <td id="L832" class="blob-num js-line-number" data-line-number="832"></td>
        <td id="LC832" class="blob-code js-file-line">        &quot;==============================================================================\n&quot;,</td>
      </tr>
      <tr>
        <td id="L833" class="blob-num js-line-number" data-line-number="833"></td>
        <td id="LC833" class="blob-code js-file-line">        &quot;Omnibus:                        8.665   Durbin-Watson:                   2.063\n&quot;,</td>
      </tr>
      <tr>
        <td id="L834" class="blob-num js-line-number" data-line-number="834"></td>
        <td id="LC834" class="blob-code js-file-line">        &quot;Prob(Omnibus):                  0.013   Jarque-Bera (JB):                8.374\n&quot;,</td>
      </tr>
      <tr>
        <td id="L835" class="blob-num js-line-number" data-line-number="835"></td>
        <td id="LC835" class="blob-code js-file-line">        &quot;Skew:                           1.025   Prob(JB):                       0.0152\n&quot;,</td>
      </tr>
      <tr>
        <td id="L836" class="blob-num js-line-number" data-line-number="836"></td>
        <td id="LC836" class="blob-code js-file-line">        &quot;Kurtosis:                       3.270   Cond. No.                         103.\n&quot;,</td>
      </tr>
      <tr>
        <td id="L837" class="blob-num js-line-number" data-line-number="837"></td>
        <td id="LC837" class="blob-code js-file-line">        &quot;==============================================================================\n&quot;</td>
      </tr>
      <tr>
        <td id="L838" class="blob-num js-line-number" data-line-number="838"></td>
        <td id="LC838" class="blob-code js-file-line">       ]</td>
      </tr>
      <tr>
        <td id="L839" class="blob-num js-line-number" data-line-number="839"></td>
        <td id="LC839" class="blob-code js-file-line">      }</td>
      </tr>
      <tr>
        <td id="L840" class="blob-num js-line-number" data-line-number="840"></td>
        <td id="LC840" class="blob-code js-file-line">     ],</td>
      </tr>
      <tr>
        <td id="L841" class="blob-num js-line-number" data-line-number="841"></td>
        <td id="LC841" class="blob-code js-file-line">     &quot;prompt_number&quot;: 19</td>
      </tr>
      <tr>
        <td id="L842" class="blob-num js-line-number" data-line-number="842"></td>
        <td id="LC842" class="blob-code js-file-line">    },</td>
      </tr>
      <tr>
        <td id="L843" class="blob-num js-line-number" data-line-number="843"></td>
        <td id="LC843" class="blob-code js-file-line">    {</td>
      </tr>
      <tr>
        <td id="L844" class="blob-num js-line-number" data-line-number="844"></td>
        <td id="LC844" class="blob-code js-file-line">     &quot;cell_type&quot;: &quot;code&quot;,</td>
      </tr>
      <tr>
        <td id="L845" class="blob-num js-line-number" data-line-number="845"></td>
        <td id="LC845" class="blob-code js-file-line">     &quot;collapsed&quot;: false,</td>
      </tr>
      <tr>
        <td id="L846" class="blob-num js-line-number" data-line-number="846"></td>
        <td id="LC846" class="blob-code js-file-line">     &quot;input&quot;: [</td>
      </tr>
      <tr>
        <td id="L847" class="blob-num js-line-number" data-line-number="847"></td>
        <td id="LC847" class="blob-code js-file-line">      &quot;x = data_n[&#39;age&#39;].values\n&quot;,</td>
      </tr>
      <tr>
        <td id="L848" class="blob-num js-line-number" data-line-number="848"></td>
        <td id="LC848" class="blob-code js-file-line">      &quot;y = data_n[&#39;price&#39;].values \n&quot;,</td>
      </tr>
      <tr>
        <td id="L849" class="blob-num js-line-number" data-line-number="849"></td>
        <td id="LC849" class="blob-code js-file-line">      &quot;\n&quot;,</td>
      </tr>
      <tr>
        <td id="L850" class="blob-num js-line-number" data-line-number="850"></td>
        <td id="LC850" class="blob-code js-file-line">      &quot;X = sm.add_constant(x, prepend=True)\n&quot;,</td>
      </tr>
      <tr>
        <td id="L851" class="blob-num js-line-number" data-line-number="851"></td>
        <td id="LC851" class="blob-code js-file-line">      &quot;results = sm.OLS(y, X).fit()\n&quot;,</td>
      </tr>
      <tr>
        <td id="L852" class="blob-num js-line-number" data-line-number="852"></td>
        <td id="LC852" class="blob-code js-file-line">      &quot;intercept, slope = results.params\n&quot;,</td>
      </tr>
      <tr>
        <td id="L853" class="blob-num js-line-number" data-line-number="853"></td>
        <td id="LC853" class="blob-code js-file-line">      &quot;r2 = results.rsquared\n&quot;,</td>
      </tr>
      <tr>
        <td id="L854" class="blob-num js-line-number" data-line-number="854"></td>
        <td id="LC854" class="blob-code js-file-line">      &quot;plt.plot(x, y, &#39;bo&#39;)\n&quot;,</td>
      </tr>
      <tr>
        <td id="L855" class="blob-num js-line-number" data-line-number="855"></td>
        <td id="LC855" class="blob-code js-file-line">      &quot;xl = np.array([min(x), max(x)])\n&quot;,</td>
      </tr>
      <tr>
        <td id="L856" class="blob-num js-line-number" data-line-number="856"></td>
        <td id="LC856" class="blob-code js-file-line">      &quot;yl = intercept + slope * xl\n&quot;,</td>
      </tr>
      <tr>
        <td id="L857" class="blob-num js-line-number" data-line-number="857"></td>
        <td id="LC857" class="blob-code js-file-line">      &quot;plt.plot(xl, yl, &#39;r-&#39;)\n&quot;,</td>
      </tr>
      <tr>
        <td id="L858" class="blob-num js-line-number" data-line-number="858"></td>
        <td id="LC858" class="blob-code js-file-line">      &quot;plt.show()&quot;</td>
      </tr>
      <tr>
        <td id="L859" class="blob-num js-line-number" data-line-number="859"></td>
        <td id="LC859" class="blob-code js-file-line">     ],</td>
      </tr>
      <tr>
        <td id="L860" class="blob-num js-line-number" data-line-number="860"></td>
        <td id="LC860" class="blob-code js-file-line">     &quot;language&quot;: &quot;python&quot;,</td>
      </tr>
      <tr>
        <td id="L861" class="blob-num js-line-number" data-line-number="861"></td>
        <td id="LC861" class="blob-code js-file-line">     &quot;metadata&quot;: {},</td>
      </tr>
      <tr>
        <td id="L862" class="blob-num js-line-number" data-line-number="862"></td>
        <td id="LC862" class="blob-code js-file-line">     &quot;outputs&quot;: [</td>
      </tr>
      <tr>
        <td id="L863" class="blob-num js-line-number" data-line-number="863"></td>
        <td id="LC863" class="blob-code js-file-line">      {</td>
      </tr>
      <tr>
        <td id="L864" class="blob-num js-line-number" data-line-number="864"></td>
        <td id="LC864" class="blob-code js-file-line">       &quot;metadata&quot;: {},</td>
      </tr>
      <tr>
        <td id="L865" class="blob-num js-line-number" data-line-number="865"></td>
        <td id="LC865" class="blob-code js-file-line">       &quot;output_type&quot;: &quot;display_data&quot;,</td>
      </tr>
      <tr>
        <td id="L866" class="blob-num js-line-number" data-line-number="866"></td>
        <td id="LC866" class="blob-code js-file-line">       &quot;png&quot;: &quot;iVBORw0KGgoAAAANSUhEUgAAAWgAAAEACAYAAACeQuziAAAABHNCSVQICAgIfAhkiAAAAAlwSFlz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\nJEmSJEmSJEmSJKXj/wEV6hz/fXIbBQAAAABJRU5ErkJggg==\n&quot;,</td>
      </tr>
      <tr>
        <td id="L867" class="blob-num js-line-number" data-line-number="867"></td>
        <td id="LC867" class="blob-code js-file-line">       &quot;text&quot;: [</td>
      </tr>
      <tr>
        <td id="L868" class="blob-num js-line-number" data-line-number="868"></td>
        <td id="LC868" class="blob-code js-file-line">        &quot;&lt;matplotlib.figure.Figure at 0x10a855450&gt;&quot;</td>
      </tr>
      <tr>
        <td id="L869" class="blob-num js-line-number" data-line-number="869"></td>
        <td id="LC869" class="blob-code js-file-line">       ]</td>
      </tr>
      <tr>
        <td id="L870" class="blob-num js-line-number" data-line-number="870"></td>
        <td id="LC870" class="blob-code js-file-line">      }</td>
      </tr>
      <tr>
        <td id="L871" class="blob-num js-line-number" data-line-number="871"></td>
        <td id="LC871" class="blob-code js-file-line">     ],</td>
      </tr>
      <tr>
        <td id="L872" class="blob-num js-line-number" data-line-number="872"></td>
        <td id="LC872" class="blob-code js-file-line">     &quot;prompt_number&quot;: 20</td>
      </tr>
      <tr>
        <td id="L873" class="blob-num js-line-number" data-line-number="873"></td>
        <td id="LC873" class="blob-code js-file-line">    },</td>
      </tr>
      <tr>
        <td id="L874" class="blob-num js-line-number" data-line-number="874"></td>
        <td id="LC874" class="blob-code js-file-line">    {</td>
      </tr>
      <tr>
        <td id="L875" class="blob-num js-line-number" data-line-number="875"></td>
        <td id="LC875" class="blob-code js-file-line">     &quot;cell_type&quot;: &quot;code&quot;,</td>
      </tr>
      <tr>
        <td id="L876" class="blob-num js-line-number" data-line-number="876"></td>
        <td id="LC876" class="blob-code js-file-line">     &quot;collapsed&quot;: false,</td>
      </tr>
      <tr>
        <td id="L877" class="blob-num js-line-number" data-line-number="877"></td>
        <td id="LC877" class="blob-code js-file-line">     &quot;input&quot;: [</td>
      </tr>
      <tr>
        <td id="L878" class="blob-num js-line-number" data-line-number="878"></td>
        <td id="LC878" class="blob-code js-file-line">      &quot;print results.summary()&quot;</td>
      </tr>
      <tr>
        <td id="L879" class="blob-num js-line-number" data-line-number="879"></td>
        <td id="LC879" class="blob-code js-file-line">     ],</td>
      </tr>
      <tr>
        <td id="L880" class="blob-num js-line-number" data-line-number="880"></td>
        <td id="LC880" class="blob-code js-file-line">     &quot;language&quot;: &quot;python&quot;,</td>
      </tr>
      <tr>
        <td id="L881" class="blob-num js-line-number" data-line-number="881"></td>
        <td id="LC881" class="blob-code js-file-line">     &quot;metadata&quot;: {},</td>
      </tr>
      <tr>
        <td id="L882" class="blob-num js-line-number" data-line-number="882"></td>
        <td id="LC882" class="blob-code js-file-line">     &quot;outputs&quot;: [</td>
      </tr>
      <tr>
        <td id="L883" class="blob-num js-line-number" data-line-number="883"></td>
        <td id="LC883" class="blob-code js-file-line">      {</td>
      </tr>
      <tr>
        <td id="L884" class="blob-num js-line-number" data-line-number="884"></td>
        <td id="LC884" class="blob-code js-file-line">       &quot;output_type&quot;: &quot;stream&quot;,</td>
      </tr>
      <tr>
        <td id="L885" class="blob-num js-line-number" data-line-number="885"></td>
        <td id="LC885" class="blob-code js-file-line">       &quot;stream&quot;: &quot;stdout&quot;,</td>
      </tr>
      <tr>
        <td id="L886" class="blob-num js-line-number" data-line-number="886"></td>
        <td id="LC886" class="blob-code js-file-line">       &quot;text&quot;: [</td>
      </tr>
      <tr>
        <td id="L887" class="blob-num js-line-number" data-line-number="887"></td>
        <td id="LC887" class="blob-code js-file-line">        &quot;                            OLS Regression Results                            \n&quot;,</td>
      </tr>
      <tr>
        <td id="L888" class="blob-num js-line-number" data-line-number="888"></td>
        <td id="LC888" class="blob-code js-file-line">        &quot;==============================================================================\n&quot;,</td>
      </tr>
      <tr>
        <td id="L889" class="blob-num js-line-number" data-line-number="889"></td>
        <td id="LC889" class="blob-code js-file-line">        &quot;Dep. Variable:                      y   R-squared:                       0.003\n&quot;,</td>
      </tr>
      <tr>
        <td id="L890" class="blob-num js-line-number" data-line-number="890"></td>
        <td id="LC890" class="blob-code js-file-line">        &quot;Model:                            OLS   Adj. R-squared:                 -0.019\n&quot;,</td>
      </tr>
      <tr>
        <td id="L891" class="blob-num js-line-number" data-line-number="891"></td>
        <td id="LC891" class="blob-code js-file-line">        &quot;Method:                 Least Squares   F-statistic:                    0.1210\n&quot;,</td>
      </tr>
      <tr>
        <td id="L892" class="blob-num js-line-number" data-line-number="892"></td>
        <td id="LC892" class="blob-code js-file-line">        &quot;Date:                Mon, 20 Oct 2014   Prob (F-statistic):              0.730\n&quot;,</td>
      </tr>
      <tr>
        <td id="L893" class="blob-num js-line-number" data-line-number="893"></td>
        <td id="LC893" class="blob-code js-file-line">        &quot;Time:                        21:12:23   Log-Likelihood:                -76.624\n&quot;,</td>
      </tr>
      <tr>
        <td id="L894" class="blob-num js-line-number" data-line-number="894"></td>
        <td id="LC894" class="blob-code js-file-line">        &quot;No. Observations:                  47   AIC:                             157.2\n&quot;,</td>
      </tr>
      <tr>
        <td id="L895" class="blob-num js-line-number" data-line-number="895"></td>
        <td id="LC895" class="blob-code js-file-line">        &quot;Df Residuals:                      45   BIC:                             160.9\n&quot;,</td>
      </tr>
      <tr>
        <td id="L896" class="blob-num js-line-number" data-line-number="896"></td>
        <td id="LC896" class="blob-code js-file-line">        &quot;Df Model:                           1                                         \n&quot;,</td>
      </tr>
      <tr>
        <td id="L897" class="blob-num js-line-number" data-line-number="897"></td>
        <td id="LC897" class="blob-code js-file-line">        &quot;==============================================================================\n&quot;,</td>
      </tr>
      <tr>
        <td id="L898" class="blob-num js-line-number" data-line-number="898"></td>
        <td id="LC898" class="blob-code js-file-line">        &quot;                 coef    std err          t      P&gt;|t|      [95.0% Conf. Int.]\n&quot;,</td>
      </tr>
      <tr>
        <td id="L899" class="blob-num js-line-number" data-line-number="899"></td>
        <td id="LC899" class="blob-code js-file-line">        &quot;------------------------------------------------------------------------------\n&quot;,</td>
      </tr>
      <tr>
        <td id="L900" class="blob-num js-line-number" data-line-number="900"></td>
        <td id="LC900" class="blob-code js-file-line">        &quot;const          3.2831      0.394      8.341      0.000         2.490     4.076\n&quot;,</td>
      </tr>
      <tr>
        <td id="L901" class="blob-num js-line-number" data-line-number="901"></td>
        <td id="LC901" class="blob-code js-file-line">        &quot;x1             0.0283      0.081      0.348      0.730        -0.136     0.192\n&quot;,</td>
      </tr>
      <tr>
        <td id="L902" class="blob-num js-line-number" data-line-number="902"></td>
        <td id="LC902" class="blob-code js-file-line">        &quot;==============================================================================\n&quot;,</td>
      </tr>
      <tr>
        <td id="L903" class="blob-num js-line-number" data-line-number="903"></td>
        <td id="LC903" class="blob-code js-file-line">        &quot;Omnibus:                        8.665   Durbin-Watson:                   2.063\n&quot;,</td>
      </tr>
      <tr>
        <td id="L904" class="blob-num js-line-number" data-line-number="904"></td>
        <td id="LC904" class="blob-code js-file-line">        &quot;Prob(Omnibus):                  0.013   Jarque-Bera (JB):                8.374\n&quot;,</td>
      </tr>
      <tr>
        <td id="L905" class="blob-num js-line-number" data-line-number="905"></td>
        <td id="LC905" class="blob-code js-file-line">        &quot;Skew:                           1.025   Prob(JB):                       0.0152\n&quot;,</td>
      </tr>
      <tr>
        <td id="L906" class="blob-num js-line-number" data-line-number="906"></td>
        <td id="LC906" class="blob-code js-file-line">        &quot;Kurtosis:                       3.270   Cond. No.                         10.7\n&quot;,</td>
      </tr>
      <tr>
        <td id="L907" class="blob-num js-line-number" data-line-number="907"></td>
        <td id="LC907" class="blob-code js-file-line">        &quot;==============================================================================\n&quot;</td>
      </tr>
      <tr>
        <td id="L908" class="blob-num js-line-number" data-line-number="908"></td>
        <td id="LC908" class="blob-code js-file-line">       ]</td>
      </tr>
      <tr>
        <td id="L909" class="blob-num js-line-number" data-line-number="909"></td>
        <td id="LC909" class="blob-code js-file-line">      }</td>
      </tr>
      <tr>
        <td id="L910" class="blob-num js-line-number" data-line-number="910"></td>
        <td id="LC910" class="blob-code js-file-line">     ],</td>
      </tr>
      <tr>
        <td id="L911" class="blob-num js-line-number" data-line-number="911"></td>
        <td id="LC911" class="blob-code js-file-line">     &quot;prompt_number&quot;: 21</td>
      </tr>
      <tr>
        <td id="L912" class="blob-num js-line-number" data-line-number="912"></td>
        <td id="LC912" class="blob-code js-file-line">    },</td>
      </tr>
      <tr>
        <td id="L913" class="blob-num js-line-number" data-line-number="913"></td>
        <td id="LC913" class="blob-code js-file-line">    {</td>
      </tr>
      <tr>
        <td id="L914" class="blob-num js-line-number" data-line-number="914"></td>
        <td id="LC914" class="blob-code js-file-line">     &quot;cell_type&quot;: &quot;markdown&quot;,</td>
      </tr>
      <tr>
        <td id="L915" class="blob-num js-line-number" data-line-number="915"></td>
        <td id="LC915" class="blob-code js-file-line">     &quot;metadata&quot;: {},</td>
      </tr>
      <tr>
        <td id="L916" class="blob-num js-line-number" data-line-number="916"></td>
        <td id="LC916" class="blob-code js-file-line">     &quot;source&quot;: [</td>
      </tr>
      <tr>
        <td id="L917" class="blob-num js-line-number" data-line-number="917"></td>
        <td id="LC917" class="blob-code js-file-line">      &quot;## Function of multiple variables&quot;</td>
      </tr>
      <tr>
        <td id="L918" class="blob-num js-line-number" data-line-number="918"></td>
        <td id="LC918" class="blob-code js-file-line">     ]</td>
      </tr>
      <tr>
        <td id="L919" class="blob-num js-line-number" data-line-number="919"></td>
        <td id="LC919" class="blob-code js-file-line">    },</td>
      </tr>
      <tr>
        <td id="L920" class="blob-num js-line-number" data-line-number="920"></td>
        <td id="LC920" class="blob-code js-file-line">    {</td>
      </tr>
      <tr>
        <td id="L921" class="blob-num js-line-number" data-line-number="921"></td>
        <td id="LC921" class="blob-code js-file-line">     &quot;cell_type&quot;: &quot;code&quot;,</td>
      </tr>
      <tr>
        <td id="L922" class="blob-num js-line-number" data-line-number="922"></td>
        <td id="LC922" class="blob-code js-file-line">     &quot;collapsed&quot;: false,</td>
      </tr>
      <tr>
        <td id="L923" class="blob-num js-line-number" data-line-number="923"></td>
        <td id="LC923" class="blob-code js-file-line">     &quot;input&quot;: [</td>
      </tr>
      <tr>
        <td id="L924" class="blob-num js-line-number" data-line-number="924"></td>
        <td id="LC924" class="blob-code js-file-line">      &quot;x = data_n[[&#39;sqft&#39;, &#39;bedrooms&#39;,&#39;age&#39;]].values\n&quot;,</td>
      </tr>
      <tr>
        <td id="L925" class="blob-num js-line-number" data-line-number="925"></td>
        <td id="LC925" class="blob-code js-file-line">      &quot;y = data_n[&#39;price&#39;].values\n&quot;,</td>
      </tr>
      <tr>
        <td id="L926" class="blob-num js-line-number" data-line-number="926"></td>
        <td id="LC926" class="blob-code js-file-line">      &quot;\n&quot;,</td>
      </tr>
      <tr>
        <td id="L927" class="blob-num js-line-number" data-line-number="927"></td>
        <td id="LC927" class="blob-code js-file-line">      &quot;X = sm.add_constant(x, prepend=True)\n&quot;,</td>
      </tr>
      <tr>
        <td id="L928" class="blob-num js-line-number" data-line-number="928"></td>
        <td id="LC928" class="blob-code js-file-line">      &quot;results = sm.OLS(y, X).fit()&quot;</td>
      </tr>
      <tr>
        <td id="L929" class="blob-num js-line-number" data-line-number="929"></td>
        <td id="LC929" class="blob-code js-file-line">     ],</td>
      </tr>
      <tr>
        <td id="L930" class="blob-num js-line-number" data-line-number="930"></td>
        <td id="LC930" class="blob-code js-file-line">     &quot;language&quot;: &quot;python&quot;,</td>
      </tr>
      <tr>
        <td id="L931" class="blob-num js-line-number" data-line-number="931"></td>
        <td id="LC931" class="blob-code js-file-line">     &quot;metadata&quot;: {},</td>
      </tr>
      <tr>
        <td id="L932" class="blob-num js-line-number" data-line-number="932"></td>
        <td id="LC932" class="blob-code js-file-line">     &quot;outputs&quot;: [],</td>
      </tr>
      <tr>
        <td id="L933" class="blob-num js-line-number" data-line-number="933"></td>
        <td id="LC933" class="blob-code js-file-line">     &quot;prompt_number&quot;: 22</td>
      </tr>
      <tr>
        <td id="L934" class="blob-num js-line-number" data-line-number="934"></td>
        <td id="LC934" class="blob-code js-file-line">    },</td>
      </tr>
      <tr>
        <td id="L935" class="blob-num js-line-number" data-line-number="935"></td>
        <td id="LC935" class="blob-code js-file-line">    {</td>
      </tr>
      <tr>
        <td id="L936" class="blob-num js-line-number" data-line-number="936"></td>
        <td id="LC936" class="blob-code js-file-line">     &quot;cell_type&quot;: &quot;code&quot;,</td>
      </tr>
      <tr>
        <td id="L937" class="blob-num js-line-number" data-line-number="937"></td>
        <td id="LC937" class="blob-code js-file-line">     &quot;collapsed&quot;: false,</td>
      </tr>
      <tr>
        <td id="L938" class="blob-num js-line-number" data-line-number="938"></td>
        <td id="LC938" class="blob-code js-file-line">     &quot;input&quot;: [</td>
      </tr>
      <tr>
        <td id="L939" class="blob-num js-line-number" data-line-number="939"></td>
        <td id="LC939" class="blob-code js-file-line">      &quot;results.summary()&quot;</td>
      </tr>
      <tr>
        <td id="L940" class="blob-num js-line-number" data-line-number="940"></td>
        <td id="LC940" class="blob-code js-file-line">     ],</td>
      </tr>
      <tr>
        <td id="L941" class="blob-num js-line-number" data-line-number="941"></td>
        <td id="LC941" class="blob-code js-file-line">     &quot;language&quot;: &quot;python&quot;,</td>
      </tr>
      <tr>
        <td id="L942" class="blob-num js-line-number" data-line-number="942"></td>
        <td id="LC942" class="blob-code js-file-line">     &quot;metadata&quot;: {},</td>
      </tr>
      <tr>
        <td id="L943" class="blob-num js-line-number" data-line-number="943"></td>
        <td id="LC943" class="blob-code js-file-line">     &quot;outputs&quot;: [</td>
      </tr>
      <tr>
        <td id="L944" class="blob-num js-line-number" data-line-number="944"></td>
        <td id="LC944" class="blob-code js-file-line">      {</td>
      </tr>
      <tr>
        <td id="L945" class="blob-num js-line-number" data-line-number="945"></td>
        <td id="LC945" class="blob-code js-file-line">       &quot;html&quot;: [</td>
      </tr>
      <tr>
        <td id="L946" class="blob-num js-line-number" data-line-number="946"></td>
        <td id="LC946" class="blob-code js-file-line">        &quot;&lt;table class=\&quot;simpletable\&quot;&gt;\n&quot;,</td>
      </tr>
      <tr>
        <td id="L947" class="blob-num js-line-number" data-line-number="947"></td>
        <td id="LC947" class="blob-code js-file-line">        &quot;&lt;caption&gt;OLS Regression Results&lt;/caption&gt;\n&quot;,</td>
      </tr>
      <tr>
        <td id="L948" class="blob-num js-line-number" data-line-number="948"></td>
        <td id="LC948" class="blob-code js-file-line">        &quot;&lt;tr&gt;\n&quot;,</td>
      </tr>
      <tr>
        <td id="L949" class="blob-num js-line-number" data-line-number="949"></td>
        <td id="LC949" class="blob-code js-file-line">        &quot;  &lt;th&gt;Dep. Variable:&lt;/th&gt;            &lt;td&gt;y&lt;/td&gt;        &lt;th&gt;  R-squared:         &lt;/th&gt; &lt;td&gt;   0.733&lt;/td&gt;\n&quot;,</td>
      </tr>
      <tr>
        <td id="L950" class="blob-num js-line-number" data-line-number="950"></td>
        <td id="LC950" class="blob-code js-file-line">        &quot;&lt;/tr&gt;\n&quot;,</td>
      </tr>
      <tr>
        <td id="L951" class="blob-num js-line-number" data-line-number="951"></td>
        <td id="LC951" class="blob-code js-file-line">        &quot;&lt;tr&gt;\n&quot;,</td>
      </tr>
      <tr>
        <td id="L952" class="blob-num js-line-number" data-line-number="952"></td>
        <td id="LC952" class="blob-code js-file-line">        &quot;  &lt;th&gt;Model:&lt;/th&gt;                   &lt;td&gt;OLS&lt;/td&gt;       &lt;th&gt;  Adj. R-squared:    &lt;/th&gt; &lt;td&gt;   0.715&lt;/td&gt;\n&quot;,</td>
      </tr>
      <tr>
        <td id="L953" class="blob-num js-line-number" data-line-number="953"></td>
        <td id="LC953" class="blob-code js-file-line">        &quot;&lt;/tr&gt;\n&quot;,</td>
      </tr>
      <tr>
        <td id="L954" class="blob-num js-line-number" data-line-number="954"></td>
        <td id="LC954" class="blob-code js-file-line">        &quot;&lt;tr&gt;\n&quot;,</td>
      </tr>
      <tr>
        <td id="L955" class="blob-num js-line-number" data-line-number="955"></td>
        <td id="LC955" class="blob-code js-file-line">        &quot;  &lt;th&gt;Method:&lt;/th&gt;             &lt;td&gt;Least Squares&lt;/td&gt;  &lt;th&gt;  F-statistic:       &lt;/th&gt; &lt;td&gt;   39.38&lt;/td&gt;\n&quot;,</td>
      </tr>
      <tr>
        <td id="L956" class="blob-num js-line-number" data-line-number="956"></td>
        <td id="LC956" class="blob-code js-file-line">        &quot;&lt;/tr&gt;\n&quot;,</td>
      </tr>
      <tr>
        <td id="L957" class="blob-num js-line-number" data-line-number="957"></td>
        <td id="LC957" class="blob-code js-file-line">        &quot;&lt;tr&gt;\n&quot;,</td>
      </tr>
      <tr>
        <td id="L958" class="blob-num js-line-number" data-line-number="958"></td>
        <td id="LC958" class="blob-code js-file-line">        &quot;  &lt;th&gt;Date:&lt;/th&gt;             &lt;td&gt;Mon, 20 Oct 2014&lt;/td&gt; &lt;th&gt;  Prob (F-statistic):&lt;/th&gt; &lt;td&gt;2.12e-12&lt;/td&gt;\n&quot;,</td>
      </tr>
      <tr>
        <td id="L959" class="blob-num js-line-number" data-line-number="959"></td>
        <td id="LC959" class="blob-code js-file-line">        &quot;&lt;/tr&gt;\n&quot;,</td>
      </tr>
      <tr>
        <td id="L960" class="blob-num js-line-number" data-line-number="960"></td>
        <td id="LC960" class="blob-code js-file-line">        &quot;&lt;tr&gt;\n&quot;,</td>
      </tr>
      <tr>
        <td id="L961" class="blob-num js-line-number" data-line-number="961"></td>
        <td id="LC961" class="blob-code js-file-line">        &quot;  &lt;th&gt;Time:&lt;/th&gt;                 &lt;td&gt;21:12:23&lt;/td&gt;     &lt;th&gt;  Log-Likelihood:    &lt;/th&gt; &lt;td&gt; -45.641&lt;/td&gt;\n&quot;,</td>
      </tr>
      <tr>
        <td id="L962" class="blob-num js-line-number" data-line-number="962"></td>
        <td id="LC962" class="blob-code js-file-line">        &quot;&lt;/tr&gt;\n&quot;,</td>
      </tr>
      <tr>
        <td id="L963" class="blob-num js-line-number" data-line-number="963"></td>
        <td id="LC963" class="blob-code js-file-line">        &quot;&lt;tr&gt;\n&quot;,</td>
      </tr>
      <tr>
        <td id="L964" class="blob-num js-line-number" data-line-number="964"></td>
        <td id="LC964" class="blob-code js-file-line">        &quot;  &lt;th&gt;No. Observations:&lt;/th&gt;      &lt;td&gt;    47&lt;/td&gt;      &lt;th&gt;  AIC:               &lt;/th&gt; &lt;td&gt;   99.28&lt;/td&gt;\n&quot;,</td>
      </tr>
      <tr>
        <td id="L965" class="blob-num js-line-number" data-line-number="965"></td>
        <td id="LC965" class="blob-code js-file-line">        &quot;&lt;/tr&gt;\n&quot;,</td>
      </tr>
      <tr>
        <td id="L966" class="blob-num js-line-number" data-line-number="966"></td>
        <td id="LC966" class="blob-code js-file-line">        &quot;&lt;tr&gt;\n&quot;,</td>
      </tr>
      <tr>
        <td id="L967" class="blob-num js-line-number" data-line-number="967"></td>
        <td id="LC967" class="blob-code js-file-line">        &quot;  &lt;th&gt;Df Residuals:&lt;/th&gt;          &lt;td&gt;    43&lt;/td&gt;      &lt;th&gt;  BIC:               &lt;/th&gt; &lt;td&gt;   106.7&lt;/td&gt;\n&quot;,</td>
      </tr>
      <tr>
        <td id="L968" class="blob-num js-line-number" data-line-number="968"></td>
        <td id="LC968" class="blob-code js-file-line">        &quot;&lt;/tr&gt;\n&quot;,</td>
      </tr>
      <tr>
        <td id="L969" class="blob-num js-line-number" data-line-number="969"></td>
        <td id="LC969" class="blob-code js-file-line">        &quot;&lt;tr&gt;\n&quot;,</td>
      </tr>
      <tr>
        <td id="L970" class="blob-num js-line-number" data-line-number="970"></td>
        <td id="LC970" class="blob-code js-file-line">        &quot;  &lt;th&gt;Df Model:&lt;/th&gt;              &lt;td&gt;     3&lt;/td&gt;      &lt;th&gt;                     &lt;/th&gt;     &lt;td&gt; &lt;/td&gt;   \n&quot;,</td>
      </tr>
      <tr>
        <td id="L971" class="blob-num js-line-number" data-line-number="971"></td>
        <td id="LC971" class="blob-code js-file-line">        &quot;&lt;/tr&gt;\n&quot;,</td>
      </tr>
      <tr>
        <td id="L972" class="blob-num js-line-number" data-line-number="972"></td>
        <td id="LC972" class="blob-code js-file-line">        &quot;&lt;/table&gt;\n&quot;,</td>
      </tr>
      <tr>
        <td id="L973" class="blob-num js-line-number" data-line-number="973"></td>
        <td id="LC973" class="blob-code js-file-line">        &quot;&lt;table class=\&quot;simpletable\&quot;&gt;\n&quot;,</td>
      </tr>
      <tr>
        <td id="L974" class="blob-num js-line-number" data-line-number="974"></td>
        <td id="LC974" class="blob-code js-file-line">        &quot;&lt;tr&gt;\n&quot;,</td>
      </tr>
      <tr>
        <td id="L975" class="blob-num js-line-number" data-line-number="975"></td>
        <td id="LC975" class="blob-code js-file-line">        &quot;    &lt;td&gt;&lt;/td&gt;       &lt;th&gt;coef&lt;/th&gt;     &lt;th&gt;std err&lt;/th&gt;      &lt;th&gt;t&lt;/th&gt;      &lt;th&gt;P&gt;|t|&lt;/th&gt; &lt;th&gt;[95.0% Conf. Int.]&lt;/th&gt; \n&quot;,</td>
      </tr>
      <tr>
        <td id="L976" class="blob-num js-line-number" data-line-number="976"></td>
        <td id="LC976" class="blob-code js-file-line">        &quot;&lt;/tr&gt;\n&quot;,</td>
      </tr>
      <tr>
        <td id="L977" class="blob-num js-line-number" data-line-number="977"></td>
        <td id="LC977" class="blob-code js-file-line">        &quot;&lt;tr&gt;\n&quot;,</td>
      </tr>
      <tr>
        <td id="L978" class="blob-num js-line-number" data-line-number="978"></td>
        <td id="LC978" class="blob-code js-file-line">        &quot;  &lt;th&gt;const&lt;/th&gt; &lt;td&gt;    0.9245&lt;/td&gt; &lt;td&gt;    0.449&lt;/td&gt; &lt;td&gt;    2.060&lt;/td&gt; &lt;td&gt; 0.045&lt;/td&gt; &lt;td&gt;    0.019     1.830&lt;/td&gt;\n&quot;,</td>
      </tr>
      <tr>
        <td id="L979" class="blob-num js-line-number" data-line-number="979"></td>
        <td id="LC979" class="blob-code js-file-line">        &quot;&lt;/tr&gt;\n&quot;,</td>
      </tr>
      <tr>
        <td id="L980" class="blob-num js-line-number" data-line-number="980"></td>
        <td id="LC980" class="blob-code js-file-line">        &quot;&lt;tr&gt;\n&quot;,</td>
      </tr>
      <tr>
        <td id="L981" class="blob-num js-line-number" data-line-number="981"></td>
        <td id="LC981" class="blob-code js-file-line">        &quot;  &lt;th&gt;x1&lt;/th&gt;    &lt;td&gt;    1.3933&lt;/td&gt; &lt;td&gt;    0.150&lt;/td&gt; &lt;td&gt;    9.305&lt;/td&gt; &lt;td&gt; 0.000&lt;/td&gt; &lt;td&gt;    1.091     1.695&lt;/td&gt;\n&quot;,</td>
      </tr>
      <tr>
        <td id="L982" class="blob-num js-line-number" data-line-number="982"></td>
        <td id="LC982" class="blob-code js-file-line">        &quot;&lt;/tr&gt;\n&quot;,</td>
      </tr>
      <tr>
        <td id="L983" class="blob-num js-line-number" data-line-number="983"></td>
        <td id="LC983" class="blob-code js-file-line">        &quot;&lt;tr&gt;\n&quot;,</td>
      </tr>
      <tr>
        <td id="L984" class="blob-num js-line-number" data-line-number="984"></td>
        <td id="LC984" class="blob-code js-file-line">        &quot;  &lt;th&gt;x2&lt;/th&gt;    &lt;td&gt;   -0.0862&lt;/td&gt; &lt;td&gt;    0.156&lt;/td&gt; &lt;td&gt;   -0.551&lt;/td&gt; &lt;td&gt; 0.584&lt;/td&gt; &lt;td&gt;   -0.402     0.229&lt;/td&gt;\n&quot;,</td>
      </tr>
      <tr>
        <td id="L985" class="blob-num js-line-number" data-line-number="985"></td>
        <td id="LC985" class="blob-code js-file-line">        &quot;&lt;/tr&gt;\n&quot;,</td>
      </tr>
      <tr>
        <td id="L986" class="blob-num js-line-number" data-line-number="986"></td>
        <td id="LC986" class="blob-code js-file-line">        &quot;&lt;tr&gt;\n&quot;,</td>
      </tr>
      <tr>
        <td id="L987" class="blob-num js-line-number" data-line-number="987"></td>
        <td id="LC987" class="blob-code js-file-line">        &quot;  &lt;th&gt;x3&lt;/th&gt;    &lt;td&gt;   -0.0081&lt;/td&gt; &lt;td&gt;    0.043&lt;/td&gt; &lt;td&gt;   -0.188&lt;/td&gt; &lt;td&gt; 0.852&lt;/td&gt; &lt;td&gt;   -0.095     0.079&lt;/td&gt;\n&quot;,</td>
      </tr>
      <tr>
        <td id="L988" class="blob-num js-line-number" data-line-number="988"></td>
        <td id="LC988" class="blob-code js-file-line">        &quot;&lt;/tr&gt;\n&quot;,</td>
      </tr>
      <tr>
        <td id="L989" class="blob-num js-line-number" data-line-number="989"></td>
        <td id="LC989" class="blob-code js-file-line">        &quot;&lt;/table&gt;\n&quot;,</td>
      </tr>
      <tr>
        <td id="L990" class="blob-num js-line-number" data-line-number="990"></td>
        <td id="LC990" class="blob-code js-file-line">        &quot;&lt;table class=\&quot;simpletable\&quot;&gt;\n&quot;,</td>
      </tr>
      <tr>
        <td id="L991" class="blob-num js-line-number" data-line-number="991"></td>
        <td id="LC991" class="blob-code js-file-line">        &quot;&lt;tr&gt;\n&quot;,</td>
      </tr>
      <tr>
        <td id="L992" class="blob-num js-line-number" data-line-number="992"></td>
        <td id="LC992" class="blob-code js-file-line">        &quot;  &lt;th&gt;Omnibus:&lt;/th&gt;       &lt;td&gt; 3.841&lt;/td&gt; &lt;th&gt;  Durbin-Watson:     &lt;/th&gt; &lt;td&gt;   1.819&lt;/td&gt;\n&quot;,</td>
      </tr>
      <tr>
        <td id="L993" class="blob-num js-line-number" data-line-number="993"></td>
        <td id="LC993" class="blob-code js-file-line">        &quot;&lt;/tr&gt;\n&quot;,</td>
      </tr>
      <tr>
        <td id="L994" class="blob-num js-line-number" data-line-number="994"></td>
        <td id="LC994" class="blob-code js-file-line">        &quot;&lt;tr&gt;\n&quot;,</td>
      </tr>
      <tr>
        <td id="L995" class="blob-num js-line-number" data-line-number="995"></td>
        <td id="LC995" class="blob-code js-file-line">        &quot;  &lt;th&gt;Prob(Omnibus):&lt;/th&gt; &lt;td&gt; 0.147&lt;/td&gt; &lt;th&gt;  Jarque-Bera (JB):  &lt;/th&gt; &lt;td&gt;   2.771&lt;/td&gt;\n&quot;,</td>
      </tr>
      <tr>
        <td id="L996" class="blob-num js-line-number" data-line-number="996"></td>
        <td id="LC996" class="blob-code js-file-line">        &quot;&lt;/tr&gt;\n&quot;,</td>
      </tr>
      <tr>
        <td id="L997" class="blob-num js-line-number" data-line-number="997"></td>
        <td id="LC997" class="blob-code js-file-line">        &quot;&lt;tr&gt;\n&quot;,</td>
      </tr>
      <tr>
        <td id="L998" class="blob-num js-line-number" data-line-number="998"></td>
        <td id="LC998" class="blob-code js-file-line">        &quot;  &lt;th&gt;Skew:&lt;/th&gt;          &lt;td&gt; 0.552&lt;/td&gt; &lt;th&gt;  Prob(JB):          &lt;/th&gt; &lt;td&gt;   0.250&lt;/td&gt;\n&quot;,</td>
      </tr>
      <tr>
        <td id="L999" class="blob-num js-line-number" data-line-number="999"></td>
        <td id="LC999" class="blob-code js-file-line">        &quot;&lt;/tr&gt;\n&quot;,</td>
      </tr>
      <tr>
        <td id="L1000" class="blob-num js-line-number" data-line-number="1000"></td>
        <td id="LC1000" class="blob-code js-file-line">        &quot;&lt;tr&gt;\n&quot;,</td>
      </tr>
      <tr>
        <td id="L1001" class="blob-num js-line-number" data-line-number="1001"></td>
        <td id="LC1001" class="blob-code js-file-line">        &quot;  &lt;th&gt;Kurtosis:&lt;/th&gt;      &lt;td&gt; 3.444&lt;/td&gt; &lt;th&gt;  Cond. No.          &lt;/th&gt; &lt;td&gt;    28.9&lt;/td&gt;\n&quot;,</td>
      </tr>
      <tr>
        <td id="L1002" class="blob-num js-line-number" data-line-number="1002"></td>
        <td id="LC1002" class="blob-code js-file-line">        &quot;&lt;/tr&gt;\n&quot;,</td>
      </tr>
      <tr>
        <td id="L1003" class="blob-num js-line-number" data-line-number="1003"></td>
        <td id="LC1003" class="blob-code js-file-line">        &quot;&lt;/table&gt;&quot;</td>
      </tr>
      <tr>
        <td id="L1004" class="blob-num js-line-number" data-line-number="1004"></td>
        <td id="LC1004" class="blob-code js-file-line">       ],</td>
      </tr>
      <tr>
        <td id="L1005" class="blob-num js-line-number" data-line-number="1005"></td>
        <td id="LC1005" class="blob-code js-file-line">       &quot;metadata&quot;: {},</td>
      </tr>
      <tr>
        <td id="L1006" class="blob-num js-line-number" data-line-number="1006"></td>
        <td id="LC1006" class="blob-code js-file-line">       &quot;output_type&quot;: &quot;pyout&quot;,</td>
      </tr>
      <tr>
        <td id="L1007" class="blob-num js-line-number" data-line-number="1007"></td>
        <td id="LC1007" class="blob-code js-file-line">       &quot;prompt_number&quot;: 23,</td>
      </tr>
      <tr>
        <td id="L1008" class="blob-num js-line-number" data-line-number="1008"></td>
        <td id="LC1008" class="blob-code js-file-line">       &quot;text&quot;: [</td>
      </tr>
      <tr>
        <td id="L1009" class="blob-num js-line-number" data-line-number="1009"></td>
        <td id="LC1009" class="blob-code js-file-line">        &quot;&lt;class &#39;statsmodels.iolib.summary.Summary&#39;&gt;\n&quot;,</td>
      </tr>
      <tr>
        <td id="L1010" class="blob-num js-line-number" data-line-number="1010"></td>
        <td id="LC1010" class="blob-code js-file-line">        &quot;\&quot;\&quot;\&quot;\n&quot;,</td>
      </tr>
      <tr>
        <td id="L1011" class="blob-num js-line-number" data-line-number="1011"></td>
        <td id="LC1011" class="blob-code js-file-line">        &quot;                            OLS Regression Results                            \n&quot;,</td>
      </tr>
      <tr>
        <td id="L1012" class="blob-num js-line-number" data-line-number="1012"></td>
        <td id="LC1012" class="blob-code js-file-line">        &quot;==============================================================================\n&quot;,</td>
      </tr>
      <tr>
        <td id="L1013" class="blob-num js-line-number" data-line-number="1013"></td>
        <td id="LC1013" class="blob-code js-file-line">        &quot;Dep. Variable:                      y   R-squared:                       0.733\n&quot;,</td>
      </tr>
      <tr>
        <td id="L1014" class="blob-num js-line-number" data-line-number="1014"></td>
        <td id="LC1014" class="blob-code js-file-line">        &quot;Model:                            OLS   Adj. R-squared:                  0.715\n&quot;,</td>
      </tr>
      <tr>
        <td id="L1015" class="blob-num js-line-number" data-line-number="1015"></td>
        <td id="LC1015" class="blob-code js-file-line">        &quot;Method:                 Least Squares   F-statistic:                     39.38\n&quot;,</td>
      </tr>
      <tr>
        <td id="L1016" class="blob-num js-line-number" data-line-number="1016"></td>
        <td id="LC1016" class="blob-code js-file-line">        &quot;Date:                Mon, 20 Oct 2014   Prob (F-statistic):           2.12e-12\n&quot;,</td>
      </tr>
      <tr>
        <td id="L1017" class="blob-num js-line-number" data-line-number="1017"></td>
        <td id="LC1017" class="blob-code js-file-line">        &quot;Time:                        21:12:23   Log-Likelihood:                -45.641\n&quot;,</td>
      </tr>
      <tr>
        <td id="L1018" class="blob-num js-line-number" data-line-number="1018"></td>
        <td id="LC1018" class="blob-code js-file-line">        &quot;No. Observations:                  47   AIC:                             99.28\n&quot;,</td>
      </tr>
      <tr>
        <td id="L1019" class="blob-num js-line-number" data-line-number="1019"></td>
        <td id="LC1019" class="blob-code js-file-line">        &quot;Df Residuals:                      43   BIC:                             106.7\n&quot;,</td>
      </tr>
      <tr>
        <td id="L1020" class="blob-num js-line-number" data-line-number="1020"></td>
        <td id="LC1020" class="blob-code js-file-line">        &quot;Df Model:                           3                                         \n&quot;,</td>
      </tr>
      <tr>
        <td id="L1021" class="blob-num js-line-number" data-line-number="1021"></td>
        <td id="LC1021" class="blob-code js-file-line">        &quot;==============================================================================\n&quot;,</td>
      </tr>
      <tr>
        <td id="L1022" class="blob-num js-line-number" data-line-number="1022"></td>
        <td id="LC1022" class="blob-code js-file-line">        &quot;                 coef    std err          t      P&gt;|t|      [95.0% Conf. Int.]\n&quot;,</td>
      </tr>
      <tr>
        <td id="L1023" class="blob-num js-line-number" data-line-number="1023"></td>
        <td id="LC1023" class="blob-code js-file-line">        &quot;------------------------------------------------------------------------------\n&quot;,</td>
      </tr>
      <tr>
        <td id="L1024" class="blob-num js-line-number" data-line-number="1024"></td>
        <td id="LC1024" class="blob-code js-file-line">        &quot;const          0.9245      0.449      2.060      0.045         0.019     1.830\n&quot;,</td>
      </tr>
      <tr>
        <td id="L1025" class="blob-num js-line-number" data-line-number="1025"></td>
        <td id="LC1025" class="blob-code js-file-line">        &quot;x1             1.3933      0.150      9.305      0.000         1.091     1.695\n&quot;,</td>
      </tr>
      <tr>
        <td id="L1026" class="blob-num js-line-number" data-line-number="1026"></td>
        <td id="LC1026" class="blob-code js-file-line">        &quot;x2            -0.0862      0.156     -0.551      0.584        -0.402     0.229\n&quot;,</td>
      </tr>
      <tr>
        <td id="L1027" class="blob-num js-line-number" data-line-number="1027"></td>
        <td id="LC1027" class="blob-code js-file-line">        &quot;x3            -0.0081      0.043     -0.188      0.852        -0.095     0.079\n&quot;,</td>
      </tr>
      <tr>
        <td id="L1028" class="blob-num js-line-number" data-line-number="1028"></td>
        <td id="LC1028" class="blob-code js-file-line">        &quot;==============================================================================\n&quot;,</td>
      </tr>
      <tr>
        <td id="L1029" class="blob-num js-line-number" data-line-number="1029"></td>
        <td id="LC1029" class="blob-code js-file-line">        &quot;Omnibus:                        3.841   Durbin-Watson:                   1.819\n&quot;,</td>
      </tr>
      <tr>
        <td id="L1030" class="blob-num js-line-number" data-line-number="1030"></td>
        <td id="LC1030" class="blob-code js-file-line">        &quot;Prob(Omnibus):                  0.147   Jarque-Bera (JB):                2.771\n&quot;,</td>
      </tr>
      <tr>
        <td id="L1031" class="blob-num js-line-number" data-line-number="1031"></td>
        <td id="LC1031" class="blob-code js-file-line">        &quot;Skew:                           0.552   Prob(JB):                        0.250\n&quot;,</td>
      </tr>
      <tr>
        <td id="L1032" class="blob-num js-line-number" data-line-number="1032"></td>
        <td id="LC1032" class="blob-code js-file-line">        &quot;Kurtosis:                       3.444   Cond. No.                         28.9\n&quot;,</td>
      </tr>
      <tr>
        <td id="L1033" class="blob-num js-line-number" data-line-number="1033"></td>
        <td id="LC1033" class="blob-code js-file-line">        &quot;==============================================================================\n&quot;,</td>
      </tr>
      <tr>
        <td id="L1034" class="blob-num js-line-number" data-line-number="1034"></td>
        <td id="LC1034" class="blob-code js-file-line">        &quot;\&quot;\&quot;\&quot;&quot;</td>
      </tr>
      <tr>
        <td id="L1035" class="blob-num js-line-number" data-line-number="1035"></td>
        <td id="LC1035" class="blob-code js-file-line">       ]</td>
      </tr>
      <tr>
        <td id="L1036" class="blob-num js-line-number" data-line-number="1036"></td>
        <td id="LC1036" class="blob-code js-file-line">      }</td>
      </tr>
      <tr>
        <td id="L1037" class="blob-num js-line-number" data-line-number="1037"></td>
        <td id="LC1037" class="blob-code js-file-line">     ],</td>
      </tr>
      <tr>
        <td id="L1038" class="blob-num js-line-number" data-line-number="1038"></td>
        <td id="LC1038" class="blob-code js-file-line">     &quot;prompt_number&quot;: 23</td>
      </tr>
      <tr>
        <td id="L1039" class="blob-num js-line-number" data-line-number="1039"></td>
        <td id="LC1039" class="blob-code js-file-line">    },</td>
      </tr>
      <tr>
        <td id="L1040" class="blob-num js-line-number" data-line-number="1040"></td>
        <td id="LC1040" class="blob-code js-file-line">    {</td>
      </tr>
      <tr>
        <td id="L1041" class="blob-num js-line-number" data-line-number="1041"></td>
        <td id="LC1041" class="blob-code js-file-line">     &quot;cell_type&quot;: &quot;markdown&quot;,</td>
      </tr>
      <tr>
        <td id="L1042" class="blob-num js-line-number" data-line-number="1042"></td>
        <td id="LC1042" class="blob-code js-file-line">     &quot;metadata&quot;: {},</td>
      </tr>
      <tr>
        <td id="L1043" class="blob-num js-line-number" data-line-number="1043"></td>
        <td id="LC1043" class="blob-code js-file-line">     &quot;source&quot;: [</td>
      </tr>
      <tr>
        <td id="L1044" class="blob-num js-line-number" data-line-number="1044"></td>
        <td id="LC1044" class="blob-code js-file-line">      &quot;## 3D Plot&quot;</td>
      </tr>
      <tr>
        <td id="L1045" class="blob-num js-line-number" data-line-number="1045"></td>
        <td id="LC1045" class="blob-code js-file-line">     ]</td>
      </tr>
      <tr>
        <td id="L1046" class="blob-num js-line-number" data-line-number="1046"></td>
        <td id="LC1046" class="blob-code js-file-line">    },</td>
      </tr>
      <tr>
        <td id="L1047" class="blob-num js-line-number" data-line-number="1047"></td>
        <td id="LC1047" class="blob-code js-file-line">    {</td>
      </tr>
      <tr>
        <td id="L1048" class="blob-num js-line-number" data-line-number="1048"></td>
        <td id="LC1048" class="blob-code js-file-line">     &quot;cell_type&quot;: &quot;code&quot;,</td>
      </tr>
      <tr>
        <td id="L1049" class="blob-num js-line-number" data-line-number="1049"></td>
        <td id="LC1049" class="blob-code js-file-line">     &quot;collapsed&quot;: false,</td>
      </tr>
      <tr>
        <td id="L1050" class="blob-num js-line-number" data-line-number="1050"></td>
        <td id="LC1050" class="blob-code js-file-line">     &quot;input&quot;: [</td>
      </tr>
      <tr>
        <td id="L1051" class="blob-num js-line-number" data-line-number="1051"></td>
        <td id="LC1051" class="blob-code js-file-line">      &quot;# 3d plot\n&quot;,</td>
      </tr>
      <tr>
        <td id="L1052" class="blob-num js-line-number" data-line-number="1052"></td>
        <td id="LC1052" class="blob-code js-file-line">      &quot;from mpl_toolkits.mplot3d import Axes3D\n&quot;,</td>
      </tr>
      <tr>
        <td id="L1053" class="blob-num js-line-number" data-line-number="1053"></td>
        <td id="LC1053" class="blob-code js-file-line">      &quot;\n&quot;,</td>
      </tr>
      <tr>
        <td id="L1054" class="blob-num js-line-number" data-line-number="1054"></td>
        <td id="LC1054" class="blob-code js-file-line">      &quot;x = data[[&#39;sqft&#39;, &#39;bedrooms&#39;,&#39;age&#39;]].values\n&quot;,</td>
      </tr>
      <tr>
        <td id="L1055" class="blob-num js-line-number" data-line-number="1055"></td>
        <td id="LC1055" class="blob-code js-file-line">      &quot;y = data[&#39;price&#39;].values\n&quot;,</td>
      </tr>
      <tr>
        <td id="L1056" class="blob-num js-line-number" data-line-number="1056"></td>
        <td id="LC1056" class="blob-code js-file-line">      &quot;\n&quot;,</td>
      </tr>
      <tr>
        <td id="L1057" class="blob-num js-line-number" data-line-number="1057"></td>
        <td id="LC1057" class="blob-code js-file-line">      &quot;fignum = 1\n&quot;,</td>
      </tr>
      <tr>
        <td id="L1058" class="blob-num js-line-number" data-line-number="1058"></td>
        <td id="LC1058" class="blob-code js-file-line">      &quot;fig = plt.figure(fignum, figsize=(8, 6))\n&quot;,</td>
      </tr>
      <tr>
        <td id="L1059" class="blob-num js-line-number" data-line-number="1059"></td>
        <td id="LC1059" class="blob-code js-file-line">      &quot;plt.clf()\n&quot;,</td>
      </tr>
      <tr>
        <td id="L1060" class="blob-num js-line-number" data-line-number="1060"></td>
        <td id="LC1060" class="blob-code js-file-line">      &quot;ax = Axes3D(fig, rect=[0, 0, .95, 1], elev=38, azim=124)\n&quot;,</td>
      </tr>
      <tr>
        <td id="L1061" class="blob-num js-line-number" data-line-number="1061"></td>
        <td id="LC1061" class="blob-code js-file-line">      &quot;\n&quot;,</td>
      </tr>
      <tr>
        <td id="L1062" class="blob-num js-line-number" data-line-number="1062"></td>
        <td id="LC1062" class="blob-code js-file-line">      &quot;plt.cla()\n&quot;,</td>
      </tr>
      <tr>
        <td id="L1063" class="blob-num js-line-number" data-line-number="1063"></td>
        <td id="LC1063" class="blob-code js-file-line">      &quot;X = sm.add_constant(x, prepend=True)\n&quot;,</td>
      </tr>
      <tr>
        <td id="L1064" class="blob-num js-line-number" data-line-number="1064"></td>
        <td id="LC1064" class="blob-code js-file-line">      &quot;results = sm.OLS(y, X).fit()\n&quot;,</td>
      </tr>
      <tr>
        <td id="L1065" class="blob-num js-line-number" data-line-number="1065"></td>
        <td id="LC1065" class="blob-code js-file-line">      &quot;\n&quot;,</td>
      </tr>
      <tr>
        <td id="L1066" class="blob-num js-line-number" data-line-number="1066"></td>
        <td id="LC1066" class="blob-code js-file-line">      &quot;# est.fit(X)\n&quot;,</td>
      </tr>
      <tr>
        <td id="L1067" class="blob-num js-line-number" data-line-number="1067"></td>
        <td id="LC1067" class="blob-code js-file-line">      &quot;# ax.scatter(X[:, 0], X[:, 1], X[:, 3], c=labels.astype(np.float))\n&quot;,</td>
      </tr>
      <tr>
        <td id="L1068" class="blob-num js-line-number" data-line-number="1068"></td>
        <td id="LC1068" class="blob-code js-file-line">      &quot;ax.scatter(X[:, 1], X[:, 0], X[:, 3])\n&quot;,</td>
      </tr>
      <tr>
        <td id="L1069" class="blob-num js-line-number" data-line-number="1069"></td>
        <td id="LC1069" class="blob-code js-file-line">      &quot;\n&quot;,</td>
      </tr>
      <tr>
        <td id="L1070" class="blob-num js-line-number" data-line-number="1070"></td>
        <td id="LC1070" class="blob-code js-file-line">      &quot;ax.w_xaxis.set_ticklabels([])\n&quot;,</td>
      </tr>
      <tr>
        <td id="L1071" class="blob-num js-line-number" data-line-number="1071"></td>
        <td id="LC1071" class="blob-code js-file-line">      &quot;ax.w_yaxis.set_ticklabels([])\n&quot;,</td>
      </tr>
      <tr>
        <td id="L1072" class="blob-num js-line-number" data-line-number="1072"></td>
        <td id="LC1072" class="blob-code js-file-line">      &quot;ax.w_zaxis.set_ticklabels([])\n&quot;,</td>
      </tr>
      <tr>
        <td id="L1073" class="blob-num js-line-number" data-line-number="1073"></td>
        <td id="LC1073" class="blob-code js-file-line">      &quot;ax.set_ylabel(&#39;Sqft&#39;)\n&quot;,</td>
      </tr>
      <tr>
        <td id="L1074" class="blob-num js-line-number" data-line-number="1074"></td>
        <td id="LC1074" class="blob-code js-file-line">      &quot;ax.set_xlabel(&#39;Bedrooms&#39;)\n&quot;,</td>
      </tr>
      <tr>
        <td id="L1075" class="blob-num js-line-number" data-line-number="1075"></td>
        <td id="LC1075" class="blob-code js-file-line">      &quot;ax.set_zlabel(&#39;Price&#39;)\n&quot;,</td>
      </tr>
      <tr>
        <td id="L1076" class="blob-num js-line-number" data-line-number="1076"></td>
        <td id="LC1076" class="blob-code js-file-line">      &quot;plt.show()&quot;</td>
      </tr>
      <tr>
        <td id="L1077" class="blob-num js-line-number" data-line-number="1077"></td>
        <td id="LC1077" class="blob-code js-file-line">     ],</td>
      </tr>
      <tr>
        <td id="L1078" class="blob-num js-line-number" data-line-number="1078"></td>
        <td id="LC1078" class="blob-code js-file-line">     &quot;language&quot;: &quot;python&quot;,</td>
      </tr>
      <tr>
        <td id="L1079" class="blob-num js-line-number" data-line-number="1079"></td>
        <td id="LC1079" class="blob-code js-file-line">     &quot;metadata&quot;: {},</td>
      </tr>
      <tr>
        <td id="L1080" class="blob-num js-line-number" data-line-number="1080"></td>
        <td id="LC1080" class="blob-code js-file-line">     &quot;outputs&quot;: [</td>
      </tr>
      <tr>
        <td id="L1081" class="blob-num js-line-number" data-line-number="1081"></td>
        <td id="LC1081" class="blob-code js-file-line">      {</td>
      </tr>
      <tr>
        <td id="L1082" class="blob-num js-line-number" data-line-number="1082"></td>
        <td id="LC1082" class="blob-code js-file-line">       &quot;metadata&quot;: {},</td>
      </tr>
      <tr>
        <td id="L1083" class="blob-num js-line-number" data-line-number="1083"></td>
        <td id="LC1083" class="blob-code js-file-line">       &quot;output_type&quot;: &quot;display_data&quot;,</td>
      </tr>
      <tr>
        <td id="L1084" class="blob-num js-line-number" data-line-number="1084"></td>
        <td id="LC1084" class="blob-code js-file-line">       &quot;png&quot;: &quot;iVBORw0KGgoAAAANSUhEUgAAAjEAAAG+CAYAAABiYVVkAAAABHNCSVQICAgIfAhkiAAAAAlwSFlz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\nAAAAAElFTkSuQmCC\n&quot;,</td>
      </tr>
      <tr>
        <td id="L1085" class="blob-num js-line-number" data-line-number="1085"></td>
        <td id="LC1085" class="blob-code js-file-line">       &quot;text&quot;: [</td>
      </tr>
      <tr>
        <td id="L1086" class="blob-num js-line-number" data-line-number="1086"></td>
        <td id="LC1086" class="blob-code js-file-line">        &quot;&lt;matplotlib.figure.Figure at 0x10a93ddd0&gt;&quot;</td>
      </tr>
      <tr>
        <td id="L1087" class="blob-num js-line-number" data-line-number="1087"></td>
        <td id="LC1087" class="blob-code js-file-line">       ]</td>
      </tr>
      <tr>
        <td id="L1088" class="blob-num js-line-number" data-line-number="1088"></td>
        <td id="LC1088" class="blob-code js-file-line">      }</td>
      </tr>
      <tr>
        <td id="L1089" class="blob-num js-line-number" data-line-number="1089"></td>
        <td id="LC1089" class="blob-code js-file-line">     ],</td>
      </tr>
      <tr>
        <td id="L1090" class="blob-num js-line-number" data-line-number="1090"></td>
        <td id="LC1090" class="blob-code js-file-line">     &quot;prompt_number&quot;: 24</td>
      </tr>
      <tr>
        <td id="L1091" class="blob-num js-line-number" data-line-number="1091"></td>
        <td id="LC1091" class="blob-code js-file-line">    },</td>
      </tr>
      <tr>
        <td id="L1092" class="blob-num js-line-number" data-line-number="1092"></td>
        <td id="LC1092" class="blob-code js-file-line">    {</td>
      </tr>
      <tr>
        <td id="L1093" class="blob-num js-line-number" data-line-number="1093"></td>
        <td id="LC1093" class="blob-code js-file-line">     &quot;cell_type&quot;: &quot;markdown&quot;,</td>
      </tr>
      <tr>
        <td id="L1094" class="blob-num js-line-number" data-line-number="1094"></td>
        <td id="LC1094" class="blob-code js-file-line">     &quot;metadata&quot;: {},</td>
      </tr>
      <tr>
        <td id="L1095" class="blob-num js-line-number" data-line-number="1095"></td>
        <td id="LC1095" class="blob-code js-file-line">     &quot;source&quot;: [</td>
      </tr>
      <tr>
        <td id="L1096" class="blob-num js-line-number" data-line-number="1096"></td>
        <td id="LC1096" class="blob-code js-file-line">      &quot;## Just sqft &amp; bedrooms&quot;</td>
      </tr>
      <tr>
        <td id="L1097" class="blob-num js-line-number" data-line-number="1097"></td>
        <td id="LC1097" class="blob-code js-file-line">     ]</td>
      </tr>
      <tr>
        <td id="L1098" class="blob-num js-line-number" data-line-number="1098"></td>
        <td id="LC1098" class="blob-code js-file-line">    },</td>
      </tr>
      <tr>
        <td id="L1099" class="blob-num js-line-number" data-line-number="1099"></td>
        <td id="LC1099" class="blob-code js-file-line">    {</td>
      </tr>
      <tr>
        <td id="L1100" class="blob-num js-line-number" data-line-number="1100"></td>
        <td id="LC1100" class="blob-code js-file-line">     &quot;cell_type&quot;: &quot;code&quot;,</td>
      </tr>
      <tr>
        <td id="L1101" class="blob-num js-line-number" data-line-number="1101"></td>
        <td id="LC1101" class="blob-code js-file-line">     &quot;collapsed&quot;: false,</td>
      </tr>
      <tr>
        <td id="L1102" class="blob-num js-line-number" data-line-number="1102"></td>
        <td id="LC1102" class="blob-code js-file-line">     &quot;input&quot;: [</td>
      </tr>
      <tr>
        <td id="L1103" class="blob-num js-line-number" data-line-number="1103"></td>
        <td id="LC1103" class="blob-code js-file-line">      &quot;x = data_n[[&#39;sqft&#39;, &#39;bedrooms&#39;]].values\n&quot;,</td>
      </tr>
      <tr>
        <td id="L1104" class="blob-num js-line-number" data-line-number="1104"></td>
        <td id="LC1104" class="blob-code js-file-line">      &quot;y = data_n[&#39;price&#39;].values\n&quot;,</td>
      </tr>
      <tr>
        <td id="L1105" class="blob-num js-line-number" data-line-number="1105"></td>
        <td id="LC1105" class="blob-code js-file-line">      &quot;X = sm.add_constant(x, prepend=True)\n&quot;,</td>
      </tr>
      <tr>
        <td id="L1106" class="blob-num js-line-number" data-line-number="1106"></td>
        <td id="LC1106" class="blob-code js-file-line">      &quot;results = sm.OLS(y, X).fit()\n&quot;,</td>
      </tr>
      <tr>
        <td id="L1107" class="blob-num js-line-number" data-line-number="1107"></td>
        <td id="LC1107" class="blob-code js-file-line">      &quot;results.summary()&quot;</td>
      </tr>
      <tr>
        <td id="L1108" class="blob-num js-line-number" data-line-number="1108"></td>
        <td id="LC1108" class="blob-code js-file-line">     ],</td>
      </tr>
      <tr>
        <td id="L1109" class="blob-num js-line-number" data-line-number="1109"></td>
        <td id="LC1109" class="blob-code js-file-line">     &quot;language&quot;: &quot;python&quot;,</td>
      </tr>
      <tr>
        <td id="L1110" class="blob-num js-line-number" data-line-number="1110"></td>
        <td id="LC1110" class="blob-code js-file-line">     &quot;metadata&quot;: {},</td>
      </tr>
      <tr>
        <td id="L1111" class="blob-num js-line-number" data-line-number="1111"></td>
        <td id="LC1111" class="blob-code js-file-line">     &quot;outputs&quot;: [</td>
      </tr>
      <tr>
        <td id="L1112" class="blob-num js-line-number" data-line-number="1112"></td>
        <td id="LC1112" class="blob-code js-file-line">      {</td>
      </tr>
      <tr>
        <td id="L1113" class="blob-num js-line-number" data-line-number="1113"></td>
        <td id="LC1113" class="blob-code js-file-line">       &quot;html&quot;: [</td>
      </tr>
      <tr>
        <td id="L1114" class="blob-num js-line-number" data-line-number="1114"></td>
        <td id="LC1114" class="blob-code js-file-line">        &quot;&lt;table class=\&quot;simpletable\&quot;&gt;\n&quot;,</td>
      </tr>
      <tr>
        <td id="L1115" class="blob-num js-line-number" data-line-number="1115"></td>
        <td id="LC1115" class="blob-code js-file-line">        &quot;&lt;caption&gt;OLS Regression Results&lt;/caption&gt;\n&quot;,</td>
      </tr>
      <tr>
        <td id="L1116" class="blob-num js-line-number" data-line-number="1116"></td>
        <td id="LC1116" class="blob-code js-file-line">        &quot;&lt;tr&gt;\n&quot;,</td>
      </tr>
      <tr>
        <td id="L1117" class="blob-num js-line-number" data-line-number="1117"></td>
        <td id="LC1117" class="blob-code js-file-line">        &quot;  &lt;th&gt;Dep. Variable:&lt;/th&gt;            &lt;td&gt;y&lt;/td&gt;        &lt;th&gt;  R-squared:         &lt;/th&gt; &lt;td&gt;   0.733&lt;/td&gt;\n&quot;,</td>
      </tr>
      <tr>
        <td id="L1118" class="blob-num js-line-number" data-line-number="1118"></td>
        <td id="LC1118" class="blob-code js-file-line">        &quot;&lt;/tr&gt;\n&quot;,</td>
      </tr>
      <tr>
        <td id="L1119" class="blob-num js-line-number" data-line-number="1119"></td>
        <td id="LC1119" class="blob-code js-file-line">        &quot;&lt;tr&gt;\n&quot;,</td>
      </tr>
      <tr>
        <td id="L1120" class="blob-num js-line-number" data-line-number="1120"></td>
        <td id="LC1120" class="blob-code js-file-line">        &quot;  &lt;th&gt;Model:&lt;/th&gt;                   &lt;td&gt;OLS&lt;/td&gt;       &lt;th&gt;  Adj. R-squared:    &lt;/th&gt; &lt;td&gt;   0.721&lt;/td&gt;\n&quot;,</td>
      </tr>
      <tr>
        <td id="L1121" class="blob-num js-line-number" data-line-number="1121"></td>
        <td id="LC1121" class="blob-code js-file-line">        &quot;&lt;/tr&gt;\n&quot;,</td>
      </tr>
      <tr>
        <td id="L1122" class="blob-num js-line-number" data-line-number="1122"></td>
        <td id="LC1122" class="blob-code js-file-line">        &quot;&lt;tr&gt;\n&quot;,</td>
      </tr>
      <tr>
        <td id="L1123" class="blob-num js-line-number" data-line-number="1123"></td>
        <td id="LC1123" class="blob-code js-file-line">        &quot;  &lt;th&gt;Method:&lt;/th&gt;             &lt;td&gt;Least Squares&lt;/td&gt;  &lt;th&gt;  F-statistic:       &lt;/th&gt; &lt;td&gt;   60.38&lt;/td&gt;\n&quot;,</td>
      </tr>
      <tr>
        <td id="L1124" class="blob-num js-line-number" data-line-number="1124"></td>
        <td id="LC1124" class="blob-code js-file-line">        &quot;&lt;/tr&gt;\n&quot;,</td>
      </tr>
      <tr>
        <td id="L1125" class="blob-num js-line-number" data-line-number="1125"></td>
        <td id="LC1125" class="blob-code js-file-line">        &quot;&lt;tr&gt;\n&quot;,</td>
      </tr>
      <tr>
        <td id="L1126" class="blob-num js-line-number" data-line-number="1126"></td>
        <td id="LC1126" class="blob-code js-file-line">        &quot;  &lt;th&gt;Date:&lt;/th&gt;             &lt;td&gt;Mon, 20 Oct 2014&lt;/td&gt; &lt;th&gt;  Prob (F-statistic):&lt;/th&gt; &lt;td&gt;2.43e-13&lt;/td&gt;\n&quot;,</td>
      </tr>
      <tr>
        <td id="L1127" class="blob-num js-line-number" data-line-number="1127"></td>
        <td id="LC1127" class="blob-code js-file-line">        &quot;&lt;/tr&gt;\n&quot;,</td>
      </tr>
      <tr>
        <td id="L1128" class="blob-num js-line-number" data-line-number="1128"></td>
        <td id="LC1128" class="blob-code js-file-line">        &quot;&lt;tr&gt;\n&quot;,</td>
      </tr>
      <tr>
        <td id="L1129" class="blob-num js-line-number" data-line-number="1129"></td>
        <td id="LC1129" class="blob-code js-file-line">        &quot;  &lt;th&gt;Time:&lt;/th&gt;                 &lt;td&gt;21:12:24&lt;/td&gt;     &lt;th&gt;  Log-Likelihood:    &lt;/th&gt; &lt;td&gt; -45.660&lt;/td&gt;\n&quot;,</td>
      </tr>
      <tr>
        <td id="L1130" class="blob-num js-line-number" data-line-number="1130"></td>
        <td id="LC1130" class="blob-code js-file-line">        &quot;&lt;/tr&gt;\n&quot;,</td>
      </tr>
      <tr>
        <td id="L1131" class="blob-num js-line-number" data-line-number="1131"></td>
        <td id="LC1131" class="blob-code js-file-line">        &quot;&lt;tr&gt;\n&quot;,</td>
      </tr>
      <tr>
        <td id="L1132" class="blob-num js-line-number" data-line-number="1132"></td>
        <td id="LC1132" class="blob-code js-file-line">        &quot;  &lt;th&gt;No. Observations:&lt;/th&gt;      &lt;td&gt;    47&lt;/td&gt;      &lt;th&gt;  AIC:               &lt;/th&gt; &lt;td&gt;   97.32&lt;/td&gt;\n&quot;,</td>
      </tr>
      <tr>
        <td id="L1133" class="blob-num js-line-number" data-line-number="1133"></td>
        <td id="LC1133" class="blob-code js-file-line">        &quot;&lt;/tr&gt;\n&quot;,</td>
      </tr>
      <tr>
        <td id="L1134" class="blob-num js-line-number" data-line-number="1134"></td>
        <td id="LC1134" class="blob-code js-file-line">        &quot;&lt;tr&gt;\n&quot;,</td>
      </tr>
      <tr>
        <td id="L1135" class="blob-num js-line-number" data-line-number="1135"></td>
        <td id="LC1135" class="blob-code js-file-line">        &quot;  &lt;th&gt;Df Residuals:&lt;/th&gt;          &lt;td&gt;    44&lt;/td&gt;      &lt;th&gt;  BIC:               &lt;/th&gt; &lt;td&gt;   102.9&lt;/td&gt;\n&quot;,</td>
      </tr>
      <tr>
        <td id="L1136" class="blob-num js-line-number" data-line-number="1136"></td>
        <td id="LC1136" class="blob-code js-file-line">        &quot;&lt;/tr&gt;\n&quot;,</td>
      </tr>
      <tr>
        <td id="L1137" class="blob-num js-line-number" data-line-number="1137"></td>
        <td id="LC1137" class="blob-code js-file-line">        &quot;&lt;tr&gt;\n&quot;,</td>
      </tr>
      <tr>
        <td id="L1138" class="blob-num js-line-number" data-line-number="1138"></td>
        <td id="LC1138" class="blob-code js-file-line">        &quot;  &lt;th&gt;Df Model:&lt;/th&gt;              &lt;td&gt;     2&lt;/td&gt;      &lt;th&gt;                     &lt;/th&gt;     &lt;td&gt; &lt;/td&gt;   \n&quot;,</td>
      </tr>
      <tr>
        <td id="L1139" class="blob-num js-line-number" data-line-number="1139"></td>
        <td id="LC1139" class="blob-code js-file-line">        &quot;&lt;/tr&gt;\n&quot;,</td>
      </tr>
      <tr>
        <td id="L1140" class="blob-num js-line-number" data-line-number="1140"></td>
        <td id="LC1140" class="blob-code js-file-line">        &quot;&lt;/table&gt;\n&quot;,</td>
      </tr>
      <tr>
        <td id="L1141" class="blob-num js-line-number" data-line-number="1141"></td>
        <td id="LC1141" class="blob-code js-file-line">        &quot;&lt;table class=\&quot;simpletable\&quot;&gt;\n&quot;,</td>
      </tr>
      <tr>
        <td id="L1142" class="blob-num js-line-number" data-line-number="1142"></td>
        <td id="LC1142" class="blob-code js-file-line">        &quot;&lt;tr&gt;\n&quot;,</td>
      </tr>
      <tr>
        <td id="L1143" class="blob-num js-line-number" data-line-number="1143"></td>
        <td id="LC1143" class="blob-code js-file-line">        &quot;    &lt;td&gt;&lt;/td&gt;       &lt;th&gt;coef&lt;/th&gt;     &lt;th&gt;std err&lt;/th&gt;      &lt;th&gt;t&lt;/th&gt;      &lt;th&gt;P&gt;|t|&lt;/th&gt; &lt;th&gt;[95.0% Conf. Int.]&lt;/th&gt; \n&quot;,</td>
      </tr>
      <tr>
        <td id="L1144" class="blob-num js-line-number" data-line-number="1144"></td>
        <td id="LC1144" class="blob-code js-file-line">        &quot;&lt;/tr&gt;\n&quot;,</td>
      </tr>
      <tr>
        <td id="L1145" class="blob-num js-line-number" data-line-number="1145"></td>
        <td id="LC1145" class="blob-code js-file-line">        &quot;&lt;tr&gt;\n&quot;,</td>
      </tr>
      <tr>
        <td id="L1146" class="blob-num js-line-number" data-line-number="1146"></td>
        <td id="LC1146" class="blob-code js-file-line">        &quot;  &lt;th&gt;const&lt;/th&gt; &lt;td&gt;    0.8960&lt;/td&gt; &lt;td&gt;    0.418&lt;/td&gt; &lt;td&gt;    2.145&lt;/td&gt; &lt;td&gt; 0.037&lt;/td&gt; &lt;td&gt;    0.054     1.738&lt;/td&gt;\n&quot;,</td>
      </tr>
      <tr>
        <td id="L1147" class="blob-num js-line-number" data-line-number="1147"></td>
        <td id="LC1147" class="blob-code js-file-line">        &quot;&lt;/tr&gt;\n&quot;,</td>
      </tr>
      <tr>
        <td id="L1148" class="blob-num js-line-number" data-line-number="1148"></td>
        <td id="LC1148" class="blob-code js-file-line">        &quot;&lt;tr&gt;\n&quot;,</td>
      </tr>
      <tr>
        <td id="L1149" class="blob-num js-line-number" data-line-number="1149"></td>
        <td id="LC1149" class="blob-code js-file-line">        &quot;  &lt;th&gt;x1&lt;/th&gt;    &lt;td&gt;    1.3921&lt;/td&gt; &lt;td&gt;    0.148&lt;/td&gt; &lt;td&gt;    9.409&lt;/td&gt; &lt;td&gt; 0.000&lt;/td&gt; &lt;td&gt;    1.094     1.690&lt;/td&gt;\n&quot;,</td>
      </tr>
      <tr>
        <td id="L1150" class="blob-num js-line-number" data-line-number="1150"></td>
        <td id="LC1150" class="blob-code js-file-line">        &quot;&lt;/tr&gt;\n&quot;,</td>
      </tr>
      <tr>
        <td id="L1151" class="blob-num js-line-number" data-line-number="1151"></td>
        <td id="LC1151" class="blob-code js-file-line">        &quot;&lt;tr&gt;\n&quot;,</td>
      </tr>
      <tr>
        <td id="L1152" class="blob-num js-line-number" data-line-number="1152"></td>
        <td id="LC1152" class="blob-code js-file-line">        &quot;  &lt;th&gt;x2&lt;/th&gt;    &lt;td&gt;   -0.0874&lt;/td&gt; &lt;td&gt;    0.155&lt;/td&gt; &lt;td&gt;   -0.566&lt;/td&gt; &lt;td&gt; 0.575&lt;/td&gt; &lt;td&gt;   -0.399     0.224&lt;/td&gt;\n&quot;,</td>
      </tr>
      <tr>
        <td id="L1153" class="blob-num js-line-number" data-line-number="1153"></td>
        <td id="LC1153" class="blob-code js-file-line">        &quot;&lt;/tr&gt;\n&quot;,</td>
      </tr>
      <tr>
        <td id="L1154" class="blob-num js-line-number" data-line-number="1154"></td>
        <td id="LC1154" class="blob-code js-file-line">        &quot;&lt;/table&gt;\n&quot;,</td>
      </tr>
      <tr>
        <td id="L1155" class="blob-num js-line-number" data-line-number="1155"></td>
        <td id="LC1155" class="blob-code js-file-line">        &quot;&lt;table class=\&quot;simpletable\&quot;&gt;\n&quot;,</td>
      </tr>
      <tr>
        <td id="L1156" class="blob-num js-line-number" data-line-number="1156"></td>
        <td id="LC1156" class="blob-code js-file-line">        &quot;&lt;tr&gt;\n&quot;,</td>
      </tr>
      <tr>
        <td id="L1157" class="blob-num js-line-number" data-line-number="1157"></td>
        <td id="LC1157" class="blob-code js-file-line">        &quot;  &lt;th&gt;Omnibus:&lt;/th&gt;       &lt;td&gt; 4.083&lt;/td&gt; &lt;th&gt;  Durbin-Watson:     &lt;/th&gt; &lt;td&gt;   1.826&lt;/td&gt;\n&quot;,</td>
      </tr>
      <tr>
        <td id="L1158" class="blob-num js-line-number" data-line-number="1158"></td>
        <td id="LC1158" class="blob-code js-file-line">        &quot;&lt;/tr&gt;\n&quot;,</td>
      </tr>
      <tr>
        <td id="L1159" class="blob-num js-line-number" data-line-number="1159"></td>
        <td id="LC1159" class="blob-code js-file-line">        &quot;&lt;tr&gt;\n&quot;,</td>
      </tr>
      <tr>
        <td id="L1160" class="blob-num js-line-number" data-line-number="1160"></td>
        <td id="LC1160" class="blob-code js-file-line">        &quot;  &lt;th&gt;Prob(Omnibus):&lt;/th&gt; &lt;td&gt; 0.130&lt;/td&gt; &lt;th&gt;  Jarque-Bera (JB):  &lt;/th&gt; &lt;td&gt;   2.977&lt;/td&gt;\n&quot;,</td>
      </tr>
      <tr>
        <td id="L1161" class="blob-num js-line-number" data-line-number="1161"></td>
        <td id="LC1161" class="blob-code js-file-line">        &quot;&lt;/tr&gt;\n&quot;,</td>
      </tr>
      <tr>
        <td id="L1162" class="blob-num js-line-number" data-line-number="1162"></td>
        <td id="LC1162" class="blob-code js-file-line">        &quot;&lt;tr&gt;\n&quot;,</td>
      </tr>
      <tr>
        <td id="L1163" class="blob-num js-line-number" data-line-number="1163"></td>
        <td id="LC1163" class="blob-code js-file-line">        &quot;  &lt;th&gt;Skew:&lt;/th&gt;          &lt;td&gt; 0.567&lt;/td&gt; &lt;th&gt;  Prob(JB):          &lt;/th&gt; &lt;td&gt;   0.226&lt;/td&gt;\n&quot;,</td>
      </tr>
      <tr>
        <td id="L1164" class="blob-num js-line-number" data-line-number="1164"></td>
        <td id="LC1164" class="blob-code js-file-line">        &quot;&lt;/tr&gt;\n&quot;,</td>
      </tr>
      <tr>
        <td id="L1165" class="blob-num js-line-number" data-line-number="1165"></td>
        <td id="LC1165" class="blob-code js-file-line">        &quot;&lt;tr&gt;\n&quot;,</td>
      </tr>
      <tr>
        <td id="L1166" class="blob-num js-line-number" data-line-number="1166"></td>
        <td id="LC1166" class="blob-code js-file-line">        &quot;  &lt;th&gt;Kurtosis:&lt;/th&gt;      &lt;td&gt; 3.484&lt;/td&gt; &lt;th&gt;  Cond. No.          &lt;/th&gt; &lt;td&gt;    18.0&lt;/td&gt;\n&quot;,</td>
      </tr>
      <tr>
        <td id="L1167" class="blob-num js-line-number" data-line-number="1167"></td>
        <td id="LC1167" class="blob-code js-file-line">        &quot;&lt;/tr&gt;\n&quot;,</td>
      </tr>
      <tr>
        <td id="L1168" class="blob-num js-line-number" data-line-number="1168"></td>
        <td id="LC1168" class="blob-code js-file-line">        &quot;&lt;/table&gt;&quot;</td>
      </tr>
      <tr>
        <td id="L1169" class="blob-num js-line-number" data-line-number="1169"></td>
        <td id="LC1169" class="blob-code js-file-line">       ],</td>
      </tr>
      <tr>
        <td id="L1170" class="blob-num js-line-number" data-line-number="1170"></td>
        <td id="LC1170" class="blob-code js-file-line">       &quot;metadata&quot;: {},</td>
      </tr>
      <tr>
        <td id="L1171" class="blob-num js-line-number" data-line-number="1171"></td>
        <td id="LC1171" class="blob-code js-file-line">       &quot;output_type&quot;: &quot;pyout&quot;,</td>
      </tr>
      <tr>
        <td id="L1172" class="blob-num js-line-number" data-line-number="1172"></td>
        <td id="LC1172" class="blob-code js-file-line">       &quot;prompt_number&quot;: 25,</td>
      </tr>
      <tr>
        <td id="L1173" class="blob-num js-line-number" data-line-number="1173"></td>
        <td id="LC1173" class="blob-code js-file-line">       &quot;text&quot;: [</td>
      </tr>
      <tr>
        <td id="L1174" class="blob-num js-line-number" data-line-number="1174"></td>
        <td id="LC1174" class="blob-code js-file-line">        &quot;&lt;class &#39;statsmodels.iolib.summary.Summary&#39;&gt;\n&quot;,</td>
      </tr>
      <tr>
        <td id="L1175" class="blob-num js-line-number" data-line-number="1175"></td>
        <td id="LC1175" class="blob-code js-file-line">        &quot;\&quot;\&quot;\&quot;\n&quot;,</td>
      </tr>
      <tr>
        <td id="L1176" class="blob-num js-line-number" data-line-number="1176"></td>
        <td id="LC1176" class="blob-code js-file-line">        &quot;                            OLS Regression Results                            \n&quot;,</td>
      </tr>
      <tr>
        <td id="L1177" class="blob-num js-line-number" data-line-number="1177"></td>
        <td id="LC1177" class="blob-code js-file-line">        &quot;==============================================================================\n&quot;,</td>
      </tr>
      <tr>
        <td id="L1178" class="blob-num js-line-number" data-line-number="1178"></td>
        <td id="LC1178" class="blob-code js-file-line">        &quot;Dep. Variable:                      y   R-squared:                       0.733\n&quot;,</td>
      </tr>
      <tr>
        <td id="L1179" class="blob-num js-line-number" data-line-number="1179"></td>
        <td id="LC1179" class="blob-code js-file-line">        &quot;Model:                            OLS   Adj. R-squared:                  0.721\n&quot;,</td>
      </tr>
      <tr>
        <td id="L1180" class="blob-num js-line-number" data-line-number="1180"></td>
        <td id="LC1180" class="blob-code js-file-line">        &quot;Method:                 Least Squares   F-statistic:                     60.38\n&quot;,</td>
      </tr>
      <tr>
        <td id="L1181" class="blob-num js-line-number" data-line-number="1181"></td>
        <td id="LC1181" class="blob-code js-file-line">        &quot;Date:                Mon, 20 Oct 2014   Prob (F-statistic):           2.43e-13\n&quot;,</td>
      </tr>
      <tr>
        <td id="L1182" class="blob-num js-line-number" data-line-number="1182"></td>
        <td id="LC1182" class="blob-code js-file-line">        &quot;Time:                        21:12:24   Log-Likelihood:                -45.660\n&quot;,</td>
      </tr>
      <tr>
        <td id="L1183" class="blob-num js-line-number" data-line-number="1183"></td>
        <td id="LC1183" class="blob-code js-file-line">        &quot;No. Observations:                  47   AIC:                             97.32\n&quot;,</td>
      </tr>
      <tr>
        <td id="L1184" class="blob-num js-line-number" data-line-number="1184"></td>
        <td id="LC1184" class="blob-code js-file-line">        &quot;Df Residuals:                      44   BIC:                             102.9\n&quot;,</td>
      </tr>
      <tr>
        <td id="L1185" class="blob-num js-line-number" data-line-number="1185"></td>
        <td id="LC1185" class="blob-code js-file-line">        &quot;Df Model:                           2                                         \n&quot;,</td>
      </tr>
      <tr>
        <td id="L1186" class="blob-num js-line-number" data-line-number="1186"></td>
        <td id="LC1186" class="blob-code js-file-line">        &quot;==============================================================================\n&quot;,</td>
      </tr>
      <tr>
        <td id="L1187" class="blob-num js-line-number" data-line-number="1187"></td>
        <td id="LC1187" class="blob-code js-file-line">        &quot;                 coef    std err          t      P&gt;|t|      [95.0% Conf. Int.]\n&quot;,</td>
      </tr>
      <tr>
        <td id="L1188" class="blob-num js-line-number" data-line-number="1188"></td>
        <td id="LC1188" class="blob-code js-file-line">        &quot;------------------------------------------------------------------------------\n&quot;,</td>
      </tr>
      <tr>
        <td id="L1189" class="blob-num js-line-number" data-line-number="1189"></td>
        <td id="LC1189" class="blob-code js-file-line">        &quot;const          0.8960      0.418      2.145      0.037         0.054     1.738\n&quot;,</td>
      </tr>
      <tr>
        <td id="L1190" class="blob-num js-line-number" data-line-number="1190"></td>
        <td id="LC1190" class="blob-code js-file-line">        &quot;x1             1.3921      0.148      9.409      0.000         1.094     1.690\n&quot;,</td>
      </tr>
      <tr>
        <td id="L1191" class="blob-num js-line-number" data-line-number="1191"></td>
        <td id="LC1191" class="blob-code js-file-line">        &quot;x2            -0.0874      0.155     -0.566      0.575        -0.399     0.224\n&quot;,</td>
      </tr>
      <tr>
        <td id="L1192" class="blob-num js-line-number" data-line-number="1192"></td>
        <td id="LC1192" class="blob-code js-file-line">        &quot;==============================================================================\n&quot;,</td>
      </tr>
      <tr>
        <td id="L1193" class="blob-num js-line-number" data-line-number="1193"></td>
        <td id="LC1193" class="blob-code js-file-line">        &quot;Omnibus:                        4.083   Durbin-Watson:                   1.826\n&quot;,</td>
      </tr>
      <tr>
        <td id="L1194" class="blob-num js-line-number" data-line-number="1194"></td>
        <td id="LC1194" class="blob-code js-file-line">        &quot;Prob(Omnibus):                  0.130   Jarque-Bera (JB):                2.977\n&quot;,</td>
      </tr>
      <tr>
        <td id="L1195" class="blob-num js-line-number" data-line-number="1195"></td>
        <td id="LC1195" class="blob-code js-file-line">        &quot;Skew:                           0.567   Prob(JB):                        0.226\n&quot;,</td>
      </tr>
      <tr>
        <td id="L1196" class="blob-num js-line-number" data-line-number="1196"></td>
        <td id="LC1196" class="blob-code js-file-line">        &quot;Kurtosis:                       3.484   Cond. No.                         18.0\n&quot;,</td>
      </tr>
      <tr>
        <td id="L1197" class="blob-num js-line-number" data-line-number="1197"></td>
        <td id="LC1197" class="blob-code js-file-line">        &quot;==============================================================================\n&quot;,</td>
      </tr>
      <tr>
        <td id="L1198" class="blob-num js-line-number" data-line-number="1198"></td>
        <td id="LC1198" class="blob-code js-file-line">        &quot;\&quot;\&quot;\&quot;&quot;</td>
      </tr>
      <tr>
        <td id="L1199" class="blob-num js-line-number" data-line-number="1199"></td>
        <td id="LC1199" class="blob-code js-file-line">       ]</td>
      </tr>
      <tr>
        <td id="L1200" class="blob-num js-line-number" data-line-number="1200"></td>
        <td id="LC1200" class="blob-code js-file-line">      }</td>
      </tr>
      <tr>
        <td id="L1201" class="blob-num js-line-number" data-line-number="1201"></td>
        <td id="LC1201" class="blob-code js-file-line">     ],</td>
      </tr>
      <tr>
        <td id="L1202" class="blob-num js-line-number" data-line-number="1202"></td>
        <td id="LC1202" class="blob-code js-file-line">     &quot;prompt_number&quot;: 25</td>
      </tr>
      <tr>
        <td id="L1203" class="blob-num js-line-number" data-line-number="1203"></td>
        <td id="LC1203" class="blob-code js-file-line">    },</td>
      </tr>
      <tr>
        <td id="L1204" class="blob-num js-line-number" data-line-number="1204"></td>
        <td id="LC1204" class="blob-code js-file-line">    {</td>
      </tr>
      <tr>
        <td id="L1205" class="blob-num js-line-number" data-line-number="1205"></td>
        <td id="LC1205" class="blob-code js-file-line">     &quot;cell_type&quot;: &quot;markdown&quot;,</td>
      </tr>
      <tr>
        <td id="L1206" class="blob-num js-line-number" data-line-number="1206"></td>
        <td id="LC1206" class="blob-code js-file-line">     &quot;metadata&quot;: {},</td>
      </tr>
      <tr>
        <td id="L1207" class="blob-num js-line-number" data-line-number="1207"></td>
        <td id="LC1207" class="blob-code js-file-line">     &quot;source&quot;: [</td>
      </tr>
      <tr>
        <td id="L1208" class="blob-num js-line-number" data-line-number="1208"></td>
        <td id="LC1208" class="blob-code js-file-line">      &quot;## The formula API&quot;</td>
      </tr>
      <tr>
        <td id="L1209" class="blob-num js-line-number" data-line-number="1209"></td>
        <td id="LC1209" class="blob-code js-file-line">     ]</td>
      </tr>
      <tr>
        <td id="L1210" class="blob-num js-line-number" data-line-number="1210"></td>
        <td id="LC1210" class="blob-code js-file-line">    },</td>
      </tr>
      <tr>
        <td id="L1211" class="blob-num js-line-number" data-line-number="1211"></td>
        <td id="LC1211" class="blob-code js-file-line">    {</td>
      </tr>
      <tr>
        <td id="L1212" class="blob-num js-line-number" data-line-number="1212"></td>
        <td id="LC1212" class="blob-code js-file-line">     &quot;cell_type&quot;: &quot;code&quot;,</td>
      </tr>
      <tr>
        <td id="L1213" class="blob-num js-line-number" data-line-number="1213"></td>
        <td id="LC1213" class="blob-code js-file-line">     &quot;collapsed&quot;: false,</td>
      </tr>
      <tr>
        <td id="L1214" class="blob-num js-line-number" data-line-number="1214"></td>
        <td id="LC1214" class="blob-code js-file-line">     &quot;input&quot;: [</td>
      </tr>
      <tr>
        <td id="L1215" class="blob-num js-line-number" data-line-number="1215"></td>
        <td id="LC1215" class="blob-code js-file-line">      &quot;import statsmodels.formula.api as smf&quot;</td>
      </tr>
      <tr>
        <td id="L1216" class="blob-num js-line-number" data-line-number="1216"></td>
        <td id="LC1216" class="blob-code js-file-line">     ],</td>
      </tr>
      <tr>
        <td id="L1217" class="blob-num js-line-number" data-line-number="1217"></td>
        <td id="LC1217" class="blob-code js-file-line">     &quot;language&quot;: &quot;python&quot;,</td>
      </tr>
      <tr>
        <td id="L1218" class="blob-num js-line-number" data-line-number="1218"></td>
        <td id="LC1218" class="blob-code js-file-line">     &quot;metadata&quot;: {},</td>
      </tr>
      <tr>
        <td id="L1219" class="blob-num js-line-number" data-line-number="1219"></td>
        <td id="LC1219" class="blob-code js-file-line">     &quot;outputs&quot;: [],</td>
      </tr>
      <tr>
        <td id="L1220" class="blob-num js-line-number" data-line-number="1220"></td>
        <td id="LC1220" class="blob-code js-file-line">     &quot;prompt_number&quot;: 26</td>
      </tr>
      <tr>
        <td id="L1221" class="blob-num js-line-number" data-line-number="1221"></td>
        <td id="LC1221" class="blob-code js-file-line">    },</td>
      </tr>
      <tr>
        <td id="L1222" class="blob-num js-line-number" data-line-number="1222"></td>
        <td id="LC1222" class="blob-code js-file-line">    {</td>
      </tr>
      <tr>
        <td id="L1223" class="blob-num js-line-number" data-line-number="1223"></td>
        <td id="LC1223" class="blob-code js-file-line">     &quot;cell_type&quot;: &quot;code&quot;,</td>
      </tr>
      <tr>
        <td id="L1224" class="blob-num js-line-number" data-line-number="1224"></td>
        <td id="LC1224" class="blob-code js-file-line">     &quot;collapsed&quot;: false,</td>
      </tr>
      <tr>
        <td id="L1225" class="blob-num js-line-number" data-line-number="1225"></td>
        <td id="LC1225" class="blob-code js-file-line">     &quot;input&quot;: [</td>
      </tr>
      <tr>
        <td id="L1226" class="blob-num js-line-number" data-line-number="1226"></td>
        <td id="LC1226" class="blob-code js-file-line">      &quot;results = smf.ols(&#39;price ~ sqft + bedrooms&#39;, data=data).fit()&quot;</td>
      </tr>
      <tr>
        <td id="L1227" class="blob-num js-line-number" data-line-number="1227"></td>
        <td id="LC1227" class="blob-code js-file-line">     ],</td>
      </tr>
      <tr>
        <td id="L1228" class="blob-num js-line-number" data-line-number="1228"></td>
        <td id="LC1228" class="blob-code js-file-line">     &quot;language&quot;: &quot;python&quot;,</td>
      </tr>
      <tr>
        <td id="L1229" class="blob-num js-line-number" data-line-number="1229"></td>
        <td id="LC1229" class="blob-code js-file-line">     &quot;metadata&quot;: {},</td>
      </tr>
      <tr>
        <td id="L1230" class="blob-num js-line-number" data-line-number="1230"></td>
        <td id="LC1230" class="blob-code js-file-line">     &quot;outputs&quot;: [],</td>
      </tr>
      <tr>
        <td id="L1231" class="blob-num js-line-number" data-line-number="1231"></td>
        <td id="LC1231" class="blob-code js-file-line">     &quot;prompt_number&quot;: 27</td>
      </tr>
      <tr>
        <td id="L1232" class="blob-num js-line-number" data-line-number="1232"></td>
        <td id="LC1232" class="blob-code js-file-line">    },</td>
      </tr>
      <tr>
        <td id="L1233" class="blob-num js-line-number" data-line-number="1233"></td>
        <td id="LC1233" class="blob-code js-file-line">    {</td>
      </tr>
      <tr>
        <td id="L1234" class="blob-num js-line-number" data-line-number="1234"></td>
        <td id="LC1234" class="blob-code js-file-line">     &quot;cell_type&quot;: &quot;code&quot;,</td>
      </tr>
      <tr>
        <td id="L1235" class="blob-num js-line-number" data-line-number="1235"></td>
        <td id="LC1235" class="blob-code js-file-line">     &quot;collapsed&quot;: false,</td>
      </tr>
      <tr>
        <td id="L1236" class="blob-num js-line-number" data-line-number="1236"></td>
        <td id="LC1236" class="blob-code js-file-line">     &quot;input&quot;: [</td>
      </tr>
      <tr>
        <td id="L1237" class="blob-num js-line-number" data-line-number="1237"></td>
        <td id="LC1237" class="blob-code js-file-line">      &quot;results.summary()&quot;</td>
      </tr>
      <tr>
        <td id="L1238" class="blob-num js-line-number" data-line-number="1238"></td>
        <td id="LC1238" class="blob-code js-file-line">     ],</td>
      </tr>
      <tr>
        <td id="L1239" class="blob-num js-line-number" data-line-number="1239"></td>
        <td id="LC1239" class="blob-code js-file-line">     &quot;language&quot;: &quot;python&quot;,</td>
      </tr>
      <tr>
        <td id="L1240" class="blob-num js-line-number" data-line-number="1240"></td>
        <td id="LC1240" class="blob-code js-file-line">     &quot;metadata&quot;: {},</td>
      </tr>
      <tr>
        <td id="L1241" class="blob-num js-line-number" data-line-number="1241"></td>
        <td id="LC1241" class="blob-code js-file-line">     &quot;outputs&quot;: [</td>
      </tr>
      <tr>
        <td id="L1242" class="blob-num js-line-number" data-line-number="1242"></td>
        <td id="LC1242" class="blob-code js-file-line">      {</td>
      </tr>
      <tr>
        <td id="L1243" class="blob-num js-line-number" data-line-number="1243"></td>
        <td id="LC1243" class="blob-code js-file-line">       &quot;html&quot;: [</td>
      </tr>
      <tr>
        <td id="L1244" class="blob-num js-line-number" data-line-number="1244"></td>
        <td id="LC1244" class="blob-code js-file-line">        &quot;&lt;table class=\&quot;simpletable\&quot;&gt;\n&quot;,</td>
      </tr>
      <tr>
        <td id="L1245" class="blob-num js-line-number" data-line-number="1245"></td>
        <td id="LC1245" class="blob-code js-file-line">        &quot;&lt;caption&gt;OLS Regression Results&lt;/caption&gt;\n&quot;,</td>
      </tr>
      <tr>
        <td id="L1246" class="blob-num js-line-number" data-line-number="1246"></td>
        <td id="LC1246" class="blob-code js-file-line">        &quot;&lt;tr&gt;\n&quot;,</td>
      </tr>
      <tr>
        <td id="L1247" class="blob-num js-line-number" data-line-number="1247"></td>
        <td id="LC1247" class="blob-code js-file-line">        &quot;  &lt;th&gt;Dep. Variable:&lt;/th&gt;          &lt;td&gt;price&lt;/td&gt;      &lt;th&gt;  R-squared:         &lt;/th&gt; &lt;td&gt;   0.733&lt;/td&gt;\n&quot;,</td>
      </tr>
      <tr>
        <td id="L1248" class="blob-num js-line-number" data-line-number="1248"></td>
        <td id="LC1248" class="blob-code js-file-line">        &quot;&lt;/tr&gt;\n&quot;,</td>
      </tr>
      <tr>
        <td id="L1249" class="blob-num js-line-number" data-line-number="1249"></td>
        <td id="LC1249" class="blob-code js-file-line">        &quot;&lt;tr&gt;\n&quot;,</td>
      </tr>
      <tr>
        <td id="L1250" class="blob-num js-line-number" data-line-number="1250"></td>
        <td id="LC1250" class="blob-code js-file-line">        &quot;  &lt;th&gt;Model:&lt;/th&gt;                   &lt;td&gt;OLS&lt;/td&gt;       &lt;th&gt;  Adj. R-squared:    &lt;/th&gt; &lt;td&gt;   0.721&lt;/td&gt;\n&quot;,</td>
      </tr>
      <tr>
        <td id="L1251" class="blob-num js-line-number" data-line-number="1251"></td>
        <td id="LC1251" class="blob-code js-file-line">        &quot;&lt;/tr&gt;\n&quot;,</td>
      </tr>
      <tr>
        <td id="L1252" class="blob-num js-line-number" data-line-number="1252"></td>
        <td id="LC1252" class="blob-code js-file-line">        &quot;&lt;tr&gt;\n&quot;,</td>
      </tr>
      <tr>
        <td id="L1253" class="blob-num js-line-number" data-line-number="1253"></td>
        <td id="LC1253" class="blob-code js-file-line">        &quot;  &lt;th&gt;Method:&lt;/th&gt;             &lt;td&gt;Least Squares&lt;/td&gt;  &lt;th&gt;  F-statistic:       &lt;/th&gt; &lt;td&gt;   60.38&lt;/td&gt;\n&quot;,</td>
      </tr>
      <tr>
        <td id="L1254" class="blob-num js-line-number" data-line-number="1254"></td>
        <td id="LC1254" class="blob-code js-file-line">        &quot;&lt;/tr&gt;\n&quot;,</td>
      </tr>
      <tr>
        <td id="L1255" class="blob-num js-line-number" data-line-number="1255"></td>
        <td id="LC1255" class="blob-code js-file-line">        &quot;&lt;tr&gt;\n&quot;,</td>
      </tr>
      <tr>
        <td id="L1256" class="blob-num js-line-number" data-line-number="1256"></td>
        <td id="LC1256" class="blob-code js-file-line">        &quot;  &lt;th&gt;Date:&lt;/th&gt;             &lt;td&gt;Mon, 20 Oct 2014&lt;/td&gt; &lt;th&gt;  Prob (F-statistic):&lt;/th&gt; &lt;td&gt;2.43e-13&lt;/td&gt;\n&quot;,</td>
      </tr>
      <tr>
        <td id="L1257" class="blob-num js-line-number" data-line-number="1257"></td>
        <td id="LC1257" class="blob-code js-file-line">        &quot;&lt;/tr&gt;\n&quot;,</td>
      </tr>
      <tr>
        <td id="L1258" class="blob-num js-line-number" data-line-number="1258"></td>
        <td id="LC1258" class="blob-code js-file-line">        &quot;&lt;tr&gt;\n&quot;,</td>
      </tr>
      <tr>
        <td id="L1259" class="blob-num js-line-number" data-line-number="1259"></td>
        <td id="LC1259" class="blob-code js-file-line">        &quot;  &lt;th&gt;Time:&lt;/th&gt;                 &lt;td&gt;21:12:25&lt;/td&gt;     &lt;th&gt;  Log-Likelihood:    &lt;/th&gt; &lt;td&gt; -586.77&lt;/td&gt;\n&quot;,</td>
      </tr>
      <tr>
        <td id="L1260" class="blob-num js-line-number" data-line-number="1260"></td>
        <td id="LC1260" class="blob-code js-file-line">        &quot;&lt;/tr&gt;\n&quot;,</td>
      </tr>
      <tr>
        <td id="L1261" class="blob-num js-line-number" data-line-number="1261"></td>
        <td id="LC1261" class="blob-code js-file-line">        &quot;&lt;tr&gt;\n&quot;,</td>
      </tr>
      <tr>
        <td id="L1262" class="blob-num js-line-number" data-line-number="1262"></td>
        <td id="LC1262" class="blob-code js-file-line">        &quot;  &lt;th&gt;No. Observations:&lt;/th&gt;      &lt;td&gt;    47&lt;/td&gt;      &lt;th&gt;  AIC:               &lt;/th&gt; &lt;td&gt;   1180.&lt;/td&gt;\n&quot;,</td>
      </tr>
      <tr>
        <td id="L1263" class="blob-num js-line-number" data-line-number="1263"></td>
        <td id="LC1263" class="blob-code js-file-line">        &quot;&lt;/tr&gt;\n&quot;,</td>
      </tr>
      <tr>
        <td id="L1264" class="blob-num js-line-number" data-line-number="1264"></td>
        <td id="LC1264" class="blob-code js-file-line">        &quot;&lt;tr&gt;\n&quot;,</td>
      </tr>
      <tr>
        <td id="L1265" class="blob-num js-line-number" data-line-number="1265"></td>
        <td id="LC1265" class="blob-code js-file-line">        &quot;  &lt;th&gt;Df Residuals:&lt;/th&gt;          &lt;td&gt;    44&lt;/td&gt;      &lt;th&gt;  BIC:               &lt;/th&gt; &lt;td&gt;   1185.&lt;/td&gt;\n&quot;,</td>
      </tr>
      <tr>
        <td id="L1266" class="blob-num js-line-number" data-line-number="1266"></td>
        <td id="LC1266" class="blob-code js-file-line">        &quot;&lt;/tr&gt;\n&quot;,</td>
      </tr>
      <tr>
        <td id="L1267" class="blob-num js-line-number" data-line-number="1267"></td>
        <td id="LC1267" class="blob-code js-file-line">        &quot;&lt;tr&gt;\n&quot;,</td>
      </tr>
      <tr>
        <td id="L1268" class="blob-num js-line-number" data-line-number="1268"></td>
        <td id="LC1268" class="blob-code js-file-line">        &quot;  &lt;th&gt;Df Model:&lt;/th&gt;              &lt;td&gt;     2&lt;/td&gt;      &lt;th&gt;                     &lt;/th&gt;     &lt;td&gt; &lt;/td&gt;   \n&quot;,</td>
      </tr>
      <tr>
        <td id="L1269" class="blob-num js-line-number" data-line-number="1269"></td>
        <td id="LC1269" class="blob-code js-file-line">        &quot;&lt;/tr&gt;\n&quot;,</td>
      </tr>
      <tr>
        <td id="L1270" class="blob-num js-line-number" data-line-number="1270"></td>
        <td id="LC1270" class="blob-code js-file-line">        &quot;&lt;/table&gt;\n&quot;,</td>
      </tr>
      <tr>
        <td id="L1271" class="blob-num js-line-number" data-line-number="1271"></td>
        <td id="LC1271" class="blob-code js-file-line">        &quot;&lt;table class=\&quot;simpletable\&quot;&gt;\n&quot;,</td>
      </tr>
      <tr>
        <td id="L1272" class="blob-num js-line-number" data-line-number="1272"></td>
        <td id="LC1272" class="blob-code js-file-line">        &quot;&lt;tr&gt;\n&quot;,</td>
      </tr>
      <tr>
        <td id="L1273" class="blob-num js-line-number" data-line-number="1273"></td>
        <td id="LC1273" class="blob-code js-file-line">        &quot;      &lt;td&gt;&lt;/td&gt;         &lt;th&gt;coef&lt;/th&gt;     &lt;th&gt;std err&lt;/th&gt;      &lt;th&gt;t&lt;/th&gt;      &lt;th&gt;P&gt;|t|&lt;/th&gt; &lt;th&gt;[95.0% Conf. Int.]&lt;/th&gt; \n&quot;,</td>
      </tr>
      <tr>
        <td id="L1274" class="blob-num js-line-number" data-line-number="1274"></td>
        <td id="LC1274" class="blob-code js-file-line">        &quot;&lt;/tr&gt;\n&quot;,</td>
      </tr>
      <tr>
        <td id="L1275" class="blob-num js-line-number" data-line-number="1275"></td>
        <td id="LC1275" class="blob-code js-file-line">        &quot;&lt;tr&gt;\n&quot;,</td>
      </tr>
      <tr>
        <td id="L1276" class="blob-num js-line-number" data-line-number="1276"></td>
        <td id="LC1276" class="blob-code js-file-line">        &quot;  &lt;th&gt;Intercept&lt;/th&gt; &lt;td&gt;  8.96e+04&lt;/td&gt; &lt;td&gt; 4.18e+04&lt;/td&gt; &lt;td&gt;    2.145&lt;/td&gt; &lt;td&gt; 0.037&lt;/td&gt; &lt;td&gt; 5421.208  1.74e+05&lt;/td&gt;\n&quot;,</td>
      </tr>
      <tr>
        <td id="L1277" class="blob-num js-line-number" data-line-number="1277"></td>
        <td id="LC1277" class="blob-code js-file-line">        &quot;&lt;/tr&gt;\n&quot;,</td>
      </tr>
      <tr>
        <td id="L1278" class="blob-num js-line-number" data-line-number="1278"></td>
        <td id="LC1278" class="blob-code js-file-line">        &quot;&lt;tr&gt;\n&quot;,</td>
      </tr>
      <tr>
        <td id="L1279" class="blob-num js-line-number" data-line-number="1279"></td>
        <td id="LC1279" class="blob-code js-file-line">        &quot;  &lt;th&gt;sqft&lt;/th&gt;      &lt;td&gt;  139.2107&lt;/td&gt; &lt;td&gt;   14.795&lt;/td&gt; &lt;td&gt;    9.409&lt;/td&gt; &lt;td&gt; 0.000&lt;/td&gt; &lt;td&gt;  109.393   169.028&lt;/td&gt;\n&quot;,</td>
      </tr>
      <tr>
        <td id="L1280" class="blob-num js-line-number" data-line-number="1280"></td>
        <td id="LC1280" class="blob-code js-file-line">        &quot;&lt;/tr&gt;\n&quot;,</td>
      </tr>
      <tr>
        <td id="L1281" class="blob-num js-line-number" data-line-number="1281"></td>
        <td id="LC1281" class="blob-code js-file-line">        &quot;&lt;tr&gt;\n&quot;,</td>
      </tr>
      <tr>
        <td id="L1282" class="blob-num js-line-number" data-line-number="1282"></td>
        <td id="LC1282" class="blob-code js-file-line">        &quot;  &lt;th&gt;bedrooms&lt;/th&gt;  &lt;td&gt;-8738.0191&lt;/td&gt; &lt;td&gt; 1.55e+04&lt;/td&gt; &lt;td&gt;   -0.566&lt;/td&gt; &lt;td&gt; 0.575&lt;/td&gt; &lt;td&gt;-3.99e+04  2.24e+04&lt;/td&gt;\n&quot;,</td>
      </tr>
      <tr>
        <td id="L1283" class="blob-num js-line-number" data-line-number="1283"></td>
        <td id="LC1283" class="blob-code js-file-line">        &quot;&lt;/tr&gt;\n&quot;,</td>
      </tr>
      <tr>
        <td id="L1284" class="blob-num js-line-number" data-line-number="1284"></td>
        <td id="LC1284" class="blob-code js-file-line">        &quot;&lt;/table&gt;\n&quot;,</td>
      </tr>
      <tr>
        <td id="L1285" class="blob-num js-line-number" data-line-number="1285"></td>
        <td id="LC1285" class="blob-code js-file-line">        &quot;&lt;table class=\&quot;simpletable\&quot;&gt;\n&quot;,</td>
      </tr>
      <tr>
        <td id="L1286" class="blob-num js-line-number" data-line-number="1286"></td>
        <td id="LC1286" class="blob-code js-file-line">        &quot;&lt;tr&gt;\n&quot;,</td>
      </tr>
      <tr>
        <td id="L1287" class="blob-num js-line-number" data-line-number="1287"></td>
        <td id="LC1287" class="blob-code js-file-line">        &quot;  &lt;th&gt;Omnibus:&lt;/th&gt;       &lt;td&gt; 4.083&lt;/td&gt; &lt;th&gt;  Durbin-Watson:     &lt;/th&gt; &lt;td&gt;   1.826&lt;/td&gt;\n&quot;,</td>
      </tr>
      <tr>
        <td id="L1288" class="blob-num js-line-number" data-line-number="1288"></td>
        <td id="LC1288" class="blob-code js-file-line">        &quot;&lt;/tr&gt;\n&quot;,</td>
      </tr>
      <tr>
        <td id="L1289" class="blob-num js-line-number" data-line-number="1289"></td>
        <td id="LC1289" class="blob-code js-file-line">        &quot;&lt;tr&gt;\n&quot;,</td>
      </tr>
      <tr>
        <td id="L1290" class="blob-num js-line-number" data-line-number="1290"></td>
        <td id="LC1290" class="blob-code js-file-line">        &quot;  &lt;th&gt;Prob(Omnibus):&lt;/th&gt; &lt;td&gt; 0.130&lt;/td&gt; &lt;th&gt;  Jarque-Bera (JB):  &lt;/th&gt; &lt;td&gt;   2.977&lt;/td&gt;\n&quot;,</td>
      </tr>
      <tr>
        <td id="L1291" class="blob-num js-line-number" data-line-number="1291"></td>
        <td id="LC1291" class="blob-code js-file-line">        &quot;&lt;/tr&gt;\n&quot;,</td>
      </tr>
      <tr>
        <td id="L1292" class="blob-num js-line-number" data-line-number="1292"></td>
        <td id="LC1292" class="blob-code js-file-line">        &quot;&lt;tr&gt;\n&quot;,</td>
      </tr>
      <tr>
        <td id="L1293" class="blob-num js-line-number" data-line-number="1293"></td>
        <td id="LC1293" class="blob-code js-file-line">        &quot;  &lt;th&gt;Skew:&lt;/th&gt;          &lt;td&gt; 0.567&lt;/td&gt; &lt;th&gt;  Prob(JB):          &lt;/th&gt; &lt;td&gt;   0.226&lt;/td&gt;\n&quot;,</td>
      </tr>
      <tr>
        <td id="L1294" class="blob-num js-line-number" data-line-number="1294"></td>
        <td id="LC1294" class="blob-code js-file-line">        &quot;&lt;/tr&gt;\n&quot;,</td>
      </tr>
      <tr>
        <td id="L1295" class="blob-num js-line-number" data-line-number="1295"></td>
        <td id="LC1295" class="blob-code js-file-line">        &quot;&lt;tr&gt;\n&quot;,</td>
      </tr>
      <tr>
        <td id="L1296" class="blob-num js-line-number" data-line-number="1296"></td>
        <td id="LC1296" class="blob-code js-file-line">        &quot;  &lt;th&gt;Kurtosis:&lt;/th&gt;      &lt;td&gt; 3.484&lt;/td&gt; &lt;th&gt;  Cond. No.          &lt;/th&gt; &lt;td&gt;9.71e+03&lt;/td&gt;\n&quot;,</td>
      </tr>
      <tr>
        <td id="L1297" class="blob-num js-line-number" data-line-number="1297"></td>
        <td id="LC1297" class="blob-code js-file-line">        &quot;&lt;/tr&gt;\n&quot;,</td>
      </tr>
      <tr>
        <td id="L1298" class="blob-num js-line-number" data-line-number="1298"></td>
        <td id="LC1298" class="blob-code js-file-line">        &quot;&lt;/table&gt;&quot;</td>
      </tr>
      <tr>
        <td id="L1299" class="blob-num js-line-number" data-line-number="1299"></td>
        <td id="LC1299" class="blob-code js-file-line">       ],</td>
      </tr>
      <tr>
        <td id="L1300" class="blob-num js-line-number" data-line-number="1300"></td>
        <td id="LC1300" class="blob-code js-file-line">       &quot;metadata&quot;: {},</td>
      </tr>
      <tr>
        <td id="L1301" class="blob-num js-line-number" data-line-number="1301"></td>
        <td id="LC1301" class="blob-code js-file-line">       &quot;output_type&quot;: &quot;pyout&quot;,</td>
      </tr>
      <tr>
        <td id="L1302" class="blob-num js-line-number" data-line-number="1302"></td>
        <td id="LC1302" class="blob-code js-file-line">       &quot;prompt_number&quot;: 28,</td>
      </tr>
      <tr>
        <td id="L1303" class="blob-num js-line-number" data-line-number="1303"></td>
        <td id="LC1303" class="blob-code js-file-line">       &quot;text&quot;: [</td>
      </tr>
      <tr>
        <td id="L1304" class="blob-num js-line-number" data-line-number="1304"></td>
        <td id="LC1304" class="blob-code js-file-line">        &quot;&lt;class &#39;statsmodels.iolib.summary.Summary&#39;&gt;\n&quot;,</td>
      </tr>
      <tr>
        <td id="L1305" class="blob-num js-line-number" data-line-number="1305"></td>
        <td id="LC1305" class="blob-code js-file-line">        &quot;\&quot;\&quot;\&quot;\n&quot;,</td>
      </tr>
      <tr>
        <td id="L1306" class="blob-num js-line-number" data-line-number="1306"></td>
        <td id="LC1306" class="blob-code js-file-line">        &quot;                            OLS Regression Results                            \n&quot;,</td>
      </tr>
      <tr>
        <td id="L1307" class="blob-num js-line-number" data-line-number="1307"></td>
        <td id="LC1307" class="blob-code js-file-line">        &quot;==============================================================================\n&quot;,</td>
      </tr>
      <tr>
        <td id="L1308" class="blob-num js-line-number" data-line-number="1308"></td>
        <td id="LC1308" class="blob-code js-file-line">        &quot;Dep. Variable:                  price   R-squared:                       0.733\n&quot;,</td>
      </tr>
      <tr>
        <td id="L1309" class="blob-num js-line-number" data-line-number="1309"></td>
        <td id="LC1309" class="blob-code js-file-line">        &quot;Model:                            OLS   Adj. R-squared:                  0.721\n&quot;,</td>
      </tr>
      <tr>
        <td id="L1310" class="blob-num js-line-number" data-line-number="1310"></td>
        <td id="LC1310" class="blob-code js-file-line">        &quot;Method:                 Least Squares   F-statistic:                     60.38\n&quot;,</td>
      </tr>
      <tr>
        <td id="L1311" class="blob-num js-line-number" data-line-number="1311"></td>
        <td id="LC1311" class="blob-code js-file-line">        &quot;Date:                Mon, 20 Oct 2014   Prob (F-statistic):           2.43e-13\n&quot;,</td>
      </tr>
      <tr>
        <td id="L1312" class="blob-num js-line-number" data-line-number="1312"></td>
        <td id="LC1312" class="blob-code js-file-line">        &quot;Time:                        21:12:25   Log-Likelihood:                -586.77\n&quot;,</td>
      </tr>
      <tr>
        <td id="L1313" class="blob-num js-line-number" data-line-number="1313"></td>
        <td id="LC1313" class="blob-code js-file-line">        &quot;No. Observations:                  47   AIC:                             1180.\n&quot;,</td>
      </tr>
      <tr>
        <td id="L1314" class="blob-num js-line-number" data-line-number="1314"></td>
        <td id="LC1314" class="blob-code js-file-line">        &quot;Df Residuals:                      44   BIC:                             1185.\n&quot;,</td>
      </tr>
      <tr>
        <td id="L1315" class="blob-num js-line-number" data-line-number="1315"></td>
        <td id="LC1315" class="blob-code js-file-line">        &quot;Df Model:                           2                                         \n&quot;,</td>
      </tr>
      <tr>
        <td id="L1316" class="blob-num js-line-number" data-line-number="1316"></td>
        <td id="LC1316" class="blob-code js-file-line">        &quot;==============================================================================\n&quot;,</td>
      </tr>
      <tr>
        <td id="L1317" class="blob-num js-line-number" data-line-number="1317"></td>
        <td id="LC1317" class="blob-code js-file-line">        &quot;                 coef    std err          t      P&gt;|t|      [95.0% Conf. Int.]\n&quot;,</td>
      </tr>
      <tr>
        <td id="L1318" class="blob-num js-line-number" data-line-number="1318"></td>
        <td id="LC1318" class="blob-code js-file-line">        &quot;------------------------------------------------------------------------------\n&quot;,</td>
      </tr>
      <tr>
        <td id="L1319" class="blob-num js-line-number" data-line-number="1319"></td>
        <td id="LC1319" class="blob-code js-file-line">        &quot;Intercept    8.96e+04   4.18e+04      2.145      0.037      5421.208  1.74e+05\n&quot;,</td>
      </tr>
      <tr>
        <td id="L1320" class="blob-num js-line-number" data-line-number="1320"></td>
        <td id="LC1320" class="blob-code js-file-line">        &quot;sqft         139.2107     14.795      9.409      0.000       109.393   169.028\n&quot;,</td>
      </tr>
      <tr>
        <td id="L1321" class="blob-num js-line-number" data-line-number="1321"></td>
        <td id="LC1321" class="blob-code js-file-line">        &quot;bedrooms   -8738.0191   1.55e+04     -0.566      0.575     -3.99e+04  2.24e+04\n&quot;,</td>
      </tr>
      <tr>
        <td id="L1322" class="blob-num js-line-number" data-line-number="1322"></td>
        <td id="LC1322" class="blob-code js-file-line">        &quot;==============================================================================\n&quot;,</td>
      </tr>
      <tr>
        <td id="L1323" class="blob-num js-line-number" data-line-number="1323"></td>
        <td id="LC1323" class="blob-code js-file-line">        &quot;Omnibus:                        4.083   Durbin-Watson:                   1.826\n&quot;,</td>
      </tr>
      <tr>
        <td id="L1324" class="blob-num js-line-number" data-line-number="1324"></td>
        <td id="LC1324" class="blob-code js-file-line">        &quot;Prob(Omnibus):                  0.130   Jarque-Bera (JB):                2.977\n&quot;,</td>
      </tr>
      <tr>
        <td id="L1325" class="blob-num js-line-number" data-line-number="1325"></td>
        <td id="LC1325" class="blob-code js-file-line">        &quot;Skew:                           0.567   Prob(JB):                        0.226\n&quot;,</td>
      </tr>
      <tr>
        <td id="L1326" class="blob-num js-line-number" data-line-number="1326"></td>
        <td id="LC1326" class="blob-code js-file-line">        &quot;Kurtosis:                       3.484   Cond. No.                     9.71e+03\n&quot;,</td>
      </tr>
      <tr>
        <td id="L1327" class="blob-num js-line-number" data-line-number="1327"></td>
        <td id="LC1327" class="blob-code js-file-line">        &quot;==============================================================================\n&quot;,</td>
      </tr>
      <tr>
        <td id="L1328" class="blob-num js-line-number" data-line-number="1328"></td>
        <td id="LC1328" class="blob-code js-file-line">        &quot;\n&quot;,</td>
      </tr>
      <tr>
        <td id="L1329" class="blob-num js-line-number" data-line-number="1329"></td>
        <td id="LC1329" class="blob-code js-file-line">        &quot;Warnings:\n&quot;,</td>
      </tr>
      <tr>
        <td id="L1330" class="blob-num js-line-number" data-line-number="1330"></td>
        <td id="LC1330" class="blob-code js-file-line">        &quot;[1] The condition number is large, 9.71e+03. This might indicate that there are\n&quot;,</td>
      </tr>
      <tr>
        <td id="L1331" class="blob-num js-line-number" data-line-number="1331"></td>
        <td id="LC1331" class="blob-code js-file-line">        &quot;strong multicollinearity or other numerical problems.\n&quot;,</td>
      </tr>
      <tr>
        <td id="L1332" class="blob-num js-line-number" data-line-number="1332"></td>
        <td id="LC1332" class="blob-code js-file-line">        &quot;\&quot;\&quot;\&quot;&quot;</td>
      </tr>
      <tr>
        <td id="L1333" class="blob-num js-line-number" data-line-number="1333"></td>
        <td id="LC1333" class="blob-code js-file-line">       ]</td>
      </tr>
      <tr>
        <td id="L1334" class="blob-num js-line-number" data-line-number="1334"></td>
        <td id="LC1334" class="blob-code js-file-line">      }</td>
      </tr>
      <tr>
        <td id="L1335" class="blob-num js-line-number" data-line-number="1335"></td>
        <td id="LC1335" class="blob-code js-file-line">     ],</td>
      </tr>
      <tr>
        <td id="L1336" class="blob-num js-line-number" data-line-number="1336"></td>
        <td id="LC1336" class="blob-code js-file-line">     &quot;prompt_number&quot;: 28</td>
      </tr>
      <tr>
        <td id="L1337" class="blob-num js-line-number" data-line-number="1337"></td>
        <td id="LC1337" class="blob-code js-file-line">    },</td>
      </tr>
      <tr>
        <td id="L1338" class="blob-num js-line-number" data-line-number="1338"></td>
        <td id="LC1338" class="blob-code js-file-line">    {</td>
      </tr>
      <tr>
        <td id="L1339" class="blob-num js-line-number" data-line-number="1339"></td>
        <td id="LC1339" class="blob-code js-file-line">     &quot;cell_type&quot;: &quot;markdown&quot;,</td>
      </tr>
      <tr>
        <td id="L1340" class="blob-num js-line-number" data-line-number="1340"></td>
        <td id="LC1340" class="blob-code js-file-line">     &quot;metadata&quot;: {},</td>
      </tr>
      <tr>
        <td id="L1341" class="blob-num js-line-number" data-line-number="1341"></td>
        <td id="LC1341" class="blob-code js-file-line">     &quot;source&quot;: [</td>
      </tr>
      <tr>
        <td id="L1342" class="blob-num js-line-number" data-line-number="1342"></td>
        <td id="LC1342" class="blob-code js-file-line">      &quot;## Nonlinear Fitting&quot;</td>
      </tr>
      <tr>
        <td id="L1343" class="blob-num js-line-number" data-line-number="1343"></td>
        <td id="LC1343" class="blob-code js-file-line">     ]</td>
      </tr>
      <tr>
        <td id="L1344" class="blob-num js-line-number" data-line-number="1344"></td>
        <td id="LC1344" class="blob-code js-file-line">    },</td>
      </tr>
      <tr>
        <td id="L1345" class="blob-num js-line-number" data-line-number="1345"></td>
        <td id="LC1345" class="blob-code js-file-line">    {</td>
      </tr>
      <tr>
        <td id="L1346" class="blob-num js-line-number" data-line-number="1346"></td>
        <td id="LC1346" class="blob-code js-file-line">     &quot;cell_type&quot;: &quot;markdown&quot;,</td>
      </tr>
      <tr>
        <td id="L1347" class="blob-num js-line-number" data-line-number="1347"></td>
        <td id="LC1347" class="blob-code js-file-line">     &quot;metadata&quot;: {},</td>
      </tr>
      <tr>
        <td id="L1348" class="blob-num js-line-number" data-line-number="1348"></td>
        <td id="LC1348" class="blob-code js-file-line">     &quot;source&quot;: [</td>
      </tr>
      <tr>
        <td id="L1349" class="blob-num js-line-number" data-line-number="1349"></td>
        <td id="LC1349" class="blob-code js-file-line">      &quot;Let&#39;s generate points with an arbitrary nonlinear function&quot;</td>
      </tr>
      <tr>
        <td id="L1350" class="blob-num js-line-number" data-line-number="1350"></td>
        <td id="LC1350" class="blob-code js-file-line">     ]</td>
      </tr>
      <tr>
        <td id="L1351" class="blob-num js-line-number" data-line-number="1351"></td>
        <td id="LC1351" class="blob-code js-file-line">    },</td>
      </tr>
      <tr>
        <td id="L1352" class="blob-num js-line-number" data-line-number="1352"></td>
        <td id="LC1352" class="blob-code js-file-line">    {</td>
      </tr>
      <tr>
        <td id="L1353" class="blob-num js-line-number" data-line-number="1353"></td>
        <td id="LC1353" class="blob-code js-file-line">     &quot;cell_type&quot;: &quot;markdown&quot;,</td>
      </tr>
      <tr>
        <td id="L1354" class="blob-num js-line-number" data-line-number="1354"></td>
        <td id="LC1354" class="blob-code js-file-line">     &quot;metadata&quot;: {},</td>
      </tr>
      <tr>
        <td id="L1355" class="blob-num js-line-number" data-line-number="1355"></td>
        <td id="LC1355" class="blob-code js-file-line">     &quot;source&quot;: [</td>
      </tr>
      <tr>
        <td id="L1356" class="blob-num js-line-number" data-line-number="1356"></td>
        <td id="LC1356" class="blob-code js-file-line">      &quot;$y = \\frac{1}{2} x + \\frac{1}{2} \\sin{x} - \\frac{1}{50} (x-5)^2 + 5$&quot;</td>
      </tr>
      <tr>
        <td id="L1357" class="blob-num js-line-number" data-line-number="1357"></td>
        <td id="LC1357" class="blob-code js-file-line">     ]</td>
      </tr>
      <tr>
        <td id="L1358" class="blob-num js-line-number" data-line-number="1358"></td>
        <td id="LC1358" class="blob-code js-file-line">    },</td>
      </tr>
      <tr>
        <td id="L1359" class="blob-num js-line-number" data-line-number="1359"></td>
        <td id="LC1359" class="blob-code js-file-line">    {</td>
      </tr>
      <tr>
        <td id="L1360" class="blob-num js-line-number" data-line-number="1360"></td>
        <td id="LC1360" class="blob-code js-file-line">     &quot;cell_type&quot;: &quot;code&quot;,</td>
      </tr>
      <tr>
        <td id="L1361" class="blob-num js-line-number" data-line-number="1361"></td>
        <td id="LC1361" class="blob-code js-file-line">     &quot;collapsed&quot;: false,</td>
      </tr>
      <tr>
        <td id="L1362" class="blob-num js-line-number" data-line-number="1362"></td>
        <td id="LC1362" class="blob-code js-file-line">     &quot;input&quot;: [</td>
      </tr>
      <tr>
        <td id="L1363" class="blob-num js-line-number" data-line-number="1363"></td>
        <td id="LC1363" class="blob-code js-file-line">      &quot;# start with some fake data\n&quot;,</td>
      </tr>
      <tr>
        <td id="L1364" class="blob-num js-line-number" data-line-number="1364"></td>
        <td id="LC1364" class="blob-code js-file-line">      &quot;nsample = 50\n&quot;,</td>
      </tr>
      <tr>
        <td id="L1365" class="blob-num js-line-number" data-line-number="1365"></td>
        <td id="LC1365" class="blob-code js-file-line">      &quot;sig = 0.5\n&quot;,</td>
      </tr>
      <tr>
        <td id="L1366" class="blob-num js-line-number" data-line-number="1366"></td>
        <td id="LC1366" class="blob-code js-file-line">      &quot;# generate linear space\n&quot;,</td>
      </tr>
      <tr>
        <td id="L1367" class="blob-num js-line-number" data-line-number="1367"></td>
        <td id="LC1367" class="blob-code js-file-line">      &quot;x = np.linspace(0, 20, nsample)\n&quot;,</td>
      </tr>
      <tr>
        <td id="L1368" class="blob-num js-line-number" data-line-number="1368"></td>
        <td id="LC1368" class="blob-code js-file-line">      &quot;# invent function\n&quot;,</td>
      </tr>
      <tr>
        <td id="L1369" class="blob-num js-line-number" data-line-number="1369"></td>
        <td id="LC1369" class="blob-code js-file-line">      &quot;X = np.c_[x, np.sin(x), (x - 5)**2, np.ones(nsample)]\n&quot;,</td>
      </tr>
      <tr>
        <td id="L1370" class="blob-num js-line-number" data-line-number="1370"></td>
        <td id="LC1370" class="blob-code js-file-line">      &quot;# invent coefficients\n&quot;,</td>
      </tr>
      <tr>
        <td id="L1371" class="blob-num js-line-number" data-line-number="1371"></td>
        <td id="LC1371" class="blob-code js-file-line">      &quot;beta = [1.5, 2.5, -0.2, 15.]\n&quot;,</td>
      </tr>
      <tr>
        <td id="L1372" class="blob-num js-line-number" data-line-number="1372"></td>
        <td id="LC1372" class="blob-code js-file-line">      &quot;# generate |\n&quot;,</td>
      </tr>
      <tr>
        <td id="L1373" class="blob-num js-line-number" data-line-number="1373"></td>
        <td id="LC1373" class="blob-code js-file-line">      &quot;y_true = np.dot(X, beta)\n&quot;,</td>
      </tr>
      <tr>
        <td id="L1374" class="blob-num js-line-number" data-line-number="1374"></td>
        <td id="LC1374" class="blob-code js-file-line">      &quot;# add noise\n&quot;,</td>
      </tr>
      <tr>
        <td id="L1375" class="blob-num js-line-number" data-line-number="1375"></td>
        <td id="LC1375" class="blob-code js-file-line">      &quot;y = y_true + sig * np.random.normal(size=nsample)&quot;</td>
      </tr>
      <tr>
        <td id="L1376" class="blob-num js-line-number" data-line-number="1376"></td>
        <td id="LC1376" class="blob-code js-file-line">     ],</td>
      </tr>
      <tr>
        <td id="L1377" class="blob-num js-line-number" data-line-number="1377"></td>
        <td id="LC1377" class="blob-code js-file-line">     &quot;language&quot;: &quot;python&quot;,</td>
      </tr>
      <tr>
        <td id="L1378" class="blob-num js-line-number" data-line-number="1378"></td>
        <td id="LC1378" class="blob-code js-file-line">     &quot;metadata&quot;: {},</td>
      </tr>
      <tr>
        <td id="L1379" class="blob-num js-line-number" data-line-number="1379"></td>
        <td id="LC1379" class="blob-code js-file-line">     &quot;outputs&quot;: [],</td>
      </tr>
      <tr>
        <td id="L1380" class="blob-num js-line-number" data-line-number="1380"></td>
        <td id="LC1380" class="blob-code js-file-line">     &quot;prompt_number&quot;: 55</td>
      </tr>
      <tr>
        <td id="L1381" class="blob-num js-line-number" data-line-number="1381"></td>
        <td id="LC1381" class="blob-code js-file-line">    },</td>
      </tr>
      <tr>
        <td id="L1382" class="blob-num js-line-number" data-line-number="1382"></td>
        <td id="LC1382" class="blob-code js-file-line">    {</td>
      </tr>
      <tr>
        <td id="L1383" class="blob-num js-line-number" data-line-number="1383"></td>
        <td id="LC1383" class="blob-code js-file-line">     &quot;cell_type&quot;: &quot;code&quot;,</td>
      </tr>
      <tr>
        <td id="L1384" class="blob-num js-line-number" data-line-number="1384"></td>
        <td id="LC1384" class="blob-code js-file-line">     &quot;collapsed&quot;: false,</td>
      </tr>
      <tr>
        <td id="L1385" class="blob-num js-line-number" data-line-number="1385"></td>
        <td id="LC1385" class="blob-code js-file-line">     &quot;input&quot;: [</td>
      </tr>
      <tr>
        <td id="L1386" class="blob-num js-line-number" data-line-number="1386"></td>
        <td id="LC1386" class="blob-code js-file-line">      &quot;X = np.c_[x, np.sin(x), (x - 5)**2, np.ones(nsample)]\n&quot;,</td>
      </tr>
      <tr>
        <td id="L1387" class="blob-num js-line-number" data-line-number="1387"></td>
        <td id="LC1387" class="blob-code js-file-line">      &quot;X.shape\n&quot;,</td>
      </tr>
      <tr>
        <td id="L1388" class="blob-num js-line-number" data-line-number="1388"></td>
        <td id="LC1388" class="blob-code js-file-line">      &quot;x.shape\n&quot;,</td>
      </tr>
      <tr>
        <td id="L1389" class="blob-num js-line-number" data-line-number="1389"></td>
        <td id="LC1389" class="blob-code js-file-line">      &quot;y_true.shape&quot;</td>
      </tr>
      <tr>
        <td id="L1390" class="blob-num js-line-number" data-line-number="1390"></td>
        <td id="LC1390" class="blob-code js-file-line">     ],</td>
      </tr>
      <tr>
        <td id="L1391" class="blob-num js-line-number" data-line-number="1391"></td>
        <td id="LC1391" class="blob-code js-file-line">     &quot;language&quot;: &quot;python&quot;,</td>
      </tr>
      <tr>
        <td id="L1392" class="blob-num js-line-number" data-line-number="1392"></td>
        <td id="LC1392" class="blob-code js-file-line">     &quot;metadata&quot;: {},</td>
      </tr>
      <tr>
        <td id="L1393" class="blob-num js-line-number" data-line-number="1393"></td>
        <td id="LC1393" class="blob-code js-file-line">     &quot;outputs&quot;: [</td>
      </tr>
      <tr>
        <td id="L1394" class="blob-num js-line-number" data-line-number="1394"></td>
        <td id="LC1394" class="blob-code js-file-line">      {</td>
      </tr>
      <tr>
        <td id="L1395" class="blob-num js-line-number" data-line-number="1395"></td>
        <td id="LC1395" class="blob-code js-file-line">       &quot;metadata&quot;: {},</td>
      </tr>
      <tr>
        <td id="L1396" class="blob-num js-line-number" data-line-number="1396"></td>
        <td id="LC1396" class="blob-code js-file-line">       &quot;output_type&quot;: &quot;pyout&quot;,</td>
      </tr>
      <tr>
        <td id="L1397" class="blob-num js-line-number" data-line-number="1397"></td>
        <td id="LC1397" class="blob-code js-file-line">       &quot;prompt_number&quot;: 56,</td>
      </tr>
      <tr>
        <td id="L1398" class="blob-num js-line-number" data-line-number="1398"></td>
        <td id="LC1398" class="blob-code js-file-line">       &quot;text&quot;: [</td>
      </tr>
      <tr>
        <td id="L1399" class="blob-num js-line-number" data-line-number="1399"></td>
        <td id="LC1399" class="blob-code js-file-line">        &quot;(50,)&quot;</td>
      </tr>
      <tr>
        <td id="L1400" class="blob-num js-line-number" data-line-number="1400"></td>
        <td id="LC1400" class="blob-code js-file-line">       ]</td>
      </tr>
      <tr>
        <td id="L1401" class="blob-num js-line-number" data-line-number="1401"></td>
        <td id="LC1401" class="blob-code js-file-line">      }</td>
      </tr>
      <tr>
        <td id="L1402" class="blob-num js-line-number" data-line-number="1402"></td>
        <td id="LC1402" class="blob-code js-file-line">     ],</td>
      </tr>
      <tr>
        <td id="L1403" class="blob-num js-line-number" data-line-number="1403"></td>
        <td id="LC1403" class="blob-code js-file-line">     &quot;prompt_number&quot;: 56</td>
      </tr>
      <tr>
        <td id="L1404" class="blob-num js-line-number" data-line-number="1404"></td>
        <td id="LC1404" class="blob-code js-file-line">    },</td>
      </tr>
      <tr>
        <td id="L1405" class="blob-num js-line-number" data-line-number="1405"></td>
        <td id="LC1405" class="blob-code js-file-line">    {</td>
      </tr>
      <tr>
        <td id="L1406" class="blob-num js-line-number" data-line-number="1406"></td>
        <td id="LC1406" class="blob-code js-file-line">     &quot;cell_type&quot;: &quot;code&quot;,</td>
      </tr>
      <tr>
        <td id="L1407" class="blob-num js-line-number" data-line-number="1407"></td>
        <td id="LC1407" class="blob-code js-file-line">     &quot;collapsed&quot;: false,</td>
      </tr>
      <tr>
        <td id="L1408" class="blob-num js-line-number" data-line-number="1408"></td>
        <td id="LC1408" class="blob-code js-file-line">     &quot;input&quot;: [</td>
      </tr>
      <tr>
        <td id="L1409" class="blob-num js-line-number" data-line-number="1409"></td>
        <td id="LC1409" class="blob-code js-file-line">      &quot;np.random.normal(size=nsample)&quot;</td>
      </tr>
      <tr>
        <td id="L1410" class="blob-num js-line-number" data-line-number="1410"></td>
        <td id="LC1410" class="blob-code js-file-line">     ],</td>
      </tr>
      <tr>
        <td id="L1411" class="blob-num js-line-number" data-line-number="1411"></td>
        <td id="LC1411" class="blob-code js-file-line">     &quot;language&quot;: &quot;python&quot;,</td>
      </tr>
      <tr>
        <td id="L1412" class="blob-num js-line-number" data-line-number="1412"></td>
        <td id="LC1412" class="blob-code js-file-line">     &quot;metadata&quot;: {},</td>
      </tr>
      <tr>
        <td id="L1413" class="blob-num js-line-number" data-line-number="1413"></td>
        <td id="LC1413" class="blob-code js-file-line">     &quot;outputs&quot;: [</td>
      </tr>
      <tr>
        <td id="L1414" class="blob-num js-line-number" data-line-number="1414"></td>
        <td id="LC1414" class="blob-code js-file-line">      {</td>
      </tr>
      <tr>
        <td id="L1415" class="blob-num js-line-number" data-line-number="1415"></td>
        <td id="LC1415" class="blob-code js-file-line">       &quot;metadata&quot;: {},</td>
      </tr>
      <tr>
        <td id="L1416" class="blob-num js-line-number" data-line-number="1416"></td>
        <td id="LC1416" class="blob-code js-file-line">       &quot;output_type&quot;: &quot;pyout&quot;,</td>
      </tr>
      <tr>
        <td id="L1417" class="blob-num js-line-number" data-line-number="1417"></td>
        <td id="LC1417" class="blob-code js-file-line">       &quot;prompt_number&quot;: 57,</td>
      </tr>
      <tr>
        <td id="L1418" class="blob-num js-line-number" data-line-number="1418"></td>
        <td id="LC1418" class="blob-code js-file-line">       &quot;text&quot;: [</td>
      </tr>
      <tr>
        <td id="L1419" class="blob-num js-line-number" data-line-number="1419"></td>
        <td id="LC1419" class="blob-code js-file-line">        &quot;array([-1.03188213,  0.15004602,  0.75841253,  1.16289347, -0.6160019 ,\n&quot;,</td>
      </tr>
      <tr>
        <td id="L1420" class="blob-num js-line-number" data-line-number="1420"></td>
        <td id="LC1420" class="blob-code js-file-line">        &quot;        0.75897199,  1.64908566,  2.23072786, -0.78705297, -0.10814376,\n&quot;,</td>
      </tr>
      <tr>
        <td id="L1421" class="blob-num js-line-number" data-line-number="1421"></td>
        <td id="LC1421" class="blob-code js-file-line">        &quot;        2.33643945,  0.60983476,  0.68526482,  0.2907625 , -0.53775701,\n&quot;,</td>
      </tr>
      <tr>
        <td id="L1422" class="blob-num js-line-number" data-line-number="1422"></td>
        <td id="LC1422" class="blob-code js-file-line">        &quot;        1.56571734, -1.73143772, -0.6882914 ,  0.96671682, -1.96519001,\n&quot;,</td>
      </tr>
      <tr>
        <td id="L1423" class="blob-num js-line-number" data-line-number="1423"></td>
        <td id="LC1423" class="blob-code js-file-line">        &quot;        0.72865598, -0.94992205,  0.35141659, -0.35598127, -1.53289198,\n&quot;,</td>
      </tr>
      <tr>
        <td id="L1424" class="blob-num js-line-number" data-line-number="1424"></td>
        <td id="LC1424" class="blob-code js-file-line">        &quot;        0.53335184,  0.56503169,  0.6024033 ,  0.64596614, -2.18945286,\n&quot;,</td>
      </tr>
      <tr>
        <td id="L1425" class="blob-num js-line-number" data-line-number="1425"></td>
        <td id="LC1425" class="blob-code js-file-line">        &quot;       -1.20542444,  0.71777145, -1.56098612, -0.22194462, -1.44553005,\n&quot;,</td>
      </tr>
      <tr>
        <td id="L1426" class="blob-num js-line-number" data-line-number="1426"></td>
        <td id="LC1426" class="blob-code js-file-line">        &quot;       -0.30546083, -0.14251038, -0.14159261, -0.89369642, -1.97334823,\n&quot;,</td>
      </tr>
      <tr>
        <td id="L1427" class="blob-num js-line-number" data-line-number="1427"></td>
        <td id="LC1427" class="blob-code js-file-line">        &quot;       -1.30799395,  0.16134236, -0.08953732, -0.2099318 , -1.25004093,\n&quot;,</td>
      </tr>
      <tr>
        <td id="L1428" class="blob-num js-line-number" data-line-number="1428"></td>
        <td id="LC1428" class="blob-code js-file-line">        &quot;        1.58029928, -0.04189858, -0.71847644,  0.07816554,  1.37200851])&quot;</td>
      </tr>
      <tr>
        <td id="L1429" class="blob-num js-line-number" data-line-number="1429"></td>
        <td id="LC1429" class="blob-code js-file-line">       ]</td>
      </tr>
      <tr>
        <td id="L1430" class="blob-num js-line-number" data-line-number="1430"></td>
        <td id="LC1430" class="blob-code js-file-line">      }</td>
      </tr>
      <tr>
        <td id="L1431" class="blob-num js-line-number" data-line-number="1431"></td>
        <td id="LC1431" class="blob-code js-file-line">     ],</td>
      </tr>
      <tr>
        <td id="L1432" class="blob-num js-line-number" data-line-number="1432"></td>
        <td id="LC1432" class="blob-code js-file-line">     &quot;prompt_number&quot;: 57</td>
      </tr>
      <tr>
        <td id="L1433" class="blob-num js-line-number" data-line-number="1433"></td>
        <td id="LC1433" class="blob-code js-file-line">    },</td>
      </tr>
      <tr>
        <td id="L1434" class="blob-num js-line-number" data-line-number="1434"></td>
        <td id="LC1434" class="blob-code js-file-line">    {</td>
      </tr>
      <tr>
        <td id="L1435" class="blob-num js-line-number" data-line-number="1435"></td>
        <td id="LC1435" class="blob-code js-file-line">     &quot;cell_type&quot;: &quot;markdown&quot;,</td>
      </tr>
      <tr>
        <td id="L1436" class="blob-num js-line-number" data-line-number="1436"></td>
        <td id="LC1436" class="blob-code js-file-line">     &quot;metadata&quot;: {},</td>
      </tr>
      <tr>
        <td id="L1437" class="blob-num js-line-number" data-line-number="1437"></td>
        <td id="LC1437" class="blob-code js-file-line">     &quot;source&quot;: [</td>
      </tr>
      <tr>
        <td id="L1438" class="blob-num js-line-number" data-line-number="1438"></td>
        <td id="LC1438" class="blob-code js-file-line">      &quot;quick look at the data&quot;</td>
      </tr>
      <tr>
        <td id="L1439" class="blob-num js-line-number" data-line-number="1439"></td>
        <td id="LC1439" class="blob-code js-file-line">     ]</td>
      </tr>
      <tr>
        <td id="L1440" class="blob-num js-line-number" data-line-number="1440"></td>
        <td id="LC1440" class="blob-code js-file-line">    },</td>
      </tr>
      <tr>
        <td id="L1441" class="blob-num js-line-number" data-line-number="1441"></td>
        <td id="LC1441" class="blob-code js-file-line">    {</td>
      </tr>
      <tr>
        <td id="L1442" class="blob-num js-line-number" data-line-number="1442"></td>
        <td id="LC1442" class="blob-code js-file-line">     &quot;cell_type&quot;: &quot;code&quot;,</td>
      </tr>
      <tr>
        <td id="L1443" class="blob-num js-line-number" data-line-number="1443"></td>
        <td id="LC1443" class="blob-code js-file-line">     &quot;collapsed&quot;: false,</td>
      </tr>
      <tr>
        <td id="L1444" class="blob-num js-line-number" data-line-number="1444"></td>
        <td id="LC1444" class="blob-code js-file-line">     &quot;input&quot;: [</td>
      </tr>
      <tr>
        <td id="L1445" class="blob-num js-line-number" data-line-number="1445"></td>
        <td id="LC1445" class="blob-code js-file-line">      &quot;# nice! ipython shortcuts!\n&quot;,</td>
      </tr>
      <tr>
        <td id="L1446" class="blob-num js-line-number" data-line-number="1446"></td>
        <td id="LC1446" class="blob-code js-file-line">      &quot;plt.plot(x, y_true)\n&quot;,</td>
      </tr>
      <tr>
        <td id="L1447" class="blob-num js-line-number" data-line-number="1447"></td>
        <td id="LC1447" class="blob-code js-file-line">      &quot;plt.scatter(x, y, c=&#39;g&#39;)\n&quot;,</td>
      </tr>
      <tr>
        <td id="L1448" class="blob-num js-line-number" data-line-number="1448"></td>
        <td id="LC1448" class="blob-code js-file-line">      &quot;plt.show()&quot;</td>
      </tr>
      <tr>
        <td id="L1449" class="blob-num js-line-number" data-line-number="1449"></td>
        <td id="LC1449" class="blob-code js-file-line">     ],</td>
      </tr>
      <tr>
        <td id="L1450" class="blob-num js-line-number" data-line-number="1450"></td>
        <td id="LC1450" class="blob-code js-file-line">     &quot;language&quot;: &quot;python&quot;,</td>
      </tr>
      <tr>
        <td id="L1451" class="blob-num js-line-number" data-line-number="1451"></td>
        <td id="LC1451" class="blob-code js-file-line">     &quot;metadata&quot;: {},</td>
      </tr>
      <tr>
        <td id="L1452" class="blob-num js-line-number" data-line-number="1452"></td>
        <td id="LC1452" class="blob-code js-file-line">     &quot;outputs&quot;: [</td>
      </tr>
      <tr>
        <td id="L1453" class="blob-num js-line-number" data-line-number="1453"></td>
        <td id="LC1453" class="blob-code js-file-line">      {</td>
      </tr>
      <tr>
        <td id="L1454" class="blob-num js-line-number" data-line-number="1454"></td>
        <td id="LC1454" class="blob-code js-file-line">       &quot;metadata&quot;: {},</td>
      </tr>
      <tr>
        <td id="L1455" class="blob-num js-line-number" data-line-number="1455"></td>
        <td id="LC1455" class="blob-code js-file-line">       &quot;output_type&quot;: &quot;display_data&quot;,</td>
      </tr>
      <tr>
        <td id="L1456" class="blob-num js-line-number" data-line-number="1456"></td>
        <td id="LC1456" class="blob-code js-file-line">       &quot;png&quot;: &quot;iVBORw0KGgoAAAANSUhEUgAAAXIAAAEACAYAAACuzv3DAAAABHNCSVQICAgIfAhkiAAAAAlwSFlz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\nCCGEEEIIIYQQQtzu/wH1wAWnyxcMkgAAAABJRU5ErkJggg==\n&quot;,</td>
      </tr>
      <tr>
        <td id="L1457" class="blob-num js-line-number" data-line-number="1457"></td>
        <td id="LC1457" class="blob-code js-file-line">       &quot;text&quot;: [</td>
      </tr>
      <tr>
        <td id="L1458" class="blob-num js-line-number" data-line-number="1458"></td>
        <td id="LC1458" class="blob-code js-file-line">        &quot;&lt;matplotlib.figure.Figure at 0x10ca4d690&gt;&quot;</td>
      </tr>
      <tr>
        <td id="L1459" class="blob-num js-line-number" data-line-number="1459"></td>
        <td id="LC1459" class="blob-code js-file-line">       ]</td>
      </tr>
      <tr>
        <td id="L1460" class="blob-num js-line-number" data-line-number="1460"></td>
        <td id="LC1460" class="blob-code js-file-line">      }</td>
      </tr>
      <tr>
        <td id="L1461" class="blob-num js-line-number" data-line-number="1461"></td>
        <td id="LC1461" class="blob-code js-file-line">     ],</td>
      </tr>
      <tr>
        <td id="L1462" class="blob-num js-line-number" data-line-number="1462"></td>
        <td id="LC1462" class="blob-code js-file-line">     &quot;prompt_number&quot;: 58</td>
      </tr>
      <tr>
        <td id="L1463" class="blob-num js-line-number" data-line-number="1463"></td>
        <td id="LC1463" class="blob-code js-file-line">    },</td>
      </tr>
      <tr>
        <td id="L1464" class="blob-num js-line-number" data-line-number="1464"></td>
        <td id="LC1464" class="blob-code js-file-line">    {</td>
      </tr>
      <tr>
        <td id="L1465" class="blob-num js-line-number" data-line-number="1465"></td>
        <td id="LC1465" class="blob-code js-file-line">     &quot;cell_type&quot;: &quot;code&quot;,</td>
      </tr>
      <tr>
        <td id="L1466" class="blob-num js-line-number" data-line-number="1466"></td>
        <td id="LC1466" class="blob-code js-file-line">     &quot;collapsed&quot;: false,</td>
      </tr>
      <tr>
        <td id="L1467" class="blob-num js-line-number" data-line-number="1467"></td>
        <td id="LC1467" class="blob-code js-file-line">     &quot;input&quot;: [</td>
      </tr>
      <tr>
        <td id="L1468" class="blob-num js-line-number" data-line-number="1468"></td>
        <td id="LC1468" class="blob-code js-file-line">      &quot;res = sm.OLS(y, X).fit()\n&quot;,</td>
      </tr>
      <tr>
        <td id="L1469" class="blob-num js-line-number" data-line-number="1469"></td>
        <td id="LC1469" class="blob-code js-file-line">      &quot;res.summary()&quot;</td>
      </tr>
      <tr>
        <td id="L1470" class="blob-num js-line-number" data-line-number="1470"></td>
        <td id="LC1470" class="blob-code js-file-line">     ],</td>
      </tr>
      <tr>
        <td id="L1471" class="blob-num js-line-number" data-line-number="1471"></td>
        <td id="LC1471" class="blob-code js-file-line">     &quot;language&quot;: &quot;python&quot;,</td>
      </tr>
      <tr>
        <td id="L1472" class="blob-num js-line-number" data-line-number="1472"></td>
        <td id="LC1472" class="blob-code js-file-line">     &quot;metadata&quot;: {},</td>
      </tr>
      <tr>
        <td id="L1473" class="blob-num js-line-number" data-line-number="1473"></td>
        <td id="LC1473" class="blob-code js-file-line">     &quot;outputs&quot;: [</td>
      </tr>
      <tr>
        <td id="L1474" class="blob-num js-line-number" data-line-number="1474"></td>
        <td id="LC1474" class="blob-code js-file-line">      {</td>
      </tr>
      <tr>
        <td id="L1475" class="blob-num js-line-number" data-line-number="1475"></td>
        <td id="LC1475" class="blob-code js-file-line">       &quot;html&quot;: [</td>
      </tr>
      <tr>
        <td id="L1476" class="blob-num js-line-number" data-line-number="1476"></td>
        <td id="LC1476" class="blob-code js-file-line">        &quot;&lt;table class=\&quot;simpletable\&quot;&gt;\n&quot;,</td>
      </tr>
      <tr>
        <td id="L1477" class="blob-num js-line-number" data-line-number="1477"></td>
        <td id="LC1477" class="blob-code js-file-line">        &quot;&lt;caption&gt;OLS Regression Results&lt;/caption&gt;\n&quot;,</td>
      </tr>
      <tr>
        <td id="L1478" class="blob-num js-line-number" data-line-number="1478"></td>
        <td id="LC1478" class="blob-code js-file-line">        &quot;&lt;tr&gt;\n&quot;,</td>
      </tr>
      <tr>
        <td id="L1479" class="blob-num js-line-number" data-line-number="1479"></td>
        <td id="LC1479" class="blob-code js-file-line">        &quot;  &lt;th&gt;Dep. Variable:&lt;/th&gt;            &lt;td&gt;y&lt;/td&gt;        &lt;th&gt;  R-squared:         &lt;/th&gt; &lt;td&gt;   0.996&lt;/td&gt;\n&quot;,</td>
      </tr>
      <tr>
        <td id="L1480" class="blob-num js-line-number" data-line-number="1480"></td>
        <td id="LC1480" class="blob-code js-file-line">        &quot;&lt;/tr&gt;\n&quot;,</td>
      </tr>
      <tr>
        <td id="L1481" class="blob-num js-line-number" data-line-number="1481"></td>
        <td id="LC1481" class="blob-code js-file-line">        &quot;&lt;tr&gt;\n&quot;,</td>
      </tr>
      <tr>
        <td id="L1482" class="blob-num js-line-number" data-line-number="1482"></td>
        <td id="LC1482" class="blob-code js-file-line">        &quot;  &lt;th&gt;Model:&lt;/th&gt;                   &lt;td&gt;OLS&lt;/td&gt;       &lt;th&gt;  Adj. R-squared:    &lt;/th&gt; &lt;td&gt;   0.995&lt;/td&gt;\n&quot;,</td>
      </tr>
      <tr>
        <td id="L1483" class="blob-num js-line-number" data-line-number="1483"></td>
        <td id="LC1483" class="blob-code js-file-line">        &quot;&lt;/tr&gt;\n&quot;,</td>
      </tr>
      <tr>
        <td id="L1484" class="blob-num js-line-number" data-line-number="1484"></td>
        <td id="LC1484" class="blob-code js-file-line">        &quot;&lt;tr&gt;\n&quot;,</td>
      </tr>
      <tr>
        <td id="L1485" class="blob-num js-line-number" data-line-number="1485"></td>
        <td id="LC1485" class="blob-code js-file-line">        &quot;  &lt;th&gt;Method:&lt;/th&gt;             &lt;td&gt;Least Squares&lt;/td&gt;  &lt;th&gt;  F-statistic:       &lt;/th&gt; &lt;td&gt;   3487.&lt;/td&gt;\n&quot;,</td>
      </tr>
      <tr>
        <td id="L1486" class="blob-num js-line-number" data-line-number="1486"></td>
        <td id="LC1486" class="blob-code js-file-line">        &quot;&lt;/tr&gt;\n&quot;,</td>
      </tr>
      <tr>
        <td id="L1487" class="blob-num js-line-number" data-line-number="1487"></td>
        <td id="LC1487" class="blob-code js-file-line">        &quot;&lt;tr&gt;\n&quot;,</td>
      </tr>
      <tr>
        <td id="L1488" class="blob-num js-line-number" data-line-number="1488"></td>
        <td id="LC1488" class="blob-code js-file-line">        &quot;  &lt;th&gt;Date:&lt;/th&gt;             &lt;td&gt;Mon, 20 Oct 2014&lt;/td&gt; &lt;th&gt;  Prob (F-statistic):&lt;/th&gt; &lt;td&gt;3.07e-54&lt;/td&gt;\n&quot;,</td>
      </tr>
      <tr>
        <td id="L1489" class="blob-num js-line-number" data-line-number="1489"></td>
        <td id="LC1489" class="blob-code js-file-line">        &quot;&lt;/tr&gt;\n&quot;,</td>
      </tr>
      <tr>
        <td id="L1490" class="blob-num js-line-number" data-line-number="1490"></td>
        <td id="LC1490" class="blob-code js-file-line">        &quot;&lt;tr&gt;\n&quot;,</td>
      </tr>
      <tr>
        <td id="L1491" class="blob-num js-line-number" data-line-number="1491"></td>
        <td id="LC1491" class="blob-code js-file-line">        &quot;  &lt;th&gt;Time:&lt;/th&gt;                 &lt;td&gt;21:26:12&lt;/td&gt;     &lt;th&gt;  Log-Likelihood:    &lt;/th&gt; &lt;td&gt; -31.675&lt;/td&gt;\n&quot;,</td>
      </tr>
      <tr>
        <td id="L1492" class="blob-num js-line-number" data-line-number="1492"></td>
        <td id="LC1492" class="blob-code js-file-line">        &quot;&lt;/tr&gt;\n&quot;,</td>
      </tr>
      <tr>
        <td id="L1493" class="blob-num js-line-number" data-line-number="1493"></td>
        <td id="LC1493" class="blob-code js-file-line">        &quot;&lt;tr&gt;\n&quot;,</td>
      </tr>
      <tr>
        <td id="L1494" class="blob-num js-line-number" data-line-number="1494"></td>
        <td id="LC1494" class="blob-code js-file-line">        &quot;  &lt;th&gt;No. Observations:&lt;/th&gt;      &lt;td&gt;    50&lt;/td&gt;      &lt;th&gt;  AIC:               &lt;/th&gt; &lt;td&gt;   71.35&lt;/td&gt;\n&quot;,</td>
      </tr>
      <tr>
        <td id="L1495" class="blob-num js-line-number" data-line-number="1495"></td>
        <td id="LC1495" class="blob-code js-file-line">        &quot;&lt;/tr&gt;\n&quot;,</td>
      </tr>
      <tr>
        <td id="L1496" class="blob-num js-line-number" data-line-number="1496"></td>
        <td id="LC1496" class="blob-code js-file-line">        &quot;&lt;tr&gt;\n&quot;,</td>
      </tr>
      <tr>
        <td id="L1497" class="blob-num js-line-number" data-line-number="1497"></td>
        <td id="LC1497" class="blob-code js-file-line">        &quot;  &lt;th&gt;Df Residuals:&lt;/th&gt;          &lt;td&gt;    46&lt;/td&gt;      &lt;th&gt;  BIC:               &lt;/th&gt; &lt;td&gt;   79.00&lt;/td&gt;\n&quot;,</td>
      </tr>
      <tr>
        <td id="L1498" class="blob-num js-line-number" data-line-number="1498"></td>
        <td id="LC1498" class="blob-code js-file-line">        &quot;&lt;/tr&gt;\n&quot;,</td>
      </tr>
      <tr>
        <td id="L1499" class="blob-num js-line-number" data-line-number="1499"></td>
        <td id="LC1499" class="blob-code js-file-line">        &quot;&lt;tr&gt;\n&quot;,</td>
      </tr>
      <tr>
        <td id="L1500" class="blob-num js-line-number" data-line-number="1500"></td>
        <td id="LC1500" class="blob-code js-file-line">        &quot;  &lt;th&gt;Df Model:&lt;/th&gt;              &lt;td&gt;     3&lt;/td&gt;      &lt;th&gt;                     &lt;/th&gt;     &lt;td&gt; &lt;/td&gt;   \n&quot;,</td>
      </tr>
      <tr>
        <td id="L1501" class="blob-num js-line-number" data-line-number="1501"></td>
        <td id="LC1501" class="blob-code js-file-line">        &quot;&lt;/tr&gt;\n&quot;,</td>
      </tr>
      <tr>
        <td id="L1502" class="blob-num js-line-number" data-line-number="1502"></td>
        <td id="LC1502" class="blob-code js-file-line">        &quot;&lt;/table&gt;\n&quot;,</td>
      </tr>
      <tr>
        <td id="L1503" class="blob-num js-line-number" data-line-number="1503"></td>
        <td id="LC1503" class="blob-code js-file-line">        &quot;&lt;table class=\&quot;simpletable\&quot;&gt;\n&quot;,</td>
      </tr>
      <tr>
        <td id="L1504" class="blob-num js-line-number" data-line-number="1504"></td>
        <td id="LC1504" class="blob-code js-file-line">        &quot;&lt;tr&gt;\n&quot;,</td>
      </tr>
      <tr>
        <td id="L1505" class="blob-num js-line-number" data-line-number="1505"></td>
        <td id="LC1505" class="blob-code js-file-line">        &quot;    &lt;td&gt;&lt;/td&gt;       &lt;th&gt;coef&lt;/th&gt;     &lt;th&gt;std err&lt;/th&gt;      &lt;th&gt;t&lt;/th&gt;      &lt;th&gt;P&gt;|t|&lt;/th&gt; &lt;th&gt;[95.0% Conf. Int.]&lt;/th&gt; \n&quot;,</td>
      </tr>
      <tr>
        <td id="L1506" class="blob-num js-line-number" data-line-number="1506"></td>
        <td id="LC1506" class="blob-code js-file-line">        &quot;&lt;/tr&gt;\n&quot;,</td>
      </tr>
      <tr>
        <td id="L1507" class="blob-num js-line-number" data-line-number="1507"></td>
        <td id="LC1507" class="blob-code js-file-line">        &quot;&lt;tr&gt;\n&quot;,</td>
      </tr>
      <tr>
        <td id="L1508" class="blob-num js-line-number" data-line-number="1508"></td>
        <td id="LC1508" class="blob-code js-file-line">        &quot;  &lt;th&gt;x1&lt;/th&gt;    &lt;td&gt;    1.4943&lt;/td&gt; &lt;td&gt;    0.025&lt;/td&gt; &lt;td&gt;   59.805&lt;/td&gt; &lt;td&gt; 0.000&lt;/td&gt; &lt;td&gt;    1.444     1.545&lt;/td&gt;\n&quot;,</td>
      </tr>
      <tr>
        <td id="L1509" class="blob-num js-line-number" data-line-number="1509"></td>
        <td id="LC1509" class="blob-code js-file-line">        &quot;&lt;/tr&gt;\n&quot;,</td>
      </tr>
      <tr>
        <td id="L1510" class="blob-num js-line-number" data-line-number="1510"></td>
        <td id="LC1510" class="blob-code js-file-line">        &quot;&lt;tr&gt;\n&quot;,</td>
      </tr>
      <tr>
        <td id="L1511" class="blob-num js-line-number" data-line-number="1511"></td>
        <td id="LC1511" class="blob-code js-file-line">        &quot;  &lt;th&gt;x2&lt;/th&gt;    &lt;td&gt;    2.6117&lt;/td&gt; &lt;td&gt;    0.098&lt;/td&gt; &lt;td&gt;   26.589&lt;/td&gt; &lt;td&gt; 0.000&lt;/td&gt; &lt;td&gt;    2.414     2.809&lt;/td&gt;\n&quot;,</td>
      </tr>
      <tr>
        <td id="L1512" class="blob-num js-line-number" data-line-number="1512"></td>
        <td id="LC1512" class="blob-code js-file-line">        &quot;&lt;/tr&gt;\n&quot;,</td>
      </tr>
      <tr>
        <td id="L1513" class="blob-num js-line-number" data-line-number="1513"></td>
        <td id="LC1513" class="blob-code js-file-line">        &quot;&lt;tr&gt;\n&quot;,</td>
      </tr>
      <tr>
        <td id="L1514" class="blob-num js-line-number" data-line-number="1514"></td>
        <td id="LC1514" class="blob-code js-file-line">        &quot;  &lt;th&gt;x3&lt;/th&gt;    &lt;td&gt;   -0.1981&lt;/td&gt; &lt;td&gt;    0.002&lt;/td&gt; &lt;td&gt;  -90.318&lt;/td&gt; &lt;td&gt; 0.000&lt;/td&gt; &lt;td&gt;   -0.203    -0.194&lt;/td&gt;\n&quot;,</td>
      </tr>
      <tr>
        <td id="L1515" class="blob-num js-line-number" data-line-number="1515"></td>
        <td id="LC1515" class="blob-code js-file-line">        &quot;&lt;/tr&gt;\n&quot;,</td>
      </tr>
      <tr>
        <td id="L1516" class="blob-num js-line-number" data-line-number="1516"></td>
        <td id="LC1516" class="blob-code js-file-line">        &quot;&lt;tr&gt;\n&quot;,</td>
      </tr>
      <tr>
        <td id="L1517" class="blob-num js-line-number" data-line-number="1517"></td>
        <td id="LC1517" class="blob-code js-file-line">        &quot;  &lt;th&gt;const&lt;/th&gt; &lt;td&gt;   14.8901&lt;/td&gt; &lt;td&gt;    0.162&lt;/td&gt; &lt;td&gt;   91.908&lt;/td&gt; &lt;td&gt; 0.000&lt;/td&gt; &lt;td&gt;   14.564    15.216&lt;/td&gt;\n&quot;,</td>
      </tr>
      <tr>
        <td id="L1518" class="blob-num js-line-number" data-line-number="1518"></td>
        <td id="LC1518" class="blob-code js-file-line">        &quot;&lt;/tr&gt;\n&quot;,</td>
      </tr>
      <tr>
        <td id="L1519" class="blob-num js-line-number" data-line-number="1519"></td>
        <td id="LC1519" class="blob-code js-file-line">        &quot;&lt;/table&gt;\n&quot;,</td>
      </tr>
      <tr>
        <td id="L1520" class="blob-num js-line-number" data-line-number="1520"></td>
        <td id="LC1520" class="blob-code js-file-line">        &quot;&lt;table class=\&quot;simpletable\&quot;&gt;\n&quot;,</td>
      </tr>
      <tr>
        <td id="L1521" class="blob-num js-line-number" data-line-number="1521"></td>
        <td id="LC1521" class="blob-code js-file-line">        &quot;&lt;tr&gt;\n&quot;,</td>
      </tr>
      <tr>
        <td id="L1522" class="blob-num js-line-number" data-line-number="1522"></td>
        <td id="LC1522" class="blob-code js-file-line">        &quot;  &lt;th&gt;Omnibus:&lt;/th&gt;       &lt;td&gt; 0.126&lt;/td&gt; &lt;th&gt;  Durbin-Watson:     &lt;/th&gt; &lt;td&gt;   1.711&lt;/td&gt;\n&quot;,</td>
      </tr>
      <tr>
        <td id="L1523" class="blob-num js-line-number" data-line-number="1523"></td>
        <td id="LC1523" class="blob-code js-file-line">        &quot;&lt;/tr&gt;\n&quot;,</td>
      </tr>
      <tr>
        <td id="L1524" class="blob-num js-line-number" data-line-number="1524"></td>
        <td id="LC1524" class="blob-code js-file-line">        &quot;&lt;tr&gt;\n&quot;,</td>
      </tr>
      <tr>
        <td id="L1525" class="blob-num js-line-number" data-line-number="1525"></td>
        <td id="LC1525" class="blob-code js-file-line">        &quot;  &lt;th&gt;Prob(Omnibus):&lt;/th&gt; &lt;td&gt; 0.939&lt;/td&gt; &lt;th&gt;  Jarque-Bera (JB):  &lt;/th&gt; &lt;td&gt;   0.246&lt;/td&gt;\n&quot;,</td>
      </tr>
      <tr>
        <td id="L1526" class="blob-num js-line-number" data-line-number="1526"></td>
        <td id="LC1526" class="blob-code js-file-line">        &quot;&lt;/tr&gt;\n&quot;,</td>
      </tr>
      <tr>
        <td id="L1527" class="blob-num js-line-number" data-line-number="1527"></td>
        <td id="LC1527" class="blob-code js-file-line">        &quot;&lt;tr&gt;\n&quot;,</td>
      </tr>
      <tr>
        <td id="L1528" class="blob-num js-line-number" data-line-number="1528"></td>
        <td id="LC1528" class="blob-code js-file-line">        &quot;  &lt;th&gt;Skew:&lt;/th&gt;          &lt;td&gt; 0.108&lt;/td&gt; &lt;th&gt;  Prob(JB):          &lt;/th&gt; &lt;td&gt;   0.884&lt;/td&gt;\n&quot;,</td>
      </tr>
      <tr>
        <td id="L1529" class="blob-num js-line-number" data-line-number="1529"></td>
        <td id="LC1529" class="blob-code js-file-line">        &quot;&lt;/tr&gt;\n&quot;,</td>
      </tr>
      <tr>
        <td id="L1530" class="blob-num js-line-number" data-line-number="1530"></td>
        <td id="LC1530" class="blob-code js-file-line">        &quot;&lt;tr&gt;\n&quot;,</td>
      </tr>
      <tr>
        <td id="L1531" class="blob-num js-line-number" data-line-number="1531"></td>
        <td id="LC1531" class="blob-code js-file-line">        &quot;  &lt;th&gt;Kurtosis:&lt;/th&gt;      &lt;td&gt; 2.733&lt;/td&gt; &lt;th&gt;  Cond. No.          &lt;/th&gt; &lt;td&gt;    221.&lt;/td&gt;\n&quot;,</td>
      </tr>
      <tr>
        <td id="L1532" class="blob-num js-line-number" data-line-number="1532"></td>
        <td id="LC1532" class="blob-code js-file-line">        &quot;&lt;/tr&gt;\n&quot;,</td>
      </tr>
      <tr>
        <td id="L1533" class="blob-num js-line-number" data-line-number="1533"></td>
        <td id="LC1533" class="blob-code js-file-line">        &quot;&lt;/table&gt;&quot;</td>
      </tr>
      <tr>
        <td id="L1534" class="blob-num js-line-number" data-line-number="1534"></td>
        <td id="LC1534" class="blob-code js-file-line">       ],</td>
      </tr>
      <tr>
        <td id="L1535" class="blob-num js-line-number" data-line-number="1535"></td>
        <td id="LC1535" class="blob-code js-file-line">       &quot;metadata&quot;: {},</td>
      </tr>
      <tr>
        <td id="L1536" class="blob-num js-line-number" data-line-number="1536"></td>
        <td id="LC1536" class="blob-code js-file-line">       &quot;output_type&quot;: &quot;pyout&quot;,</td>
      </tr>
      <tr>
        <td id="L1537" class="blob-num js-line-number" data-line-number="1537"></td>
        <td id="LC1537" class="blob-code js-file-line">       &quot;prompt_number&quot;: 60,</td>
      </tr>
      <tr>
        <td id="L1538" class="blob-num js-line-number" data-line-number="1538"></td>
        <td id="LC1538" class="blob-code js-file-line">       &quot;text&quot;: [</td>
      </tr>
      <tr>
        <td id="L1539" class="blob-num js-line-number" data-line-number="1539"></td>
        <td id="LC1539" class="blob-code js-file-line">        &quot;&lt;class &#39;statsmodels.iolib.summary.Summary&#39;&gt;\n&quot;,</td>
      </tr>
      <tr>
        <td id="L1540" class="blob-num js-line-number" data-line-number="1540"></td>
        <td id="LC1540" class="blob-code js-file-line">        &quot;\&quot;\&quot;\&quot;\n&quot;,</td>
      </tr>
      <tr>
        <td id="L1541" class="blob-num js-line-number" data-line-number="1541"></td>
        <td id="LC1541" class="blob-code js-file-line">        &quot;                            OLS Regression Results                            \n&quot;,</td>
      </tr>
      <tr>
        <td id="L1542" class="blob-num js-line-number" data-line-number="1542"></td>
        <td id="LC1542" class="blob-code js-file-line">        &quot;==============================================================================\n&quot;,</td>
      </tr>
      <tr>
        <td id="L1543" class="blob-num js-line-number" data-line-number="1543"></td>
        <td id="LC1543" class="blob-code js-file-line">        &quot;Dep. Variable:                      y   R-squared:                       0.996\n&quot;,</td>
      </tr>
      <tr>
        <td id="L1544" class="blob-num js-line-number" data-line-number="1544"></td>
        <td id="LC1544" class="blob-code js-file-line">        &quot;Model:                            OLS   Adj. R-squared:                  0.995\n&quot;,</td>
      </tr>
      <tr>
        <td id="L1545" class="blob-num js-line-number" data-line-number="1545"></td>
        <td id="LC1545" class="blob-code js-file-line">        &quot;Method:                 Least Squares   F-statistic:                     3487.\n&quot;,</td>
      </tr>
      <tr>
        <td id="L1546" class="blob-num js-line-number" data-line-number="1546"></td>
        <td id="LC1546" class="blob-code js-file-line">        &quot;Date:                Mon, 20 Oct 2014   Prob (F-statistic):           3.07e-54\n&quot;,</td>
      </tr>
      <tr>
        <td id="L1547" class="blob-num js-line-number" data-line-number="1547"></td>
        <td id="LC1547" class="blob-code js-file-line">        &quot;Time:                        21:26:12   Log-Likelihood:                -31.675\n&quot;,</td>
      </tr>
      <tr>
        <td id="L1548" class="blob-num js-line-number" data-line-number="1548"></td>
        <td id="LC1548" class="blob-code js-file-line">        &quot;No. Observations:                  50   AIC:                             71.35\n&quot;,</td>
      </tr>
      <tr>
        <td id="L1549" class="blob-num js-line-number" data-line-number="1549"></td>
        <td id="LC1549" class="blob-code js-file-line">        &quot;Df Residuals:                      46   BIC:                             79.00\n&quot;,</td>
      </tr>
      <tr>
        <td id="L1550" class="blob-num js-line-number" data-line-number="1550"></td>
        <td id="LC1550" class="blob-code js-file-line">        &quot;Df Model:                           3                                         \n&quot;,</td>
      </tr>
      <tr>
        <td id="L1551" class="blob-num js-line-number" data-line-number="1551"></td>
        <td id="LC1551" class="blob-code js-file-line">        &quot;==============================================================================\n&quot;,</td>
      </tr>
      <tr>
        <td id="L1552" class="blob-num js-line-number" data-line-number="1552"></td>
        <td id="LC1552" class="blob-code js-file-line">        &quot;                 coef    std err          t      P&gt;|t|      [95.0% Conf. Int.]\n&quot;,</td>
      </tr>
      <tr>
        <td id="L1553" class="blob-num js-line-number" data-line-number="1553"></td>
        <td id="LC1553" class="blob-code js-file-line">        &quot;------------------------------------------------------------------------------\n&quot;,</td>
      </tr>
      <tr>
        <td id="L1554" class="blob-num js-line-number" data-line-number="1554"></td>
        <td id="LC1554" class="blob-code js-file-line">        &quot;x1             1.4943      0.025     59.805      0.000         1.444     1.545\n&quot;,</td>
      </tr>
      <tr>
        <td id="L1555" class="blob-num js-line-number" data-line-number="1555"></td>
        <td id="LC1555" class="blob-code js-file-line">        &quot;x2             2.6117      0.098     26.589      0.000         2.414     2.809\n&quot;,</td>
      </tr>
      <tr>
        <td id="L1556" class="blob-num js-line-number" data-line-number="1556"></td>
        <td id="LC1556" class="blob-code js-file-line">        &quot;x3            -0.1981      0.002    -90.318      0.000        -0.203    -0.194\n&quot;,</td>
      </tr>
      <tr>
        <td id="L1557" class="blob-num js-line-number" data-line-number="1557"></td>
        <td id="LC1557" class="blob-code js-file-line">        &quot;const         14.8901      0.162     91.908      0.000        14.564    15.216\n&quot;,</td>
      </tr>
      <tr>
        <td id="L1558" class="blob-num js-line-number" data-line-number="1558"></td>
        <td id="LC1558" class="blob-code js-file-line">        &quot;==============================================================================\n&quot;,</td>
      </tr>
      <tr>
        <td id="L1559" class="blob-num js-line-number" data-line-number="1559"></td>
        <td id="LC1559" class="blob-code js-file-line">        &quot;Omnibus:                        0.126   Durbin-Watson:                   1.711\n&quot;,</td>
      </tr>
      <tr>
        <td id="L1560" class="blob-num js-line-number" data-line-number="1560"></td>
        <td id="LC1560" class="blob-code js-file-line">        &quot;Prob(Omnibus):                  0.939   Jarque-Bera (JB):                0.246\n&quot;,</td>
      </tr>
      <tr>
        <td id="L1561" class="blob-num js-line-number" data-line-number="1561"></td>
        <td id="LC1561" class="blob-code js-file-line">        &quot;Skew:                           0.108   Prob(JB):                        0.884\n&quot;,</td>
      </tr>
      <tr>
        <td id="L1562" class="blob-num js-line-number" data-line-number="1562"></td>
        <td id="LC1562" class="blob-code js-file-line">        &quot;Kurtosis:                       2.733   Cond. No.                         221.\n&quot;,</td>
      </tr>
      <tr>
        <td id="L1563" class="blob-num js-line-number" data-line-number="1563"></td>
        <td id="LC1563" class="blob-code js-file-line">        &quot;==============================================================================\n&quot;,</td>
      </tr>
      <tr>
        <td id="L1564" class="blob-num js-line-number" data-line-number="1564"></td>
        <td id="LC1564" class="blob-code js-file-line">        &quot;\&quot;\&quot;\&quot;&quot;</td>
      </tr>
      <tr>
        <td id="L1565" class="blob-num js-line-number" data-line-number="1565"></td>
        <td id="LC1565" class="blob-code js-file-line">       ]</td>
      </tr>
      <tr>
        <td id="L1566" class="blob-num js-line-number" data-line-number="1566"></td>
        <td id="LC1566" class="blob-code js-file-line">      }</td>
      </tr>
      <tr>
        <td id="L1567" class="blob-num js-line-number" data-line-number="1567"></td>
        <td id="LC1567" class="blob-code js-file-line">     ],</td>
      </tr>
      <tr>
        <td id="L1568" class="blob-num js-line-number" data-line-number="1568"></td>
        <td id="LC1568" class="blob-code js-file-line">     &quot;prompt_number&quot;: 60</td>
      </tr>
      <tr>
        <td id="L1569" class="blob-num js-line-number" data-line-number="1569"></td>
        <td id="LC1569" class="blob-code js-file-line">    },</td>
      </tr>
      <tr>
        <td id="L1570" class="blob-num js-line-number" data-line-number="1570"></td>
        <td id="LC1570" class="blob-code js-file-line">    {</td>
      </tr>
      <tr>
        <td id="L1571" class="blob-num js-line-number" data-line-number="1571"></td>
        <td id="LC1571" class="blob-code js-file-line">     &quot;cell_type&quot;: &quot;markdown&quot;,</td>
      </tr>
      <tr>
        <td id="L1572" class="blob-num js-line-number" data-line-number="1572"></td>
        <td id="LC1572" class="blob-code js-file-line">     &quot;metadata&quot;: {},</td>
      </tr>
      <tr>
        <td id="L1573" class="blob-num js-line-number" data-line-number="1573"></td>
        <td id="LC1573" class="blob-code js-file-line">     &quot;source&quot;: [</td>
      </tr>
      <tr>
        <td id="L1574" class="blob-num js-line-number" data-line-number="1574"></td>
        <td id="LC1574" class="blob-code js-file-line">      &quot;I can access the results attributes&quot;</td>
      </tr>
      <tr>
        <td id="L1575" class="blob-num js-line-number" data-line-number="1575"></td>
        <td id="LC1575" class="blob-code js-file-line">     ]</td>
      </tr>
      <tr>
        <td id="L1576" class="blob-num js-line-number" data-line-number="1576"></td>
        <td id="LC1576" class="blob-code js-file-line">    },</td>
      </tr>
      <tr>
        <td id="L1577" class="blob-num js-line-number" data-line-number="1577"></td>
        <td id="LC1577" class="blob-code js-file-line">    {</td>
      </tr>
      <tr>
        <td id="L1578" class="blob-num js-line-number" data-line-number="1578"></td>
        <td id="LC1578" class="blob-code js-file-line">     &quot;cell_type&quot;: &quot;code&quot;,</td>
      </tr>
      <tr>
        <td id="L1579" class="blob-num js-line-number" data-line-number="1579"></td>
        <td id="LC1579" class="blob-code js-file-line">     &quot;collapsed&quot;: false,</td>
      </tr>
      <tr>
        <td id="L1580" class="blob-num js-line-number" data-line-number="1580"></td>
        <td id="LC1580" class="blob-code js-file-line">     &quot;input&quot;: [</td>
      </tr>
      <tr>
        <td id="L1581" class="blob-num js-line-number" data-line-number="1581"></td>
        <td id="LC1581" class="blob-code js-file-line">      &quot;print res.params&quot;</td>
      </tr>
      <tr>
        <td id="L1582" class="blob-num js-line-number" data-line-number="1582"></td>
        <td id="LC1582" class="blob-code js-file-line">     ],</td>
      </tr>
      <tr>
        <td id="L1583" class="blob-num js-line-number" data-line-number="1583"></td>
        <td id="LC1583" class="blob-code js-file-line">     &quot;language&quot;: &quot;python&quot;,</td>
      </tr>
      <tr>
        <td id="L1584" class="blob-num js-line-number" data-line-number="1584"></td>
        <td id="LC1584" class="blob-code js-file-line">     &quot;metadata&quot;: {},</td>
      </tr>
      <tr>
        <td id="L1585" class="blob-num js-line-number" data-line-number="1585"></td>
        <td id="LC1585" class="blob-code js-file-line">     &quot;outputs&quot;: [</td>
      </tr>
      <tr>
        <td id="L1586" class="blob-num js-line-number" data-line-number="1586"></td>
        <td id="LC1586" class="blob-code js-file-line">      {</td>
      </tr>
      <tr>
        <td id="L1587" class="blob-num js-line-number" data-line-number="1587"></td>
        <td id="LC1587" class="blob-code js-file-line">       &quot;output_type&quot;: &quot;stream&quot;,</td>
      </tr>
      <tr>
        <td id="L1588" class="blob-num js-line-number" data-line-number="1588"></td>
        <td id="LC1588" class="blob-code js-file-line">       &quot;stream&quot;: &quot;stdout&quot;,</td>
      </tr>
      <tr>
        <td id="L1589" class="blob-num js-line-number" data-line-number="1589"></td>
        <td id="LC1589" class="blob-code js-file-line">       &quot;text&quot;: [</td>
      </tr>
      <tr>
        <td id="L1590" class="blob-num js-line-number" data-line-number="1590"></td>
        <td id="LC1590" class="blob-code js-file-line">        &quot;[ 0.52896821  0.73208563 -0.02323498  4.9863326 ]\n&quot;</td>
      </tr>
      <tr>
        <td id="L1591" class="blob-num js-line-number" data-line-number="1591"></td>
        <td id="LC1591" class="blob-code js-file-line">       ]</td>
      </tr>
      <tr>
        <td id="L1592" class="blob-num js-line-number" data-line-number="1592"></td>
        <td id="LC1592" class="blob-code js-file-line">      }</td>
      </tr>
      <tr>
        <td id="L1593" class="blob-num js-line-number" data-line-number="1593"></td>
        <td id="LC1593" class="blob-code js-file-line">     ],</td>
      </tr>
      <tr>
        <td id="L1594" class="blob-num js-line-number" data-line-number="1594"></td>
        <td id="LC1594" class="blob-code js-file-line">     &quot;prompt_number&quot;: 52</td>
      </tr>
      <tr>
        <td id="L1595" class="blob-num js-line-number" data-line-number="1595"></td>
        <td id="LC1595" class="blob-code js-file-line">    },</td>
      </tr>
      <tr>
        <td id="L1596" class="blob-num js-line-number" data-line-number="1596"></td>
        <td id="LC1596" class="blob-code js-file-line">    {</td>
      </tr>
      <tr>
        <td id="L1597" class="blob-num js-line-number" data-line-number="1597"></td>
        <td id="LC1597" class="blob-code js-file-line">     &quot;cell_type&quot;: &quot;code&quot;,</td>
      </tr>
      <tr>
        <td id="L1598" class="blob-num js-line-number" data-line-number="1598"></td>
        <td id="LC1598" class="blob-code js-file-line">     &quot;collapsed&quot;: false,</td>
      </tr>
      <tr>
        <td id="L1599" class="blob-num js-line-number" data-line-number="1599"></td>
        <td id="LC1599" class="blob-code js-file-line">     &quot;input&quot;: [</td>
      </tr>
      <tr>
        <td id="L1600" class="blob-num js-line-number" data-line-number="1600"></td>
        <td id="LC1600" class="blob-code js-file-line">      &quot;print \n&quot;,</td>
      </tr>
      <tr>
        <td id="L1601" class="blob-num js-line-number" data-line-number="1601"></td>
        <td id="LC1601" class="blob-code js-file-line">      &quot;res.bse&quot;</td>
      </tr>
      <tr>
        <td id="L1602" class="blob-num js-line-number" data-line-number="1602"></td>
        <td id="LC1602" class="blob-code js-file-line">     ],</td>
      </tr>
      <tr>
        <td id="L1603" class="blob-num js-line-number" data-line-number="1603"></td>
        <td id="LC1603" class="blob-code js-file-line">     &quot;language&quot;: &quot;python&quot;,</td>
      </tr>
      <tr>
        <td id="L1604" class="blob-num js-line-number" data-line-number="1604"></td>
        <td id="LC1604" class="blob-code js-file-line">     &quot;metadata&quot;: {},</td>
      </tr>
      <tr>
        <td id="L1605" class="blob-num js-line-number" data-line-number="1605"></td>
        <td id="LC1605" class="blob-code js-file-line">     &quot;outputs&quot;: [</td>
      </tr>
      <tr>
        <td id="L1606" class="blob-num js-line-number" data-line-number="1606"></td>
        <td id="LC1606" class="blob-code js-file-line">      {</td>
      </tr>
      <tr>
        <td id="L1607" class="blob-num js-line-number" data-line-number="1607"></td>
        <td id="LC1607" class="blob-code js-file-line">       &quot;output_type&quot;: &quot;stream&quot;,</td>
      </tr>
      <tr>
        <td id="L1608" class="blob-num js-line-number" data-line-number="1608"></td>
        <td id="LC1608" class="blob-code js-file-line">       &quot;stream&quot;: &quot;stdout&quot;,</td>
      </tr>
      <tr>
        <td id="L1609" class="blob-num js-line-number" data-line-number="1609"></td>
        <td id="LC1609" class="blob-code js-file-line">       &quot;text&quot;: [</td>
      </tr>
      <tr>
        <td id="L1610" class="blob-num js-line-number" data-line-number="1610"></td>
        <td id="LC1610" class="blob-code js-file-line">        &quot;\n&quot;</td>
      </tr>
      <tr>
        <td id="L1611" class="blob-num js-line-number" data-line-number="1611"></td>
        <td id="LC1611" class="blob-code js-file-line">       ]</td>
      </tr>
      <tr>
        <td id="L1612" class="blob-num js-line-number" data-line-number="1612"></td>
        <td id="LC1612" class="blob-code js-file-line">      },</td>
      </tr>
      <tr>
        <td id="L1613" class="blob-num js-line-number" data-line-number="1613"></td>
        <td id="LC1613" class="blob-code js-file-line">      {</td>
      </tr>
      <tr>
        <td id="L1614" class="blob-num js-line-number" data-line-number="1614"></td>
        <td id="LC1614" class="blob-code js-file-line">       &quot;metadata&quot;: {},</td>
      </tr>
      <tr>
        <td id="L1615" class="blob-num js-line-number" data-line-number="1615"></td>
        <td id="LC1615" class="blob-code js-file-line">       &quot;output_type&quot;: &quot;pyout&quot;,</td>
      </tr>
      <tr>
        <td id="L1616" class="blob-num js-line-number" data-line-number="1616"></td>
        <td id="LC1616" class="blob-code js-file-line">       &quot;prompt_number&quot;: 47,</td>
      </tr>
      <tr>
        <td id="L1617" class="blob-num js-line-number" data-line-number="1617"></td>
        <td id="LC1617" class="blob-code js-file-line">       &quot;text&quot;: [</td>
      </tr>
      <tr>
        <td id="L1618" class="blob-num js-line-number" data-line-number="1618"></td>
        <td id="LC1618" class="blob-code js-file-line">        &quot;array([ 1.67871717,  1.0174024 ,  1.65371375,  0.74790647,  0.33976576,\n&quot;,</td>
      </tr>
      <tr>
        <td id="L1619" class="blob-num js-line-number" data-line-number="1619"></td>
        <td id="LC1619" class="blob-code js-file-line">        &quot;        0.08502196])&quot;</td>
      </tr>
      <tr>
        <td id="L1620" class="blob-num js-line-number" data-line-number="1620"></td>
        <td id="LC1620" class="blob-code js-file-line">       ]</td>
      </tr>
      <tr>
        <td id="L1621" class="blob-num js-line-number" data-line-number="1621"></td>
        <td id="LC1621" class="blob-code js-file-line">      }</td>
      </tr>
      <tr>
        <td id="L1622" class="blob-num js-line-number" data-line-number="1622"></td>
        <td id="LC1622" class="blob-code js-file-line">     ],</td>
      </tr>
      <tr>
        <td id="L1623" class="blob-num js-line-number" data-line-number="1623"></td>
        <td id="LC1623" class="blob-code js-file-line">     &quot;prompt_number&quot;: 47</td>
      </tr>
      <tr>
        <td id="L1624" class="blob-num js-line-number" data-line-number="1624"></td>
        <td id="LC1624" class="blob-code js-file-line">    },</td>
      </tr>
      <tr>
        <td id="L1625" class="blob-num js-line-number" data-line-number="1625"></td>
        <td id="LC1625" class="blob-code js-file-line">    {</td>
      </tr>
      <tr>
        <td id="L1626" class="blob-num js-line-number" data-line-number="1626"></td>
        <td id="LC1626" class="blob-code js-file-line">     &quot;cell_type&quot;: &quot;code&quot;,</td>
      </tr>
      <tr>
        <td id="L1627" class="blob-num js-line-number" data-line-number="1627"></td>
        <td id="LC1627" class="blob-code js-file-line">     &quot;collapsed&quot;: false,</td>
      </tr>
      <tr>
        <td id="L1628" class="blob-num js-line-number" data-line-number="1628"></td>
        <td id="LC1628" class="blob-code js-file-line">     &quot;input&quot;: [</td>
      </tr>
      <tr>
        <td id="L1629" class="blob-num js-line-number" data-line-number="1629"></td>
        <td id="LC1629" class="blob-code js-file-line">      &quot;print res.predict()&quot;</td>
      </tr>
      <tr>
        <td id="L1630" class="blob-num js-line-number" data-line-number="1630"></td>
        <td id="LC1630" class="blob-code js-file-line">     ],</td>
      </tr>
      <tr>
        <td id="L1631" class="blob-num js-line-number" data-line-number="1631"></td>
        <td id="LC1631" class="blob-code js-file-line">     &quot;language&quot;: &quot;python&quot;,</td>
      </tr>
      <tr>
        <td id="L1632" class="blob-num js-line-number" data-line-number="1632"></td>
        <td id="LC1632" class="blob-code js-file-line">     &quot;metadata&quot;: {},</td>
      </tr>
      <tr>
        <td id="L1633" class="blob-num js-line-number" data-line-number="1633"></td>
        <td id="LC1633" class="blob-code js-file-line">     &quot;outputs&quot;: [</td>
      </tr>
      <tr>
        <td id="L1634" class="blob-num js-line-number" data-line-number="1634"></td>
        <td id="LC1634" class="blob-code js-file-line">      {</td>
      </tr>
      <tr>
        <td id="L1635" class="blob-num js-line-number" data-line-number="1635"></td>
        <td id="LC1635" class="blob-code js-file-line">       &quot;output_type&quot;: &quot;stream&quot;,</td>
      </tr>
      <tr>
        <td id="L1636" class="blob-num js-line-number" data-line-number="1636"></td>
        <td id="LC1636" class="blob-code js-file-line">       &quot;stream&quot;: &quot;stdout&quot;,</td>
      </tr>
      <tr>
        <td id="L1637" class="blob-num js-line-number" data-line-number="1637"></td>
        <td id="LC1637" class="blob-code js-file-line">       &quot;text&quot;: [</td>
      </tr>
      <tr>
        <td id="L1638" class="blob-num js-line-number" data-line-number="1638"></td>
        <td id="LC1638" class="blob-code js-file-line">        &quot;[  4.42277248   4.79692546   5.14930138   5.46673736   5.74082092\n&quot;,</td>
      </tr>
      <tr>
        <td id="L1639" class="blob-num js-line-number" data-line-number="1639"></td>
        <td id="LC1639" class="blob-code js-file-line">        &quot;   5.96927216   6.15631832   6.31199925   6.45051792   6.58790688\n&quot;,</td>
      </tr>
      <tr>
        <td id="L1640" class="blob-num js-line-number" data-line-number="1640"></td>
        <td id="LC1640" class="blob-code js-file-line">        &quot;   6.73939418   6.91690144   7.12708514   7.37024303   7.64026515\n&quot;,</td>
      </tr>
      <tr>
        <td id="L1641" class="blob-num js-line-number" data-line-number="1641"></td>
        <td id="LC1641" class="blob-code js-file-line">        &quot;   7.92563771   8.21133479   8.48128701   8.72102172   8.92004083\n&quot;,</td>
      </tr>
      <tr>
        <td id="L1642" class="blob-num js-line-number" data-line-number="1642"></td>
        <td id="LC1642" class="blob-code js-file-line">        &quot;   9.07354554   9.18322487   9.25697809   9.30761691   9.35076055\n&quot;,</td>
      </tr>
      <tr>
        <td id="L1643" class="blob-num js-line-number" data-line-number="1643"></td>
        <td id="LC1643" class="blob-code js-file-line">        &quot;   9.40226957   9.47563999   9.57978595   9.71757515   9.88535766\n&quot;,</td>
      </tr>
      <tr>
        <td id="L1644" class="blob-num js-line-number" data-line-number="1644"></td>
        <td id="LC1644" class="blob-code js-file-line">        &quot;  10.07356566  10.26828532  10.45354287  10.61392902  10.73713066\n&quot;,</td>
      </tr>
      <tr>
        <td id="L1645" class="blob-num js-line-number" data-line-number="1645"></td>
        <td id="LC1645" class="blob-code js-file-line">        &quot;  10.81595387  10.84950589  10.84334173  10.80855158  10.75993866\n&quot;,</td>
      </tr>
      <tr>
        <td id="L1646" class="blob-num js-line-number" data-line-number="1646"></td>
        <td id="LC1646" class="blob-code js-file-line">        &quot;  10.71358712  10.68421946  10.68277765  10.71462543  10.77866702\n&quot;,</td>
      </tr>
      <tr>
        <td id="L1647" class="blob-num js-line-number" data-line-number="1647"></td>
        <td id="LC1647" class="blob-code js-file-line">        &quot;  10.86752716  10.96876289  11.06690783  11.14601331  11.19226866]\n&quot;</td>
      </tr>
      <tr>
        <td id="L1648" class="blob-num js-line-number" data-line-number="1648"></td>
        <td id="LC1648" class="blob-code js-file-line">       ]</td>
      </tr>
      <tr>
        <td id="L1649" class="blob-num js-line-number" data-line-number="1649"></td>
        <td id="LC1649" class="blob-code js-file-line">      }</td>
      </tr>
      <tr>
        <td id="L1650" class="blob-num js-line-number" data-line-number="1650"></td>
        <td id="LC1650" class="blob-code js-file-line">     ],</td>
      </tr>
      <tr>
        <td id="L1651" class="blob-num js-line-number" data-line-number="1651"></td>
        <td id="LC1651" class="blob-code js-file-line">     &quot;prompt_number&quot;: 35</td>
      </tr>
      <tr>
        <td id="L1652" class="blob-num js-line-number" data-line-number="1652"></td>
        <td id="LC1652" class="blob-code js-file-line">    },</td>
      </tr>
      <tr>
        <td id="L1653" class="blob-num js-line-number" data-line-number="1653"></td>
        <td id="LC1653" class="blob-code js-file-line">    {</td>
      </tr>
      <tr>
        <td id="L1654" class="blob-num js-line-number" data-line-number="1654"></td>
        <td id="LC1654" class="blob-code js-file-line">     &quot;cell_type&quot;: &quot;markdown&quot;,</td>
      </tr>
      <tr>
        <td id="L1655" class="blob-num js-line-number" data-line-number="1655"></td>
        <td id="LC1655" class="blob-code js-file-line">     &quot;metadata&quot;: {},</td>
      </tr>
      <tr>
        <td id="L1656" class="blob-num js-line-number" data-line-number="1656"></td>
        <td id="LC1656" class="blob-code js-file-line">     &quot;source&quot;: [</td>
      </tr>
      <tr>
        <td id="L1657" class="blob-num js-line-number" data-line-number="1657"></td>
        <td id="LC1657" class="blob-code js-file-line">      &quot;Let&#39;s look at the fit!&quot;</td>
      </tr>
      <tr>
        <td id="L1658" class="blob-num js-line-number" data-line-number="1658"></td>
        <td id="LC1658" class="blob-code js-file-line">     ]</td>
      </tr>
      <tr>
        <td id="L1659" class="blob-num js-line-number" data-line-number="1659"></td>
        <td id="LC1659" class="blob-code js-file-line">    },</td>
      </tr>
      <tr>
        <td id="L1660" class="blob-num js-line-number" data-line-number="1660"></td>
        <td id="LC1660" class="blob-code js-file-line">    {</td>
      </tr>
      <tr>
        <td id="L1661" class="blob-num js-line-number" data-line-number="1661"></td>
        <td id="LC1661" class="blob-code js-file-line">     &quot;cell_type&quot;: &quot;code&quot;,</td>
      </tr>
      <tr>
        <td id="L1662" class="blob-num js-line-number" data-line-number="1662"></td>
        <td id="LC1662" class="blob-code js-file-line">     &quot;collapsed&quot;: false,</td>
      </tr>
      <tr>
        <td id="L1663" class="blob-num js-line-number" data-line-number="1663"></td>
        <td id="LC1663" class="blob-code js-file-line">     &quot;input&quot;: [</td>
      </tr>
      <tr>
        <td id="L1664" class="blob-num js-line-number" data-line-number="1664"></td>
        <td id="LC1664" class="blob-code js-file-line">      &quot;plt.figure(figsize = (10,10));\n&quot;,</td>
      </tr>
      <tr>
        <td id="L1665" class="blob-num js-line-number" data-line-number="1665"></td>
        <td id="LC1665" class="blob-code js-file-line">      &quot;plt.plot(x, y, &#39;o&#39;, x, y_true, &#39;b-&#39;);\n&quot;,</td>
      </tr>
      <tr>
        <td id="L1666" class="blob-num js-line-number" data-line-number="1666"></td>
        <td id="LC1666" class="blob-code js-file-line">      &quot;prstd, iv_l, iv_u = wls_prediction_std(res);\n&quot;,</td>
      </tr>
      <tr>
        <td id="L1667" class="blob-num js-line-number" data-line-number="1667"></td>
        <td id="LC1667" class="blob-code js-file-line">      &quot;plt.plot(x, res.fittedvalues, &#39;r--.&#39;);\n&quot;,</td>
      </tr>
      <tr>
        <td id="L1668" class="blob-num js-line-number" data-line-number="1668"></td>
        <td id="LC1668" class="blob-code js-file-line">      &quot;plt.plot(x, iv_u, &#39;r--&#39;);\n&quot;,</td>
      </tr>
      <tr>
        <td id="L1669" class="blob-num js-line-number" data-line-number="1669"></td>
        <td id="LC1669" class="blob-code js-file-line">      &quot;plt.plot(x, iv_l, &#39;r--&#39;);\n&quot;,</td>
      </tr>
      <tr>
        <td id="L1670" class="blob-num js-line-number" data-line-number="1670"></td>
        <td id="LC1670" class="blob-code js-file-line">      &quot;plt.title(&#39;blue: true,   red: OLS&#39;);&quot;</td>
      </tr>
      <tr>
        <td id="L1671" class="blob-num js-line-number" data-line-number="1671"></td>
        <td id="LC1671" class="blob-code js-file-line">     ],</td>
      </tr>
      <tr>
        <td id="L1672" class="blob-num js-line-number" data-line-number="1672"></td>
        <td id="LC1672" class="blob-code js-file-line">     &quot;language&quot;: &quot;python&quot;,</td>
      </tr>
      <tr>
        <td id="L1673" class="blob-num js-line-number" data-line-number="1673"></td>
        <td id="LC1673" class="blob-code js-file-line">     &quot;metadata&quot;: {},</td>
      </tr>
      <tr>
        <td id="L1674" class="blob-num js-line-number" data-line-number="1674"></td>
        <td id="LC1674" class="blob-code js-file-line">     &quot;outputs&quot;: [</td>
      </tr>
      <tr>
        <td id="L1675" class="blob-num js-line-number" data-line-number="1675"></td>
        <td id="LC1675" class="blob-code js-file-line">      {</td>
      </tr>
      <tr>
        <td id="L1676" class="blob-num js-line-number" data-line-number="1676"></td>
        <td id="LC1676" class="blob-code js-file-line">       &quot;metadata&quot;: {},</td>
      </tr>
      <tr>
        <td id="L1677" class="blob-num js-line-number" data-line-number="1677"></td>
        <td id="LC1677" class="blob-code js-file-line">       &quot;output_type&quot;: &quot;display_data&quot;,</td>
      </tr>
      <tr>
        <td id="L1678" class="blob-num js-line-number" data-line-number="1678"></td>
        <td id="LC1678" class="blob-code js-file-line">       &quot;png&quot;: &quot;iVBORw0KGgoAAAANSUhEUgAAAlEAAAJZCAYAAACJL2CzAAAABHNCSVQICAgIfAhkiAAAAAlwSFlz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\nEREREREREREREREREREREREREfFP/w9tL+yZD+gySAAAAABJRU5ErkJggg==\n&quot;,</td>
      </tr>
      <tr>
        <td id="L1679" class="blob-num js-line-number" data-line-number="1679"></td>
        <td id="LC1679" class="blob-code js-file-line">       &quot;text&quot;: [</td>
      </tr>
      <tr>
        <td id="L1680" class="blob-num js-line-number" data-line-number="1680"></td>
        <td id="LC1680" class="blob-code js-file-line">        &quot;&lt;matplotlib.figure.Figure at 0x10ca75650&gt;&quot;</td>
      </tr>
      <tr>
        <td id="L1681" class="blob-num js-line-number" data-line-number="1681"></td>
        <td id="LC1681" class="blob-code js-file-line">       ]</td>
      </tr>
      <tr>
        <td id="L1682" class="blob-num js-line-number" data-line-number="1682"></td>
        <td id="LC1682" class="blob-code js-file-line">      }</td>
      </tr>
      <tr>
        <td id="L1683" class="blob-num js-line-number" data-line-number="1683"></td>
        <td id="LC1683" class="blob-code js-file-line">     ],</td>
      </tr>
      <tr>
        <td id="L1684" class="blob-num js-line-number" data-line-number="1684"></td>
        <td id="LC1684" class="blob-code js-file-line">     &quot;prompt_number&quot;: 61</td>
      </tr>
      <tr>
        <td id="L1685" class="blob-num js-line-number" data-line-number="1685"></td>
        <td id="LC1685" class="blob-code js-file-line">    },</td>
      </tr>
      <tr>
        <td id="L1686" class="blob-num js-line-number" data-line-number="1686"></td>
        <td id="LC1686" class="blob-code js-file-line">    {</td>
      </tr>
      <tr>
        <td id="L1687" class="blob-num js-line-number" data-line-number="1687"></td>
        <td id="LC1687" class="blob-code js-file-line">     &quot;cell_type&quot;: &quot;markdown&quot;,</td>
      </tr>
      <tr>
        <td id="L1688" class="blob-num js-line-number" data-line-number="1688"></td>
        <td id="LC1688" class="blob-code js-file-line">     &quot;metadata&quot;: {},</td>
      </tr>
      <tr>
        <td id="L1689" class="blob-num js-line-number" data-line-number="1689"></td>
        <td id="LC1689" class="blob-code js-file-line">     &quot;source&quot;: [</td>
      </tr>
      <tr>
        <td id="L1690" class="blob-num js-line-number" data-line-number="1690"></td>
        <td id="LC1690" class="blob-code js-file-line">      &quot;## Overfitting&quot;</td>
      </tr>
      <tr>
        <td id="L1691" class="blob-num js-line-number" data-line-number="1691"></td>
        <td id="LC1691" class="blob-code js-file-line">     ]</td>
      </tr>
      <tr>
        <td id="L1692" class="blob-num js-line-number" data-line-number="1692"></td>
        <td id="LC1692" class="blob-code js-file-line">    },</td>
      </tr>
      <tr>
        <td id="L1693" class="blob-num js-line-number" data-line-number="1693"></td>
        <td id="LC1693" class="blob-code js-file-line">    {</td>
      </tr>
      <tr>
        <td id="L1694" class="blob-num js-line-number" data-line-number="1694"></td>
        <td id="LC1694" class="blob-code js-file-line">     &quot;cell_type&quot;: &quot;code&quot;,</td>
      </tr>
      <tr>
        <td id="L1695" class="blob-num js-line-number" data-line-number="1695"></td>
        <td id="LC1695" class="blob-code js-file-line">     &quot;collapsed&quot;: false,</td>
      </tr>
      <tr>
        <td id="L1696" class="blob-num js-line-number" data-line-number="1696"></td>
        <td id="LC1696" class="blob-code js-file-line">     &quot;input&quot;: [</td>
      </tr>
      <tr>
        <td id="L1697" class="blob-num js-line-number" data-line-number="1697"></td>
        <td id="LC1697" class="blob-code js-file-line">      &quot;x = np.array([-0.99768, -0.69574, -0.40373, -0.10236, 0.22024, 0.47742, 0.82229])\n&quot;,</td>
      </tr>
      <tr>
        <td id="L1698" class="blob-num js-line-number" data-line-number="1698"></td>
        <td id="LC1698" class="blob-code js-file-line">      &quot;y = np.array([2.0885, 1.1646, 0.3287, 0.46013, 0.44808, 0.10013, -0.32952])\n&quot;,</td>
      </tr>
      <tr>
        <td id="L1699" class="blob-num js-line-number" data-line-number="1699"></td>
        <td id="LC1699" class="blob-code js-file-line">      &quot;\n&quot;,</td>
      </tr>
      <tr>
        <td id="L1700" class="blob-num js-line-number" data-line-number="1700"></td>
        <td id="LC1700" class="blob-code js-file-line">      &quot;fig, ax = plt.subplots(figsize = (8,6))\n&quot;,</td>
      </tr>
      <tr>
        <td id="L1701" class="blob-num js-line-number" data-line-number="1701"></td>
        <td id="LC1701" class="blob-code js-file-line">      &quot;ax.plot(x, y, &#39;o&#39;, markersize=12)\n&quot;,</td>
      </tr>
      <tr>
        <td id="L1702" class="blob-num js-line-number" data-line-number="1702"></td>
        <td id="LC1702" class="blob-code js-file-line">      &quot;plt.xlim((-1.3, 1.3))&quot;</td>
      </tr>
      <tr>
        <td id="L1703" class="blob-num js-line-number" data-line-number="1703"></td>
        <td id="LC1703" class="blob-code js-file-line">     ],</td>
      </tr>
      <tr>
        <td id="L1704" class="blob-num js-line-number" data-line-number="1704"></td>
        <td id="LC1704" class="blob-code js-file-line">     &quot;language&quot;: &quot;python&quot;,</td>
      </tr>
      <tr>
        <td id="L1705" class="blob-num js-line-number" data-line-number="1705"></td>
        <td id="LC1705" class="blob-code js-file-line">     &quot;metadata&quot;: {},</td>
      </tr>
      <tr>
        <td id="L1706" class="blob-num js-line-number" data-line-number="1706"></td>
        <td id="LC1706" class="blob-code js-file-line">     &quot;outputs&quot;: [</td>
      </tr>
      <tr>
        <td id="L1707" class="blob-num js-line-number" data-line-number="1707"></td>
        <td id="LC1707" class="blob-code js-file-line">      {</td>
      </tr>
      <tr>
        <td id="L1708" class="blob-num js-line-number" data-line-number="1708"></td>
        <td id="LC1708" class="blob-code js-file-line">       &quot;metadata&quot;: {},</td>
      </tr>
      <tr>
        <td id="L1709" class="blob-num js-line-number" data-line-number="1709"></td>
        <td id="LC1709" class="blob-code js-file-line">       &quot;output_type&quot;: &quot;pyout&quot;,</td>
      </tr>
      <tr>
        <td id="L1710" class="blob-num js-line-number" data-line-number="1710"></td>
        <td id="LC1710" class="blob-code js-file-line">       &quot;prompt_number&quot;: 62,</td>
      </tr>
      <tr>
        <td id="L1711" class="blob-num js-line-number" data-line-number="1711"></td>
        <td id="LC1711" class="blob-code js-file-line">       &quot;text&quot;: [</td>
      </tr>
      <tr>
        <td id="L1712" class="blob-num js-line-number" data-line-number="1712"></td>
        <td id="LC1712" class="blob-code js-file-line">        &quot;(-1.3, 1.3)&quot;</td>
      </tr>
      <tr>
        <td id="L1713" class="blob-num js-line-number" data-line-number="1713"></td>
        <td id="LC1713" class="blob-code js-file-line">       ]</td>
      </tr>
      <tr>
        <td id="L1714" class="blob-num js-line-number" data-line-number="1714"></td>
        <td id="LC1714" class="blob-code js-file-line">      },</td>
      </tr>
      <tr>
        <td id="L1715" class="blob-num js-line-number" data-line-number="1715"></td>
        <td id="LC1715" class="blob-code js-file-line">      {</td>
      </tr>
      <tr>
        <td id="L1716" class="blob-num js-line-number" data-line-number="1716"></td>
        <td id="LC1716" class="blob-code js-file-line">       &quot;metadata&quot;: {},</td>
      </tr>
      <tr>
        <td id="L1717" class="blob-num js-line-number" data-line-number="1717"></td>
        <td id="LC1717" class="blob-code js-file-line">       &quot;output_type&quot;: &quot;display_data&quot;,</td>
      </tr>
      <tr>
        <td id="L1718" class="blob-num js-line-number" data-line-number="1718"></td>
        <td id="LC1718" class="blob-code js-file-line">       &quot;png&quot;: &quot;iVBORw0KGgoAAAANSUhEUgAAAecAAAFwCAYAAACCbrOvAAAABHNCSVQICAgIfAhkiAAAAAlwSFlz\nAAALEgAACxIB0t1+/AAAFYhJREFUeJzt3X9snPdh3/EPFXkgOxKQjQ7Oarszhi1oAxRuWsIh0w05\ngKVgR4CTAZ0gAuKwFFiCoEWH+Y+liwxasCFsKzAjTbOsBpYEHglcSqxYkJg2Jk42O2/lJVVjKz8W\np/FQD7bTOkMtZlRMYsnE/XEniWKO5FF3JL9393oBhI53D/l88eCo9z3PPfd9EgAAAAAAAAAAAAAA\nAAB2cU+S55N8K8k3k/xWk2UqSX6Q5MXG1yMHNTgA6EfvTPKLjdvDSb6T5Oe3LFNJ8qUDHBMAdLUj\nbf78XyZ5qXH7SpJvJ/mZJssNtLkeAOAW3Jvkf6W+B73Z+5P8VZJLSZ5J8u6DHRYA9KfhJBeTfKjJ\nYyNJfqpx+8Ekf3ZQgwKAbtSJw823JXk6ybNJPtnC8n+e5JeTvLX5zvvuu2/j0qVLHRgOAHSFS7lx\n3tZN2n3PeSDJZ5P8j2wf5jtz40XA/Y3bb21d6NKlS9nY2OiJr0cfffTQx9CLX7ar7dpNX7arbbrb\nV5L7tovr0XbKnORXkpxO8vXUPyaVJJ9I8rON208m+bUkH0vy4yRvJznV5joBoKe1G+f/lt33vv9t\n4wsAaEG7h7VpolKpHPYQepLtuj9s1/1hu3ZeP23Tkj5/vNE4Bg8APW9gYCDZpsP2nAGgMOIMAIUR\nZwAojDgDQGHEGQAKI84AUBhxBoDCiDMAFEacAaAw4gwAhRFnACiMOANAYcQZAAojzgBQGHEGgMKI\nMwAURpwBoDDiDACFEWcAKIw4A0BhxBkACiPOAFAYcQaAwogzABRGnAGgMOIMAIURZwAojDgDQGHE\nGQAKI84AUBhxBoDCiDMAFEacAaAw4gwAhTl62APoJdXqQmZna1lfP5LBwauZnh7L1NSJwx4WAF1m\n4LAHsMnGxsbGYY/hlqysrOTkyceyvDyRK1duxHh4eCHj4xcyPz+TY8eOHeIIASjNwMBAsk2HxblN\nKysrmZw8k4sXzyVpFuCVjI6eyeLiOYEG4Dpx3kfHjz+cxcWZNA/zNZczOfl4zp9/4qCGBUDhdoqz\nE8LaUK0uZHl5IjuHOUluT602kWp14SCGBUCXE+c2zM7WbnqPeSerqycyN1fb5xEB0AvEuQ3r63vb\nfGtrNjcAu1OLNgwOXt3T8kNDe1segP4kzm2Ynh7L8HBr7yOPjDyd6emxfR4RAL1AnNswNXUi4+MX\nkqzssuTljI09l1OnTEgCwO7EuU3z8zMZHT2T7QN9OaOjj2R+fuYghwVAF2s3zvckeT7Jt5J8M8lv\nbbPcp5J8N8mlJO9pc51FOXbsWBYXz2Vy8rGMjNx8iHtkZCGTk4+bgASAPWl3EpJ3Nr5eSjKc5E+T\nfCjJtzct84Ekv9n4971JfjdJszdfu3ISks2q1YXMzdWytnYkQ0NXc/q0ubUBaO4gZwj7YpLfS3Jh\n032/n/re9R80vn85yfuTvLnlZ7s+zgDQqoOaIeze1A9Zf2XL/XcleW3T968nubuD6wWAntKpOA8n\n+Y9J/mmSK00e3/rKwC4yAGyjE9dzvi3JHyaZS/2w9lZvpH7i2DV3N+77CWfPnr1+u1KppFKpdGB4\nAHD4lpaWsrS01NKy7b7nPJDkqSR/leSfbbPM5hPCxpJ8Mj16QhgAtGo/Twj7e0n+a5Kv58ah6k8k\n+dnG7Scb/346yQNJfpjkw0m+1uR3iTMAfcP1nAGgMK7nDABdRJwBoDDiDACFEWcAKIw4A0BhxBkA\nCiPOAFAYcQaAwogzABRGnAGgMOIMAIURZwAojDgDQGHEGQAKI84AUBhxBoDCiDMAFEacAaAw4gwA\nhRFnACiMOANAYcQZAAojzgBQGHEGgMKIMwAURpwBoDDiDACFEWcAKIw4A0BhxBkACiPOAFAYcQaA\nwogzABRGnAGgMOIMAIURZwAojDgDQGHEGQAKI84AUBhxBoDCiDMAFEacAaAw4gwAhRFnACiMOANA\nYcQZAAojzgBQmE7E+XNJ3kzyjW0eryT5QZIXG1+PdGCdANCzjnbgd3w+ye8l+Q87LPNHSR7qwLoA\noOd1Ys/5hSSXd1lmoAPrAYC+cBDvOW8keV+SS0meSfLuA1gnAHStThzW3s3XktyT5O0kDyb5YpJ3\nHcB6AaArHUScVzfdfjbJZ5LckeStrQuePXv2+u1KpZJKpbLPQwOAg7G0tJSlpaWWlu3Ue8H3Jvly\nkl9o8tidSb6f+uHt+5PMN5bfamNjY6NDwwGAsg0MDCTbdLgTe87VJO9P8tNJXkvyaJLbGo89meTX\nknwsyY9TP7R9qgPrBICeVdJZ1PacAegbO+05myEMAAojzgBQGHEGgMKIMwAURpwBoDDiDACFEWcA\nKIw4A0BhxBkACiPOAFAYcQaAwogzABRGnAGgMOIMAIURZwAojDgDQGHEGQAKI84AUBhxBoDCiDMA\nFEacAaAw4gwAhRFnACiMOANAYcQZAAojzgBQGHEGgMIcPewBUK5qdSGzs7Wsrx/J4ODVTE+PZWrq\nxGEPC6DnDRz2ADbZ2NjYOOwxkGRlZSUnTz6W5eWJXLlyI8bDwwsZH7+Q+fmZHDt27BBHCND9BgYG\nkm06LM7cZGVlJZOTZ3Lx4rkkzQK8ktHRM1lcPCfQAG0QZ1p2/PjDWVycSfMwX3M5k5OP5/z5Jw5q\nWAA9Z6c4OyGM66rVhSwvT2TnMCfJ7anVJlKtLhzEsAD6jjhz3exs7ab3mHeyunoic3O1fR4RQH8S\nZ65bX9/b02FtzdMHYD/435XrBgev7mn5oaG9LQ9Aa8SZ66anxzI83Nr7yCMjT2d6emyfRwTQn8SZ\n66amTmR8/EKSlV2WvJyxsedy6pQJSQD2gzhzk/n5mYyOnsn2gb6c0dFHMj8/c5DDAugrPufMT7g2\nQ1itNpHV1Rt7xyMjCxkbM0MYQCeYhIRbUq0uZG6ulrW1IxkauprTp82tDdAp4gwAhTFDGAB0EXEG\ngMKIMwAURpwBoDDiDACFEWcAKEy7cf5ckjeTfGOHZT6V5LtJLiV5T5vrA4Ce126cP5/kgR0e/0CS\nv5Pk7yb5SJJ/1+b6AKDntRvnF5Jc3uHxh5I81bj9lSTHktzZ5joBoKft93vOdyV5bdP3rye5e5/X\nCQBd7egBrGPr1GTbztF59uzZ67crlUoqlcr+jAgADtjS0lKWlpZaWrYTc2vfm+TLSX6hyWO/n2Qp\nyRca37+c5P2pn0S2lbm1Aegbhzm39peS/KPG7bHULxLcLMwAQEO7h7Wrqe8J/3Tq7y0/muS2xmNP\nJnkm9TO2X0nywyQfbnN9ANDzXDISAA6BS0YCQBcRZwAojDgDQGHEGQAKI84AUBhxBoDCiDMAFEac\nAaAw4gwAhRFnACiMOANAYcQZAAojzgBQGHEGgMKIMwAURpwBoDDiDACFEWcAKIw4A0BhxBkACiPO\nAFAYcQaAwogzABRGnAGgMOIMAIURZwAojDgDQGHEGQAKI84AUBhxBoDCiDMAFEacAaAw4gwAhRFn\nACiMOANAYcQZAAojzgBQGHEGgMKIMwAURpwBoDDiDACFEWcAKIw4A0BhxBkACiPOAFAYcQaAwnQi\nzg8keTnJd5N8vMnjlSQ/SPJi4+uRDqwTAHrW0TZ//h1JPp3kV5O8keRPknwpybe3LPdHSR5qc10A\n0Bfa3XO+P8krSV5N8qMkX0jywSbLDbS5HgDoG+3G+a4kr236/vXGfZttJHlfkktJnkny7jbXCQA9\nrd3D2hstLPO1JPckeTvJg0m+mORdba4X+la1upDZ2VrW149kcPBqpqfHMjV14rCHBXRQu3F+I/Xw\nXnNP6nvPm61uuv1sks8kuSPJW1t/2dmzZ6/frlQqqVQqbQ4PesfKykpOnnwsy8sTuXLl8ev3v/DC\nQj7/+YczPz+TY8eOHeIIO8OLD3rV0tJSlpaWWlq23feCjyb5TpKJJN9L8tUkU7n5hLA7k3w/9b3s\n+5PMJ7m3ye/a2NhoZUcc+s/KykomJ8/k4sVzSZoFeCWjo2eyuHiuawN984uPGzEeHl7I+PiFnnnx\nAdcMDAwk23S4EydqPZjkk6mfuf3ZJP8yyUcbjz2Z5DeSfCzJj1M/tP1wklqT3yPOsI3jxx/O4uJM\nmof5msuZnHw8588/cVDD6ph+ePEBW+13nDtFnKGJanUhH/lIbtqb3M7IyEKefDJddxi41198QDM7\nxdkMYVC42dlaS2FOktXVE5mba3ZgqlzV6kKWlyeyc5iT5PbUahOpVhcOYlhwqMQZCre+vrc/07W1\n7vqz7vUXH3AruuuvGPrQ4ODVPS0/NLS35Q9br7/4gFvhWQ6Fm54ey/Bwa4dyR0aezvT02D6PqLN6\n/cUH3ApxhsJNTZ3I+PiFJCu7LHk5Y2PP5dSp7joZrNdffMCtEGfoAvPzMxkdPZPtA305o6OPZH5+\n5iCH1RG9/uIDboWPUkGXuDZJR602kdXVG4EaGVnI2Fh3T9Kx++ec6y8+fM6ZXuJzztBDqtWFzM3V\nsrZ2JENDV3P6dG9Mb9nLLz6gGXEGukavvviArcSZvuZCCkCJxJm+5EIKQMnEmb7jQgpA6cSZvuNC\nCkDpXPiCvuJCCkC3E2d6jgspAN1OnOk5LqQAdDv/K9FzXEgB6HbiTM9xIQWg24kzPceFFIBuJ870\npF6+ihPQ+3zOmZ7lQgpAyUxCQl9zIQWgROIMAIUxQxgAdBFxBoDCiDMAFEacAaAw4gwAhRFnACiM\nOANAYcQZAAojzgBQGHEGgMKIMwAURpwBoDBHD3sAAN2sWl3I7Gwt6+tHMjh4NdPTrnpG+1yVCuAW\nXLte+PLyRK5cuRHj4eGFjI+7Xji7c8lIgA5aWVnJ5OSZXLx4LkmzAK9kdPRMFhfPCTTbEmeADjp+\n/OEsLs6keZivuZzJycdz/vwTBzUsuozrOQN0SLW6kOXliewc5iS5PbXaRKrVhYMYFj1GnAH2YHa2\ndtN7zDtZXT2RubnaPo+IXiTOAHuwvr63/zbX1vw3y9551gDsweDg1T0tPzS0t+UhEWeAPZmeHsvw\ncGvvI4+MPJ3p6bF9HhG9SJwB9mBq6kTGxy8kWdllycsZG3sup06ZkIS9E2eAPZqfn8no6JlsH+jL\nGR19JPPzMwc5LHqIzzkD3IJrM4TVahNZXb2xdzwyspCxMTOEsbv9noTkgSSfTPKOJP8+yb9ussyn\nkjyY5O0k/zjJi02WEWeg61SrC5mbq2Vt7UiGhq7m9Glza9Oa/YzzO5J8J8mvJnkjyZ8kmUry7U3L\nfCDJbzb+fW+S303S7AwJcQagb+znDGH3J3klyatJfpTkC0k+uGWZh5I81bj9ldSn1bmzzfUCQM9q\nN853JXlt0/evN+7bbZm721wvAPSsduPc6nHorbvtjl8DwDaOtvnzbyS5Z9P396S+Z7zTMnc37vsJ\nZ8+evX67UqmkUqm0OTwAKMPS0lKWlpZaWrbdE8KOpn5C2ESS7yX5anY+IWws9TO7nRAGQF/b6YSw\ndvecf5x6eP9z6mdufzb1MH+08fiTSZ5JPcyvJPlhkg+3uU4A6GkmIQGAQ7CfH6UCADpMnAGgMOIM\nAIURZwAojDgDQGHEGQAKI84AUBhxBoDCiDMAFEacAaAw4gwAhRFnACiMOANAYcQZAAojzgBQGHEG\ngMKIMwAURpwBoDDiDACFEWcAKIw4A0BhxBkACiPOAFAYcQaAwogzABRGnAGgMOIMAIU5etgDAKA7\nVKsLmZ2tZX39SAYHr2Z6eixTUycOe1g9aeCwB7DJxsbGxmGPAYAtVlZWcvLkY1lensiVKzdiPDy8\nkPHxC5mfn8mxY8cOcYTdaWBgINmmw+IMwLZWVlYyOXkmFy+eS9IswCsZHT2TxcVzAr1H4gzALTl+\n/OEsLs6keZivuZzJycdz/vwTBzWsnrBTnJ0QBkBT1epClpcnsnOYk+T21GoTqVYXDmJYfUGcAWhq\ndrZ203vMO1ldPZG5udo+j6h/iDMATa2v7y0Ra2uS0im2JABNDQ5e3dPyQ0N7W57tiTMATU1Pj2V4\nuLX3kUdGns709Ng+j6h/iDMATU1Nncj4+IUkK7sseTljY8/l1CkTknSKOAOwrfn5mYyOnsn2gb6c\n0dFHMj8/c5DD6nk+5wzAjq7NEFarTWR19cbe8cjIQsbGzBB2q0xCAkDbqtWFzM3VsrZ2JENDV3P6\ntLm12yHOAFAYM4QBQBcRZwAojDgDQGHEGQAKI84AUBhxBoDCHG3jZ+9I8gdJ/laSV5OcTPMpZF5N\n8n+S/L8kP0pyfxvrBICe186e828nWUzyriQXGt83s5GkkuQ96ZMwLy0tHfYQepLtuj9s1/1hu3Ze\nP23TduL8UJKnGrefSvKhHZYtabKTfddPT6CDZLvuD9t1f9iunddP27SdON+Z5M3G7Tcb3zezkeS/\nJLmY5J+0sT4A6Au7vee8mOSdTe4/s+X7jcZXM7+S5C+S/I3G73s5yQt7GCMA9JV2Dje/nPp7yX+Z\n5G8meT7Jz+3yM48muZLk3zR57KUk97UxHgDoJpeS/GKnf+nvJPl44/ZvJ/lXTZb5qSQjjdt/Pcl/\nT3K80wMBAOruSP295D9Lcj7JtYt5/kyShcbtv536HvFLSb6Z5F8c8BgBAACAEvzDJN9KfaKVX9ph\nuQdSf6/+u7nxlgDbuyP1kwi3Hp3Z6tUkX0/yYpKvHsjIuk8rz71PNR6/lPq8BOxut+1aSfKD1J+b\nLyZ55MBG1r0+l/ongL6xwzKeq7Tk51KfjOX5bB/ndyR5Jcm9SW5L/VD/zx/E4LrY7yT5543bH0/z\n8xqS5M9TDznNtfLc+0CSZxq335ukdlCD62KtbNdKki8d6Ki6399PPbjbxbkvnqvm1u6Ml1Pfu9vJ\n/an/Ib+a+jSmX0jywf0dVtcz0U1ntPLc27ytv5L6UYrt5i6grtW/ac/NvXkhyeUdHu+L56o4H5y7\nkry26fvXG/exPRPddEYrz71my9y9z+Pqdq1s140k70v98OszSd59MEPraX3xXG3nwhf9ZrsJWT6R\n5Mst/Px2k7T0OxPd7L9Wn3tb9/A8Z3fWyvb5WpJ7kryd5MEkX0z9LTDa0/PPVXFu3WSbP/9G6n+k\n19yT+iu+frfTdn0z9XBfm+jm+9ss9xeNf/93kv+U+uFGcb6hlefe1mXubtzH9lrZrqubbj+b5DOp\nnx/x1v4Orad5rrJnzyf55W0eO5rkf6Z+8shfixPCWmGim85o5bm3+SSbsfToSTYd1sp2vTM39vLu\nT/39aXZ3b1o7IcxzlR39g9TfA1lLfS/v2cb9mydkSeqHtb6T+kkkJmTZnYluOqfZc++jja9rPt14\n/FJ2/kggN+y2XX8j9eflS0n+OPWYsLNqku8l+b+p/7/66/FcBQAAAAAAAAAAAAAAAAAAAAD6zf8H\nBnuCnD/vXOoAAAAASUVORK5CYII=\n&quot;,</td>
      </tr>
      <tr>
        <td id="L1719" class="blob-num js-line-number" data-line-number="1719"></td>
        <td id="LC1719" class="blob-code js-file-line">       &quot;text&quot;: [</td>
      </tr>
      <tr>
        <td id="L1720" class="blob-num js-line-number" data-line-number="1720"></td>
        <td id="LC1720" class="blob-code js-file-line">        &quot;&lt;matplotlib.figure.Figure at 0x10a7e72d0&gt;&quot;</td>
      </tr>
      <tr>
        <td id="L1721" class="blob-num js-line-number" data-line-number="1721"></td>
        <td id="LC1721" class="blob-code js-file-line">       ]</td>
      </tr>
      <tr>
        <td id="L1722" class="blob-num js-line-number" data-line-number="1722"></td>
        <td id="LC1722" class="blob-code js-file-line">      }</td>
      </tr>
      <tr>
        <td id="L1723" class="blob-num js-line-number" data-line-number="1723"></td>
        <td id="LC1723" class="blob-code js-file-line">     ],</td>
      </tr>
      <tr>
        <td id="L1724" class="blob-num js-line-number" data-line-number="1724"></td>
        <td id="LC1724" class="blob-code js-file-line">     &quot;prompt_number&quot;: 62</td>
      </tr>
      <tr>
        <td id="L1725" class="blob-num js-line-number" data-line-number="1725"></td>
        <td id="LC1725" class="blob-code js-file-line">    },</td>
      </tr>
      <tr>
        <td id="L1726" class="blob-num js-line-number" data-line-number="1726"></td>
        <td id="LC1726" class="blob-code js-file-line">    {</td>
      </tr>
      <tr>
        <td id="L1727" class="blob-num js-line-number" data-line-number="1727"></td>
        <td id="LC1727" class="blob-code js-file-line">     &quot;cell_type&quot;: &quot;code&quot;,</td>
      </tr>
      <tr>
        <td id="L1728" class="blob-num js-line-number" data-line-number="1728"></td>
        <td id="LC1728" class="blob-code js-file-line">     &quot;collapsed&quot;: false,</td>
      </tr>
      <tr>
        <td id="L1729" class="blob-num js-line-number" data-line-number="1729"></td>
        <td id="LC1729" class="blob-code js-file-line">     &quot;input&quot;: [</td>
      </tr>
      <tr>
        <td id="L1730" class="blob-num js-line-number" data-line-number="1730"></td>
        <td id="LC1730" class="blob-code js-file-line">      &quot;# X = np.c_[x, np.ones(len(x))]\n&quot;,</td>
      </tr>
      <tr>
        <td id="L1731" class="blob-num js-line-number" data-line-number="1731"></td>
        <td id="LC1731" class="blob-code js-file-line">      &quot;X = np.vander(x, 1+1)&quot;</td>
      </tr>
      <tr>
        <td id="L1732" class="blob-num js-line-number" data-line-number="1732"></td>
        <td id="LC1732" class="blob-code js-file-line">     ],</td>
      </tr>
      <tr>
        <td id="L1733" class="blob-num js-line-number" data-line-number="1733"></td>
        <td id="LC1733" class="blob-code js-file-line">     &quot;language&quot;: &quot;python&quot;,</td>
      </tr>
      <tr>
        <td id="L1734" class="blob-num js-line-number" data-line-number="1734"></td>
        <td id="LC1734" class="blob-code js-file-line">     &quot;metadata&quot;: {},</td>
      </tr>
      <tr>
        <td id="L1735" class="blob-num js-line-number" data-line-number="1735"></td>
        <td id="LC1735" class="blob-code js-file-line">     &quot;outputs&quot;: [],</td>
      </tr>
      <tr>
        <td id="L1736" class="blob-num js-line-number" data-line-number="1736"></td>
        <td id="LC1736" class="blob-code js-file-line">     &quot;prompt_number&quot;: 63</td>
      </tr>
      <tr>
        <td id="L1737" class="blob-num js-line-number" data-line-number="1737"></td>
        <td id="LC1737" class="blob-code js-file-line">    },</td>
      </tr>
      <tr>
        <td id="L1738" class="blob-num js-line-number" data-line-number="1738"></td>
        <td id="LC1738" class="blob-code js-file-line">    {</td>
      </tr>
      <tr>
        <td id="L1739" class="blob-num js-line-number" data-line-number="1739"></td>
        <td id="LC1739" class="blob-code js-file-line">     &quot;cell_type&quot;: &quot;code&quot;,</td>
      </tr>
      <tr>
        <td id="L1740" class="blob-num js-line-number" data-line-number="1740"></td>
        <td id="LC1740" class="blob-code js-file-line">     &quot;collapsed&quot;: false,</td>
      </tr>
      <tr>
        <td id="L1741" class="blob-num js-line-number" data-line-number="1741"></td>
        <td id="LC1741" class="blob-code js-file-line">     &quot;input&quot;: [</td>
      </tr>
      <tr>
        <td id="L1742" class="blob-num js-line-number" data-line-number="1742"></td>
        <td id="LC1742" class="blob-code js-file-line">      &quot;X&quot;</td>
      </tr>
      <tr>
        <td id="L1743" class="blob-num js-line-number" data-line-number="1743"></td>
        <td id="LC1743" class="blob-code js-file-line">     ],</td>
      </tr>
      <tr>
        <td id="L1744" class="blob-num js-line-number" data-line-number="1744"></td>
        <td id="LC1744" class="blob-code js-file-line">     &quot;language&quot;: &quot;python&quot;,</td>
      </tr>
      <tr>
        <td id="L1745" class="blob-num js-line-number" data-line-number="1745"></td>
        <td id="LC1745" class="blob-code js-file-line">     &quot;metadata&quot;: {},</td>
      </tr>
      <tr>
        <td id="L1746" class="blob-num js-line-number" data-line-number="1746"></td>
        <td id="LC1746" class="blob-code js-file-line">     &quot;outputs&quot;: [</td>
      </tr>
      <tr>
        <td id="L1747" class="blob-num js-line-number" data-line-number="1747"></td>
        <td id="LC1747" class="blob-code js-file-line">      {</td>
      </tr>
      <tr>
        <td id="L1748" class="blob-num js-line-number" data-line-number="1748"></td>
        <td id="LC1748" class="blob-code js-file-line">       &quot;metadata&quot;: {},</td>
      </tr>
      <tr>
        <td id="L1749" class="blob-num js-line-number" data-line-number="1749"></td>
        <td id="LC1749" class="blob-code js-file-line">       &quot;output_type&quot;: &quot;pyout&quot;,</td>
      </tr>
      <tr>
        <td id="L1750" class="blob-num js-line-number" data-line-number="1750"></td>
        <td id="LC1750" class="blob-code js-file-line">       &quot;prompt_number&quot;: 64,</td>
      </tr>
      <tr>
        <td id="L1751" class="blob-num js-line-number" data-line-number="1751"></td>
        <td id="LC1751" class="blob-code js-file-line">       &quot;text&quot;: [</td>
      </tr>
      <tr>
        <td id="L1752" class="blob-num js-line-number" data-line-number="1752"></td>
        <td id="LC1752" class="blob-code js-file-line">        &quot;array([[-0.99768,  1.     ],\n&quot;,</td>
      </tr>
      <tr>
        <td id="L1753" class="blob-num js-line-number" data-line-number="1753"></td>
        <td id="LC1753" class="blob-code js-file-line">        &quot;       [-0.69574,  1.     ],\n&quot;,</td>
      </tr>
      <tr>
        <td id="L1754" class="blob-num js-line-number" data-line-number="1754"></td>
        <td id="LC1754" class="blob-code js-file-line">        &quot;       [-0.40373,  1.     ],\n&quot;,</td>
      </tr>
      <tr>
        <td id="L1755" class="blob-num js-line-number" data-line-number="1755"></td>
        <td id="LC1755" class="blob-code js-file-line">        &quot;       [-0.10236,  1.     ],\n&quot;,</td>
      </tr>
      <tr>
        <td id="L1756" class="blob-num js-line-number" data-line-number="1756"></td>
        <td id="LC1756" class="blob-code js-file-line">        &quot;       [ 0.22024,  1.     ],\n&quot;,</td>
      </tr>
      <tr>
        <td id="L1757" class="blob-num js-line-number" data-line-number="1757"></td>
        <td id="LC1757" class="blob-code js-file-line">        &quot;       [ 0.47742,  1.     ],\n&quot;,</td>
      </tr>
      <tr>
        <td id="L1758" class="blob-num js-line-number" data-line-number="1758"></td>
        <td id="LC1758" class="blob-code js-file-line">        &quot;       [ 0.82229,  1.     ]])&quot;</td>
      </tr>
      <tr>
        <td id="L1759" class="blob-num js-line-number" data-line-number="1759"></td>
        <td id="LC1759" class="blob-code js-file-line">       ]</td>
      </tr>
      <tr>
        <td id="L1760" class="blob-num js-line-number" data-line-number="1760"></td>
        <td id="LC1760" class="blob-code js-file-line">      }</td>
      </tr>
      <tr>
        <td id="L1761" class="blob-num js-line-number" data-line-number="1761"></td>
        <td id="LC1761" class="blob-code js-file-line">     ],</td>
      </tr>
      <tr>
        <td id="L1762" class="blob-num js-line-number" data-line-number="1762"></td>
        <td id="LC1762" class="blob-code js-file-line">     &quot;prompt_number&quot;: 64</td>
      </tr>
      <tr>
        <td id="L1763" class="blob-num js-line-number" data-line-number="1763"></td>
        <td id="LC1763" class="blob-code js-file-line">    },</td>
      </tr>
      <tr>
        <td id="L1764" class="blob-num js-line-number" data-line-number="1764"></td>
        <td id="LC1764" class="blob-code js-file-line">    {</td>
      </tr>
      <tr>
        <td id="L1765" class="blob-num js-line-number" data-line-number="1765"></td>
        <td id="LC1765" class="blob-code js-file-line">     &quot;cell_type&quot;: &quot;code&quot;,</td>
      </tr>
      <tr>
        <td id="L1766" class="blob-num js-line-number" data-line-number="1766"></td>
        <td id="LC1766" class="blob-code js-file-line">     &quot;collapsed&quot;: false,</td>
      </tr>
      <tr>
        <td id="L1767" class="blob-num js-line-number" data-line-number="1767"></td>
        <td id="LC1767" class="blob-code js-file-line">     &quot;input&quot;: [</td>
      </tr>
      <tr>
        <td id="L1768" class="blob-num js-line-number" data-line-number="1768"></td>
        <td id="LC1768" class="blob-code js-file-line">      &quot;res = sm.OLS(y, X).fit()\n&quot;,</td>
      </tr>
      <tr>
        <td id="L1769" class="blob-num js-line-number" data-line-number="1769"></td>
        <td id="LC1769" class="blob-code js-file-line">      &quot;res.summary()&quot;</td>
      </tr>
      <tr>
        <td id="L1770" class="blob-num js-line-number" data-line-number="1770"></td>
        <td id="LC1770" class="blob-code js-file-line">     ],</td>
      </tr>
      <tr>
        <td id="L1771" class="blob-num js-line-number" data-line-number="1771"></td>
        <td id="LC1771" class="blob-code js-file-line">     &quot;language&quot;: &quot;python&quot;,</td>
      </tr>
      <tr>
        <td id="L1772" class="blob-num js-line-number" data-line-number="1772"></td>
        <td id="LC1772" class="blob-code js-file-line">     &quot;metadata&quot;: {},</td>
      </tr>
      <tr>
        <td id="L1773" class="blob-num js-line-number" data-line-number="1773"></td>
        <td id="LC1773" class="blob-code js-file-line">     &quot;outputs&quot;: [</td>
      </tr>
      <tr>
        <td id="L1774" class="blob-num js-line-number" data-line-number="1774"></td>
        <td id="LC1774" class="blob-code js-file-line">      {</td>
      </tr>
      <tr>
        <td id="L1775" class="blob-num js-line-number" data-line-number="1775"></td>
        <td id="LC1775" class="blob-code js-file-line">       &quot;html&quot;: [</td>
      </tr>
      <tr>
        <td id="L1776" class="blob-num js-line-number" data-line-number="1776"></td>
        <td id="LC1776" class="blob-code js-file-line">        &quot;&lt;table class=\&quot;simpletable\&quot;&gt;\n&quot;,</td>
      </tr>
      <tr>
        <td id="L1777" class="blob-num js-line-number" data-line-number="1777"></td>
        <td id="LC1777" class="blob-code js-file-line">        &quot;&lt;caption&gt;OLS Regression Results&lt;/caption&gt;\n&quot;,</td>
      </tr>
      <tr>
        <td id="L1778" class="blob-num js-line-number" data-line-number="1778"></td>
        <td id="LC1778" class="blob-code js-file-line">        &quot;&lt;tr&gt;\n&quot;,</td>
      </tr>
      <tr>
        <td id="L1779" class="blob-num js-line-number" data-line-number="1779"></td>
        <td id="LC1779" class="blob-code js-file-line">        &quot;  &lt;th&gt;Dep. Variable:&lt;/th&gt;            &lt;td&gt;y&lt;/td&gt;        &lt;th&gt;  R-squared:         &lt;/th&gt; &lt;td&gt;   0.811&lt;/td&gt;\n&quot;,</td>
      </tr>
      <tr>
        <td id="L1780" class="blob-num js-line-number" data-line-number="1780"></td>
        <td id="LC1780" class="blob-code js-file-line">        &quot;&lt;/tr&gt;\n&quot;,</td>
      </tr>
      <tr>
        <td id="L1781" class="blob-num js-line-number" data-line-number="1781"></td>
        <td id="LC1781" class="blob-code js-file-line">        &quot;&lt;tr&gt;\n&quot;,</td>
      </tr>
      <tr>
        <td id="L1782" class="blob-num js-line-number" data-line-number="1782"></td>
        <td id="LC1782" class="blob-code js-file-line">        &quot;  &lt;th&gt;Model:&lt;/th&gt;                   &lt;td&gt;OLS&lt;/td&gt;       &lt;th&gt;  Adj. R-squared:    &lt;/th&gt; &lt;td&gt;   0.773&lt;/td&gt;\n&quot;,</td>
      </tr>
      <tr>
        <td id="L1783" class="blob-num js-line-number" data-line-number="1783"></td>
        <td id="LC1783" class="blob-code js-file-line">        &quot;&lt;/tr&gt;\n&quot;,</td>
      </tr>
      <tr>
        <td id="L1784" class="blob-num js-line-number" data-line-number="1784"></td>
        <td id="LC1784" class="blob-code js-file-line">        &quot;&lt;tr&gt;\n&quot;,</td>
      </tr>
      <tr>
        <td id="L1785" class="blob-num js-line-number" data-line-number="1785"></td>
        <td id="LC1785" class="blob-code js-file-line">        &quot;  &lt;th&gt;Method:&lt;/th&gt;             &lt;td&gt;Least Squares&lt;/td&gt;  &lt;th&gt;  F-statistic:       &lt;/th&gt; &lt;td&gt;   21.48&lt;/td&gt;\n&quot;,</td>
      </tr>
      <tr>
        <td id="L1786" class="blob-num js-line-number" data-line-number="1786"></td>
        <td id="LC1786" class="blob-code js-file-line">        &quot;&lt;/tr&gt;\n&quot;,</td>
      </tr>
      <tr>
        <td id="L1787" class="blob-num js-line-number" data-line-number="1787"></td>
        <td id="LC1787" class="blob-code js-file-line">        &quot;&lt;tr&gt;\n&quot;,</td>
      </tr>
      <tr>
        <td id="L1788" class="blob-num js-line-number" data-line-number="1788"></td>
        <td id="LC1788" class="blob-code js-file-line">        &quot;  &lt;th&gt;Date:&lt;/th&gt;             &lt;td&gt;Mon, 20 Oct 2014&lt;/td&gt; &lt;th&gt;  Prob (F-statistic):&lt;/th&gt;  &lt;td&gt;0.00566&lt;/td&gt;\n&quot;,</td>
      </tr>
      <tr>
        <td id="L1789" class="blob-num js-line-number" data-line-number="1789"></td>
        <td id="LC1789" class="blob-code js-file-line">        &quot;&lt;/tr&gt;\n&quot;,</td>
      </tr>
      <tr>
        <td id="L1790" class="blob-num js-line-number" data-line-number="1790"></td>
        <td id="LC1790" class="blob-code js-file-line">        &quot;&lt;tr&gt;\n&quot;,</td>
      </tr>
      <tr>
        <td id="L1791" class="blob-num js-line-number" data-line-number="1791"></td>
        <td id="LC1791" class="blob-code js-file-line">        &quot;  &lt;th&gt;Time:&lt;/th&gt;                 &lt;td&gt;21:31:34&lt;/td&gt;     &lt;th&gt;  Log-Likelihood:    &lt;/th&gt; &lt;td&gt; -1.9268&lt;/td&gt;\n&quot;,</td>
      </tr>
      <tr>
        <td id="L1792" class="blob-num js-line-number" data-line-number="1792"></td>
        <td id="LC1792" class="blob-code js-file-line">        &quot;&lt;/tr&gt;\n&quot;,</td>
      </tr>
      <tr>
        <td id="L1793" class="blob-num js-line-number" data-line-number="1793"></td>
        <td id="LC1793" class="blob-code js-file-line">        &quot;&lt;tr&gt;\n&quot;,</td>
      </tr>
      <tr>
        <td id="L1794" class="blob-num js-line-number" data-line-number="1794"></td>
        <td id="LC1794" class="blob-code js-file-line">        &quot;  &lt;th&gt;No. Observations:&lt;/th&gt;      &lt;td&gt;     7&lt;/td&gt;      &lt;th&gt;  AIC:               &lt;/th&gt; &lt;td&gt;   7.854&lt;/td&gt;\n&quot;,</td>
      </tr>
      <tr>
        <td id="L1795" class="blob-num js-line-number" data-line-number="1795"></td>
        <td id="LC1795" class="blob-code js-file-line">        &quot;&lt;/tr&gt;\n&quot;,</td>
      </tr>
      <tr>
        <td id="L1796" class="blob-num js-line-number" data-line-number="1796"></td>
        <td id="LC1796" class="blob-code js-file-line">        &quot;&lt;tr&gt;\n&quot;,</td>
      </tr>
      <tr>
        <td id="L1797" class="blob-num js-line-number" data-line-number="1797"></td>
        <td id="LC1797" class="blob-code js-file-line">        &quot;  &lt;th&gt;Df Residuals:&lt;/th&gt;          &lt;td&gt;     5&lt;/td&gt;      &lt;th&gt;  BIC:               &lt;/th&gt; &lt;td&gt;   7.745&lt;/td&gt;\n&quot;,</td>
      </tr>
      <tr>
        <td id="L1798" class="blob-num js-line-number" data-line-number="1798"></td>
        <td id="LC1798" class="blob-code js-file-line">        &quot;&lt;/tr&gt;\n&quot;,</td>
      </tr>
      <tr>
        <td id="L1799" class="blob-num js-line-number" data-line-number="1799"></td>
        <td id="LC1799" class="blob-code js-file-line">        &quot;&lt;tr&gt;\n&quot;,</td>
      </tr>
      <tr>
        <td id="L1800" class="blob-num js-line-number" data-line-number="1800"></td>
        <td id="LC1800" class="blob-code js-file-line">        &quot;  &lt;th&gt;Df Model:&lt;/th&gt;              &lt;td&gt;     1&lt;/td&gt;      &lt;th&gt;                     &lt;/th&gt;     &lt;td&gt; &lt;/td&gt;   \n&quot;,</td>
      </tr>
      <tr>
        <td id="L1801" class="blob-num js-line-number" data-line-number="1801"></td>
        <td id="LC1801" class="blob-code js-file-line">        &quot;&lt;/tr&gt;\n&quot;,</td>
      </tr>
      <tr>
        <td id="L1802" class="blob-num js-line-number" data-line-number="1802"></td>
        <td id="LC1802" class="blob-code js-file-line">        &quot;&lt;/table&gt;\n&quot;,</td>
      </tr>
      <tr>
        <td id="L1803" class="blob-num js-line-number" data-line-number="1803"></td>
        <td id="LC1803" class="blob-code js-file-line">        &quot;&lt;table class=\&quot;simpletable\&quot;&gt;\n&quot;,</td>
      </tr>
      <tr>
        <td id="L1804" class="blob-num js-line-number" data-line-number="1804"></td>
        <td id="LC1804" class="blob-code js-file-line">        &quot;&lt;tr&gt;\n&quot;,</td>
      </tr>
      <tr>
        <td id="L1805" class="blob-num js-line-number" data-line-number="1805"></td>
        <td id="LC1805" class="blob-code js-file-line">        &quot;    &lt;td&gt;&lt;/td&gt;       &lt;th&gt;coef&lt;/th&gt;     &lt;th&gt;std err&lt;/th&gt;      &lt;th&gt;t&lt;/th&gt;      &lt;th&gt;P&gt;|t|&lt;/th&gt; &lt;th&gt;[95.0% Conf. Int.]&lt;/th&gt; \n&quot;,</td>
      </tr>
      <tr>
        <td id="L1806" class="blob-num js-line-number" data-line-number="1806"></td>
        <td id="LC1806" class="blob-code js-file-line">        &quot;&lt;/tr&gt;\n&quot;,</td>
      </tr>
      <tr>
        <td id="L1807" class="blob-num js-line-number" data-line-number="1807"></td>
        <td id="LC1807" class="blob-code js-file-line">        &quot;&lt;tr&gt;\n&quot;,</td>
      </tr>
      <tr>
        <td id="L1808" class="blob-num js-line-number" data-line-number="1808"></td>
        <td id="LC1808" class="blob-code js-file-line">        &quot;  &lt;th&gt;x1&lt;/th&gt;    &lt;td&gt;   -1.0965&lt;/td&gt; &lt;td&gt;    0.237&lt;/td&gt; &lt;td&gt;   -4.635&lt;/td&gt; &lt;td&gt; 0.006&lt;/td&gt; &lt;td&gt;   -1.705    -0.488&lt;/td&gt;\n&quot;,</td>
      </tr>
      <tr>
        <td id="L1809" class="blob-num js-line-number" data-line-number="1809"></td>
        <td id="LC1809" class="blob-code js-file-line">        &quot;&lt;/tr&gt;\n&quot;,</td>
      </tr>
      <tr>
        <td id="L1810" class="blob-num js-line-number" data-line-number="1810"></td>
        <td id="LC1810" class="blob-code js-file-line">        &quot;&lt;tr&gt;\n&quot;,</td>
      </tr>
      <tr>
        <td id="L1811" class="blob-num js-line-number" data-line-number="1811"></td>
        <td id="LC1811" class="blob-code js-file-line">        &quot;  &lt;th&gt;const&lt;/th&gt; &lt;td&gt;    0.5022&lt;/td&gt; &lt;td&gt;    0.144&lt;/td&gt; &lt;td&gt;    3.479&lt;/td&gt; &lt;td&gt; 0.018&lt;/td&gt; &lt;td&gt;    0.131     0.873&lt;/td&gt;\n&quot;,</td>
      </tr>
      <tr>
        <td id="L1812" class="blob-num js-line-number" data-line-number="1812"></td>
        <td id="LC1812" class="blob-code js-file-line">        &quot;&lt;/tr&gt;\n&quot;,</td>
      </tr>
      <tr>
        <td id="L1813" class="blob-num js-line-number" data-line-number="1813"></td>
        <td id="LC1813" class="blob-code js-file-line">        &quot;&lt;/table&gt;\n&quot;,</td>
      </tr>
      <tr>
        <td id="L1814" class="blob-num js-line-number" data-line-number="1814"></td>
        <td id="LC1814" class="blob-code js-file-line">        &quot;&lt;table class=\&quot;simpletable\&quot;&gt;\n&quot;,</td>
      </tr>
      <tr>
        <td id="L1815" class="blob-num js-line-number" data-line-number="1815"></td>
        <td id="LC1815" class="blob-code js-file-line">        &quot;&lt;tr&gt;\n&quot;,</td>
      </tr>
      <tr>
        <td id="L1816" class="blob-num js-line-number" data-line-number="1816"></td>
        <td id="LC1816" class="blob-code js-file-line">        &quot;  &lt;th&gt;Omnibus:&lt;/th&gt;       &lt;td&gt;   nan&lt;/td&gt; &lt;th&gt;  Durbin-Watson:     &lt;/th&gt; &lt;td&gt;   1.343&lt;/td&gt;\n&quot;,</td>
      </tr>
      <tr>
        <td id="L1817" class="blob-num js-line-number" data-line-number="1817"></td>
        <td id="LC1817" class="blob-code js-file-line">        &quot;&lt;/tr&gt;\n&quot;,</td>
      </tr>
      <tr>
        <td id="L1818" class="blob-num js-line-number" data-line-number="1818"></td>
        <td id="LC1818" class="blob-code js-file-line">        &quot;&lt;tr&gt;\n&quot;,</td>
      </tr>
      <tr>
        <td id="L1819" class="blob-num js-line-number" data-line-number="1819"></td>
        <td id="LC1819" class="blob-code js-file-line">        &quot;  &lt;th&gt;Prob(Omnibus):&lt;/th&gt; &lt;td&gt;   nan&lt;/td&gt; &lt;th&gt;  Jarque-Bera (JB):  &lt;/th&gt; &lt;td&gt;   0.286&lt;/td&gt;\n&quot;,</td>
      </tr>
      <tr>
        <td id="L1820" class="blob-num js-line-number" data-line-number="1820"></td>
        <td id="LC1820" class="blob-code js-file-line">        &quot;&lt;/tr&gt;\n&quot;,</td>
      </tr>
      <tr>
        <td id="L1821" class="blob-num js-line-number" data-line-number="1821"></td>
        <td id="LC1821" class="blob-code js-file-line">        &quot;&lt;tr&gt;\n&quot;,</td>
      </tr>
      <tr>
        <td id="L1822" class="blob-num js-line-number" data-line-number="1822"></td>
        <td id="LC1822" class="blob-code js-file-line">        &quot;  &lt;th&gt;Skew:&lt;/th&gt;          &lt;td&gt;-0.488&lt;/td&gt; &lt;th&gt;  Prob(JB):          &lt;/th&gt; &lt;td&gt;   0.867&lt;/td&gt;\n&quot;,</td>
      </tr>
      <tr>
        <td id="L1823" class="blob-num js-line-number" data-line-number="1823"></td>
        <td id="LC1823" class="blob-code js-file-line">        &quot;&lt;/tr&gt;\n&quot;,</td>
      </tr>
      <tr>
        <td id="L1824" class="blob-num js-line-number" data-line-number="1824"></td>
        <td id="LC1824" class="blob-code js-file-line">        &quot;&lt;tr&gt;\n&quot;,</td>
      </tr>
      <tr>
        <td id="L1825" class="blob-num js-line-number" data-line-number="1825"></td>
        <td id="LC1825" class="blob-code js-file-line">        &quot;  &lt;th&gt;Kurtosis:&lt;/th&gt;      &lt;td&gt; 2.842&lt;/td&gt; &lt;th&gt;  Cond. No.          &lt;/th&gt; &lt;td&gt;    1.68&lt;/td&gt;\n&quot;,</td>
      </tr>
      <tr>
        <td id="L1826" class="blob-num js-line-number" data-line-number="1826"></td>
        <td id="LC1826" class="blob-code js-file-line">        &quot;&lt;/tr&gt;\n&quot;,</td>
      </tr>
      <tr>
        <td id="L1827" class="blob-num js-line-number" data-line-number="1827"></td>
        <td id="LC1827" class="blob-code js-file-line">        &quot;&lt;/table&gt;&quot;</td>
      </tr>
      <tr>
        <td id="L1828" class="blob-num js-line-number" data-line-number="1828"></td>
        <td id="LC1828" class="blob-code js-file-line">       ],</td>
      </tr>
      <tr>
        <td id="L1829" class="blob-num js-line-number" data-line-number="1829"></td>
        <td id="LC1829" class="blob-code js-file-line">       &quot;metadata&quot;: {},</td>
      </tr>
      <tr>
        <td id="L1830" class="blob-num js-line-number" data-line-number="1830"></td>
        <td id="LC1830" class="blob-code js-file-line">       &quot;output_type&quot;: &quot;pyout&quot;,</td>
      </tr>
      <tr>
        <td id="L1831" class="blob-num js-line-number" data-line-number="1831"></td>
        <td id="LC1831" class="blob-code js-file-line">       &quot;prompt_number&quot;: 65,</td>
      </tr>
      <tr>
        <td id="L1832" class="blob-num js-line-number" data-line-number="1832"></td>
        <td id="LC1832" class="blob-code js-file-line">       &quot;text&quot;: [</td>
      </tr>
      <tr>
        <td id="L1833" class="blob-num js-line-number" data-line-number="1833"></td>
        <td id="LC1833" class="blob-code js-file-line">        &quot;&lt;class &#39;statsmodels.iolib.summary.Summary&#39;&gt;\n&quot;,</td>
      </tr>
      <tr>
        <td id="L1834" class="blob-num js-line-number" data-line-number="1834"></td>
        <td id="LC1834" class="blob-code js-file-line">        &quot;\&quot;\&quot;\&quot;\n&quot;,</td>
      </tr>
      <tr>
        <td id="L1835" class="blob-num js-line-number" data-line-number="1835"></td>
        <td id="LC1835" class="blob-code js-file-line">        &quot;                            OLS Regression Results                            \n&quot;,</td>
      </tr>
      <tr>
        <td id="L1836" class="blob-num js-line-number" data-line-number="1836"></td>
        <td id="LC1836" class="blob-code js-file-line">        &quot;==============================================================================\n&quot;,</td>
      </tr>
      <tr>
        <td id="L1837" class="blob-num js-line-number" data-line-number="1837"></td>
        <td id="LC1837" class="blob-code js-file-line">        &quot;Dep. Variable:                      y   R-squared:                       0.811\n&quot;,</td>
      </tr>
      <tr>
        <td id="L1838" class="blob-num js-line-number" data-line-number="1838"></td>
        <td id="LC1838" class="blob-code js-file-line">        &quot;Model:                            OLS   Adj. R-squared:                  0.773\n&quot;,</td>
      </tr>
      <tr>
        <td id="L1839" class="blob-num js-line-number" data-line-number="1839"></td>
        <td id="LC1839" class="blob-code js-file-line">        &quot;Method:                 Least Squares   F-statistic:                     21.48\n&quot;,</td>
      </tr>
      <tr>
        <td id="L1840" class="blob-num js-line-number" data-line-number="1840"></td>
        <td id="LC1840" class="blob-code js-file-line">        &quot;Date:                Mon, 20 Oct 2014   Prob (F-statistic):            0.00566\n&quot;,</td>
      </tr>
      <tr>
        <td id="L1841" class="blob-num js-line-number" data-line-number="1841"></td>
        <td id="LC1841" class="blob-code js-file-line">        &quot;Time:                        21:31:34   Log-Likelihood:                -1.9268\n&quot;,</td>
      </tr>
      <tr>
        <td id="L1842" class="blob-num js-line-number" data-line-number="1842"></td>
        <td id="LC1842" class="blob-code js-file-line">        &quot;No. Observations:                   7   AIC:                             7.854\n&quot;,</td>
      </tr>
      <tr>
        <td id="L1843" class="blob-num js-line-number" data-line-number="1843"></td>
        <td id="LC1843" class="blob-code js-file-line">        &quot;Df Residuals:                       5   BIC:                             7.745\n&quot;,</td>
      </tr>
      <tr>
        <td id="L1844" class="blob-num js-line-number" data-line-number="1844"></td>
        <td id="LC1844" class="blob-code js-file-line">        &quot;Df Model:                           1                                         \n&quot;,</td>
      </tr>
      <tr>
        <td id="L1845" class="blob-num js-line-number" data-line-number="1845"></td>
        <td id="LC1845" class="blob-code js-file-line">        &quot;==============================================================================\n&quot;,</td>
      </tr>
      <tr>
        <td id="L1846" class="blob-num js-line-number" data-line-number="1846"></td>
        <td id="LC1846" class="blob-code js-file-line">        &quot;                 coef    std err          t      P&gt;|t|      [95.0% Conf. Int.]\n&quot;,</td>
      </tr>
      <tr>
        <td id="L1847" class="blob-num js-line-number" data-line-number="1847"></td>
        <td id="LC1847" class="blob-code js-file-line">        &quot;------------------------------------------------------------------------------\n&quot;,</td>
      </tr>
      <tr>
        <td id="L1848" class="blob-num js-line-number" data-line-number="1848"></td>
        <td id="LC1848" class="blob-code js-file-line">        &quot;x1            -1.0965      0.237     -4.635      0.006        -1.705    -0.488\n&quot;,</td>
      </tr>
      <tr>
        <td id="L1849" class="blob-num js-line-number" data-line-number="1849"></td>
        <td id="LC1849" class="blob-code js-file-line">        &quot;const          0.5022      0.144      3.479      0.018         0.131     0.873\n&quot;,</td>
      </tr>
      <tr>
        <td id="L1850" class="blob-num js-line-number" data-line-number="1850"></td>
        <td id="LC1850" class="blob-code js-file-line">        &quot;==============================================================================\n&quot;,</td>
      </tr>
      <tr>
        <td id="L1851" class="blob-num js-line-number" data-line-number="1851"></td>
        <td id="LC1851" class="blob-code js-file-line">        &quot;Omnibus:                          nan   Durbin-Watson:                   1.343\n&quot;,</td>
      </tr>
      <tr>
        <td id="L1852" class="blob-num js-line-number" data-line-number="1852"></td>
        <td id="LC1852" class="blob-code js-file-line">        &quot;Prob(Omnibus):                    nan   Jarque-Bera (JB):                0.286\n&quot;,</td>
      </tr>
      <tr>
        <td id="L1853" class="blob-num js-line-number" data-line-number="1853"></td>
        <td id="LC1853" class="blob-code js-file-line">        &quot;Skew:                          -0.488   Prob(JB):                        0.867\n&quot;,</td>
      </tr>
      <tr>
        <td id="L1854" class="blob-num js-line-number" data-line-number="1854"></td>
        <td id="LC1854" class="blob-code js-file-line">        &quot;Kurtosis:                       2.842   Cond. No.                         1.68\n&quot;,</td>
      </tr>
      <tr>
        <td id="L1855" class="blob-num js-line-number" data-line-number="1855"></td>
        <td id="LC1855" class="blob-code js-file-line">        &quot;==============================================================================\n&quot;,</td>
      </tr>
      <tr>
        <td id="L1856" class="blob-num js-line-number" data-line-number="1856"></td>
        <td id="LC1856" class="blob-code js-file-line">        &quot;\&quot;\&quot;\&quot;&quot;</td>
      </tr>
      <tr>
        <td id="L1857" class="blob-num js-line-number" data-line-number="1857"></td>
        <td id="LC1857" class="blob-code js-file-line">       ]</td>
      </tr>
      <tr>
        <td id="L1858" class="blob-num js-line-number" data-line-number="1858"></td>
        <td id="LC1858" class="blob-code js-file-line">      }</td>
      </tr>
      <tr>
        <td id="L1859" class="blob-num js-line-number" data-line-number="1859"></td>
        <td id="LC1859" class="blob-code js-file-line">     ],</td>
      </tr>
      <tr>
        <td id="L1860" class="blob-num js-line-number" data-line-number="1860"></td>
        <td id="LC1860" class="blob-code js-file-line">     &quot;prompt_number&quot;: 65</td>
      </tr>
      <tr>
        <td id="L1861" class="blob-num js-line-number" data-line-number="1861"></td>
        <td id="LC1861" class="blob-code js-file-line">    },</td>
      </tr>
      <tr>
        <td id="L1862" class="blob-num js-line-number" data-line-number="1862"></td>
        <td id="LC1862" class="blob-code js-file-line">    {</td>
      </tr>
      <tr>
        <td id="L1863" class="blob-num js-line-number" data-line-number="1863"></td>
        <td id="LC1863" class="blob-code js-file-line">     &quot;cell_type&quot;: &quot;markdown&quot;,</td>
      </tr>
      <tr>
        <td id="L1864" class="blob-num js-line-number" data-line-number="1864"></td>
        <td id="LC1864" class="blob-code js-file-line">     &quot;metadata&quot;: {},</td>
      </tr>
      <tr>
        <td id="L1865" class="blob-num js-line-number" data-line-number="1865"></td>
        <td id="LC1865" class="blob-code js-file-line">     &quot;source&quot;: [</td>
      </tr>
      <tr>
        <td id="L1866" class="blob-num js-line-number" data-line-number="1866"></td>
        <td id="LC1866" class="blob-code js-file-line">      &quot;### Linear fit&quot;</td>
      </tr>
      <tr>
        <td id="L1867" class="blob-num js-line-number" data-line-number="1867"></td>
        <td id="LC1867" class="blob-code js-file-line">     ]</td>
      </tr>
      <tr>
        <td id="L1868" class="blob-num js-line-number" data-line-number="1868"></td>
        <td id="LC1868" class="blob-code js-file-line">    },</td>
      </tr>
      <tr>
        <td id="L1869" class="blob-num js-line-number" data-line-number="1869"></td>
        <td id="LC1869" class="blob-code js-file-line">    {</td>
      </tr>
      <tr>
        <td id="L1870" class="blob-num js-line-number" data-line-number="1870"></td>
        <td id="LC1870" class="blob-code js-file-line">     &quot;cell_type&quot;: &quot;code&quot;,</td>
      </tr>
      <tr>
        <td id="L1871" class="blob-num js-line-number" data-line-number="1871"></td>
        <td id="LC1871" class="blob-code js-file-line">     &quot;collapsed&quot;: false,</td>
      </tr>
      <tr>
        <td id="L1872" class="blob-num js-line-number" data-line-number="1872"></td>
        <td id="LC1872" class="blob-code js-file-line">     &quot;input&quot;: [</td>
      </tr>
      <tr>
        <td id="L1873" class="blob-num js-line-number" data-line-number="1873"></td>
        <td id="LC1873" class="blob-code js-file-line">      &quot;plt.figure(figsize = (6,6));\n&quot;,</td>
      </tr>
      <tr>
        <td id="L1874" class="blob-num js-line-number" data-line-number="1874"></td>
        <td id="LC1874" class="blob-code js-file-line">      &quot;plt.plot(x, y, &#39;o&#39;);\n&quot;,</td>
      </tr>
      <tr>
        <td id="L1875" class="blob-num js-line-number" data-line-number="1875"></td>
        <td id="LC1875" class="blob-code js-file-line">      &quot;xx = np.linspace(-1.25,1.25,100)\n&quot;,</td>
      </tr>
      <tr>
        <td id="L1876" class="blob-num js-line-number" data-line-number="1876"></td>
        <td id="LC1876" class="blob-code js-file-line">      &quot;plt.plot(xx, res.predict(np.vander(xx,2)), &#39;r-&#39;);\n&quot;,</td>
      </tr>
      <tr>
        <td id="L1877" class="blob-num js-line-number" data-line-number="1877"></td>
        <td id="LC1877" class="blob-code js-file-line">      &quot;plt.title(&#39;blue: true,   red: OLS&#39;);&quot;</td>
      </tr>
      <tr>
        <td id="L1878" class="blob-num js-line-number" data-line-number="1878"></td>
        <td id="LC1878" class="blob-code js-file-line">     ],</td>
      </tr>
      <tr>
        <td id="L1879" class="blob-num js-line-number" data-line-number="1879"></td>
        <td id="LC1879" class="blob-code js-file-line">     &quot;language&quot;: &quot;python&quot;,</td>
      </tr>
      <tr>
        <td id="L1880" class="blob-num js-line-number" data-line-number="1880"></td>
        <td id="LC1880" class="blob-code js-file-line">     &quot;metadata&quot;: {},</td>
      </tr>
      <tr>
        <td id="L1881" class="blob-num js-line-number" data-line-number="1881"></td>
        <td id="LC1881" class="blob-code js-file-line">     &quot;outputs&quot;: [</td>
      </tr>
      <tr>
        <td id="L1882" class="blob-num js-line-number" data-line-number="1882"></td>
        <td id="LC1882" class="blob-code js-file-line">      {</td>
      </tr>
      <tr>
        <td id="L1883" class="blob-num js-line-number" data-line-number="1883"></td>
        <td id="LC1883" class="blob-code js-file-line">       &quot;metadata&quot;: {},</td>
      </tr>
      <tr>
        <td id="L1884" class="blob-num js-line-number" data-line-number="1884"></td>
        <td id="LC1884" class="blob-code js-file-line">       &quot;output_type&quot;: &quot;display_data&quot;,</td>
      </tr>
      <tr>
        <td id="L1885" class="blob-num js-line-number" data-line-number="1885"></td>
        <td id="LC1885" class="blob-code js-file-line">       &quot;png&quot;: &quot;iVBORw0KGgoAAAANSUhEUgAAAX4AAAF6CAYAAAAeSzPqAAAABHNCSVQICAgIfAhkiAAAAAlwSFlz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\nRERERERERERERLzj/wP5C8XyeX341gAAAABJRU5ErkJggg==\n&quot;,</td>
      </tr>
      <tr>
        <td id="L1886" class="blob-num js-line-number" data-line-number="1886"></td>
        <td id="LC1886" class="blob-code js-file-line">       &quot;text&quot;: [</td>
      </tr>
      <tr>
        <td id="L1887" class="blob-num js-line-number" data-line-number="1887"></td>
        <td id="LC1887" class="blob-code js-file-line">        &quot;&lt;matplotlib.figure.Figure at 0x10cba14d0&gt;&quot;</td>
      </tr>
      <tr>
        <td id="L1888" class="blob-num js-line-number" data-line-number="1888"></td>
        <td id="LC1888" class="blob-code js-file-line">       ]</td>
      </tr>
      <tr>
        <td id="L1889" class="blob-num js-line-number" data-line-number="1889"></td>
        <td id="LC1889" class="blob-code js-file-line">      }</td>
      </tr>
      <tr>
        <td id="L1890" class="blob-num js-line-number" data-line-number="1890"></td>
        <td id="LC1890" class="blob-code js-file-line">     ],</td>
      </tr>
      <tr>
        <td id="L1891" class="blob-num js-line-number" data-line-number="1891"></td>
        <td id="LC1891" class="blob-code js-file-line">     &quot;prompt_number&quot;: 66</td>
      </tr>
      <tr>
        <td id="L1892" class="blob-num js-line-number" data-line-number="1892"></td>
        <td id="LC1892" class="blob-code js-file-line">    },</td>
      </tr>
      <tr>
        <td id="L1893" class="blob-num js-line-number" data-line-number="1893"></td>
        <td id="LC1893" class="blob-code js-file-line">    {</td>
      </tr>
      <tr>
        <td id="L1894" class="blob-num js-line-number" data-line-number="1894"></td>
        <td id="LC1894" class="blob-code js-file-line">     &quot;cell_type&quot;: &quot;markdown&quot;,</td>
      </tr>
      <tr>
        <td id="L1895" class="blob-num js-line-number" data-line-number="1895"></td>
        <td id="LC1895" class="blob-code js-file-line">     &quot;metadata&quot;: {},</td>
      </tr>
      <tr>
        <td id="L1896" class="blob-num js-line-number" data-line-number="1896"></td>
        <td id="LC1896" class="blob-code js-file-line">     &quot;source&quot;: [</td>
      </tr>
      <tr>
        <td id="L1897" class="blob-num js-line-number" data-line-number="1897"></td>
        <td id="LC1897" class="blob-code js-file-line">      &quot;### Quadratic&quot;</td>
      </tr>
      <tr>
        <td id="L1898" class="blob-num js-line-number" data-line-number="1898"></td>
        <td id="LC1898" class="blob-code js-file-line">     ]</td>
      </tr>
      <tr>
        <td id="L1899" class="blob-num js-line-number" data-line-number="1899"></td>
        <td id="LC1899" class="blob-code js-file-line">    },</td>
      </tr>
      <tr>
        <td id="L1900" class="blob-num js-line-number" data-line-number="1900"></td>
        <td id="LC1900" class="blob-code js-file-line">    {</td>
      </tr>
      <tr>
        <td id="L1901" class="blob-num js-line-number" data-line-number="1901"></td>
        <td id="LC1901" class="blob-code js-file-line">     &quot;cell_type&quot;: &quot;code&quot;,</td>
      </tr>
      <tr>
        <td id="L1902" class="blob-num js-line-number" data-line-number="1902"></td>
        <td id="LC1902" class="blob-code js-file-line">     &quot;collapsed&quot;: false,</td>
      </tr>
      <tr>
        <td id="L1903" class="blob-num js-line-number" data-line-number="1903"></td>
        <td id="LC1903" class="blob-code js-file-line">     &quot;input&quot;: [</td>
      </tr>
      <tr>
        <td id="L1904" class="blob-num js-line-number" data-line-number="1904"></td>
        <td id="LC1904" class="blob-code js-file-line">      &quot;X = np.c_[x**2, x, np.ones(len(x))]\n&quot;,</td>
      </tr>
      <tr>
        <td id="L1905" class="blob-num js-line-number" data-line-number="1905"></td>
        <td id="LC1905" class="blob-code js-file-line">      &quot;res = sm.OLS(y, X).fit()\n&quot;,</td>
      </tr>
      <tr>
        <td id="L1906" class="blob-num js-line-number" data-line-number="1906"></td>
        <td id="LC1906" class="blob-code js-file-line">      &quot;\n&quot;,</td>
      </tr>
      <tr>
        <td id="L1907" class="blob-num js-line-number" data-line-number="1907"></td>
        <td id="LC1907" class="blob-code js-file-line">      &quot;plt.figure(figsize = (6,6));\n&quot;,</td>
      </tr>
      <tr>
        <td id="L1908" class="blob-num js-line-number" data-line-number="1908"></td>
        <td id="LC1908" class="blob-code js-file-line">      &quot;plt.plot(x, y, &#39;o&#39;);\n&quot;,</td>
      </tr>
      <tr>
        <td id="L1909" class="blob-num js-line-number" data-line-number="1909"></td>
        <td id="LC1909" class="blob-code js-file-line">      &quot;xx = np.linspace(-1.25,1.25,100)\n&quot;,</td>
      </tr>
      <tr>
        <td id="L1910" class="blob-num js-line-number" data-line-number="1910"></td>
        <td id="LC1910" class="blob-code js-file-line">      &quot;plt.plot(xx, res.predict(np.vander(xx,3)), &#39;r-&#39;);\n&quot;,</td>
      </tr>
      <tr>
        <td id="L1911" class="blob-num js-line-number" data-line-number="1911"></td>
        <td id="LC1911" class="blob-code js-file-line">      &quot;plt.title(&#39;blue: true,   red: OLS&#39;);&quot;</td>
      </tr>
      <tr>
        <td id="L1912" class="blob-num js-line-number" data-line-number="1912"></td>
        <td id="LC1912" class="blob-code js-file-line">     ],</td>
      </tr>
      <tr>
        <td id="L1913" class="blob-num js-line-number" data-line-number="1913"></td>
        <td id="LC1913" class="blob-code js-file-line">     &quot;language&quot;: &quot;python&quot;,</td>
      </tr>
      <tr>
        <td id="L1914" class="blob-num js-line-number" data-line-number="1914"></td>
        <td id="LC1914" class="blob-code js-file-line">     &quot;metadata&quot;: {},</td>
      </tr>
      <tr>
        <td id="L1915" class="blob-num js-line-number" data-line-number="1915"></td>
        <td id="LC1915" class="blob-code js-file-line">     &quot;outputs&quot;: [</td>
      </tr>
      <tr>
        <td id="L1916" class="blob-num js-line-number" data-line-number="1916"></td>
        <td id="LC1916" class="blob-code js-file-line">      {</td>
      </tr>
      <tr>
        <td id="L1917" class="blob-num js-line-number" data-line-number="1917"></td>
        <td id="LC1917" class="blob-code js-file-line">       &quot;metadata&quot;: {},</td>
      </tr>
      <tr>
        <td id="L1918" class="blob-num js-line-number" data-line-number="1918"></td>
        <td id="LC1918" class="blob-code js-file-line">       &quot;output_type&quot;: &quot;display_data&quot;,</td>
      </tr>
      <tr>
        <td id="L1919" class="blob-num js-line-number" data-line-number="1919"></td>
        <td id="LC1919" class="blob-code js-file-line">       &quot;png&quot;: &quot;iVBORw0KGgoAAAANSUhEUgAAAX4AAAF6CAYAAAAeSzPqAAAABHNCSVQICAgIfAhkiAAAAAlwSFlz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\nQmCC\n&quot;,</td>
      </tr>
      <tr>
        <td id="L1920" class="blob-num js-line-number" data-line-number="1920"></td>
        <td id="LC1920" class="blob-code js-file-line">       &quot;text&quot;: [</td>
      </tr>
      <tr>
        <td id="L1921" class="blob-num js-line-number" data-line-number="1921"></td>
        <td id="LC1921" class="blob-code js-file-line">        &quot;&lt;matplotlib.figure.Figure at 0x10aa8a390&gt;&quot;</td>
      </tr>
      <tr>
        <td id="L1922" class="blob-num js-line-number" data-line-number="1922"></td>
        <td id="LC1922" class="blob-code js-file-line">       ]</td>
      </tr>
      <tr>
        <td id="L1923" class="blob-num js-line-number" data-line-number="1923"></td>
        <td id="LC1923" class="blob-code js-file-line">      }</td>
      </tr>
      <tr>
        <td id="L1924" class="blob-num js-line-number" data-line-number="1924"></td>
        <td id="LC1924" class="blob-code js-file-line">     ],</td>
      </tr>
      <tr>
        <td id="L1925" class="blob-num js-line-number" data-line-number="1925"></td>
        <td id="LC1925" class="blob-code js-file-line">     &quot;prompt_number&quot;: 67</td>
      </tr>
      <tr>
        <td id="L1926" class="blob-num js-line-number" data-line-number="1926"></td>
        <td id="LC1926" class="blob-code js-file-line">    },</td>
      </tr>
      <tr>
        <td id="L1927" class="blob-num js-line-number" data-line-number="1927"></td>
        <td id="LC1927" class="blob-code js-file-line">    {</td>
      </tr>
      <tr>
        <td id="L1928" class="blob-num js-line-number" data-line-number="1928"></td>
        <td id="LC1928" class="blob-code js-file-line">     &quot;cell_type&quot;: &quot;markdown&quot;,</td>
      </tr>
      <tr>
        <td id="L1929" class="blob-num js-line-number" data-line-number="1929"></td>
        <td id="LC1929" class="blob-code js-file-line">     &quot;metadata&quot;: {},</td>
      </tr>
      <tr>
        <td id="L1930" class="blob-num js-line-number" data-line-number="1930"></td>
        <td id="LC1930" class="blob-code js-file-line">     &quot;source&quot;: [</td>
      </tr>
      <tr>
        <td id="L1931" class="blob-num js-line-number" data-line-number="1931"></td>
        <td id="LC1931" class="blob-code js-file-line">      &quot;### Quintic&quot;</td>
      </tr>
      <tr>
        <td id="L1932" class="blob-num js-line-number" data-line-number="1932"></td>
        <td id="LC1932" class="blob-code js-file-line">     ]</td>
      </tr>
      <tr>
        <td id="L1933" class="blob-num js-line-number" data-line-number="1933"></td>
        <td id="LC1933" class="blob-code js-file-line">    },</td>
      </tr>
      <tr>
        <td id="L1934" class="blob-num js-line-number" data-line-number="1934"></td>
        <td id="LC1934" class="blob-code js-file-line">    {</td>
      </tr>
      <tr>
        <td id="L1935" class="blob-num js-line-number" data-line-number="1935"></td>
        <td id="LC1935" class="blob-code js-file-line">     &quot;cell_type&quot;: &quot;code&quot;,</td>
      </tr>
      <tr>
        <td id="L1936" class="blob-num js-line-number" data-line-number="1936"></td>
        <td id="LC1936" class="blob-code js-file-line">     &quot;collapsed&quot;: false,</td>
      </tr>
      <tr>
        <td id="L1937" class="blob-num js-line-number" data-line-number="1937"></td>
        <td id="LC1937" class="blob-code js-file-line">     &quot;input&quot;: [</td>
      </tr>
      <tr>
        <td id="L1938" class="blob-num js-line-number" data-line-number="1938"></td>
        <td id="LC1938" class="blob-code js-file-line">      &quot;X = np.c_[x**5, x**4, x**3, x**2, x, np.ones(len(x))]\n&quot;,</td>
      </tr>
      <tr>
        <td id="L1939" class="blob-num js-line-number" data-line-number="1939"></td>
        <td id="LC1939" class="blob-code js-file-line">      &quot;res = sm.OLS(y, X).fit()\n&quot;,</td>
      </tr>
      <tr>
        <td id="L1940" class="blob-num js-line-number" data-line-number="1940"></td>
        <td id="LC1940" class="blob-code js-file-line">      &quot;\n&quot;,</td>
      </tr>
      <tr>
        <td id="L1941" class="blob-num js-line-number" data-line-number="1941"></td>
        <td id="LC1941" class="blob-code js-file-line">      &quot;plt.figure(figsize = (6,6));\n&quot;,</td>
      </tr>
      <tr>
        <td id="L1942" class="blob-num js-line-number" data-line-number="1942"></td>
        <td id="LC1942" class="blob-code js-file-line">      &quot;plt.plot(x, y, &#39;o&#39;);\n&quot;,</td>
      </tr>
      <tr>
        <td id="L1943" class="blob-num js-line-number" data-line-number="1943"></td>
        <td id="LC1943" class="blob-code js-file-line">      &quot;xx = np.linspace(-1.25,1.1,100)\n&quot;,</td>
      </tr>
      <tr>
        <td id="L1944" class="blob-num js-line-number" data-line-number="1944"></td>
        <td id="LC1944" class="blob-code js-file-line">      &quot;plt.plot(xx, res.predict(np.vander(xx,6)), &#39;r-&#39;);\n&quot;,</td>
      </tr>
      <tr>
        <td id="L1945" class="blob-num js-line-number" data-line-number="1945"></td>
        <td id="LC1945" class="blob-code js-file-line">      &quot;plt.title(&#39;blue: true,   red: OLS&#39;);&quot;</td>
      </tr>
      <tr>
        <td id="L1946" class="blob-num js-line-number" data-line-number="1946"></td>
        <td id="LC1946" class="blob-code js-file-line">     ],</td>
      </tr>
      <tr>
        <td id="L1947" class="blob-num js-line-number" data-line-number="1947"></td>
        <td id="LC1947" class="blob-code js-file-line">     &quot;language&quot;: &quot;python&quot;,</td>
      </tr>
      <tr>
        <td id="L1948" class="blob-num js-line-number" data-line-number="1948"></td>
        <td id="LC1948" class="blob-code js-file-line">     &quot;metadata&quot;: {},</td>
      </tr>
      <tr>
        <td id="L1949" class="blob-num js-line-number" data-line-number="1949"></td>
        <td id="LC1949" class="blob-code js-file-line">     &quot;outputs&quot;: [</td>
      </tr>
      <tr>
        <td id="L1950" class="blob-num js-line-number" data-line-number="1950"></td>
        <td id="LC1950" class="blob-code js-file-line">      {</td>
      </tr>
      <tr>
        <td id="L1951" class="blob-num js-line-number" data-line-number="1951"></td>
        <td id="LC1951" class="blob-code js-file-line">       &quot;metadata&quot;: {},</td>
      </tr>
      <tr>
        <td id="L1952" class="blob-num js-line-number" data-line-number="1952"></td>
        <td id="LC1952" class="blob-code js-file-line">       &quot;output_type&quot;: &quot;display_data&quot;,</td>
      </tr>
      <tr>
        <td id="L1953" class="blob-num js-line-number" data-line-number="1953"></td>
        <td id="LC1953" class="blob-code js-file-line">       &quot;png&quot;: &quot;iVBORw0KGgoAAAANSUhEUgAAAX4AAAF6CAYAAAAeSzPqAAAABHNCSVQICAgIfAhkiAAAAAlwSFlz\nAAALEgAACxIB0t1+/AAAIABJREFUeJzt3Xl8VOXZ//FPFkgUsAgKIqBo3LeKVRQVOloFBAVxe1wq\nLr+K9RGwtq6gNdXi0qfWNtTiUrW0VsRqBWxQwCWASlEriwtuKSA7soPIkjC/P64ZSCaTZCbnzNwz\nc77v1ysvJpNhzjWMfufOdd/nPiAiIiIiIiIiIiIiIiIiIiIiIiIiIiJZZCHwo3p+FgIWp62S3FYK\n/M11EZKb8l0XIFknHPlybSdwsOsiUijZf+PWwGhgOfAtMA+4OuYxC6n/Q3s48F9gE/bh/XySx5cs\nUui6ABEP8hr4WSFQla5CGpHqWpoDrwMrgFOAJcBZwBhgb+CRyOPq+9C+Cvgx9qGwAGgPnJfCesUx\njfilKboBnwBrgaeBonoeFzsq/wtwX43vzwXmAOuAd4BjEzz+9Mifc7ER6sVYm2kJcBs26n0aC7QZ\nDdRUBPwWWISF5migOMEaGrMwUsu8SI35WCi/i73eOcAPazz+IGAasBGYAuyTxLGuBDpj/w6LgGpg\nMjAMuBdo2cjfPzHy+AWR71cCf07i+CKS4xZiYdYRG02+ze4wD1G7xx8b/M9gQQTQFQuYk7CR+yAs\neJpFfv5o5Ks+sc8dAnYAD0SeoxhrdTQU/I8A47E2SUtgInB/A8dMxkLgQ+zfqSjy52qgT+TnZ0W+\nbxv5fib2IdQM6IF9APy1xvPNBS6t51jPY/+2sQqxf5OzI98vAM6M87grgDXALdiHQEFDL0xEgmcB\nMLjG9+cAX0Vuh0g8+EfXuB31GdAzwTriBf82rO0RdTX1B38esDnmObpjfW4/LKB2j/12agc5wGvY\nB94BWEDvUeNnfyfxyd2p1P+BtRy4rEZN8YIf4PLI82zGPpBuS/DYkoXU45emqBnuXwP7N+E5DsRC\nb2iN+5oBHTzU9Q2wPcHH7gvsCfynxn15+Nv+rPnvdCDWiqnZOy8E3sT+/dYB39X42SKsfZOI1cR/\nDwqxltHqBJ7juchXATAQ++CZg7WdJMeoxy9NcUDM7WX1PG4LFq5RNUP9a2Ak1i6KfrUExnmoK3bi\n8tuY4+9X4/ZqLGiPqnH81sBeHo7fUD1fYyP4mq+3FfAbbFS+d0ytB5L4yp7Xsd+89oy5/0Lst6B/\nJ1FzNfAi1s47Oom/JyI5bCG7e/xtsB7/ryM/C1F7lPs21nMvwHrbW9jd3vkBFobdsJF2C6AfjU9E\nRi1nd+863rEBDgO2At/Hev6PUbtF9Hvsg2bfyPcdgV41/v5OEm89xYptq3SK1NwL+/cojtTcMfLz\nmcD/Yb/1nA5soG5rqD7Nsd9cyrEPjGZAb2zC+hcxNfWJHDv6VYhNgvfFPojysQ+RLcCpCR5fRHLc\nAqxf/QnWnniG3SthQliYR/0A+JjdE5V/p3ZfvzfwXuR5lmEh3CLys9GRr/pcH/k764CLsBUyX8d5\n3HCsBbQIm8SspvaqnpFAJRa0nwJDIj/rHLlv7wZqaEi8fno3oAKbSF0FvMLuds5B2GqlTVh7pYza\nwf8xu3v18eyNfbCtwEL7I+DaODXtjPm6F2vtvI2t0tqATSQPSuRFSjAVA7OwXuCn2OgunjLgS+w/\nqK7pKU3EkyuwDwURiSPaVyzEeomnx/y8LzApcvtkkus3ioiIz/yY3N0S+bM51rtcG/Pz/tgZhGC/\nHbTGzgwUEREH/Aj+fKzVsxJ4C2v51NSR2pNuS7CJLhERccCP4N8JHI+FeU9sgi9W7J4qmbDJl4hI\nIPl5AtcGbDnZidjKhail1D4RpVPkvlpKSkrClZWVPpYjIpLzKoFDkv1LXkf8+2A9e7DTzc8GZsc8\nZiK7l4adAqzH2kK1VFZWEg6Hc/LrnnvucV6DXp9en15f7n0BJU0Jbq8j/g7YxG1+5OtvwBvYGmuA\nx7EVPX2x/Vy+Ba7xeEwREfHAa/B/BJwQ5/7HY74fEucxIiLigPbqSYNQKOS6hJTS68tuen3B09AV\njNItHOlZiYhIAvLy8qAJOa4Rv4hIwCj4RUQCRsEvIhIwCn4RkYBR8IuIBIyCX0QkYBT8IiIBo+AX\nEQkYBb+ISMAo+EVEAkbBLyISMAp+EZGAUfCLiABMnQorVriuIi0U/CIiAPfcA1995bqKtFDwi4gA\nbNoEe+3luoq0UPCLiABs3AitWrmuIi0U/CIioBG/iEighMMW/Brxi4gExNatkJ8PzZu7riQtFPwi\nIgFq84CCX0QkUBO7oOAXEdGIX0QkcDTiFxEJGI34RUQCJkBLOUHBLyJirR6N+EVEAkQjfhGRgNHk\nrohIwGhyV0QkYDTiFxEJGI34RUQCRpO7IiIBo+WcIiIBoxG/iEjAaHJXRCRgNLkrIhIg4bBG/Enq\nDLwFfAJ8DAyL85gQsAGYHfm6y+MxRUT8s22bXXaxqMh1JWlT6PHv7wBuBuYALYH/AFOB+TGPmwb0\n93gsERH/BWxiF7yP+FdgoQ+wGQv8/eM8Ls/jcUREUiNgSznB3x5/F6ArMCvm/jBwKjAXmAQc5eMx\nRUS8CeCI32urJ6ol8CJwEzbyr+lDbC5gC3AOMB44zKfjioh4E7CJXfAn+JsBLwHPYqEea1ON268C\nfwLaAGtjH1haWrrrdigUIhQK+VCeiEgDsmgpZ0VFBRUVFZ6fx2vvPQ8YA6zBJnnjaQ+swlo+3YAX\nsLZQrHA4HPZYjohIksaOhfHjYdw415UkLS8vD5qQ415H/KcBPwbmYUs1AYYDB0RuPw5cBNwAVGHt\nnks9HlNExD9ZNOL3i9fgf5vGJ4gfjXyJiGSeAE7u6sxdEQk2LecUEQkYjfhFRAImgMs5FfwiEmwB\nnNxV8ItIsGnELyISMBrxi4gEjCZ3RUQCRss5RUQCRiN+EZGA0eSuiEiAbNtmfwbosoug4BeRIIuO\n9vOCdZFABb+IBFcAl3KCgl9EgiyAE7ug4BeRIAvgUk5Q8ItIkGnELyISMAFcygkKfhEJMo34RUQC\nZsMGaN3adRVpp+AXkeDasAG+9z3XVaSdgl9Egmv9egW/iEigaMQvIhIw6vGLiASMRvwiIgGjHr+I\nSMBoxC8iEjABDf5M2oQ6HA6HXdcgIkERDkOzZvDdd/ZnFsqz6wgkneMa8YtIMG3ebFfeytLQ90LB\nLyLBFNA2Dyj4RSSoFPwiIgET0JO3AApdF5DrysunU1Y2hW3bCikqqmLYsF7069fTdVkiEuARv4I/\nhd4Y8yJ3lc5kzsKHd91XWTkCQOEv4lpAT94CtXr8t3w5XHMNHHQQP7juKt5Y+Ay/42Y6sRiAysqR\njBo11XGRIhLkEb+C30+rV8NZZ8E++8CkSZzf/RaOYx7VFDCH4zmPiQBs3VrguFARCXLwq9Xjl/Xr\noVcvGDAA7r8fgKLiapbSiVv5Lc9zKZPoyyW8QHFxteNiRSTIk7sa8fshHIYLL4QePWDkyF13DxvW\ni5IS6+n/hxO5lOd5Kb8fI8450FWlIhIV4B6/Rvx+ePVVWLkSpk6FvN1nT0cncEeNuputWwtoXlzN\nwh/cSY+H74Vr/yeQF3kWyRgBbvV43aunM/BXoB0QBp4AyuI8rgw4B9gCXA3MjvOY7NyrJxyGk06C\nO++0UX8irr4a2rSB3/0upaWJSAPOPRcGD4b+/V1X0mSu9urZAdwMHA2cAtwIHBnzmL7AIcChwGBg\ntMdjZpaJE6G6GgYOTPzv/Pa38Pe/w+x4n38ikhbq8TfZCmBO5PZmYD6wf8xj+gNjIrdnAa2B9h6P\nmxl27oRf/hJ+9SvIT+Kfcp994IEH4Prr7UNDRNIvwK0ePyd3uwBdsXCvqSNEFrGbJUAnH4/rzssv\n2+5+552X/N+95hooLoannvK/LhFpXIAnd/0K/pbAi8BN2Mg/VmwPKgub+XE88wwMG1ZrQjdheXnw\n0EO29HPHDv9rE5GGBXjE78eqnmbAS8CzwPg4P1+KTQJHdYrcV0dpaemu26FQiFAo5EN5KbJ+PUyf\nDs891/Tn6N4dDjnE+v1XX+1baSLSiJ07bT/+vfZyXUlSKioqqKio8Pw8Xlf15GH9+zXYJG88fYEh\nkT9PAX4f+TNWdq3qGTMGxo+3do8XFRW2smD+fCjQGb0iabFhA3TuDBs3uq7EE1erek4DfgycgS3R\nnI0t27w+8gUwCfgv8BXwOPC/Ho+ZGV54AS65xPvz/PCH0K6dPZ+IpEeA+/uga+42zbp10KULLFni\nz0lYr70Gt9wC8+YltzpIRJpm3jy4/HL4+GPXlXiia+6m0/jxthmbX2fe9u4NhYXw+uv+PJ+INCzA\nE7ug4G8av9o8UXl5cMMNMDq3zm0TyVgBPnkLFPzJW7cO3n0X+vXz93mvuAKmTbP2kYiklkb8kpQZ\nM+CUU6BlS3+ft2VL6zk++aS/zysidQV8clfBn6xp06Bnii6beMMN8Oc/64QukVTTiF+SMn166oL/\n6KOhpMQ2fhOR1FHwS8I2bbITrbp1S90xbrgBHn88dc8vIprcdV1AVnnnHTjxRNuYLVXOPx8++ACW\nxt3VQkT8oB6/JCyVbZ6oPfawC7p42QNIRBqmVo8kLB3BD3DllfDXv9rVvUTEfwp+SciWLTBnju2o\nmWqnn27zCXPnpv5YIkGkHr8kZNYsOPZYaNEi9cfKz7dR/9/+lvpjiQSRevySkHS1eaKuvNL6/FVV\n6TumSFCo1SMJmTEDevRI3/EOOwwOOEAbt4n4raoKvvvO/7Pvs4iCPxHhMHz4IZx0UnqPe/nlMG5c\neo8pkus2bLArbwV4C/TgvvJkLF4MzZtD+/bpPe5FF8GECbB9e3qPK5LL1q2DNm1cV+GUgj8Rc+fC\n8cen/7gdO9o2DlOnpv/YIrlq7VrYe2/XVTil4E/EnDlugh9s339dllHEP+vWKfhdF5AV5syB73/f\nzbEvvNA2bdu2zc3xRXKNWj0K/oS4avUA7L8/HHccTJni5vgiuUatHgV/ozZuhOXLbXmlK2r3iPhH\nI34Ff6PmzbMJ1oICdzVceCH8619q94j4QSN+BX+jXLZ5ovbbD445Bt54w20dIrlAk7sK/ka5XNFT\n08CB8PLLrqsQyX5q9Sj4G+VyRU9NAwfa6p7qateViGQ3tXoU/A2qqoJPP7VVNa4ddBB06ADvvuu6\nEpHsphG/gr9BX3xhyylbtXJdiVG7R8Q79fgV/A2aOzcz2jxR559vwa8rc4k0nVo9Cv4GzZ9vSzkz\nxXHHQV6erswl0lTbttmmhwHekhkU/A374gu3J27FystTu0fEi2ibJy/PdSVOKfgbkmnBDxb8Eya4\nrkIkO2liF1Dw1y8ctuA/9FDXldTWvTssXQqLFrmuRCT7aGIXUPDXb/ly2HNPaN3adSW1FRRA377w\nyiuuKxHJPprYBRT89cvENk9U//4KfpGmUKsHUPDXL5ODv1cvmDnTdg4VkcSp1QMo+Ov35ZeZG/yt\nWsFpp8Hkya4rEckua9dqxI+Cv36ZPOIHa/dMnOi6CpHsohE/oOCvX6YH/3nnwaRJtp+QiCRGk7uA\ngj++qipYsABKSlxXUr9OnaBLF3jnHdeViGQPTe4C/gT/08BK4KN6fh4CNgCzI193+XDM1Fq0yC5+\nssceritp2Hnn2ZW5RCQxavUA/gT/M0CfRh4zDega+fq1D8dMrUxv80Sde66CXyQZmtwF/An+GcC6\nRh6TXRtjZOIZu/GccAKsXw9ffeW6EpHsoBE/kJ4efxg4FZgLTAKOSsMxvcnkpZw15edDv35QXu66\nEpHMFw5rcjeiMA3H+BDoDGwBzgHGA3FTtbS0dNftUChEKBRKfXXxfPGFBWo2OPdcePRRuOkm15WI\nZLYtW6CwEIqLXVfSZBUVFVRUVHh+Hr9aMF2AV4BjE3jsAuAHwNqY+8PhTLnASJcu8MYbmb2qJ2rz\nZrsk49KlsNderqsRyVxLlsDJJ9v/Kzkiz7aXTjrH09Hqac/uwrpFbseGfubYuhVWrIADD3RdSWJa\ntrSzeKdMcV2JSGbTxO4ufrR6xgI/BPYBFgP3AM0iP3scuAi4AajC2j2X+nDM1Fm0yNbIF6ajC+aT\n6Oqeiy5yXYlI5tLE7i5+pNtljfz80chXdli0KHtG+1Hnngv33gvV1bZts4jUpeDfRWfuxsrG4O/S\nBdq1g/ffd12JSOZSq2cXBX+sbAx+0LJOkcZoxL+Lgj+Wgl8kN2nEv4uCP9bXX2dn8J96KixcmFNL\n1UR8pRH/Lgr+WNk64i8shN69batmEalLwb+Lgr+mqipYtsyWc2YjbdomUj+1enZR8Ne0bBnsuy80\nb+66kqbp0wfeestOQhOR2lavtv+/RcFfS7a2eaLatoVjj4Vp01xXIpJ5Vq+GffZxXUVGUPDXlO3B\nD2r3iNRHwb+Lgr+mXAj+6LLOTNnwTiQTbNkCO3fCnnu6riQjKPhrytalnDUde6xNUs+f77oSkcyx\nZo2N9vOy65pQqaLgrykXRvx5edbu0clcIrupzVOLgr+mXAh+sHaP+vwiuyn4a1HwR4XDudHqATjz\nTJg9205YEREFfwwFf9Tq1XZJtpYtXVfi3R57wA9/CJMnu65EJDMo+GtR8EctWgQHHOC6Cv9oWafI\nbgr+WhT8UbnS34/q2xdee80uziISdAr+WhT8UbkW/J07255DM2e6rkTEPQV/LQr+qFyZ2K1J7R4R\no+CvRcEflWsjfoDzzlPwi4CCP4aCP2rp0uzdjrk+J51k/8EvWOC6EhG3FPy1KPijli2DDh1cV+Gv\n/Hyb5H3lFdeViLgTDlvwt23rupKMoeAH27xp1SrYbz/XlfjvvPMU/BJsmzfbNTaKi11XkjEU/ADf\nfAOtW2fvBVgacvbZ8O9/w8aNrisRcUNtnjoU/GBtnv33d11FarRsCaedBlOmuK5ExA0Ffx0KfsjN\n/n4NHx90JFOH3UsoVErv3ndRXj7ddUki6aPgr6PQdQEZYfnynB3xl5dP56FJO3hp+XJmLL+bnRRQ\nWTkCgH79ejquTiQNFPx1aMQPOd3qKSubwoyv/8hSOtIdO4u3snIko0ZNdVyZSJoo+OtQ8ENOt3q2\nbbNf6ibSnwFM2HX/1q0FrkoSSS8Ffx0KfsjpVk9RURUAExhAfybuur+4WJu3SUBoDX8dCn7I6VbP\nsGG9KCkZwYecQAu+5XA+o6RkOEOHnu26NJH00Ii/Dk3uQk4Hf3QCd9SoX/LBRx24tcWN7PfIPZrY\nleBQ8NeRSZecD4fD4fQftbrazujbsgWaNUv/8dPptdfgvvvgnXdcVyKSPkcfDePGwTHHuK7Ed3l5\nedCEHFer55tvoE2b3A99gDPOgE8+gZUrXVcikj4a8deh4M/hNk8dRUW2hUN5uetKRNJj505Yu1aT\nuzEU/Dm8lDOu88+Hl192XYVIemzYAC1aBOM3+iQo+IM04gfo1w+mTYNNm1xXIpJ6avPEpeDP4TX8\ncbVuDd2720SvSK5T8Mel4A/aiB9g4EC1eyQYFPxxeQ3+p4GVwEcNPKYM+BKYC3T1eDz/Ba3HDzBg\nAEyaBNu2ua5EJLVWrYJ993VdRcbxGvzPAH0a+Hlf4BDgUGAwMNrj8fwXxBF/hw62tvnNN11XIpJa\nK1dC+/auq8g4XoN/BrCugZ/3B8ZEbs8CWgOZ9S4ErccfdcEFavdI7lPwx5XqHn9HYHGN75cAnVJ8\nzMRVVdkJXEH8D2PgQJgwwc5cFslVK1fm5rW0PUrHXj2xpxPXuy9DaWnprtuhUIhQKJSaiqJWrbIT\nOwoDuGXRwQfb/xDvvAM9tW+P5KgVK3JqYFdRUUFFRYXn5/Fjr54uwCvAsXF+9hhQATwf+f4z4IfY\nhHCs9O/V88EHMHgwfPhheo+bKe67z37jKStzXYlIahx5JLz4os1p5aBM3atnIjAocvsUYD3xQ9+N\noPb3oy6+GF56yU5rF8lF6vHH5bXHMRYbwe+D9fLvAaLnRj8OTMJW9nwFfAtc4/F4/sqxXwOTdsQR\ntkHdu+/C6ae7rkbEX9u32xnqbdq4riTjeA3+yxJ4zBCPx0idVauCHfxgo/5//EPBL7ln1Spo1w7y\ndZ5qrGD/i0T/wwiyiy+2HqjaPZJrgv4bfQMU/EE/q+/II2HvvWHmTNeViPhL/f16BTv4v/lGI37Y\nPeoXySUK/noFO/jV6jGXXGJ9frV7JJco+Oul4FfwW7unbVt4+23XlYj4R2ft1iu4wb9zJ6xZoy1b\noy6/HJ57znUVIv7R5G69ghv869ZBq1a6JFvUpZdan3/7dteViPhDrZ56BTf41eap7cAD7YSuqVNd\nVyLiDwV/vRT8sttll6ndI7lDwV+v4Ab/N99oDX+siy+G8nL49lvXlYh4s307bNxoixakjuAGv0b8\ndbVrB6ecAhMnuq5ExJvoyZnariGu4P6rKPjju+IKePZZ11WIeKM2T4OCHfxq9dR1wQW2W+fy5a4r\nEWk6BX+Dghv82q4hvhYt7LKMf/+760pEmk7B36DgBr9aPfW76ioYMwbSfUU0Eb8o+Buk4Je6evSw\nlT1BvSSlZL8VK7RdQwOCHfzq8ceXnw+DBtmoXyQbacTfoGAGf1WVrfHVJdnqN2gQjB2rLRwkOyn4\nGxTM4F+92kK/oMB1JZnr4IPh6KO1pl+yk4K/QcEMfvX3EzN4MDzxhOsqRJKn4G9QcINf/f3GXXAB\nzJ4NlZWuKxFJnLZraFQwg19r+BNTXGy9/iefdF2JSOKWLbPRvlq59Qpm8KvVk7jrroO//EWTvJI9\nli6Fjh1dV5HRFPzSsCOOsK8JE1xXIpKYpUuhUyfXVWS04Aa/evyJGzwYHn/cdRUiidGIv1HBDH71\n+JNz4YXw8cfwySeuKxFpnIK/UcEMfrV6klNUBDfcAGVlrisRadySJQr+Rij4JTE//Sm88AKsWeO6\nEpGGqcffqGAGvy67mLz27WHAAC3tlMynVk+j8lwXUEM4nI5tgKuqoGtXmDcP8jLp5WeB2bOhf3/4\n73+hWTPX1YjUFQ7DHnvAunX2Z47LswxLOsiCN+IvLISPPlLoN0XXrraHzz//6boSkfhWr4Y99wxE\n6HsRvOAXb265BR56SBdpkcyk/n5CFPySnH79rF322muuKxGpS/39hCj4JTn5+TB8OIwcqVG/ZB4F\nf0IU/JK8iy+2bW+nT3ddiUhtCv6EKPgleQUFcMcdcP/9risRqU0nbyVEwS9Nc+WV8NlnMHOm60pE\ndtPkbkIU/NI0zZvDPffYyF+9fskUavUkxI/g7wN8BnwJ3B7n5yFgAzA78nWXD8eUTDBokJ0FrRU+\nkikU/AnxehZTAfA5cBawFHgfuAyYX+MxIeDnQP9Gnis9Z+6Kv8aPh9JS+PBDW/Ej4sqWLdCmDXz3\nXWBO0GzqmbuFHo/bDfgKWBj5/nlgALWDHzJrawjx04ABdkLX88/D5Ze7rsadHTvggw/g3XdtS4uF\nC2HtWvswLCiwvvPhh8Mxx8BZZ8H3vue64twTHe0HJPS98Br8HYHFNb5fApwc85gwcCowF/ut4Bbg\nU4/HlUyRl2fBP2gQnH++nS4fFN9+a1cmGzsWpk2DkhI4/XS7YlmfPnax73DYPhQWL7bJ8Keegmuu\ngVNOgSuugMsus/kS8U5tnoR5Df5EejMfAp2BLcA5wHjgMI/HlUzSsyd0727LO3/9a9fVpN4XX8Aj\nj1jgd+9uAT5mjLUZErF5s82LPP443H03/OIXcP31dnF7aToFf8K8Bv9SLNSjOmOj/po21bj9KvAn\noA2wNvbJSktLd90OhUKEQiGP5Una/Pa38P3v28j/sBz9XJ83z+Yz3n7bgnr+fOjQIfnnadkSLrrI\nvt5/H+69Fx57zLa8Pv1038sOjAAEf0VFBRUVFZ6fx2szrBCb3P0RsAx4j7qTu+2BVdhvB92AF4Au\ncZ5Lk7vZ7ne/s5Hs5MkZ22ctL59OWdkUtm0rpKioimHDetGvX8+G/9KCBTYyf/11W7563XXQooW/\nhf3znzB0KAwcaB+iGv0n76ab4KCD4Gc/c11J2ria3K0ChgCTsRU+T2Ghf33k548DFwE3RB67BbjU\n4zElUw0dCs88A+PGwaWZ9zaXl0/nppsmU1k5ctd9lZUjAOKH/5Yt8OCD8Kc/2WsbPRpatfK9pugH\nUZvDL+PROR/QIRSyD4L99/f1WDlv8WLo0cN1FZKksOSAWbPC4XbtwuGlS11XUkevXiPCNtta+6t3\n77vqPnjixHD4wAPD4UsvDYcXL05JPf/617RwScnwWrWUHHxn+LMrfxIOd+wYDr/3XkqOm7O6dg2H\n33/fdRVpRWLzrHVo4bX4q1s3uzD7tddm3Bm927bF/wV369aC3d+sWGGb0P385/D00zaBm6ItAMrK\nptT67QOg8r/3c9Oq/eDRR20L7HfeScmxc9KCBdCli+sqsoKCX/w3YoStYR892nUltRQVVcW9v7i4\n2j6kxoyB446DQw+1idwzz0xpPQ1+EA0YAM8+az1/7YLauPXr7ToRbdu6riQrKPjFf82awd/+Znv5\nzJ3ruppdhg3rRUnJiFr3lZQM55bLjodzz7UlmpMn27LUNFy6r8EPIoBevew3jgsv1GZ4jVm0yEb7\nGbqoINN4ndwVie/ww6GszE7qeu892Hdf1xXtmsAdNeputm4toLioigePhuNvvQFuvBHuvDOtJ1MN\nG9aLysoRtdo9JSXDGTq0z+4H/ehH9pvIBRfYMtKSkrTVl1UWLlSbJwmZ9PEYmauQnDJ8uPWpp07N\nrDNUly2ztfiLF8Nf/gLHH++kjPLy6YwaNdU+iIqrGTr07PgrjB57zH4jefddtTPi+f3vbauMsjLX\nlaRVU5dzKvgltXbutH51u3bw5z+7/1U8HIa//hVuvdUmoUeMyKwPpIbcdhvMmmXnEzRr5rqazPKz\nn8EBB9ikfIA0NfjV45fUys+H556zs1yHDHG70mfRIlsp88gjMGUK/OpX2RP6YOcU7Lkn3KWdzetQ\nqycpCn5JvVat4NVX4T//sbMr0x3+VVV2VvEPfgCnnWbbJDhq7XiSn2+T5mPHwiuvuK4ms2gpZ1LU\n6pH02bAhqzBRAAANxklEQVTBVqocfrhtUJaGlTNMnw7Dhllf/LHHbKlmtps50ybNZ81S2IENJFq3\ntlH/3nu7riat1OqRzPe978Gbb8L27baj5+LFjf+dpqqstG0jrrzSJphffz03Qh9sR9Bbb7UN8aqr\nXVfj3vr19mfr1m7ryCIKfkmL8vLp9O59F6F+/0fvtSXMP/ZEO8v32Wf9bf0sXmyrdU4+GY4+2uYW\nLrnE/aSy36KTmH/4g9s6MkG0zZNr73EKaR2/pFy8zdHOKxnBmFvv4bRHHrHtiP/wB29991mz7Dle\nfdWC//PPc3vZY36+bYh38snQt69d/CWoFi60XTklYRrxS8rF3ZOmciT3TVlqJ3ddcomttunZ03b2\n3LKl8ScNh200f999ts3CpZfCiSfa6O/BB3M79KNKSmwv/6uusgnsoNKKnqRpxC8p1+CeNAUFdtbs\n4MF2GcPRo22Dt+OOs152hw4W4gUFsGYNfPON7aPz3ns2OTxwoG1odtppwbzY+09/Ci++aP8GN93k\nuho3FizQGc1JUvBLyjW6Jw3YCUnRq1Jt2WKtm/ffh5Ur4dNPbUS7zz729ZOfwBNP5PzVlhKSn2/X\nC+jRw3YVDeIe/gsX2tYWkjAFv6RcQnvS1LTnnnDGGfYljTviCJvXuPlma5UFjXr8ScukaXCt489h\nCe9JI03z3XdwzDE2+u/d23U16RMO2wmCS5YEcjmn9uoRCbpXX7WT1T75JLu2ovBi9Wo7P2PdOteV\nOKETuESC7pxzLAQffdR1JemjNk+TKPhFcsnDD9uFZFavdl1JelRWKvibQMEvkkuOPNLOaSgtdV1J\nenz+ue39JElR8IvkmtJSW93z6aeuK0m9zz+Hww5zXUXWUfCL5Jq2beGOO2xzulynEX+TaFWPSC7a\nutVGwuPG2RnQuSgcth1fFy6ENm1cV+OEVvWIyG7FxdbyufNOt1c9S6UVK6CoKLCh74WCXyRXDRpk\nW15MmeK6ktRQm6fJFPwiuaqwEEaOtFH/zp2uq/Gfgr/JFPwiuWzgQNvZ9OWXXVfiPwV/kyn4RXJZ\nXp71+ktLc2/Ur+BvMgW/SK7r29d2PH3pJdeV+EvB32RazikSBK++ahdonzcvNy5Ys22bLeXcuDE4\nG9LFod05RaR+4TB0786HoT7cObuKbdsKKSqqYtiwXtm5Pfann8L558MXX7iuxKmmBr8uxCISBHl5\nvNf3Qlr/+jdM3bGScKTLW1k5AiD7wl9tHk9y4Hc+EUnE3W+vZ8OOLgxgwq77KitHMmrUVIdVNZGC\n3xMFv0hAbNvejF9zF3fxa2B3W3Xr1gJ3RTWVgt8TBb9IQBQVVfEK59GMHfThtV3317rofbZQ8Hui\n4BcJiGHDenFwyd2MZAR3cx8Qjlz0/mzXpSUnHFbwe6TJXZGAiE7gPlo2mU4zvuC2o6+kZ+ng7JvY\nXbbMtqNo1851JVlLyzlFguiZZ+C552BqFk7slpdDWRlMnuy6EudcbsvcB/gM+BK4vZ7HlEV+Phfo\n6sMxRcSLK66wdskHH7iuJHlz5sDxx7uuIqt5Df4C4I9Y+B8FXAYcGfOYvsAhwKHAYGC0x2OKiFfN\nm8MvfgEPPOC6kuQp+D3zGvzdgK+AhcAO4HlgQMxj+gNjIrdnAa2B9h6PKyJe/eQnMGMGfPaZ60qS\no+D3zGvwdwQW1/h+SeS+xh7TyeNxRcSrFi1gyBB46CHXlSRu0yab3D30UNeVZDWvq3oSnY2NnXzQ\nLK5IJhgyBA45BL7+Gg44wHU1jZs3D44+2lb1SJN5/ddbCnSu8X1nbETf0GM6Re6ro7S0dNftUChE\nKBTyWJ6INKhNG7j2WnjkEfvKdAFv81RUVFBRUeH5ebwu5ywEPgd+BCwD3sMmeOfXeExfYEjkz1OA\n30f+jKXlnCIuLF0Kxx4LX34Jbdu6rqZh110HXbvC//6v60oygqvlnFVYqE8GPgXGYaF/feQLYBLw\nX2wS+HFA75hIJunY0S7R+OijritpXMBH/H7RCVwiYit7evaEBQts0jcTVVXBXnvBypXQqpXrajKC\nyxO4RCTbHXEEnH46PPWU60rq9/nn0KmTQt8HCn4RMXfcAQ8/DDt2uK4kPrV5fKPgFxHTrRuUlMDY\nsa4riW/OHPj+911XkRMU/CKy25132gldO3e6rqSumTPh5JNdV5ETFPwisttZZ0FxMfzrX64rqW3r\nVpg9G06JtxJckqXgF5Hd8vJs1P/AA3bBk0zx/vtw1FHQsqXrSnKCgl9Eahs4ENasgWnTXFey29tv\nQ48erqvIGQp+EamtoMBW+Nx/v+tKdpsxw5abii90ApeI1LV9u+2A+Y9/2Gofl6qrbSuJzz+H9trR\nvSadwCUi/mneHG67DUaOdF0JfPKJBb5C3zcKfhGJ79prbVL1o4/c1qE2j+8U/CIS3x57wM03u+/1\na2LXd+rxi0j9Nm2ys3mnTYMjYy+nnQbhMHTuDBUVdsEYqUU9fhHxX6tWNuq/9143x1+0yCZ3S0rc\nHD9HKfhFpGFDhsCbb9oka7pNngxnnmknlolvFPwi0rBWreDnP3cz6p8wAQYMSP9xc1wmfYyqxy+S\nqTZvtnbLG2/AMcek55ibNtnVwZYssQuwSB3q8YtI6rRsCbfeCr/8ZfqOOXkynHqqQj8FFPwikpgb\nb7R1/TNnpud4EyZA//7pOVbAqNUjIol75hl4+mmYPj21E647dsB++8HcuXa5RYlLrR4RSb1Bg2D9\nenjlldQe5+234aCDFPopouAXkcQVFMCDD9runVVVqTuOVvOklIJfRJLTt69tmPbEE6l5/upqePll\nBX8KKfhFJDl5eVBWBvfcA6tW+f/8kybZB8txx/n/3AIo+EWkKY49Fq66yrZu9kl5+XR6976L96/6\nGb/5rgPl5dN9e26pTat6RKRpNm2y6+COHet52+Ty8uncdNNkCiuvpIIQB7KIziX38oc/9KZfv54+\nFZx7tKpHRNKrVSt4+GG44QbYts3TU5WVTaGyciRD+CNPch3bKaKyciSjRk31qVipScEvIk138cV2\nicbhwz09zbZthbRiI5fzHI/x0133b91a4LVCiUPBLyJNl5cHTz4J48bB1KaPzouKqvh/PMVUzmYZ\nHXfdX1xc7UeVEqPQdQEikuXatoUxY2yyd84c2GefpJ/i1itO4ITXf0zPne/tuq+kZDhDh/bxs1KJ\n0OSuiPjj9tvhgw9sOWZRUXJ/94IL+LKoFUPXHcDWrQUUF1czdOjZmthtRFMndxX8IuKP6mq45BLI\nz4fnn7ezfBPxz3/CiBH220KyHxgBp+AXEfe2brUzew87DEaPbnwjt5Ur4YQTbI7A45LQINJyThFx\nr7gYxo+H2bPhwgthzZr6Hzt/PnTvbts9K/TTSsEvIv7aay/btrlLFzj+eOv5V9dYnbNzJ7z2GoRC\ntu2Dx6Wgkjy1ekQkdSZPtit3LVkCZ5xhff+33oK994bHHrMLqUuTqccvIplr+XK7Xm91tX0AHHCA\n64pygoJfRCRgNLkrIiIJ8XLmbhtgHHAgsBC4BFgf53ELgY1ANbAD6ObhmCIi4pGXEf8dwFTgMOCN\nyPfxhIEQ0JWAhn5FRYXrElJKry+76fUFj5fg7w+MidweA5zfwGMzaS4h7XL9Pzy9vuym1xc8XoK/\nPbAycntl5Pt4wsDrwAfAdR6OJyIiPmisxz8V2C/O/SNivg9HvuI5DVgO7Bt5vs+AGUnUKCIiPvLS\ngvkM692vADoAbwFHNPJ37gE2Aw/H+dlXQImHekREgqYSOCSdB/wNcHvk9h3Ag3EesyfQKnK7BfAO\n0Cv1pYmISCq0wXr3XwBTgNaR+/cHyiO3DwbmRL4+Bu5Mc40iIiIiIuLCxcAn2EldJzTwuIXAPGA2\n8F4Dj8s0ib6+PthcyZfsbptlgzbYRH3sb3uxFpJd718i70dZ5OdzsXNTskljry8EbMDer9nAXWmr\nzLunsdWFHzXwmGx97xp7bSGy5H07Ajvx6y0aDsYFWMhkm0ReXwE2od0FaIa1w45MR3E++A1wW+T2\n7cSf34Hsev8SeT/6ApMit08G/p2u4nyQyOsLARPTWpV/emBhXl84ZvN719hrC5Hk++Zqr57PsNFi\nIrLx5K9EXl837H/EhdhWFs8DA1Jblm9y8eS9RN6Pmq97FvabTn3nr2SaRP97y5b3K9YMYF0DP8/m\n966x1wZJvm+ZvklbLp/81RFYXOP7JZH7skEunryXyPsR7zGdUlyXXxJ5fWHgVKwVMgk4Kj2lpUU2\nv3eNSfp987JJW2PqO/lrOPBKgs+RySd/eX19mb4HddBO3kv0/YgdWWX6+xiVSJ0fAp2BLcA5wHis\nZZkrsvW9a0zS71sqg/9sH55jeeTPb4CXsV9XMyU4vL6+pdibFdUZG4VkioZe30rsQyF68t6qeh6X\nye9frETej9jHdIrclw0SeX2batx+FfgTNkezNrWlpUU2v3eNSfp9y4RWT329qdiTv3rR8Ix9pqrv\n9X0AHIpNtjUH/ofsmVibCFwVuX0VNsKIlW3vXyLvx0RgUOT2Kdg25CvJDom8vvbs/u+1W+R2LoQ+\nZPd715ised8GYv2277BR46uR+3Pl5K9EXh/Yr2WfY5Nu2fT6cvXkvXjvx/WRr6g/Rn4+l4ZXpGWi\nxl7fjdh7NQd4FwvIbDEWWAZsx/7fu5bcee8ae23Z/L6JiIiIiIiIiIiIiIiIiIiIiIiIiIiIiIiI\niOSW/w8RDbiwZgWYrAAAAABJRU5ErkJggg==\n&quot;,</td>
      </tr>
      <tr>
        <td id="L1954" class="blob-num js-line-number" data-line-number="1954"></td>
        <td id="LC1954" class="blob-code js-file-line">       &quot;text&quot;: [</td>
      </tr>
      <tr>
        <td id="L1955" class="blob-num js-line-number" data-line-number="1955"></td>
        <td id="LC1955" class="blob-code js-file-line">        &quot;&lt;matplotlib.figure.Figure at 0x10ca5c550&gt;&quot;</td>
      </tr>
      <tr>
        <td id="L1956" class="blob-num js-line-number" data-line-number="1956"></td>
        <td id="LC1956" class="blob-code js-file-line">       ]</td>
      </tr>
      <tr>
        <td id="L1957" class="blob-num js-line-number" data-line-number="1957"></td>
        <td id="LC1957" class="blob-code js-file-line">      }</td>
      </tr>
      <tr>
        <td id="L1958" class="blob-num js-line-number" data-line-number="1958"></td>
        <td id="LC1958" class="blob-code js-file-line">     ],</td>
      </tr>
      <tr>
        <td id="L1959" class="blob-num js-line-number" data-line-number="1959"></td>
        <td id="LC1959" class="blob-code js-file-line">     &quot;prompt_number&quot;: 68</td>
      </tr>
      <tr>
        <td id="L1960" class="blob-num js-line-number" data-line-number="1960"></td>
        <td id="LC1960" class="blob-code js-file-line">    },</td>
      </tr>
      <tr>
        <td id="L1961" class="blob-num js-line-number" data-line-number="1961"></td>
        <td id="LC1961" class="blob-code js-file-line">    {</td>
      </tr>
      <tr>
        <td id="L1962" class="blob-num js-line-number" data-line-number="1962"></td>
        <td id="LC1962" class="blob-code js-file-line">     &quot;cell_type&quot;: &quot;markdown&quot;,</td>
      </tr>
      <tr>
        <td id="L1963" class="blob-num js-line-number" data-line-number="1963"></td>
        <td id="LC1963" class="blob-code js-file-line">     &quot;metadata&quot;: {},</td>
      </tr>
      <tr>
        <td id="L1964" class="blob-num js-line-number" data-line-number="1964"></td>
        <td id="LC1964" class="blob-code js-file-line">     &quot;source&quot;: [</td>
      </tr>
      <tr>
        <td id="L1965" class="blob-num js-line-number" data-line-number="1965"></td>
        <td id="LC1965" class="blob-code js-file-line">      &quot;## Regularization&quot;</td>
      </tr>
      <tr>
        <td id="L1966" class="blob-num js-line-number" data-line-number="1966"></td>
        <td id="LC1966" class="blob-code js-file-line">     ]</td>
      </tr>
      <tr>
        <td id="L1967" class="blob-num js-line-number" data-line-number="1967"></td>
        <td id="LC1967" class="blob-code js-file-line">    },</td>
      </tr>
      <tr>
        <td id="L1968" class="blob-num js-line-number" data-line-number="1968"></td>
        <td id="LC1968" class="blob-code js-file-line">    {</td>
      </tr>
      <tr>
        <td id="L1969" class="blob-num js-line-number" data-line-number="1969"></td>
        <td id="LC1969" class="blob-code js-file-line">     &quot;cell_type&quot;: &quot;code&quot;,</td>
      </tr>
      <tr>
        <td id="L1970" class="blob-num js-line-number" data-line-number="1970"></td>
        <td id="LC1970" class="blob-code js-file-line">     &quot;collapsed&quot;: false,</td>
      </tr>
      <tr>
        <td id="L1971" class="blob-num js-line-number" data-line-number="1971"></td>
        <td id="LC1971" class="blob-code js-file-line">     &quot;input&quot;: [</td>
      </tr>
      <tr>
        <td id="L1972" class="blob-num js-line-number" data-line-number="1972"></td>
        <td id="LC1972" class="blob-code js-file-line">      &quot;from sklearn.linear_model import Ridge, Lasso&quot;</td>
      </tr>
      <tr>
        <td id="L1973" class="blob-num js-line-number" data-line-number="1973"></td>
        <td id="LC1973" class="blob-code js-file-line">     ],</td>
      </tr>
      <tr>
        <td id="L1974" class="blob-num js-line-number" data-line-number="1974"></td>
        <td id="LC1974" class="blob-code js-file-line">     &quot;language&quot;: &quot;python&quot;,</td>
      </tr>
      <tr>
        <td id="L1975" class="blob-num js-line-number" data-line-number="1975"></td>
        <td id="LC1975" class="blob-code js-file-line">     &quot;metadata&quot;: {},</td>
      </tr>
      <tr>
        <td id="L1976" class="blob-num js-line-number" data-line-number="1976"></td>
        <td id="LC1976" class="blob-code js-file-line">     &quot;outputs&quot;: [],</td>
      </tr>
      <tr>
        <td id="L1977" class="blob-num js-line-number" data-line-number="1977"></td>
        <td id="LC1977" class="blob-code js-file-line">     &quot;prompt_number&quot;: 69</td>
      </tr>
      <tr>
        <td id="L1978" class="blob-num js-line-number" data-line-number="1978"></td>
        <td id="LC1978" class="blob-code js-file-line">    },</td>
      </tr>
      <tr>
        <td id="L1979" class="blob-num js-line-number" data-line-number="1979"></td>
        <td id="LC1979" class="blob-code js-file-line">    {</td>
      </tr>
      <tr>
        <td id="L1980" class="blob-num js-line-number" data-line-number="1980"></td>
        <td id="LC1980" class="blob-code js-file-line">     &quot;cell_type&quot;: &quot;code&quot;,</td>
      </tr>
      <tr>
        <td id="L1981" class="blob-num js-line-number" data-line-number="1981"></td>
        <td id="LC1981" class="blob-code js-file-line">     &quot;collapsed&quot;: false,</td>
      </tr>
      <tr>
        <td id="L1982" class="blob-num js-line-number" data-line-number="1982"></td>
        <td id="LC1982" class="blob-code js-file-line">     &quot;input&quot;: [</td>
      </tr>
      <tr>
        <td id="L1983" class="blob-num js-line-number" data-line-number="1983"></td>
        <td id="LC1983" class="blob-code js-file-line">      &quot;ridge = Ridge(alpha = .2)\n&quot;,</td>
      </tr>
      <tr>
        <td id="L1984" class="blob-num js-line-number" data-line-number="1984"></td>
        <td id="LC1984" class="blob-code js-file-line">      &quot;ridge.fit(np.vander(x, 6), y)\n&quot;,</td>
      </tr>
      <tr>
        <td id="L1985" class="blob-num js-line-number" data-line-number="1985"></td>
        <td id="LC1985" class="blob-code js-file-line">      &quot;\n&quot;,</td>
      </tr>
      <tr>
        <td id="L1986" class="blob-num js-line-number" data-line-number="1986"></td>
        <td id="LC1986" class="blob-code js-file-line">      &quot;lasso = Lasso(alpha = 1)\n&quot;,</td>
      </tr>
      <tr>
        <td id="L1987" class="blob-num js-line-number" data-line-number="1987"></td>
        <td id="LC1987" class="blob-code js-file-line">      &quot;lasso.fit(np.vander(x, 6), y)\n&quot;,</td>
      </tr>
      <tr>
        <td id="L1988" class="blob-num js-line-number" data-line-number="1988"></td>
        <td id="LC1988" class="blob-code js-file-line">      &quot;\n&quot;,</td>
      </tr>
      <tr>
        <td id="L1989" class="blob-num js-line-number" data-line-number="1989"></td>
        <td id="LC1989" class="blob-code js-file-line">      &quot;plt.figure(figsize = (6,6));\n&quot;,</td>
      </tr>
      <tr>
        <td id="L1990" class="blob-num js-line-number" data-line-number="1990"></td>
        <td id="LC1990" class="blob-code js-file-line">      &quot;plt.plot(x, y, &#39;o&#39;);\n&quot;,</td>
      </tr>
      <tr>
        <td id="L1991" class="blob-num js-line-number" data-line-number="1991"></td>
        <td id="LC1991" class="blob-code js-file-line">      &quot;xx = np.linspace(-1.25,1.1,100)\n&quot;,</td>
      </tr>
      <tr>
        <td id="L1992" class="blob-num js-line-number" data-line-number="1992"></td>
        <td id="LC1992" class="blob-code js-file-line">      &quot;plt.plot(xx, res.predict(np.vander(xx,6)), &#39;r-&#39;);\n&quot;,</td>
      </tr>
      <tr>
        <td id="L1993" class="blob-num js-line-number" data-line-number="1993"></td>
        <td id="LC1993" class="blob-code js-file-line">      &quot;plt.plot(xx,  ridge.predict(np.vander(xx, 6)), &#39;g-&#39;, label=&#39;Ridge&#39;);\n&quot;,</td>
      </tr>
      <tr>
        <td id="L1994" class="blob-num js-line-number" data-line-number="1994"></td>
        <td id="LC1994" class="blob-code js-file-line">      &quot;plt.plot(xx,  lasso.predict(np.vander(xx, 6)), &#39;c-&#39;, label=&#39;Lasso&#39;);\n&quot;,</td>
      </tr>
      <tr>
        <td id="L1995" class="blob-num js-line-number" data-line-number="1995"></td>
        <td id="LC1995" class="blob-code js-file-line">      &quot;plt.legend(loc=&#39;best&#39;)&quot;</td>
      </tr>
      <tr>
        <td id="L1996" class="blob-num js-line-number" data-line-number="1996"></td>
        <td id="LC1996" class="blob-code js-file-line">     ],</td>
      </tr>
      <tr>
        <td id="L1997" class="blob-num js-line-number" data-line-number="1997"></td>
        <td id="LC1997" class="blob-code js-file-line">     &quot;language&quot;: &quot;python&quot;,</td>
      </tr>
      <tr>
        <td id="L1998" class="blob-num js-line-number" data-line-number="1998"></td>
        <td id="LC1998" class="blob-code js-file-line">     &quot;metadata&quot;: {},</td>
      </tr>
      <tr>
        <td id="L1999" class="blob-num js-line-number" data-line-number="1999"></td>
        <td id="LC1999" class="blob-code js-file-line">     &quot;outputs&quot;: [</td>
      </tr>
      <tr>
        <td id="L2000" class="blob-num js-line-number" data-line-number="2000"></td>
        <td id="LC2000" class="blob-code js-file-line">      {</td>
      </tr>
      <tr>
        <td id="L2001" class="blob-num js-line-number" data-line-number="2001"></td>
        <td id="LC2001" class="blob-code js-file-line">       &quot;metadata&quot;: {},</td>
      </tr>
      <tr>
        <td id="L2002" class="blob-num js-line-number" data-line-number="2002"></td>
        <td id="LC2002" class="blob-code js-file-line">       &quot;output_type&quot;: &quot;pyout&quot;,</td>
      </tr>
      <tr>
        <td id="L2003" class="blob-num js-line-number" data-line-number="2003"></td>
        <td id="LC2003" class="blob-code js-file-line">       &quot;prompt_number&quot;: 73,</td>
      </tr>
      <tr>
        <td id="L2004" class="blob-num js-line-number" data-line-number="2004"></td>
        <td id="LC2004" class="blob-code js-file-line">       &quot;text&quot;: [</td>
      </tr>
      <tr>
        <td id="L2005" class="blob-num js-line-number" data-line-number="2005"></td>
        <td id="LC2005" class="blob-code js-file-line">        &quot;&lt;matplotlib.legend.Legend at 0x10cfddc50&gt;&quot;</td>
      </tr>
      <tr>
        <td id="L2006" class="blob-num js-line-number" data-line-number="2006"></td>
        <td id="LC2006" class="blob-code js-file-line">       ]</td>
      </tr>
      <tr>
        <td id="L2007" class="blob-num js-line-number" data-line-number="2007"></td>
        <td id="LC2007" class="blob-code js-file-line">      },</td>
      </tr>
      <tr>
        <td id="L2008" class="blob-num js-line-number" data-line-number="2008"></td>
        <td id="LC2008" class="blob-code js-file-line">      {</td>
      </tr>
      <tr>
        <td id="L2009" class="blob-num js-line-number" data-line-number="2009"></td>
        <td id="LC2009" class="blob-code js-file-line">       &quot;metadata&quot;: {},</td>
      </tr>
      <tr>
        <td id="L2010" class="blob-num js-line-number" data-line-number="2010"></td>
        <td id="LC2010" class="blob-code js-file-line">       &quot;output_type&quot;: &quot;display_data&quot;,</td>
      </tr>
      <tr>
        <td id="L2011" class="blob-num js-line-number" data-line-number="2011"></td>
        <td id="LC2011" class="blob-code js-file-line">       &quot;png&quot;: &quot;iVBORw0KGgoAAAANSUhEUgAAAXQAAAFwCAYAAACo8oBFAAAABHNCSVQICAgIfAhkiAAAAAlwSFlz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\niIiIiDP8P4Jmqx3rXe1VAAAAAElFTkSuQmCC\n&quot;,</td>
      </tr>
      <tr>
        <td id="L2012" class="blob-num js-line-number" data-line-number="2012"></td>
        <td id="LC2012" class="blob-code js-file-line">       &quot;text&quot;: [</td>
      </tr>
      <tr>
        <td id="L2013" class="blob-num js-line-number" data-line-number="2013"></td>
        <td id="LC2013" class="blob-code js-file-line">        &quot;&lt;matplotlib.figure.Figure at 0x10cecb810&gt;&quot;</td>
      </tr>
      <tr>
        <td id="L2014" class="blob-num js-line-number" data-line-number="2014"></td>
        <td id="LC2014" class="blob-code js-file-line">       ]</td>
      </tr>
      <tr>
        <td id="L2015" class="blob-num js-line-number" data-line-number="2015"></td>
        <td id="LC2015" class="blob-code js-file-line">      }</td>
      </tr>
      <tr>
        <td id="L2016" class="blob-num js-line-number" data-line-number="2016"></td>
        <td id="LC2016" class="blob-code js-file-line">     ],</td>
      </tr>
      <tr>
        <td id="L2017" class="blob-num js-line-number" data-line-number="2017"></td>
        <td id="LC2017" class="blob-code js-file-line">     &quot;prompt_number&quot;: 73</td>
      </tr>
      <tr>
        <td id="L2018" class="blob-num js-line-number" data-line-number="2018"></td>
        <td id="LC2018" class="blob-code js-file-line">    },</td>
      </tr>
      <tr>
        <td id="L2019" class="blob-num js-line-number" data-line-number="2019"></td>
        <td id="LC2019" class="blob-code js-file-line">    {</td>
      </tr>
      <tr>
        <td id="L2020" class="blob-num js-line-number" data-line-number="2020"></td>
        <td id="LC2020" class="blob-code js-file-line">     &quot;cell_type&quot;: &quot;code&quot;,</td>
      </tr>
      <tr>
        <td id="L2021" class="blob-num js-line-number" data-line-number="2021"></td>
        <td id="LC2021" class="blob-code js-file-line">     &quot;collapsed&quot;: false,</td>
      </tr>
      <tr>
        <td id="L2022" class="blob-num js-line-number" data-line-number="2022"></td>
        <td id="LC2022" class="blob-code js-file-line">     &quot;input&quot;: [],</td>
      </tr>
      <tr>
        <td id="L2023" class="blob-num js-line-number" data-line-number="2023"></td>
        <td id="LC2023" class="blob-code js-file-line">     &quot;language&quot;: &quot;python&quot;,</td>
      </tr>
      <tr>
        <td id="L2024" class="blob-num js-line-number" data-line-number="2024"></td>
        <td id="LC2024" class="blob-code js-file-line">     &quot;metadata&quot;: {},</td>
      </tr>
      <tr>
        <td id="L2025" class="blob-num js-line-number" data-line-number="2025"></td>
        <td id="LC2025" class="blob-code js-file-line">     &quot;outputs&quot;: [],</td>
      </tr>
      <tr>
        <td id="L2026" class="blob-num js-line-number" data-line-number="2026"></td>
        <td id="LC2026" class="blob-code js-file-line">     &quot;prompt_number&quot;: 44</td>
      </tr>
      <tr>
        <td id="L2027" class="blob-num js-line-number" data-line-number="2027"></td>
        <td id="LC2027" class="blob-code js-file-line">    },</td>
      </tr>
      <tr>
        <td id="L2028" class="blob-num js-line-number" data-line-number="2028"></td>
        <td id="LC2028" class="blob-code js-file-line">    {</td>
      </tr>
      <tr>
        <td id="L2029" class="blob-num js-line-number" data-line-number="2029"></td>
        <td id="LC2029" class="blob-code js-file-line">     &quot;cell_type&quot;: &quot;code&quot;,</td>
      </tr>
      <tr>
        <td id="L2030" class="blob-num js-line-number" data-line-number="2030"></td>
        <td id="LC2030" class="blob-code js-file-line">     &quot;collapsed&quot;: false,</td>
      </tr>
      <tr>
        <td id="L2031" class="blob-num js-line-number" data-line-number="2031"></td>
        <td id="LC2031" class="blob-code js-file-line">     &quot;input&quot;: [],</td>
      </tr>
      <tr>
        <td id="L2032" class="blob-num js-line-number" data-line-number="2032"></td>
        <td id="LC2032" class="blob-code js-file-line">     &quot;language&quot;: &quot;python&quot;,</td>
      </tr>
      <tr>
        <td id="L2033" class="blob-num js-line-number" data-line-number="2033"></td>
        <td id="LC2033" class="blob-code js-file-line">     &quot;metadata&quot;: {},</td>
      </tr>
      <tr>
        <td id="L2034" class="blob-num js-line-number" data-line-number="2034"></td>
        <td id="LC2034" class="blob-code js-file-line">     &quot;outputs&quot;: [],</td>
      </tr>
      <tr>
        <td id="L2035" class="blob-num js-line-number" data-line-number="2035"></td>
        <td id="LC2035" class="blob-code js-file-line">     &quot;prompt_number&quot;: 44</td>
      </tr>
      <tr>
        <td id="L2036" class="blob-num js-line-number" data-line-number="2036"></td>
        <td id="LC2036" class="blob-code js-file-line">    }</td>
      </tr>
      <tr>
        <td id="L2037" class="blob-num js-line-number" data-line-number="2037"></td>
        <td id="LC2037" class="blob-code js-file-line">   ],</td>
      </tr>
      <tr>
        <td id="L2038" class="blob-num js-line-number" data-line-number="2038"></td>
        <td id="LC2038" class="blob-code js-file-line">   &quot;metadata&quot;: {}</td>
      </tr>
      <tr>
        <td id="L2039" class="blob-num js-line-number" data-line-number="2039"></td>
        <td id="LC2039" class="blob-code js-file-line">  }</td>
      </tr>
      <tr>
        <td id="L2040" class="blob-num js-line-number" data-line-number="2040"></td>
        <td id="LC2040" class="blob-code js-file-line"> ]</td>
      </tr>
      <tr>
        <td id="L2041" class="blob-num js-line-number" data-line-number="2041"></td>
        <td id="LC2041" class="blob-code js-file-line">}</td>
      </tr>
</table>

  </div>

  </div>
</div>

<a href="#jump-to-line" rel="facebox[.linejump]" data-hotkey="l" style="display:none">Jump to Line</a>
<div id="jump-to-line" style="display:none">
  <form accept-charset="UTF-8" class="js-jump-to-line-form">
    <input class="linejump-input js-jump-to-line-field" type="text" placeholder="Jump to line&hellip;" autofocus>
    <button type="submit" class="button">Go</button>
  </form>
</div>

        </div>

      </div><!-- /.repo-container -->
      <div class="modal-backdrop"></div>
    </div><!-- /.container -->
  </div><!-- /.site -->


    </div><!-- /.wrapper -->

      <div class="container">
  <div class="site-footer" role="contentinfo">
    <ul class="site-footer-links right">
      <li><a href="https://status.github.com/">Status</a></li>
      <li><a href="https://developer.github.com">API</a></li>
      <li><a href="http://training.github.com">Training</a></li>
      <li><a href="http://shop.github.com">Shop</a></li>
      <li><a href="/blog">Blog</a></li>
      <li><a href="/about">About</a></li>

    </ul>

    <a href="/" aria-label="Homepage">
      <span class="mega-octicon octicon-mark-github" title="GitHub"></span>
    </a>

    <ul class="site-footer-links">
      <li>&copy; 2014 <span title="0.07020s from github-fe118-cp1-prd.iad.github.net">GitHub</span>, Inc.</li>
        <li><a href="/site/terms">Terms</a></li>
        <li><a href="/site/privacy">Privacy</a></li>
        <li><a href="/security">Security</a></li>
        <li><a href="/contact">Contact</a></li>
    </ul>
  </div><!-- /.site-footer -->
</div><!-- /.container -->


    <div class="fullscreen-overlay js-fullscreen-overlay" id="fullscreen_overlay">
  <div class="fullscreen-container js-suggester-container">
    <div class="textarea-wrap">
      <textarea name="fullscreen-contents" id="fullscreen-contents" class="fullscreen-contents js-fullscreen-contents js-suggester-field" placeholder=""></textarea>
    </div>
  </div>
  <div class="fullscreen-sidebar">
    <a href="#" class="exit-fullscreen js-exit-fullscreen tooltipped tooltipped-w" aria-label="Exit Zen Mode">
      <span class="mega-octicon octicon-screen-normal"></span>
    </a>
    <a href="#" class="theme-switcher js-theme-switcher tooltipped tooltipped-w"
      aria-label="Switch themes">
      <span class="octicon octicon-color-mode"></span>
    </a>
  </div>
</div>



    <div id="ajax-error-message" class="flash flash-error">
      <span class="octicon octicon-alert"></span>
      <a href="#" class="octicon octicon-x flash-close js-ajax-error-dismiss" aria-label="Dismiss error"></a>
      Something went wrong with that request. Please try again.
    </div>


      <script crossorigin="anonymous" src="https://assets-cdn.github.com/assets/frameworks-dabc650f8a51dffd1d4376a3522cbda5536e4807e01d2a86ff7e60d8d6ee3029.js" type="text/javascript"></script>
      <script async="async" crossorigin="anonymous" src="https://assets-cdn.github.com/assets/github-d01013daa80c5a341ba3ddb684f2f26679eb369d67459151d5175a634a9e98a5.js" type="text/javascript"></script>
      
      
  </body>
</html>

