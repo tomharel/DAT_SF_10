{
 "metadata": {
  "name": "",
  "signature": "sha256:810313afe9b2434ddee09aafe1035fb79e4dec81fa724179a8a7a79840c251d4"
 },
 "nbformat": 3,
 "nbformat_minor": 0,
 "worksheets": [
  {
   "cells": [
    {
     "cell_type": "markdown",
     "metadata": {},
     "source": [
      "# GA Data Science 10 (DAT10) - Lab 12\n",
      "\n",
      "### Recommendation Systems\n",
      "\n",
      "Francesco Mosconi\n",
      "\n",
      "### Today\n",
      "\n",
      "1. Simple similarity based recommendation system\n",
      "2. Optional (yhat)\n",
      "3. Recsys"
     ]
    },
    {
     "cell_type": "markdown",
     "metadata": {},
     "source": [
      "## Similarity based Recommendation System: Beers\n",
      "\n",
      "\n",
      "Let's build a recommendation system to recommend types of beers based on user reviews"
     ]
    },
    {
     "cell_type": "markdown",
     "metadata": {},
     "source": [
      "Usual imports (numpy, pandas)"
     ]
    },
    {
     "cell_type": "code",
     "collapsed": false,
     "input": [
      "import pandas as pd\n",
      "import numpy as np"
     ],
     "language": "python",
     "metadata": {},
     "outputs": []
    },
    {
     "cell_type": "markdown",
     "metadata": {},
     "source": [
      "First of all let's get the data"
     ]
    },
    {
     "cell_type": "code",
     "collapsed": false,
     "input": [
      "! curl -O https://s3.amazonaws.com/demo-datasets/beer_reviews.tar.gz"
     ],
     "language": "python",
     "metadata": {},
     "outputs": []
    },
    {
     "cell_type": "markdown",
     "metadata": {},
     "source": [
      "Import data in a pandas dataframe called \"allbeers\". Use the compression keyword"
     ]
    },
    {
     "cell_type": "code",
     "collapsed": false,
     "input": [
      "allbeers = pd.read_csv(\"beer_reviews.tar.gz\", compression='gzip')"
     ],
     "language": "python",
     "metadata": {},
     "outputs": []
    },
    {
     "cell_type": "markdown",
     "metadata": {},
     "source": [
      "Let's look at the data"
     ]
    },
    {
     "cell_type": "code",
     "collapsed": false,
     "input": [
      "allbeers.head()"
     ],
     "language": "python",
     "metadata": {},
     "outputs": []
    },
    {
     "cell_type": "markdown",
     "metadata": {},
     "source": [
      "Let's restrict this to the top 250 beers. Use the value_counts() method select the top 250 beers.\n",
      "Assign the selected beers to a dataset called df"
     ]
    },
    {
     "cell_type": "code",
     "collapsed": false,
     "input": [
      "n = 250\n",
      "top_n = allbeers.beer_name.value_counts().index[:n]\n",
      "df = allbeers[allbeers.beer_name.isin(top_n)]\n",
      "df.head()"
     ],
     "language": "python",
     "metadata": {},
     "outputs": []
    },
    {
     "cell_type": "markdown",
     "metadata": {},
     "source": [
      "How big is this dataset?"
     ]
    },
    {
     "cell_type": "code",
     "collapsed": false,
     "input": [
      "df.info()"
     ],
     "language": "python",
     "metadata": {},
     "outputs": []
    },
    {
     "cell_type": "markdown",
     "metadata": {},
     "source": [
      "### Pivot Table"
     ]
    },
    {
     "cell_type": "markdown",
     "metadata": {},
     "source": [
      "Aggregate the data in a pivot table using the pivot_table method. Display the mean review_overall for each beer_name aggregating the review_overall values by review_profilename. Use the mean as aggregator."
     ]
    },
    {
     "cell_type": "code",
     "collapsed": false,
     "input": [
      "df_wide = pd.pivot_table(df, values=[\"review_overall\"],\n",
      "        rows=[\"beer_name\", \"review_profilename\"],\n",
      "        aggfunc=np.mean).unstack()\n",
      "df_wide.shape"
     ],
     "language": "python",
     "metadata": {},
     "outputs": []
    },
    {
     "cell_type": "markdown",
     "metadata": {},
     "source": [
      "Display the head of the pivot table, but only for 5 users (columns are users)"
     ]
    },
    {
     "cell_type": "code",
     "collapsed": false,
     "input": [
      "df_wide.ix[0:5, 0:5]"
     ],
     "language": "python",
     "metadata": {},
     "outputs": []
    },
    {
     "cell_type": "markdown",
     "metadata": {},
     "source": [
      "### Discussion: what do you notice in this table?"
     ]
    },
    {
     "cell_type": "markdown",
     "metadata": {},
     "source": [
      "#### Data munging\n",
      "Set Nans to zero"
     ]
    },
    {
     "cell_type": "code",
     "collapsed": false,
     "input": [
      "df_wide = df_wide.fillna(0)"
     ],
     "language": "python",
     "metadata": {},
     "outputs": []
    },
    {
     "cell_type": "markdown",
     "metadata": {},
     "source": [
      "Check that columns are users"
     ]
    },
    {
     "cell_type": "code",
     "collapsed": false,
     "input": [
      "df_wide.columns[:10]"
     ],
     "language": "python",
     "metadata": {},
     "outputs": []
    },
    {
     "cell_type": "markdown",
     "metadata": {},
     "source": [
      "Check that rows are beers"
     ]
    },
    {
     "cell_type": "code",
     "collapsed": false,
     "input": [
      "pd.Series(df_wide.index[:10])"
     ],
     "language": "python",
     "metadata": {},
     "outputs": []
    },
    {
     "cell_type": "markdown",
     "metadata": {},
     "source": [
      "### Calculate distance between beers\n",
      "\n",
      "We're going to use cosine_similarity from scikit-learn to compute the distance between all beers"
     ]
    },
    {
     "cell_type": "markdown",
     "metadata": {},
     "source": [
      "Imports"
     ]
    },
    {
     "cell_type": "code",
     "collapsed": false,
     "input": [
      "from sklearn.metrics.pairwise import cosine_similarity\n",
      "from sklearn.metrics.pairwise import manhattan_distances\n",
      "from sklearn.metrics.pairwise import euclidean_distances"
     ],
     "language": "python",
     "metadata": {},
     "outputs": []
    },
    {
     "cell_type": "markdown",
     "metadata": {},
     "source": [
      "Apply cosine similarity to df_wide to calculate pairwise distances"
     ]
    },
    {
     "cell_type": "code",
     "collapsed": false,
     "input": [
      "dists = cosine_similarity(df_wide)\n",
      "dists"
     ],
     "language": "python",
     "metadata": {},
     "outputs": []
    },
    {
     "cell_type": "markdown",
     "metadata": {},
     "source": [
      "### Discussion: what type of object is dists?"
     ]
    },
    {
     "cell_type": "markdown",
     "metadata": {},
     "source": [
      "Convert dists to a Pandas DataFrame, use the index as column index as well (distances are a square matrix)."
     ]
    },
    {
     "cell_type": "code",
     "collapsed": false,
     "input": [
      "dists = pd.DataFrame(dists, columns=df_wide.index)\n",
      "\n",
      "dists.index = dists.columns\n",
      "dists.ix[0:10, 0:10]"
     ],
     "language": "python",
     "metadata": {},
     "outputs": []
    },
    {
     "cell_type": "markdown",
     "metadata": {},
     "source": [
      "Select some beers and look their distances to other beers"
     ]
    },
    {
     "cell_type": "code",
     "collapsed": false,
     "input": [
      "beers_i_like = ['Sierra Nevada Pale Ale', '120 Minute IPA', 'Allagash White']\n",
      "dists[beers_i_like].head()"
     ],
     "language": "python",
     "metadata": {},
     "outputs": []
    },
    {
     "cell_type": "markdown",
     "metadata": {},
     "source": [
      "Sum the distances of my favourite beers by row, to have one distance from each beer in the sample"
     ]
    },
    {
     "cell_type": "code",
     "collapsed": false,
     "input": [
      "beers_summed = dists[beers_i_like].apply(lambda row: np.sum(row), axis=1)\n",
      "#beers_summed = np.sum(dists[beers_i_like], axis=1)"
     ],
     "language": "python",
     "metadata": {},
     "outputs": []
    },
    {
     "cell_type": "markdown",
     "metadata": {},
     "source": [
      "#### Performance"
     ]
    },
    {
     "cell_type": "markdown",
     "metadata": {},
     "source": [
      "Optional: which one is faster? use ```%timeit``` to check"
     ]
    },
    {
     "cell_type": "code",
     "collapsed": false,
     "input": [
      "%timeit dists[beers_i_like].apply(lambda row: np.sum(row), axis=1)"
     ],
     "language": "python",
     "metadata": {},
     "outputs": []
    },
    {
     "cell_type": "code",
     "collapsed": false,
     "input": [
      "%timeit np.sum(dists[beers_i_like], axis=1)"
     ],
     "language": "python",
     "metadata": {},
     "outputs": []
    },
    {
     "cell_type": "markdown",
     "metadata": {},
     "source": [
      "#### Ranking"
     ]
    },
    {
     "cell_type": "markdown",
     "metadata": {},
     "source": [
      "Sort summed beers from best to worse"
     ]
    },
    {
     "cell_type": "code",
     "collapsed": false,
     "input": [
      "beers_summed = beers_summed.order(ascending=False)\n",
      "beers_summed"
     ],
     "language": "python",
     "metadata": {},
     "outputs": []
    },
    {
     "cell_type": "markdown",
     "metadata": {},
     "source": [
      "Filter out the beers used as input and transform to list"
     ]
    },
    {
     "cell_type": "code",
     "collapsed": false,
     "input": [
      "ranked_beers = beers_summed.index[beers_summed.index.isin(beers_i_like)==False]\n",
      "ranked_beers = ranked_beers.tolist()\n",
      "ranked_beers[:5]"
     ],
     "language": "python",
     "metadata": {},
     "outputs": []
    },
    {
     "cell_type": "markdown",
     "metadata": {},
     "source": [
      "Define a function that does what we just did for an arbitrary input list of beers. it should also receive the maximum number of beers requested n as optional parameter."
     ]
    },
    {
     "cell_type": "code",
     "collapsed": false,
     "input": [
      "def get_similar(beers, n=None):\n",
      "    \"\"\"\n",
      "    calculates which beers are most similar to the beers provided. Does not return\n",
      "    the beers that were provided\n",
      "    \n",
      "    Parameters\n",
      "    ----------\n",
      "    beers: list\n",
      "        some beers!\n",
      "    \n",
      "    Returns\n",
      "    -------\n",
      "    ranked_beers: list\n",
      "        rank ordered beers\n",
      "    \"\"\"\n",
      "    beers = [beer for beer in beers if beer in dists.columns]\n",
      "    beers_summed = dists[beers].apply(lambda row: np.sum(row), axis=1)\n",
      "    beers_summed = beers_summed.order(ascending=False)\n",
      "    ranked_beers = beers_summed.index[beers_summed.index.isin(beers)==False]\n",
      "    ranked_beers = ranked_beers.tolist()\n",
      "    if n is None:\n",
      "        return ranked_beers\n",
      "    else:\n",
      "        return ranked_beers[:n]"
     ],
     "language": "python",
     "metadata": {},
     "outputs": []
    },
    {
     "cell_type": "markdown",
     "metadata": {},
     "source": [
      "Test your function. Find the 10 beers most similar to \"120 Minute IPA\""
     ]
    },
    {
     "cell_type": "code",
     "collapsed": false,
     "input": [
      "for beer in get_similar([\"120 Minute IPA\"], 10):\n",
      "    print beer"
     ],
     "language": "python",
     "metadata": {},
     "outputs": []
    },
    {
     "cell_type": "markdown",
     "metadata": {},
     "source": [
      "Cool, let's try again with the 10 beers most similar to [\"Coors Light\", \"Bud Light\", \"Amstel Light\"]"
     ]
    },
    {
     "cell_type": "code",
     "collapsed": false,
     "input": [
      "for i, beer in enumerate(get_similar([\"Coors Light\", \"Bud Light\", \"Amstel Light\"], 10)):\n",
      "    print \"%d) %s\" % (i+1, beer)"
     ],
     "language": "python",
     "metadata": {},
     "outputs": []
    },
    {
     "cell_type": "markdown",
     "metadata": {},
     "source": [
      "Optional: register an account on yhat and deploy your model following the instructions [here](https://docs.yhathq.com/python/examples/beer-recommender) and [here](http://nbviewer.ipython.org/gist/glamp/20a18d52c539b87de2af)"
     ]
    },
    {
     "cell_type": "markdown",
     "metadata": {},
     "source": [
      "## Recsys\n",
      "\n",
      "A python library for implementing a recommender system"
     ]
    },
    {
     "cell_type": "code",
     "collapsed": false,
     "input": [
      "\"\"\"\n",
      "##install python-recsys\n",
      "\n",
      "### first install dependencies\n",
      "\n",
      "pip install csc-pysparse networkx divisi2\n",
      "\n",
      "### then install recsys\n",
      "git clone https://github.com/python-recsys/python-recsys.git\n",
      "cd python-recsys/\n",
      "\n",
      "python setup.py install\n",
      "\"\"\""
     ],
     "language": "python",
     "metadata": {},
     "outputs": []
    },
    {
     "cell_type": "markdown",
     "metadata": {},
     "source": [
      "Load recsys.algotihm, set VERBOSE = True import SVD class"
     ]
    },
    {
     "cell_type": "code",
     "collapsed": false,
     "input": [
      "import recsys.algorithm\n",
      "recsys.algorithm.VERBOSE = True\n",
      "from recsys.algorithm.factorize import SVD"
     ],
     "language": "python",
     "metadata": {},
     "outputs": []
    },
    {
     "cell_type": "markdown",
     "metadata": {},
     "source": [
      "Let's look at the files"
     ]
    },
    {
     "cell_type": "code",
     "collapsed": false,
     "input": [
      "! ls movielens"
     ],
     "language": "python",
     "metadata": {},
     "outputs": []
    },
    {
     "cell_type": "markdown",
     "metadata": {},
     "source": [
      "Import 'movies.dat' to a 'movies' pandas dataframe. Make sure you name the columns, use the correct separator and define the index."
     ]
    },
    {
     "cell_type": "code",
     "collapsed": false,
     "input": [
      "movies = pd.read_table('movielens/movies.dat', sep='::', names= ['ITEMID', 'Title', 'Genres'], index_col= 'ITEMID')"
     ],
     "language": "python",
     "metadata": {},
     "outputs": []
    },
    {
     "cell_type": "code",
     "collapsed": false,
     "input": [
      "movies.head()"
     ],
     "language": "python",
     "metadata": {},
     "outputs": []
    },
    {
     "cell_type": "markdown",
     "metadata": {},
     "source": [
      "Import 'ratings.dat' to a 'ratings' pandas dataframe. Make sure you name the columns, use the correct separator."
     ]
    },
    {
     "cell_type": "code",
     "collapsed": false,
     "input": [
      "ratings = pd.read_table('movielens/ratings.dat', sep='::', names= ['UserID','MovieID','Rating','Timestamp'])"
     ],
     "language": "python",
     "metadata": {},
     "outputs": []
    },
    {
     "cell_type": "code",
     "collapsed": false,
     "input": [
      "ratings.head()"
     ],
     "language": "python",
     "metadata": {},
     "outputs": []
    },
    {
     "cell_type": "markdown",
     "metadata": {},
     "source": [
      "Initialize an SVD instance"
     ]
    },
    {
     "cell_type": "code",
     "collapsed": false,
     "input": [
      "svd = SVD()"
     ],
     "language": "python",
     "metadata": {},
     "outputs": []
    },
    {
     "cell_type": "markdown",
     "metadata": {},
     "source": [
      "Populate it with the data from the ratings dataset, using the built in load_data method"
     ]
    },
    {
     "cell_type": "code",
     "collapsed": false,
     "input": [
      "svd.load_data(filename='./movielens/ratings.dat', sep='::', format={'col':0, 'row':1, 'value':2, 'ids': int})"
     ],
     "language": "python",
     "metadata": {},
     "outputs": []
    },
    {
     "cell_type": "markdown",
     "metadata": {},
     "source": [
      "Compute SVD\n",
      "\n",
      "$M=U \\Sigma V^T$:"
     ]
    },
    {
     "cell_type": "code",
     "collapsed": false,
     "input": [
      "k = 100\n",
      "svd.compute(k=k, min_values=10, pre_normalize=None, mean_center=True, post_normalize=True)"
     ],
     "language": "python",
     "metadata": {},
     "outputs": []
    },
    {
     "cell_type": "markdown",
     "metadata": {},
     "source": [
      "you can also save the output SVD model (in a zip file)"
     ]
    },
    {
     "cell_type": "code",
     "collapsed": false,
     "input": [
      "# svd.compute(k=k, min_values=10, pre_normalize=None, mean_center=True, post_normalize=True, savefile='/tmp/movielens')"
     ],
     "language": "python",
     "metadata": {},
     "outputs": []
    },
    {
     "cell_type": "markdown",
     "metadata": {},
     "source": [
      "Reload a saved model:"
     ]
    },
    {
     "cell_type": "code",
     "collapsed": false,
     "input": [
      "# svd2 = SVD(filename='/tmp/movielens')"
     ],
     "language": "python",
     "metadata": {},
     "outputs": []
    },
    {
     "cell_type": "markdown",
     "metadata": {},
     "source": [
      "Find the ITEMID number for \"Toy Story (1995)\""
     ]
    },
    {
     "cell_type": "code",
     "collapsed": false,
     "input": [
      "movies[movies.Title == \"Toy Story (1995)\"]"
     ],
     "language": "python",
     "metadata": {},
     "outputs": []
    },
    {
     "cell_type": "markdown",
     "metadata": {},
     "source": [
      "Find the ITEMID number for \"Bug's Life, A (1998)\""
     ]
    },
    {
     "cell_type": "code",
     "collapsed": false,
     "input": [
      "movies[movies.Title == \"Bug's Life, A (1998)\"]"
     ],
     "language": "python",
     "metadata": {},
     "outputs": []
    },
    {
     "cell_type": "markdown",
     "metadata": {},
     "source": [
      "Compute similarity between the two movies"
     ]
    },
    {
     "cell_type": "code",
     "collapsed": false,
     "input": [
      "ITEMID1 = 1    # Toy Story (1995)\n",
      "ITEMID2 = 2355 # A bug's life (1998)\n",
      "print svd.similarity(ITEMID1, ITEMID2)\n",
      "# print svd2.similarity(ITEMID1, ITEMID2) to check"
     ],
     "language": "python",
     "metadata": {},
     "outputs": []
    },
    {
     "cell_type": "markdown",
     "metadata": {},
     "source": [
      "Get movies similar to Toy Story"
     ]
    },
    {
     "cell_type": "code",
     "collapsed": false,
     "input": [
      "svd.similar(ITEMID1)"
     ],
     "language": "python",
     "metadata": {},
     "outputs": []
    },
    {
     "cell_type": "markdown",
     "metadata": {},
     "source": [
      "Predict rating for a given user and movie, $\\hat{r}_{ui}$"
     ]
    },
    {
     "cell_type": "code",
     "collapsed": false,
     "input": [
      "MIN_RATING = 0.0\n",
      "MAX_RATING = 5.0\n",
      "ITEMID = 1\n",
      "USERID = 1\n",
      "svd.predict(ITEMID, USERID, MIN_RATING, MAX_RATING)"
     ],
     "language": "python",
     "metadata": {},
     "outputs": []
    },
    {
     "cell_type": "code",
     "collapsed": false,
     "input": [
      "svd.get_matrix().value(ITEMID, USERID)"
     ],
     "language": "python",
     "metadata": {},
     "outputs": []
    },
    {
     "cell_type": "markdown",
     "metadata": {},
     "source": [
      "Recommend non rated movies to a user"
     ]
    },
    {
     "cell_type": "code",
     "collapsed": false,
     "input": [
      "svd.recommend(USERID, is_row=False)"
     ],
     "language": "python",
     "metadata": {},
     "outputs": []
    },
    {
     "cell_type": "markdown",
     "metadata": {},
     "source": [
      "Which users should see Toy Story? (e.g. which users -that have not rated Toy Story- would give it a high rating?)"
     ]
    },
    {
     "cell_type": "code",
     "collapsed": false,
     "input": [
      "svd.recommend(ITEMID)"
     ],
     "language": "python",
     "metadata": {},
     "outputs": []
    },
    {
     "cell_type": "markdown",
     "metadata": {},
     "source": [
      "Find out more here: [https://github.com/ocelma/python-recsys](https://github.com/ocelma/python-recsys)"
     ]
    }
   ],
   "metadata": {}
  }
 ]
}