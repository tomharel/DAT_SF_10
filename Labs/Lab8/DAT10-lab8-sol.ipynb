{
 "metadata": {
  "name": "",
  "signature": "sha256:c05d1aa087fa0f76a844d83e94ad6398a642c8cf80dbbcca52f51423de8b1864"
 },
 "nbformat": 3,
 "nbformat_minor": 0,
 "worksheets": [
  {
   "cells": [
    {
     "cell_type": "markdown",
     "metadata": {},
     "source": [
      "# GA Data Science (DAT10) - Lab8\n",
      "\n",
      "## K-Means Clustering\n"
     ]
    },
    {
     "cell_type": "markdown",
     "metadata": {},
     "source": [
      "### Create Random Data Set"
     ]
    },
    {
     "cell_type": "markdown",
     "metadata": {},
     "source": [
      "Assignment: generate a series of 80 data points in 2 dimensions (x,y) with the following properties:\n",
      "\n",
      "- there should be 4 clusters of points\n",
      "- each cluster should be formed by points whose coordinates come from a 2D gaussian\n",
      "- the 2D gaussians should have the following centers:\n",
      "- [1,1] , [1,3], [3,1], [3,3]\n",
      "- they should have variance of 0.1, and 0 covariance"
     ]
    },
    {
     "cell_type": "markdown",
     "metadata": {},
     "source": [
      "np.random.multivariate takes 3 parameters:\n",
      "- mean\n",
      "- covariance\n",
      "- number of samples"
     ]
    },
    {
     "cell_type": "code",
     "collapsed": false,
     "input": [
      "import numpy as np\n",
      "import matplotlib.pyplot as plt\n",
      "%matplotlib inline"
     ],
     "language": "python",
     "metadata": {},
     "outputs": [],
     "prompt_number": 2
    },
    {
     "cell_type": "code",
     "collapsed": false,
     "input": [
      "data = np.vstack([np.random.multivariate_normal([1,1],[[.1,0],[0,.1]],20),\n",
      "                 np.random.multivariate_normal([1,3],[[.1,0],[0,.1]],20),\n",
      "                 np.random.multivariate_normal([3,1],[[.1,0],[0,.1]],20),\n",
      "                 np.random.multivariate_normal([3,3],[[.1,0],[0,.1]],20)])"
     ],
     "language": "python",
     "metadata": {},
     "outputs": [],
     "prompt_number": 3
    },
    {
     "cell_type": "code",
     "collapsed": false,
     "input": [
      "data[:10,:]"
     ],
     "language": "python",
     "metadata": {},
     "outputs": [
      {
       "metadata": {},
       "output_type": "pyout",
       "prompt_number": 4,
       "text": [
        "array([[ 0.64426868,  1.52766495],\n",
        "       [ 0.88857035,  1.11581513],\n",
        "       [ 1.46293514,  1.40630545],\n",
        "       [ 0.77242074,  0.72103706],\n",
        "       [ 1.20548479,  1.25911916],\n",
        "       [ 0.99644873,  0.88031304],\n",
        "       [ 0.69050952,  1.10149407],\n",
        "       [ 1.21920337,  1.07143631],\n",
        "       [ 0.81241168,  1.24637951],\n",
        "       [ 0.98442306,  1.01052494]])"
       ]
      }
     ],
     "prompt_number": 4
    },
    {
     "cell_type": "markdown",
     "metadata": {},
     "source": [
      "Plot the points"
     ]
    },
    {
     "cell_type": "code",
     "collapsed": false,
     "input": [
      "plt.scatter(data[:,0], data[:,1])\n",
      "plt.title('4 clusters ?')\n",
      "plt.show()"
     ],
     "language": "python",
     "metadata": {},
     "outputs": [
      {
       "metadata": {},
       "output_type": "display_data",
       "png": "[encoded data removed]",
       "text": [
        "<matplotlib.figure.Figure at 0x106868d10>"
       ]
      }
     ],
     "prompt_number": 5
    },
    {
     "cell_type": "markdown",
     "metadata": {},
     "source": [
      "###Load the KMeans Class from sklearn.cluster"
     ]
    },
    {
     "cell_type": "code",
     "collapsed": false,
     "input": [
      "from sklearn.cluster import KMeans"
     ],
     "language": "python",
     "metadata": {},
     "outputs": [],
     "prompt_number": 6
    },
    {
     "cell_type": "markdown",
     "metadata": {},
     "source": [
      "Initialize a KMeans classifier with 4 cluster, random initialization, random_state=1, 1 initial centroid seed and maximum number of iterations equal to 1"
     ]
    },
    {
     "cell_type": "code",
     "collapsed": false,
     "input": [
      "km = KMeans(n_clusters=4,  init='random', n_init=1 , max_iter = 1, random_state=1)"
     ],
     "language": "python",
     "metadata": {},
     "outputs": [],
     "prompt_number": 7
    },
    {
     "cell_type": "markdown",
     "metadata": {},
     "source": [
      "Train the classifier on all the data"
     ]
    },
    {
     "cell_type": "code",
     "collapsed": false,
     "input": [
      "km.fit(data)"
     ],
     "language": "python",
     "metadata": {},
     "outputs": [
      {
       "metadata": {},
       "output_type": "pyout",
       "prompt_number": 8,
       "text": [
        "KMeans(copy_x=True, init='random', max_iter=1, n_clusters=4, n_init=1,\n",
        "    n_jobs=1, precompute_distances=True, random_state=1, tol=0.0001,\n",
        "    verbose=0)"
       ]
      }
     ],
     "prompt_number": 8
    },
    {
     "cell_type": "markdown",
     "metadata": {},
     "source": [
      "Extract the coordinates of the cluster centers"
     ]
    },
    {
     "cell_type": "code",
     "collapsed": false,
     "input": [
      "centroids = km.cluster_centers_\n",
      "centroids"
     ],
     "language": "python",
     "metadata": {},
     "outputs": [
      {
       "metadata": {},
       "output_type": "pyout",
       "prompt_number": 9,
       "text": [
        "array([[ 2.40734579,  1.11785587],\n",
        "       [ 1.50992879,  3.0960062 ],\n",
        "       [ 0.87414764,  2.35278143],\n",
        "       [ 3.09849518,  3.04581862]])"
       ]
      }
     ],
     "prompt_number": 9
    },
    {
     "cell_type": "markdown",
     "metadata": {},
     "source": [
      "Predict the clusters for each data point"
     ]
    },
    {
     "cell_type": "code",
     "collapsed": false,
     "input": [
      "y = km.predict(data)\n",
      "print y"
     ],
     "language": "python",
     "metadata": {},
     "outputs": [
      {
       "output_type": "stream",
       "stream": "stdout",
       "text": [
        "[2 2 0 2 2 0 2 0 2 2 0 0 0 2 2 2 2 0 2 2 2 1 2 1 1 1 1 1 1 2 2 1 1 1 1 2 1\n",
        " 1 2 1 0 0 0 0 0 0 0 0 0 0 0 0 0 0 0 0 0 0 0 0 3 3 3 3 3 3 3 3 3 3 3 3 3 3\n",
        " 3 3 3 3 3 3]\n"
       ]
      }
     ],
     "prompt_number": 10
    },
    {
     "cell_type": "markdown",
     "metadata": {},
     "source": [
      "Plot the points with a different color for each cluster. Plot also the centroids in Red"
     ]
    },
    {
     "cell_type": "code",
     "collapsed": false,
     "input": [
      "fig, ax = plt.subplots(1,1, figsize=(8,8))\n",
      "for t,marker,c in zip(xrange(4),\">ox+\",\"rgby\") :\n",
      "    ax.scatter(data[y == t,0],\n",
      "                data[y == t,1],\n",
      "                marker=marker,\n",
      "                c=c)\n",
      "\n",
      "ax.scatter(centroids[:,0],centroids[:,1],marker = 's',c='r')"
     ],
     "language": "python",
     "metadata": {},
     "outputs": [
      {
       "metadata": {},
       "output_type": "pyout",
       "prompt_number": 11,
       "text": [
        "<matplotlib.collections.PathCollection at 0x1068cbd90>"
       ]
      },
      {
       "metadata": {},
       "output_type": "display_data",
       "png": "[encoded data removed]",
       "text": [
        "<matplotlib.figure.Figure at 0x10868ecd0>"
       ]
      }
     ],
     "prompt_number": 11
    },
    {
     "cell_type": "markdown",
     "metadata": {},
     "source": [
      "#### Discussion: what do you see?"
     ]
    },
    {
     "cell_type": "markdown",
     "metadata": {},
     "source": [
      "Let's try with better parameters. Initialize a KMeans classifier with 4 clusters, improved initialization, 10 initial centroid seeds and maximum number of iterations equal to 300."
     ]
    },
    {
     "cell_type": "code",
     "collapsed": false,
     "input": [
      "km = KMeans(n_clusters=4, init='k-means++', n_init=10 , max_iter = 300, random_state=1)"
     ],
     "language": "python",
     "metadata": {},
     "outputs": [],
     "prompt_number": 12
    },
    {
     "cell_type": "markdown",
     "metadata": {},
     "source": [
      "Condense the steps above in a handy function that receives the data and the classifier as input parameters and returns the figure. Make sure you are aware of the number of clusters"
     ]
    },
    {
     "cell_type": "code",
     "collapsed": false,
     "input": [
      "def do_kmeans_4(km, data):\n",
      "    km.fit(data)\n",
      "    centroids = km.cluster_centers_\n",
      "    print \"centroids:\", centroids\n",
      "    y = km.predict(data)\n",
      "    \n",
      "    \n",
      "    fig, ax = plt.subplots(1,1, figsize=(8,8))\n",
      "    for t,marker,c in zip(xrange(4),\">ox+\",\"rgby\") :\n",
      "        ax.scatter(data[y == t,0],\n",
      "                   data[y == t,1],\n",
      "                   marker=marker,\n",
      "                   c=c)\n",
      "\n",
      "    ax.scatter(centroids[:,0],centroids[:,1],marker = 's',c='r')"
     ],
     "language": "python",
     "metadata": {},
     "outputs": [],
     "prompt_number": 13
    },
    {
     "cell_type": "code",
     "collapsed": false,
     "input": [
      "do_kmeans_4(km, data)"
     ],
     "language": "python",
     "metadata": {},
     "outputs": [
      {
       "output_type": "stream",
       "stream": "stdout",
       "text": [
        "centroids: [[ 0.9693108   3.03110026]\n",
        " [ 2.99114878  1.04361177]\n",
        " [ 3.07668413  2.96587706]\n",
        " [ 0.97805478  1.09271167]]\n"
       ]
      },
      {
       "metadata": {},
       "output_type": "display_data",
       "png": "[encoded data removed]",
       "text": [
        "<matplotlib.figure.Figure at 0x104ada690>"
       ]
      }
     ],
     "prompt_number": 14
    },
    {
     "cell_type": "markdown",
     "metadata": {},
     "source": [
      "### Blurred boundaries"
     ]
    },
    {
     "cell_type": "markdown",
     "metadata": {},
     "source": [
      "Generate new datapoints that have a bigger variance of 0.5, around the same centroids"
     ]
    },
    {
     "cell_type": "code",
     "collapsed": false,
     "input": [
      "data1 = np.vstack([np.random.multivariate_normal([1,1],[[.5,0],[0,.5]],20),\n",
      "                 np.random.multivariate_normal([1,3],[[.5,0],[0,.5]],20),\n",
      "                 np.random.multivariate_normal([3,1],[[.5,0],[0,.5]],20),\n",
      "                 np.random.multivariate_normal([3,3],[[.5,0],[0,.5]],20)])\n",
      "plt.scatter(data1[:,0], data1[:,1])"
     ],
     "language": "python",
     "metadata": {},
     "outputs": [
      {
       "metadata": {},
       "output_type": "pyout",
       "prompt_number": 15,
       "text": [
        "<matplotlib.collections.PathCollection at 0x1089f3990>"
       ]
      },
      {
       "metadata": {},
       "output_type": "display_data",
       "png": "[encoded data removed]",
       "text": [
        "<matplotlib.figure.Figure at 0x1068f9850>"
       ]
      }
     ],
     "prompt_number": 15
    },
    {
     "cell_type": "markdown",
     "metadata": {},
     "source": [
      "Initialize a new kmeans classifier"
     ]
    },
    {
     "cell_type": "code",
     "collapsed": false,
     "input": [
      "km = KMeans(n_clusters=4, random_state=1)"
     ],
     "language": "python",
     "metadata": {},
     "outputs": [],
     "prompt_number": 16
    },
    {
     "cell_type": "markdown",
     "metadata": {},
     "source": [
      "Use the previously defined function to fit and plot the new data"
     ]
    },
    {
     "cell_type": "code",
     "collapsed": false,
     "input": [
      "do_kmeans_4(km, data1)"
     ],
     "language": "python",
     "metadata": {},
     "outputs": [
      {
       "output_type": "stream",
       "stream": "stdout",
       "text": [
        "centroids: [[ 2.85349775  2.81688426]\n",
        " [ 0.73721932  0.70876161]\n",
        " [ 0.69184711  3.01879606]\n",
        " [ 2.91246472  0.64056448]]\n"
       ]
      },
      {
       "metadata": {},
       "output_type": "display_data",
       "png": "[encoded data removed]",
       "text": [
        "<matplotlib.figure.Figure at 0x1086b7510>"
       ]
      }
     ],
     "prompt_number": 17
    },
    {
     "cell_type": "markdown",
     "metadata": {},
     "source": [
      "Repeat the above with 150 points per cluster"
     ]
    },
    {
     "cell_type": "code",
     "collapsed": false,
     "input": [
      "data1 = np.vstack([np.random.multivariate_normal([1,1],[[.5,0],[0,.5]],150),\n",
      "                 np.random.multivariate_normal([1,3],[[.5,0],[0,.5]],150),\n",
      "                 np.random.multivariate_normal([3,1],[[.5,0],[0,.5]],150),\n",
      "                 np.random.multivariate_normal([3,3],[[.5,0],[0,.5]],150)])\n",
      "plt.scatter(data1[:,0], data1[:,1])"
     ],
     "language": "python",
     "metadata": {},
     "outputs": [
      {
       "metadata": {},
       "output_type": "pyout",
       "prompt_number": 18,
       "text": [
        "<matplotlib.collections.PathCollection at 0x108da0fd0>"
       ]
      },
      {
       "metadata": {},
       "output_type": "display_data",
       "png": "[encoded data removed]",
       "text": [
        "<matplotlib.figure.Figure at 0x108c09810>"
       ]
      }
     ],
     "prompt_number": 18
    },
    {
     "cell_type": "code",
     "collapsed": false,
     "input": [
      "do_kmeans_4(km, data1)"
     ],
     "language": "python",
     "metadata": {},
     "outputs": [
      {
       "output_type": "stream",
       "stream": "stdout",
       "text": [
        "centroids: [[ 3.13671967  3.0337167 ]\n",
        " [ 1.0602662   0.78621887]\n",
        " [ 0.99337057  2.85768673]\n",
        " [ 3.0759251   1.04759684]]\n"
       ]
      },
      {
       "metadata": {},
       "output_type": "display_data",
       "png": "[encoded data removed]",
       "text": [
        "<matplotlib.figure.Figure at 0x108a4c690>"
       ]
      }
     ],
     "prompt_number": 19
    },
    {
     "cell_type": "markdown",
     "metadata": {},
     "source": [
      "#### Discussion: what do you see?"
     ]
    },
    {
     "cell_type": "markdown",
     "metadata": {},
     "source": [
      "### Multiple scales"
     ]
    },
    {
     "cell_type": "markdown",
     "metadata": {},
     "source": [
      "Let's change the mean and the variance of one of the cluster. Set the mean to [100,100] and the variance to [[20,0],[0,50]]. Generate 20 points"
     ]
    },
    {
     "cell_type": "code",
     "collapsed": false,
     "input": [
      "data2 = np.vstack([np.random.multivariate_normal([1,1],[[.3,0],[0,.3]],20),\n",
      "                 np.random.multivariate_normal([1,3],[[.3,0],[0,.3]],20),\n",
      "                 np.random.multivariate_normal([3,1],[[.3,0],[0,.3]],20),\n",
      "                 np.random.multivariate_normal([100,100],[[20,0],[0,50]],20)])\n",
      "plt.scatter(data2[:,0], data2[:,1])"
     ],
     "language": "python",
     "metadata": {},
     "outputs": [
      {
       "metadata": {},
       "output_type": "pyout",
       "prompt_number": 20,
       "text": [
        "<matplotlib.collections.PathCollection at 0x1092bbf50>"
       ]
      },
      {
       "metadata": {},
       "output_type": "display_data",
       "png": "[encoded data removed]",
       "text": [
        "<matplotlib.figure.Figure at 0x108dc55d0>"
       ]
      }
     ],
     "prompt_number": 20
    },
    {
     "cell_type": "markdown",
     "metadata": {},
     "source": [
      "#### Discussion: what do you expect to happen now?"
     ]
    },
    {
     "cell_type": "code",
     "collapsed": false,
     "input": [
      "do_kmeans_4(km, data2)"
     ],
     "language": "python",
     "metadata": {},
     "outputs": [
      {
       "output_type": "stream",
       "stream": "stdout",
       "text": [
        "centroids: [[  96.1669644   103.55217219]\n",
        " [   1.55693483    1.68106495]\n",
        " [ 101.195828     94.59262599]\n",
        " [ 101.267857    110.03772142]]\n"
       ]
      },
      {
       "metadata": {},
       "output_type": "display_data",
       "png": "[encoded data removed]",
       "text": [
        "<matplotlib.figure.Figure at 0x108fd5b10>"
       ]
      }
     ],
     "prompt_number": 21
    },
    {
     "cell_type": "markdown",
     "metadata": {},
     "source": [
      "#### Discussion: what to do now?"
     ]
    },
    {
     "cell_type": "markdown",
     "metadata": {},
     "source": [
      "## Let's find clusters in the Iris Dataset"
     ]
    },
    {
     "cell_type": "markdown",
     "metadata": {},
     "source": [
      "Import the data from the iris dataset in sklearn, generate X and y arrays"
     ]
    },
    {
     "cell_type": "code",
     "collapsed": false,
     "input": [
      "from sklearn import datasets\n",
      "\n",
      "iris = datasets.load_iris()\n",
      "\n",
      "X = iris['data']\n",
      "Names = iris['feature_names']\n",
      "target_names = iris['target_names']\n",
      "y = iris['target']"
     ],
     "language": "python",
     "metadata": {},
     "outputs": [],
     "prompt_number": 22
    },
    {
     "cell_type": "markdown",
     "metadata": {},
     "source": [
      "Display the features names"
     ]
    },
    {
     "cell_type": "code",
     "collapsed": false,
     "input": [
      "Names"
     ],
     "language": "python",
     "metadata": {},
     "outputs": [
      {
       "metadata": {},
       "output_type": "pyout",
       "prompt_number": 23,
       "text": [
        "['sepal length (cm)',\n",
        " 'sepal width (cm)',\n",
        " 'petal length (cm)',\n",
        " 'petal width (cm)']"
       ]
      }
     ],
     "prompt_number": 23
    },
    {
     "cell_type": "markdown",
     "metadata": {},
     "source": [
      "Plot the Sepal width versus Petal Width with colors according to species"
     ]
    },
    {
     "cell_type": "code",
     "collapsed": false,
     "input": [
      "fig, ax = plt.subplots(1,1, figsize=(8,8))\n",
      "for t,marker,c,n in zip(xrange(3),\">ox\",\"rgb\",target_names):\n",
      "    ax.scatter(X[y == t,1],\n",
      "               X[y == t,3],\n",
      "               marker=marker,\n",
      "               c=c,\n",
      "               label=n)\n",
      "\n",
      "plt.xlabel('Sepal width (cm)')\n",
      "plt.ylabel('Sepal width (cm)')\n",
      "plt.title('Sepal width (cm) VS Petal width (cm)')\n",
      "plt.legend(loc='best')\n",
      "plt.show()"
     ],
     "language": "python",
     "metadata": {},
     "outputs": [
      {
       "metadata": {},
       "output_type": "display_data",
       "png": "[encoded data removed]",
       "text": [
        "<matplotlib.figure.Figure at 0x109321e50>"
       ]
      }
     ],
     "prompt_number": 24
    },
    {
     "cell_type": "markdown",
     "metadata": {},
     "source": [
      "### Exercise 1: Implement Kmeans on Iris Data Set\n",
      "\n",
      "### Using 3 clusters, fit and and predict using Kmeans"
     ]
    },
    {
     "cell_type": "code",
     "collapsed": false,
     "input": [
      "km = KMeans(n_clusters=3, random_state=1)\n",
      "km.fit(X)\n",
      "centroids = km.cluster_centers_\n",
      "yy = km.predict(X)"
     ],
     "language": "python",
     "metadata": {},
     "outputs": [],
     "prompt_number": 29
    },
    {
     "cell_type": "markdown",
     "metadata": {},
     "source": [
      "### Exercise 2: Plot Results\n",
      "#### Here's code for plotting the true clusters as the first of two subplots.  "
     ]
    },
    {
     "cell_type": "code",
     "collapsed": false,
     "input": [
      "centroids"
     ],
     "language": "python",
     "metadata": {},
     "outputs": [
      {
       "metadata": {},
       "output_type": "pyout",
       "prompt_number": 43,
       "text": [
        "array([[ 5.9016129 ,  2.7483871 ,  4.39354839,  1.43387097],\n",
        "       [ 5.006     ,  3.418     ,  1.464     ,  0.244     ],\n",
        "       [ 6.85      ,  3.07368421,  5.74210526,  2.07105263]])"
       ]
      }
     ],
     "prompt_number": 43
    },
    {
     "cell_type": "code",
     "collapsed": false,
     "input": [
      "fig, (ax1, ax2) = plt.subplots( 1,2, figsize=(10,6), sharex=True, sharey=True)\n",
      "\n",
      "## first the true clusters\n",
      "for t,marker,c,n in zip(xrange(3),\">ox\",\"rgb\",target_names):\n",
      "    ax1.scatter(X[y == t,1],\n",
      "               X[y == t,3],\n",
      "               marker=marker,\n",
      "               c=c,\n",
      "               label=n)\n",
      "\n",
      "ax1.set_xlabel('Sepal width (cm)')\n",
      "ax1.set_ylabel('Sepal width (cm)')\n",
      "ax1.set_title('Sepal width (cm) VS Petal width (cm)')\n",
      "ax1.legend(loc='best')\n",
      "for t,marker,c,n in zip(xrange(3),\">ox\",\"rgb\",np.unique(km.labels_)):\n",
      "    ax2.scatter(X[yy == t,1],\n",
      "               X[yy == t,3],\n",
      "               marker=marker,\n",
      "               c=c)\n",
      "\n",
      "ax2.scatter(centroids[:,1],centroids[:,3],marker = 's',c='r', label='centroids')\n",
      "    \n",
      "ax2.set_xlabel('Sepal width (cm)')\n",
      "ax2.set_ylabel('Petal width (cm)')\n",
      "ax2.set_title('Sepal width (cm) VS Petal width (cm)')\n",
      "ax2.legend(loc='best')\n",
      "plt.show()"
     ],
     "language": "python",
     "metadata": {},
     "outputs": [
      {
       "metadata": {},
       "output_type": "display_data",
       "png": "[encoded data removed]",
       "text": [
        "<matplotlib.figure.Figure at 0x10a80fd50>"
       ]
      }
     ],
     "prompt_number": 46
    },
    {
     "cell_type": "markdown",
     "metadata": {},
     "source": [
      "#### Add code to plot the results from the Kmeans as second subplot \n",
      "#### (Hint: Code is very similar to first plot, use ax2 as name of second plot and add code for plotting centroids)"
     ]
    },
    {
     "cell_type": "code",
     "collapsed": false,
     "input": [],
     "language": "python",
     "metadata": {},
     "outputs": [],
     "prompt_number": 36
    },
    {
     "cell_type": "markdown",
     "metadata": {},
     "source": [
      "#### After adding code for subplot run the code below to view the results.\n",
      "#### How well does Kmeans perform?\n",
      "#### What are the pros and cons of unsupervised learning?"
     ]
    },
    {
     "cell_type": "code",
     "collapsed": false,
     "input": [
      "plt.show()"
     ],
     "language": "python",
     "metadata": {},
     "outputs": []
    },
    {
     "cell_type": "markdown",
     "metadata": {},
     "source": [
      "### Silhouette score"
     ]
    },
    {
     "cell_type": "code",
     "collapsed": false,
     "input": [
      "from sklearn import metrics\n",
      "from sklearn.metrics import pairwise_distances\n",
      "\n",
      "km = KMeans(n_clusters=3, random_state=1)\n",
      "km.fit(X)\n",
      "labels = km.labels_\n",
      "metrics.silhouette_score(X, labels, metric='euclidean')"
     ],
     "language": "python",
     "metadata": {},
     "outputs": [
      {
       "metadata": {},
       "output_type": "pyout",
       "prompt_number": 38,
       "text": [
        "0.5525919445213674"
       ]
      }
     ],
     "prompt_number": 38
    },
    {
     "cell_type": "markdown",
     "metadata": {},
     "source": [
      "calculate the Silhouette score for different values of k"
     ]
    },
    {
     "cell_type": "code",
     "collapsed": false,
     "input": [
      "for k in xrange(2,8):\n",
      "    km = KMeans(n_clusters=k, random_state=1)\n",
      "    km.fit(X)\n",
      "    labels = km.labels_\n",
      "    print k, metrics.silhouette_score(X, labels, metric='euclidean')\n",
      "    "
     ],
     "language": "python",
     "metadata": {},
     "outputs": [
      {
       "output_type": "stream",
       "stream": "stdout",
       "text": [
        "2 0.680813620271\n",
        "3 "
       ]
      },
      {
       "output_type": "stream",
       "stream": "stdout",
       "text": [
        "0.552591944521\n",
        "4 "
       ]
      },
      {
       "output_type": "stream",
       "stream": "stdout",
       "text": [
        "0.49722797263\n",
        "5 "
       ]
      },
      {
       "output_type": "stream",
       "stream": "stdout",
       "text": [
        "0.488517550854\n",
        "6 "
       ]
      },
      {
       "output_type": "stream",
       "stream": "stdout",
       "text": [
        "0.371218050256\n",
        "7 "
       ]
      },
      {
       "output_type": "stream",
       "stream": "stdout",
       "text": [
        "0.353677304626\n"
       ]
      }
     ],
     "prompt_number": 39
    },
    {
     "cell_type": "code",
     "collapsed": false,
     "input": [],
     "language": "python",
     "metadata": {},
     "outputs": []
    }
   ],
   "metadata": {}
  }
 ]
}