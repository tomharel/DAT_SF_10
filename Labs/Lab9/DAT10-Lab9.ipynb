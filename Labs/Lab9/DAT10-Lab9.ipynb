{
 "metadata": {
  "name": "",
<<<<<<< HEAD
  "signature": "sha256:69b5f9dfacddddef979237fa80bc7f06206a35709fece55f676070a6829125ac"
=======
  "signature": "sha256:738663386f512fc38d691972c7f6fdd334e48a29f83fa4ef01d089f99bb75476"
>>>>>>> 62187afd24ce7a38d531a1afcd317077332439a7
 },
 "nbformat": 3,
 "nbformat_minor": 0,
 "worksheets": [
  {
   "cells": [
    {
     "cell_type": "markdown",
     "metadata": {},
     "source": [
      "## DAT10-Lab09\n",
      "## Logistic Regression Classification"
     ]
    },
    {
     "cell_type": "markdown",
     "metadata": {},
     "source": [
      "Import the usual packages"
     ]
    },
    {
     "cell_type": "code",
     "collapsed": false,
     "input": [
      "import numpy as np\n",
      "import pandas as pd\n",
      "import matplotlib.pyplot as plt\n",
      "\n",
      "%matplotlib inline"
     ],
     "language": "python",
     "metadata": {},
     "outputs": [],
     "prompt_number": 1
    },
    {
     "cell_type": "markdown",
     "metadata": {},
     "source": [
      "Here are a couple pandas settings to make viewing the data a little easier"
     ]
    },
    {
     "cell_type": "code",
     "collapsed": false,
     "input": [
      "pd.set_option('display.max_rows',100)\n",
      "pd.set_option('display.max_columns',60)"
     ],
     "language": "python",
     "metadata": {},
     "outputs": [],
     "prompt_number": 2
    },
    {
     "cell_type": "markdown",
     "metadata": {},
     "source": [
      "#### Load the Iris Data Set"
     ]
    },
    {
     "cell_type": "code",
     "collapsed": false,
     "input": [
      "from sklearn import datasets\n",
      "\n",
      "iris = datasets.load_iris()\n",
      "features = iris.data\n",
      "target = iris.target\n",
      "Names = iris.target_names"
     ],
     "language": "python",
     "metadata": {},
     "outputs": [],
     "prompt_number": 3
    },
    {
     "cell_type": "markdown",
     "metadata": {},
     "source": [
      "#### Logistic Regression is a binary classifier so we'll just use two classes of the data set"
     ]
    },
    {
     "cell_type": "code",
     "collapsed": false,
     "input": [
      "features = features[target!=0]\n",
      "target = target[target!=0]"
     ],
     "language": "python",
     "metadata": {},
     "outputs": [],
     "prompt_number": 4
    },
    {
     "cell_type": "markdown",
     "metadata": {},
     "source": [
      "#### Use the cross_validation function from Lab 4"
     ]
    },
    {
     "cell_type": "code",
     "collapsed": false,
     "input": [
      "from sklearn.cross_validation import KFold\n",
      "\n",
      "def cross_validate(X, y, classifier, k_fold) :\n",
      "\n",
      "    # derive a set of (random) training and testing indices\n",
      "    k_fold_indices = KFold(len(X), n_folds=k_fold,\n",
      "                           shuffle=True, random_state=0)\n",
      "\n",
      "    k_score_total = 0\n",
      "    # for each training and testing slices run the classifier, and score the results\n",
      "    for train_slice, test_slice in k_fold_indices :\n",
      "\n",
      "        model = classifier(X[ train_slice  ],\n",
      "                         y[ train_slice  ])\n",
      "\n",
      "        k_score = model.score(X[ test_slice ],\n",
      "                              y[ test_slice ])\n",
      "\n",
      "        k_score_total += k_score\n",
      "\n",
      "    # return the average accuracy\n",
      "    return k_score_total/k_fold"
     ],
     "language": "python",
     "metadata": {},
     "outputs": [],
     "prompt_number": 5
    },
    {
     "cell_type": "markdown",
     "metadata": {},
     "source": [
      "#### Create an instance of a Logistic Regression model and apply cross-validation\n",
      "#### (Note: C parameter is for regularization)"
     ]
    },
    {
     "cell_type": "code",
     "collapsed": false,
     "input": [
      "from sklearn.linear_model import LogisticRegression\n",
      "\n",
      "model_lr = LogisticRegression(C=1).fit"
     ],
     "language": "python",
     "metadata": {},
     "outputs": [],
     "prompt_number": 6
    },
    {
     "cell_type": "code",
     "collapsed": false,
     "input": [
      "cross_validate(features, target, model_lr, 10)"
     ],
     "language": "python",
     "metadata": {},
     "outputs": [
      {
       "metadata": {},
       "output_type": "pyout",
<<<<<<< HEAD
       "prompt_number": 8,
=======
       "prompt_number": 7,
>>>>>>> 62187afd24ce7a38d531a1afcd317077332439a7
       "text": [
        "0.96000000000000019"
       ]
      }
     ],
<<<<<<< HEAD
     "prompt_number": 8
=======
     "prompt_number": 7
>>>>>>> 62187afd24ce7a38d531a1afcd317077332439a7
    },
    {
     "cell_type": "markdown",
     "metadata": {},
     "source": [
      "### Review the feature importance\n"
     ]
    },
    {
     "cell_type": "code",
     "collapsed": false,
     "input": [
      "feature_names = ['sepal length', 'sepal width', 'petal length', 'petal width']\n",
      "model_lr = LogisticRegression(C=1).fit(features, target)\n",
      "\n",
      "x = np.arange(len(feature_names))\n"
     ],
     "language": "python",
     "metadata": {},
     "outputs": [],
<<<<<<< HEAD
     "prompt_number": 9
=======
     "prompt_number": 8
>>>>>>> 62187afd24ce7a38d531a1afcd317077332439a7
    },
    {
     "cell_type": "code",
     "collapsed": false,
     "input": [
      "plt.bar(x, model_lr.coef_.ravel())\n",
      "_ = plt.xticks(x + 0.5, feature_names, rotation=30)\n"
     ],
     "language": "python",
     "metadata": {},
     "outputs": [
      {
       "metadata": {},
       "output_type": "display_data",
       "png": "iVBORw0KGgoAAAANSUhEUgAAAW0AAAEdCAYAAADHIzbjAAAABHNCSVQICAgIfAhkiAAAAAlwSFlz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\n",
       "text": [
        "<matplotlib.figure.Figure at 0x109a10710>"
       ]
      }
     ],
     "prompt_number": 9
    },
    {
     "cell_type": "markdown",
     "metadata": {},
     "source": [
      "### Exercise 1: Build Logistic Regression Classifier for Spambase Data"
     ]
    },
    {
     "cell_type": "markdown",
     "metadata": {},
     "source": [
      "#### Load the spambase.csv as a pandas DataFrame (last column of data contains Target Data - is_spam)"
     ]
    },
    {
     "cell_type": "code",
     "collapsed": false,
     "input": [
      "spam_data = pd.read_csv(\"spambase.csv\")\n",
      "spam_data.head()\n",
      "# spam_data.describe()\n",
      "# spam_data.info()"
     ],
     "language": "python",
     "metadata": {},
     "outputs": [
      {
       "html": [
        "<div style=\"max-height:1000px;max-width:1500px;overflow:auto;\">\n",
        "<table border=\"1\" class=\"dataframe\">\n",
        "  <thead>\n",
        "    <tr style=\"text-align: right;\">\n",
        "      <th></th>\n",
        "      <th>word_freq_make</th>\n",
        "      <th>word_freq_address</th>\n",
        "      <th>word_freq_all</th>\n",
        "      <th>word_freq_3d</th>\n",
        "      <th>word_freq_our</th>\n",
        "      <th>word_freq_over</th>\n",
        "      <th>word_freq_remove</th>\n",
        "      <th>word_freq_internet</th>\n",
        "      <th>word_freq_order</th>\n",
        "      <th>word_freq_mail</th>\n",
        "      <th>word_freq_receive</th>\n",
        "      <th>word_freq_will</th>\n",
        "      <th>word_freq_people</th>\n",
        "      <th>word_freq_report</th>\n",
        "      <th>word_freq_addresses</th>\n",
        "      <th>word_freq_free</th>\n",
        "      <th>word_freq_business</th>\n",
        "      <th>word_freq_email</th>\n",
        "      <th>word_freq_you</th>\n",
        "      <th>word_freq_credit</th>\n",
        "      <th>word_freq_your</th>\n",
        "      <th>word_freq_font</th>\n",
        "      <th>word_freq_000</th>\n",
        "      <th>word_freq_money</th>\n",
        "      <th>word_freq_hp</th>\n",
        "      <th>word_freq_hpl</th>\n",
        "      <th>word_freq_george</th>\n",
        "      <th>word_freq_650</th>\n",
        "      <th>word_freq_lab</th>\n",
        "      <th>word_freq_labs</th>\n",
        "      <th>word_freq_telnet</th>\n",
        "      <th>word_freq_857</th>\n",
        "      <th>word_freq_data</th>\n",
        "      <th>word_freq_415</th>\n",
        "      <th>word_freq_85</th>\n",
        "      <th>word_freq_technology</th>\n",
        "      <th>word_freq_1999</th>\n",
        "      <th>word_freq_parts</th>\n",
        "      <th>word_freq_pm</th>\n",
        "      <th>word_freq_direct</th>\n",
        "      <th>word_freq_cs</th>\n",
        "      <th>word_freq_meeting</th>\n",
        "      <th>word_freq_original</th>\n",
        "      <th>word_freq_project</th>\n",
        "      <th>word_freq_re</th>\n",
        "      <th>word_freq_edu</th>\n",
        "      <th>word_freq_table</th>\n",
        "      <th>word_freq_conference</th>\n",
        "      <th>char_freq_;</th>\n",
        "      <th>char_freq_(</th>\n",
        "      <th>char_freq_[</th>\n",
        "      <th>char_freq_!</th>\n",
        "      <th>char_freq_$</th>\n",
        "      <th>char_freq_#</th>\n",
        "      <th>capital_run_length_average</th>\n",
        "      <th>capital_run_length_longest</th>\n",
        "      <th>capital_run_length_total</th>\n",
        "      <th>is_spam</th>\n",
        "    </tr>\n",
        "  </thead>\n",
        "  <tbody>\n",
        "    <tr>\n",
        "      <th>0</th>\n",
        "      <td> 0.00</td>\n",
        "      <td> 0.64</td>\n",
        "      <td> 0.64</td>\n",
        "      <td> 0</td>\n",
        "      <td> 0.32</td>\n",
        "      <td> 0.00</td>\n",
        "      <td> 0.00</td>\n",
        "      <td> 0.00</td>\n",
        "      <td> 0.00</td>\n",
        "      <td> 0.00</td>\n",
        "      <td> 0.00</td>\n",
        "      <td> 0.64</td>\n",
        "      <td> 0.00</td>\n",
        "      <td> 0.00</td>\n",
        "      <td> 0.00</td>\n",
        "      <td> 0.32</td>\n",
        "      <td> 0.00</td>\n",
        "      <td> 1.29</td>\n",
        "      <td> 1.93</td>\n",
        "      <td> 0.00</td>\n",
        "      <td> 0.96</td>\n",
        "      <td> 0</td>\n",
        "      <td> 0.00</td>\n",
        "      <td> 0.00</td>\n",
        "      <td> 0</td>\n",
        "      <td> 0</td>\n",
        "      <td> 0</td>\n",
        "      <td> 0</td>\n",
        "      <td> 0</td>\n",
        "      <td> 0</td>\n",
        "      <td> 0</td>\n",
        "      <td> 0</td>\n",
        "      <td> 0</td>\n",
        "      <td> 0</td>\n",
        "      <td> 0</td>\n",
        "      <td> 0</td>\n",
        "      <td> 0.00</td>\n",
        "      <td> 0</td>\n",
        "      <td> 0</td>\n",
        "      <td> 0.00</td>\n",
        "      <td> 0</td>\n",
        "      <td> 0</td>\n",
        "      <td> 0.00</td>\n",
        "      <td> 0</td>\n",
        "      <td> 0.00</td>\n",
        "      <td> 0.00</td>\n",
        "      <td> 0</td>\n",
        "      <td> 0</td>\n",
        "      <td> 0.00</td>\n",
        "      <td> 0.000</td>\n",
        "      <td> 0</td>\n",
        "      <td> 0.778</td>\n",
        "      <td> 0.000</td>\n",
        "      <td> 0.000</td>\n",
        "      <td> 3.756</td>\n",
        "      <td>  61</td>\n",
        "      <td>  278</td>\n",
        "      <td> 1</td>\n",
        "    </tr>\n",
        "    <tr>\n",
        "      <th>1</th>\n",
        "      <td> 0.21</td>\n",
        "      <td> 0.28</td>\n",
        "      <td> 0.50</td>\n",
        "      <td> 0</td>\n",
        "      <td> 0.14</td>\n",
        "      <td> 0.28</td>\n",
        "      <td> 0.21</td>\n",
        "      <td> 0.07</td>\n",
        "      <td> 0.00</td>\n",
        "      <td> 0.94</td>\n",
        "      <td> 0.21</td>\n",
        "      <td> 0.79</td>\n",
        "      <td> 0.65</td>\n",
        "      <td> 0.21</td>\n",
        "      <td> 0.14</td>\n",
        "      <td> 0.14</td>\n",
        "      <td> 0.07</td>\n",
        "      <td> 0.28</td>\n",
        "      <td> 3.47</td>\n",
        "      <td> 0.00</td>\n",
        "      <td> 1.59</td>\n",
        "      <td> 0</td>\n",
        "      <td> 0.43</td>\n",
        "      <td> 0.43</td>\n",
        "      <td> 0</td>\n",
        "      <td> 0</td>\n",
        "      <td> 0</td>\n",
        "      <td> 0</td>\n",
        "      <td> 0</td>\n",
        "      <td> 0</td>\n",
        "      <td> 0</td>\n",
        "      <td> 0</td>\n",
        "      <td> 0</td>\n",
        "      <td> 0</td>\n",
        "      <td> 0</td>\n",
        "      <td> 0</td>\n",
        "      <td> 0.07</td>\n",
        "      <td> 0</td>\n",
        "      <td> 0</td>\n",
        "      <td> 0.00</td>\n",
        "      <td> 0</td>\n",
        "      <td> 0</td>\n",
        "      <td> 0.00</td>\n",
        "      <td> 0</td>\n",
        "      <td> 0.00</td>\n",
        "      <td> 0.00</td>\n",
        "      <td> 0</td>\n",
        "      <td> 0</td>\n",
        "      <td> 0.00</td>\n",
        "      <td> 0.132</td>\n",
        "      <td> 0</td>\n",
        "      <td> 0.372</td>\n",
        "      <td> 0.180</td>\n",
        "      <td> 0.048</td>\n",
        "      <td> 5.114</td>\n",
        "      <td> 101</td>\n",
        "      <td> 1028</td>\n",
        "      <td> 1</td>\n",
        "    </tr>\n",
        "    <tr>\n",
        "      <th>2</th>\n",
        "      <td> 0.06</td>\n",
        "      <td> 0.00</td>\n",
        "      <td> 0.71</td>\n",
        "      <td> 0</td>\n",
        "      <td> 1.23</td>\n",
        "      <td> 0.19</td>\n",
        "      <td> 0.19</td>\n",
        "      <td> 0.12</td>\n",
        "      <td> 0.64</td>\n",
        "      <td> 0.25</td>\n",
        "      <td> 0.38</td>\n",
        "      <td> 0.45</td>\n",
        "      <td> 0.12</td>\n",
        "      <td> 0.00</td>\n",
        "      <td> 1.75</td>\n",
        "      <td> 0.06</td>\n",
        "      <td> 0.06</td>\n",
        "      <td> 1.03</td>\n",
        "      <td> 1.36</td>\n",
        "      <td> 0.32</td>\n",
        "      <td> 0.51</td>\n",
        "      <td> 0</td>\n",
        "      <td> 1.16</td>\n",
        "      <td> 0.06</td>\n",
        "      <td> 0</td>\n",
        "      <td> 0</td>\n",
        "      <td> 0</td>\n",
        "      <td> 0</td>\n",
        "      <td> 0</td>\n",
        "      <td> 0</td>\n",
        "      <td> 0</td>\n",
        "      <td> 0</td>\n",
        "      <td> 0</td>\n",
        "      <td> 0</td>\n",
        "      <td> 0</td>\n",
        "      <td> 0</td>\n",
        "      <td> 0.00</td>\n",
        "      <td> 0</td>\n",
        "      <td> 0</td>\n",
        "      <td> 0.06</td>\n",
        "      <td> 0</td>\n",
        "      <td> 0</td>\n",
        "      <td> 0.12</td>\n",
        "      <td> 0</td>\n",
        "      <td> 0.06</td>\n",
        "      <td> 0.06</td>\n",
        "      <td> 0</td>\n",
        "      <td> 0</td>\n",
        "      <td> 0.01</td>\n",
        "      <td> 0.143</td>\n",
        "      <td> 0</td>\n",
        "      <td> 0.276</td>\n",
        "      <td> 0.184</td>\n",
        "      <td> 0.010</td>\n",
        "      <td> 9.821</td>\n",
        "      <td> 485</td>\n",
        "      <td> 2259</td>\n",
        "      <td> 1</td>\n",
        "    </tr>\n",
        "    <tr>\n",
        "      <th>3</th>\n",
        "      <td> 0.00</td>\n",
        "      <td> 0.00</td>\n",
        "      <td> 0.00</td>\n",
        "      <td> 0</td>\n",
        "      <td> 0.63</td>\n",
        "      <td> 0.00</td>\n",
        "      <td> 0.31</td>\n",
        "      <td> 0.63</td>\n",
        "      <td> 0.31</td>\n",
        "      <td> 0.63</td>\n",
        "      <td> 0.31</td>\n",
        "      <td> 0.31</td>\n",
        "      <td> 0.31</td>\n",
        "      <td> 0.00</td>\n",
        "      <td> 0.00</td>\n",
        "      <td> 0.31</td>\n",
        "      <td> 0.00</td>\n",
        "      <td> 0.00</td>\n",
        "      <td> 3.18</td>\n",
        "      <td> 0.00</td>\n",
        "      <td> 0.31</td>\n",
        "      <td> 0</td>\n",
        "      <td> 0.00</td>\n",
        "      <td> 0.00</td>\n",
        "      <td> 0</td>\n",
        "      <td> 0</td>\n",
        "      <td> 0</td>\n",
        "      <td> 0</td>\n",
        "      <td> 0</td>\n",
        "      <td> 0</td>\n",
        "      <td> 0</td>\n",
        "      <td> 0</td>\n",
        "      <td> 0</td>\n",
        "      <td> 0</td>\n",
        "      <td> 0</td>\n",
        "      <td> 0</td>\n",
        "      <td> 0.00</td>\n",
        "      <td> 0</td>\n",
        "      <td> 0</td>\n",
        "      <td> 0.00</td>\n",
        "      <td> 0</td>\n",
        "      <td> 0</td>\n",
        "      <td> 0.00</td>\n",
        "      <td> 0</td>\n",
        "      <td> 0.00</td>\n",
        "      <td> 0.00</td>\n",
        "      <td> 0</td>\n",
        "      <td> 0</td>\n",
        "      <td> 0.00</td>\n",
        "      <td> 0.137</td>\n",
        "      <td> 0</td>\n",
        "      <td> 0.137</td>\n",
        "      <td> 0.000</td>\n",
        "      <td> 0.000</td>\n",
        "      <td> 3.537</td>\n",
        "      <td>  40</td>\n",
        "      <td>  191</td>\n",
        "      <td> 1</td>\n",
        "    </tr>\n",
        "    <tr>\n",
        "      <th>4</th>\n",
        "      <td> 0.00</td>\n",
        "      <td> 0.00</td>\n",
        "      <td> 0.00</td>\n",
        "      <td> 0</td>\n",
        "      <td> 0.63</td>\n",
        "      <td> 0.00</td>\n",
        "      <td> 0.31</td>\n",
        "      <td> 0.63</td>\n",
        "      <td> 0.31</td>\n",
        "      <td> 0.63</td>\n",
        "      <td> 0.31</td>\n",
        "      <td> 0.31</td>\n",
        "      <td> 0.31</td>\n",
        "      <td> 0.00</td>\n",
        "      <td> 0.00</td>\n",
        "      <td> 0.31</td>\n",
        "      <td> 0.00</td>\n",
        "      <td> 0.00</td>\n",
        "      <td> 3.18</td>\n",
        "      <td> 0.00</td>\n",
        "      <td> 0.31</td>\n",
        "      <td> 0</td>\n",
        "      <td> 0.00</td>\n",
        "      <td> 0.00</td>\n",
        "      <td> 0</td>\n",
        "      <td> 0</td>\n",
        "      <td> 0</td>\n",
        "      <td> 0</td>\n",
        "      <td> 0</td>\n",
        "      <td> 0</td>\n",
        "      <td> 0</td>\n",
        "      <td> 0</td>\n",
        "      <td> 0</td>\n",
        "      <td> 0</td>\n",
        "      <td> 0</td>\n",
        "      <td> 0</td>\n",
        "      <td> 0.00</td>\n",
        "      <td> 0</td>\n",
        "      <td> 0</td>\n",
        "      <td> 0.00</td>\n",
        "      <td> 0</td>\n",
        "      <td> 0</td>\n",
        "      <td> 0.00</td>\n",
        "      <td> 0</td>\n",
        "      <td> 0.00</td>\n",
        "      <td> 0.00</td>\n",
        "      <td> 0</td>\n",
        "      <td> 0</td>\n",
        "      <td> 0.00</td>\n",
        "      <td> 0.135</td>\n",
        "      <td> 0</td>\n",
        "      <td> 0.135</td>\n",
        "      <td> 0.000</td>\n",
        "      <td> 0.000</td>\n",
        "      <td> 3.537</td>\n",
        "      <td>  40</td>\n",
        "      <td>  191</td>\n",
        "      <td> 1</td>\n",
        "    </tr>\n",
        "  </tbody>\n",
        "</table>\n",
        "</div>"
       ],
       "metadata": {},
       "output_type": "pyout",
       "prompt_number": 20,
       "text": [
        "   word_freq_make  word_freq_address  word_freq_all  word_freq_3d  \\\n",
        "0            0.00               0.64           0.64             0   \n",
        "1            0.21               0.28           0.50             0   \n",
        "2            0.06               0.00           0.71             0   \n",
        "3            0.00               0.00           0.00             0   \n",
        "4            0.00               0.00           0.00             0   \n",
        "\n",
        "   word_freq_our  word_freq_over  word_freq_remove  word_freq_internet  \\\n",
        "0           0.32            0.00              0.00                0.00   \n",
        "1           0.14            0.28              0.21                0.07   \n",
        "2           1.23            0.19              0.19                0.12   \n",
        "3           0.63            0.00              0.31                0.63   \n",
        "4           0.63            0.00              0.31                0.63   \n",
        "\n",
        "   word_freq_order  word_freq_mail  word_freq_receive  word_freq_will  \\\n",
        "0             0.00            0.00               0.00            0.64   \n",
        "1             0.00            0.94               0.21            0.79   \n",
        "2             0.64            0.25               0.38            0.45   \n",
        "3             0.31            0.63               0.31            0.31   \n",
        "4             0.31            0.63               0.31            0.31   \n",
        "\n",
        "   word_freq_people  word_freq_report  word_freq_addresses  word_freq_free  \\\n",
        "0              0.00              0.00                 0.00            0.32   \n",
        "1              0.65              0.21                 0.14            0.14   \n",
        "2              0.12              0.00                 1.75            0.06   \n",
        "3              0.31              0.00                 0.00            0.31   \n",
        "4              0.31              0.00                 0.00            0.31   \n",
        "\n",
        "   word_freq_business  word_freq_email  word_freq_you  word_freq_credit  \\\n",
        "0                0.00             1.29           1.93              0.00   \n",
        "1                0.07             0.28           3.47              0.00   \n",
        "2                0.06             1.03           1.36              0.32   \n",
        "3                0.00             0.00           3.18              0.00   \n",
        "4                0.00             0.00           3.18              0.00   \n",
        "\n",
        "   word_freq_your  word_freq_font  word_freq_000  word_freq_money  \\\n",
        "0            0.96               0           0.00             0.00   \n",
        "1            1.59               0           0.43             0.43   \n",
        "2            0.51               0           1.16             0.06   \n",
        "3            0.31               0           0.00             0.00   \n",
        "4            0.31               0           0.00             0.00   \n",
        "\n",
        "   word_freq_hp  word_freq_hpl  word_freq_george  word_freq_650  \\\n",
        "0             0              0                 0              0   \n",
        "1             0              0                 0              0   \n",
        "2             0              0                 0              0   \n",
        "3             0              0                 0              0   \n",
        "4             0              0                 0              0   \n",
        "\n",
        "   word_freq_lab  word_freq_labs  word_freq_telnet  word_freq_857  \\\n",
        "0              0               0                 0              0   \n",
        "1              0               0                 0              0   \n",
        "2              0               0                 0              0   \n",
        "3              0               0                 0              0   \n",
        "4              0               0                 0              0   \n",
        "\n",
        "   word_freq_data  word_freq_415  word_freq_85  word_freq_technology  \\\n",
        "0               0              0             0                     0   \n",
        "1               0              0             0                     0   \n",
        "2               0              0             0                     0   \n",
        "3               0              0             0                     0   \n",
        "4               0              0             0                     0   \n",
        "\n",
        "   word_freq_1999  word_freq_parts  word_freq_pm  word_freq_direct  \\\n",
        "0            0.00                0             0              0.00   \n",
        "1            0.07                0             0              0.00   \n",
        "2            0.00                0             0              0.06   \n",
        "3            0.00                0             0              0.00   \n",
        "4            0.00                0             0              0.00   \n",
        "\n",
        "   word_freq_cs  word_freq_meeting  word_freq_original  word_freq_project  \\\n",
        "0             0                  0                0.00                  0   \n",
        "1             0                  0                0.00                  0   \n",
        "2             0                  0                0.12                  0   \n",
        "3             0                  0                0.00                  0   \n",
        "4             0                  0                0.00                  0   \n",
        "\n",
        "   word_freq_re  word_freq_edu  word_freq_table  word_freq_conference  \\\n",
        "0          0.00           0.00                0                     0   \n",
        "1          0.00           0.00                0                     0   \n",
        "2          0.06           0.06                0                     0   \n",
        "3          0.00           0.00                0                     0   \n",
        "4          0.00           0.00                0                     0   \n",
        "\n",
        "   char_freq_;  char_freq_(  char_freq_[  char_freq_!  char_freq_$  \\\n",
        "0         0.00        0.000            0        0.778        0.000   \n",
        "1         0.00        0.132            0        0.372        0.180   \n",
        "2         0.01        0.143            0        0.276        0.184   \n",
        "3         0.00        0.137            0        0.137        0.000   \n",
        "4         0.00        0.135            0        0.135        0.000   \n",
        "\n",
        "   char_freq_#  capital_run_length_average  capital_run_length_longest  \\\n",
        "0        0.000                       3.756                          61   \n",
        "1        0.048                       5.114                         101   \n",
        "2        0.010                       9.821                         485   \n",
        "3        0.000                       3.537                          40   \n",
        "4        0.000                       3.537                          40   \n",
        "\n",
        "   capital_run_length_total  is_spam  \n",
        "0                       278        1  \n",
        "1                      1028        1  \n",
        "2                      2259        1  \n",
        "3                       191        1  \n",
        "4                       191        1  "
       ]
      }
     ],
     "prompt_number": 20
    },
    {
     "cell_type": "markdown",
     "metadata": {},
     "source": [
      "Separate features with iloc indexing"
     ]
    },
    {
     "cell_type": "code",
     "collapsed": false,
     "input": [
      "features = spam_data.iloc[:,:-1]\n",
      "target = spam_data.get('is_spam')\n",
      "\n",
      "# features.head()\n",
      "# target.head()"
     ],
     "language": "python",
     "metadata": {},
     "outputs": [],
     "prompt_number": 11
    },
    {
     "cell_type": "markdown",
     "metadata": {},
     "source": [
      "Convert DataFrames into numpy arrays"
     ]
    },
    {
     "cell_type": "code",
     "collapsed": false,
     "input": [
      "feat_val = features.values\n",
      "target_val = target.values"
     ],
     "language": "python",
     "metadata": {},
     "outputs": [],
     "prompt_number": 21
    },
    {
     "cell_type": "markdown",
     "metadata": {},
     "source": [
      "#### Use crossvalidation to score model"
     ]
    },
    {
     "cell_type": "code",
     "collapsed": false,
     "input": [
      "from sklearn.linear_model import LogisticRegression\n",
      "\n",
      "model_lr = LogisticRegression(C=1).fit\n",
      "cross_validate(feat_val, target_val, model_lr, 10)"
     ],
     "language": "python",
     "metadata": {},
     "outputs": [
      {
       "metadata": {},
       "output_type": "pyout",
       "prompt_number": 22,
       "text": [
        "0.92719183250023585"
       ]
      }
     ],
     "prompt_number": 22
    },
    {
     "cell_type": "markdown",
     "metadata": {},
     "source": [
      "### Exercise 2: Compare Performance of Logistic Regression to KNN"
     ]
    },
    {
     "cell_type": "code",
     "collapsed": false,
     "input": [
      "from sklearn.neighbors import KNeighborsClassifier\n",
      "\n",
      "model_knn = KNeighborsClassifier(11).fit\n",
      "cross_validate(feat_val, target_val, model_knn, 10)"
     ],
     "language": "python",
     "metadata": {},
     "outputs": [
      {
       "metadata": {},
       "output_type": "pyout",
       "prompt_number": 25,
       "text": [
        "0.7906979156842403"
       ]
      }
     ],
     "prompt_number": 25
    },
    {
     "cell_type": "markdown",
     "metadata": {},
     "source": [
      "### Exercise 3: Evaluate Feature Importance"
     ]
    },
    {
     "cell_type": "code",
     "collapsed": false,
     "input": [
      "feature_names = spam_data.columns.values[:-1]\n",
      "feature_names = feature_names[:10]\n",
      "model_lr = LogisticRegression(C=1).fit(feat_val, target_val)\n",
      "x = np.arange(len(feature_names))\n",
      "plt.bar(x, model_lr.coef_.ravel()[:10])\n",
      "_ = plt.xticks(x + 0.5, feature_names, rotation=30)\n",
      "\n"
     ],
     "language": "python",
     "metadata": {},
     "outputs": [
      {
       "metadata": {},
       "output_type": "display_data",
       "png": "iVBORw0KGgoAAAANSUhEUgAAAYkAAAEuCAYAAAB7xO7rAAAABHNCSVQICAgIfAhkiAAAAAlwSFlz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\nQmCC\n",
       "text": [
        "<matplotlib.figure.Figure at 0x104854c10>"
       ]
      }
     ],
     "prompt_number": 56
    },
    {
     "cell_type": "markdown",
     "metadata": {},
     "source": [
      "## ROC (Receiver Operator Characteristic) Plots"
     ]
    },
    {
     "cell_type": "code",
     "collapsed": false,
     "input": [
      "from sklearn.metrics import roc_curve\n",
      "from sklearn.metrics import auc\n",
      "\n",
      "def plot_roc_curve(target_test, target_predicted_proba):\n",
      "    fpr, tpr, thresholds = roc_curve(target_test, target_predicted_proba[:, 1\n",
      "                                                                         ])\n",
      "    roc_auc = auc(fpr, tpr)\n",
      "    \n",
      "    # Plot ROC curve\n",
      "    plt.plot(fpr, tpr, label='ROC curve (area = %0.3f)' % roc_auc)\n",
      "    plt.plot([0, 1], [0, 1], 'k--')  # random predictions curve\n",
      "    plt.xlim([0.0, 1.0])\n",
      "    plt.ylim([0.0, 1.0])\n",
      "    plt.xlabel('False Positive Rate or (1 - Specifity)')\n",
      "    plt.ylabel('True Positive Rate or (Sensitivity)')\n",
      "    plt.title('Receiver Operating Characteristic')\n",
      "    plt.legend(loc=\"lower right\")"
     ],
     "language": "python",
     "metadata": {},
     "outputs": [],
     "prompt_number": 34
    },
    {
     "cell_type": "code",
     "collapsed": false,
     "input": [
      "from sklearn.cross_validation import train_test_split\n",
      "\n",
      "train_feat, test_feat, train_target, test_target = train_test_split(feat_val, target_val, train_size=0.5)"
     ],
     "language": "python",
     "metadata": {},
     "outputs": [],
     "prompt_number": 35
    },
    {
     "cell_type": "code",
     "collapsed": false,
     "input": [
      "model_lr = LogisticRegression(C=1).fit(train_feat, train_target)\n",
      "target_predicted_proba = model_lr.predict_proba(test_feat)"
     ],
     "language": "python",
     "metadata": {},
     "outputs": [],
     "prompt_number": 36
    },
    {
     "cell_type": "code",
     "collapsed": false,
     "input": [
      "plot_roc_curve(test_target, target_predicted_proba)"
     ],
     "language": "python",
     "metadata": {},
     "outputs": [
      {
       "metadata": {},
       "output_type": "display_data",
       "png": "iVBORw0KGgoAAAANSUhEUgAAAYYAAAEZCAYAAACTsIJzAAAABHNCSVQICAgIfAhkiAAAAAlwSFlz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\nRU5ErkJggg==\n",
       "text": [
        "<matplotlib.figure.Figure at 0x109a54f10>"
       ]
      }
     ],
<<<<<<< HEAD
     "prompt_number": 82
    },
    {
     "cell_type": "code",
     "collapsed": false,
     "input": [
      "test_df = pd.DataFrame({'sales':[100,200,300], 'margin':[.3,.2,.15]})\n",
      "test_df['profit'] = test_df['sales'] * test_df['margin']\n",
      "test_df.head()"
     ],
     "language": "python",
     "metadata": {},
     "outputs": [
      {
       "html": [
        "<div style=\"max-height:1000px;max-width:1500px;overflow:auto;\">\n",
        "<table border=\"1\" class=\"dataframe\">\n",
        "  <thead>\n",
        "    <tr style=\"text-align: right;\">\n",
        "      <th></th>\n",
        "      <th>margin</th>\n",
        "      <th>sales</th>\n",
        "      <th>profit</th>\n",
        "    </tr>\n",
        "  </thead>\n",
        "  <tbody>\n",
        "    <tr>\n",
        "      <th>0</th>\n",
        "      <td> 0.30</td>\n",
        "      <td> 100</td>\n",
        "      <td> 30</td>\n",
        "    </tr>\n",
        "    <tr>\n",
        "      <th>1</th>\n",
        "      <td> 0.20</td>\n",
        "      <td> 200</td>\n",
        "      <td> 40</td>\n",
        "    </tr>\n",
        "    <tr>\n",
        "      <th>2</th>\n",
        "      <td> 0.15</td>\n",
        "      <td> 300</td>\n",
        "      <td> 45</td>\n",
        "    </tr>\n",
        "  </tbody>\n",
        "</table>\n",
        "</div>"
       ],
       "metadata": {},
       "output_type": "pyout",
       "prompt_number": 17,
       "text": [
        "   margin  sales  profit\n",
        "0    0.30    100      30\n",
        "1    0.20    200      40\n",
        "2    0.15    300      45"
       ]
      }
     ],
     "prompt_number": 17
=======
     "prompt_number": 37
>>>>>>> 62187afd24ce7a38d531a1afcd317077332439a7
    }
   ],
   "metadata": {}
  }
 ]
}