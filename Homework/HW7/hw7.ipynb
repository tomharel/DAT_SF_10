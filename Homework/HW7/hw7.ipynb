{
 "metadata": {
  "name": "",
  "signature": "sha256:14e18cef665285dde7d99fa4e32ea1bfed5219260b8462a24e0a785166fa463e"
 },
 "nbformat": 3,
 "nbformat_minor": 0,
 "worksheets": [
  {
   "cells": [
    {
     "cell_type": "code",
     "collapsed": false,
     "input": [
      "# Imports\n",
      "import pandas as pd\n",
      "import numpy as np\n",
      "from sklearn.svm import SVC"
     ],
     "language": "python",
     "metadata": {},
     "outputs": [],
     "prompt_number": 1
    },
    {
     "cell_type": "code",
     "collapsed": false,
     "input": [
      "# Import Dataset and name variables\n",
      "df = pd.read_csv('wine.data', header=None)\n",
      "\n",
      "columns = []\n",
      "xvars = []\n",
      "for c in df.columns:\n",
      "    if c == 0:\n",
      "        columns.append('label')\n",
      "    else:\n",
      "        columns.append('x' + str(c))\n",
      "        xvars.append('x' + str(c))\n",
      "df.columns = columns"
     ],
     "language": "python",
     "metadata": {},
     "outputs": [],
     "prompt_number": 2
    },
    {
     "cell_type": "code",
     "collapsed": false,
     "input": [
      "df.info()"
     ],
     "language": "python",
     "metadata": {},
     "outputs": [
      {
       "output_type": "stream",
       "stream": "stdout",
       "text": [
        "<class 'pandas.core.frame.DataFrame'>\n",
        "Int64Index: 178 entries, 0 to 177\n",
        "Data columns (total 14 columns):\n",
        "label    178 non-null int64\n",
        "x1       178 non-null float64\n",
        "x2       178 non-null float64\n",
        "x3       178 non-null float64\n",
        "x4       178 non-null float64\n",
        "x5       178 non-null int64\n",
        "x6       178 non-null float64\n",
        "x7       178 non-null float64\n",
        "x8       178 non-null float64\n",
        "x9       178 non-null float64\n",
        "x10      178 non-null float64\n",
        "x11      178 non-null float64\n",
        "x12      178 non-null float64\n",
        "x13      178 non-null int64\n",
        "dtypes: float64(11), int64(3)"
       ]
      }
     ],
     "prompt_number": 3
    },
    {
     "cell_type": "code",
     "collapsed": false,
     "input": [
      "from sklearn.cross_validation import KFold\n",
      "\n",
      "def cross_validate(X, y, classifier, k_fold) :\n",
      "\n",
      "    # derive a set of (random) training and testing indices\n",
      "    k_fold_indices = KFold(len(X), n_folds=k_fold,\n",
      "                           shuffle=True, random_state=0)\n",
      "\n",
      "    k_score_total = 0\n",
      "    # for each training and testing slices run the classifier, and score the results\n",
      "    for train_slice, test_slice in k_fold_indices :\n",
      "\n",
      "        model = classifier(X[ train_slice  ],\n",
      "                         y[ train_slice  ])\n",
      "\n",
      "        k_score = model.score(X[ test_slice ],\n",
      "                              y[ test_slice ])\n",
      "\n",
      "        k_score_total += k_score\n",
      "\n",
      "    # return the average accuracy\n",
      "    return k_score_total/k_fold"
     ],
     "language": "python",
     "metadata": {},
     "outputs": [],
     "prompt_number": 4
    },
    {
     "cell_type": "heading",
     "level": 2,
     "metadata": {},
     "source": [
      "Questions 1 & 2:"
     ]
    },
    {
     "cell_type": "code",
     "collapsed": false,
     "input": [
      "# Implement SVM Model with Cross Validation\n",
      "X = df[xvars].values\n",
      "y = df.label.values\n",
      "model = SVC()\n",
      "cross_validate(X, y, model.fit, 3)"
     ],
     "language": "python",
     "metadata": {},
     "outputs": [
      {
       "metadata": {},
       "output_type": "pyout",
       "prompt_number": 5,
       "text": [
        "0.43258003766478348"
       ]
      }
     ],
     "prompt_number": 5
    },
    {
     "cell_type": "heading",
     "level": 4,
     "metadata": {},
     "source": [
      "I didn't need to perform several binary classifications. The scikit-learn module supports multiple classifications."
     ]
    },
    {
     "cell_type": "heading",
     "level": 2,
     "metadata": {},
     "source": [
      "Questions 3 & 4:"
     ]
    },
    {
     "cell_type": "code",
     "collapsed": false,
     "input": [
      "# Normalize and repeat model fitting\n",
      "from sklearn import preprocessing\n",
      "X_scaled = preprocessing.scale(X)\n",
      "y = df.label.values\n",
      "model = SVC()\n",
      "cross_validate(X_scaled, y, model.fit, 3)"
     ],
     "language": "python",
     "metadata": {},
     "outputs": [
      {
       "metadata": {},
       "output_type": "pyout",
       "prompt_number": 6,
       "text": [
        "0.98870056497175141"
       ]
      }
     ],
     "prompt_number": 6
    },
    {
     "cell_type": "heading",
     "level": 4,
     "metadata": {},
     "source": [
      "The results look much better after normalization!"
     ]
    },
    {
     "cell_type": "heading",
     "level": 2,
     "metadata": {},
     "source": [
      "Questions 5 & 6:"
     ]
    },
    {
     "cell_type": "code",
     "collapsed": false,
     "input": [
      "# Pipeline\n",
      "from sklearn.pipeline import Pipeline\n",
      "estimators = [('preprocess', preprocessing.StandardScaler()), ('svm', SVC())]\n",
      "clf = Pipeline(estimators)\n",
      "cross_validate(X, y, clf.fit, 3)"
     ],
     "language": "python",
     "metadata": {},
     "outputs": [
      {
       "metadata": {},
       "output_type": "pyout",
       "prompt_number": 7,
       "text": [
        "0.98870056497175141"
       ]
      }
     ],
     "prompt_number": 7
    },
    {
     "cell_type": "code",
     "collapsed": false,
     "input": [
      "# Varying C:\n",
      "clf2 = Pipeline(estimators)\n",
      "clf2.set_params(svm__C=10)\n",
      "cross_validate(X, y, clf2.fit, 3)"
     ],
     "language": "python",
     "metadata": {},
     "outputs": [
      {
       "metadata": {},
       "output_type": "pyout",
       "prompt_number": 8,
       "text": [
        "0.98305084745762716"
       ]
      }
     ],
     "prompt_number": 8
    },
    {
     "cell_type": "code",
     "collapsed": false,
     "input": [
      "# Changing the Kernel\n",
      "clf3 = Pipeline(estimators)\n",
      "clf3.set_params(svm__kernel='sigmoid')\n",
      "cross_validate(X, y, clf3.fit, 3)"
     ],
     "language": "python",
     "metadata": {},
     "outputs": [
      {
       "metadata": {},
       "output_type": "pyout",
       "prompt_number": 9,
       "text": [
        "0.39887005649717516"
       ]
      }
     ],
     "prompt_number": 9
    },
    {
     "cell_type": "heading",
     "level": 4,
     "metadata": {},
     "source": [
      "Changing both C and the Kernel don't improve over the score."
     ]
    },
    {
     "cell_type": "heading",
     "level": 2,
     "metadata": {},
     "source": [
      "Question 7:"
     ]
    },
    {
     "cell_type": "code",
     "collapsed": false,
     "input": [
      "# Grid Search\n",
      "from sklearn.grid_search import GridSearchCV\n",
      "pipe = Pipeline(estimators)\n",
      "params_grid = {'svm__C': [0.01, 0.1, 1, 10, 100, 1000], 'svm__gamma': [0.1, 0.01, 0.001, 0.0001], 'svm__kernel': ['rbf', 'sigmoid', 'linear', 'poly']}\n",
      "gs = GridSearchCV(pipe, params_grid, cv=3)\n",
      "gs.fit(X,y)\n",
      "best_model_params = gs.best_params_\n",
      "best_model_score = gs.best_score_\n",
      "print \"The best model scored {0} with parameters: {1}\".format(best_model_score, best_model_params)"
     ],
     "language": "python",
     "metadata": {},
     "outputs": [
      {
       "output_type": "stream",
       "stream": "stdout",
       "text": [
        "The best model scored 0.988764044944 with parameters: {'svm__C': 10, 'svm__kernel': 'rbf', 'svm__gamma': 0.1}\n"
       ]
      }
     ],
     "prompt_number": 10
    },
    {
     "cell_type": "heading",
     "level": 4,
     "metadata": {},
     "source": [
      "My optimums are depicted above."
     ]
    }
   ],
   "metadata": {}
  }
 ]
}