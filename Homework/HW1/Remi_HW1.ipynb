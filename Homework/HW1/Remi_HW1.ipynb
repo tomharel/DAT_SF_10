{
 "metadata": {
  "name": "",
  "signature": "sha256:c71022ee4cb5215a6eb8e0df18c6cfc3c2d160fbf0c3e7a40f118c01f984597f"
 },
 "nbformat": 3,
 "nbformat_minor": 0,
 "worksheets": [
  {
   "cells": [
    {
     "cell_type": "code",
     "collapsed": false,
     "input": [
      "import json    \n",
      "json_data = open('ga_hw_logins.json')\n",
      "data = json.load(json_data)\n",
      "\n",
      "print \"{} rows in file\".format(len(data))"
     ],
     "language": "python",
     "metadata": {},
     "outputs": [
      {
       "output_type": "stream",
       "stream": "stdout",
       "text": [
        "2267 rows in file\n"
       ]
      }
     ],
     "prompt_number": 1
    },
    {
     "cell_type": "code",
     "collapsed": false,
     "input": [
      "data[:5]"
     ],
     "language": "python",
     "metadata": {},
     "outputs": [
      {
       "metadata": {},
       "output_type": "pyout",
       "prompt_number": 2,
       "text": [
        "[u'2014-01-20 00:01:31',\n",
        " u'2014-01-20 00:01:51',\n",
        " u'2014-01-20 00:02:12',\n",
        " u'2014-01-20 00:03:13',\n",
        " u'2014-01-20 00:05:34']"
       ]
      }
     ],
     "prompt_number": 2
    },
    {
     "cell_type": "code",
     "collapsed": false,
     "input": [
      "from datetime import datetime\n",
      "from dateutil.parser import parse\n",
      "\n",
      "dates = []\n",
      "for date in data:\n",
      "    dates.append(parse(date))\n",
      "\n",
      "dates[:5]"
     ],
     "language": "python",
     "metadata": {},
     "outputs": [
      {
       "metadata": {},
       "output_type": "pyout",
       "prompt_number": 3,
       "text": [
        "[datetime.datetime(2014, 1, 20, 0, 1, 31),\n",
        " datetime.datetime(2014, 1, 20, 0, 1, 51),\n",
        " datetime.datetime(2014, 1, 20, 0, 2, 12),\n",
        " datetime.datetime(2014, 1, 20, 0, 3, 13),\n",
        " datetime.datetime(2014, 1, 20, 0, 5, 34)]"
       ]
      }
     ],
     "prompt_number": 3
    },
    {
     "cell_type": "code",
     "collapsed": false,
     "input": [
      "import sqlite3\n",
      "conn = sqlite3.connect('hw1.db')\n",
      "db = conn.cursor()"
     ],
     "language": "python",
     "metadata": {},
     "outputs": [],
     "prompt_number": 4
    },
    {
     "cell_type": "code",
     "collapsed": false,
     "input": [
      "# Create table\n",
      "db.execute('CREATE TABLE IF NOT EXISTS ga_hw_logins \\\n",
      "            (timestamp datetime)')\n",
      "\n",
      "# Clear everything (useful when running multiple times)\n",
      "# db.execute('DELETE FROM ga_hw_logins')"
     ],
     "language": "python",
     "metadata": {},
     "outputs": [
      {
       "metadata": {},
       "output_type": "pyout",
       "prompt_number": 5,
       "text": [
        "<sqlite3.Cursor at 0x101518c00>"
       ]
      }
     ],
     "prompt_number": 5
    },
    {
     "cell_type": "code",
     "collapsed": false,
     "input": [
      "# count rows\n",
      "db.execute(\"SELECT count(*) FROM ga_hw_logins\")\n",
      "print \"{} rows in table\".format(db.fetchone()[0])"
     ],
     "language": "python",
     "metadata": {},
     "outputs": [
      {
       "output_type": "stream",
       "stream": "stdout",
       "text": [
        "0 rows in table\n"
       ]
      }
     ],
     "prompt_number": 6
    },
    {
     "cell_type": "code",
     "collapsed": false,
     "input": [
      "# Insert all timestamps\n",
      "for date in dates:\n",
      "    sql = \"INSERT INTO ga_hw_logins VALUES ('{}')\".format(date)\n",
      "    db.execute(sql)\n",
      "    \n",
      "# count rows\n",
      "db.execute(\"SELECT count(*) FROM ga_hw_logins\")\n",
      "print \"{} rows in table\".format(db.fetchone()[0])"
     ],
     "language": "python",
     "metadata": {},
     "outputs": [
      {
       "output_type": "stream",
       "stream": "stdout",
       "text": [
        "2267 rows in table\n"
       ]
      }
     ],
     "prompt_number": 7
    },
    {
     "cell_type": "code",
     "collapsed": false,
     "input": [
      "# All day/hour tuples ordered by number of logins DESC\n",
      "query = \"SELECT strftime('%d', timestamp) AS day, \\\n",
      "                strftime('%H', timestamp) AS hour, \\\n",
      "                count(*) \\\n",
      "         FROM ga_hw_logins \\\n",
      "         GROUP BY day, hour \\\n",
      "         ORDER BY count(*) DESC \\\n",
      "         LIMIT 5\"\n",
      "db.execute(query)\n",
      "db.fetchall()"
     ],
     "language": "python",
     "metadata": {},
     "outputs": [
      {
       "metadata": {},
       "output_type": "pyout",
       "prompt_number": 8,
       "text": [
        "[(u'22', u'02', 54),\n",
        " (u'22', u'21', 51),\n",
        " (u'22', u'01', 50),\n",
        " (u'22', u'03', 48),\n",
        " (u'23', u'02', 48)]"
       ]
      }
     ],
     "prompt_number": 8
    },
    {
     "cell_type": "code",
     "collapsed": false,
     "input": [
      "# 2 to 3 am on the 22nd is the hour with most logins with 54 logins"
     ],
     "language": "python",
     "metadata": {},
     "outputs": [],
     "prompt_number": 76
    }
   ],
   "metadata": {}
  }
 ]
}