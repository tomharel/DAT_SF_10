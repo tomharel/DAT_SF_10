{
 "metadata": {
  "name": "",
  "signature": "sha256:05a36a1a885526b4272cd177d85625eacaaa1c4d6909429ca00a7c5112a8e95b"
 },
 "nbformat": 3,
 "nbformat_minor": 0,
 "worksheets": [
  {
   "cells": [
    {
     "cell_type": "code",
     "collapsed": false,
     "input": [
      "# Step 1: Load the data from the json file into your python environment\n",
      "import json\n",
      "json_data = open('ga_hw_logins.json')\n",
      "data = json.load(json_data)"
     ],
     "language": "python",
     "metadata": {},
     "outputs": [],
     "prompt_number": 1
    },
    {
     "cell_type": "code",
     "collapsed": false,
     "input": [
      "# Step 2: Convert the strings into datetime objects and append them to a list\n",
      "import datetime\n",
      "date_list = []\n",
      "for i in data[:5]:\n",
      "    date_object = datetime.datetime.strptime(i, '%Y-%m-%d %H:%M:%S')\n",
      "    date_list += [date_object]\n",
      "print date_list[0:2]"
     ],
     "language": "python",
     "metadata": {},
     "outputs": [
      {
       "output_type": "stream",
       "stream": "stdout",
       "text": [
        "[datetime.datetime(2014, 1, 20, 0, 1, 31), datetime.datetime(2014, 1, 20, 0, 1, 51)]\n"
       ]
      }
     ],
     "prompt_number": 3
    },
    {
     "cell_type": "code",
     "collapsed": false,
     "input": [
      "# Extra Credit\n",
      "import sqlite3\n",
      "conn = sqlite3.connect('x.db')\n",
      "\n",
      "c = conn.cursor()\n",
      "\n",
      "# Create table\n",
      "c.execute(\"CREATE TABLE dates (y datetime)\")"
     ],
     "language": "python",
     "metadata": {},
     "outputs": [
      {
       "metadata": {},
       "output_type": "pyout",
       "prompt_number": 33,
       "text": [
        "<sqlite3.Cursor at 0xa7be3b0>"
       ]
      }
     ],
     "prompt_number": 33
    },
    {
     "cell_type": "code",
     "collapsed": false,
     "input": [
      "for j in data:\n",
      "    c.execute(\"INSERT INTO dates VALUES ('\" + j + \"')\")"
     ],
     "language": "python",
     "metadata": {},
     "outputs": [],
     "prompt_number": 47
    },
    {
     "cell_type": "code",
     "collapsed": false,
     "input": [
      "c.execute(\"SELECT date(y) as date, strftime('%H', y) as hour, count(1) FROM dates GROUP BY 1, 2 ORDER BY 3 DESC\")\n",
      "c.fetchone()\n",
      "conn.close()"
     ],
     "language": "python",
     "metadata": {},
     "outputs": [
      {
       "metadata": {},
       "output_type": "pyout",
       "prompt_number": 63,
       "text": [
        "(u'2014-01-22', u'02', 54)"
       ]
      }
     ],
     "prompt_number": 63
    }
   ],
   "metadata": {}
  }
 ]
}